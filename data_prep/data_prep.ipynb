{
 "metadata": {
  "language_info": {
   "codemirror_mode": {
    "name": "ipython",
    "version": 3
   },
   "file_extension": ".py",
   "mimetype": "text/x-python",
   "name": "python",
   "nbconvert_exporter": "python",
   "pygments_lexer": "ipython3",
   "version": "3.8.3-final"
  },
  "orig_nbformat": 2,
  "kernelspec": {
   "name": "python3",
   "display_name": "Python 3",
   "language": "python"
  }
 },
 "nbformat": 4,
 "nbformat_minor": 2,
 "cells": [
  {
   "cell_type": "code",
   "execution_count": 13,
   "metadata": {},
   "outputs": [
    {
     "output_type": "stream",
     "name": "stdout",
     "text": [
      "Requirement already satisfied: yahooquery in /home/muditj/anaconda3/lib/python3.8/site-packages (2.2.12)\n",
      "Requirement already satisfied: requests-futures>=1.0.0 in /home/muditj/anaconda3/lib/python3.8/site-packages (from yahooquery) (1.0.0)\n",
      "Requirement already satisfied: tqdm>=4.54.1 in /home/muditj/anaconda3/lib/python3.8/site-packages (from yahooquery) (4.56.0)\n",
      "Requirement already satisfied: pandas>=0.24.0 in /home/muditj/anaconda3/lib/python3.8/site-packages (from yahooquery) (1.0.5)\n",
      "Requirement already satisfied: lxml>=4.6.2 in /home/muditj/anaconda3/lib/python3.8/site-packages (from yahooquery) (4.6.2)\n",
      "Requirement already satisfied: requests>=1.2.0 in /home/muditj/anaconda3/lib/python3.8/site-packages (from requests-futures>=1.0.0->yahooquery) (2.24.0)\n",
      "Requirement already satisfied: numpy>=1.13.3 in /home/muditj/anaconda3/lib/python3.8/site-packages (from pandas>=0.24.0->yahooquery) (1.18.5)\n",
      "Requirement already satisfied: python-dateutil>=2.6.1 in /home/muditj/anaconda3/lib/python3.8/site-packages (from pandas>=0.24.0->yahooquery) (2.8.1)\n",
      "Requirement already satisfied: pytz>=2017.2 in /home/muditj/anaconda3/lib/python3.8/site-packages (from pandas>=0.24.0->yahooquery) (2020.1)\n",
      "Requirement already satisfied: urllib3!=1.25.0,!=1.25.1,<1.26,>=1.21.1 in /home/muditj/anaconda3/lib/python3.8/site-packages (from requests>=1.2.0->requests-futures>=1.0.0->yahooquery) (1.25.9)\n",
      "Requirement already satisfied: certifi>=2017.4.17 in /home/muditj/anaconda3/lib/python3.8/site-packages (from requests>=1.2.0->requests-futures>=1.0.0->yahooquery) (2020.6.20)\n",
      "Requirement already satisfied: chardet<4,>=3.0.2 in /home/muditj/anaconda3/lib/python3.8/site-packages (from requests>=1.2.0->requests-futures>=1.0.0->yahooquery) (3.0.4)\n",
      "Requirement already satisfied: idna<3,>=2.5 in /home/muditj/anaconda3/lib/python3.8/site-packages (from requests>=1.2.0->requests-futures>=1.0.0->yahooquery) (2.10)\n",
      "Requirement already satisfied: six>=1.5 in /home/muditj/anaconda3/lib/python3.8/site-packages (from python-dateutil>=2.6.1->pandas>=0.24.0->yahooquery) (1.15.0)\n"
     ]
    }
   ],
   "source": [
    "# Getting valid data from yahoo finance\n",
    "!pip install yahooquery\n",
    "\n",
    "import yahooquery as yfin"
   ]
  },
  {
   "cell_type": "code",
   "execution_count": 15,
   "metadata": {},
   "outputs": [],
   "source": [
    "symbol = 'QCOM'\n",
    "ticker = yfin.Ticker(symbol)"
   ]
  },
  {
   "cell_type": "code",
   "execution_count": 17,
   "metadata": {},
   "outputs": [
    {
     "output_type": "execute_result",
     "data": {
      "text/plain": [
       "{'QCOM': {'language': 'en-US',\n",
       "  'region': 'US',\n",
       "  'quoteType': 'EQUITY',\n",
       "  'quoteSourceName': 'Delayed Quote',\n",
       "  'triggerable': True,\n",
       "  'currency': 'USD',\n",
       "  'sourceInterval': 15,\n",
       "  'exchangeDataDelayedBy': 0,\n",
       "  'tradeable': False,\n",
       "  'postMarketChangePercent': 0.08914213,\n",
       "  'postMarketTime': 1612573197,\n",
       "  'postMarketPrice': 145.97,\n",
       "  'postMarketChange': 0.13000488,\n",
       "  'regularMarketChange': -2.130005,\n",
       "  'regularMarketChangePercent': -1.4394844,\n",
       "  'regularMarketTime': 1612558801,\n",
       "  'regularMarketPrice': 145.84,\n",
       "  'regularMarketDayHigh': 148.9,\n",
       "  'regularMarketDayRange': '144.62 - 148.9',\n",
       "  'regularMarketDayLow': 144.62,\n",
       "  'regularMarketVolume': 24695403,\n",
       "  'regularMarketPreviousClose': 147.97,\n",
       "  'bid': 145.94,\n",
       "  'ask': 145.97,\n",
       "  'bidSize': 9,\n",
       "  'askSize': 11,\n",
       "  'fullExchangeName': 'NasdaqGS',\n",
       "  'financialCurrency': 'USD',\n",
       "  'regularMarketOpen': 148.85,\n",
       "  'averageDailyVolume3Month': 8959654,\n",
       "  'averageDailyVolume10Day': 16820500,\n",
       "  'fiftyTwoWeekLowChange': 87.84,\n",
       "  'fiftyTwoWeekLowChangePercent': 1.5144827,\n",
       "  'fiftyTwoWeekRange': '58.0 - 167.94',\n",
       "  'fiftyTwoWeekHighChange': -22.100006,\n",
       "  'fiftyTwoWeekHighChangePercent': -0.13159466,\n",
       "  'fiftyTwoWeekLow': 58.0,\n",
       "  'fiftyTwoWeekHigh': 167.94,\n",
       "  'dividendDate': 1616630400,\n",
       "  'earningsTimestamp': 1612368063,\n",
       "  'earningsTimestampStart': 1619521140,\n",
       "  'earningsTimestampEnd': 1620043200,\n",
       "  'trailingAnnualDividendRate': 2.57,\n",
       "  'trailingPE': 24.929914,\n",
       "  'trailingAnnualDividendYield': 0.017368386,\n",
       "  'epsTrailingTwelveMonths': 5.85,\n",
       "  'epsForward': 8.11,\n",
       "  'epsCurrentYear': 7.29,\n",
       "  'priceEpsCurrentYear': 20.005487,\n",
       "  'sharesOutstanding': 1136000000,\n",
       "  'bookValue': 6.496,\n",
       "  'fiftyDayAverage': 155.25781,\n",
       "  'fiftyDayAverageChange': -9.417816,\n",
       "  'fiftyDayAverageChangePercent': -0.06065921,\n",
       "  'twoHundredDayAverage': 132.16957,\n",
       "  'twoHundredDayAverageChange': 13.670425,\n",
       "  'twoHundredDayAverageChangePercent': 0.10343096,\n",
       "  'marketCap': 165674237952,\n",
       "  'forwardPE': 17.982738,\n",
       "  'priceToBook': 22.450739,\n",
       "  'firstTradeDateMilliseconds': 692634600000,\n",
       "  'priceHint': 2,\n",
       "  'marketState': 'CLOSED',\n",
       "  'exchange': 'NMS',\n",
       "  'shortName': 'QUALCOMM Incorporated',\n",
       "  'longName': 'QUALCOMM Incorporated',\n",
       "  'messageBoardId': 'finmb_33493',\n",
       "  'exchangeTimezoneName': 'America/New_York',\n",
       "  'exchangeTimezoneShortName': 'EST',\n",
       "  'gmtOffSetMilliseconds': -18000000,\n",
       "  'market': 'us_market',\n",
       "  'esgPopulated': False,\n",
       "  'displayName': 'Qualcomm'}}"
      ]
     },
     "metadata": {},
     "execution_count": 17
    }
   ],
   "source": [
    "ticker.quotes"
   ]
  },
  {
   "cell_type": "code",
   "execution_count": 19,
   "metadata": {},
   "outputs": [
    {
     "output_type": "stream",
     "name": "stdout",
     "text": [
      "            maxAge  epsActual  epsEstimate  epsDifference  surprisePercent  \\\nsymbol row                                                                   \nQCOM   0         1       0.88         0.78           0.10            0.128   \n       1         1       0.86         0.71           0.15            0.211   \n       2         1       1.45         1.17           0.28            0.239   \n       3         1       2.17         2.10           0.07            0.033   \n\n               quarter period  \nsymbol row                     \nQCOM   0    2020-03-31    -4q  \n       1    2020-06-30    -3q  \n       2    2020-09-30    -2q  \n       3    2020-12-31    -1q  \n"
     ]
    }
   ],
   "source": [
    "earnings = ticker.earning_history\n",
    "print(earnings)"
   ]
  },
  {
   "cell_type": "code",
   "execution_count": 22,
   "metadata": {},
   "outputs": [
    {
     "output_type": "stream",
     "name": "stdout",
     "text": [
      "                         high         low       close        open   volume  \\\nsymbol date                                                                  \nQCOM   2017-01-03   66.139999   64.599998   65.400002   65.860001  9519800   \n       2017-01-04   65.949997   65.260002   65.470001   65.669998  6221700   \n       2017-01-05   65.980003   65.050003   65.550003   65.220001  5998900   \n       2017-01-06   65.870003   64.860001   65.529999   65.480003  6749400   \n       2017-01-09   66.269997   65.489998   65.650002   65.529999  4769200   \n...                       ...         ...         ...         ...      ...   \n       2020-12-24  148.899994  147.199997  148.789993  147.800003  2120200   \n       2020-12-28  151.070007  147.440002  147.740005  150.619995  4576600   \n       2020-12-29  148.990005  147.029999  148.490005  148.970001  3543800   \n       2020-12-30  151.610001  148.919998  149.949997  149.119995  3965600   \n       2020-12-31  152.559998  150.100006  152.339996  150.320007  4940800   \n\n                     adjclose  dividends  \nsymbol date                               \nQCOM   2017-01-03   56.918739        0.0  \n       2017-01-04   56.979656        0.0  \n       2017-01-05   57.049290        0.0  \n       2017-01-06   57.031876        0.0  \n       2017-01-09   57.136318        0.0  \n...                       ...        ...  \n       2020-12-24  148.789993        0.0  \n       2020-12-28  147.740005        0.0  \n       2020-12-29  148.490005        0.0  \n       2020-12-30  149.949997        0.0  \n       2020-12-31  152.339996        0.0  \n\n[1007 rows x 7 columns]\n"
     ]
    }
   ],
   "source": [
    "history = ticker.history(start='2017-01-01', end='2021-01-01')\n",
    "print(history)"
   ]
  },
  {
   "cell_type": "code",
   "execution_count": 38,
   "metadata": {
    "tags": []
   },
   "outputs": [
    {
     "output_type": "stream",
     "name": "stdout",
     "text": [
      "5G Stocks To Buy And Watch: China Early Driver Of Apple IPhone &#39;Supercycle&#39;\nSamsung Net Profit Misses Estimates After 5G iPhone’s Debut\nQualcomm loses fight against EU antitrust regulators&#39; data demand\nIntel’s Incoming CEO Gelsinger Lures Back Engineering Talent\nAT&amp;T (T) Beats Q4 Earnings Estimates on Wireless Traction\nAMD Gives Upbeat Sales Forecast on Demand for Chips\nQualcomm (QCOM) Dips More Than Broader Markets: What You Should Know\nStrong Tech Dividend Stocks to Buy with Nasdaq at Records\nQualcomm’s automotive showcase debuts new tech\nBest Dividend Stocks for February 2021\nBetter Buy: NVIDIA vs. Qualcomm\nQualcomm to supply General Motors with &#39;cockpit&#39; chips for next generation vehicles\nVerizon (VZ) Beats Q4 Earnings Estimates, Offers Bullish View\nNokia (NOK) Spurs AI-Driven Solutions Across CMCC&#39;s Network\nVeoneer Inks Driver Assistance Software Partnership With Qualcomm\n5G Stocks To Buy And Watch: Apple Earnings Due Amid 5G &#39;Supercycle&#39; Expectations\nAuto tech firm Veoneer inks collaboration deal with Qualcomm, shares rise\n7 Undervalued Stocks That Could Perk Up Under Democratic Leadership\n15 Biggest VR Companies in the World\nSamsung Considers $10 Billion Texas Chipmaking Plant, Sources Say\nQualcomm Schedules First Quarter Fiscal 2021 Earnings Release and Conference Call\nHuawei&#39;s Honor Spinoff Unveils 5G Smartphones With Intel, Nvidia Chips\nNokia (NOK) Powers Mobily&#39;s Network With 4G/5G FWA Network Slicing\nThe Zacks Analyst Blog Highlights: Novartis, QUALCOMM, Accenture, MetLife and Electronic Arts\n----------------------------\n5G Stocks To Buy And Watch: China Early Driver Of Apple IPhone &#39;Supercycle&#39;\nSamsung Net Profit Misses Estimates After 5G iPhone’s Debut\nQualcomm loses fight against EU antitrust regulators&#39; data demand\nIntel’s Incoming CEO Gelsinger Lures Back Engineering Talent\nAT&amp;T (T) Beats Q4 Earnings Estimates on Wireless Traction\nAMD Gives Upbeat Sales Forecast on Demand for Chips\nQualcomm (QCOM) Dips More Than Broader Markets: What You Should Know\nStrong Tech Dividend Stocks to Buy with Nasdaq at Records\nQualcomm’s automotive showcase debuts new tech\nBest Dividend Stocks for February 2021\nBetter Buy: NVIDIA vs. Qualcomm\nQualcomm to supply General Motors with &#39;cockpit&#39; chips for next generation vehicles\nVerizon (VZ) Beats Q4 Earnings Estimates, Offers Bullish View\nNokia (NOK) Spurs AI-Driven Solutions Across CMCC&#39;s Network\nVeoneer Inks Driver Assistance Software Partnership With Qualcomm\n5G Stocks To Buy And Watch: Apple Earnings Due Amid 5G &#39;Supercycle&#39; Expectations\nAuto tech firm Veoneer inks collaboration deal with Qualcomm, shares rise\n7 Undervalued Stocks That Could Perk Up Under Democratic Leadership\n15 Biggest VR Companies in the World\nSamsung Considers $10 Billion Texas Chipmaking Plant, Sources Say\nQualcomm Schedules First Quarter Fiscal 2021 Earnings Release and Conference Call\nHuawei&#39;s Honor Spinoff Unveils 5G Smartphones With Intel, Nvidia Chips\nNokia (NOK) Powers Mobily&#39;s Network With 4G/5G FWA Network Slicing\nThe Zacks Analyst Blog Highlights: Novartis, QUALCOMM, Accenture, MetLife and Electronic Arts\n2021-01-28 13:50:55\n"
     ]
    }
   ],
   "source": [
    "# Understanding the output of yahoo query for news\n",
    "from datetime import datetime\n",
    "news = ticker.news(start='2021-01-30')\n",
    "for i in range(len(news)):\n",
    "    print(news[i]['title'])\n",
    "print(\"----------------------------\")\n",
    "news = ticker.news(start='2021-01-29')\n",
    "for i in range(len(news)):\n",
    "    print(news[i]['title'])\n",
    "\n",
    "utime = news[0]['provider_publish_time']\n",
    "print(datetime.utcfromtimestamp(int(utime)).strftime('%Y-%m-%d %H:%M:%S'))"
   ]
  },
  {
   "cell_type": "code",
   "execution_count": 85,
   "metadata": {},
   "outputs": [
    {
     "output_type": "stream",
     "name": "stdout",
     "text": [
      "{'rank': 0, 'id': '6d6ee9d2-efdb-3856-829b-bbc954a3034c', 'tag': 'news', 'title': '5G Stocks To Buy And Watch: China Early Driver Of Apple IPhone &#39;Supercycle&#39;', 'summary': 'The best 5G stocks to invest in will change over time. The consumer smartphone market will evolve into broader 5G wireless enterprise opportunities.', 'url': 'https://www.investors.com/news/technology/5g-stocks-5g-wireless-stocks-branch/?src=A00220&yptr=yahoo', 'author_name': 'REINHARDT KRAUSE', 'provider_publish_time': 1611841855, 'provider_name': \"Investor's Business Daily\", 'hosted': False, 'tickers': ['QCOM'], 'thumbnail': 'https://media.zenfs.com/en/ibd.com/7d433d66140b3ad73066842ec66b305b', 'featured': False, 'timeZoneShortName': 'EST', 'timeZoneFullName': 'America/New_York', 'gmtOffSetMilliseconds': -18000000, 'imageSet': {}}\n"
     ]
    }
   ],
   "source": [
    "print(news[0])"
   ]
  },
  {
   "cell_type": "code",
   "execution_count": 129,
   "metadata": {
    "tags": [
     "outputPrepend"
    ]
   },
   "outputs": [
    {
     "output_type": "stream",
     "name": "stdout",
     "text": [
      " to benefit from strong demand for its F-35 and F-16 fighter jets as well as its missiles and other defense and aerospace products. Lockheed reported strong Q3 numbers in October, when earnings beat estimates by 18 cents. Its EPS rose 24% over the last three years. Aerospace operations are expected by some analysts to be the area for fastest growth. In addition to expected strong demand for its defense products, LMT stock holds appeal because of its dividend yield of nearly 3%. This beats many income stocks. Writing in InvestorPlace recently, Bob Ciura recently described Lockheed Martin as “a top blue-chip stock for dividend growth investors, as well as the rare security that sidesteps the typical growth versus value tradeoff.” On the date of publication, Larry Sullivan held a long position in AAPL. Larry Sullivan is a veteran journalist in Florida who has covered banking and finance for several years. He is a former investing editor at U.S. News & World Report in Washington D.C. and began writing for InvestorPlace in 2020. More From InvestorPlace Why Everyone Is Investing in 5G All WRONG Top Stock Picker Reveals His Next 1,000% Winner It doesn’t matter if you have $500 in savings or $5 million. Do this now. The post 7 Undervalued Stocks That Could Perk Up Under Democratic Leadership appeared first on InvestorPlace.']\n",
      "['2021-01-22', '15 Biggest VR Companies in the World', 'In this article, we are going to list the 15 biggest VR companies in the world. Click to skip ahead and jump to the 5 biggest VR companies in the world. Virtual Reality (VR) is defined as a computer-generated simulation in which a person can interact within an artificial three-dimensional environment using electronic devices such as a […]']\n",
      "['2021-01-22', 'Samsung Considers $10 Billion Texas Chipmaking Plant, Sources Say', '(Bloomberg) -- Samsung Electronics Co. is considering spending more than $10 billion building its most advanced logic chipmaking plant in the U.S., a major investment it hopes will win more American clients and help it catch up with industry leader Taiwan Semiconductor Manufacturing Co.The world’s largest memory chip and smartphone maker is in discussions to locate a facility in Austin, Texas, capable of fabricating chips as advanced as 3 nanometers in the future, people familiar with the matter said. Plans are preliminary and subject to change but for now the aim is to kick off construction this year, install major equipment from 2022, then begin operations as early as 2023, they said. While the investment amount could fluctuate, Samsung’s plans would mean upwards of $10 billion to bankroll the project, one of the people said.Samsung is taking advantage of a concerted U.S. government effort to counter China’s rising economic prowess and lure back home some of the advanced manufacturing that over the past decades has gravitated toward Asia. The hope is that such production bases in the U.S. will galvanize local businesses and support American industry and chip design. Intel Corp.’s troubles ramping up on technology and its potential reliance in the future on TSMC and Samsung for at least some of its chipmaking only underscored the extent to which Asian giants have forged ahead in recent years.The envisioned plant will be its first in the U.S. to use extreme ultraviolet lithography, the standard for next-generation silicon, the people said, asking not to be identified talking about internal deliberations. Asked about plans for a U.S. facility, Samsung said in an email no decision has yet been made.“If Samsung really wants to realize its goal to become the top chipmaker by 2030, it needs massive investment in the U.S. to catch up with TSMC,” said Greg Roh, senior vice president at HMC Securities. “TSMC is likely to keep making progress in process nodes to 3nm at its Arizona plant and Samsung may do the same. One challenging task is to secure EUV equipment now, when Hynix and Micron are also seeking to purchase the machines.”Read more: Intel Talks With TSMC, Samsung to Outsource Some Chip ProductionIf Samsung goes ahead, it would effectively go head-to-head on American soil with TSMC, which is on track to build its own $12 billion chip plant in Arizona by 2024. Samsung is trying to catch TSMC in the so-called foundry business of making chips for the world’s corporations -- a particularly pivotal capability given a deepening shortage of semiconductors in recent weeks.Under Samsung family scion Jay Y. Lee, the company has said it wants to be the biggest player in the $400 billion chip industry. It plans to invest $116 billion into its foundry and chip design businesses over the next decade, aiming to catch TSMC by offering chips made using 3-nanometer technology in 2022.It already dominates the market for memory chips and is trying to increase its presence in the more profitable market for logic devices, such as the processors that run smartphones and computers. It already counts Qualcomm Inc. and Nvidia Corp. as customers, companies that historically relied on TSMC exclusively. It has two EUV plants, one near its main chip site in Hwaseong, south of Seoul, and another coming online nearby at Pyeongtaek.To close a deal, Samsung may need time to negotiate potential incentives with U.S. President Joe Biden’s administration. The company has hired people in Washington D.C. to lobby on behalf of the deal and is ready to go ahead with the new administration in place, the people said. Tax benefits and subsidies will ease Samsung’s financial burden, but the company may go ahead even without major incentives, one of the people said.Samsung has been looking into overseas chipmaking for years. Intensifying trade tensions between the U.S. and China and now Covid-19 are stoking uncertainty over the reliability and economics of the global supply chain. Plants in the U.S. could help the Korean chipmaker strike better deals with key clients in the U.S., particularly in competition with TSMC.From Microsoft Corp. to Amazon.com Inc. and Google, the world’s largest cloud computing firms are increasingly designing their own silicon to power their vast data centers more efficiently. All need manufacturers like TSMC or Samsung to turn their blueprints into reality.Samsung’s U.S. branch purchased land in October next to its existing Austin fab, which is capable of running older processes. The Austin City Council held a meeting in December to discuss Samsung’s request to rezone that parcel of land for industrial development, according to meeting minutes.The Korean company’s existing Texas facility is too small to to meet increasing orders for outsourced chips coming from Qualcomm, Intel and Tesla, according to research by Citibank. Intel in particular is likely to funnel more orders toward Samsung to offset any reliance on TSMC for its foundry needs, the brokerage said in a report.Late Thursday, Intel’s incoming Chief Executive Officer Pat Gelsinger told investors he was likely to keep most production of the company’s best processors in-house and that the delayed introduction of new manufacturing technology was showing signs of improving. Still, his comments disappointed some investors who have been lobbying for more outsourcing by the world’s largest chipmaker. Intel shares dropped as much as 9% in New York trading Friday, the most since October. Rival Advanced Micro Devices Inc., which relies on TSMC for production, gained as much as 4.8%.Read more: Samsung Intensifies Chip Wars With Bet It Can Catch TSMC by 2022Some analysts question Samsung’s ability to carve out a significant share of a market dominated by TSMC, which is spending a record $28 billion this year to ensure it remains at the forefront of technology and capacity. For its part, Samsung’s semiconductor division spent $26 billion on capital expenditure in 2020, but that’s been largely in support of its dominant memory business and not all of its expertise in making memory is directly relevant to creating advanced logic chips.Processors are more complex to manufacture than memory and their production yields are harder to control and scale up in the same way. Foundry customers also require bespoke solutions, imposing another barrier to rapid expansion and also making Samsung dependent on customers’ designs. But the Korean giant can draw confidence from its work with Nvidia, whose chief executive officer has sung Samsung’s praises in collaborating on the manufacturing for its latest graphics card silicon.(Updates with Intel plans in 14th paragraph.)For more articles like this, please visit us at bloomberg.comSubscribe now to stay ahead with the most trusted business news source.©2021 Bloomberg L.P.']\n",
      "['2021-01-22', 'Qualcomm Schedules First Quarter Fiscal 2021 Earnings Release and Conference Call', 'Qualcomm Incorporated (NASDAQ: QCOM) today announced that it will publish the Company&#39;s financial results for its first quarter fiscal 2021 on Wednesday, February 3, 2021, after the close of the market on the Company&#39;s Investor Relations website, at https://investor.qualcomm.com/financial-information. The earnings release will also be furnished to the Securities and Exchange Commission (SEC) on a Form 8-K, which will be available on the SEC website at http://www.sec.gov.']\n",
      "['2021-01-22', 'Huawei&#39;s Honor Spinoff Unveils 5G Smartphones With Intel, Nvidia Chips', '(Bloomberg) -- Huawei Technologies Co.’s smartphone spinoff unveiled new devices Friday featuring chips from Intel Corp., MediaTek Inc. and Nvidia Corp., saying it reached agreements with its global partners to resume supplies cut off by U.S. sanctions on its former parent.Most of the suppliers of Honor Device Co., the budget phone brand sold by Huawei last November, have resumed doing business with the newly created company, Honor’s chief executive George Zhao said. There’s no restriction when choosing component and software suppliers, said Zhao, adding that it’s in talks with other firms including Qualcomm Inc., Advanced Micro Devices Inc., Micron Technology Inc. and Samsung Electronics Co.Huawei had hived off Honor to a Chinese government-backed consortium last year as the technology giant grappled with Trump administration sanctions that cut off its supply of mobile chipsets. The Shenzhen-based company is said to have safeguarded its core telecom equipment business by stockpiling critical components to continue supplying its home country’s 5G rollout but it lacks inventory for its smartphone business, which was once larger than Samsung’s.Honor’s latest smartphones featuring fifth-generation wireless capability use mobile chips developed by Taiwanese chipmaker MediaTek, the company announced on Friday. Its new laptop is equipped with Intel’s central processing units and a graphic processor made by Nvidia.“Based on global consumer needs, Honor has the flexibility and independence to choose the best solutions for its global supply chain,” the company said in a statement announcing its newest line-up. “Honor has already confirmed partnerships with leading suppliers such as AMD, Intel, MediaTek, Micron Technology, Microsoft, Qualcomm, Samsung, SK Hynix and Sony.”A MediaTek spokesman didn’t immediately reply to questions about whether it had entered into an agreement with Honor. Intel, Nvidia and Qualcomm didn’t immediately respond to emails from Bloomberg News seeking comments.For more articles like this, please visit us at bloomberg.comSubscribe now to stay ahead with the most trusted business news source.©2021 Bloomberg L.P.']\n",
      "['2021-01-20', 'Qualcomm (QCOM) Gains But Lags Market: What You Should Know', 'Qualcomm (QCOM) closed at $164.60 in the latest trading session, marking a +0.51% move from the prior day.']\n",
      "['2021-01-20', 'Qualcomm&#39;s Strong Composite Rating Strengthens', 'Chipmaking giant Qualcomm saw an improvement in its IBD SmartSelect Composite Rating Wednesday, from 94 to 97.  Qualcomm is trading within a buy range from a 161.17 entry from a flat base.  The revised score means the stock currently tops 97% of all other stocks in terms of key performance metrics and technical strength.']\n",
      "['2021-01-20', 'Top Technology Stocks for February 2021', 'These are the technology stocks with the best value, fastest growth, and most momentum for February 2021.']\n",
      "['2021-01-20', 'Top Stock Reports for Novartis, QUALCOMM & Accenture', 'Top Stock Reports for Novartis, QUALCOMM & Accenture']\n",
      "['2021-01-28', '5G Stocks To Buy And Watch: China Early Driver Of Apple IPhone &#39;Supercycle&#39;', 'The best 5G stocks to invest in will change over time. The consumer smartphone market will evolve into broader 5G wireless enterprise opportunities.']\n",
      "['2021-01-28', 'Samsung Net Profit Misses Estimates After 5G iPhone’s Debut', '(Bloomberg) -- Samsung Electronics Co. missed analyst estimates for the fourth quarter and warned profitability will likely decline this quarter, citing weakness in its memory chip business and challenges with currency fluctuations.South Korea’s biggest company reported net income in the three months ended December of 6.45 trillion won ($5.84 billion), missing the 7.3 trillion won average of estimates compiled by Bloomberg. Shares fell 2.2% in Seoul on Thursday.Samsung, the world’s largest maker of memory chips and displays, struck a cautious tone that stood in contrast to that of many technology companies benefiting during the coronavirus lockdowns. Just hours earlier, Apple Inc. and Facebook Inc. reported financial results that handily exceed estimates.“In the first quarter, we expect overall profitability to decline due to relative weakness in the memory and display businesses,” said Ben Suh, executive vice president of investor relations, during a call with investors. In the memory business, Samsung’s most important profit engine, “results are likely to weaken due to currency effects and continued costs associated with new fab ramp up.”Operating profit for the semiconductor unit was 3.85 trillion won in the fourth quarter, short of the 4.62 trillion estimate from analysts. The company said it expects a recovery in the business in the first half.Samsung said it’s tracking whether chip shortages that have hit the global auto industry could spill over to other sectors, including tech products.“This is a global issue,” said Han Jinman, executive vice president of the memory business. “There is a possibility that the shortage of other semiconductor parts may impact mobile demand and so, we are carefully watching how that plays out.”In the smartphone business, Samsung struggled in the holiday period as Apple introduced its first 5G-capable iPhones and Chinese rivals put up fierce competition. The Cupertino, Calif.-based company took over the No. 1 position in the fourth quarter, ahead of Samsung and China’s Xiaomi Corp., market research firms said on Thursday.With a lot of good devices on the market, “there is only so much that Samsung can grab out of it,” said Kiranjeet Kaur, research manager at IDC.Investors had anticipated Samsung could increase its dividend payout substantially, in part because the founding Lee family faces an enormous inheritance tax bill. Instead, the company said it would continue to return 50% of free cash flow to shareholders between 2021 and 2023, although its annual dividend payout will increase slightly to 9.8 trillion won.The results come just days after Samsung’s de-facto leader, billionaire heir Jay Y. Lee, was sent back to prison on bribery charges. Although professional managers lead the company’s operating units, Lee has played a central role in major strategic decisions.The company signaled it will continue to press ahead with critical deals and investments. Samsung will use its capital to expand the capacity of its foundry business, which fabricates chips for clients like Nvidia Corp., to meet demand and overcome current supply shortages. It will also invest in facility expansions and “meaningful” acquisitions, the company said.“For the last few years, we have been evaluating possible M&A opportunities very carefully and have made significant progress in terms of preparation,” Choi Yoon-ho, chief financial officer of Samsung, said during the earnings call. “Although it is difficult to pinpoint a specific timing due to uncertainties in the internal and external business environment ... we are optimistic of carrying out meaningful M&A activities during this term.”Read more: Samsung Surges to New High on Strong Memory Market OutlookAnalysts including Yungsan Choi of Ebest Investment & Securities have been anticipating a long-awaited rebound in memory chip prices due to demand for servers and more powerful 5G smartphones. Component supplier Murata Manufacturing Co. and chipmaker MediaTek Inc. both anticipate more than half a billion 5G handsets to be shipped this year.Chipmakers Intel Corp. and Micron Technology Inc. gave a bullish forecast for the first quarter of this year on continued demand for computers and phones that enable working and studying from home. Taiwan Semiconductor Manufacturing Co. is planning another record-breaking year of investment with as much as $28 billion set aside to expand and improve its production capacity at a time of silicon supply shortages affecting everyone from global automakers to mobile tech giants like Apple and Qualcomm Inc.Samsung’s contract chip manufacturing is expected to expand with the addition of Intel as a customer. The two companies have discussed development and production of Intel’s mainboard chipsets over the last two years and Samsung will produce the chipset at its Austin, Texas plant starting from this quarter, Meritz Securities said in a note.Samsung Is Said to Mull $10 Billion Texas Chipmaking PlantThe existing Austin fab is capable of operating on a 14-nanometer process. With rising expectations of growth in the foundry market, Samsung is considering building a cutting-edge logic chipmaking plant in the region that would be capable of fabricating chips as advanced as 3nm in the future, Bloomberg News reported earlier.“Regarding investments including building a fab in the U.S., we haven’t made a decision yet,” said Shawn Han, senior vice president. “Due to the nature of foundry business that requires timely and efficient responses to customers’ demand, we routinely review capacity expansions. We continue to study ways to optimize operations at fabs in all regions from Giheung, Hwaseong to Austin.”(Updates with executive comment on shortages in seventh paragraph)For more articles like this, please visit us at bloomberg.comSubscribe now to stay ahead with the most trusted business news source.©2021 Bloomberg L.P.']\n",
      "['2021-01-28', 'Qualcomm loses fight against EU antitrust regulators&#39; data demand', \"Qualcomm on Thursday lost its fight against a data demand from EU antitrust regulators after Europe's top court reaffirmed the regulators' right to see it, in a case that has already landed the company a 242-million-euro ($292.60 million) fine.  The ruling by the Luxembourg-based Court of Justice of the European Union (CJEU) will strengthen the European Commission's hand in other antitrust investigations.  Qualcomm's run-ins with the Commission have seen it receive total fines of 1.2 billion euros in two cases in the last three years for using its market power to thwart rivals including Intel.\"]\n",
      "['2021-01-26', 'Auto tech firm Veoneer inks collaboration deal with Qualcomm, shares rise', 'Automotive technology firm Veoneer and U.S. chip giant Qualcomm have signed a collaboration deal to develop a software and chip platform for advanced driver assistance systems, Veoneer said on Tuesday.  Veoneer, which also makes radars and vision systems, said it had formed Arriver, a dedicated software unit for the development of the complete perception and drive policy software stack.  \"Today\\'s agreement with Qualcomm Technologies and the creation of Arriver are key milestones in Veoneer\\'s development,\" Veoneer CEO Jan Carlson said in a statement.']\n"
     ]
    }
   ],
   "source": [
    "from datetime import timedelta, date\n",
    "\n",
    "def daterange(start_date, end_date):\n",
    "    for n in range(int((end_date - start_date).days)):\n",
    "        yield start_date + timedelta(n)\n",
    "\n",
    "start_date = date(2020, 6, 1)\n",
    "end_date = date(2021, 1, 30)\n",
    "data = []\n",
    "run_Dict = []\n",
    "for single_date in daterange(start_date, end_date):\n",
    "    daily_news = ticker.news(start=single_date.strftime(\"%Y-%m-%d\"))\n",
    "    for article in daily_news:\n",
    "        #print(article)\n",
    "        title = article['title']\n",
    "        if title in run_Dict:\n",
    "            continue\n",
    "        else:\n",
    "            try:\n",
    "                run_Dict.append(title)\n",
    "                publisher_time = article['provider_publish_time']\n",
    "                publisher_time = datetime.utcfromtimestamp(int(publisher_time)).strftime('%Y-%m-%d')\n",
    "                data.append([publisher_time, title, article['summary']])\n",
    "            except KeyError:\n",
    "                print(\"KeyError generated.\")\n",
    "                continue\n",
    "        if len(run_Dict) > 30:\n",
    "            run_Dict = run_Dict[-30:]\n",
    "print(len(data))\n",
    "for i in data:\n",
    "    print(i)"
   ]
  },
  {
   "cell_type": "code",
   "execution_count": 130,
   "metadata": {},
   "outputs": [
    {
     "output_type": "stream",
     "name": "stdout",
     "text": [
      "           date                                              Title  \\\n0    2020-05-29  Qualcomm CEO Steve Mollenkopf Drives Worldwide...   \n1    2020-05-25  Qualcomm Innovation Fellowship Rewards Academi...   \n2    2020-05-04  Palomar Holdings, Inc. Announces Senior Leader...   \n3    2020-05-04  Qualcomm&#39;s Board of Directors Appoints Jam...   \n4    2020-04-30  Earnings Recap: Tech stocks jump after posting...   \n..          ...                                                ...   \n525  2021-01-20  Top Stock Reports for Novartis, QUALCOMM & Acc...   \n526  2021-01-28  5G Stocks To Buy And Watch: China Early Driver...   \n527  2021-01-28  Samsung Net Profit Misses Estimates After 5G i...   \n528  2021-01-28  Qualcomm loses fight against EU antitrust regu...   \n529  2021-01-26  Auto tech firm Veoneer inks collaboration deal...   \n\n                                               Summary  \n0    After receiving a master's degree at the Unive...  \n1    Qualcomm Technologies, Inc., a subsidiary of Q...  \n2    The Company also announced the appointment of ...  \n3    Qualcomm Incorporated (Nasdaq: QCOM) today ann...  \n4    Tech stocks are on the rise after companies po...  \n..                                                 ...  \n525  Top Stock Reports for Novartis, QUALCOMM & Acc...  \n526  The best 5G stocks to invest in will change ov...  \n527  (Bloomberg) -- Samsung Electronics Co. missed ...  \n528  Qualcomm on Thursday lost its fight against a ...  \n529  Automotive technology firm Veoneer and U.S. ch...  \n\n[530 rows x 3 columns]\n"
     ]
    }
   ],
   "source": [
    "# Converting data to dataframe\n",
    "import pandas as pd\n",
    "\n",
    "df = pd.DataFrame(data, columns=[\"date\", \"Title\", \"Summary\"])\n",
    "print(df)"
   ]
  },
  {
   "cell_type": "code",
   "execution_count": 131,
   "metadata": {},
   "outputs": [
    {
     "output_type": "stream",
     "name": "stdout",
     "text": [
      "Requirement already satisfied: nltk==3.3 in /home/muditj/anaconda3/lib/python3.8/site-packages (3.3)\n",
      "Requirement already satisfied: six in /home/muditj/anaconda3/lib/python3.8/site-packages (from nltk==3.3) (1.15.0)\n"
     ]
    }
   ],
   "source": [
    "# Install nltk package\n",
    "!pip install nltk==3.3"
   ]
  },
  {
   "cell_type": "code",
   "execution_count": 132,
   "metadata": {},
   "outputs": [
    {
     "output_type": "stream",
     "name": "stdout",
     "text": [
      "[nltk_data] Downloading package vader_lexicon to\n[nltk_data]     /home/muditj/nltk_data...\n[nltk_data]   Package vader_lexicon is already up-to-date!\n"
     ]
    }
   ],
   "source": [
    "from nltk.sentiment.vader import SentimentIntensityAnalyzer\n",
    "import nltk\n",
    "nltk.download(\"vader_lexicon\")\n",
    "sentimentAnalyser = SentimentIntensityAnalyzer()\n",
    "df[\"compound\"] = [sentimentAnalyser.polarity_scores(v)['compound'] for v in df[\"Summary\"]]\n",
    "df[\"negative\"] = [sentimentAnalyser.polarity_scores(v)['neg'] for v in df[\"Summary\"]]\n",
    "df[\"positive\"] = [sentimentAnalyser.polarity_scores(v)['pos'] for v in df[\"Summary\"]]\n",
    "df[\"neutral\"] = [sentimentAnalyser.polarity_scores(v)['neu'] for v in df[\"Summary\"]]"
   ]
  },
  {
   "cell_type": "code",
   "execution_count": 133,
   "metadata": {},
   "outputs": [
    {
     "output_type": "stream",
     "name": "stdout",
     "text": [
      "           date                                              Title  \\\n13   2020-02-20  Corning Announces 5G mmWave In-Building Networ...   \n12   2020-03-10  Qualcomm Increases Quarterly Dividend by 5 Per...   \n11   2020-03-24  ‘Tech is really going to be a the core of keep...   \n10   2020-03-30  Qualcomm Names Heather Ace as Executive Vice P...   \n9    2020-04-17  Qualcomm Schedules Second Quarter Fiscal 2020 ...   \n..          ...                                                ...   \n502  2021-01-27  AMD Gives Upbeat Sales Forecast on Demand for ...   \n528  2021-01-28  Qualcomm loses fight against EU antitrust regu...   \n526  2021-01-28  5G Stocks To Buy And Watch: China Early Driver...   \n527  2021-01-28  Samsung Net Profit Misses Estimates After 5G i...   \n399  2021-02-04  Is Qualcomm Stock A Buy Right Now After Mixed ...   \n\n                                               Summary  compound  negative  \\\n13   Corning Incorporated (GLW) announced on Thursd...    0.0000     0.000   \n12   Qualcomm Incorporated (NASDAQ: QCOM) today ann...    0.9349     0.000   \n11   Daniel Newman from Futurum Research joins Yaho...    0.0000     0.000   \n10   Qualcomm Incorporated (NASDAQ: QCOM) announced...    0.2960     0.000   \n9    Qualcomm Incorporated (NASDAQ: QCOM) today ann...    0.2960     0.000   \n..                                                 ...       ...       ...   \n502  (Bloomberg) -- Advanced Micro Devices Inc. gav...    0.9950     0.031   \n528  Qualcomm on Thursday lost its fight against a ...    0.7269     0.062   \n526  The best 5G stocks to invest in will change ov...    0.7783     0.000   \n527  (Bloomberg) -- Samsung Electronics Co. missed ...    0.9966     0.053   \n399  This is what fundamentals and technicals say a...    0.0000     0.000   \n\n     positive  neutral  \n13      0.000    1.000  \n12      0.232    0.768  \n11      0.000    1.000  \n10      0.045    0.955  \n9       0.033    0.967  \n..        ...      ...  \n502     0.150    0.819  \n528     0.121    0.816  \n526     0.245    0.755  \n527     0.122    0.826  \n399     0.000    1.000  \n\n[530 rows x 7 columns]\n"
     ]
    }
   ],
   "source": [
    "df = df.sort_values(by=\"date\")\n",
    "print(df)"
   ]
  },
  {
   "cell_type": "code",
   "execution_count": 140,
   "metadata": {},
   "outputs": [],
   "source": [
    "df['weekly_average'] = df['compound'].rolling(7, win_type='triang').sum()\n",
    "df['monthly_average'] = df['compound'].rolling(30, win_type='triang').sum()"
   ]
  },
  {
   "cell_type": "code",
   "execution_count": 141,
   "metadata": {},
   "outputs": [
    {
     "output_type": "stream",
     "name": "stdout",
     "text": [
      "           date                                              Title  \\\n13   2020-02-20  Corning Announces 5G mmWave In-Building Networ...   \n12   2020-03-10  Qualcomm Increases Quarterly Dividend by 5 Per...   \n11   2020-03-24  ‘Tech is really going to be a the core of keep...   \n10   2020-03-30  Qualcomm Names Heather Ace as Executive Vice P...   \n9    2020-04-17  Qualcomm Schedules Second Quarter Fiscal 2020 ...   \n..          ...                                                ...   \n502  2021-01-27  AMD Gives Upbeat Sales Forecast on Demand for ...   \n528  2021-01-28  Qualcomm loses fight against EU antitrust regu...   \n526  2021-01-28  5G Stocks To Buy And Watch: China Early Driver...   \n527  2021-01-28  Samsung Net Profit Misses Estimates After 5G i...   \n399  2021-02-04  Is Qualcomm Stock A Buy Right Now After Mixed ...   \n\n                                               Summary  compound  negative  \\\n13   Corning Incorporated (GLW) announced on Thursd...    0.0000     0.000   \n12   Qualcomm Incorporated (NASDAQ: QCOM) today ann...    0.9349     0.000   \n11   Daniel Newman from Futurum Research joins Yaho...    0.0000     0.000   \n10   Qualcomm Incorporated (NASDAQ: QCOM) announced...    0.2960     0.000   \n9    Qualcomm Incorporated (NASDAQ: QCOM) today ann...    0.2960     0.000   \n..                                                 ...       ...       ...   \n502  (Bloomberg) -- Advanced Micro Devices Inc. gav...    0.9950     0.031   \n528  Qualcomm on Thursday lost its fight against a ...    0.7269     0.062   \n526  The best 5G stocks to invest in will change ov...    0.7783     0.000   \n527  (Bloomberg) -- Samsung Electronics Co. missed ...    0.9966     0.053   \n399  This is what fundamentals and technicals say a...    0.0000     0.000   \n\n     positive  neutral  weekly_average  monthly_average  \n13      0.000    1.000             NaN              NaN  \n12      0.232    0.768             NaN              NaN  \n11      0.000    1.000             NaN              NaN  \n10      0.045    0.955             NaN              NaN  \n9       0.033    0.967             NaN              NaN  \n..        ...      ...             ...              ...  \n502     0.150    0.819        2.701300         8.274273  \n528     0.121    0.816        2.976175         8.271960  \n526     0.245    0.755        3.170675         8.303927  \n527     0.122    0.826        3.296800         8.383283  \n399     0.000    1.000        3.120000         8.408730  \n\n[530 rows x 9 columns]\n"
     ]
    }
   ],
   "source": [
    "print(df)"
   ]
  },
  {
   "cell_type": "code",
   "execution_count": null,
   "metadata": {},
   "outputs": [],
   "source": []
  }
 ]
}