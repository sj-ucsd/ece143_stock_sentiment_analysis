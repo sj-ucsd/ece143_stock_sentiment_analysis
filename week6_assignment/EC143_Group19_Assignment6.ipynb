{
  "nbformat": 4,
  "nbformat_minor": 0,
  "metadata": {
    "kernelspec": {
      "display_name": "Python 3",
      "language": "python",
      "name": "python3"
    },
    "language_info": {
      "codemirror_mode": {
        "name": "ipython",
        "version": 3
      },
      "file_extension": ".py",
      "mimetype": "text/x-python",
      "name": "python",
      "nbconvert_exporter": "python",
      "pygments_lexer": "ipython3",
      "version": "3.8.3"
    },
    "colab": {
      "name": "EC143_Group19_Assignment6.ipynb",
      "provenance": []
    }
  },
  "cells": [
    {
      "cell_type": "markdown",
      "metadata": {
        "id": "OiHw1OQc53bZ"
      },
      "source": [
        "# Week 6 Validation and Functional tests"
      ]
    },
    {
      "cell_type": "markdown",
      "metadata": {
        "id": "bhBRVTWw53bh"
      },
      "source": [
        "## Team 19: Ish Jain, Mudit Jain, Nick Munoz, Sagar Jogadhenu"
      ]
    },
    {
      "cell_type": "markdown",
      "metadata": {
        "id": "e4btMr2H53bh"
      },
      "source": [
        "# Question1 - Chunkify\n",
        "You have a file that needs to be divided into n chunks. While it would be straightforward to split the file into equal-bytes sizes and then write those chunks to file, you cannot write any incomplete lines to the files. This means that all of the n files that you create must have no truncated lines. If a split of a certain byte-size would result in a truncated line, then you can back off and only write the previous complete line. You can save the rest of it for the next chunk.\n",
        "\n",
        "You can download Metamorphosis, by Franz Kafka as the sample text. The file is of size 139055 bytes. Splitting into three pieces gives the following files and their respective sizes:\n",
        "\n",
        "size\tfilename\n",
        "46310\tpg5200.txt_000.txt\n",
        "46334\tpg5200.txt_001.txt\n",
        "46411\tpg5200.txt_002.txt\n",
        "The last line of the pg5200.txt_000.txt is the following:\n",
        "\n",
        "her, she hurried out again and even turned the key in the lock so\n",
        "\n",
        "The last line of the pg5200.txt_001.txt is the following:\n",
        "\n",
        "there.  He, fortunately, would usually see no more than the object\n",
        "\n",
        "As a final hint, splitting the same file into eight parts gives the following:\n",
        "\n",
        "size\tfilename\n",
        "17321\tpg5200.txt_000.txt\n",
        "17376\tpg5200.txt_001.txt\n",
        "17409\tpg5200.txt_002.txt\n",
        "17354\tpg5200.txt_003.txt\n",
        "17445\tpg5200.txt_004.txt\n",
        "17332\tpg5200.txt_005.txt\n",
        "17381\tpg5200.txt_006.txt\n",
        "17437\tpg5200.txt_007.txt\n",
        "You should think about making your file sizes as uniform as possible (this not graded, however). Otherwise, for a very long file, the last file may be inordinately large, as compared to the others. Your algorithm should pass through the file exactly once. You should assume that you cannot read the entire file into memory at once. If possible, you also want to minimize how much you move the file pointer around in the file. You should ensure that your code produces the file sizes that are indicated for each of the cases shown above.\n",
        "\n",
        "Here is the function signature:\n",
        "\n",
        "def split_by_n(fname,n=3):\n",
        "    '''\n",
        "    Split files into sub files of near same size\n",
        "    fname : Input file name\n",
        "    n is the number of segments\n",
        "    '''\n",
        "Hint: Use wt as the file write mode.\n",
        "The individual filenames should include the original filename (fname) and a number indicating the current file sequence number in the split. For example, if pg5200.txt is the original file then the 8th division should be named pg5200.txt_007.txt. Your code should strive to produce file sizes as close to the file sizes shown in the example above."
      ]
    },
    {
      "cell_type": "markdown",
      "metadata": {
        "id": "848RHQ7053bi"
      },
      "source": [
        "## Validation tests"
      ]
    },
    {
      "cell_type": "code",
      "metadata": {
        "id": "IFRMeAgK53bj"
      },
      "source": [
        "# Test Case 1 : n should be int \n",
        "#function must have assert (isinstance(n, int))\n",
        "fname = \"Kafka.txt\"\n",
        "n = 'a'\n",
        "split_by_n(fname, n)\n",
        "\n",
        "# Test Case 2 : n should be greater than 0\n",
        "# function must have assert (n>0)\n",
        "fname = \"Kafka.txt\"\n",
        "n = -2\n",
        "split_by_n(fname, n)\n",
        "\n",
        "# Test Case 3 : fname should be a string\n",
        "# function must have assert (isinstance(fname, str))\n",
        "fname = 2\n",
        "n = 2\n",
        "split_by_n(fname, n)\n",
        "\n",
        "# Test Case 4 : fname file should exist\n",
        "# function must have assert (os.path.exists(fname))\n",
        "fname = \"Kafka_not_present.txt\"\n",
        "n = 3\n",
        "split_by_n(fname, n)"
      ],
      "execution_count": null,
      "outputs": []
    },
    {
      "cell_type": "markdown",
      "metadata": {
        "id": "uwnXjpqQ53bk"
      },
      "source": [
        "## Functional tests"
      ]
    },
    {
      "cell_type": "code",
      "metadata": {
        "id": "7XhcDIiE53bl"
      },
      "source": [
        "import os\n",
        "import random\n",
        "main_file_name = \"test.txt\"\n",
        "infile = open(main_file_name,'r')\n",
        "main_file = infile.readlines()   # List of strings that each element is one line from file\n",
        "infile.close()\n",
        "\n",
        "def get_filename(name_val,val):\n",
        "    '''\n",
        "    Returns the name of the file based on int value passed\n",
        "\n",
        "    name_val: string representing original text file name\n",
        "    val: int value that is associated with file name\n",
        "    Return: String that represents the file name\n",
        "    '''\n",
        "    if len(str(val)) == 1:\n",
        "            ret_str = name_val + \"_00\" + str(val)+\".txt\"\n",
        "    elif len(str(val)) == 2:\n",
        "        ret_str = name_val + \"_0\" + str(val)+\".txt\"\n",
        "    else:\n",
        "        ret_str = name_val + \"_\" + str(val)+\".txt\"\n",
        "    return ret_str\n",
        "\n",
        "def test_fn(int_var,main_txt,file_test_name):\n",
        "    '''\n",
        "    This function is called to run a test condition for this function\n",
        "\n",
        "    int_var: number of segments for the split\n",
        "    main_txt: list of strings from the original text file(each element is one line from text file)\n",
        "    file_test_name: name of the original text file\n",
        "    '''\n",
        "    chunk_size = len(main_txt)//int_var   # Chunk size\n",
        "\n",
        "    # Check case where file is split into 3 smaller files\n",
        "    split_by_n(file_test_name,int_var)\n",
        "\n",
        "    file_chunks = []\n",
        "    # Check if the three files were created\n",
        "    for ind in range(0,int_var):\n",
        "        file_name = get_filename(file_test_name,ind)\n",
        "        assert os.path.exists(file_name)\n",
        "        # check if each file is of similar size to show equal distribution of text\n",
        "        infile = open(file_name,'r')\n",
        "        txt_file = infile.readlines()\n",
        "        infile.close()\n",
        "        file_chunks.append(txt_file)\n",
        "\n",
        "    for ele in file_chunks:\n",
        "        # Check if each file is within 5% of the chunk size\n",
        "        assert (len(ele) / chunk_size) > 0.95 or (len(ele) / chunk_size) < 1.05\n",
        "        # Check if each line is in original file\n",
        "        for line in ele:\n",
        "            assert line in main_txt\n",
        "    \n",
        "    # Clean up the created files\n",
        "    for ind in range(0,int_var):\n",
        "        file_name = get_filename(file_test_name,ind)\n",
        "        os.remove(file_name)\n",
        "\n",
        "\n",
        "# Test case 1:\n",
        "n = 3\n",
        "test_fn(n,main_file,main_file_name)\n",
        "\n",
        "# Test case 2:\n",
        "n = 15\n",
        "test_fn(n,main_file,main_file_name)\n",
        "\n",
        "# Test case 3:\n",
        "n = 105\n",
        "test_fn(n,main_file,main_file_name)\n",
        "\n",
        "# Stress test:\n",
        "for i in range(0,25):\n",
        "    n = random.randrange(1,200)\n",
        "    test_fn(n,main_file,main_file_name)\n",
        "\n",
        "print(\"All functional tests were passed\")\n"
      ],
      "execution_count": null,
      "outputs": []
    },
    {
      "cell_type": "markdown",
      "metadata": {
        "id": "-rfc0VAK53bl"
      },
      "source": [
        "## Question 2 - Encrypted Sentence\n",
        "We will implement a very simple encryption scheme that closely resembles the one-time-pad. You have probably seen this method used in movies like Unknown. The idea is that you and your counterparty share a book whose words you will use as the raw material for a codebook. In this case, you need Metamorphosis, by Franz Kafka.\n",
        "Your job is to create a codebook of 2-tuples that map to specific words in the given text based on the line and position the words appears in the text. The text is very long so there will be duplicated words. Strip out all of the punctuation and make everything lowercase.\n",
        "For example, the word let appears on line 1683 in the text as the fifth word (reading from left-to-right). Similarly, the word us appears in the text on line 1761 as the fifth word.\n",
        "Thus, if the message you want to send is the following:\n",
        "\n",
        "`let us not say we met late at the night about the secret`\n",
        "\n",
        "Then, one possible valid sequence for that message is the following:\n",
        "\n",
        " [(1394, 2), (1773, 11), (894, 10), (840, 1), (541, 2), (1192, 5), (1984, 7), (2112, 6), (1557, 2), (959, 8), (53, 10), (2232, 8), (552, 5)] \n",
        " \n",
        "Your counterparty receives the above sequence of tuples, and, because she has the same text, she is able to look up the line and word numbers of each of the tuples to retrieve the encoded message. Notice that the word the appears twice in the above message but is encoded differently each time. This is because re-using codewords (i.e., 2-tuples) destroys the encryption strength. In case of repeated words, you should have a randomized scheme to ensure that no message contains the same 2-tuple, even if the same word appears multiple times in the message. If there is only one occurrence of a word in the text and the message uses that word repeatedly so that each occurrence of the word cannot have a unique 2-tuple, then the message should be rejected (i.e., assert against this).\n",
        "Your assignment is to create an encryption function and the corresponding decryption function to implement this scheme. Note that your downloaded text should have 2362 lines and 25186 words in it.\n",
        "\n",
        "Function definitions:\n",
        "\n",
        "#### def encrypt_message(message,fname):\n",
        "\n",
        "    '''\n",
        "    Given `message`, which is a lowercase string without any punctuation, and `fname` which is the\n",
        "    name of a text file source for the codebook, generate a sequence of 2-tuples that\n",
        "    represents the `(line number, word number)` of each word in the message. The output is a list\n",
        "    of 2-tuples for the entire message. Repeated words in the message should not have the same 2-tuple.\n",
        "\n",
        "    :param message: message to encrypt\n",
        "    :type message: str\n",
        "    :param fname: filename for source text\n",
        "    :type fname: str\n",
        "    :returns: list of 2-tuples\n",
        "    '''\n",
        "    \n",
        "#### def decrypt_message(inlist,fname):\n",
        "\n",
        "    '''\n",
        "    Given `inlist`, which is a list of 2-tuples`fname` which is the\n",
        "    name of a text file source for the codebook, return the encrypted message.\n",
        "    :param inlist: inlist to decrypt\n",
        "    :type inlist: list of 2-tuples\n",
        "    :param fname: filename for source text\n",
        "    :type fname: str\n",
        "    :returns: decrypted message string\n",
        "    '''\n"
      ]
    },
    {
      "cell_type": "markdown",
      "metadata": {
        "id": "C5Nx-xhj53bm"
      },
      "source": [
        "## Validation Tests"
      ]
    },
    {
      "cell_type": "markdown",
      "metadata": {
        "id": "XISF5Lzr53bn"
      },
      "source": [
        "### Validation tests for encrypt_message"
      ]
    },
    {
      "cell_type": "code",
      "metadata": {
        "id": "hMTIaZvF53bn"
      },
      "source": [
        "# method validation - check doc string and any defaults\n",
        "assert encrypt_message.__doc__ != None, \"doc string must exist\"\n",
        "assert len(encrypt_message.__doc__) > 0, \"doc string must not be empty\"\n",
        "# method input validation - input types and values other than specified must assert\n",
        "assert isinstance(message, str),  \"message must be a string\"\n",
        "assert isinstance(fname, str), \"filename must be a string\"\n",
        "assert len(message) > 0,  \"message length must be non-zero\"\n",
        "assert len(fname) > 0, \"file name must be non-zero\"\n",
        "# fail for invalid files\n",
        "import os\n",
        "assert os.path.exists(fname), \"specified file exists\"\n",
        "# output validation - check output is correct format and type\n",
        "message = 'secret'\n",
        "fname = 'pg5200.txt'\n",
        "out_tuple_list = encrypt_message(message, fname)\n",
        "assert isinstance(out_tuple_list, list), \"output must be a list\"\n",
        "assert len(out_tuple_list) == 1, \"input contains one word, output must contain only one element\"\n",
        "assert all(isinstance(item, tuple) for item in out_tuple_list), \"output list must only contain tuples\"\n",
        "assert all(len(item) == 2 for item in out_tuple_list), \"each tuple must be a 2-tuple\"\n",
        "assert all(isinstance(item[0], int) and isinstance(item[1],int) for item in out_tuple_list), \"elements of each tuple must be an int\"\n",
        "assert all(item[0] > 0 and item[1] > 0 for item in out_tuple_list), \"values in each tuple must be greater than 0\"\n",
        "#check line number and tuple number is within bounds of input file\n",
        "line_word_list =[]\n",
        "with open(fname,'r') as f:\n",
        "    line_word_list.append(f.readline().split()), \"code for stripping punctuation not shown\"\n",
        "assert all(item[0] <= len(line_word_list) for item in out_tuple_list), \"line number must be within total number of lines of input file\"\n",
        "assert all(item[1] <=len(line_word_list[item[0]]) for item in out_tuple_list), \"word position must  be within the number of words for a given line\"\n"
      ],
      "execution_count": null,
      "outputs": []
    },
    {
      "cell_type": "markdown",
      "metadata": {
        "id": "mwXtinyx53bo"
      },
      "source": [
        "### Validation tests for decrypt_message"
      ]
    },
    {
      "cell_type": "code",
      "metadata": {
        "id": "pCuSmMLk53bp"
      },
      "source": [
        "#method validation - check doc string, defaults\n",
        "assert decrypt_message.__doc__ != None, \"doc string must exist for the method\"\n",
        "assert len(decrypt_message.__doc__) > 0, \"doc string must not be empty\"\n",
        "\n",
        "#input validation\n",
        "assert isinstance(inlist, list), \"inlist must be a list\"\n",
        "assert isinstance(fname, str), \"file name must be a string\"\n",
        "assert len(inlist) > 0, \"length of inlist must be positive, non-zero\"\n",
        "assert len(fname) > 0, \"length of fname must be non-zero\"\n",
        "assert len(inlist) == len(set(inlist)), \"input tuples must not contain duplicates\"\n",
        "assert all(isinstance(item, tuple) for item in inlist), \" all elements of inlist must be tuples\"\n",
        "assert all(len(item) == 2 for item in inlist), \"each tuple must be a 2-tuple\"\n",
        "assert all(isinstance(item[0], int) and isinstance(item[1],int) for item in inlist), \"elements of each tuple must be an int\"\n",
        "assert all(item[0] > 0 and item[1] > 0 for item in inlist), \"values in each tuple must be greater than 0\"\n",
        "#check line number is within the number of lines of input file\n",
        "line_word_list =[]\n",
        "with open(fname,'r') as f:\n",
        "    line_word_list.append(f.readline().split()), \"strip punctuation here, code not shown\"\n",
        "assert all(item[0] <= len(line_word_list) for item in inlist), \"line number must be within total number of lines of input file\"\n",
        "assert all(item[1] <=len(line_word_list[item[0]]) for item in inlist), \"word position must within the number of words for a given line\"\n",
        "#output validation\n",
        "fname = \"pg5200.txt\"\n",
        "inlist = [(9,4)]\n",
        "assert isinstance(decrypt_message(inlist,fname), str), \"output must be a string\"\n",
        "assert len(inlist) == len(decrypt_message(inlist,fname).split()), \"number of words in output must match number of tuples in input\"\n"
      ],
      "execution_count": null,
      "outputs": []
    },
    {
      "cell_type": "markdown",
      "metadata": {
        "id": "XBfkNdN553bp"
      },
      "source": [
        "## Functional tests"
      ]
    },
    {
      "cell_type": "markdown",
      "metadata": {
        "id": "VeZTSDTb53bq"
      },
      "source": [
        "### Functional tests for encrypt_message"
      ]
    },
    {
      "cell_type": "code",
      "metadata": {
        "id": "9bCgrPWA53bq"
      },
      "source": [
        "# Test output generates correct tuple\n",
        "fname = \"pg5200.txt\"\n",
        "message = \"copyrighted\", \n",
        "assert encrypt_message(message,fname) == [(9, 4)], \"word copyrighted exists only at line 9 as 4th word\"\n",
        "message = \"secret\"\n",
        "assert encrypt_message(message,fname)[0] is in [(552, 5), (850, 3), (902, 1)], \"word secret exists at three places hence output should be one of them\"\n",
        "message = \"this is copyrighted that is not copyrighted\"\n",
        "assert encrypt_message(message, fname), \"word copyrighted only exists once hence the message must result in assert\"\n",
        "message = \"xylophone\"\n",
        "assert encrypt_message(message, fname), \"word does not exist in input file hence assert\"\n",
        "message = \"?!*\"\n",
        "assert encrypt_message(message, fname), \"message does not contain any valid word from input file hence assert\"\n",
        "#check each repeated word is encoded into a unique tuple\n",
        "message = \"this is a secret that is not a secret\"\n",
        "out_tuple_list = encrypt_message(message, fname)\n",
        "assert len(out_tuple_list) == len(message.split()), \"number of tuples in output must match number of words in input\"\n",
        "assert len(out_tuple_list) == len(set(out_tuple_list)), \"all tuples of output must be unique\"\n",
        "# the following test may fail if input message has punctuation and implementation removes punctuation\n",
        "message = \"let us not say we met late at the night about the secret\"\n",
        "assert decrypt_message(encrypt_message(message, fname)) == message, \"encrypted message must be correctly decrypted\""
      ],
      "execution_count": null,
      "outputs": []
    },
    {
      "cell_type": "markdown",
      "metadata": {
        "id": "s9fwZB7Q53bq"
      },
      "source": [
        "### Functional tests for decrypt_message"
      ]
    },
    {
      "cell_type": "code",
      "metadata": {
        "id": "qY796Tky53bq"
      },
      "source": [
        "# test output generates correct string\n",
        "fname = 'pg5200.txt'\n",
        "inlist = [(9,4)]\n",
        "assert decrypt_message(inlist,fname) == \"copyrighted\", \"actual output must match expected output\"\n",
        "inlist = [(559, 11), (1761, 6), (1119, 2), (367, 9), (541, 2), (2328, 3), (1253, 10), (1500, 4), (2072, 4), (747, 5),(1545, 4), (2318, 8), (850, 3)]\n",
        "expected_msg = \"let us not say we met late at the night about the secret\"\n",
        "assert decrypt_message(inlist,fname) == expected_msg, \"decoded message matches expected msg\"\n"
      ],
      "execution_count": null,
      "outputs": []
    },
    {
      "cell_type": "markdown",
      "metadata": {
        "id": "CnE_uVZl53bq"
      },
      "source": [
        "## Question 3 - Multinomial\n",
        "Enter problem description here"
      ]
    },
    {
      "cell_type": "markdown",
      "metadata": {
        "id": "akt9Oq5p53bq"
      },
      "source": [
        "## Validation tests"
      ]
    },
    {
      "cell_type": "code",
      "metadata": {
        "id": "7O7Q8Z5853br"
      },
      "source": [
        "## Test 1 & 2 : n is int and n>0\n",
        "## function should have assert(isinstance(n, int) and n>0)\n",
        "n = 'a'\n",
        "k = 10\n",
        "p = [1/3,1/3,1/3]\n",
        "multinomial_sample(n,p,k)\n",
        "\n",
        "n = -1\n",
        "k = 10\n",
        "p = [1/3,1/3,1/3]\n",
        "multinomial_sample(n,p,k)\n",
        "\n",
        "# Test 3 : p is a list\n",
        "# function should have assert(isinstance(p, list))\n",
        "n = 10\n",
        "k = 10\n",
        "p = 'a'\n",
        "multinomial_sample(n,p,k)\n",
        "\n",
        "# Test 4 & 5: p is a list of int or float and every value is greater than 0\n",
        "# function should have :\n",
        "# for i in p:\n",
        "#     assert(isinstance(i,float) or isinstance(i, int))\n",
        "#     assert(i>0)\n",
        "n = 10\n",
        "k = 10\n",
        "p = ['a',1/3,1/3]\n",
        "multinomial_sample(n,p,k)\n",
        "\n",
        "n = 10\n",
        "k = 10\n",
        "p = [-1,1/3,1/3]\n",
        "multinomial_sample(n,p,k)\n",
        "\n",
        "# Test 6 : sum of probabilities equal to 1\n",
        "# function should have assert(round(sum(p),5)==1)\n",
        "n = 10\n",
        "k = 10\n",
        "p = [1/2,1/3,1/3]\n",
        "multinomial_sample(n,p,k)\n",
        "\n",
        "# Test 7 & 8 : k should be int and greated than zero\n",
        "# function should have assert(isinstance(k, int) and k>0)\n",
        "n = 10\n",
        "k = -1\n",
        "p = [1/2,1/3,1/3]\n",
        "multinomial_sample(n,p,k)\n",
        "\n",
        "n = 10\n",
        "k = 'a'\n",
        "p = [1/2,1/3,1/3]\n",
        "multinomial_sample(n,p,k)"
      ],
      "execution_count": null,
      "outputs": []
    },
    {
      "cell_type": "markdown",
      "metadata": {
        "id": "_a9ngnkt53bs"
      },
      "source": [
        "## Functional Tests"
      ]
    },
    {
      "cell_type": "code",
      "metadata": {
        "id": "GoCj_mz353bs"
      },
      "source": [
        "#<Enter functional tests here> \n",
        "\n",
        "# Test 1\n",
        "samples = multinomial_sample(10,[1/3,1/3,1/3],k=10)\n",
        "\n",
        "# Check there are k samples\n",
        "assert len(samples)==k\n",
        "\n",
        "# return samples between 1 and n\n",
        "for samp in samples:\n",
        "  assert all(samp)<=n \n",
        "\n",
        "# "
      ],
      "execution_count": null,
      "outputs": []
    },
    {
      "cell_type": "code",
      "metadata": {
        "id": "yma4Tl7b53bs"
      },
      "source": [
        ""
      ],
      "execution_count": null,
      "outputs": []
    },
    {
      "cell_type": "code",
      "metadata": {
        "id": "Wpch2sAt53bs"
      },
      "source": [
        ""
      ],
      "execution_count": null,
      "outputs": []
    },
    {
      "cell_type": "code",
      "metadata": {
        "id": "n-TQc3BK53bt"
      },
      "source": [
        ""
      ],
      "execution_count": null,
      "outputs": []
    }
  ]
}