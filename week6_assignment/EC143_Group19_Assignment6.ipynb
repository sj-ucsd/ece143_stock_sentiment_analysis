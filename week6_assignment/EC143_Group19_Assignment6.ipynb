{
 "cells": [
  {
   "cell_type": "markdown",
   "metadata": {},
   "source": [
    "# Week 6 Validation and Functional tests"
   ]
  },
  {
   "cell_type": "markdown",
   "metadata": {},
   "source": [
    "## Team 19: Ish Jain, Mudit Jain, Nick Munoz, Sagar Jogadhenu"
   ]
  },
  {
   "cell_type": "markdown",
   "metadata": {},
   "source": [
    "# Question1 - Chunkify\n",
    "You have a file that needs to be divided into n chunks. While it would be straightforward to split the file into equal-bytes sizes and then write those chunks to file, you cannot write any incomplete lines to the files. This means that all of the n files that you create must have no truncated lines. If a split of a certain byte-size would result in a truncated line, then you can back off and only write the previous complete line. You can save the rest of it for the next chunk.\n",
    "\n",
    "You can download Metamorphosis, by Franz Kafka as the sample text. The file is of size 139055 bytes. Splitting into three pieces gives the following files and their respective sizes:\n",
    "\n",
    "size\tfilename\n",
    "46310\tpg5200.txt_000.txt\n",
    "46334\tpg5200.txt_001.txt\n",
    "46411\tpg5200.txt_002.txt\n",
    "The last line of the pg5200.txt_000.txt is the following:\n",
    "\n",
    "her, she hurried out again and even turned the key in the lock so\n",
    "\n",
    "The last line of the pg5200.txt_001.txt is the following:\n",
    "\n",
    "there.  He, fortunately, would usually see no more than the object\n",
    "\n",
    "As a final hint, splitting the same file into eight parts gives the following:\n",
    "\n",
    "size\tfilename\n",
    "17321\tpg5200.txt_000.txt\n",
    "17376\tpg5200.txt_001.txt\n",
    "17409\tpg5200.txt_002.txt\n",
    "17354\tpg5200.txt_003.txt\n",
    "17445\tpg5200.txt_004.txt\n",
    "17332\tpg5200.txt_005.txt\n",
    "17381\tpg5200.txt_006.txt\n",
    "17437\tpg5200.txt_007.txt\n",
    "You should think about making your file sizes as uniform as possible (this not graded, however). Otherwise, for a very long file, the last file may be inordinately large, as compared to the others. Your algorithm should pass through the file exactly once. You should assume that you cannot read the entire file into memory at once. If possible, you also want to minimize how much you move the file pointer around in the file. You should ensure that your code produces the file sizes that are indicated for each of the cases shown above.\n",
    "\n",
    "Here is the function signature:\n",
    "\n",
    "def split_by_n(fname,n=3):\n",
    "    '''\n",
    "    Split files into sub files of near same size\n",
    "    fname : Input file name\n",
    "    n is the number of segments\n",
    "    '''\n",
    "Hint: Use wt as the file write mode.\n",
    "The individual filenames should include the original filename (fname) and a number indicating the current file sequence number in the split. For example, if pg5200.txt is the original file then the 8th division should be named pg5200.txt_007.txt. Your code should strive to produce file sizes as close to the file sizes shown in the example above."
   ]
  },
  {
   "cell_type": "markdown",
   "metadata": {},
   "source": [
    "## Validation tests"
   ]
  },
  {
   "cell_type": "code",
   "execution_count": null,
   "metadata": {},
   "outputs": [],
   "source": [
    "#<add validation tests here>"
   ]
  },
  {
   "cell_type": "markdown",
   "metadata": {},
   "source": [
    "## Functional tests"
   ]
  },
  {
   "cell_type": "code",
   "execution_count": 2,
   "metadata": {},
   "outputs": [],
   "source": [
    "#<add functional tests here>"
   ]
  },
  {
   "cell_type": "markdown",
   "metadata": {},
   "source": [
    "## Question 2 - Encrypted Sentence\n",
    "We will implement a very simple encryption scheme that closely resembles the one-time-pad. You have probably seen this method used in movies like Unknown. The idea is that you and your counterparty share a book whose words you will use as the raw material for a codebook. In this case, you need Metamorphosis, by Franz Kafka.\n",
    "Your job is to create a codebook of 2-tuples that map to specific words in the given text based on the line and position the words appears in the text. The text is very long so there will be duplicated words. Strip out all of the punctuation and make everything lowercase.\n",
    "For example, the word let appears on line 1683 in the text as the fifth word (reading from left-to-right). Similarly, the word us appears in the text on line 1761 as the fifth word.\n",
    "Thus, if the message you want to send is the following:\n",
    "let us not say we met late at the night about the secret \n",
    "Then, one possible valid sequence for that message is the following:\n",
    "\n",
    " [(1394, 2), (1773, 11), (894, 10), (840, 1), (541, 2), (1192, 5), (1984, 7), (2112, 6), (1557, 2), (959, 8), (53, 10), (2232, 8), (552, 5)] \n",
    " \n",
    "Your counterparty receives the above sequence of tuples, and, because she has the same text, she is able to look up the line and word numbers of each of the tuples to retrieve the encoded message. Notice that the word the appears twice in the above message but is encoded differently each time. This is because re-using codewords (i.e., 2-tuples) destroys the encryption strength. In case of repeated words, you should have a randomized scheme to ensure that no message contains the same 2-tuple, even if the same word appears multiple times in the message. If there is only one occurrence of a word in the text and the message uses that word repeatedly so that each occurrence of the word cannot have a unique 2-tuple, then the message should be rejected (i.e., assert against this).\n",
    "Your assignment is to create an encryption function and the corresponding decryption function to implement this scheme. Note that your downloaded text should have 2362 lines and 25186 words in it."
   ]
  },
  {
   "cell_type": "markdown",
   "metadata": {},
   "source": [
    "## Validation Tests"
   ]
  },
  {
   "cell_type": "code",
   "execution_count": 5,
   "metadata": {},
   "outputs": [],
   "source": [
    "#<Enter Validation tests here>"
   ]
  },
  {
   "cell_type": "markdown",
   "metadata": {},
   "source": [
    "## Functional tests"
   ]
  },
  {
   "cell_type": "code",
   "execution_count": 6,
   "metadata": {},
   "outputs": [],
   "source": [
    "#<Enter functional tests here>"
   ]
  },
  {
   "cell_type": "markdown",
   "metadata": {},
   "source": [
    "## Question 3 - Multinomial\n",
    "Enter problem description here"
   ]
  },
  {
   "cell_type": "markdown",
   "metadata": {},
   "source": [
    "## Validation tests"
   ]
  },
  {
   "cell_type": "code",
   "execution_count": 9,
   "metadata": {},
   "outputs": [],
   "source": [
    "#<enter validation tests here>"
   ]
  },
  {
   "cell_type": "markdown",
   "metadata": {},
   "source": [
    "## Functional Tests"
   ]
  },
  {
   "cell_type": "code",
   "execution_count": 8,
   "metadata": {},
   "outputs": [],
   "source": [
    "#<Enter functional tests here> "
   ]
  },
  {
   "cell_type": "code",
   "execution_count": null,
   "metadata": {},
   "outputs": [],
   "source": []
  }
 ],
 "metadata": {
  "kernelspec": {
   "display_name": "Python 3",
   "language": "python",
   "name": "python3"
  },
  "language_info": {
   "codemirror_mode": {
    "name": "ipython",
    "version": 3
   },
   "file_extension": ".py",
   "mimetype": "text/x-python",
   "name": "python",
   "nbconvert_exporter": "python",
   "pygments_lexer": "ipython3",
   "version": "3.7.4"
  }
 },
 "nbformat": 4,
 "nbformat_minor": 2
}
