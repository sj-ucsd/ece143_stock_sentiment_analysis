{
  "nbformat": 4,
  "nbformat_minor": 0,
  "metadata": {
    "colab": {
      "name": "analyse_reddit_data_ish.ipynb",
      "provenance": [],
      "history_visible": true
    },
    "kernelspec": {
      "name": "python3",
      "display_name": "Python 3"
    }
  },
  "cells": [
    {
      "cell_type": "code",
      "metadata": {
        "colab": {
          "base_uri": "https://localhost:8080/"
        },
        "id": "GsgtnFaG_ESS",
        "outputId": "fadd4f1a-0676-446d-80af-8fdee21e0bae"
      },
      "source": [
        "import numpy as np\n",
        "import pandas as pd\n",
        "import os\n",
        "!pip install yahooquery\n",
        "import yahooquery\n",
        "from pandas_datareader import data\n",
        "from datetime import timedelta, date, datetime"
      ],
      "execution_count": 1,
      "outputs": [
        {
          "output_type": "stream",
          "text": [
            "Collecting yahooquery\n",
            "\u001b[?25l  Downloading https://files.pythonhosted.org/packages/0e/73/e1ae346b40d5fd48747a4153339e36e4b95bc0338688a269fd9ca7862320/yahooquery-2.2.15-py2.py3-none-any.whl (46kB)\n",
            "\u001b[K     |████████████████████████████████| 51kB 3.5MB/s \n",
            "\u001b[?25hCollecting lxml>=4.6.2\n",
            "\u001b[?25l  Downloading https://files.pythonhosted.org/packages/d2/88/b25778f17e5320c1c58f8c5060fb5b037288e162bd7554c30799e9ea90db/lxml-4.6.2-cp37-cp37m-manylinux1_x86_64.whl (5.5MB)\n",
            "\u001b[K     |████████████████████████████████| 5.5MB 11.5MB/s \n",
            "\u001b[?25hRequirement already satisfied: pandas>=0.24.0 in /usr/local/lib/python3.7/dist-packages (from yahooquery) (1.1.5)\n",
            "Collecting requests-futures>=1.0.0\n",
            "  Downloading https://files.pythonhosted.org/packages/47/c4/fd48d1ac5110a5457c71ac7cc4caa93da10a80b8de71112430e439bdee22/requests-futures-1.0.0.tar.gz\n",
            "Collecting tqdm>=4.54.1\n",
            "\u001b[?25l  Downloading https://files.pythonhosted.org/packages/4e/8c/f1035bd24b0e352ddba7be320abc1603fc4c9976fcda6971ed287be59164/tqdm-4.58.0-py2.py3-none-any.whl (73kB)\n",
            "\u001b[K     |████████████████████████████████| 81kB 7.6MB/s \n",
            "\u001b[?25hRequirement already satisfied: python-dateutil>=2.7.3 in /usr/local/lib/python3.7/dist-packages (from pandas>=0.24.0->yahooquery) (2.8.1)\n",
            "Requirement already satisfied: pytz>=2017.2 in /usr/local/lib/python3.7/dist-packages (from pandas>=0.24.0->yahooquery) (2018.9)\n",
            "Requirement already satisfied: numpy>=1.15.4 in /usr/local/lib/python3.7/dist-packages (from pandas>=0.24.0->yahooquery) (1.19.5)\n",
            "Requirement already satisfied: requests>=1.2.0 in /usr/local/lib/python3.7/dist-packages (from requests-futures>=1.0.0->yahooquery) (2.23.0)\n",
            "Requirement already satisfied: six>=1.5 in /usr/local/lib/python3.7/dist-packages (from python-dateutil>=2.7.3->pandas>=0.24.0->yahooquery) (1.15.0)\n",
            "Requirement already satisfied: idna<3,>=2.5 in /usr/local/lib/python3.7/dist-packages (from requests>=1.2.0->requests-futures>=1.0.0->yahooquery) (2.10)\n",
            "Requirement already satisfied: certifi>=2017.4.17 in /usr/local/lib/python3.7/dist-packages (from requests>=1.2.0->requests-futures>=1.0.0->yahooquery) (2020.12.5)\n",
            "Requirement already satisfied: chardet<4,>=3.0.2 in /usr/local/lib/python3.7/dist-packages (from requests>=1.2.0->requests-futures>=1.0.0->yahooquery) (3.0.4)\n",
            "Requirement already satisfied: urllib3!=1.25.0,!=1.25.1,<1.26,>=1.21.1 in /usr/local/lib/python3.7/dist-packages (from requests>=1.2.0->requests-futures>=1.0.0->yahooquery) (1.24.3)\n",
            "Building wheels for collected packages: requests-futures\n",
            "  Building wheel for requests-futures (setup.py) ... \u001b[?25l\u001b[?25hdone\n",
            "  Created wheel for requests-futures: filename=requests_futures-1.0.0-cp37-none-any.whl size=7012 sha256=8e5b398ff0a8563f25fc1a3f2db9a79adf21709dee7143fd0489e01a586d5621\n",
            "  Stored in directory: /root/.cache/pip/wheels/26/d0/f5/dc4e4a37bbe55c9acf967d2bd899152412c1e49c227f5395ff\n",
            "Successfully built requests-futures\n",
            "Installing collected packages: lxml, requests-futures, tqdm, yahooquery\n",
            "  Found existing installation: lxml 4.2.6\n",
            "    Uninstalling lxml-4.2.6:\n",
            "      Successfully uninstalled lxml-4.2.6\n",
            "  Found existing installation: tqdm 4.41.1\n",
            "    Uninstalling tqdm-4.41.1:\n",
            "      Successfully uninstalled tqdm-4.41.1\n",
            "Successfully installed lxml-4.6.2 requests-futures-1.0.0 tqdm-4.58.0 yahooquery-2.2.15\n"
          ],
          "name": "stdout"
        }
      ]
    },
    {
      "cell_type": "code",
      "metadata": {
        "id": "DYtfGIfsBVex"
      },
      "source": [
        "# import pandas as pd\n",
        "# from sklearn.model_selection import train_test_split\n",
        "# from sklearn.linear_model import LogisticRegression\n",
        "# from sklearn import metrics\n",
        "# import seaborn as sn\n",
        "# import matplotlib.pyplot as plt\n",
        "# from sklearn.preprocessing import StandardScaler\n",
        "# from sklearn.preprocessing import OneHotEncoder\n",
        "# from sklearn.preprocessing import LabelEncoder\n",
        "# from sklearn.neural_network import MLPRegressor\n",
        "# from sklearn.metrics import r2_score\n",
        "\n",
        "# import matplotlib.pyplot as plt"
      ],
      "execution_count": 2,
      "outputs": []
    },
    {
      "cell_type": "code",
      "metadata": {
        "id": "gIsbTEKo_GB2"
      },
      "source": [
        ""
      ],
      "execution_count": 2,
      "outputs": []
    },
    {
      "cell_type": "markdown",
      "metadata": {
        "id": "loFoARbG_Hi_"
      },
      "source": [
        "# Get yahoo ground truth stock data"
      ]
    },
    {
      "cell_type": "code",
      "metadata": {
        "id": "r8Re5SDf_GID"
      },
      "source": [
        "def get_yahoo_dataframe(symbol):\n",
        "  # Get historical data\n",
        "  #symbol = 'AAPL'\n",
        "  ticker = yahooquery.Ticker(symbol)\n",
        "  # df = pd.DataFrame(ticker.history(start='2020-06-01', end='2021-01-29'))\n",
        "  avg_df=data.DataReader(symbol, 'yahoo', '20190213', '20210213').reset_index()\n",
        "\n",
        "  # # compute weekly average and monthly average\n",
        "  # avg_df['Date'] = avg_df['Date'].apply(lambda x: datetime.strptime(x, '%Y-%m-%d'))\n",
        "  avg_df = avg_df.set_index('Date')\n",
        "  dates = pd.date_range(avg_df.index[0], avg_df.index[-1], freq='D')\n",
        "\n",
        "  avg_df = avg_df.reindex(dates) \n",
        "  avg_df.reindex(dates)\n",
        "\n",
        "  return avg_df\n",
        "\n",
        "def prepare_data_Y_for_ML(df, how_long=7):\n",
        "  # how_long = \"weekly\": 7, \"monthly\":40, \"Quarterly\":90\n",
        "  advance = df['Adj Close'].shift(-how_long)\n",
        "  Y = ((advance - df['Adj Close'])/df['Adj Close'])*100\n",
        "  #Y=Y[how_long:]\n",
        "  return Y \n"
      ],
      "execution_count": 3,
      "outputs": []
    },
    {
      "cell_type": "code",
      "metadata": {
        "id": "77xN7ZaM_GNy"
      },
      "source": [
        "\n"
      ],
      "execution_count": 3,
      "outputs": []
    },
    {
      "cell_type": "code",
      "metadata": {
        "colab": {
          "base_uri": "https://localhost:8080/"
        },
        "id": "vsPnZ7t_CMDR",
        "outputId": "8cf2b311-7cd6-428c-d260-b4436241b2bd"
      },
      "source": [
        "from google.colab import drive\n",
        "# drive.flush_and_unmount()\n",
        "drive.mount('/content/gdrive',force_remount=True)"
      ],
      "execution_count": 4,
      "outputs": [
        {
          "output_type": "stream",
          "text": [
            "Mounted at /content/gdrive\n"
          ],
          "name": "stdout"
        }
      ]
    },
    {
      "cell_type": "markdown",
      "metadata": {
        "id": "--rIPbirb06j"
      },
      "source": [
        "# One time write to csv"
      ]
    },
    {
      "cell_type": "code",
      "metadata": {
        "id": "GGA0GAYKCMZg"
      },
      "source": [
        "# symbol='AAPL'\n",
        "# symlist = ['AAPL', 'ADI', 'AMT', 'AMZN', 'BABA', 'COUP', 'CRM', 'ERIC', 'GOOGL', 'MELI', 'MSFT', 'NVDA', 'OKTA', 'PANW', 'PYPL', 'QCOM', 'SHOP', 'SQ', 'TMUS']\n",
        "# for symbol in symlist:\n",
        "#   df_x=pd.read_csv('/content/gdrive/My Drive/Colab Notebooks/reddit_avg_data/{}_avg.csv'.format(symbol), index_col=0)\n",
        "#   df=get_yahoo_dataframe(symbol)\n",
        "#   df[\"short-term stock\"]=prepare_data_Y_for_ML(df, how_long=7)\n",
        "#   df[\"mid-term stock\"]=prepare_data_Y_for_ML(df, how_long=40)\n",
        "#   df[\"long-term stock\"]=prepare_data_Y_for_ML(df,how_long=90)\n",
        "#   df.to_csv('/content/gdrive/My Drive/Colab Notebooks/yahoo_stock_ground_truth/{}_avg.csv'.format(symbol))"
      ],
      "execution_count": 5,
      "outputs": []
    },
    {
      "cell_type": "markdown",
      "metadata": {
        "id": "qBoaPTnTb3vq"
      },
      "source": [
        "# real time analysis"
      ]
    },
    {
      "cell_type": "code",
      "metadata": {
        "colab": {
          "base_uri": "https://localhost:8080/",
          "height": 424
        },
        "id": "vbGcnHLDCMfg",
        "outputId": "c7a2c1d6-131f-4b17-d5aa-2cf1ccde99e3"
      },
      "source": [
        "symlist = ['AAPL', 'ADI', 'AMT', 'AMZN', 'BABA', 'COUP', 'CRM', 'ERIC', 'GOOGL', 'MELI', 'MSFT', 'NVDA', 'OKTA', 'PANW', 'PYPL', 'QCOM', 'SHOP', 'SQ', 'TMUS']\n",
        "\n",
        "all_df_list=[]\n",
        "for symbol in symlist:\n",
        "  df=pd.read_csv('/content/gdrive/My Drive/Colab Notebooks/yahoo_stock_ground_truth/{}_avg.csv'.format(symbol))\n",
        "  all_df_list.append(df)\n",
        "all_df=pd.concat(all_df_list)\n",
        "all_df"
      ],
      "execution_count": 12,
      "outputs": [
        {
          "output_type": "execute_result",
          "data": {
            "text/html": [
              "<div>\n",
              "<style scoped>\n",
              "    .dataframe tbody tr th:only-of-type {\n",
              "        vertical-align: middle;\n",
              "    }\n",
              "\n",
              "    .dataframe tbody tr th {\n",
              "        vertical-align: top;\n",
              "    }\n",
              "\n",
              "    .dataframe thead th {\n",
              "        text-align: right;\n",
              "    }\n",
              "</style>\n",
              "<table border=\"1\" class=\"dataframe\">\n",
              "  <thead>\n",
              "    <tr style=\"text-align: right;\">\n",
              "      <th></th>\n",
              "      <th>Unnamed: 0</th>\n",
              "      <th>High</th>\n",
              "      <th>Low</th>\n",
              "      <th>Open</th>\n",
              "      <th>Close</th>\n",
              "      <th>Volume</th>\n",
              "      <th>Adj Close</th>\n",
              "      <th>short-term stock</th>\n",
              "      <th>mid-term stock</th>\n",
              "      <th>long-term stock</th>\n",
              "    </tr>\n",
              "  </thead>\n",
              "  <tbody>\n",
              "    <tr>\n",
              "      <th>0</th>\n",
              "      <td>2019-02-13</td>\n",
              "      <td>43.119999</td>\n",
              "      <td>42.480000</td>\n",
              "      <td>42.847500</td>\n",
              "      <td>42.544998</td>\n",
              "      <td>89960800.0</td>\n",
              "      <td>41.672295</td>\n",
              "      <td>1.087097</td>\n",
              "      <td>10.906092</td>\n",
              "      <td>11.286012</td>\n",
              "    </tr>\n",
              "    <tr>\n",
              "      <th>1</th>\n",
              "      <td>2019-02-14</td>\n",
              "      <td>42.814999</td>\n",
              "      <td>42.345001</td>\n",
              "      <td>42.427502</td>\n",
              "      <td>42.700001</td>\n",
              "      <td>87342800.0</td>\n",
              "      <td>41.824120</td>\n",
              "      <td>0.152217</td>\n",
              "      <td>9.361824</td>\n",
              "      <td>12.210307</td>\n",
              "    </tr>\n",
              "    <tr>\n",
              "      <th>2</th>\n",
              "      <td>2019-02-15</td>\n",
              "      <td>42.924999</td>\n",
              "      <td>42.437500</td>\n",
              "      <td>42.812500</td>\n",
              "      <td>42.605000</td>\n",
              "      <td>98507200.0</td>\n",
              "      <td>41.731060</td>\n",
              "      <td>1.496333</td>\n",
              "      <td>10.591499</td>\n",
              "      <td>11.965742</td>\n",
              "    </tr>\n",
              "    <tr>\n",
              "      <th>3</th>\n",
              "      <td>2019-02-16</td>\n",
              "      <td>NaN</td>\n",
              "      <td>NaN</td>\n",
              "      <td>NaN</td>\n",
              "      <td>NaN</td>\n",
              "      <td>NaN</td>\n",
              "      <td>NaN</td>\n",
              "      <td>NaN</td>\n",
              "      <td>NaN</td>\n",
              "      <td>NaN</td>\n",
              "    </tr>\n",
              "    <tr>\n",
              "      <th>4</th>\n",
              "      <td>2019-02-17</td>\n",
              "      <td>NaN</td>\n",
              "      <td>NaN</td>\n",
              "      <td>NaN</td>\n",
              "      <td>NaN</td>\n",
              "      <td>NaN</td>\n",
              "      <td>NaN</td>\n",
              "      <td>NaN</td>\n",
              "      <td>NaN</td>\n",
              "      <td>NaN</td>\n",
              "    </tr>\n",
              "    <tr>\n",
              "      <th>...</th>\n",
              "      <td>...</td>\n",
              "      <td>...</td>\n",
              "      <td>...</td>\n",
              "      <td>...</td>\n",
              "      <td>...</td>\n",
              "      <td>...</td>\n",
              "      <td>...</td>\n",
              "      <td>...</td>\n",
              "      <td>...</td>\n",
              "      <td>...</td>\n",
              "    </tr>\n",
              "    <tr>\n",
              "      <th>726</th>\n",
              "      <td>2021-02-08</td>\n",
              "      <td>126.260002</td>\n",
              "      <td>122.540001</td>\n",
              "      <td>126.199997</td>\n",
              "      <td>126.099998</td>\n",
              "      <td>5742600.0</td>\n",
              "      <td>126.099998</td>\n",
              "      <td>NaN</td>\n",
              "      <td>NaN</td>\n",
              "      <td>NaN</td>\n",
              "    </tr>\n",
              "    <tr>\n",
              "      <th>727</th>\n",
              "      <td>2021-02-09</td>\n",
              "      <td>125.989998</td>\n",
              "      <td>124.050003</td>\n",
              "      <td>125.919998</td>\n",
              "      <td>124.449997</td>\n",
              "      <td>3342900.0</td>\n",
              "      <td>124.449997</td>\n",
              "      <td>NaN</td>\n",
              "      <td>NaN</td>\n",
              "      <td>NaN</td>\n",
              "    </tr>\n",
              "    <tr>\n",
              "      <th>728</th>\n",
              "      <td>2021-02-10</td>\n",
              "      <td>125.660004</td>\n",
              "      <td>124.320000</td>\n",
              "      <td>125.110001</td>\n",
              "      <td>124.489998</td>\n",
              "      <td>2880000.0</td>\n",
              "      <td>124.489998</td>\n",
              "      <td>NaN</td>\n",
              "      <td>NaN</td>\n",
              "      <td>NaN</td>\n",
              "    </tr>\n",
              "    <tr>\n",
              "      <th>729</th>\n",
              "      <td>2021-02-11</td>\n",
              "      <td>125.449997</td>\n",
              "      <td>123.459999</td>\n",
              "      <td>125.430000</td>\n",
              "      <td>124.400002</td>\n",
              "      <td>3084900.0</td>\n",
              "      <td>124.400002</td>\n",
              "      <td>NaN</td>\n",
              "      <td>NaN</td>\n",
              "      <td>NaN</td>\n",
              "    </tr>\n",
              "    <tr>\n",
              "      <th>730</th>\n",
              "      <td>2021-02-12</td>\n",
              "      <td>124.050003</td>\n",
              "      <td>122.680000</td>\n",
              "      <td>123.809998</td>\n",
              "      <td>123.680000</td>\n",
              "      <td>2712000.0</td>\n",
              "      <td>123.680000</td>\n",
              "      <td>NaN</td>\n",
              "      <td>NaN</td>\n",
              "      <td>NaN</td>\n",
              "    </tr>\n",
              "  </tbody>\n",
              "</table>\n",
              "<p>13889 rows × 10 columns</p>\n",
              "</div>"
            ],
            "text/plain": [
              "     Unnamed: 0        High  ...  mid-term stock  long-term stock\n",
              "0    2019-02-13   43.119999  ...       10.906092        11.286012\n",
              "1    2019-02-14   42.814999  ...        9.361824        12.210307\n",
              "2    2019-02-15   42.924999  ...       10.591499        11.965742\n",
              "3    2019-02-16         NaN  ...             NaN              NaN\n",
              "4    2019-02-17         NaN  ...             NaN              NaN\n",
              "..          ...         ...  ...             ...              ...\n",
              "726  2021-02-08  126.260002  ...             NaN              NaN\n",
              "727  2021-02-09  125.989998  ...             NaN              NaN\n",
              "728  2021-02-10  125.660004  ...             NaN              NaN\n",
              "729  2021-02-11  125.449997  ...             NaN              NaN\n",
              "730  2021-02-12  124.050003  ...             NaN              NaN\n",
              "\n",
              "[13889 rows x 10 columns]"
            ]
          },
          "metadata": {
            "tags": []
          },
          "execution_count": 12
        }
      ]
    },
    {
      "cell_type": "code",
      "metadata": {
        "colab": {
          "base_uri": "https://localhost:8080/",
          "height": 1000
        },
        "id": "nkqXvfu9E5Ip",
        "outputId": "5ad04df4-bc94-4af3-96a0-2d214a0f9b6d"
      },
      "source": [
        "# Twitter data\n",
        "all_X_list=[]\n",
        "for symbol in symlist:\n",
        "  df=pd.read_csv('/content/gdrive/My Drive/Colab Notebooks/twitter_avgData/{}_Twitavg.csv'.format(symbol), index_col=0)\n",
        "  all_X_list.append(df)\n",
        "  \n",
        "  print(df.shape)\n",
        "  print(symbol+ ' start date:' +df.index[0] + ' End date:' +df.index[-1])\n",
        "\n",
        "all_X=pd.concat(all_X_list)\n",
        "all_X\n"
      ],
      "execution_count": 27,
      "outputs": [
        {
          "output_type": "stream",
          "text": [
            "(732, 5)\n",
            "AAPL start date:2019-02-13 End date:2021-02-13\n",
            "(732, 5)\n",
            "ADI start date:2019-02-13 End date:2021-02-13\n",
            "(732, 5)\n",
            "AMT start date:2019-02-13 End date:2021-02-13\n",
            "(732, 5)\n",
            "AMZN start date:2019-02-13 End date:2021-02-13\n",
            "(732, 5)\n",
            "BABA start date:2019-02-13 End date:2021-02-13\n",
            "(732, 5)\n",
            "COUP start date:2019-02-13 End date:2021-02-13\n",
            "(732, 5)\n",
            "CRM start date:2019-02-13 End date:2021-02-13\n",
            "(732, 5)\n",
            "ERIC start date:2019-02-13 End date:2021-02-13\n",
            "(732, 5)\n",
            "GOOGL start date:2019-02-13 End date:2021-02-13\n",
            "(732, 5)\n",
            "MELI start date:2019-02-13 End date:2021-02-13\n",
            "(732, 5)\n",
            "MSFT start date:2019-02-13 End date:2021-02-13\n",
            "(732, 5)\n",
            "NVDA start date:2019-02-13 End date:2021-02-13\n",
            "(732, 5)\n",
            "OKTA start date:2019-02-13 End date:2021-02-13\n",
            "(732, 5)\n",
            "PANW start date:2019-02-13 End date:2021-02-13\n",
            "(732, 5)\n",
            "PYPL start date:2019-02-13 End date:2021-02-13\n",
            "(732, 5)\n",
            "QCOM start date:2019-02-13 End date:2021-02-13\n",
            "(732, 5)\n",
            "SHOP start date:2019-02-13 End date:2021-02-13\n",
            "(732, 5)\n",
            "SQ start date:2019-02-13 End date:2021-02-13\n",
            "(732, 5)\n",
            "TMUS start date:2019-02-13 End date:2021-02-13\n"
          ],
          "name": "stdout"
        },
        {
          "output_type": "execute_result",
          "data": {
            "text/html": [
              "<div>\n",
              "<style scoped>\n",
              "    .dataframe tbody tr th:only-of-type {\n",
              "        vertical-align: middle;\n",
              "    }\n",
              "\n",
              "    .dataframe tbody tr th {\n",
              "        vertical-align: top;\n",
              "    }\n",
              "\n",
              "    .dataframe thead th {\n",
              "        text-align: right;\n",
              "    }\n",
              "</style>\n",
              "<table border=\"1\" class=\"dataframe\">\n",
              "  <thead>\n",
              "    <tr style=\"text-align: right;\">\n",
              "      <th></th>\n",
              "      <th>Daily average</th>\n",
              "      <th>weekly average</th>\n",
              "      <th>monthly average</th>\n",
              "      <th>long term average</th>\n",
              "      <th>short term average</th>\n",
              "    </tr>\n",
              "  </thead>\n",
              "  <tbody>\n",
              "    <tr>\n",
              "      <th>2019-02-13</th>\n",
              "      <td>0.192797</td>\n",
              "      <td>NaN</td>\n",
              "      <td>NaN</td>\n",
              "      <td>NaN</td>\n",
              "      <td>NaN</td>\n",
              "    </tr>\n",
              "    <tr>\n",
              "      <th>2019-02-14</th>\n",
              "      <td>0.325841</td>\n",
              "      <td>NaN</td>\n",
              "      <td>NaN</td>\n",
              "      <td>NaN</td>\n",
              "      <td>NaN</td>\n",
              "    </tr>\n",
              "    <tr>\n",
              "      <th>2019-02-15</th>\n",
              "      <td>0.126100</td>\n",
              "      <td>NaN</td>\n",
              "      <td>NaN</td>\n",
              "      <td>NaN</td>\n",
              "      <td>NaN</td>\n",
              "    </tr>\n",
              "    <tr>\n",
              "      <th>2019-02-16</th>\n",
              "      <td>0.206790</td>\n",
              "      <td>NaN</td>\n",
              "      <td>NaN</td>\n",
              "      <td>NaN</td>\n",
              "      <td>NaN</td>\n",
              "    </tr>\n",
              "    <tr>\n",
              "      <th>2019-02-17</th>\n",
              "      <td>0.235917</td>\n",
              "      <td>NaN</td>\n",
              "      <td>NaN</td>\n",
              "      <td>NaN</td>\n",
              "      <td>NaN</td>\n",
              "    </tr>\n",
              "    <tr>\n",
              "      <th>...</th>\n",
              "      <td>...</td>\n",
              "      <td>...</td>\n",
              "      <td>...</td>\n",
              "      <td>...</td>\n",
              "      <td>...</td>\n",
              "    </tr>\n",
              "    <tr>\n",
              "      <th>2021-02-09</th>\n",
              "      <td>0.088400</td>\n",
              "      <td>0.350547</td>\n",
              "      <td>1.204325</td>\n",
              "      <td>4.823876</td>\n",
              "      <td>0.350547</td>\n",
              "    </tr>\n",
              "    <tr>\n",
              "      <th>2021-02-10</th>\n",
              "      <td>0.043909</td>\n",
              "      <td>0.341746</td>\n",
              "      <td>1.214762</td>\n",
              "      <td>4.726012</td>\n",
              "      <td>0.341746</td>\n",
              "    </tr>\n",
              "    <tr>\n",
              "      <th>2021-02-11</th>\n",
              "      <td>0.047590</td>\n",
              "      <td>0.321151</td>\n",
              "      <td>1.225261</td>\n",
              "      <td>4.633190</td>\n",
              "      <td>0.321151</td>\n",
              "    </tr>\n",
              "    <tr>\n",
              "      <th>2021-02-12</th>\n",
              "      <td>0.041406</td>\n",
              "      <td>0.288077</td>\n",
              "      <td>1.235959</td>\n",
              "      <td>4.544684</td>\n",
              "      <td>0.288077</td>\n",
              "    </tr>\n",
              "    <tr>\n",
              "      <th>2021-02-13</th>\n",
              "      <td>0.041406</td>\n",
              "      <td>0.243255</td>\n",
              "      <td>1.247291</td>\n",
              "      <td>4.458875</td>\n",
              "      <td>0.243255</td>\n",
              "    </tr>\n",
              "  </tbody>\n",
              "</table>\n",
              "<p>13908 rows × 5 columns</p>\n",
              "</div>"
            ],
            "text/plain": [
              "            Daily average  ...  short term average\n",
              "2019-02-13       0.192797  ...                 NaN\n",
              "2019-02-14       0.325841  ...                 NaN\n",
              "2019-02-15       0.126100  ...                 NaN\n",
              "2019-02-16       0.206790  ...                 NaN\n",
              "2019-02-17       0.235917  ...                 NaN\n",
              "...                   ...  ...                 ...\n",
              "2021-02-09       0.088400  ...            0.350547\n",
              "2021-02-10       0.043909  ...            0.341746\n",
              "2021-02-11       0.047590  ...            0.321151\n",
              "2021-02-12       0.041406  ...            0.288077\n",
              "2021-02-13       0.041406  ...            0.243255\n",
              "\n",
              "[13908 rows x 5 columns]"
            ]
          },
          "metadata": {
            "tags": []
          },
          "execution_count": 27
        }
      ]
    },
    {
      "cell_type": "code",
      "metadata": {
        "id": "Ok_Z78_vE5Ol"
      },
      "source": [
        ""
      ],
      "execution_count": null,
      "outputs": []
    },
    {
      "cell_type": "code",
      "metadata": {
        "id": "D1ni678oE5UG"
      },
      "source": [
        ""
      ],
      "execution_count": null,
      "outputs": []
    }
  ]
}