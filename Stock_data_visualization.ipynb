{
 "cells": [
  {
   "cell_type": "markdown",
   "metadata": {},
   "source": [
    "# Visualization of basic data"
   ]
  },
  {
   "cell_type": "markdown",
   "metadata": {},
   "source": [
    "We will retrive following data from various sources for the visualization:\n",
    "\n",
    "1) Stock price and volume history\n",
    "\n",
    "2) Stock sentiment from various sources - we might load some preprocesed sentiment\n"
   ]
  },
  {
   "cell_type": "code",
   "execution_count": 1,
   "metadata": {},
   "outputs": [],
   "source": [
    "import pandas as pd\n",
    "import yahooquery\n",
    "import nltk\n",
    "from nltk.sentiment.vader import SentimentIntensityAnalyzer\n",
    "from pandas_datareader import data\n",
    "import numpy as np\n",
    "import matplotlib.pyplot as plt\n",
    "import matplotlib.units as munits\n",
    "import datetime\n",
    "import matplotlib.dates as mdates\n",
    "import matplotlib.gridspec as gridspec\n"
   ]
  },
  {
   "cell_type": "markdown",
   "metadata": {},
   "source": [
    "## Import modules we created"
   ]
  },
  {
   "cell_type": "code",
   "execution_count": 2,
   "metadata": {},
   "outputs": [],
   "source": [
    "from stock_modules import prep_data\n",
    "from stock_modules.scrapers import news_scraper"
   ]
  },
  {
   "cell_type": "markdown",
   "metadata": {},
   "source": [
    "## Input parameters - change these for specific stocks of interest\n"
   ]
  },
  {
   "cell_type": "code",
   "execution_count": 3,
   "metadata": {},
   "outputs": [],
   "source": [
    "symbol='GME'\n",
    "start_date = '2021-01-01'\n",
    "end_date = '2021-01-13'"
   ]
  },
  {
   "cell_type": "markdown",
   "metadata": {},
   "source": [
    "## Basic stock data plots"
   ]
  },
  {
   "cell_type": "code",
   "execution_count": 4,
   "metadata": {},
   "outputs": [
    {
     "data": {
      "text/html": [
       "<div>\n",
       "<style scoped>\n",
       "    .dataframe tbody tr th:only-of-type {\n",
       "        vertical-align: middle;\n",
       "    }\n",
       "\n",
       "    .dataframe tbody tr th {\n",
       "        vertical-align: top;\n",
       "    }\n",
       "\n",
       "    .dataframe thead th {\n",
       "        text-align: right;\n",
       "    }\n",
       "</style>\n",
       "<table border=\"1\" class=\"dataframe\">\n",
       "  <thead>\n",
       "    <tr style=\"text-align: right;\">\n",
       "      <th></th>\n",
       "      <th>High</th>\n",
       "      <th>Low</th>\n",
       "      <th>Open</th>\n",
       "      <th>Close</th>\n",
       "      <th>Volume</th>\n",
       "      <th>Adj Close</th>\n",
       "    </tr>\n",
       "    <tr>\n",
       "      <th>Date</th>\n",
       "      <th></th>\n",
       "      <th></th>\n",
       "      <th></th>\n",
       "      <th></th>\n",
       "      <th></th>\n",
       "      <th></th>\n",
       "    </tr>\n",
       "  </thead>\n",
       "  <tbody>\n",
       "    <tr>\n",
       "      <td>2021-01-04</td>\n",
       "      <td>19.100000</td>\n",
       "      <td>17.150000</td>\n",
       "      <td>19.000000</td>\n",
       "      <td>17.250000</td>\n",
       "      <td>10022500</td>\n",
       "      <td>17.250000</td>\n",
       "    </tr>\n",
       "    <tr>\n",
       "      <td>2021-01-05</td>\n",
       "      <td>18.080000</td>\n",
       "      <td>17.230000</td>\n",
       "      <td>17.350000</td>\n",
       "      <td>17.370001</td>\n",
       "      <td>4961500</td>\n",
       "      <td>17.370001</td>\n",
       "    </tr>\n",
       "    <tr>\n",
       "      <td>2021-01-06</td>\n",
       "      <td>18.980000</td>\n",
       "      <td>17.330000</td>\n",
       "      <td>17.340000</td>\n",
       "      <td>18.360001</td>\n",
       "      <td>6056200</td>\n",
       "      <td>18.360001</td>\n",
       "    </tr>\n",
       "    <tr>\n",
       "      <td>2021-01-07</td>\n",
       "      <td>19.450001</td>\n",
       "      <td>18.020000</td>\n",
       "      <td>18.469999</td>\n",
       "      <td>18.080000</td>\n",
       "      <td>6129300</td>\n",
       "      <td>18.080000</td>\n",
       "    </tr>\n",
       "    <tr>\n",
       "      <td>2021-01-08</td>\n",
       "      <td>18.299999</td>\n",
       "      <td>17.080000</td>\n",
       "      <td>18.180000</td>\n",
       "      <td>17.690001</td>\n",
       "      <td>6482000</td>\n",
       "      <td>17.690001</td>\n",
       "    </tr>\n",
       "    <tr>\n",
       "      <td>2021-01-11</td>\n",
       "      <td>20.650000</td>\n",
       "      <td>19.010000</td>\n",
       "      <td>19.410000</td>\n",
       "      <td>19.940001</td>\n",
       "      <td>14927600</td>\n",
       "      <td>19.940001</td>\n",
       "    </tr>\n",
       "    <tr>\n",
       "      <td>2021-01-12</td>\n",
       "      <td>20.400000</td>\n",
       "      <td>19.320000</td>\n",
       "      <td>19.959999</td>\n",
       "      <td>19.950001</td>\n",
       "      <td>7060700</td>\n",
       "      <td>19.950001</td>\n",
       "    </tr>\n",
       "    <tr>\n",
       "      <td>2021-01-13</td>\n",
       "      <td>38.650002</td>\n",
       "      <td>20.030001</td>\n",
       "      <td>20.420000</td>\n",
       "      <td>31.400000</td>\n",
       "      <td>144501700</td>\n",
       "      <td>31.400000</td>\n",
       "    </tr>\n",
       "  </tbody>\n",
       "</table>\n",
       "</div>"
      ],
      "text/plain": [
       "                 High        Low       Open      Close     Volume  Adj Close\n",
       "Date                                                                        \n",
       "2021-01-04  19.100000  17.150000  19.000000  17.250000   10022500  17.250000\n",
       "2021-01-05  18.080000  17.230000  17.350000  17.370001    4961500  17.370001\n",
       "2021-01-06  18.980000  17.330000  17.340000  18.360001    6056200  18.360001\n",
       "2021-01-07  19.450001  18.020000  18.469999  18.080000    6129300  18.080000\n",
       "2021-01-08  18.299999  17.080000  18.180000  17.690001    6482000  17.690001\n",
       "2021-01-11  20.650000  19.010000  19.410000  19.940001   14927600  19.940001\n",
       "2021-01-12  20.400000  19.320000  19.959999  19.950001    7060700  19.950001\n",
       "2021-01-13  38.650002  20.030001  20.420000  31.400000  144501700  31.400000"
      ]
     },
     "execution_count": 4,
     "metadata": {},
     "output_type": "execute_result"
    }
   ],
   "source": [
    "#get stock history\n",
    "df = prep_data.get_stock_price(symbol,start_date,end_date)\n",
    "df"
   ]
  },
  {
   "cell_type": "markdown",
   "metadata": {},
   "source": [
    "### Price over time"
   ]
  },
  {
   "cell_type": "code",
   "execution_count": 5,
   "metadata": {},
   "outputs": [
    {
     "data": {
      "text/plain": [
       "Text(0.5, 1.0, 'GME chart')"
      ]
     },
     "execution_count": 5,
     "metadata": {},
     "output_type": "execute_result"
    },
    {
     "data": {
      "image/png": "[encoded data removed]",
      "text/plain": [
       "<Figure size 432x288 with 1 Axes>"
      ]
     },
     "metadata": {
      "needs_background": "light"
     },
     "output_type": "display_data"
    }
   ],
   "source": [
    "converter = mdates.ConciseDateConverter()\n",
    "munits.registry[np.datetime64] = converter\n",
    "munits.registry[datetime.date] = converter\n",
    "munits.registry[datetime.datetime] = converter\n",
    "fig = plt.figure()\n",
    "ax = fig.add_axes([0, 0, 1, 1])\n",
    "ax.plot(df[['Adj Close']],lw=3)\n",
    "ax.set_ylabel('Price $',fontsize=20)\n",
    "ax.spines['top'].set_visible(False)\n",
    "ax.spines['right'].set_visible(False)\n",
    "    \n",
    "    \n",
    "ax.set_title('{} chart'.format(symbol),fontsize=20)"
   ]
  },
  {
   "cell_type": "markdown",
   "metadata": {},
   "source": [
    "### Price vs Volume with moving average\n",
    "Plot also selects subset of data to focus as necessary"
   ]
  },
  {
   "cell_type": "code",
   "execution_count": 6,
   "metadata": {},
   "outputs": [],
   "source": [
    "#get data for symbol\n",
    "symbol = 'NVDA'\n",
    "start_date = '2019-09-01'\n",
    "end_date = '2020-09-01'\n",
    "df = prep_data.get_stock_price(symbol,start_date,end_date)\n",
    "# add a column for moving average\n",
    "moving_avg_period = 20\n",
    "df['20 day MA']=df['Adj Close'].rolling(moving_avg_period).mean()\n",
    "\n",
    "#Limit data to second half of 2020 (optional)\n",
    "#sub_start_date = '2021-01-01'\n",
    "#sub_end_date = '2021-03-04'\n",
    "#new_df = df.loc[sub_start_date:sub_end_date,:]"
   ]
  },
  {
   "cell_type": "code",
   "execution_count": 7,
   "metadata": {},
   "outputs": [
    {
     "data": {
      "text/plain": [
       "Text(0.5, 1.0, 'NVDA chart')"
      ]
     },
     "execution_count": 7,
     "metadata": {},
     "output_type": "execute_result"
    },
    {
     "data": {
      "image/png": "[encoded data removed]",
      "text/plain": [
       "<Figure size 576x432 with 2 Axes>"
      ]
     },
     "metadata": {
      "needs_background": "light"
     },
     "output_type": "display_data"
    }
   ],
   "source": [
    "converter = mdates.ConciseDateConverter()\n",
    "munits.registry[np.datetime64] = converter\n",
    "munits.registry[datetime.date] = converter\n",
    "munits.registry[datetime.datetime] = converter\n",
    "\n",
    "spec = gridspec.GridSpec(2,1, height_ratios=[4,2])\n",
    "#fig, axs = plt.subplots(2, 1,  constrained_layout=True, figsize=(6, 6))\n",
    "fig = plt.figure(figsize=(8,6))\n",
    "ax1 = fig.add_subplot(spec[0,0])\n",
    "ax2 = fig.add_subplot(spec[1,0])\n",
    "\n",
    "ax1.plot(df['Adj Close'], lw=3)\n",
    "ax1.plot(df['20 day MA'], lw=3)\n",
    "ax1.legend(('Stock price','Moving average'))\n",
    "ax1.set_ylabel('Price $',fontsize=16)\n",
    "ax1.spines['top'].set_visible(False)\n",
    "ax1.spines['right'].set_visible(False)\n",
    "#ax1.axes.get_xaxis().set_visible(False)\n",
    "ax2.bar(df['Volume'].index,df['Volume'])\n",
    "ax2.set_ylabel('Volume (M)',fontsize=16)\n",
    "ax2.spines['top'].set_visible(False)\n",
    "ax2.spines['right'].set_visible(False)\n",
    "ax2.axes.get_xaxis().set_visible(False)\n",
    "ax1.set_title('{} chart'.format(symbol),fontsize=13)"
   ]
  },
  {
   "cell_type": "markdown",
   "metadata": {},
   "source": [
    "### Price vs revenues"
   ]
  },
  {
   "cell_type": "code",
   "execution_count": 8,
   "metadata": {},
   "outputs": [],
   "source": [
    "#get data for symbol\n",
    "symbol='NVDA'\n",
    "start_date = '2019-09-01'\n",
    "end_date = '2020-09-01'\n",
    "df = prep_data.get_stock_price(symbol,start_date,end_date)\n",
    "\n",
    "#Get revenue data - previously downloaded and stored in CSV\n",
    "stock_file=prep_data.get_earnings_data(\"Data/earnings_data/{}.csv\".format(symbol), df)\n",
    "df = df.join(stock_file)"
   ]
  },
  {
   "cell_type": "code",
   "execution_count": 9,
   "metadata": {},
   "outputs": [
    {
     "data": {
      "text/plain": [
       "Text(0.5, 1.0, 'NVDA chart')"
      ]
     },
     "execution_count": 9,
     "metadata": {},
     "output_type": "execute_result"
    },
    {
     "data": {
      "image/png": "[encoded data removed]",
      "text/plain": [
       "<Figure size 720x432 with 2 Axes>"
      ]
     },
     "metadata": {
      "needs_background": "light"
     },
     "output_type": "display_data"
    }
   ],
   "source": [
    "#converter = mdates.ConciseDateConverter()\n",
    "#munits.registry[np.datetime64] = converter\n",
    "#munits.registry[datetime.date] = converter\n",
    "#munits.registry[datetime.datetime] = converter\n",
    "\n",
    "spec = gridspec.GridSpec(2,1, height_ratios=[5,2])\n",
    "\n",
    "fig = plt.figure(figsize=(10,6))\n",
    "ax1 = fig.add_subplot(spec[1,0])\n",
    "ax2 = fig.add_subplot(spec[0,0])\n",
    "\n",
    "ax1.plot(df['Reported_Revenue']/1000, lw=3,color='coral')\n",
    "ax1.set_ylabel('Revenue (B)',fontsize=13)\n",
    "ax1.spines['top'].set_visible(False)\n",
    "ax1.spines['right'].set_visible(False)\n",
    "ax1.axes.get_xaxis().set_visible(False)\n",
    "\n",
    "ax2.plot(df['Adj Close'],lw=3)\n",
    "ax2.set_ylabel('Price$',fontsize=13)\n",
    "ax2.spines['top'].set_visible(False)\n",
    "ax2.spines['right'].set_visible(False)\n",
    "\n",
    "ax2.set_title('{} chart'.format(symbol),fontsize=13)"
   ]
  },
  {
   "cell_type": "markdown",
   "metadata": {},
   "source": [
    "### Sentiment data for a stock"
   ]
  },
  {
   "cell_type": "markdown",
   "metadata": {},
   "source": [
    "#### Sentiment from Yahoo news"
   ]
  },
  {
   "cell_type": "code",
   "execution_count": 10,
   "metadata": {},
   "outputs": [
    {
     "name": "stderr",
     "output_type": "stream",
     "text": [
      "[nltk_data] Downloading package vader_lexicon to\n",
      "[nltk_data]     /Users/sagarjogadhenu/nltk_data...\n",
      "[nltk_data]   Package vader_lexicon is already up-to-date!\n"
     ]
    }
   ],
   "source": [
    "end_date = '2021-03-04'\n",
    "news = news_scraper.get_yahoo_news(symbol,end_date)\n",
    "sentiment_data=news_scraper.get_sentiment_from_news(news)"
   ]
  },
  {
   "cell_type": "code",
   "execution_count": 11,
   "metadata": {},
   "outputs": [
    {
     "data": {
      "text/html": [
       "<div>\n",
       "<style scoped>\n",
       "    .dataframe tbody tr th:only-of-type {\n",
       "        vertical-align: middle;\n",
       "    }\n",
       "\n",
       "    .dataframe tbody tr th {\n",
       "        vertical-align: top;\n",
       "    }\n",
       "\n",
       "    .dataframe thead th {\n",
       "        text-align: right;\n",
       "    }\n",
       "</style>\n",
       "<table border=\"1\" class=\"dataframe\">\n",
       "  <thead>\n",
       "    <tr style=\"text-align: right;\">\n",
       "      <th></th>\n",
       "      <th>provider_publish_time</th>\n",
       "      <th>title</th>\n",
       "      <th>summary</th>\n",
       "      <th>compound</th>\n",
       "      <th>negative</th>\n",
       "      <th>positive</th>\n",
       "      <th>neutral</th>\n",
       "    </tr>\n",
       "    <tr>\n",
       "      <th>date</th>\n",
       "      <th></th>\n",
       "      <th></th>\n",
       "      <th></th>\n",
       "      <th></th>\n",
       "      <th></th>\n",
       "      <th></th>\n",
       "      <th></th>\n",
       "    </tr>\n",
       "  </thead>\n",
       "  <tbody>\n",
       "    <tr>\n",
       "      <td>2020-03-16</td>\n",
       "      <td>1584372091</td>\n",
       "      <td>Video game industry gets boost amid the corona...</td>\n",
       "      <td>Yahoo Finance’s Dan Howley joins Alexis Christ...</td>\n",
       "      <td>0.4019</td>\n",
       "      <td>0.000</td>\n",
       "      <td>0.109</td>\n",
       "      <td>0.891</td>\n",
       "    </tr>\n",
       "    <tr>\n",
       "      <td>2020-03-17</td>\n",
       "      <td>1584477500</td>\n",
       "      <td>FedEx suspends guidance amid coronavirus uncer...</td>\n",
       "      <td>Shares of FedEx surged in the extended session...</td>\n",
       "      <td>0.2244</td>\n",
       "      <td>0.000</td>\n",
       "      <td>0.040</td>\n",
       "      <td>0.960</td>\n",
       "    </tr>\n",
       "    <tr>\n",
       "      <td>2020-03-25</td>\n",
       "      <td>1585146050</td>\n",
       "      <td>Markets Pare Strong Gains But Follow-through D...</td>\n",
       "      <td>Rally attempt remains alive despite indexes gi...</td>\n",
       "      <td>0.6872</td>\n",
       "      <td>0.062</td>\n",
       "      <td>0.235</td>\n",
       "      <td>0.703</td>\n",
       "    </tr>\n",
       "    <tr>\n",
       "      <td>2020-03-25</td>\n",
       "      <td>1585146378</td>\n",
       "      <td>Apple’s gaming rules limit number of games ava...</td>\n",
       "      <td>Yahoo Finance’s Alexis Christoforous, Brian So...</td>\n",
       "      <td>0.0772</td>\n",
       "      <td>0.000</td>\n",
       "      <td>0.042</td>\n",
       "      <td>0.958</td>\n",
       "    </tr>\n",
       "    <tr>\n",
       "      <td>2020-03-25</td>\n",
       "      <td>1585150171</td>\n",
       "      <td>With Support at 200-day Line And Prior Base, C...</td>\n",
       "      <td>Nvidia had a dramatic fall but its rebound was...</td>\n",
       "      <td>0.8402</td>\n",
       "      <td>0.000</td>\n",
       "      <td>0.267</td>\n",
       "      <td>0.733</td>\n",
       "    </tr>\n",
       "    <tr>\n",
       "      <td>...</td>\n",
       "      <td>...</td>\n",
       "      <td>...</td>\n",
       "      <td>...</td>\n",
       "      <td>...</td>\n",
       "      <td>...</td>\n",
       "      <td>...</td>\n",
       "      <td>...</td>\n",
       "    </tr>\n",
       "    <tr>\n",
       "      <td>2021-02-23</td>\n",
       "      <td>1614108500</td>\n",
       "      <td>Investing In Stocks: See How To Invest In 3 Si...</td>\n",
       "      <td>To invest in stocks, start with this simple th...</td>\n",
       "      <td>0.8176</td>\n",
       "      <td>0.000</td>\n",
       "      <td>0.288</td>\n",
       "      <td>0.712</td>\n",
       "    </tr>\n",
       "    <tr>\n",
       "      <td>2021-03-02</td>\n",
       "      <td>1614711421</td>\n",
       "      <td>This Stock List Has Trounced The S&amp;P 19.8% To ...</td>\n",
       "      <td>How can you identify the best stocks to buy an...</td>\n",
       "      <td>0.6369</td>\n",
       "      <td>0.000</td>\n",
       "      <td>0.144</td>\n",
       "      <td>0.856</td>\n",
       "    </tr>\n",
       "    <tr>\n",
       "      <td>2021-03-05</td>\n",
       "      <td>1614976854</td>\n",
       "      <td>How Nvidia Makes Money: Gaming, Data Center, a...</td>\n",
       "      <td>Nvidia&amp;#39;s graphics segment produces the vas...</td>\n",
       "      <td>0.4588</td>\n",
       "      <td>0.000</td>\n",
       "      <td>0.182</td>\n",
       "      <td>0.818</td>\n",
       "    </tr>\n",
       "    <tr>\n",
       "      <td>2021-03-09</td>\n",
       "      <td>1615327970</td>\n",
       "      <td>Is Nvidia Stock A Buy After Steep Decline, Tec...</td>\n",
       "      <td>Nvidia chips power a future of self-driving ca...</td>\n",
       "      <td>0.4404</td>\n",
       "      <td>0.000</td>\n",
       "      <td>0.108</td>\n",
       "      <td>0.892</td>\n",
       "    </tr>\n",
       "    <tr>\n",
       "      <td>2021-03-11</td>\n",
       "      <td>1615482048</td>\n",
       "      <td>Artificial Intelligence Stocks To Buy And Watc...</td>\n",
       "      <td>When looking for the best artificial intellige...</td>\n",
       "      <td>0.9274</td>\n",
       "      <td>0.000</td>\n",
       "      <td>0.362</td>\n",
       "      <td>0.638</td>\n",
       "    </tr>\n",
       "  </tbody>\n",
       "</table>\n",
       "<p>472 rows × 7 columns</p>\n",
       "</div>"
      ],
      "text/plain": [
       "            provider_publish_time  \\\n",
       "date                                \n",
       "2020-03-16             1584372091   \n",
       "2020-03-17             1584477500   \n",
       "2020-03-25             1585146050   \n",
       "2020-03-25             1585146378   \n",
       "2020-03-25             1585150171   \n",
       "...                           ...   \n",
       "2021-02-23             1614108500   \n",
       "2021-03-02             1614711421   \n",
       "2021-03-05             1614976854   \n",
       "2021-03-09             1615327970   \n",
       "2021-03-11             1615482048   \n",
       "\n",
       "                                                        title  \\\n",
       "date                                                            \n",
       "2020-03-16  Video game industry gets boost amid the corona...   \n",
       "2020-03-17  FedEx suspends guidance amid coronavirus uncer...   \n",
       "2020-03-25  Markets Pare Strong Gains But Follow-through D...   \n",
       "2020-03-25  Apple’s gaming rules limit number of games ava...   \n",
       "2020-03-25  With Support at 200-day Line And Prior Base, C...   \n",
       "...                                                       ...   \n",
       "2021-02-23  Investing In Stocks: See How To Invest In 3 Si...   \n",
       "2021-03-02  This Stock List Has Trounced The S&P 19.8% To ...   \n",
       "2021-03-05  How Nvidia Makes Money: Gaming, Data Center, a...   \n",
       "2021-03-09  Is Nvidia Stock A Buy After Steep Decline, Tec...   \n",
       "2021-03-11  Artificial Intelligence Stocks To Buy And Watc...   \n",
       "\n",
       "                                                      summary  compound  \\\n",
       "date                                                                      \n",
       "2020-03-16  Yahoo Finance’s Dan Howley joins Alexis Christ...    0.4019   \n",
       "2020-03-17  Shares of FedEx surged in the extended session...    0.2244   \n",
       "2020-03-25  Rally attempt remains alive despite indexes gi...    0.6872   \n",
       "2020-03-25  Yahoo Finance’s Alexis Christoforous, Brian So...    0.0772   \n",
       "2020-03-25  Nvidia had a dramatic fall but its rebound was...    0.8402   \n",
       "...                                                       ...       ...   \n",
       "2021-02-23  To invest in stocks, start with this simple th...    0.8176   \n",
       "2021-03-02  How can you identify the best stocks to buy an...    0.6369   \n",
       "2021-03-05  Nvidia&#39;s graphics segment produces the vas...    0.4588   \n",
       "2021-03-09  Nvidia chips power a future of self-driving ca...    0.4404   \n",
       "2021-03-11  When looking for the best artificial intellige...    0.9274   \n",
       "\n",
       "            negative  positive  neutral  \n",
       "date                                     \n",
       "2020-03-16     0.000     0.109    0.891  \n",
       "2020-03-17     0.000     0.040    0.960  \n",
       "2020-03-25     0.062     0.235    0.703  \n",
       "2020-03-25     0.000     0.042    0.958  \n",
       "2020-03-25     0.000     0.267    0.733  \n",
       "...              ...       ...      ...  \n",
       "2021-02-23     0.000     0.288    0.712  \n",
       "2021-03-02     0.000     0.144    0.856  \n",
       "2021-03-05     0.000     0.182    0.818  \n",
       "2021-03-09     0.000     0.108    0.892  \n",
       "2021-03-11     0.000     0.362    0.638  \n",
       "\n",
       "[472 rows x 7 columns]"
      ]
     },
     "execution_count": 11,
     "metadata": {},
     "output_type": "execute_result"
    }
   ],
   "source": [
    "news"
   ]
  },
  {
   "cell_type": "code",
   "execution_count": 12,
   "metadata": {},
   "outputs": [],
   "source": [
    "#news = news.rename(columns={'date':'Date'})\n",
    "article_count=news.groupby('date')[['title']].count().sort_index()\n",
    "article_count.index = article_count.index.astype('datetime64[ns]')"
   ]
  },
  {
   "cell_type": "code",
   "execution_count": 13,
   "metadata": {},
   "outputs": [
    {
     "data": {
      "text/plain": [
       "Text(0.5, 1.0, 'NVDA News')"
      ]
     },
     "execution_count": 13,
     "metadata": {},
     "output_type": "execute_result"
    },
    {
     "data": {
      "image/png": "[encoded data removed]",
      "text/plain": [
       "<Figure size 720x432 with 1 Axes>"
      ]
     },
     "metadata": {
      "needs_background": "light"
     },
     "output_type": "display_data"
    }
   ],
   "source": [
    "#converter = mdates.ConciseDateConverter()\n",
    "#munits.registry[np.datetime64] = converter\n",
    "#munits.registry[datetime.date] = converter\n",
    "#munits.registry[datetime.datetime] = converter\n",
    "\n",
    "fig = plt.figure(figsize=(10,6))\n",
    "ax = fig.add_axes([0, 0, 1, 1])\n",
    "ax.bar(article_count.index,article_count['title'] )\n",
    "ax.set_ylabel('Number of articles',fontsize=20)\n",
    "ax.spines['top'].set_visible(False)\n",
    "ax.spines['right'].set_visible(False)\n",
    "ax.set_title('{} News'.format(symbol),fontsize=13)"
   ]
  },
  {
   "cell_type": "code",
   "execution_count": 14,
   "metadata": {},
   "outputs": [],
   "source": [
    "s= news.groupby('date')[['negative', 'positive', 'neutral']].sum()\n",
    "s.index = s.index.astype('datetime64[ns]')"
   ]
  },
  {
   "cell_type": "code",
   "execution_count": 15,
   "metadata": {},
   "outputs": [
    {
     "data": {
      "text/plain": [
       "Text(0.5, 1.0, 'NVDA News sentiment')"
      ]
     },
     "execution_count": 15,
     "metadata": {},
     "output_type": "execute_result"
    },
    {
     "data": {
      "image/png": "[encoded data removed]",
      "text/plain": [
       "<Figure size 720x432 with 1 Axes>"
      ]
     },
     "metadata": {
      "needs_background": "light"
     },
     "output_type": "display_data"
    }
   ],
   "source": [
    "#converter = mdates.ConciseDateConverter()\n",
    "#munits.registry[np.datetime64] = converter\n",
    "#munits.registry[datetime.date] = converter\n",
    "#munits.registry[datetime.datetime] = converter\n",
    "\n",
    "fig = plt.figure(figsize=(10,6))\n",
    "ax = fig.add_axes([0, 0, 1, 1])\n",
    "ax.bar(s.index,s['positive'],width=1,label='positive sentiment')\n",
    "ax.bar(s.index,s['negative'],width=1,label='negative sentiment')\n",
    "plt.legend(loc=\"upper left\")\n",
    "#ax.bar(s.index,s['neutral'])\n",
    "ax.set_ylabel('Number of articles',fontsize=20)\n",
    "ax.spines['top'].set_visible(False)\n",
    "ax.spines['right'].set_visible(False)\n",
    "ax.set_title('{} News sentiment'.format(symbol),fontsize=13)"
   ]
  },
  {
   "cell_type": "markdown",
   "metadata": {},
   "source": [
    "### Twitter sentiment data"
   ]
  },
  {
   "cell_type": "code",
   "execution_count": 16,
   "metadata": {},
   "outputs": [],
   "source": [
    "\n",
    "symbol = 'PANW'\n",
    "sentiment_data1=pd.read_csv('Data/Twitter_data/cleanTwitter_data/{}_Twitavg.csv'.format(symbol))\n",
    "symbol = 'MELI'\n",
    "sentiment_data=pd.read_csv('Data/Twitter_data/cleanTwitter_data/{}_Twitavg.csv'.format(symbol))\n"
   ]
  },
  {
   "cell_type": "code",
   "execution_count": 17,
   "metadata": {},
   "outputs": [],
   "source": [
    "sentiment_data['Date'] = sentiment_data['Unnamed: 0']\n",
    "sentiment_data = sentiment_data.set_index('Date')\n",
    "sentiment_data1['Date'] = sentiment_data1['Unnamed: 0']\n",
    "sentiment_data1 = sentiment_data1.set_index('Date')\n",
    "sentiment_data.index = sentiment_data.index.astype('datetime64[ns]')\n",
    "sentiment_data1.index = sentiment_data1.index.astype('datetime64[ns]')"
   ]
  },
  {
   "cell_type": "code",
   "execution_count": 18,
   "metadata": {},
   "outputs": [
    {
     "data": {
      "text/plain": [
       "Text(0.5, 1.0, 'MELI and PANW News sentiment overlay')"
      ]
     },
     "execution_count": 18,
     "metadata": {},
     "output_type": "execute_result"
    },
    {
     "data": {
      "image/png": "[encoded data removed]",
      "text/plain": [
       "<Figure size 720x432 with 1 Axes>"
      ]
     },
     "metadata": {
      "needs_background": "light"
     },
     "output_type": "display_data"
    }
   ],
   "source": [
    "#converter = mdates.ConciseDateConverter()\n",
    "#munits.registry[np.datetime64] = converter\n",
    "#munits.registry[datetime.date] = converter\n",
    "#munits.registry[datetime.datetime] = converter\n",
    "\n",
    "fig = plt.figure(figsize=(10,6))\n",
    "ax = fig.add_axes([0, 0, 1, 1])\n",
    "ax.bar(sentiment_data.index, sentiment_data['monthly average'],color='darkblue',label='PANW')\n",
    "ax.bar(sentiment_data1.index, sentiment_data1['monthly average'],color='coral',label='MELI')\n",
    "#ax.bar(s.index,s['neutral'])\n",
    "plt.legend(loc=\"upper left\")\n",
    "ax.set_ylabel('Monthly average sentiment',fontsize=20)\n",
    "ax.spines['top'].set_visible(False)\n",
    "ax.spines['right'].set_visible(False)\n",
    "ax.set_title('MELI and PANW News sentiment overlay'.format(symbol),fontsize=13)"
   ]
  },
  {
   "cell_type": "markdown",
   "metadata": {},
   "source": [
    "### Comparision between Reddit, Twitter and News sentiment"
   ]
  },
  {
   "cell_type": "code",
   "execution_count": 19,
   "metadata": {
    "scrolled": true
   },
   "outputs": [
    {
     "name": "stderr",
     "output_type": "stream",
     "text": [
      "[nltk_data] Downloading package vader_lexicon to\n",
      "[nltk_data]     /Users/sagarjogadhenu/nltk_data...\n",
      "[nltk_data]   Package vader_lexicon is already up-to-date!\n"
     ]
    }
   ],
   "source": [
    "symbol = 'BABA'\n",
    "t_sentiment=pd.read_csv('Data/Twitter_data/cleanTwitter_data/{}_Twitavg.csv'.format(symbol))\n",
    "r_sentiment = pd.read_csv('Data/Reddit_data/cleanReddit_data/{}_avg.csv'.format(symbol))\n",
    "end_date = '2021-03-03'\n",
    "news = news_scraper.get_yahoo_news(symbol,end_date)\n",
    "n_sentiment=news_scraper.get_sentiment_from_news(news)\n",
    "#n_sentiment['Monthly Sentiment'] = n_sentiment['Avg Sentiment'].rolling(20, win_type='triang').mean()"
   ]
  },
  {
   "cell_type": "code",
   "execution_count": 20,
   "metadata": {},
   "outputs": [],
   "source": [
    "t_sentiment.rename({'Unnamed: 0': 'Date', 'monthly average':'t_m average'}, axis=1,inplace=True)\n",
    "t_sentiment = t_sentiment.set_index('Date')\n",
    "t_sentiment.index = t_sentiment.index.astype('datetime64[ns]')\n",
    "r_sentiment.rename({'Unnamed: 0': 'Date', 'monthly average':'r_m average'}, axis=1,inplace=True)\n",
    "r_sentiment = r_sentiment.set_index('Date')\n",
    "r_sentiment.index = r_sentiment.index.astype('datetime64[ns]')\n",
    "n_sentiment.rename({'weekly average':'n_w average','monthly average':'n_m average'}, axis=1,inplace=True)\n",
    "sentiment_data = pd.concat([t_sentiment, r_sentiment],axis=1)\n",
    "sentiment_data = sentiment_data.join(n_sentiment[['n_w average', 'n_m average']])\n",
    "sentiment_data = sentiment_data.fillna(0)"
   ]
  },
  {
   "cell_type": "code",
   "execution_count": 21,
   "metadata": {},
   "outputs": [
    {
     "data": {
      "text/html": [
       "<div>\n",
       "<style scoped>\n",
       "    .dataframe tbody tr th:only-of-type {\n",
       "        vertical-align: middle;\n",
       "    }\n",
       "\n",
       "    .dataframe tbody tr th {\n",
       "        vertical-align: top;\n",
       "    }\n",
       "\n",
       "    .dataframe thead th {\n",
       "        text-align: right;\n",
       "    }\n",
       "</style>\n",
       "<table border=\"1\" class=\"dataframe\">\n",
       "  <thead>\n",
       "    <tr style=\"text-align: right;\">\n",
       "      <th></th>\n",
       "      <th>Daily average</th>\n",
       "      <th>weekly average</th>\n",
       "      <th>t_m average</th>\n",
       "      <th>long term average</th>\n",
       "      <th>short term average</th>\n",
       "      <th>Daily average</th>\n",
       "      <th>weekly average</th>\n",
       "      <th>r_m average</th>\n",
       "      <th>long term average</th>\n",
       "      <th>short term average</th>\n",
       "      <th>n_w average</th>\n",
       "      <th>n_m average</th>\n",
       "    </tr>\n",
       "    <tr>\n",
       "      <th>Date</th>\n",
       "      <th></th>\n",
       "      <th></th>\n",
       "      <th></th>\n",
       "      <th></th>\n",
       "      <th></th>\n",
       "      <th></th>\n",
       "      <th></th>\n",
       "      <th></th>\n",
       "      <th></th>\n",
       "      <th></th>\n",
       "      <th></th>\n",
       "      <th></th>\n",
       "    </tr>\n",
       "  </thead>\n",
       "  <tbody>\n",
       "    <tr>\n",
       "      <td>2019-02-13</td>\n",
       "      <td>0.192797</td>\n",
       "      <td>0.000000</td>\n",
       "      <td>0.000000</td>\n",
       "      <td>0.000000</td>\n",
       "      <td>0.000000</td>\n",
       "      <td>0.257233</td>\n",
       "      <td>0.000000</td>\n",
       "      <td>0.000000</td>\n",
       "      <td>0.000000</td>\n",
       "      <td>0.000000</td>\n",
       "      <td>0.0</td>\n",
       "      <td>0.0</td>\n",
       "    </tr>\n",
       "    <tr>\n",
       "      <td>2019-02-14</td>\n",
       "      <td>0.320125</td>\n",
       "      <td>0.000000</td>\n",
       "      <td>0.000000</td>\n",
       "      <td>0.000000</td>\n",
       "      <td>0.000000</td>\n",
       "      <td>0.620445</td>\n",
       "      <td>0.000000</td>\n",
       "      <td>0.000000</td>\n",
       "      <td>0.000000</td>\n",
       "      <td>0.000000</td>\n",
       "      <td>0.0</td>\n",
       "      <td>0.0</td>\n",
       "    </tr>\n",
       "    <tr>\n",
       "      <td>2019-02-15</td>\n",
       "      <td>0.126100</td>\n",
       "      <td>0.000000</td>\n",
       "      <td>0.000000</td>\n",
       "      <td>0.000000</td>\n",
       "      <td>0.000000</td>\n",
       "      <td>0.239967</td>\n",
       "      <td>0.000000</td>\n",
       "      <td>0.000000</td>\n",
       "      <td>0.000000</td>\n",
       "      <td>0.000000</td>\n",
       "      <td>0.0</td>\n",
       "      <td>0.0</td>\n",
       "    </tr>\n",
       "    <tr>\n",
       "      <td>2019-02-16</td>\n",
       "      <td>0.188809</td>\n",
       "      <td>0.000000</td>\n",
       "      <td>0.000000</td>\n",
       "      <td>0.000000</td>\n",
       "      <td>0.000000</td>\n",
       "      <td>-0.145315</td>\n",
       "      <td>0.000000</td>\n",
       "      <td>0.000000</td>\n",
       "      <td>0.000000</td>\n",
       "      <td>0.000000</td>\n",
       "      <td>0.0</td>\n",
       "      <td>0.0</td>\n",
       "    </tr>\n",
       "    <tr>\n",
       "      <td>2019-02-17</td>\n",
       "      <td>0.226480</td>\n",
       "      <td>0.000000</td>\n",
       "      <td>0.000000</td>\n",
       "      <td>0.000000</td>\n",
       "      <td>0.000000</td>\n",
       "      <td>0.046117</td>\n",
       "      <td>0.000000</td>\n",
       "      <td>0.000000</td>\n",
       "      <td>0.000000</td>\n",
       "      <td>0.000000</td>\n",
       "      <td>0.0</td>\n",
       "      <td>0.0</td>\n",
       "    </tr>\n",
       "    <tr>\n",
       "      <td>...</td>\n",
       "      <td>...</td>\n",
       "      <td>...</td>\n",
       "      <td>...</td>\n",
       "      <td>...</td>\n",
       "      <td>...</td>\n",
       "      <td>...</td>\n",
       "      <td>...</td>\n",
       "      <td>...</td>\n",
       "      <td>...</td>\n",
       "      <td>...</td>\n",
       "      <td>...</td>\n",
       "      <td>...</td>\n",
       "    </tr>\n",
       "    <tr>\n",
       "      <td>2021-02-09</td>\n",
       "      <td>0.121434</td>\n",
       "      <td>0.531459</td>\n",
       "      <td>2.505595</td>\n",
       "      <td>6.094057</td>\n",
       "      <td>0.531459</td>\n",
       "      <td>0.182663</td>\n",
       "      <td>0.297505</td>\n",
       "      <td>1.225916</td>\n",
       "      <td>2.735914</td>\n",
       "      <td>0.297505</td>\n",
       "      <td>0.0</td>\n",
       "      <td>0.0</td>\n",
       "    </tr>\n",
       "    <tr>\n",
       "      <td>2021-02-10</td>\n",
       "      <td>0.121434</td>\n",
       "      <td>0.500977</td>\n",
       "      <td>2.516651</td>\n",
       "      <td>6.086418</td>\n",
       "      <td>0.500977</td>\n",
       "      <td>0.200142</td>\n",
       "      <td>0.568943</td>\n",
       "      <td>1.246743</td>\n",
       "      <td>2.761480</td>\n",
       "      <td>0.568943</td>\n",
       "      <td>0.0</td>\n",
       "      <td>0.0</td>\n",
       "    </tr>\n",
       "    <tr>\n",
       "      <td>2021-02-11</td>\n",
       "      <td>0.121434</td>\n",
       "      <td>0.485736</td>\n",
       "      <td>2.528211</td>\n",
       "      <td>6.078557</td>\n",
       "      <td>0.485736</td>\n",
       "      <td>-0.007736</td>\n",
       "      <td>0.613816</td>\n",
       "      <td>1.269177</td>\n",
       "      <td>2.783417</td>\n",
       "      <td>0.613816</td>\n",
       "      <td>0.0</td>\n",
       "      <td>0.0</td>\n",
       "    </tr>\n",
       "    <tr>\n",
       "      <td>2021-02-12</td>\n",
       "      <td>0.121434</td>\n",
       "      <td>0.485736</td>\n",
       "      <td>2.538172</td>\n",
       "      <td>6.070753</td>\n",
       "      <td>0.485736</td>\n",
       "      <td>0.077770</td>\n",
       "      <td>0.628391</td>\n",
       "      <td>1.275146</td>\n",
       "      <td>2.803869</td>\n",
       "      <td>0.628391</td>\n",
       "      <td>0.0</td>\n",
       "      <td>0.0</td>\n",
       "    </tr>\n",
       "    <tr>\n",
       "      <td>2021-02-13</td>\n",
       "      <td>0.121434</td>\n",
       "      <td>0.485736</td>\n",
       "      <td>2.545294</td>\n",
       "      <td>6.063088</td>\n",
       "      <td>0.485736</td>\n",
       "      <td>0.229400</td>\n",
       "      <td>0.585821</td>\n",
       "      <td>1.273202</td>\n",
       "      <td>2.825432</td>\n",
       "      <td>0.585821</td>\n",
       "      <td>0.0</td>\n",
       "      <td>0.0</td>\n",
       "    </tr>\n",
       "  </tbody>\n",
       "</table>\n",
       "<p>732 rows × 12 columns</p>\n",
       "</div>"
      ],
      "text/plain": [
       "            Daily average  weekly average  t_m average  long term average  \\\n",
       "Date                                                                        \n",
       "2019-02-13       0.192797        0.000000     0.000000           0.000000   \n",
       "2019-02-14       0.320125        0.000000     0.000000           0.000000   \n",
       "2019-02-15       0.126100        0.000000     0.000000           0.000000   \n",
       "2019-02-16       0.188809        0.000000     0.000000           0.000000   \n",
       "2019-02-17       0.226480        0.000000     0.000000           0.000000   \n",
       "...                   ...             ...          ...                ...   \n",
       "2021-02-09       0.121434        0.531459     2.505595           6.094057   \n",
       "2021-02-10       0.121434        0.500977     2.516651           6.086418   \n",
       "2021-02-11       0.121434        0.485736     2.528211           6.078557   \n",
       "2021-02-12       0.121434        0.485736     2.538172           6.070753   \n",
       "2021-02-13       0.121434        0.485736     2.545294           6.063088   \n",
       "\n",
       "            short term average  Daily average  weekly average  r_m average  \\\n",
       "Date                                                                         \n",
       "2019-02-13            0.000000       0.257233        0.000000     0.000000   \n",
       "2019-02-14            0.000000       0.620445        0.000000     0.000000   \n",
       "2019-02-15            0.000000       0.239967        0.000000     0.000000   \n",
       "2019-02-16            0.000000      -0.145315        0.000000     0.000000   \n",
       "2019-02-17            0.000000       0.046117        0.000000     0.000000   \n",
       "...                        ...            ...             ...          ...   \n",
       "2021-02-09            0.531459       0.182663        0.297505     1.225916   \n",
       "2021-02-10            0.500977       0.200142        0.568943     1.246743   \n",
       "2021-02-11            0.485736      -0.007736        0.613816     1.269177   \n",
       "2021-02-12            0.485736       0.077770        0.628391     1.275146   \n",
       "2021-02-13            0.485736       0.229400        0.585821     1.273202   \n",
       "\n",
       "            long term average  short term average  n_w average  n_m average  \n",
       "Date                                                                         \n",
       "2019-02-13           0.000000            0.000000          0.0          0.0  \n",
       "2019-02-14           0.000000            0.000000          0.0          0.0  \n",
       "2019-02-15           0.000000            0.000000          0.0          0.0  \n",
       "2019-02-16           0.000000            0.000000          0.0          0.0  \n",
       "2019-02-17           0.000000            0.000000          0.0          0.0  \n",
       "...                       ...                 ...          ...          ...  \n",
       "2021-02-09           2.735914            0.297505          0.0          0.0  \n",
       "2021-02-10           2.761480            0.568943          0.0          0.0  \n",
       "2021-02-11           2.783417            0.613816          0.0          0.0  \n",
       "2021-02-12           2.803869            0.628391          0.0          0.0  \n",
       "2021-02-13           2.825432            0.585821          0.0          0.0  \n",
       "\n",
       "[732 rows x 12 columns]"
      ]
     },
     "execution_count": 21,
     "metadata": {},
     "output_type": "execute_result"
    }
   ],
   "source": [
    "sentiment_data"
   ]
  },
  {
   "cell_type": "code",
   "execution_count": 22,
   "metadata": {},
   "outputs": [
    {
     "data": {
      "text/plain": [
       "Text(0.5, 1.0, 'Comparision of different sentiment sources')"
      ]
     },
     "execution_count": 22,
     "metadata": {},
     "output_type": "execute_result"
    },
    {
     "data": {
      "image/png": "[encoded data removed]",
      "text/plain": [
       "<Figure size 720x432 with 1 Axes>"
      ]
     },
     "metadata": {
      "needs_background": "light"
     },
     "output_type": "display_data"
    }
   ],
   "source": [
    "#converter = mdates.ConciseDateConverter()\n",
    "#munits.registry[np.datetime64] = converter\n",
    "#munits.registry[datetime.date] = converter\n",
    "#munits.registry[datetime.datetime] = converter\n",
    "\n",
    "fig = plt.figure(figsize=(10,6))\n",
    "ax = fig.add_axes([0, 0, 1, 1])\n",
    "ax.bar(sentiment_data.index, sentiment_data['t_m average'],color='darkblue', label='Twitter sentiment')\n",
    "ax.bar(sentiment_data.index, sentiment_data['r_m average']*2,color='coral',label='Reddit sentiment')\n",
    "ax.bar(sentiment_data.index, sentiment_data['n_m average'],color='darkgreen',label='News sentiment')\n",
    "plt.legend(loc=\"upper left\")\n",
    "ax.set_ylabel('Monthly average sentiment',fontsize=20)\n",
    "ax.spines['top'].set_visible(False)\n",
    "ax.spines['right'].set_visible(False)\n",
    "ax.set_title('Comparision of different sentiment sources'.format(symbol),fontsize=13)"
   ]
  },
  {
   "cell_type": "markdown",
   "metadata": {},
   "source": [
    "### Sentiment vs Price"
   ]
  },
  {
   "cell_type": "code",
   "execution_count": 23,
   "metadata": {},
   "outputs": [
    {
     "name": "stderr",
     "output_type": "stream",
     "text": [
      "[nltk_data] Downloading package vader_lexicon to\n",
      "[nltk_data]     /Users/sagarjogadhenu/nltk_data...\n",
      "[nltk_data]   Package vader_lexicon is already up-to-date!\n"
     ]
    }
   ],
   "source": [
    "#get data for symbol\n",
    "start_date = '2020-03-15'\n",
    "end_date = '2021-01-29'\n",
    "symbol = 'BABA'\n",
    "df = prep_data.get_stock_price(symbol,start_date,end_date)\n",
    "\n",
    "#Get revenue data - previously downloaded and stored in CSV\n",
    "stock_file=prep_data.get_earnings_data('Data/earnings_data/{}.csv'.format(symbol), df)\n",
    "df = df.join(stock_file)\n",
    "news = news_scraper.get_yahoo_news(symbol,end_date)\n",
    "n_sentiment=news_scraper.get_sentiment_from_news(news)\n",
    "df = df.join(n_sentiment)"
   ]
  },
  {
   "cell_type": "code",
   "execution_count": 24,
   "metadata": {},
   "outputs": [],
   "source": [
    "# fill NAs in the dataframe\n",
    "df['weekly average'] = df['weekly average'].interpolate()\n",
    "df['monthly average'] = df['monthly average'].interpolate()"
   ]
  },
  {
   "cell_type": "code",
   "execution_count": 25,
   "metadata": {},
   "outputs": [
    {
     "data": {
      "text/plain": [
       "Text(0.5, 1.0, 'BABA chart')"
      ]
     },
     "execution_count": 25,
     "metadata": {},
     "output_type": "execute_result"
    },
    {
     "data": {
      "image/png": "[encoded data removed]",
      "text/plain": [
       "<Figure size 720x432 with 3 Axes>"
      ]
     },
     "metadata": {
      "needs_background": "light"
     },
     "output_type": "display_data"
    }
   ],
   "source": [
    "spec = gridspec.GridSpec(3,1, height_ratios=[7,3,3])\n",
    "\n",
    "fig = plt.figure(figsize=(10,6))\n",
    "ax1 = fig.add_subplot(spec[0,0])\n",
    "ax2 = fig.add_subplot(spec[1,0])\n",
    "ax3 = fig.add_subplot(spec[2,0])\n",
    "\n",
    "ax1.plot(df.loc['2020-10-20':'2020-11-10','Adj Close'],lw=3)\n",
    "ax1.set_ylabel('Price$',fontsize=13)\n",
    "ax1.spines['top'].set_visible(False)\n",
    "ax1.spines['right'].set_visible(False)\n",
    "\n",
    "ax2.plot(df.loc['2020-10-20':'2020-11-10','Reported_Revenue']/1000, lw=3,color='coral')\n",
    "ax2.set_ylabel('Revenue(B)',fontsize=13)\n",
    "ax2.spines['top'].set_visible(False)\n",
    "ax2.spines['right'].set_visible(False)\n",
    "ax2.axes.get_xaxis().set_visible(False)\n",
    "\n",
    "ax3.plot(df.loc['2020-10-20':'2020-11-10','weekly average'], lw=3)\n",
    "ax3.set_ylabel('Sentiment',fontsize=13)\n",
    "ax3.spines['top'].set_visible(False)\n",
    "ax3.spines['right'].set_visible(False)\n",
    "ax3.axes.get_xaxis().set_visible(False)\n",
    "\n",
    "ax1.set_title('{} chart'.format(symbol),fontsize=13)"
   ]
  },
  {
   "cell_type": "markdown",
   "metadata": {},
   "source": [
    "# Logistic regression"
   ]
  },
  {
   "cell_type": "code",
   "execution_count": 26,
   "metadata": {},
   "outputs": [],
   "source": [
    "from sklearn import dummy, metrics, model_selection, preprocessing\n",
    "from sklearn.linear_model import LogisticRegression"
   ]
  },
  {
   "cell_type": "code",
   "execution_count": 27,
   "metadata": {},
   "outputs": [],
   "source": [
    "def get_financials_and_news(symbol, start_date, end_date):\n",
    "    '''\n",
    "    :symbol: stock symbol. string\n",
    "    :start_date: start date for analysis. string\n",
    "    :end_date: end date for analysis. string\n",
    "    returns a dataframe combining financials and sentiment from news \n",
    "    '''\n",
    "    \n",
    "    df = prep_data.get_stock_price(symbol,start_date,end_date)\n",
    "    #Get revenue data - previously downloaded and stored in CSV\n",
    "    stock_file=prep_data.get_earnings_data('Data/earnings_data/{}.csv'.format(symbol), df)\n",
    "    df = df.join(stock_file)\n",
    "    news = news_scraper.get_yahoo_news(symbol,end_date)\n",
    "    n_sentiment=news_scraper.get_sentiment_from_news(news)\n",
    "    df = pd.concat([df, n_sentiment[['Daily average','weekly average','monthly average','long term average']]],axis=1)\n",
    "    df['Daily average'].fillna(0,inplace=True)\n",
    "    df['weekly average'].fillna(0,inplace=True)\n",
    "    df['monthly average'].fillna(0,inplace=True)\n",
    "    df['long term average'].fillna(0,inplace=True)\n",
    "    return df"
   ]
  },
  {
   "cell_type": "markdown",
   "metadata": {},
   "source": [
    "### Quick run of logistic regression on one stock"
   ]
  },
  {
   "cell_type": "code",
   "execution_count": 28,
   "metadata": {},
   "outputs": [
    {
     "name": "stderr",
     "output_type": "stream",
     "text": [
      "[nltk_data] Downloading package vader_lexicon to\n",
      "[nltk_data]     /Users/sagarjogadhenu/nltk_data...\n",
      "[nltk_data]   Package vader_lexicon is already up-to-date!\n"
     ]
    }
   ],
   "source": [
    "symbol = 'GOOGL'\n",
    "start_date='2020-03-05'\n",
    "end_date = '2021-03-05'\n",
    "df = get_financials_and_news(symbol,start_date,end_date)\n",
    "df.dropna(inplace=True)"
   ]
  },
  {
   "cell_type": "code",
   "execution_count": 29,
   "metadata": {},
   "outputs": [],
   "source": [
    "# add labels - stm for Short term (7 days), mtm for Medium term (month) and ltm for Long term (90 days)\n",
    "df['stm'] = prep_data.prepare_output_labels(df,length=7, threshold=1)\n",
    "df['mtm'] = prep_data.prepare_output_labels(df,length=20, threshold=3)\n",
    "df['ltm'] = prep_data.prepare_output_labels(df,length=90, threshold=7)"
   ]
  },
  {
   "cell_type": "code",
   "execution_count": 30,
   "metadata": {},
   "outputs": [],
   "source": [
    "# Pick columns of interest and split data for training and testing\n",
    "# Create \n",
    "x_cols = ['Volume','Surprise_EPS', 'Estimated_Revenue', 'Reported_Revenue', 'weekly average','monthly average','long term average']\n",
    "\n",
    "# due to rolling average, long term columns may have more NaNs so avoid dropping all of them\n",
    "# by separating into different DFs\n",
    "stm_df = df.loc[:,x_cols]\n",
    "stm_df['stm'] = df['stm']\n",
    "stm_df = stm_df.dropna()\n",
    "\n",
    "mtm_df = df.loc[:,x_cols]\n",
    "mtm_df['mtm'] = df['mtm']\n",
    "mtm_df = mtm_df.dropna()\n",
    "\n",
    "ltm_df = df.loc[:,x_cols]\n",
    "ltm_df['ltm'] = df['ltm']\n",
    "ltm_df = ltm_df.dropna()"
   ]
  },
  {
   "cell_type": "code",
   "execution_count": 31,
   "metadata": {},
   "outputs": [],
   "source": [
    "def get_train_test_data(df,x_cols, y_cols):\n",
    "    '''\n",
    "    :df: dataframe\n",
    "    '''\n",
    "    X_train, X_test, y_train, y_test = model_selection.train_test_split(df[x_cols],df[y_cols]\\\n",
    "                                                                                  , test_size=0.3,random_state=44)\n",
    "    cols = X_train.columns\n",
    "    std = preprocessing.StandardScaler()\n",
    "    X_train.loc[:, cols] = std.fit_transform(X_train)\n",
    "    X_test.loc[:,cols] = std.transform(X_test)\n",
    "    return X_train, X_test, y_train, y_test"
   ]
  },
  {
   "cell_type": "code",
   "execution_count": 32,
   "metadata": {},
   "outputs": [
    {
     "name": "stdout",
     "output_type": "stream",
     "text": [
      "score:0.6351351351351351\n",
      "confusion matrix\n",
      " [[ 2  0 12]\n",
      " [ 0  0 11]\n",
      " [ 4  0 45]]\n"
     ]
    }
   ],
   "source": [
    "# Quick check of logistic regression with short term data\n",
    "X_train, X_test, y_train, y_test = get_train_test_data(stm_df, x_cols,['stm'])\n",
    "\n",
    "lr= LogisticRegression(multi_class='multinomial',solver='sag')\n",
    "lr.fit(X_train,np.ravel(y_train))\n",
    "print('score:{}'.format(lr.score(X_test,np.ravel(y_test))))\n",
    "\n",
    "print('confusion matrix\\n',metrics.confusion_matrix(y_test,lr.predict(X_test)))\n"
   ]
  },
  {
   "cell_type": "markdown",
   "metadata": {},
   "source": [
    "### Logistic regression on all stocks using stored data"
   ]
  },
  {
   "cell_type": "code",
   "execution_count": 33,
   "metadata": {},
   "outputs": [],
   "source": [
    "symlist = ['ADI', 'AMT', 'AMZN', 'BABA', 'COUP', 'CRM', 'ERIC', 'GOOGL', 'MELI', 'MSFT', 'NVDA', 'OKTA', 'PANW', 'PYPL', 'QCOM', 'SHOP', 'SQ', 'TMUS']\n",
    "df = pd.read_csv('Data/Yahoo_data/AAPL.csv')\n",
    "for symbol in symlist:\n",
    "    df1 = pd.read_csv('Data/Yahoo_data/{}.csv'.format(symbol))\n",
    "    df1.dropna(inplace=True)\n",
    "    df = pd.concat([df,df1])"
   ]
  },
  {
   "cell_type": "code",
   "execution_count": 34,
   "metadata": {},
   "outputs": [],
   "source": [
    "df['stm'] = prep_data.prepare_output_labels(df,length=7, threshold=1)\n",
    "df['mtm'] = prep_data.prepare_output_labels(df,length=20, threshold=3)\n",
    "df['ltm'] = prep_data.prepare_output_labels(df,length=90, threshold=7)"
   ]
  },
  {
   "cell_type": "code",
   "execution_count": 35,
   "metadata": {},
   "outputs": [
    {
     "data": {
      "text/html": [
       "<div>\n",
       "<style scoped>\n",
       "    .dataframe tbody tr th:only-of-type {\n",
       "        vertical-align: middle;\n",
       "    }\n",
       "\n",
       "    .dataframe tbody tr th {\n",
       "        vertical-align: top;\n",
       "    }\n",
       "\n",
       "    .dataframe thead th {\n",
       "        text-align: right;\n",
       "    }\n",
       "</style>\n",
       "<table border=\"1\" class=\"dataframe\">\n",
       "  <thead>\n",
       "    <tr style=\"text-align: right;\">\n",
       "      <th></th>\n",
       "      <th>Unnamed: 0</th>\n",
       "      <th>High</th>\n",
       "      <th>Low</th>\n",
       "      <th>Open</th>\n",
       "      <th>Close</th>\n",
       "      <th>Volume</th>\n",
       "      <th>Adj Close</th>\n",
       "      <th>Surprise_EPS</th>\n",
       "      <th>Total Sentiment</th>\n",
       "      <th>Avg Sentiment</th>\n",
       "      <th>Weekly Sentiment</th>\n",
       "      <th>Monthly Sentiment</th>\n",
       "      <th>Quarterly Sentiment</th>\n",
       "      <th>weekly stock</th>\n",
       "      <th>monthly stock</th>\n",
       "      <th>quarterly stock</th>\n",
       "      <th>stm</th>\n",
       "      <th>mtm</th>\n",
       "      <th>ltm</th>\n",
       "    </tr>\n",
       "  </thead>\n",
       "  <tbody>\n",
       "    <tr>\n",
       "      <td>0</td>\n",
       "      <td>2020-06-01</td>\n",
       "      <td>80.587502</td>\n",
       "      <td>79.302498</td>\n",
       "      <td>79.437500</td>\n",
       "      <td>80.462502</td>\n",
       "      <td>80791200.0</td>\n",
       "      <td>80.059723</td>\n",
       "      <td>0.12</td>\n",
       "      <td>-1.2498</td>\n",
       "      <td>-0.312450</td>\n",
       "      <td>0.973379</td>\n",
       "      <td>4.341977</td>\n",
       "      <td>0.973379</td>\n",
       "      <td>3.607260</td>\n",
       "      <td>19.027492</td>\n",
       "      <td>58.905432</td>\n",
       "      <td>up</td>\n",
       "      <td>up</td>\n",
       "      <td>up</td>\n",
       "    </tr>\n",
       "    <tr>\n",
       "      <td>1</td>\n",
       "      <td>2020-06-02</td>\n",
       "      <td>80.860001</td>\n",
       "      <td>79.732498</td>\n",
       "      <td>80.187500</td>\n",
       "      <td>80.834999</td>\n",
       "      <td>87642800.0</td>\n",
       "      <td>80.430351</td>\n",
       "      <td>0.12</td>\n",
       "      <td>-1.6542</td>\n",
       "      <td>-0.827100</td>\n",
       "      <td>0.973379</td>\n",
       "      <td>4.341977</td>\n",
       "      <td>0.973379</td>\n",
       "      <td>6.386467</td>\n",
       "      <td>18.296536</td>\n",
       "      <td>59.921656</td>\n",
       "      <td>up</td>\n",
       "      <td>up</td>\n",
       "      <td>up</td>\n",
       "    </tr>\n",
       "    <tr>\n",
       "      <td>2</td>\n",
       "      <td>2020-06-03</td>\n",
       "      <td>81.550003</td>\n",
       "      <td>80.574997</td>\n",
       "      <td>81.165001</td>\n",
       "      <td>81.279999</td>\n",
       "      <td>104491200.0</td>\n",
       "      <td>80.873131</td>\n",
       "      <td>0.12</td>\n",
       "      <td>-1.6542</td>\n",
       "      <td>-0.827100</td>\n",
       "      <td>0.973379</td>\n",
       "      <td>4.341977</td>\n",
       "      <td>0.973379</td>\n",
       "      <td>8.526082</td>\n",
       "      <td>17.467392</td>\n",
       "      <td>65.381304</td>\n",
       "      <td>up</td>\n",
       "      <td>up</td>\n",
       "      <td>up</td>\n",
       "    </tr>\n",
       "    <tr>\n",
       "      <td>3</td>\n",
       "      <td>2020-06-04</td>\n",
       "      <td>81.404999</td>\n",
       "      <td>80.195000</td>\n",
       "      <td>81.097504</td>\n",
       "      <td>80.580002</td>\n",
       "      <td>87560400.0</td>\n",
       "      <td>80.176636</td>\n",
       "      <td>0.12</td>\n",
       "      <td>-1.7959</td>\n",
       "      <td>-0.256557</td>\n",
       "      <td>0.973379</td>\n",
       "      <td>4.341977</td>\n",
       "      <td>0.973379</td>\n",
       "      <td>4.213205</td>\n",
       "      <td>20.448625</td>\n",
       "      <td>63.361764</td>\n",
       "      <td>up</td>\n",
       "      <td>up</td>\n",
       "      <td>up</td>\n",
       "    </tr>\n",
       "    <tr>\n",
       "      <td>4</td>\n",
       "      <td>2020-06-05</td>\n",
       "      <td>82.937500</td>\n",
       "      <td>80.807503</td>\n",
       "      <td>80.837502</td>\n",
       "      <td>82.875000</td>\n",
       "      <td>137250400.0</td>\n",
       "      <td>82.460152</td>\n",
       "      <td>0.12</td>\n",
       "      <td>-1.7959</td>\n",
       "      <td>-0.256557</td>\n",
       "      <td>0.973379</td>\n",
       "      <td>4.341977</td>\n",
       "      <td>0.973379</td>\n",
       "      <td>2.202102</td>\n",
       "      <td>17.918543</td>\n",
       "      <td>46.121187</td>\n",
       "      <td>up</td>\n",
       "      <td>up</td>\n",
       "      <td>up</td>\n",
       "    </tr>\n",
       "    <tr>\n",
       "      <td>...</td>\n",
       "      <td>...</td>\n",
       "      <td>...</td>\n",
       "      <td>...</td>\n",
       "      <td>...</td>\n",
       "      <td>...</td>\n",
       "      <td>...</td>\n",
       "      <td>...</td>\n",
       "      <td>...</td>\n",
       "      <td>...</td>\n",
       "      <td>...</td>\n",
       "      <td>...</td>\n",
       "      <td>...</td>\n",
       "      <td>...</td>\n",
       "      <td>...</td>\n",
       "      <td>...</td>\n",
       "      <td>...</td>\n",
       "      <td>...</td>\n",
       "      <td>...</td>\n",
       "      <td>...</td>\n",
       "    </tr>\n",
       "    <tr>\n",
       "      <td>238</td>\n",
       "      <td>2021-01-25</td>\n",
       "      <td>132.399994</td>\n",
       "      <td>129.669998</td>\n",
       "      <td>130.750000</td>\n",
       "      <td>131.100006</td>\n",
       "      <td>2892600.0</td>\n",
       "      <td>131.100006</td>\n",
       "      <td>0.66</td>\n",
       "      <td>0.7964</td>\n",
       "      <td>0.796400</td>\n",
       "      <td>1.527000</td>\n",
       "      <td>5.579014</td>\n",
       "      <td>18.177084</td>\n",
       "      <td>-3.283215</td>\n",
       "      <td>-3.598735</td>\n",
       "      <td>14.781661</td>\n",
       "      <td>NaN</td>\n",
       "      <td>NaN</td>\n",
       "      <td>NaN</td>\n",
       "    </tr>\n",
       "    <tr>\n",
       "      <td>239</td>\n",
       "      <td>2021-01-26</td>\n",
       "      <td>132.710007</td>\n",
       "      <td>130.000000</td>\n",
       "      <td>130.020004</td>\n",
       "      <td>131.410004</td>\n",
       "      <td>3219000.0</td>\n",
       "      <td>131.410004</td>\n",
       "      <td>0.66</td>\n",
       "      <td>1.0743</td>\n",
       "      <td>0.358100</td>\n",
       "      <td>1.866725</td>\n",
       "      <td>5.425864</td>\n",
       "      <td>17.977461</td>\n",
       "      <td>-3.283215</td>\n",
       "      <td>-3.598735</td>\n",
       "      <td>14.781661</td>\n",
       "      <td>NaN</td>\n",
       "      <td>NaN</td>\n",
       "      <td>NaN</td>\n",
       "    </tr>\n",
       "    <tr>\n",
       "      <td>240</td>\n",
       "      <td>2021-01-27</td>\n",
       "      <td>130.000000</td>\n",
       "      <td>122.449997</td>\n",
       "      <td>129.690002</td>\n",
       "      <td>123.269997</td>\n",
       "      <td>7023100.0</td>\n",
       "      <td>123.269997</td>\n",
       "      <td>0.66</td>\n",
       "      <td>0.7270</td>\n",
       "      <td>0.363500</td>\n",
       "      <td>2.065925</td>\n",
       "      <td>5.288260</td>\n",
       "      <td>17.761965</td>\n",
       "      <td>-3.283215</td>\n",
       "      <td>-3.598735</td>\n",
       "      <td>14.781661</td>\n",
       "      <td>NaN</td>\n",
       "      <td>NaN</td>\n",
       "      <td>NaN</td>\n",
       "    </tr>\n",
       "    <tr>\n",
       "      <td>241</td>\n",
       "      <td>2021-01-28</td>\n",
       "      <td>129.600006</td>\n",
       "      <td>124.500000</td>\n",
       "      <td>125.790001</td>\n",
       "      <td>127.769997</td>\n",
       "      <td>5000200.0</td>\n",
       "      <td>127.769997</td>\n",
       "      <td>0.66</td>\n",
       "      <td>0.7270</td>\n",
       "      <td>0.363500</td>\n",
       "      <td>2.115200</td>\n",
       "      <td>5.181959</td>\n",
       "      <td>17.534219</td>\n",
       "      <td>-3.283215</td>\n",
       "      <td>-3.598735</td>\n",
       "      <td>14.781661</td>\n",
       "      <td>NaN</td>\n",
       "      <td>NaN</td>\n",
       "      <td>NaN</td>\n",
       "    </tr>\n",
       "    <tr>\n",
       "      <td>242</td>\n",
       "      <td>2021-01-29</td>\n",
       "      <td>129.229996</td>\n",
       "      <td>125.370003</td>\n",
       "      <td>126.559998</td>\n",
       "      <td>126.080002</td>\n",
       "      <td>4590000.0</td>\n",
       "      <td>126.080002</td>\n",
       "      <td>0.66</td>\n",
       "      <td>0.7270</td>\n",
       "      <td>0.363500</td>\n",
       "      <td>1.931150</td>\n",
       "      <td>5.116029</td>\n",
       "      <td>17.320233</td>\n",
       "      <td>-3.283215</td>\n",
       "      <td>-3.598735</td>\n",
       "      <td>14.781661</td>\n",
       "      <td>NaN</td>\n",
       "      <td>NaN</td>\n",
       "      <td>NaN</td>\n",
       "    </tr>\n",
       "  </tbody>\n",
       "</table>\n",
       "<p>4617 rows × 19 columns</p>\n",
       "</div>"
      ],
      "text/plain": [
       "     Unnamed: 0        High         Low        Open       Close       Volume  \\\n",
       "0    2020-06-01   80.587502   79.302498   79.437500   80.462502   80791200.0   \n",
       "1    2020-06-02   80.860001   79.732498   80.187500   80.834999   87642800.0   \n",
       "2    2020-06-03   81.550003   80.574997   81.165001   81.279999  104491200.0   \n",
       "3    2020-06-04   81.404999   80.195000   81.097504   80.580002   87560400.0   \n",
       "4    2020-06-05   82.937500   80.807503   80.837502   82.875000  137250400.0   \n",
       "..          ...         ...         ...         ...         ...          ...   \n",
       "238  2021-01-25  132.399994  129.669998  130.750000  131.100006    2892600.0   \n",
       "239  2021-01-26  132.710007  130.000000  130.020004  131.410004    3219000.0   \n",
       "240  2021-01-27  130.000000  122.449997  129.690002  123.269997    7023100.0   \n",
       "241  2021-01-28  129.600006  124.500000  125.790001  127.769997    5000200.0   \n",
       "242  2021-01-29  129.229996  125.370003  126.559998  126.080002    4590000.0   \n",
       "\n",
       "      Adj Close  Surprise_EPS  Total Sentiment  Avg Sentiment  \\\n",
       "0     80.059723          0.12          -1.2498      -0.312450   \n",
       "1     80.430351          0.12          -1.6542      -0.827100   \n",
       "2     80.873131          0.12          -1.6542      -0.827100   \n",
       "3     80.176636          0.12          -1.7959      -0.256557   \n",
       "4     82.460152          0.12          -1.7959      -0.256557   \n",
       "..          ...           ...              ...            ...   \n",
       "238  131.100006          0.66           0.7964       0.796400   \n",
       "239  131.410004          0.66           1.0743       0.358100   \n",
       "240  123.269997          0.66           0.7270       0.363500   \n",
       "241  127.769997          0.66           0.7270       0.363500   \n",
       "242  126.080002          0.66           0.7270       0.363500   \n",
       "\n",
       "     Weekly Sentiment  Monthly Sentiment  Quarterly Sentiment  weekly stock  \\\n",
       "0            0.973379           4.341977             0.973379      3.607260   \n",
       "1            0.973379           4.341977             0.973379      6.386467   \n",
       "2            0.973379           4.341977             0.973379      8.526082   \n",
       "3            0.973379           4.341977             0.973379      4.213205   \n",
       "4            0.973379           4.341977             0.973379      2.202102   \n",
       "..                ...                ...                  ...           ...   \n",
       "238          1.527000           5.579014            18.177084     -3.283215   \n",
       "239          1.866725           5.425864            17.977461     -3.283215   \n",
       "240          2.065925           5.288260            17.761965     -3.283215   \n",
       "241          2.115200           5.181959            17.534219     -3.283215   \n",
       "242          1.931150           5.116029            17.320233     -3.283215   \n",
       "\n",
       "     monthly stock  quarterly stock  stm  mtm  ltm  \n",
       "0        19.027492        58.905432   up   up   up  \n",
       "1        18.296536        59.921656   up   up   up  \n",
       "2        17.467392        65.381304   up   up   up  \n",
       "3        20.448625        63.361764   up   up   up  \n",
       "4        17.918543        46.121187   up   up   up  \n",
       "..             ...              ...  ...  ...  ...  \n",
       "238      -3.598735        14.781661  NaN  NaN  NaN  \n",
       "239      -3.598735        14.781661  NaN  NaN  NaN  \n",
       "240      -3.598735        14.781661  NaN  NaN  NaN  \n",
       "241      -3.598735        14.781661  NaN  NaN  NaN  \n",
       "242      -3.598735        14.781661  NaN  NaN  NaN  \n",
       "\n",
       "[4617 rows x 19 columns]"
      ]
     },
     "execution_count": 35,
     "metadata": {},
     "output_type": "execute_result"
    }
   ],
   "source": [
    "df"
   ]
  },
  {
   "cell_type": "code",
   "execution_count": 36,
   "metadata": {},
   "outputs": [],
   "source": [
    "# Pick columns of interest and split data for training and testing\n",
    "# Create \n",
    "#x_cols = ['Volume','Surprise_EPS', 'Estimated_Revenue', 'Reported_Revenue', 'weekly average','monthly average','long term average']\n",
    "x_cols = ['Volume','Surprise_EPS', 'Weekly Sentiment','Monthly Sentiment','Quarterly Sentiment']\n",
    "# due to rolling average, long term columns may have more NaNs so avoid dropping all of them\n",
    "# by separating into different DFs\n",
    "stm_df = df.loc[:,x_cols]\n",
    "stm_df['stm'] = df['stm']\n",
    "stm_df = stm_df.dropna()\n",
    "\n",
    "mtm_df = df.loc[:,x_cols]\n",
    "mtm_df['mtm'] = df['mtm']\n",
    "mtm_df = mtm_df.dropna()\n",
    "\n",
    "ltm_df = df.loc[:,x_cols]\n",
    "ltm_df['ltm'] = df['ltm']\n",
    "ltm_df = ltm_df.dropna()"
   ]
  },
  {
   "cell_type": "code",
   "execution_count": 37,
   "metadata": {},
   "outputs": [
    {
     "data": {
      "image/png": "[encoded data removed]",
      "text/plain": [
       "<Figure size 432x288 with 2 Axes>"
      ]
     },
     "metadata": {
      "needs_background": "light"
     },
     "output_type": "display_data"
    },
    {
     "data": {
      "image/png": "[encoded data removed]",
      "text/plain": [
       "<Figure size 432x288 with 2 Axes>"
      ]
     },
     "metadata": {
      "needs_background": "light"
     },
     "output_type": "display_data"
    },
    {
     "data": {
      "image/png": "[encoded data removed]",
      "text/plain": [
       "<Figure size 432x288 with 2 Axes>"
      ]
     },
     "metadata": {
      "needs_background": "light"
     },
     "output_type": "display_data"
    }
   ],
   "source": [
    "term_dict = {'stm':stm_df,'mtm':mtm_df,'ltm':ltm_df}\n",
    "lr= LogisticRegression(multi_class='multinomial',solver='newton-cg')\n",
    "for term in term_dict.keys():\n",
    "    X_train, X_test, y_train, y_test = get_train_test_data(term_dict[term], x_cols,[term])\n",
    "    lr.fit(X_train,np.ravel(y_train))\n",
    "    disp = metrics.plot_confusion_matrix(lr, X_test, y_test,\n",
    "                                 display_labels=['down','neutral','up'],\n",
    "                                 cmap=plt.cm.Blues,\n",
    "                                 normalize='true')\n",
    "    disp.ax_.set_title(term)\n",
    "    plt.show()"
   ]
  },
  {
   "cell_type": "code",
   "execution_count": null,
   "metadata": {},
   "outputs": [],
   "source": []
  }
 ],
 "metadata": {
  "kernelspec": {
   "display_name": "Python 3",
   "language": "python",
   "name": "python3"
  },
  "language_info": {
   "codemirror_mode": {
    "name": "ipython",
    "version": 3
   },
   "file_extension": ".py",
   "mimetype": "text/x-python",
   "name": "python",
   "nbconvert_exporter": "python",
   "pygments_lexer": "ipython3",
   "version": "3.7.4"
  }
 },
 "nbformat": 4,
 "nbformat_minor": 2
}
