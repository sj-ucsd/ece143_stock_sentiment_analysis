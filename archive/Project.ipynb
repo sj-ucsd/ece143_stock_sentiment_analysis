{
 "cells": [
  {
   "cell_type": "code",
   "execution_count": 126,
   "metadata": {
    "colab": {
     "base_uri": "https://localhost:8080/"
    },
    "id": "hwh7uvdAgUcc",
    "outputId": "f162d7ec-5ca6-4491-c01b-38f002c0d56b"
   },
   "outputs": [
    {
     "name": "stdout",
     "output_type": "stream",
     "text": [
      "Requirement already satisfied: yahooquery in /home/muditj/anaconda3/lib/python3.8/site-packages (2.2.12)\n",
      "Requirement already satisfied: requests-futures>=1.0.0 in /home/muditj/anaconda3/lib/python3.8/site-packages (from yahooquery) (1.0.0)\n",
      "Requirement already satisfied: pandas>=0.24.0 in /home/muditj/anaconda3/lib/python3.8/site-packages (from yahooquery) (1.0.5)\n",
      "Requirement already satisfied: tqdm>=4.54.1 in /home/muditj/anaconda3/lib/python3.8/site-packages (from yahooquery) (4.56.0)\n",
      "Requirement already satisfied: lxml>=4.6.2 in /home/muditj/anaconda3/lib/python3.8/site-packages (from yahooquery) (4.6.2)\n",
      "Requirement already satisfied: requests>=1.2.0 in /home/muditj/anaconda3/lib/python3.8/site-packages (from requests-futures>=1.0.0->yahooquery) (2.24.0)\n",
      "Requirement already satisfied: numpy>=1.13.3 in /home/muditj/anaconda3/lib/python3.8/site-packages (from pandas>=0.24.0->yahooquery) (1.18.5)\n",
      "Requirement already satisfied: python-dateutil>=2.6.1 in /home/muditj/anaconda3/lib/python3.8/site-packages (from pandas>=0.24.0->yahooquery) (2.8.1)\n",
      "Requirement already satisfied: pytz>=2017.2 in /home/muditj/anaconda3/lib/python3.8/site-packages (from pandas>=0.24.0->yahooquery) (2020.1)\n",
      "Requirement already satisfied: chardet<4,>=3.0.2 in /home/muditj/anaconda3/lib/python3.8/site-packages (from requests>=1.2.0->requests-futures>=1.0.0->yahooquery) (3.0.4)\n",
      "Requirement already satisfied: idna<3,>=2.5 in /home/muditj/anaconda3/lib/python3.8/site-packages (from requests>=1.2.0->requests-futures>=1.0.0->yahooquery) (2.10)\n",
      "Requirement already satisfied: urllib3!=1.25.0,!=1.25.1,<1.26,>=1.21.1 in /home/muditj/anaconda3/lib/python3.8/site-packages (from requests>=1.2.0->requests-futures>=1.0.0->yahooquery) (1.25.9)\n",
      "Requirement already satisfied: certifi>=2017.4.17 in /home/muditj/anaconda3/lib/python3.8/site-packages (from requests>=1.2.0->requests-futures>=1.0.0->yahooquery) (2020.6.20)\n",
      "Requirement already satisfied: six>=1.5 in /home/muditj/anaconda3/lib/python3.8/site-packages (from python-dateutil>=2.6.1->pandas>=0.24.0->yahooquery) (1.15.0)\n",
      "Requirement already satisfied: nltk==3.3 in /home/muditj/anaconda3/lib/python3.8/site-packages (3.3)\n",
      "Requirement already satisfied: six in /home/muditj/anaconda3/lib/python3.8/site-packages (from nltk==3.3) (1.15.0)\n"
     ]
    },
    {
     "name": "stderr",
     "output_type": "stream",
     "text": [
      "/home/muditj/anaconda3/lib/python3.8/site-packages/nltk/twitter/__init__.py:20: UserWarning: The twython library has not been installed. Some functionality from the twitter package will not be available.\n",
      "  warnings.warn(\"The twython library has not been installed. \"\n"
     ]
    }
   ],
   "source": [
    "import numpy as np\n",
    "import pandas as pd\n",
    "import os\n",
    "!pip install yahooquery\n",
    "import yahooquery\n",
    "from pandas_datareader import data\n",
    "!pip install nltk==3.3\n",
    "from datetime import timedelta, date, datetime\n",
    "\n",
    "from nltk.sentiment.vader import SentimentIntensityAnalyzer\n",
    "import nltk\n"
   ]
  },
  {
   "cell_type": "code",
   "execution_count": 127,
   "metadata": {
    "id": "ZXPT1IO8heV0"
   },
   "outputs": [],
   "source": [
    "import pandas as pd\n",
    "from sklearn.model_selection import train_test_split\n",
    "from sklearn.linear_model import LogisticRegression\n",
    "from sklearn import metrics\n",
    "import seaborn as sn\n",
    "import matplotlib.pyplot as plt\n",
    "from sklearn.preprocessing import StandardScaler\n",
    "from sklearn.preprocessing import OneHotEncoder\n",
    "from sklearn.preprocessing import LabelEncoder\n",
    "from sklearn.neural_network import MLPRegressor\n",
    "from sklearn.metrics import r2_score\n",
    "\n",
    "import matplotlib.pyplot as plt"
   ]
  },
  {
   "cell_type": "markdown",
   "metadata": {
    "id": "Je5WPKuCgUcl"
   },
   "source": [
    "# Get historical stock data"
   ]
  },
  {
   "cell_type": "code",
   "execution_count": 170,
   "metadata": {
    "id": "PvmR5q38h0CW"
   },
   "outputs": [],
   "source": [
    "def get_yahoo_dataframe(symbol):\n",
    "  # Get historical data\n",
    "  #symbol = 'AAPL'\n",
    "  ticker = yahooquery.Ticker(symbol)\n",
    "  df = pd.DataFrame(ticker.history(start='2019-02-13', end='2021-02-13'))\n",
    "  df=data.DataReader(symbol, 'yahoo', '20190213', '20210213').reset_index()\n",
    "  df = df[['Date','Adj Close', 'Volume']]\n",
    "  (df[:10].style.format(dict(Date='{:%d/%m/%Y}'))\n",
    "  .background_gradient(subset='Volume',cmap='Blues')\n",
    "  .background_gradient(subset='Adj Close',cmap='Blues')\n",
    "  )\n",
    "  #df.Volume.plot()\n",
    "  df[\"Adj Close\"].plot()\n",
    "  dates = pd.DataFrame(pd.date_range(start='20190213', end='20210213'))\n",
    "  df.set_index(pd.to_datetime(df['Date']), inplace=True)\n",
    "  df = df.drop(['Date'], axis=1)\n",
    "  return df"
   ]
  },
  {
   "cell_type": "code",
   "execution_count": 132,
   "metadata": {
    "colab": {
     "base_uri": "https://localhost:8080/",
     "height": 714
    },
    "id": "YrKQFWeNgUcl",
    "outputId": "2ebc520b-7754-4fa5-8c76-dd2f8391f73a"
   },
   "outputs": [
    {
<<<<<<< HEAD
     "data": {
      "text/html": [
       "<div>\n",
       "<style scoped>\n",
       "    .dataframe tbody tr th:only-of-type {\n",
       "        vertical-align: middle;\n",
       "    }\n",
       "\n",
       "    .dataframe tbody tr th {\n",
       "        vertical-align: top;\n",
       "    }\n",
       "\n",
       "    .dataframe thead th {\n",
       "        text-align: right;\n",
       "    }\n",
       "</style>\n",
       "<table border=\"1\" class=\"dataframe\">\n",
       "  <thead>\n",
       "    <tr style=\"text-align: right;\">\n",
       "      <th></th>\n",
       "      <th>Adj Close</th>\n",
       "      <th>Volume</th>\n",
       "    </tr>\n",
       "    <tr>\n",
       "      <th>Date</th>\n",
       "      <th></th>\n",
       "      <th></th>\n",
       "    </tr>\n",
       "  </thead>\n",
       "  <tbody>\n",
       "    <tr>\n",
       "      <th>2020-06-01</th>\n",
       "      <td>80.059723</td>\n",
       "      <td>80791200.0</td>\n",
       "    </tr>\n",
       "    <tr>\n",
       "      <th>2020-06-02</th>\n",
       "      <td>80.430351</td>\n",
       "      <td>87642800.0</td>\n",
       "    </tr>\n",
       "    <tr>\n",
       "      <th>2020-06-03</th>\n",
       "      <td>80.873131</td>\n",
       "      <td>104491200.0</td>\n",
       "    </tr>\n",
       "    <tr>\n",
       "      <th>2020-06-04</th>\n",
       "      <td>80.176636</td>\n",
       "      <td>87560400.0</td>\n",
       "    </tr>\n",
       "    <tr>\n",
       "      <th>2020-06-05</th>\n",
       "      <td>82.460152</td>\n",
       "      <td>137250400.0</td>\n",
       "    </tr>\n",
       "    <tr>\n",
       "      <th>...</th>\n",
       "      <td>...</td>\n",
       "      <td>...</td>\n",
       "    </tr>\n",
       "    <tr>\n",
       "      <th>2021-01-25</th>\n",
       "      <td>142.706757</td>\n",
       "      <td>157611700.0</td>\n",
       "    </tr>\n",
       "    <tr>\n",
       "      <th>2021-01-26</th>\n",
       "      <td>142.946396</td>\n",
       "      <td>98390600.0</td>\n",
       "    </tr>\n",
       "    <tr>\n",
       "      <th>2021-01-27</th>\n",
       "      <td>141.848038</td>\n",
       "      <td>140843800.0</td>\n",
       "    </tr>\n",
       "    <tr>\n",
       "      <th>2021-01-28</th>\n",
       "      <td>136.885452</td>\n",
       "      <td>142621100.0</td>\n",
       "    </tr>\n",
       "    <tr>\n",
       "      <th>2021-01-29</th>\n",
       "      <td>131.763107</td>\n",
       "      <td>177180600.0</td>\n",
       "    </tr>\n",
       "  </tbody>\n",
       "</table>\n",
       "<p>169 rows × 2 columns</p>\n",
       "</div>"
      ],
      "text/plain": [
       "             Adj Close       Volume\n",
       "Date                               \n",
       "2020-06-01   80.059723   80791200.0\n",
       "2020-06-02   80.430351   87642800.0\n",
       "2020-06-03   80.873131  104491200.0\n",
       "2020-06-04   80.176636   87560400.0\n",
       "2020-06-05   82.460152  137250400.0\n",
       "...                ...          ...\n",
       "2021-01-25  142.706757  157611700.0\n",
       "2021-01-26  142.946396   98390600.0\n",
       "2021-01-27  141.848038  140843800.0\n",
       "2021-01-28  136.885452  142621100.0\n",
       "2021-01-29  131.763107  177180600.0\n",
       "\n",
       "[169 rows x 2 columns]"
=======
      "cell_type": "code",
      "metadata": {
        "colab": {
          "base_uri": "https://localhost:8080/"
        },
        "id": "hwh7uvdAgUcc",
        "outputId": "b07d687e-e464-4a4c-83bc-31bbd4bbe5bb"
      },
      "source": [
        "import numpy as np\n",
        "import pandas as pd\n",
        "import os\n",
        "!pip install yahooquery\n",
        "import yahooquery\n",
        "from pandas_datareader import data\n",
        "!pip install nltk==3.3\n",
        "from datetime import timedelta, date, datetime\n",
        "\n",
        "from nltk.sentiment.vader import SentimentIntensityAnalyzer\n",
        "import nltk\n"
      ],
      "execution_count": 1,
      "outputs": [
        {
          "output_type": "stream",
          "text": [
            "Collecting yahooquery\n",
            "\u001b[?25l  Downloading https://files.pythonhosted.org/packages/0e/73/e1ae346b40d5fd48747a4153339e36e4b95bc0338688a269fd9ca7862320/yahooquery-2.2.15-py2.py3-none-any.whl (46kB)\n",
            "\u001b[K     |████████████████████████████████| 51kB 2.8MB/s \n",
            "\u001b[?25hCollecting tqdm>=4.54.1\n",
            "\u001b[?25l  Downloading https://files.pythonhosted.org/packages/4e/8c/f1035bd24b0e352ddba7be320abc1603fc4c9976fcda6971ed287be59164/tqdm-4.58.0-py2.py3-none-any.whl (73kB)\n",
            "\u001b[K     |████████████████████████████████| 81kB 4.4MB/s \n",
            "\u001b[?25hCollecting lxml>=4.6.2\n",
            "\u001b[?25l  Downloading https://files.pythonhosted.org/packages/d2/88/b25778f17e5320c1c58f8c5060fb5b037288e162bd7554c30799e9ea90db/lxml-4.6.2-cp37-cp37m-manylinux1_x86_64.whl (5.5MB)\n",
            "\u001b[K     |████████████████████████████████| 5.5MB 25.6MB/s \n",
            "\u001b[?25hCollecting requests-futures>=1.0.0\n",
            "  Downloading https://files.pythonhosted.org/packages/47/c4/fd48d1ac5110a5457c71ac7cc4caa93da10a80b8de71112430e439bdee22/requests-futures-1.0.0.tar.gz\n",
            "Requirement already satisfied: pandas>=0.24.0 in /usr/local/lib/python3.7/dist-packages (from yahooquery) (1.1.5)\n",
            "Requirement already satisfied: requests>=1.2.0 in /usr/local/lib/python3.7/dist-packages (from requests-futures>=1.0.0->yahooquery) (2.23.0)\n",
            "Requirement already satisfied: python-dateutil>=2.7.3 in /usr/local/lib/python3.7/dist-packages (from pandas>=0.24.0->yahooquery) (2.8.1)\n",
            "Requirement already satisfied: numpy>=1.15.4 in /usr/local/lib/python3.7/dist-packages (from pandas>=0.24.0->yahooquery) (1.19.5)\n",
            "Requirement already satisfied: pytz>=2017.2 in /usr/local/lib/python3.7/dist-packages (from pandas>=0.24.0->yahooquery) (2018.9)\n",
            "Requirement already satisfied: idna<3,>=2.5 in /usr/local/lib/python3.7/dist-packages (from requests>=1.2.0->requests-futures>=1.0.0->yahooquery) (2.10)\n",
            "Requirement already satisfied: certifi>=2017.4.17 in /usr/local/lib/python3.7/dist-packages (from requests>=1.2.0->requests-futures>=1.0.0->yahooquery) (2020.12.5)\n",
            "Requirement already satisfied: urllib3!=1.25.0,!=1.25.1,<1.26,>=1.21.1 in /usr/local/lib/python3.7/dist-packages (from requests>=1.2.0->requests-futures>=1.0.0->yahooquery) (1.24.3)\n",
            "Requirement already satisfied: chardet<4,>=3.0.2 in /usr/local/lib/python3.7/dist-packages (from requests>=1.2.0->requests-futures>=1.0.0->yahooquery) (3.0.4)\n",
            "Requirement already satisfied: six>=1.5 in /usr/local/lib/python3.7/dist-packages (from python-dateutil>=2.7.3->pandas>=0.24.0->yahooquery) (1.15.0)\n",
            "Building wheels for collected packages: requests-futures\n",
            "  Building wheel for requests-futures (setup.py) ... \u001b[?25l\u001b[?25hdone\n",
            "  Created wheel for requests-futures: filename=requests_futures-1.0.0-cp37-none-any.whl size=7012 sha256=4c59a463c43d3cd472544bfa45c72e149b15ef0f069e64fc9a76f223ce5e4427\n",
            "  Stored in directory: /root/.cache/pip/wheels/26/d0/f5/dc4e4a37bbe55c9acf967d2bd899152412c1e49c227f5395ff\n",
            "Successfully built requests-futures\n",
            "Installing collected packages: tqdm, lxml, requests-futures, yahooquery\n",
            "  Found existing installation: tqdm 4.41.1\n",
            "    Uninstalling tqdm-4.41.1:\n",
            "      Successfully uninstalled tqdm-4.41.1\n",
            "  Found existing installation: lxml 4.2.6\n",
            "    Uninstalling lxml-4.2.6:\n",
            "      Successfully uninstalled lxml-4.2.6\n",
            "Successfully installed lxml-4.6.2 requests-futures-1.0.0 tqdm-4.58.0 yahooquery-2.2.15\n",
            "Collecting nltk==3.3\n",
            "\u001b[?25l  Downloading https://files.pythonhosted.org/packages/50/09/3b1755d528ad9156ee7243d52aa5cd2b809ef053a0f31b53d92853dd653a/nltk-3.3.0.zip (1.4MB)\n",
            "\u001b[K     |████████████████████████████████| 1.4MB 4.1MB/s \n",
            "\u001b[?25hRequirement already satisfied: six in /usr/local/lib/python3.7/dist-packages (from nltk==3.3) (1.15.0)\n",
            "Building wheels for collected packages: nltk\n",
            "  Building wheel for nltk (setup.py) ... \u001b[?25l\u001b[?25hdone\n",
            "  Created wheel for nltk: filename=nltk-3.3-cp37-none-any.whl size=1394470 sha256=9932909fb3c192829c68885b0abee451a2dddedcb5b1c973e7668b70bcd90fbd\n",
            "  Stored in directory: /root/.cache/pip/wheels/d1/ab/40/3bceea46922767e42986aef7606a600538ca80de6062dc266c\n",
            "Successfully built nltk\n",
            "Installing collected packages: nltk\n",
            "  Found existing installation: nltk 3.2.5\n",
            "    Uninstalling nltk-3.2.5:\n",
            "      Successfully uninstalled nltk-3.2.5\n",
            "Successfully installed nltk-3.3\n"
          ],
          "name": "stdout"
        },
        {
          "output_type": "stream",
          "text": [
            "/usr/local/lib/python3.7/dist-packages/nltk/twitter/__init__.py:20: UserWarning: The twython library has not been installed. Some functionality from the twitter package will not be available.\n",
            "  warnings.warn(\"The twython library has not been installed. \"\n"
          ],
          "name": "stderr"
        }
>>>>>>> 49afec9ae723dfd18be441605fde0b2e123651f0
      ]
     },
     "execution_count": 132,
     "metadata": {},
     "output_type": "execute_result"
    },
    {
<<<<<<< HEAD
     "data": {
      "image/png": "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\n",
      "text/plain": [
       "<Figure size 432x288 with 1 Axes>"
      ]
     },
     "metadata": {
      "needs_background": "light"
     },
     "output_type": "display_data"
    }
   ],
   "source": [
    "symbol='AAPL'\n",
    "df = get_yahoo_dataframe(symbol)\n",
    "df"
   ]
  },
  {
   "cell_type": "code",
   "execution_count": 5,
   "metadata": {
    "id": "D344w0BVgUcm",
    "scrolled": true
   },
   "outputs": [],
   "source": []
  },
  {
   "cell_type": "code",
   "execution_count": 134,
   "metadata": {
    "id": "gJYvvd6JgUcp"
   },
   "outputs": [],
   "source": [
    "def process_stock_data(filename, df):\n",
    "  stock_file = pd.read_csv(filename)\n",
    "  stock_file.set_index(pd.to_datetime(stock_file['Date']), inplace=True)\n",
    "  stock_file.drop('Date', axis=1)\n",
    "  stock_file = stock_file.reindex(df.index, method='bfill')\n",
    "  #stock_file = stock_file.drop('Date', axis=1)\n",
    "  #stock_file = stock_file.drop('Period Ending', axis=1)\n",
    "  return stock_file"
   ]
  },
  {
   "cell_type": "code",
   "execution_count": 135,
   "metadata": {
    "colab": {
     "base_uri": "https://localhost:8080/"
=======
      "cell_type": "code",
      "metadata": {
        "id": "ZXPT1IO8heV0"
      },
      "source": [
        "import pandas as pd\n",
        "from sklearn.model_selection import train_test_split\n",
        "from sklearn.linear_model import LogisticRegression\n",
        "from sklearn import metrics\n",
        "import seaborn as sn\n",
        "import matplotlib.pyplot as plt\n",
        "from sklearn.preprocessing import StandardScaler\n",
        "from sklearn.preprocessing import OneHotEncoder\n",
        "from sklearn.preprocessing import LabelEncoder\n",
        "from sklearn.neural_network import MLPRegressor\n",
        "from sklearn.metrics import r2_score\n",
        "\n",
        "import matplotlib.pyplot as plt"
      ],
      "execution_count": 2,
      "outputs": []
>>>>>>> 49afec9ae723dfd18be441605fde0b2e123651f0
    },
    "id": "9-yDVfXOgUcp",
    "outputId": "d13e92c1-1f1d-4c29-c647-ed67ac4e8399"
   },
   "outputs": [
    {
     "ename": "ModuleNotFoundError",
     "evalue": "No module named 'google.colab'",
     "output_type": "error",
     "traceback": [
      "\u001b[0;31m---------------------------------------------------------------------------\u001b[0m",
      "\u001b[0;31mModuleNotFoundError\u001b[0m                       Traceback (most recent call last)",
      "\u001b[0;32m<ipython-input-135-764e2a20dcaa>\u001b[0m in \u001b[0;36m<module>\u001b[0;34m\u001b[0m\n\u001b[1;32m      1\u001b[0m \u001b[0;31m# Optional, just because Ish is using Colab\u001b[0m\u001b[0;34m\u001b[0m\u001b[0;34m\u001b[0m\u001b[0;34m\u001b[0m\u001b[0m\n\u001b[0;32m----> 2\u001b[0;31m \u001b[0;32mfrom\u001b[0m \u001b[0mgoogle\u001b[0m\u001b[0;34m.\u001b[0m\u001b[0mcolab\u001b[0m \u001b[0;32mimport\u001b[0m \u001b[0mdrive\u001b[0m\u001b[0;34m\u001b[0m\u001b[0;34m\u001b[0m\u001b[0m\n\u001b[0m\u001b[1;32m      3\u001b[0m \u001b[0mdrive\u001b[0m\u001b[0;34m.\u001b[0m\u001b[0mmount\u001b[0m\u001b[0;34m(\u001b[0m\u001b[0;34m'/content/gdrive'\u001b[0m\u001b[0;34m)\u001b[0m\u001b[0;34m\u001b[0m\u001b[0;34m\u001b[0m\u001b[0m\n",
      "\u001b[0;31mModuleNotFoundError\u001b[0m: No module named 'google.colab'"
     ]
    }
   ],
   "source": [
    "# Optional, just because Ish is using Colab\n",
    "from google.colab import drive\n",
    "drive.mount('/content/gdrive')\n"
   ]
  },
  {
   "cell_type": "code",
   "execution_count": 8,
   "metadata": {
    "colab": {
     "base_uri": "https://localhost:8080/"
    },
    "id": "_i_wUlKFmoj1",
    "outputId": "32bc6226-0cc5-42b9-8b11-1833a9897c45"
   },
   "outputs": [
    {
<<<<<<< HEAD
     "name": "stdout",
     "output_type": "stream",
     "text": [
      "                  Date Period Ending  ...  Estimated_Revenue  Reported_Revenue\n",
      "Date                                  ...                                     \n",
      "2020-06-01  2020-04-30    2020-03-01  ...           53668.84           58313.0\n",
      "2020-06-02  2020-04-30    2020-03-01  ...           53668.84           58313.0\n",
      "2020-06-03  2020-04-30    2020-03-01  ...           53668.84           58313.0\n",
      "2020-06-04  2020-04-30    2020-03-01  ...           53668.84           58313.0\n",
      "2020-06-05  2020-04-30    2020-03-01  ...           53668.84           58313.0\n",
      "...                ...           ...  ...                ...               ...\n",
      "2021-01-25  2020-10-29    2020-09-01  ...           63388.91           64698.0\n",
      "2021-01-26  2020-10-29    2020-09-01  ...           63388.91           64698.0\n",
      "2021-01-27  2021-01-27    2020-12-01  ...          102512.80          111439.0\n",
      "2021-01-28  2021-01-27    2020-12-01  ...          102512.80          111439.0\n",
      "2021-01-29  2021-01-27    2020-12-01  ...          102512.80          111439.0\n",
      "\n",
      "[169 rows x 7 columns]\n"
     ]
    }
   ],
   "source": [
    "stock_file=process_stock_data('/content/gdrive/My Drive/Colab Notebooks/earnings_data/AAPL.csv', df)\n",
    "print(stock_file)"
   ]
  },
  {
   "cell_type": "code",
   "execution_count": 9,
   "metadata": {
    "id": "URbJp42lgUct"
   },
   "outputs": [],
   "source": [
    "df = df.join(stock_file)"
   ]
  },
  {
   "cell_type": "code",
   "execution_count": 10,
   "metadata": {
    "colab": {
     "base_uri": "https://localhost:8080/",
     "height": 455
=======
      "cell_type": "code",
      "metadata": {
        "id": "PvmR5q38h0CW"
      },
      "source": [
        "def get_yahoo_dataframe(symbol):\n",
        "  # Get historical data\n",
        "  #symbol = 'AAPL'\n",
        "  ticker = yahooquery.Ticker(symbol)\n",
        "  df = pd.DataFrame(ticker.history(start='2020-06-01', end='2021-01-29'))\n",
        "  df=data.DataReader(symbol, 'yahoo', '20200601', '20210129').reset_index()\n",
        "  df = df[['Date','Adj Close', 'Volume']]\n",
        "  (df[:10].style.format(dict(Date='{:%d/%m/%Y}'))\n",
        "  .background_gradient(subset='Volume',cmap='Blues')\n",
        "  .background_gradient(subset='Adj Close',cmap='Blues')\n",
        "  )\n",
        "  df.Volume.plot()\n",
        "  df[\"Adj Close\"].plot()\n",
        "  dates = pd.DataFrame(pd.date_range('20200601',periods=8*31))\n",
        "  df.set_index(pd.to_datetime(df['Date']), inplace=True)\n",
        "  df = df.drop(['Date'], axis=1)\n",
        "  return df"
      ],
      "execution_count": 3,
      "outputs": []
>>>>>>> 49afec9ae723dfd18be441605fde0b2e123651f0
    },
    "id": "uFNC0zcQgUct",
    "outputId": "ae563e07-3c5d-45bc-b6f8-6ad18d8d9dcc"
   },
   "outputs": [
    {
<<<<<<< HEAD
     "data": {
      "text/html": [
       "<div>\n",
       "<style scoped>\n",
       "    .dataframe tbody tr th:only-of-type {\n",
       "        vertical-align: middle;\n",
       "    }\n",
       "\n",
       "    .dataframe tbody tr th {\n",
       "        vertical-align: top;\n",
       "    }\n",
       "\n",
       "    .dataframe thead th {\n",
       "        text-align: right;\n",
       "    }\n",
       "</style>\n",
       "<table border=\"1\" class=\"dataframe\">\n",
       "  <thead>\n",
       "    <tr style=\"text-align: right;\">\n",
       "      <th></th>\n",
       "      <th>Adj Close</th>\n",
       "      <th>Volume</th>\n",
       "      <th>Date</th>\n",
       "      <th>Period Ending</th>\n",
       "      <th>Estimated_EPS</th>\n",
       "      <th>Reported_EPS</th>\n",
       "      <th>Surprise_EPS</th>\n",
       "      <th>Estimated_Revenue</th>\n",
       "      <th>Reported_Revenue</th>\n",
       "    </tr>\n",
       "    <tr>\n",
       "      <th>Date</th>\n",
       "      <th></th>\n",
       "      <th></th>\n",
       "      <th></th>\n",
       "      <th></th>\n",
       "      <th></th>\n",
       "      <th></th>\n",
       "      <th></th>\n",
       "      <th></th>\n",
       "      <th></th>\n",
       "    </tr>\n",
       "  </thead>\n",
       "  <tbody>\n",
       "    <tr>\n",
       "      <th>2020-06-01</th>\n",
       "      <td>80.059723</td>\n",
       "      <td>80791200.0</td>\n",
       "      <td>2020-04-30</td>\n",
       "      <td>2020-03-01</td>\n",
       "      <td>0.52</td>\n",
       "      <td>0.64</td>\n",
       "      <td>0.12</td>\n",
       "      <td>53668.84</td>\n",
       "      <td>58313.0</td>\n",
       "    </tr>\n",
       "    <tr>\n",
       "      <th>2020-06-02</th>\n",
       "      <td>80.430351</td>\n",
       "      <td>87642800.0</td>\n",
       "      <td>2020-04-30</td>\n",
       "      <td>2020-03-01</td>\n",
       "      <td>0.52</td>\n",
       "      <td>0.64</td>\n",
       "      <td>0.12</td>\n",
       "      <td>53668.84</td>\n",
       "      <td>58313.0</td>\n",
       "    </tr>\n",
       "    <tr>\n",
       "      <th>2020-06-03</th>\n",
       "      <td>80.873131</td>\n",
       "      <td>104491200.0</td>\n",
       "      <td>2020-04-30</td>\n",
       "      <td>2020-03-01</td>\n",
       "      <td>0.52</td>\n",
       "      <td>0.64</td>\n",
       "      <td>0.12</td>\n",
       "      <td>53668.84</td>\n",
       "      <td>58313.0</td>\n",
       "    </tr>\n",
       "    <tr>\n",
       "      <th>2020-06-04</th>\n",
       "      <td>80.176636</td>\n",
       "      <td>87560400.0</td>\n",
       "      <td>2020-04-30</td>\n",
       "      <td>2020-03-01</td>\n",
       "      <td>0.52</td>\n",
       "      <td>0.64</td>\n",
       "      <td>0.12</td>\n",
       "      <td>53668.84</td>\n",
       "      <td>58313.0</td>\n",
       "    </tr>\n",
       "    <tr>\n",
       "      <th>2020-06-05</th>\n",
       "      <td>82.460152</td>\n",
       "      <td>137250400.0</td>\n",
       "      <td>2020-04-30</td>\n",
       "      <td>2020-03-01</td>\n",
       "      <td>0.52</td>\n",
       "      <td>0.64</td>\n",
       "      <td>0.12</td>\n",
       "      <td>53668.84</td>\n",
       "      <td>58313.0</td>\n",
       "    </tr>\n",
       "    <tr>\n",
       "      <th>...</th>\n",
       "      <td>...</td>\n",
       "      <td>...</td>\n",
       "      <td>...</td>\n",
       "      <td>...</td>\n",
       "      <td>...</td>\n",
       "      <td>...</td>\n",
       "      <td>...</td>\n",
       "      <td>...</td>\n",
       "      <td>...</td>\n",
       "    </tr>\n",
       "    <tr>\n",
       "      <th>2021-01-25</th>\n",
       "      <td>142.706757</td>\n",
       "      <td>157611700.0</td>\n",
       "      <td>2020-10-29</td>\n",
       "      <td>2020-09-01</td>\n",
       "      <td>0.69</td>\n",
       "      <td>0.73</td>\n",
       "      <td>0.04</td>\n",
       "      <td>63388.91</td>\n",
       "      <td>64698.0</td>\n",
       "    </tr>\n",
       "    <tr>\n",
       "      <th>2021-01-26</th>\n",
       "      <td>142.946396</td>\n",
       "      <td>98390600.0</td>\n",
       "      <td>2020-10-29</td>\n",
       "      <td>2020-09-01</td>\n",
       "      <td>0.69</td>\n",
       "      <td>0.73</td>\n",
       "      <td>0.04</td>\n",
       "      <td>63388.91</td>\n",
       "      <td>64698.0</td>\n",
       "    </tr>\n",
       "    <tr>\n",
       "      <th>2021-01-27</th>\n",
       "      <td>141.848038</td>\n",
       "      <td>140843800.0</td>\n",
       "      <td>2021-01-27</td>\n",
       "      <td>2020-12-01</td>\n",
       "      <td>1.41</td>\n",
       "      <td>1.68</td>\n",
       "      <td>0.27</td>\n",
       "      <td>102512.80</td>\n",
       "      <td>111439.0</td>\n",
       "    </tr>\n",
       "    <tr>\n",
       "      <th>2021-01-28</th>\n",
       "      <td>136.885452</td>\n",
       "      <td>142621100.0</td>\n",
       "      <td>2021-01-27</td>\n",
       "      <td>2020-12-01</td>\n",
       "      <td>1.41</td>\n",
       "      <td>1.68</td>\n",
       "      <td>0.27</td>\n",
       "      <td>102512.80</td>\n",
       "      <td>111439.0</td>\n",
       "    </tr>\n",
       "    <tr>\n",
       "      <th>2021-01-29</th>\n",
       "      <td>131.763107</td>\n",
       "      <td>177180600.0</td>\n",
       "      <td>2021-01-27</td>\n",
       "      <td>2020-12-01</td>\n",
       "      <td>1.41</td>\n",
       "      <td>1.68</td>\n",
       "      <td>0.27</td>\n",
       "      <td>102512.80</td>\n",
       "      <td>111439.0</td>\n",
       "    </tr>\n",
       "  </tbody>\n",
       "</table>\n",
       "<p>169 rows × 9 columns</p>\n",
       "</div>"
      ],
      "text/plain": [
       "             Adj Close       Volume  ... Estimated_Revenue Reported_Revenue\n",
       "Date                                 ...                                   \n",
       "2020-06-01   80.059723   80791200.0  ...          53668.84          58313.0\n",
       "2020-06-02   80.430351   87642800.0  ...          53668.84          58313.0\n",
       "2020-06-03   80.873131  104491200.0  ...          53668.84          58313.0\n",
       "2020-06-04   80.176636   87560400.0  ...          53668.84          58313.0\n",
       "2020-06-05   82.460152  137250400.0  ...          53668.84          58313.0\n",
       "...                ...          ...  ...               ...              ...\n",
       "2021-01-25  142.706757  157611700.0  ...          63388.91          64698.0\n",
       "2021-01-26  142.946396   98390600.0  ...          63388.91          64698.0\n",
       "2021-01-27  141.848038  140843800.0  ...         102512.80         111439.0\n",
       "2021-01-28  136.885452  142621100.0  ...         102512.80         111439.0\n",
       "2021-01-29  131.763107  177180600.0  ...         102512.80         111439.0\n",
       "\n",
       "[169 rows x 9 columns]"
      ]
     },
     "execution_count": 10,
     "metadata": {
      "tags": []
     },
     "output_type": "execute_result"
    }
   ],
   "source": [
    "df"
   ]
  },
  {
   "cell_type": "markdown",
   "metadata": {
    "id": "pRvuel4ogUcu"
   },
   "source": [
    "# Get news sentiment"
   ]
  },
  {
   "cell_type": "code",
   "execution_count": 11,
   "metadata": {
    "id": "U-U_xyZQgUcu"
   },
   "outputs": [],
   "source": [
    "def daterange(start_date, end_date):\n",
    "    for n in range(int((end_date - start_date).days)):\n",
    "        yield start_date + timedelta(n)\n",
    "\n",
    "def get_yahoo_news(symbol):\n",
    "  start_date = date(2020, 6, 1)\n",
    "  end_date = date(2021, 1, 29)\n",
    "  data = []\n",
    "  run_Dict = []\n",
    "  ticker = yahooquery.Ticker(symbol)\n",
    "  for single_date in daterange(start_date, end_date):\n",
    "      daily_news = ticker.news(start=single_date.strftime(\"%Y-%m-%d\"))\n",
    "      for article in daily_news:\n",
    "          #print(article)\n",
    "          title = article['title']\n",
    "          if title in run_Dict:\n",
    "              continue\n",
    "          else:\n",
    "              try:\n",
    "                  run_Dict.append(title)\n",
    "                  publisher_time = article['provider_publish_time']\n",
    "                  publisher_time = datetime.utcfromtimestamp(int(publisher_time)).strftime('%Y-%m-%d')\n",
    "                  data.append([publisher_time, title, article['summary']])\n",
    "              except KeyError:\n",
    "                  print(\"KeyError generated.\")\n",
    "                  continue\n",
    "          if len(run_Dict) > 30:\n",
    "              run_Dict = run_Dict[-30:]\n",
    "  print(len(data))\n",
    "  news = pd.DataFrame(data, columns=[\"date\", \"Title\", \"Summary\"])\n",
    "  nltk.download(\"vader_lexicon\")\n",
    "  sentimentAnalyser = SentimentIntensityAnalyzer()\n",
    "  news[\"compound\"] = [sentimentAnalyser.polarity_scores(v)['compound'] for v in news[\"Summary\"]]\n",
    "  news[\"negative\"] = [sentimentAnalyser.polarity_scores(v)['neg'] for v in news[\"Summary\"]]\n",
    "  news[\"positive\"] = [sentimentAnalyser.polarity_scores(v)['pos'] for v in news[\"Summary\"]]\n",
    "  news[\"neutral\"] = [sentimentAnalyser.polarity_scores(v)['neu'] for v in news[\"Summary\"]]\n",
    "  news = news.sort_values(by=\"date\")\n",
    "  return news"
   ]
  },
  {
   "cell_type": "code",
   "execution_count": 12,
   "metadata": {
    "colab": {
     "base_uri": "https://localhost:8080/"
=======
      "cell_type": "code",
      "metadata": {
        "id": "YrKQFWeNgUcl"
      },
      "source": [
        ""
      ],
      "execution_count": 3,
      "outputs": []
>>>>>>> 49afec9ae723dfd18be441605fde0b2e123651f0
    },
    "id": "0xYhU2EagUcv",
    "outputId": "426589c9-993f-43e6-ca62-73466aaf5f1b"
   },
   "outputs": [
    {
<<<<<<< HEAD
     "name": "stdout",
     "output_type": "stream",
     "text": [
      "973\n",
      "[nltk_data] Downloading package vader_lexicon to /root/nltk_data...\n",
      "           date  ... neutral\n",
      "24   2020-05-08  ...   0.925\n",
      "23   2020-05-08  ...   1.000\n",
      "22   2020-05-08  ...   1.000\n",
      "21   2020-05-11  ...   0.868\n",
      "20   2020-05-11  ...   0.771\n",
      "..          ...  ...     ...\n",
      "950  2021-01-28  ...   1.000\n",
      "949  2021-01-28  ...   0.840\n",
      "899  2021-01-28  ...   0.755\n",
      "830  2021-01-29  ...   1.000\n",
      "829  2021-02-12  ...   0.700\n",
      "\n",
      "[973 rows x 7 columns]\n"
     ]
    }
   ],
   "source": [
    "news=get_yahoo_news(symbol)\n",
    "print(news)"
   ]
  },
  {
   "cell_type": "code",
   "execution_count": 13,
   "metadata": {
    "id": "zAjp4WHqgUcw"
   },
   "outputs": [],
   "source": [
    "def get_sentiment_from_news(news):\n",
    "  news_sentiment = news[['date', 'compound']]\n",
    "  print(news_sentiment)\n",
    "  news_sentiment.set_index(pd.to_datetime(news_sentiment['date']), inplace=True)\n",
    "  print(news_sentiment[:10])\n",
    "  news_sentiment = news_sentiment['compound']\n",
    "  total_sentiment = news_sentiment.groupby('date').agg(lambda x: sum(x))\n",
    "  total_sentiment = total_sentiment.rename('Total Sentiment')\n",
    "  nArticles = news_sentiment.groupby('date').count()\n",
    "  avg_sentiment = total_sentiment/nArticles\n",
    "  avg_sentiment = avg_sentiment.rename('Avg Sentiment')\n",
    "  sentiment_data = pd.concat([total_sentiment, avg_sentiment], axis=1)\n",
    "  sentiment_data = sentiment_data.reindex(df.index, method='ffill')\n",
    "  return sentiment_data"
   ]
  },
  {
   "cell_type": "code",
   "execution_count": 14,
   "metadata": {
    "colab": {
     "base_uri": "https://localhost:8080/"
=======
      "cell_type": "code",
      "metadata": {
        "scrolled": true,
        "id": "D344w0BVgUcm"
      },
      "source": [
        ""
      ],
      "execution_count": 3,
      "outputs": []
>>>>>>> 49afec9ae723dfd18be441605fde0b2e123651f0
    },
    "id": "2YHKJPvwgUcy",
    "outputId": "b3d872c7-0d8d-4863-a2bd-11861d52423c"
   },
   "outputs": [
    {
<<<<<<< HEAD
     "name": "stdout",
     "output_type": "stream",
     "text": [
      "           date  compound\n",
      "24   2020-05-08   -0.4902\n",
      "23   2020-05-08    0.0000\n",
      "22   2020-05-08    0.0000\n",
      "21   2020-05-11    0.4939\n",
      "20   2020-05-11    0.8176\n",
      "..          ...       ...\n",
      "950  2021-01-28    0.0000\n",
      "949  2021-01-28    0.2732\n",
      "899  2021-01-28    0.6369\n",
      "830  2021-01-29    0.0000\n",
      "829  2021-02-12    0.8934\n",
      "\n",
      "[973 rows x 2 columns]\n",
      "                  date  compound\n",
      "date                            \n",
      "2020-05-08  2020-05-08   -0.4902\n",
      "2020-05-08  2020-05-08    0.0000\n",
      "2020-05-08  2020-05-08    0.0000\n",
      "2020-05-11  2020-05-11    0.4939\n",
      "2020-05-11  2020-05-11    0.8176\n",
      "2020-05-11  2020-05-11    0.0000\n",
      "2020-05-12  2020-05-12    0.0000\n",
      "2020-05-12  2020-05-12    0.1531\n",
      "2020-05-12  2020-05-12    0.0000\n",
      "2020-05-12  2020-05-12   -0.4588\n",
      "            Total Sentiment  Avg Sentiment\n",
      "Date                                      \n",
      "2020-06-01          -1.2498      -0.312450\n",
      "2020-06-02          -1.6542      -0.827100\n",
      "2020-06-03          -1.6542      -0.827100\n",
      "2020-06-04          -1.7959      -0.256557\n",
      "2020-06-05          -1.7959      -0.256557\n",
      "...                     ...            ...\n",
      "2021-01-25           6.3311       0.263796\n",
      "2021-01-26           9.4487       0.363412\n",
      "2021-01-27           3.4509       0.156859\n",
      "2021-01-28           0.9101       0.303367\n",
      "2021-01-29           0.0000       0.000000\n",
      "\n",
      "[169 rows x 2 columns]\n"
     ]
    }
   ],
   "source": [
    "sentiment_data=get_sentiment_from_news(news)\n",
    "print(sentiment_data)"
   ]
  },
  {
   "cell_type": "code",
   "execution_count": 15,
   "metadata": {
    "id": "329bBB8wgUc0"
   },
   "outputs": [],
   "source": [
    "df = df.join(sentiment_data)"
   ]
  },
  {
   "cell_type": "code",
   "execution_count": 16,
   "metadata": {
    "colab": {
     "base_uri": "https://localhost:8080/",
     "height": 455
=======
      "cell_type": "code",
      "metadata": {
        "id": "gJYvvd6JgUcp"
      },
      "source": [
        "def process_stock_data(filename, df):\n",
        "  stock_file = pd.read_csv(filename)\n",
        "  stock_file.set_index(pd.to_datetime(stock_file['Date']), inplace=True)\n",
        "  stock_file.drop('Date', axis=1)\n",
        "  stock_file = stock_file.reindex(df.index, method='bfill')\n",
        "  #stock_file = stock_file.drop('Date', axis=1)\n",
        "  #stock_file = stock_file.drop('Period Ending', axis=1)\n",
        "  return stock_file"
      ],
      "execution_count": 4,
      "outputs": []
>>>>>>> 49afec9ae723dfd18be441605fde0b2e123651f0
    },
    "id": "1yvTTmolgUc1",
    "outputId": "d34c2fbd-81bb-4adb-9981-c737314b937b"
   },
   "outputs": [
    {
<<<<<<< HEAD
     "data": {
      "text/html": [
       "<div>\n",
       "<style scoped>\n",
       "    .dataframe tbody tr th:only-of-type {\n",
       "        vertical-align: middle;\n",
       "    }\n",
       "\n",
       "    .dataframe tbody tr th {\n",
       "        vertical-align: top;\n",
       "    }\n",
       "\n",
       "    .dataframe thead th {\n",
       "        text-align: right;\n",
       "    }\n",
       "</style>\n",
       "<table border=\"1\" class=\"dataframe\">\n",
       "  <thead>\n",
       "    <tr style=\"text-align: right;\">\n",
       "      <th></th>\n",
       "      <th>Adj Close</th>\n",
       "      <th>Volume</th>\n",
       "      <th>Date</th>\n",
       "      <th>Period Ending</th>\n",
       "      <th>Estimated_EPS</th>\n",
       "      <th>Reported_EPS</th>\n",
       "      <th>Surprise_EPS</th>\n",
       "      <th>Estimated_Revenue</th>\n",
       "      <th>Reported_Revenue</th>\n",
       "      <th>Total Sentiment</th>\n",
       "      <th>Avg Sentiment</th>\n",
       "    </tr>\n",
       "    <tr>\n",
       "      <th>Date</th>\n",
       "      <th></th>\n",
       "      <th></th>\n",
       "      <th></th>\n",
       "      <th></th>\n",
       "      <th></th>\n",
       "      <th></th>\n",
       "      <th></th>\n",
       "      <th></th>\n",
       "      <th></th>\n",
       "      <th></th>\n",
       "      <th></th>\n",
       "    </tr>\n",
       "  </thead>\n",
       "  <tbody>\n",
       "    <tr>\n",
       "      <th>2020-06-01</th>\n",
       "      <td>80.059723</td>\n",
       "      <td>80791200.0</td>\n",
       "      <td>2020-04-30</td>\n",
       "      <td>2020-03-01</td>\n",
       "      <td>0.52</td>\n",
       "      <td>0.64</td>\n",
       "      <td>0.12</td>\n",
       "      <td>53668.84</td>\n",
       "      <td>58313.0</td>\n",
       "      <td>-1.2498</td>\n",
       "      <td>-0.312450</td>\n",
       "    </tr>\n",
       "    <tr>\n",
       "      <th>2020-06-02</th>\n",
       "      <td>80.430351</td>\n",
       "      <td>87642800.0</td>\n",
       "      <td>2020-04-30</td>\n",
       "      <td>2020-03-01</td>\n",
       "      <td>0.52</td>\n",
       "      <td>0.64</td>\n",
       "      <td>0.12</td>\n",
       "      <td>53668.84</td>\n",
       "      <td>58313.0</td>\n",
       "      <td>-1.6542</td>\n",
       "      <td>-0.827100</td>\n",
       "    </tr>\n",
       "    <tr>\n",
       "      <th>2020-06-03</th>\n",
       "      <td>80.873131</td>\n",
       "      <td>104491200.0</td>\n",
       "      <td>2020-04-30</td>\n",
       "      <td>2020-03-01</td>\n",
       "      <td>0.52</td>\n",
       "      <td>0.64</td>\n",
       "      <td>0.12</td>\n",
       "      <td>53668.84</td>\n",
       "      <td>58313.0</td>\n",
       "      <td>-1.6542</td>\n",
       "      <td>-0.827100</td>\n",
       "    </tr>\n",
       "    <tr>\n",
       "      <th>2020-06-04</th>\n",
       "      <td>80.176636</td>\n",
       "      <td>87560400.0</td>\n",
       "      <td>2020-04-30</td>\n",
       "      <td>2020-03-01</td>\n",
       "      <td>0.52</td>\n",
       "      <td>0.64</td>\n",
       "      <td>0.12</td>\n",
       "      <td>53668.84</td>\n",
       "      <td>58313.0</td>\n",
       "      <td>-1.7959</td>\n",
       "      <td>-0.256557</td>\n",
       "    </tr>\n",
       "    <tr>\n",
       "      <th>2020-06-05</th>\n",
       "      <td>82.460152</td>\n",
       "      <td>137250400.0</td>\n",
       "      <td>2020-04-30</td>\n",
       "      <td>2020-03-01</td>\n",
       "      <td>0.52</td>\n",
       "      <td>0.64</td>\n",
       "      <td>0.12</td>\n",
       "      <td>53668.84</td>\n",
       "      <td>58313.0</td>\n",
       "      <td>-1.7959</td>\n",
       "      <td>-0.256557</td>\n",
       "    </tr>\n",
       "    <tr>\n",
       "      <th>...</th>\n",
       "      <td>...</td>\n",
       "      <td>...</td>\n",
       "      <td>...</td>\n",
       "      <td>...</td>\n",
       "      <td>...</td>\n",
       "      <td>...</td>\n",
       "      <td>...</td>\n",
       "      <td>...</td>\n",
       "      <td>...</td>\n",
       "      <td>...</td>\n",
       "      <td>...</td>\n",
       "    </tr>\n",
       "    <tr>\n",
       "      <th>2021-01-25</th>\n",
       "      <td>142.706757</td>\n",
       "      <td>157611700.0</td>\n",
       "      <td>2020-10-29</td>\n",
       "      <td>2020-09-01</td>\n",
       "      <td>0.69</td>\n",
       "      <td>0.73</td>\n",
       "      <td>0.04</td>\n",
       "      <td>63388.91</td>\n",
       "      <td>64698.0</td>\n",
       "      <td>6.3311</td>\n",
       "      <td>0.263796</td>\n",
       "    </tr>\n",
       "    <tr>\n",
       "      <th>2021-01-26</th>\n",
       "      <td>142.946396</td>\n",
       "      <td>98390600.0</td>\n",
       "      <td>2020-10-29</td>\n",
       "      <td>2020-09-01</td>\n",
       "      <td>0.69</td>\n",
       "      <td>0.73</td>\n",
       "      <td>0.04</td>\n",
       "      <td>63388.91</td>\n",
       "      <td>64698.0</td>\n",
       "      <td>9.4487</td>\n",
       "      <td>0.363412</td>\n",
       "    </tr>\n",
       "    <tr>\n",
       "      <th>2021-01-27</th>\n",
       "      <td>141.848038</td>\n",
       "      <td>140843800.0</td>\n",
       "      <td>2021-01-27</td>\n",
       "      <td>2020-12-01</td>\n",
       "      <td>1.41</td>\n",
       "      <td>1.68</td>\n",
       "      <td>0.27</td>\n",
       "      <td>102512.80</td>\n",
       "      <td>111439.0</td>\n",
       "      <td>3.4509</td>\n",
       "      <td>0.156859</td>\n",
       "    </tr>\n",
       "    <tr>\n",
       "      <th>2021-01-28</th>\n",
       "      <td>136.885452</td>\n",
       "      <td>142621100.0</td>\n",
       "      <td>2021-01-27</td>\n",
       "      <td>2020-12-01</td>\n",
       "      <td>1.41</td>\n",
       "      <td>1.68</td>\n",
       "      <td>0.27</td>\n",
       "      <td>102512.80</td>\n",
       "      <td>111439.0</td>\n",
       "      <td>0.9101</td>\n",
       "      <td>0.303367</td>\n",
       "    </tr>\n",
       "    <tr>\n",
       "      <th>2021-01-29</th>\n",
       "      <td>131.763107</td>\n",
       "      <td>177180600.0</td>\n",
       "      <td>2021-01-27</td>\n",
       "      <td>2020-12-01</td>\n",
       "      <td>1.41</td>\n",
       "      <td>1.68</td>\n",
       "      <td>0.27</td>\n",
       "      <td>102512.80</td>\n",
       "      <td>111439.0</td>\n",
       "      <td>0.0000</td>\n",
       "      <td>0.000000</td>\n",
       "    </tr>\n",
       "  </tbody>\n",
       "</table>\n",
       "<p>169 rows × 11 columns</p>\n",
       "</div>"
      ],
      "text/plain": [
       "             Adj Close       Volume  ... Total Sentiment Avg Sentiment\n",
       "Date                                 ...                              \n",
       "2020-06-01   80.059723   80791200.0  ...         -1.2498     -0.312450\n",
       "2020-06-02   80.430351   87642800.0  ...         -1.6542     -0.827100\n",
       "2020-06-03   80.873131  104491200.0  ...         -1.6542     -0.827100\n",
       "2020-06-04   80.176636   87560400.0  ...         -1.7959     -0.256557\n",
       "2020-06-05   82.460152  137250400.0  ...         -1.7959     -0.256557\n",
       "...                ...          ...  ...             ...           ...\n",
       "2021-01-25  142.706757  157611700.0  ...          6.3311      0.263796\n",
       "2021-01-26  142.946396   98390600.0  ...          9.4487      0.363412\n",
       "2021-01-27  141.848038  140843800.0  ...          3.4509      0.156859\n",
       "2021-01-28  136.885452  142621100.0  ...          0.9101      0.303367\n",
       "2021-01-29  131.763107  177180600.0  ...          0.0000      0.000000\n",
       "\n",
       "[169 rows x 11 columns]"
=======
      "cell_type": "code",
      "metadata": {
        "id": "9-yDVfXOgUcp",
        "colab": {
          "base_uri": "https://localhost:8080/"
        },
        "outputId": "b88227d1-0386-4514-a410-199d7c35fdc6"
      },
      "source": [
        "# Optional, just because Ish is using Colab\n",
        "from google.colab import drive\n",
        "drive.mount('/content/gdrive')\n"
      ],
      "execution_count": 5,
      "outputs": [
        {
          "output_type": "stream",
          "text": [
            "Mounted at /content/gdrive\n"
          ],
          "name": "stdout"
        }
>>>>>>> 49afec9ae723dfd18be441605fde0b2e123651f0
      ]
     },
     "execution_count": 16,
     "metadata": {
      "tags": []
     },
     "output_type": "execute_result"
    }
   ],
   "source": [
    "df"
   ]
  },
  {
   "cell_type": "code",
   "execution_count": 17,
   "metadata": {
    "id": "uNSvi6VDgUc1"
   },
   "outputs": [],
   "source": [
    "# df = df.drop('Estimated_Revenue', axis=1)\n",
    "# df = df.drop('Reported_Revenue', axis=1)\n",
    "# df = df.drop('Date', axis=1)\n",
    "# df = df.drop('Estimated_EPS', axis=1)\n",
    "# # df = df.drop('Reported_EPS', axis=1)\n",
    "# df = df.drop('Period Ending', axis=1)"
   ]
  },
  {
   "cell_type": "code",
   "execution_count": 18,
   "metadata": {
    "colab": {
     "base_uri": "https://localhost:8080/",
     "height": 394
    },
    "id": "__pozmLcgUc1",
    "outputId": "4324220d-7b30-4c48-91b1-52b904bec60e"
   },
   "outputs": [
    {
<<<<<<< HEAD
     "data": {
      "text/html": [
       "<div>\n",
       "<style scoped>\n",
       "    .dataframe tbody tr th:only-of-type {\n",
       "        vertical-align: middle;\n",
       "    }\n",
       "\n",
       "    .dataframe tbody tr th {\n",
       "        vertical-align: top;\n",
       "    }\n",
       "\n",
       "    .dataframe thead th {\n",
       "        text-align: right;\n",
       "    }\n",
       "</style>\n",
       "<table border=\"1\" class=\"dataframe\">\n",
       "  <thead>\n",
       "    <tr style=\"text-align: right;\">\n",
       "      <th></th>\n",
       "      <th>Adj Close</th>\n",
       "      <th>Volume</th>\n",
       "      <th>Date</th>\n",
       "      <th>Period Ending</th>\n",
       "      <th>Estimated_EPS</th>\n",
       "      <th>Reported_EPS</th>\n",
       "      <th>Surprise_EPS</th>\n",
       "      <th>Estimated_Revenue</th>\n",
       "      <th>Reported_Revenue</th>\n",
       "      <th>Total Sentiment</th>\n",
       "      <th>Avg Sentiment</th>\n",
       "    </tr>\n",
       "    <tr>\n",
       "      <th>Date</th>\n",
       "      <th></th>\n",
       "      <th></th>\n",
       "      <th></th>\n",
       "      <th></th>\n",
       "      <th></th>\n",
       "      <th></th>\n",
       "      <th></th>\n",
       "      <th></th>\n",
       "      <th></th>\n",
       "      <th></th>\n",
       "      <th></th>\n",
       "    </tr>\n",
       "  </thead>\n",
       "  <tbody>\n",
       "    <tr>\n",
       "      <th>2020-06-01</th>\n",
       "      <td>80.059723</td>\n",
       "      <td>80791200.0</td>\n",
       "      <td>2020-04-30</td>\n",
       "      <td>2020-03-01</td>\n",
       "      <td>0.52</td>\n",
       "      <td>0.64</td>\n",
       "      <td>0.12</td>\n",
       "      <td>53668.84</td>\n",
       "      <td>58313.0</td>\n",
       "      <td>-1.2498</td>\n",
       "      <td>-0.312450</td>\n",
       "    </tr>\n",
       "    <tr>\n",
       "      <th>2020-06-02</th>\n",
       "      <td>80.430351</td>\n",
       "      <td>87642800.0</td>\n",
       "      <td>2020-04-30</td>\n",
       "      <td>2020-03-01</td>\n",
       "      <td>0.52</td>\n",
       "      <td>0.64</td>\n",
       "      <td>0.12</td>\n",
       "      <td>53668.84</td>\n",
       "      <td>58313.0</td>\n",
       "      <td>-1.6542</td>\n",
       "      <td>-0.827100</td>\n",
       "    </tr>\n",
       "    <tr>\n",
       "      <th>2020-06-03</th>\n",
       "      <td>80.873131</td>\n",
       "      <td>104491200.0</td>\n",
       "      <td>2020-04-30</td>\n",
       "      <td>2020-03-01</td>\n",
       "      <td>0.52</td>\n",
       "      <td>0.64</td>\n",
       "      <td>0.12</td>\n",
       "      <td>53668.84</td>\n",
       "      <td>58313.0</td>\n",
       "      <td>-1.6542</td>\n",
       "      <td>-0.827100</td>\n",
       "    </tr>\n",
       "    <tr>\n",
       "      <th>2020-06-04</th>\n",
       "      <td>80.176636</td>\n",
       "      <td>87560400.0</td>\n",
       "      <td>2020-04-30</td>\n",
       "      <td>2020-03-01</td>\n",
       "      <td>0.52</td>\n",
       "      <td>0.64</td>\n",
       "      <td>0.12</td>\n",
       "      <td>53668.84</td>\n",
       "      <td>58313.0</td>\n",
       "      <td>-1.7959</td>\n",
       "      <td>-0.256557</td>\n",
       "    </tr>\n",
       "    <tr>\n",
       "      <th>2020-06-05</th>\n",
       "      <td>82.460152</td>\n",
       "      <td>137250400.0</td>\n",
       "      <td>2020-04-30</td>\n",
       "      <td>2020-03-01</td>\n",
       "      <td>0.52</td>\n",
       "      <td>0.64</td>\n",
       "      <td>0.12</td>\n",
       "      <td>53668.84</td>\n",
       "      <td>58313.0</td>\n",
       "      <td>-1.7959</td>\n",
       "      <td>-0.256557</td>\n",
       "    </tr>\n",
       "    <tr>\n",
       "      <th>2020-06-08</th>\n",
       "      <td>82.947685</td>\n",
       "      <td>95654400.0</td>\n",
       "      <td>2020-04-30</td>\n",
       "      <td>2020-03-01</td>\n",
       "      <td>0.52</td>\n",
       "      <td>0.64</td>\n",
       "      <td>0.12</td>\n",
       "      <td>53668.84</td>\n",
       "      <td>58313.0</td>\n",
       "      <td>0.6364</td>\n",
       "      <td>0.318200</td>\n",
       "    </tr>\n",
       "    <tr>\n",
       "      <th>2020-06-09</th>\n",
       "      <td>85.567009</td>\n",
       "      <td>147712400.0</td>\n",
       "      <td>2020-04-30</td>\n",
       "      <td>2020-03-01</td>\n",
       "      <td>0.52</td>\n",
       "      <td>0.64</td>\n",
       "      <td>0.12</td>\n",
       "      <td>53668.84</td>\n",
       "      <td>58313.0</td>\n",
       "      <td>0.6364</td>\n",
       "      <td>0.318200</td>\n",
       "    </tr>\n",
       "    <tr>\n",
       "      <th>2020-06-10</th>\n",
       "      <td>87.768440</td>\n",
       "      <td>166651600.0</td>\n",
       "      <td>2020-04-30</td>\n",
       "      <td>2020-03-01</td>\n",
       "      <td>0.52</td>\n",
       "      <td>0.64</td>\n",
       "      <td>0.12</td>\n",
       "      <td>53668.84</td>\n",
       "      <td>58313.0</td>\n",
       "      <td>0.0000</td>\n",
       "      <td>0.000000</td>\n",
       "    </tr>\n",
       "    <tr>\n",
       "      <th>2020-06-11</th>\n",
       "      <td>83.554642</td>\n",
       "      <td>201662400.0</td>\n",
       "      <td>2020-04-30</td>\n",
       "      <td>2020-03-01</td>\n",
       "      <td>0.52</td>\n",
       "      <td>0.64</td>\n",
       "      <td>0.12</td>\n",
       "      <td>53668.84</td>\n",
       "      <td>58313.0</td>\n",
       "      <td>1.5012</td>\n",
       "      <td>0.750600</td>\n",
       "    </tr>\n",
       "    <tr>\n",
       "      <th>2020-06-12</th>\n",
       "      <td>84.276009</td>\n",
       "      <td>200146000.0</td>\n",
       "      <td>2020-04-30</td>\n",
       "      <td>2020-03-01</td>\n",
       "      <td>0.52</td>\n",
       "      <td>0.64</td>\n",
       "      <td>0.12</td>\n",
       "      <td>53668.84</td>\n",
       "      <td>58313.0</td>\n",
       "      <td>0.0516</td>\n",
       "      <td>0.012900</td>\n",
       "    </tr>\n",
       "  </tbody>\n",
       "</table>\n",
       "</div>"
      ],
      "text/plain": [
       "            Adj Close       Volume  ... Total Sentiment Avg Sentiment\n",
       "Date                                ...                              \n",
       "2020-06-01  80.059723   80791200.0  ...         -1.2498     -0.312450\n",
       "2020-06-02  80.430351   87642800.0  ...         -1.6542     -0.827100\n",
       "2020-06-03  80.873131  104491200.0  ...         -1.6542     -0.827100\n",
       "2020-06-04  80.176636   87560400.0  ...         -1.7959     -0.256557\n",
       "2020-06-05  82.460152  137250400.0  ...         -1.7959     -0.256557\n",
       "2020-06-08  82.947685   95654400.0  ...          0.6364      0.318200\n",
       "2020-06-09  85.567009  147712400.0  ...          0.6364      0.318200\n",
       "2020-06-10  87.768440  166651600.0  ...          0.0000      0.000000\n",
       "2020-06-11  83.554642  201662400.0  ...          1.5012      0.750600\n",
       "2020-06-12  84.276009  200146000.0  ...          0.0516      0.012900\n",
       "\n",
       "[10 rows x 11 columns]"
      ]
     },
     "execution_count": 18,
     "metadata": {
      "tags": []
     },
     "output_type": "execute_result"
    }
   ],
   "source": [
    "df[:10]"
   ]
  },
  {
   "cell_type": "code",
   "execution_count": 19,
   "metadata": {
    "colab": {
     "base_uri": "https://localhost:8080/",
     "height": 295
=======
      "cell_type": "markdown",
      "metadata": {
        "id": "pRvuel4ogUcu"
      },
      "source": [
        "# Get news sentiment"
      ]
    },
    {
      "cell_type": "code",
      "metadata": {
        "id": "U-U_xyZQgUcu"
      },
      "source": [
        "def daterange(start_date, end_date):\n",
        "    for n in range(int((end_date - start_date).days)):\n",
        "        yield start_date + timedelta(n)\n",
        "\n",
        "def get_yahoo_news(symbol):\n",
        "  start_date = date(2020, 6, 1)\n",
        "  end_date = date(2021, 1, 29)\n",
        "  data = []\n",
        "  run_Dict = []\n",
        "  ticker = yahooquery.Ticker(symbol)\n",
        "  for single_date in daterange(start_date, end_date):\n",
        "      daily_news = ticker.news(start=single_date.strftime(\"%Y-%m-%d\"))\n",
        "      for article in daily_news:\n",
        "          #print(article)\n",
        "          title = article['title']\n",
        "          if title in run_Dict:\n",
        "              continue\n",
        "          else:\n",
        "              try:\n",
        "                  run_Dict.append(title)\n",
        "                  publisher_time = article['provider_publish_time']\n",
        "                  publisher_time = datetime.utcfromtimestamp(int(publisher_time)).strftime('%Y-%m-%d')\n",
        "                  data.append([publisher_time, title, article['summary']])\n",
        "              except KeyError:\n",
        "                  print(\"KeyError generated.\")\n",
        "                  continue\n",
        "          if len(run_Dict) > 30:\n",
        "              run_Dict = run_Dict[-30:]\n",
        "  print(len(data))\n",
        "  news = pd.DataFrame(data, columns=[\"date\", \"Title\", \"Summary\"])\n",
        "  nltk.download(\"vader_lexicon\")\n",
        "  sentimentAnalyser = SentimentIntensityAnalyzer()\n",
        "  news[\"compound\"] = [sentimentAnalyser.polarity_scores(v)['compound'] for v in news[\"Summary\"]]\n",
        "  news[\"negative\"] = [sentimentAnalyser.polarity_scores(v)['neg'] for v in news[\"Summary\"]]\n",
        "  news[\"positive\"] = [sentimentAnalyser.polarity_scores(v)['pos'] for v in news[\"Summary\"]]\n",
        "  news[\"neutral\"] = [sentimentAnalyser.polarity_scores(v)['neu'] for v in news[\"Summary\"]]\n",
        "  news = news.sort_values(by=\"date\")\n",
        "  return news"
      ],
      "execution_count": 7,
      "outputs": []
>>>>>>> 49afec9ae723dfd18be441605fde0b2e123651f0
    },
    "id": "hQPd_XgIgUc1",
    "outputId": "6903887e-c7fd-4fff-d856-a034830040da"
   },
   "outputs": [
    {
<<<<<<< HEAD
     "data": {
      "text/plain": [
       "<matplotlib.axes._subplots.AxesSubplot at 0x7fa0b2420d50>"
=======
      "cell_type": "code",
      "metadata": {
        "id": "zAjp4WHqgUcw"
      },
      "source": [
        "def get_sentiment_from_news(news):\n",
        "  news_sentiment = news[['date', 'compound']]\n",
        "  print(news_sentiment)\n",
        "  news_sentiment.set_index(pd.to_datetime(news_sentiment['date']), inplace=True)\n",
        "  print(news_sentiment[:10])\n",
        "  news_sentiment = news_sentiment['compound']\n",
        "  total_sentiment = news_sentiment.groupby('date').agg(lambda x: sum(x))\n",
        "  total_sentiment = total_sentiment.rename('Total Sentiment')\n",
        "  nArticles = news_sentiment.groupby('date').count()\n",
        "  avg_sentiment = total_sentiment/nArticles\n",
        "  avg_sentiment = avg_sentiment.rename('Avg Sentiment')\n",
        "  sentiment_data = pd.concat([total_sentiment, avg_sentiment], axis=1)\n",
        "  sentiment_data = sentiment_data.reindex(df.index, method='ffill')\n",
        "  return sentiment_data"
      ],
      "execution_count": 8,
      "outputs": []
    },
    {
      "cell_type": "code",
      "metadata": {
        "id": "uNSvi6VDgUc1"
      },
      "source": [
        "# df = df.drop('Estimated_Revenue', axis=1)\n",
        "# df = df.drop('Reported_Revenue', axis=1)\n",
        "# df = df.drop('Date', axis=1)\n",
        "# df = df.drop('Estimated_EPS', axis=1)\n",
        "# # df = df.drop('Reported_EPS', axis=1)\n",
        "# df = df.drop('Period Ending', axis=1)"
      ],
      "execution_count": null,
      "outputs": []
    },
    {
      "cell_type": "markdown",
      "metadata": {
        "id": "Wcq2V-iqgUc3"
      },
      "source": [
        "# Output prep"
      ]
    },
    {
      "cell_type": "code",
      "metadata": {
        "id": "WwSKrz0awCvn"
      },
      "source": [
        "def prepare_data_Y_for_ML(df):\n",
        "  output = df['Adj Close']\n",
        "  output.rename('Stock Price')\n",
        "  advance = df['Adj Close'].shift(10)\n",
        "  advance = advance.rename('Short Term Advance')\n",
        "  advance2 = df['Adj Close'].shift(40)\n",
        "  advance2 = advance2.rename('Mid Term Advance')\n",
        "  gt = pd.concat([output, advance, advance2], axis=1)\n",
        "  gt['Short Term Change'] = ((gt['Short Term Advance'] - gt['Adj Close'])/gt['Adj Close'])*100\n",
        "  gt['Mid Term Change'] = ((gt['Mid Term Advance'] - gt['Adj Close'])/gt['Adj Close'])*100\n",
        "  #print(gt[9:110])\n",
        "  #gt['Short Term Change'].plot()\n",
        "\n",
        "  Y = gt['Short Term Change'][10:]\n",
        "  return Y"
      ],
      "execution_count": 27,
      "outputs": []
    },
    {
      "cell_type": "code",
      "metadata": {
        "id": "BArTYfB_gUc_"
      },
      "source": [
        "def prepare_data_X_for_ML(df):\n",
        "  df['Weekly Sentiment'] = df['Avg Sentiment'].rolling(5, win_type='triang').sum()\n",
        "  df['Monthly Sentiment'] = df['Avg Sentiment'].rolling(20, win_type='triang').sum()\n",
        "  avg_monthly_sentiment = df['Monthly Sentiment'].sum()/len(df['Monthly Sentiment'])\n",
        "  avg_week = df['Weekly Sentiment'].sum()/len(df['Monthly Sentiment'])\n",
        "  X = df[10:]\n",
        "  X['Monthly Sentiment'] =  X['Monthly Sentiment'].fillna(avg_monthly_sentiment)\n",
        "  X['Weekly Sentiment'] = X['Weekly Sentiment'].fillna(avg_week)\n",
        "  X=X.drop(['Date','Estimated_Revenue','Reported_Revenue','Estimated_EPS','Reported_EPS','Period Ending'],axis=1)\n",
        "  return X"
      ],
      "execution_count": 28,
      "outputs": []
    },
    {
      "cell_type": "markdown",
      "metadata": {
        "id": "8AEWWS1i6LZP"
      },
      "source": [
        "# Test MLP regression"
      ]
    },
    {
      "cell_type": "code",
      "metadata": {
        "id": "xLdnbjRi0drq"
      },
      "source": [
        "def apply_MLP(X_train,X_test,y_train,y_test):\n",
        "  sc_X = StandardScaler()\n",
        "  X_trainscaled=sc_X.fit_transform(X_train)\n",
        "  X_testscaled=sc_X.transform(X_test)\n",
        "  reg = MLPRegressor(hidden_layer_sizes=(5,15,5),activation=\"relu\" ,random_state=1, max_iter=2000).fit(X_trainscaled, y_train)\n",
        "  y_pred=reg.predict(X_testscaled)\n",
        "  print(\"The Score with \", (r2_score(y_pred, y_test)))\n",
        "  y_pred = pd.DataFrame(y_pred)\n",
        "  out = pd.concat([y_test.reset_index(drop=True),y_pred.reset_index(drop=True)], axis=1)\n",
        "  out = out.rename(columns={0:\"Prediction\", \"Short Term Change\":\"Ground Truth\"})\n",
        "  return out"
      ],
      "execution_count": 11,
      "outputs": []
    },
    {
      "cell_type": "markdown",
      "metadata": {
        "id": "t0WrG9TcyA0R"
      },
      "source": [
        "# Main code"
      ]
    },
    {
      "cell_type": "code",
      "metadata": {
        "id": "qAX5XiVLgUdE",
        "colab": {
          "base_uri": "https://localhost:8080/",
          "height": 1000
        },
        "outputId": "7ab635b6-48b8-4fe3-a7b3-0fa392e488b3"
      },
      "source": [
        "symbol='AAPL'\n",
        "df = get_yahoo_dataframe(symbol)\n",
        "df\n",
        "stock_file=process_stock_data('/content/gdrive/My Drive/Colab Notebooks/earnings_data/AAPL.csv', df)\n",
        "#print(stock_file)\n",
        "df = df.join(stock_file)\n",
        "news=get_yahoo_news(symbol)\n",
        "#print(news)\n",
        "sentiment_data=get_sentiment_from_news(news)\n",
        "#print(sentiment_data)\n",
        "df = df.join(sentiment_data)\n",
        "df\n"
      ],
      "execution_count": 13,
      "outputs": [
        {
          "output_type": "stream",
          "text": [
            "                  Date Period Ending  ...  Estimated_Revenue  Reported_Revenue\n",
            "Date                                  ...                                     \n",
            "2020-06-01  2020-04-30    2020-03-01  ...           53668.84           58313.0\n",
            "2020-06-02  2020-04-30    2020-03-01  ...           53668.84           58313.0\n",
            "2020-06-03  2020-04-30    2020-03-01  ...           53668.84           58313.0\n",
            "2020-06-04  2020-04-30    2020-03-01  ...           53668.84           58313.0\n",
            "2020-06-05  2020-04-30    2020-03-01  ...           53668.84           58313.0\n",
            "...                ...           ...  ...                ...               ...\n",
            "2021-01-25  2020-10-29    2020-09-01  ...           63388.91           64698.0\n",
            "2021-01-26  2020-10-29    2020-09-01  ...           63388.91           64698.0\n",
            "2021-01-27  2021-01-27    2020-12-01  ...          102512.80          111439.0\n",
            "2021-01-28  2021-01-27    2020-12-01  ...          102512.80          111439.0\n",
            "2021-01-29  2021-01-27    2020-12-01  ...          102512.80          111439.0\n",
            "\n",
            "[169 rows x 7 columns]\n",
            "972\n",
            "[nltk_data] Downloading package vader_lexicon to /root/nltk_data...\n",
            "[nltk_data]   Package vader_lexicon is already up-to-date!\n",
            "           date  ... neutral\n",
            "24   2020-05-08  ...   0.925\n",
            "23   2020-05-08  ...   1.000\n",
            "22   2020-05-08  ...   1.000\n",
            "21   2020-05-11  ...   0.868\n",
            "20   2020-05-11  ...   0.771\n",
            "..          ...  ...     ...\n",
            "971  2021-01-27  ...   0.937\n",
            "949  2021-01-28  ...   1.000\n",
            "899  2021-01-28  ...   0.755\n",
            "830  2021-01-29  ...   1.000\n",
            "829  2021-02-12  ...   0.700\n",
            "\n",
            "[972 rows x 7 columns]\n",
            "           date  compound\n",
            "24   2020-05-08   -0.4902\n",
            "23   2020-05-08    0.0000\n",
            "22   2020-05-08    0.0000\n",
            "21   2020-05-11    0.4939\n",
            "20   2020-05-11    0.8176\n",
            "..          ...       ...\n",
            "971  2021-01-27   -0.4019\n",
            "949  2021-01-28    0.0000\n",
            "899  2021-01-28    0.6369\n",
            "830  2021-01-29    0.0000\n",
            "829  2021-02-12    0.8934\n",
            "\n",
            "[972 rows x 2 columns]\n",
            "                  date  compound\n",
            "date                            \n",
            "2020-05-08  2020-05-08   -0.4902\n",
            "2020-05-08  2020-05-08    0.0000\n",
            "2020-05-08  2020-05-08    0.0000\n",
            "2020-05-11  2020-05-11    0.4939\n",
            "2020-05-11  2020-05-11    0.8176\n",
            "2020-05-11  2020-05-11    0.0000\n",
            "2020-05-12  2020-05-12    0.0000\n",
            "2020-05-12  2020-05-12    0.1531\n",
            "2020-05-12  2020-05-12    0.0000\n",
            "2020-05-12  2020-05-12   -0.4588\n",
            "            Total Sentiment  Avg Sentiment\n",
            "Date                                      \n",
            "2020-06-01          -1.2498      -0.312450\n",
            "2020-06-02          -1.6542      -0.827100\n",
            "2020-06-03          -1.6542      -0.827100\n",
            "2020-06-04          -1.7959      -0.256557\n",
            "2020-06-05          -1.7959      -0.256557\n",
            "...                     ...            ...\n",
            "2021-01-25           6.3311       0.263796\n",
            "2021-01-26           9.4487       0.363412\n",
            "2021-01-27           3.4509       0.156859\n",
            "2021-01-28           0.6369       0.318450\n",
            "2021-01-29           0.0000       0.000000\n",
            "\n",
            "[169 rows x 2 columns]\n"
          ],
          "name": "stdout"
        },
        {
          "output_type": "execute_result",
          "data": {
            "text/html": [
              "<div>\n",
              "<style scoped>\n",
              "    .dataframe tbody tr th:only-of-type {\n",
              "        vertical-align: middle;\n",
              "    }\n",
              "\n",
              "    .dataframe tbody tr th {\n",
              "        vertical-align: top;\n",
              "    }\n",
              "\n",
              "    .dataframe thead th {\n",
              "        text-align: right;\n",
              "    }\n",
              "</style>\n",
              "<table border=\"1\" class=\"dataframe\">\n",
              "  <thead>\n",
              "    <tr style=\"text-align: right;\">\n",
              "      <th></th>\n",
              "      <th>Adj Close</th>\n",
              "      <th>Volume</th>\n",
              "      <th>Date</th>\n",
              "      <th>Period Ending</th>\n",
              "      <th>Estimated_EPS</th>\n",
              "      <th>Reported_EPS</th>\n",
              "      <th>Surprise_EPS</th>\n",
              "      <th>Estimated_Revenue</th>\n",
              "      <th>Reported_Revenue</th>\n",
              "      <th>Total Sentiment</th>\n",
              "      <th>Avg Sentiment</th>\n",
              "    </tr>\n",
              "    <tr>\n",
              "      <th>Date</th>\n",
              "      <th></th>\n",
              "      <th></th>\n",
              "      <th></th>\n",
              "      <th></th>\n",
              "      <th></th>\n",
              "      <th></th>\n",
              "      <th></th>\n",
              "      <th></th>\n",
              "      <th></th>\n",
              "      <th></th>\n",
              "      <th></th>\n",
              "    </tr>\n",
              "  </thead>\n",
              "  <tbody>\n",
              "    <tr>\n",
              "      <th>2020-06-01</th>\n",
              "      <td>80.059723</td>\n",
              "      <td>80791200.0</td>\n",
              "      <td>2020-04-30</td>\n",
              "      <td>2020-03-01</td>\n",
              "      <td>0.52</td>\n",
              "      <td>0.64</td>\n",
              "      <td>0.12</td>\n",
              "      <td>53668.84</td>\n",
              "      <td>58313.0</td>\n",
              "      <td>-1.2498</td>\n",
              "      <td>-0.312450</td>\n",
              "    </tr>\n",
              "    <tr>\n",
              "      <th>2020-06-02</th>\n",
              "      <td>80.430351</td>\n",
              "      <td>87642800.0</td>\n",
              "      <td>2020-04-30</td>\n",
              "      <td>2020-03-01</td>\n",
              "      <td>0.52</td>\n",
              "      <td>0.64</td>\n",
              "      <td>0.12</td>\n",
              "      <td>53668.84</td>\n",
              "      <td>58313.0</td>\n",
              "      <td>-1.6542</td>\n",
              "      <td>-0.827100</td>\n",
              "    </tr>\n",
              "    <tr>\n",
              "      <th>2020-06-03</th>\n",
              "      <td>80.873131</td>\n",
              "      <td>104491200.0</td>\n",
              "      <td>2020-04-30</td>\n",
              "      <td>2020-03-01</td>\n",
              "      <td>0.52</td>\n",
              "      <td>0.64</td>\n",
              "      <td>0.12</td>\n",
              "      <td>53668.84</td>\n",
              "      <td>58313.0</td>\n",
              "      <td>-1.6542</td>\n",
              "      <td>-0.827100</td>\n",
              "    </tr>\n",
              "    <tr>\n",
              "      <th>2020-06-04</th>\n",
              "      <td>80.176636</td>\n",
              "      <td>87560400.0</td>\n",
              "      <td>2020-04-30</td>\n",
              "      <td>2020-03-01</td>\n",
              "      <td>0.52</td>\n",
              "      <td>0.64</td>\n",
              "      <td>0.12</td>\n",
              "      <td>53668.84</td>\n",
              "      <td>58313.0</td>\n",
              "      <td>-1.7959</td>\n",
              "      <td>-0.256557</td>\n",
              "    </tr>\n",
              "    <tr>\n",
              "      <th>2020-06-05</th>\n",
              "      <td>82.460152</td>\n",
              "      <td>137250400.0</td>\n",
              "      <td>2020-04-30</td>\n",
              "      <td>2020-03-01</td>\n",
              "      <td>0.52</td>\n",
              "      <td>0.64</td>\n",
              "      <td>0.12</td>\n",
              "      <td>53668.84</td>\n",
              "      <td>58313.0</td>\n",
              "      <td>-1.7959</td>\n",
              "      <td>-0.256557</td>\n",
              "    </tr>\n",
              "    <tr>\n",
              "      <th>...</th>\n",
              "      <td>...</td>\n",
              "      <td>...</td>\n",
              "      <td>...</td>\n",
              "      <td>...</td>\n",
              "      <td>...</td>\n",
              "      <td>...</td>\n",
              "      <td>...</td>\n",
              "      <td>...</td>\n",
              "      <td>...</td>\n",
              "      <td>...</td>\n",
              "      <td>...</td>\n",
              "    </tr>\n",
              "    <tr>\n",
              "      <th>2021-01-25</th>\n",
              "      <td>142.706757</td>\n",
              "      <td>157611700.0</td>\n",
              "      <td>2020-10-29</td>\n",
              "      <td>2020-09-01</td>\n",
              "      <td>0.69</td>\n",
              "      <td>0.73</td>\n",
              "      <td>0.04</td>\n",
              "      <td>63388.91</td>\n",
              "      <td>64698.0</td>\n",
              "      <td>6.3311</td>\n",
              "      <td>0.263796</td>\n",
              "    </tr>\n",
              "    <tr>\n",
              "      <th>2021-01-26</th>\n",
              "      <td>142.946396</td>\n",
              "      <td>98390600.0</td>\n",
              "      <td>2020-10-29</td>\n",
              "      <td>2020-09-01</td>\n",
              "      <td>0.69</td>\n",
              "      <td>0.73</td>\n",
              "      <td>0.04</td>\n",
              "      <td>63388.91</td>\n",
              "      <td>64698.0</td>\n",
              "      <td>9.4487</td>\n",
              "      <td>0.363412</td>\n",
              "    </tr>\n",
              "    <tr>\n",
              "      <th>2021-01-27</th>\n",
              "      <td>141.848038</td>\n",
              "      <td>140843800.0</td>\n",
              "      <td>2021-01-27</td>\n",
              "      <td>2020-12-01</td>\n",
              "      <td>1.41</td>\n",
              "      <td>1.68</td>\n",
              "      <td>0.27</td>\n",
              "      <td>102512.80</td>\n",
              "      <td>111439.0</td>\n",
              "      <td>3.4509</td>\n",
              "      <td>0.156859</td>\n",
              "    </tr>\n",
              "    <tr>\n",
              "      <th>2021-01-28</th>\n",
              "      <td>136.885452</td>\n",
              "      <td>142621100.0</td>\n",
              "      <td>2021-01-27</td>\n",
              "      <td>2020-12-01</td>\n",
              "      <td>1.41</td>\n",
              "      <td>1.68</td>\n",
              "      <td>0.27</td>\n",
              "      <td>102512.80</td>\n",
              "      <td>111439.0</td>\n",
              "      <td>0.6369</td>\n",
              "      <td>0.318450</td>\n",
              "    </tr>\n",
              "    <tr>\n",
              "      <th>2021-01-29</th>\n",
              "      <td>131.763107</td>\n",
              "      <td>177180600.0</td>\n",
              "      <td>2021-01-27</td>\n",
              "      <td>2020-12-01</td>\n",
              "      <td>1.41</td>\n",
              "      <td>1.68</td>\n",
              "      <td>0.27</td>\n",
              "      <td>102512.80</td>\n",
              "      <td>111439.0</td>\n",
              "      <td>0.0000</td>\n",
              "      <td>0.000000</td>\n",
              "    </tr>\n",
              "  </tbody>\n",
              "</table>\n",
              "<p>169 rows × 11 columns</p>\n",
              "</div>"
            ],
            "text/plain": [
              "             Adj Close       Volume  ... Total Sentiment Avg Sentiment\n",
              "Date                                 ...                              \n",
              "2020-06-01   80.059723   80791200.0  ...         -1.2498     -0.312450\n",
              "2020-06-02   80.430351   87642800.0  ...         -1.6542     -0.827100\n",
              "2020-06-03   80.873131  104491200.0  ...         -1.6542     -0.827100\n",
              "2020-06-04   80.176636   87560400.0  ...         -1.7959     -0.256557\n",
              "2020-06-05   82.460152  137250400.0  ...         -1.7959     -0.256557\n",
              "...                ...          ...  ...             ...           ...\n",
              "2021-01-25  142.706757  157611700.0  ...          6.3311      0.263796\n",
              "2021-01-26  142.946396   98390600.0  ...          9.4487      0.363412\n",
              "2021-01-27  141.848038  140843800.0  ...          3.4509      0.156859\n",
              "2021-01-28  136.885452  142621100.0  ...          0.6369      0.318450\n",
              "2021-01-29  131.763107  177180600.0  ...          0.0000      0.000000\n",
              "\n",
              "[169 rows x 11 columns]"
            ]
          },
          "metadata": {
            "tags": []
          },
          "execution_count": 13
        },
        {
          "output_type": "display_data",
          "data": {
            "image/png": "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\n",
            "text/plain": [
              "<Figure size 432x288 with 1 Axes>"
            ]
          },
          "metadata": {
            "tags": [],
            "needs_background": "light"
          }
        }
>>>>>>> 49afec9ae723dfd18be441605fde0b2e123651f0
      ]
     },
     "execution_count": 19,
     "metadata": {
      "tags": []
     },
     "output_type": "execute_result"
    },
    {
<<<<<<< HEAD
     "data": {
      "image/png": "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\n",
      "text/plain": [
       "<Figure size 432x288 with 1 Axes>"
      ]
     },
     "metadata": {
      "needs_background": "light",
      "tags": []
     },
     "output_type": "display_data"
    }
   ],
   "source": [
    "df['Avg Sentiment'].plot()"
   ]
  },
  {
   "cell_type": "code",
   "execution_count": 20,
   "metadata": {
    "colab": {
     "base_uri": "https://localhost:8080/",
     "height": 299
    },
    "id": "ynVnKyqpgUc2",
    "outputId": "e58381ac-771b-421b-8800-461ff2bd704b"
   },
   "outputs": [
    {
     "data": {
      "text/plain": [
       "<matplotlib.axes._subplots.AxesSubplot at 0x7fa0b22f16d0>"
=======
      "cell_type": "code",
      "metadata": {
        "colab": {
          "base_uri": "https://localhost:8080/",
          "height": 299
        },
        "id": "VWNRicuXwI5Q",
        "outputId": "6787d986-d2c2-4c4a-a866-394a1ed756b5"
      },
      "source": [
        "df['Avg Sentiment'].plot()\n",
        "df['Total Sentiment'].plot()\n"
      ],
      "execution_count": 15,
      "outputs": [
        {
          "output_type": "execute_result",
          "data": {
            "text/plain": [
              "<matplotlib.axes._subplots.AxesSubplot at 0x7fb7a06498d0>"
            ]
          },
          "metadata": {
            "tags": []
          },
          "execution_count": 15
        },
        {
          "output_type": "display_data",
          "data": {
            "image/png": "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\n",
            "text/plain": [
              "<Figure size 432x288 with 1 Axes>"
            ]
          },
          "metadata": {
            "tags": [],
            "needs_background": "light"
          }
        }
>>>>>>> 49afec9ae723dfd18be441605fde0b2e123651f0
      ]
     },
     "execution_count": 20,
     "metadata": {
      "tags": []
     },
     "output_type": "execute_result"
    },
    {
<<<<<<< HEAD
     "data": {
      "image/png": "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\n",
      "text/plain": [
       "<Figure size 432x288 with 1 Axes>"
      ]
     },
     "metadata": {
      "needs_background": "light",
      "tags": []
     },
     "output_type": "display_data"
    }
   ],
   "source": [
    "df['Total Sentiment'].plot()"
   ]
  },
  {
   "cell_type": "code",
   "execution_count": 21,
   "metadata": {
    "id": "CI0Dyw3_gUc2"
   },
   "outputs": [],
   "source": [
    "df['Weekly Sentiment'] = df['Avg Sentiment'].rolling(5, win_type='triang').sum()"
   ]
  },
  {
   "cell_type": "code",
   "execution_count": 22,
   "metadata": {
    "id": "7EpDerY7gUc2"
   },
   "outputs": [],
   "source": [
    "df['Monthly Sentiment'] = df['Avg Sentiment'].rolling(20, win_type='triang').sum()"
   ]
  },
  {
   "cell_type": "code",
   "execution_count": 23,
   "metadata": {
    "colab": {
     "base_uri": "https://localhost:8080/",
     "height": 455
    },
    "id": "8AFnjGU3gUc2",
    "outputId": "f92a9d6e-62c7-4221-bdc3-d888eeacd2ac",
    "scrolled": true
   },
   "outputs": [
    {
     "data": {
      "text/html": [
       "<div>\n",
       "<style scoped>\n",
       "    .dataframe tbody tr th:only-of-type {\n",
       "        vertical-align: middle;\n",
       "    }\n",
       "\n",
       "    .dataframe tbody tr th {\n",
       "        vertical-align: top;\n",
       "    }\n",
       "\n",
       "    .dataframe thead th {\n",
       "        text-align: right;\n",
       "    }\n",
       "</style>\n",
       "<table border=\"1\" class=\"dataframe\">\n",
       "  <thead>\n",
       "    <tr style=\"text-align: right;\">\n",
       "      <th></th>\n",
       "      <th>Adj Close</th>\n",
       "      <th>Volume</th>\n",
       "      <th>Date</th>\n",
       "      <th>Period Ending</th>\n",
       "      <th>Estimated_EPS</th>\n",
       "      <th>Reported_EPS</th>\n",
       "      <th>Surprise_EPS</th>\n",
       "      <th>Estimated_Revenue</th>\n",
       "      <th>Reported_Revenue</th>\n",
       "      <th>Total Sentiment</th>\n",
       "      <th>Avg Sentiment</th>\n",
       "      <th>Weekly Sentiment</th>\n",
       "      <th>Monthly Sentiment</th>\n",
       "    </tr>\n",
       "    <tr>\n",
       "      <th>Date</th>\n",
       "      <th></th>\n",
       "      <th></th>\n",
       "      <th></th>\n",
       "      <th></th>\n",
       "      <th></th>\n",
       "      <th></th>\n",
       "      <th></th>\n",
       "      <th></th>\n",
       "      <th></th>\n",
       "      <th></th>\n",
       "      <th></th>\n",
       "      <th></th>\n",
       "      <th></th>\n",
       "    </tr>\n",
       "  </thead>\n",
       "  <tbody>\n",
       "    <tr>\n",
       "      <th>2020-06-01</th>\n",
       "      <td>80.059723</td>\n",
       "      <td>80791200.0</td>\n",
       "      <td>2020-04-30</td>\n",
       "      <td>2020-03-01</td>\n",
       "      <td>0.52</td>\n",
       "      <td>0.64</td>\n",
       "      <td>0.12</td>\n",
       "      <td>53668.84</td>\n",
       "      <td>58313.0</td>\n",
       "      <td>-1.2498</td>\n",
       "      <td>-0.312450</td>\n",
       "      <td>NaN</td>\n",
       "      <td>NaN</td>\n",
       "    </tr>\n",
       "    <tr>\n",
       "      <th>2020-06-02</th>\n",
       "      <td>80.430351</td>\n",
       "      <td>87642800.0</td>\n",
       "      <td>2020-04-30</td>\n",
       "      <td>2020-03-01</td>\n",
       "      <td>0.52</td>\n",
       "      <td>0.64</td>\n",
       "      <td>0.12</td>\n",
       "      <td>53668.84</td>\n",
       "      <td>58313.0</td>\n",
       "      <td>-1.6542</td>\n",
       "      <td>-0.827100</td>\n",
       "      <td>NaN</td>\n",
       "      <td>NaN</td>\n",
       "    </tr>\n",
       "    <tr>\n",
       "      <th>2020-06-03</th>\n",
       "      <td>80.873131</td>\n",
       "      <td>104491200.0</td>\n",
       "      <td>2020-04-30</td>\n",
       "      <td>2020-03-01</td>\n",
       "      <td>0.52</td>\n",
       "      <td>0.64</td>\n",
       "      <td>0.12</td>\n",
       "      <td>53668.84</td>\n",
       "      <td>58313.0</td>\n",
       "      <td>-1.6542</td>\n",
       "      <td>-0.827100</td>\n",
       "      <td>NaN</td>\n",
       "      <td>NaN</td>\n",
       "    </tr>\n",
       "    <tr>\n",
       "      <th>2020-06-04</th>\n",
       "      <td>80.176636</td>\n",
       "      <td>87560400.0</td>\n",
       "      <td>2020-04-30</td>\n",
       "      <td>2020-03-01</td>\n",
       "      <td>0.52</td>\n",
       "      <td>0.64</td>\n",
       "      <td>0.12</td>\n",
       "      <td>53668.84</td>\n",
       "      <td>58313.0</td>\n",
       "      <td>-1.7959</td>\n",
       "      <td>-0.256557</td>\n",
       "      <td>NaN</td>\n",
       "      <td>NaN</td>\n",
       "    </tr>\n",
       "    <tr>\n",
       "      <th>2020-06-05</th>\n",
       "      <td>82.460152</td>\n",
       "      <td>137250400.0</td>\n",
       "      <td>2020-04-30</td>\n",
       "      <td>2020-03-01</td>\n",
       "      <td>0.52</td>\n",
       "      <td>0.64</td>\n",
       "      <td>0.12</td>\n",
       "      <td>53668.84</td>\n",
       "      <td>58313.0</td>\n",
       "      <td>-1.7959</td>\n",
       "      <td>-0.256557</td>\n",
       "      <td>-1.739207</td>\n",
       "      <td>NaN</td>\n",
       "    </tr>\n",
       "    <tr>\n",
       "      <th>...</th>\n",
       "      <td>...</td>\n",
       "      <td>...</td>\n",
       "      <td>...</td>\n",
       "      <td>...</td>\n",
       "      <td>...</td>\n",
       "      <td>...</td>\n",
       "      <td>...</td>\n",
       "      <td>...</td>\n",
       "      <td>...</td>\n",
       "      <td>...</td>\n",
       "      <td>...</td>\n",
       "      <td>...</td>\n",
       "      <td>...</td>\n",
       "    </tr>\n",
       "    <tr>\n",
       "      <th>2021-01-25</th>\n",
       "      <td>142.706757</td>\n",
       "      <td>157611700.0</td>\n",
       "      <td>2020-10-29</td>\n",
       "      <td>2020-09-01</td>\n",
       "      <td>0.69</td>\n",
       "      <td>0.73</td>\n",
       "      <td>0.04</td>\n",
       "      <td>63388.91</td>\n",
       "      <td>64698.0</td>\n",
       "      <td>6.3311</td>\n",
       "      <td>0.263796</td>\n",
       "      <td>0.779491</td>\n",
       "      <td>3.038905</td>\n",
       "    </tr>\n",
       "    <tr>\n",
       "      <th>2021-01-26</th>\n",
       "      <td>142.946396</td>\n",
       "      <td>98390600.0</td>\n",
       "      <td>2020-10-29</td>\n",
       "      <td>2020-09-01</td>\n",
       "      <td>0.69</td>\n",
       "      <td>0.73</td>\n",
       "      <td>0.04</td>\n",
       "      <td>63388.91</td>\n",
       "      <td>64698.0</td>\n",
       "      <td>9.4487</td>\n",
       "      <td>0.363412</td>\n",
       "      <td>0.906920</td>\n",
       "      <td>2.990882</td>\n",
       "    </tr>\n",
       "    <tr>\n",
       "      <th>2021-01-27</th>\n",
       "      <td>141.848038</td>\n",
       "      <td>140843800.0</td>\n",
       "      <td>2021-01-27</td>\n",
       "      <td>2020-12-01</td>\n",
       "      <td>1.41</td>\n",
       "      <td>1.68</td>\n",
       "      <td>0.27</td>\n",
       "      <td>102512.80</td>\n",
       "      <td>111439.0</td>\n",
       "      <td>3.4509</td>\n",
       "      <td>0.156859</td>\n",
       "      <td>0.877631</td>\n",
       "      <td>2.949861</td>\n",
       "    </tr>\n",
       "    <tr>\n",
       "      <th>2021-01-28</th>\n",
       "      <td>136.885452</td>\n",
       "      <td>142621100.0</td>\n",
       "      <td>2021-01-27</td>\n",
       "      <td>2020-12-01</td>\n",
       "      <td>1.41</td>\n",
       "      <td>1.68</td>\n",
       "      <td>0.27</td>\n",
       "      <td>102512.80</td>\n",
       "      <td>111439.0</td>\n",
       "      <td>0.9101</td>\n",
       "      <td>0.303367</td>\n",
       "      <td>0.875078</td>\n",
       "      <td>2.895739</td>\n",
       "    </tr>\n",
       "    <tr>\n",
       "      <th>2021-01-29</th>\n",
       "      <td>131.763107</td>\n",
       "      <td>177180600.0</td>\n",
       "      <td>2021-01-27</td>\n",
       "      <td>2020-12-01</td>\n",
       "      <td>1.41</td>\n",
       "      <td>1.68</td>\n",
       "      <td>0.27</td>\n",
       "      <td>102512.80</td>\n",
       "      <td>111439.0</td>\n",
       "      <td>0.0000</td>\n",
       "      <td>0.000000</td>\n",
       "      <td>0.689310</td>\n",
       "      <td>2.838411</td>\n",
       "    </tr>\n",
       "  </tbody>\n",
       "</table>\n",
       "<p>169 rows × 13 columns</p>\n",
       "</div>"
      ],
      "text/plain": [
       "             Adj Close       Volume  ... Weekly Sentiment Monthly Sentiment\n",
       "Date                                 ...                                   \n",
       "2020-06-01   80.059723   80791200.0  ...              NaN               NaN\n",
       "2020-06-02   80.430351   87642800.0  ...              NaN               NaN\n",
       "2020-06-03   80.873131  104491200.0  ...              NaN               NaN\n",
       "2020-06-04   80.176636   87560400.0  ...              NaN               NaN\n",
       "2020-06-05   82.460152  137250400.0  ...        -1.739207               NaN\n",
       "...                ...          ...  ...              ...               ...\n",
       "2021-01-25  142.706757  157611700.0  ...         0.779491          3.038905\n",
       "2021-01-26  142.946396   98390600.0  ...         0.906920          2.990882\n",
       "2021-01-27  141.848038  140843800.0  ...         0.877631          2.949861\n",
       "2021-01-28  136.885452  142621100.0  ...         0.875078          2.895739\n",
       "2021-01-29  131.763107  177180600.0  ...         0.689310          2.838411\n",
       "\n",
       "[169 rows x 13 columns]"
=======
      "cell_type": "code",
      "metadata": {
        "colab": {
          "base_uri": "https://localhost:8080/",
          "height": 792
        },
        "id": "RN8kMw7cwdXu",
        "outputId": "7d3ad922-6f73-4f4b-cad3-a2c6d930700c"
      },
      "source": [
        "symlist = ['AAPL', 'ADI', 'AMT', 'AMZN', 'BABA', 'COUP', 'CRM', 'ERIC', 'GOOGL', 'MELI', 'MSFT', 'NVDA', 'OKTA', 'PANW', 'PYPL', 'QCOM', 'SHOP', 'SQ', 'TMUS']\n",
        "symbol=symlist[3]\n",
        "df = get_yahoo_dataframe(symbol)\n",
        "stock_file=process_stock_data('/content/gdrive/My Drive/Colab Notebooks/earnings_data/{}.csv'.format(symbol), df)\n",
        "#print(stock_file)\n",
        "df = df.join(stock_file)\n",
        "news=get_yahoo_news(symbol)\n",
        "#print(news)\n",
        "sentiment_data=get_sentiment_from_news(news)\n",
        "#print(sentiment_data)\n",
        "df = df.join(sentiment_data)\n"
      ],
      "execution_count": 24,
      "outputs": [
        {
          "output_type": "stream",
          "text": [
            "1226\n",
            "[nltk_data] Downloading package vader_lexicon to /root/nltk_data...\n",
            "[nltk_data]   Package vader_lexicon is already up-to-date!\n",
            "            date  compound\n",
            "23    2020-05-13    0.6124\n",
            "22    2020-05-14    0.4404\n",
            "21    2020-05-14   -0.4854\n",
            "20    2020-05-15    0.4019\n",
            "18    2020-05-15   -0.7089\n",
            "...          ...       ...\n",
            "1225  2021-01-27    0.1779\n",
            "841   2021-02-05    0.3818\n",
            "1081  2021-02-16   -0.3832\n",
            "609   2021-02-18    0.4576\n",
            "1177  2021-02-25    0.0000\n",
            "\n",
            "[1226 rows x 2 columns]\n",
            "                  date  compound\n",
            "date                            \n",
            "2020-05-13  2020-05-13    0.6124\n",
            "2020-05-14  2020-05-14    0.4404\n",
            "2020-05-14  2020-05-14   -0.4854\n",
            "2020-05-15  2020-05-15    0.4019\n",
            "2020-05-15  2020-05-15   -0.7089\n",
            "2020-05-15  2020-05-15    0.0000\n",
            "2020-05-15  2020-05-15    0.7184\n",
            "2020-05-19  2020-05-19    0.4939\n",
            "2020-05-19  2020-05-19    0.4939\n",
            "2020-05-19  2020-05-19    0.3612\n"
          ],
          "name": "stdout"
        },
        {
          "output_type": "display_data",
          "data": {
            "image/png": "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\n",
            "text/plain": [
              "<Figure size 432x288 with 1 Axes>"
            ]
          },
          "metadata": {
            "tags": [],
            "needs_background": "light"
          }
        }
>>>>>>> 49afec9ae723dfd18be441605fde0b2e123651f0
      ]
     },
     "execution_count": 23,
     "metadata": {
      "tags": []
     },
     "output_type": "execute_result"
    }
   ],
   "source": [
    "df"
   ]
  },
  {
   "cell_type": "markdown",
   "metadata": {
    "id": "Wcq2V-iqgUc3"
   },
   "source": [
    "# Output prep"
   ]
  },
  {
   "cell_type": "code",
   "execution_count": 24,
   "metadata": {
    "id": "WwSKrz0awCvn"
   },
   "outputs": [],
   "source": [
    "def prepare_data_Y_for_ML(df):\n",
    "  output = df['Adj Close']\n",
    "  output.rename('Stock Price')\n",
    "  advance = df['Adj Close'].shift(10)\n",
    "  advance = advance.rename('Short Term Advance')\n",
    "  advance2 = df['Adj Close'].shift(40)\n",
    "  advance2 = advance2.rename('Mid Term Advance')\n",
    "  gt = pd.concat([output, advance, advance2], axis=1)\n",
    "  gt['Short Term Change'] = ((gt['Short Term Advance'] - gt['Adj Close'])/gt['Adj Close'])*100\n",
    "  gt['Mid Term Change'] = ((gt['Mid Term Advance'] - gt['Adj Close'])/gt['Adj Close'])*100\n",
    "  #print(gt[9:110])\n",
    "  gt['Short Term Change'].plot()\n",
    "\n",
    "  Y = gt['Short Term Change'][10:]\n",
    "  return Y"
   ]
  },
  {
   "cell_type": "code",
   "execution_count": 43,
   "metadata": {
    "id": "BArTYfB_gUc_"
   },
   "outputs": [],
   "source": [
    "def prepare_data_X_for_ML(df):\n",
    "  avg_monthly_sentiment = df['Monthly Sentiment'].sum()/len(df['Monthly Sentiment'])\n",
    "  avg_week = df['Weekly Sentiment'].sum()/len(df['Monthly Sentiment'])\n",
    "  X = df[10:]\n",
    "  X['Monthly Sentiment'] =  X['Monthly Sentiment'].fillna(avg_monthly_sentiment)\n",
    "  X['Weekly Sentiment'] = X['Weekly Sentiment'].fillna(avg_week)\n",
    "  X=X.drop(['Date','Estimated_Revenue','Reported_Revenue','Estimated_EPS','Reported_EPS','Period Ending'],axis=1)\n",
    "  return X"
   ]
  },
  {
   "cell_type": "code",
   "execution_count": 26,
   "metadata": {
    "colab": {
     "base_uri": "https://localhost:8080/",
     "height": 508
    },
    "id": "Kzlh7lpvgUc_",
    "outputId": "77241058-270d-47e4-c0b6-f8ffdc53f320",
    "scrolled": true
   },
   "outputs": [
    {
<<<<<<< HEAD
     "name": "stdout",
     "output_type": "stream",
     "text": [
      "Date\n",
      "2020-06-15   -6.163437\n",
      "2020-06-16   -8.162925\n",
      "2020-06-17   -7.528655\n",
      "2020-06-18   -8.361529\n",
      "2020-06-19   -5.209879\n",
      "                ...   \n",
      "2021-01-25   -7.605660\n",
      "2021-01-26   -9.905002\n",
      "2021-01-27   -9.334087\n",
      "2021-01-28   -4.522577\n",
      "2021-01-29   -2.311300\n",
      "Name: Short Term Change, Length: 159, dtype: float64\n"
     ]
    },
    {
     "data": {
      "image/png": "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\n",
      "text/plain": [
       "<Figure size 432x288 with 1 Axes>"
      ]
     },
     "metadata": {
      "needs_background": "light",
      "tags": []
     },
     "output_type": "display_data"
    }
   ],
   "source": [
    "Y=prepare_data_Y_for_ML(df)\n",
    "print(Y)"
   ]
  },
  {
   "cell_type": "code",
   "execution_count": 45,
   "metadata": {
    "colab": {
     "base_uri": "https://localhost:8080/"
    },
    "id": "G_Lu_vNAxanz",
    "outputId": "2fdfc797-7f04-4150-f823-25631579d287"
   },
   "outputs": [
    {
     "name": "stdout",
     "output_type": "stream",
     "text": [
      "             Adj Close       Volume  ...  Weekly Sentiment  Monthly Sentiment\n",
      "Date                                 ...                                     \n",
      "2020-06-15   85.318260  138808800.0  ...          0.932000           2.326875\n",
      "2020-06-16   87.579391  165428800.0  ...          0.658083           2.326875\n",
      "2020-06-17   87.457504  114406400.0  ...          0.658225           2.326875\n",
      "2020-06-18   87.492332   96820400.0  ...          0.438883           2.326875\n",
      "2020-06-19   86.992348  264476000.0  ...          0.537492           2.326875\n",
      "...                ...          ...  ...               ...                ...\n",
      "2021-01-25  142.706757  157611700.0  ...          0.779491           3.038905\n",
      "2021-01-26  142.946396   98390600.0  ...          0.906920           2.990882\n",
      "2021-01-27  141.848038  140843800.0  ...          0.877631           2.949861\n",
      "2021-01-28  136.885452  142621100.0  ...          0.875078           2.895739\n",
      "2021-01-29  131.763107  177180600.0  ...          0.689310           2.838411\n",
      "\n",
      "[159 rows x 7 columns]\n"
     ]
    },
    {
     "name": "stderr",
     "output_type": "stream",
     "text": [
      "/usr/local/lib/python3.7/dist-packages/ipykernel_launcher.py:5: SettingWithCopyWarning: \n",
      "A value is trying to be set on a copy of a slice from a DataFrame.\n",
      "Try using .loc[row_indexer,col_indexer] = value instead\n",
      "\n",
      "See the caveats in the documentation: https://pandas.pydata.org/pandas-docs/stable/user_guide/indexing.html#returning-a-view-versus-a-copy\n",
      "  \"\"\"\n",
      "/usr/local/lib/python3.7/dist-packages/ipykernel_launcher.py:6: SettingWithCopyWarning: \n",
      "A value is trying to be set on a copy of a slice from a DataFrame.\n",
      "Try using .loc[row_indexer,col_indexer] = value instead\n",
      "\n",
      "See the caveats in the documentation: https://pandas.pydata.org/pandas-docs/stable/user_guide/indexing.html#returning-a-view-versus-a-copy\n",
      "  \n"
     ]
    }
   ],
   "source": [
    "X=prepare_data_X_for_ML(df)\n",
    "print(X)"
   ]
  },
  {
   "cell_type": "code",
   "execution_count": 46,
   "metadata": {
    "id": "oEuz4RyZgUdC"
   },
   "outputs": [],
   "source": [
    "X_train,X_test,y_train,y_test = train_test_split(X,Y,test_size=0.25,random_state=0)"
   ]
  },
  {
   "cell_type": "code",
   "execution_count": 29,
   "metadata": {
    "colab": {
     "base_uri": "https://localhost:8080/"
    },
    "id": "ZB4FYlyPqcZ9",
    "outputId": "5942cb3f-9136-4a2c-b8d8-6845bd7a440b"
   },
   "outputs": [
    {
     "data": {
      "text/plain": [
       "Date\n",
       "2020-06-15   -6.163437\n",
       "2020-06-16   -8.162925\n",
       "2020-06-17   -7.528655\n",
       "2020-06-18   -8.361529\n",
       "2020-06-19   -5.209879\n",
       "                ...   \n",
       "2021-01-25   -7.605660\n",
       "2021-01-26   -9.905002\n",
       "2021-01-27   -9.334087\n",
       "2021-01-28   -4.522577\n",
       "2021-01-29   -2.311300\n",
       "Name: Short Term Change, Length: 159, dtype: float64"
      ]
     },
     "execution_count": 29,
     "metadata": {
      "tags": []
     },
     "output_type": "execute_result"
    }
   ],
   "source": [
    "Y"
   ]
  },
  {
   "cell_type": "markdown",
   "metadata": {
    "id": "8AEWWS1i6LZP"
   },
   "source": [
    "# Test MLP regression"
   ]
  },
  {
   "cell_type": "code",
   "execution_count": 273,
   "metadata": {
    "id": "xLdnbjRi0drq"
   },
   "outputs": [],
   "source": [
    "def apply_MLP(X_train,X_test,y_train,y_test):\n",
    "  sc_X = StandardScaler()\n",
    "  X_trainscaled=sc_X.fit_transform(X_train)\n",
    "  X_testscaled=sc_X.transform(X_test)\n",
    "  reg = MLPRegressor(hidden_layer_sizes=(5,15,5),activation=\"relu\" ,random_state=1, max_iter=2000).fit(X_trainscaled, y_train)\n",
    "  y_pred=reg.predict(X_testscaled)\n",
    "  print(\"The Score with \", (r2_score(y_pred, y_test)))\n",
    "  y_pred = pd.DataFrame(y_pred)\n",
    "  out = pd.concat([y_test.reset_index(drop=True),y_pred.reset_index(drop=True)], axis=1)\n",
    "  out = out.rename(columns={0:\"Prediction\", \"Short Term Change\":\"Ground Truth\"})\n",
    "  return out"
   ]
  },
  {
   "cell_type": "code",
   "execution_count": 49,
   "metadata": {
    "colab": {
     "base_uri": "https://localhost:8080/",
     "height": 455
    },
    "id": "B88KeIEC5peE",
    "outputId": "0ac494e2-acf6-4f6e-ec56-6c00251cce7e"
   },
   "outputs": [
    {
     "data": {
      "text/html": [
       "<div>\n",
       "<style scoped>\n",
       "    .dataframe tbody tr th:only-of-type {\n",
       "        vertical-align: middle;\n",
       "    }\n",
       "\n",
       "    .dataframe tbody tr th {\n",
       "        vertical-align: top;\n",
       "    }\n",
       "\n",
       "    .dataframe thead th {\n",
       "        text-align: right;\n",
       "    }\n",
       "</style>\n",
       "<table border=\"1\" class=\"dataframe\">\n",
       "  <thead>\n",
       "    <tr style=\"text-align: right;\">\n",
       "      <th></th>\n",
       "      <th>Adj Close</th>\n",
       "      <th>Volume</th>\n",
       "      <th>Surprise_EPS</th>\n",
       "      <th>Total Sentiment</th>\n",
       "      <th>Avg Sentiment</th>\n",
       "      <th>Weekly Sentiment</th>\n",
       "      <th>Monthly Sentiment</th>\n",
       "    </tr>\n",
       "    <tr>\n",
       "      <th>Date</th>\n",
       "      <th></th>\n",
       "      <th></th>\n",
       "      <th></th>\n",
       "      <th></th>\n",
       "      <th></th>\n",
       "      <th></th>\n",
       "      <th></th>\n",
       "    </tr>\n",
       "  </thead>\n",
       "  <tbody>\n",
       "    <tr>\n",
       "      <th>2020-11-17</th>\n",
       "      <td>119.211861</td>\n",
       "      <td>74271000.0</td>\n",
       "      <td>0.04</td>\n",
       "      <td>1.0534</td>\n",
       "      <td>0.526700</td>\n",
       "      <td>0.780350</td>\n",
       "      <td>1.146012</td>\n",
       "    </tr>\n",
       "    <tr>\n",
       "      <th>2020-09-29</th>\n",
       "      <td>113.723564</td>\n",
       "      <td>99382200.0</td>\n",
       "      <td>0.14</td>\n",
       "      <td>0.5920</td>\n",
       "      <td>0.296000</td>\n",
       "      <td>0.953967</td>\n",
       "      <td>4.780680</td>\n",
       "    </tr>\n",
       "    <tr>\n",
       "      <th>2020-10-30</th>\n",
       "      <td>108.510361</td>\n",
       "      <td>190272600.0</td>\n",
       "      <td>0.04</td>\n",
       "      <td>3.0003</td>\n",
       "      <td>0.107154</td>\n",
       "      <td>0.012638</td>\n",
       "      <td>1.392944</td>\n",
       "    </tr>\n",
       "    <tr>\n",
       "      <th>2020-07-23</th>\n",
       "      <td>92.380234</td>\n",
       "      <td>197004400.0</td>\n",
       "      <td>0.12</td>\n",
       "      <td>-0.2934</td>\n",
       "      <td>-0.048900</td>\n",
       "      <td>-0.250983</td>\n",
       "      <td>1.318872</td>\n",
       "    </tr>\n",
       "    <tr>\n",
       "      <th>2021-01-28</th>\n",
       "      <td>136.885452</td>\n",
       "      <td>142621100.0</td>\n",
       "      <td>0.27</td>\n",
       "      <td>0.9101</td>\n",
       "      <td>0.303367</td>\n",
       "      <td>0.875078</td>\n",
       "      <td>2.895739</td>\n",
       "    </tr>\n",
       "    <tr>\n",
       "      <th>...</th>\n",
       "      <td>...</td>\n",
       "      <td>...</td>\n",
       "      <td>...</td>\n",
       "      <td>...</td>\n",
       "      <td>...</td>\n",
       "      <td>...</td>\n",
       "      <td>...</td>\n",
       "    </tr>\n",
       "    <tr>\n",
       "      <th>2020-06-26</th>\n",
       "      <td>87.964951</td>\n",
       "      <td>205256800.0</td>\n",
       "      <td>0.12</td>\n",
       "      <td>0.0000</td>\n",
       "      <td>0.000000</td>\n",
       "      <td>0.438216</td>\n",
       "      <td>1.387698</td>\n",
       "    </tr>\n",
       "    <tr>\n",
       "      <th>2020-11-09</th>\n",
       "      <td>116.146439</td>\n",
       "      <td>154515300.0</td>\n",
       "      <td>0.04</td>\n",
       "      <td>1.1988</td>\n",
       "      <td>0.299700</td>\n",
       "      <td>0.755667</td>\n",
       "      <td>0.992791</td>\n",
       "    </tr>\n",
       "    <tr>\n",
       "      <th>2020-09-18</th>\n",
       "      <td>106.496849</td>\n",
       "      <td>287104900.0</td>\n",
       "      <td>0.14</td>\n",
       "      <td>1.4817</td>\n",
       "      <td>0.493900</td>\n",
       "      <td>1.481700</td>\n",
       "      <td>4.939000</td>\n",
       "    </tr>\n",
       "    <tr>\n",
       "      <th>2020-11-30</th>\n",
       "      <td>118.872368</td>\n",
       "      <td>169410200.0</td>\n",
       "      <td>0.04</td>\n",
       "      <td>-1.4552</td>\n",
       "      <td>-0.363800</td>\n",
       "      <td>1.106067</td>\n",
       "      <td>3.619738</td>\n",
       "    </tr>\n",
       "    <tr>\n",
       "      <th>2020-08-20</th>\n",
       "      <td>117.895126</td>\n",
       "      <td>126907200.0</td>\n",
       "      <td>0.14</td>\n",
       "      <td>1.4817</td>\n",
       "      <td>0.493900</td>\n",
       "      <td>1.481700</td>\n",
       "      <td>3.146237</td>\n",
       "    </tr>\n",
       "  </tbody>\n",
       "</table>\n",
       "<p>119 rows × 7 columns</p>\n",
       "</div>"
      ],
      "text/plain": [
       "             Adj Close       Volume  ...  Weekly Sentiment  Monthly Sentiment\n",
       "Date                                 ...                                     \n",
       "2020-11-17  119.211861   74271000.0  ...          0.780350           1.146012\n",
       "2020-09-29  113.723564   99382200.0  ...          0.953967           4.780680\n",
       "2020-10-30  108.510361  190272600.0  ...          0.012638           1.392944\n",
       "2020-07-23   92.380234  197004400.0  ...         -0.250983           1.318872\n",
       "2021-01-28  136.885452  142621100.0  ...          0.875078           2.895739\n",
       "...                ...          ...  ...               ...                ...\n",
       "2020-06-26   87.964951  205256800.0  ...          0.438216           1.387698\n",
       "2020-11-09  116.146439  154515300.0  ...          0.755667           0.992791\n",
       "2020-09-18  106.496849  287104900.0  ...          1.481700           4.939000\n",
       "2020-11-30  118.872368  169410200.0  ...          1.106067           3.619738\n",
       "2020-08-20  117.895126  126907200.0  ...          1.481700           3.146237\n",
       "\n",
       "[119 rows x 7 columns]"
      ]
     },
     "execution_count": 49,
     "metadata": {
      "tags": []
     },
     "output_type": "execute_result"
    }
   ],
   "source": [
    "X_train"
   ]
  },
  {
   "cell_type": "code",
   "execution_count": 50,
   "metadata": {
    "colab": {
     "base_uri": "https://localhost:8080/"
    },
    "id": "qAX5XiVLgUdE",
    "outputId": "d30191a5-b988-4288-c371-07835a594ac5"
   },
   "outputs": [
    {
     "name": "stdout",
     "output_type": "stream",
     "text": [
      "The Score with  0.6136906399276785\n",
      "    Ground Truth  Prediction\n",
      "0      -2.005224   -8.095993\n",
      "1     -14.894008  -15.729660\n",
      "2       8.983815   -5.832609\n",
      "3      -5.274090   -1.805821\n",
      "4      -2.777241   -6.889426\n",
      "5      -3.993822   -2.226851\n",
      "6      11.556013    9.244243\n",
      "7      -3.481762   -1.574448\n",
      "8      -9.347364   -8.976574\n",
      "9      -7.588432   -9.213965\n",
      "10     -4.035025    0.840507\n",
      "11     -7.009782   -3.162925\n",
      "12      6.397034    7.450999\n",
      "13     -4.754521    0.840507\n",
      "14     11.616072   11.381368\n",
      "15    -18.487307  -14.327634\n",
      "16     -5.118393   -4.868260\n",
      "17      1.287516    7.756423\n",
      "18     -4.439313   -7.296600\n",
      "19     -1.984112   -6.004031\n",
      "20     11.483387    9.862108\n",
      "21    -11.184517  -11.519304\n",
      "22     -3.247453   -1.666473\n",
      "23     -0.825437    3.482950\n",
      "24      8.189584   15.158538\n",
      "25     -7.932245   -6.076899\n",
      "26     -4.976737   -6.632079\n",
      "27    -11.942541  -12.276138\n",
      "28     -2.998050    0.840507\n",
      "29      3.731275    0.840507\n",
      "30     -7.404884   -1.882059\n",
      "31     -1.531621    2.154081\n",
      "32      0.733276    0.840507\n",
      "33     -4.475517   -3.113426\n",
      "34     -3.891235   -4.102481\n",
      "35      4.673951    0.840507\n",
      "36     -8.877655   -0.067002\n",
      "37     -5.692971   -5.580591\n",
      "38      2.169523    0.840507\n",
      "39     -3.701819  -10.611113\n"
     ]
    },
    {
     "name": "stderr",
     "output_type": "stream",
     "text": [
      "/usr/local/lib/python3.7/dist-packages/sklearn/neural_network/_multilayer_perceptron.py:571: ConvergenceWarning: Stochastic Optimizer: Maximum iterations (2000) reached and the optimization hasn't converged yet.\n",
      "  % self.max_iter, ConvergenceWarning)\n"
     ]
    }
   ],
   "source": [
    "out=apply_MLP(X_train,X_test,y_train,y_test)\n",
    "print(out)"
   ]
  },
  {
   "cell_type": "code",
   "execution_count": 51,
   "metadata": {
    "colab": {
     "base_uri": "https://localhost:8080/",
     "height": 334
    },
    "id": "hSfPIDH9gUdE",
    "outputId": "7a0441ec-3657-4981-ecd4-bd78ab4af9e4"
   },
   "outputs": [
    {
     "data": {
      "image/png": "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\n",
      "text/plain": [
       "<Figure size 864x360 with 1 Axes>"
      ]
     },
     "metadata": {
      "needs_background": "light",
      "tags": []
     },
     "output_type": "display_data"
    }
   ],
   "source": [
    "plt.figure(figsize=(12,5))\n",
    "plt.xlabel('Dates')\n",
    "\n",
    "ax1 = out[\"Prediction\"].plot(color='blue', grid=True)\n",
    "ax2 = out[\"Ground Truth\"].plot(color='red', grid=True)\n",
    "\n",
    "h1, l1 = ax1.get_legend_handles_labels()\n",
    "h2, l2 = ax2.get_legend_handles_labels()\n",
    "\n",
    "plt.legend(h1, l1, loc=2)\n",
    "plt.show()\n"
   ]
  },
  {
   "cell_type": "code",
   "execution_count": null,
   "metadata": {
    "id": "ZqXhQ7_36FrB"
   },
   "outputs": [],
   "source": []
  },
  {
   "cell_type": "markdown",
   "metadata": {
    "id": "zE-_OIls6GPc"
   },
   "source": [
    "# Test SVM"
   ]
  },
  {
   "cell_type": "code",
   "execution_count": null,
   "metadata": {
    "id": "LDAAwb6X9O3i"
   },
   "outputs": [],
   "source": [
    "# One hot encoding\n",
    "Y.plot()\n",
    "for i,yi in enumerate(Y):\n",
    "  if yi<-2:\n",
    "    Y[i] =0\n",
    "  elif yi<2:\n",
    "    Y[i]=1\n",
    "  else:\n",
    "    Y[i]=2\n",
    "\n",
    "\n",
    "#Y[0]=1\n",
    "print(Y)\n",
    "\n",
    "#print(Y)"
   ]
  },
  {
   "cell_type": "code",
   "execution_count": null,
   "metadata": {
    "id": "zXgyOzgE6Ilw"
   },
   "outputs": [],
   "source": [
    "from sklearn import svm\n",
    "\n",
    "clf = svm.SVC()\n",
    "clf.fit(X_train, Y_train)\n",
    "clf.predict(X_test)"
   ]
  },
  {
   "cell_type": "code",
   "execution_count": null,
   "metadata": {
    "id": "FyVgfRV96Ix_"
   },
   "outputs": [],
   "source": []
  },
  {
   "cell_type": "code",
   "execution_count": null,
   "metadata": {
    "id": "z5PrJ9cYgUdE"
   },
   "outputs": [],
   "source": [
    "X = df[40:]\n",
    "X['Monthly Sentiment'] =  X['Monthly Sentiment'].fillna(avg_monthly_sentiment)\n",
    "X['Weekly Sentiment'] = X['Weekly Sentiment'].fillna(avg_week)"
   ]
  },
  {
   "cell_type": "code",
   "execution_count": null,
   "metadata": {
    "id": "8Grf3sM1gUdE"
   },
   "outputs": [],
   "source": [
    "Y = gt['Mid Term Change'][40:]"
   ]
  },
  {
   "cell_type": "code",
   "execution_count": null,
   "metadata": {
    "id": "ttrd9PWNgUdF"
   },
   "outputs": [],
   "source": [
    "X_train,X_test,y_train,y_test = train_test_split(X,Y,test_size=0.25,random_state=0)"
   ]
  },
  {
   "cell_type": "code",
   "execution_count": null,
   "metadata": {
    "id": "hUET12eAgUdF"
   },
   "outputs": [],
   "source": [
    "sc_X = StandardScaler()\n",
    "X_trainscaled=sc_X.fit_transform(X_train)\n",
    "X_testscaled=sc_X.transform(X_test)"
   ]
  },
  {
   "cell_type": "code",
   "execution_count": null,
   "metadata": {
    "id": "NmHd_EBkgUdF"
   },
   "outputs": [],
   "source": [
    "reg = MLPRegressor(hidden_layer_sizes=(5,15,5),activation=\"relu\" ,random_state=1, max_iter=2000).fit(X_trainscaled, y_train)"
   ]
  },
  {
   "cell_type": "code",
   "execution_count": null,
   "metadata": {
    "id": "qVrJufd5gUdG"
   },
   "outputs": [],
   "source": [
    "y_pred=reg.predict(X_testscaled)\n",
    "print(\"The Score with \", (r2_score(y_pred, y_test)))"
   ]
  },
  {
   "cell_type": "code",
   "execution_count": null,
   "metadata": {
    "id": "gc278LYJgUdG"
   },
   "outputs": [],
   "source": []
  },
  {
   "cell_type": "code",
   "execution_count": null,
   "metadata": {
    "id": "9elDK77rgUdG"
   },
   "outputs": [],
   "source": [
    "y_pred = pd.DataFrame(y_pred)\n",
    "out = pd.concat([y_test.reset_index(drop=True),y_pred.reset_index(drop=True)], axis=1)"
   ]
  },
  {
   "cell_type": "code",
   "execution_count": null,
   "metadata": {
    "id": "dLKy-yoQgUdG"
   },
   "outputs": [],
   "source": [
    "out = out.rename(columns={0:\"Prediction\", \"Mid Term Change\":\"Ground Truth\"})"
   ]
  },
  {
   "cell_type": "code",
   "execution_count": null,
   "metadata": {
    "id": "DI_-R9g5gUdG"
   },
   "outputs": [],
   "source": [
    "out"
   ]
  },
  {
   "cell_type": "code",
   "execution_count": null,
   "metadata": {
    "id": "mE61rA2YgUdG"
   },
   "outputs": [],
   "source": [
    "plt.figure(figsize=(12,5))\n",
    "plt.xlabel('Dates')\n",
    "\n",
    "ax1 = out[\"Prediction\"].plot(color='blue', grid=True)\n",
    "ax2 = out[\"Ground Truth\"].plot(color='red', grid=True)\n",
    "\n",
    "h1, l1 = ax1.get_legend_handles_labels()\n",
    "h2, l2 = ax2.get_legend_handles_labels()\n",
    "\n",
    "plt.legend(h1, l1, loc=2)\n",
    "plt.show()\n"
   ]
  },
  {
   "cell_type": "code",
   "execution_count": 2,
   "metadata": {
    "id": "6uWYf28qgUdG"
   },
   "outputs": [],
   "source": [
    "'''\n",
    "This script was designed to run inside the parent directory of the \n",
    "submission and comments directories.\n",
    "'''\n",
    "import pandas as pd \n",
    "import os\n",
    "from statistics import mean\n",
    "from datetime import datetime\n",
    "\n",
    "# Get file paths and directories\n",
    "main_WorkingDir=os.path.abspath(os.curdir + \"/reddit_data/Stock_data\")#current working Directory\n",
    "sub_Dir = os.path.join(main_WorkingDir,\"submission_data\")\n",
    "com_Dir = os.path.join(main_WorkingDir,\"comments_data\")\n",
    "avg_Dir = os.path.join(main_WorkingDir,\"sentiment_avg\")\n",
    "\n",
    "os.mkdir(avg_Dir)\n",
    "\n"
   ]
  },
  {
   "cell_type": "code",
   "execution_count": 3,
   "metadata": {},
   "outputs": [],
   "source": [
    "com_file = \"AAPL_com.csv\"\n",
    "sub_file = \"AAPL_sub.csv\"\n",
    "\n",
    "os.chdir(sub_Dir)\n",
    "sub_df = pd.read_csv(sub_file)\n",
    "\n",
    "os.chdir(com_Dir)\n",
    "com_df = pd.read_csv(com_file)\n",
    "\n",
    "os.chdir(avg_Dir)\n",
    "# Get averages for days from both dataframes\n",
    "DateToSentiment_dict = {}\n",
    "timestamp_key = 'created'\n",
    "sentiment_val = 'compound'\n",
    "\n",
    "# get date and compound value for each post\n",
    "    # if it does exist add sent to dictionary\n",
    "    # else create a new key and add a list with the current sentiment\n",
    "for ind, row in sub_df.iterrows():\n",
    "    cur_date = row[timestamp_key][0:10]\n",
    "    if cur_date.count('/')!=2:\n",
    "        if cur_date.count('-')!=2:\n",
    "            continue\n",
    "    if cur_date in DateToSentiment_dict:\n",
    "        # key already exist\n",
    "        DateToSentiment_dict[cur_date].append(row[sentiment_val])\n",
    "    else:\n",
    "        # key does not exist\n",
    "        DateToSentiment_dict[cur_date] = [row[sentiment_val]]\n",
    "\n",
    "for ind, row in com_df.iterrows():\n",
    "    cur_date = row[timestamp_key][0:10]\n",
    "    if cur_date.count('/')!=2:\n",
    "        if cur_date.count('-')!=2:\n",
    "            continue\n",
    "    if cur_date in DateToSentiment_dict:\n",
    "        # key already exist\n",
    "        DateToSentiment_dict[cur_date].append(row[sentiment_val])\n",
    "    else:\n",
    "        # key does not exist\n",
    "        DateToSentiment_dict[cur_date] = [row[sentiment_val]]\n",
    "\n"
   ]
  },
  {
   "cell_type": "code",
   "execution_count": 6,
   "metadata": {},
   "outputs": [
    {
     "name": "stdout",
     "output_type": "stream",
     "text": [
      "{'2019-02-13': [0.0, -0.29600000000000004, 0.0, 0.0, 0.0, 0.0, -0.29600000000000004, -0.29600000000000004], '2019-02-14': [0.29600000000000004, 0.4019, 0.0, 0.0, 0.0, 0.8105, 0.9422, 0.0, 0.0, 0.0, 0.9416], '2019-02-15': [-0.29600000000000004, 0.0, 0.0, 0.5719, 0.0, -0.2617, -0.8693], '2019-02-16': [-0.2003, 0.0, 0.8079999999999999, 0.0, 0.7184, 0.8481, 0.0, 0.8779], '2019-02-17': [0.0, 0.5994, 0.0, -0.2003, 0.0, 0.9927, 0.0, 0.9922], '2019-02-18': [-0.7003, 0.0, 0.0, 0.0, 0.2023, -0.1779, 0.0, 0.0, 0.0, 0.5574, -0.1027, 0.8625, 0.9882, -0.4019, 0.7789, 0.0], '2019-02-19': [0.4019, 0.0, 0.0, 0.0, 0.0, 0.0, 0.5574, 0.6597, -0.34, 0.9867], '2019-02-20': [-0.4404, 0.0, 0.0, 0.0, 0.29600000000000004, 0.0, 0.0], '2019-02-21': [0.5719, -0.765, 0.0, 0.0, 0.0, 0.0, 0.0, 0.4215, 0.0, 0.0094, 0.0, 0.0, 0.0], '2019-02-22': [0.0, 0.0, 0.0, 0.0, 0.0, 0.504, 0.0139, 0.2732, 0.3284, 0.1655], '2019-02-23': [0.2023, 0.0, 0.0, 0.0, 0.2924, 0.0, 0.5267], '2019-02-24': [0.0, 0.0, 0.8509, 0.0, -0.7322, 0.0772, 0.0], '2019-02-25': [-0.3089, 0.0, 0.0, 0.0, -0.7399, 0.8625, 0.0, 0.0, 0.6249, 0.6604, 0.0], '2019-02-26': [0.0, 0.0, 0.0, 0.3182, 0.1027, 0.8519, -0.6486, -0.5859], '2019-02-27': [-0.5106, 0.0, 0.4588, 0.0, 0.1779, 0.8257, 0.4215, 0.9725, 0.0, 0.0, 0.0], '2019-02-28': [0.4019, 0.0, 0.0, 0.0, 0.0, -0.1027, 0.5859, 0.8946, 0.0772, 0.0, 0.0772, -0.3818], '2019-03-01': [0.0, 0.0, 0.0, 0.0, 0.0, 0.0, 0.8016, 0.5106], '2019-03-02': [0.3818, 0.7013, 0.7227], '2019-03-03': [0.0, 0.34, 0.4215, 0.8795, 0.0258, 0.0516, 0.8915, 0.0, 0.0], '2019-03-04': [0.0, 0.0, 0.0, -0.5514, 0.0, 0.9291, 0.5221, 0.9284], '2019-03-05': [0.0, 0.0, 0.2263, 0.0, 0.4714, 0.0, 0.4588, 0.4199, 0.5423], '2019-03-06': [0.0, 0.0, 0.0, 0.34, 0.0, 0.0, 0.445, 0.0772, 0.0, 0.4404, 0.875, -0.7003], '2019-03-07': [0.0, -0.4767, 0.8074, -0.1531, 0.0], '2019-03-08': [0.0, 0.0, 0.0, 0.0, 0.6808, -0.5423, 0.5204, -0.5719, 0.9553, 0.4933, 0.0], '2019-03-10': [0.0, 0.0, 0.0, 0.0, 0.7003, 0.2023, 0.2247], '2019-03-11': [0.0, 0.34, 0.0, -0.4019, 0.0516, -0.128, 0.6565, 0.5859, 0.4019, 0.0, 0.9918, 0.9022, -0.1531, -0.1779], '2019-03-12': [0.0, 0.0, 0.0, 0.0, 0.0, 0.2023, 0.0, 0.1124, 0.5399, 0.0, 0.9333], '2019-03-13': [0.0, 0.0, 0.0, 0.0, -0.2732, 0.29600000000000004, 0.4019], '2019-03-14': [0.0, 0.0, 0.0, 0.5093, 0.5267, 0.0, 0.0, 0.3182, 0.0, 0.0, 0.0, 0.5962, 0.8340000000000001], '2019-03-15': [0.5093, 0.0, 0.4215, 0.0, 0.0, 0.3818, 0.8909999999999999, 0.0, -0.7178, 0.7402], '2019-03-17': [0.0, 0.0, 0.0, 0.4019, 0.4215, -0.2874], '2019-03-18': [0.0, 0.4767, 0.0, 0.0, 0.5093, 0.0, 0.9536, 0.4767, -0.8377, 0.0, -0.1531, 0.34, -0.2732, -0.2732, 0.0], '2019-03-19': [0.0, 0.0, 0.0, 0.0, 0.0, 0.0, 0.0, 0.0], '2019-03-20': [0.5093, 0.0, 0.2732, 0.0, 0.0, 0.8934, -0.0258, 0.6124], '2019-03-21': [-0.4939, 0.0, 0.0, 0.0, 0.0, 0.0, 0.5093, -0.5574, -0.5859, -0.4561], '2019-03-23': [0.0, 0.0, 0.0, 0.9482, 0.0, -0.4084], '2019-03-22': [0.0, 0.4019, 0.0, 0.34, 0.4808, 0.0772, 0.5423, 0.0, 0.0], '2019-03-24': [-0.743, 0.0, 0.5106, -0.0772, 0.4404, 0.0, 0.8979, -0.1531, 0.5574, 0.3818], '2019-03-26': [0.0, 0.5093, 0.0, -0.5574, 0.0, 0.6786, 0.6786, 0.0, 0.0, 0.0], '2019-03-25': [0.4019, 0.7269, 0.0, 0.1027, 0.8168, 0.4215, 0.0, 0.7178, 0.4753, 0.4019, 0.0], '2019-03-27': [0.0, 0.0, 0.0, 0.5859, 0.9259999999999999, 0.023, 0.5809, 0.0, -0.6705, 0.0], '2019-03-28': [0.7531, 0.2732, 0.0, 0.6369, 0.0, 0.9677, -0.8594, 0.4215, 0.0, -0.6887], '2019-03-29': [0.0, 0.0, 0.0, 0.3182, 0.4404, 0.3612, 0.8677, -0.4903, -0.4458, 0.5106], '2019-03-30': [0.0, 0.0, 0.0, 0.0, 0.0, 0.3384, -0.3182, 0.0772, -0.5733, 0.0], '2019-04-01': [0.0, 0.34, 0.0, 0.0, 0.0, 0.0, 0.0, -0.4215, 0.1779, 0.3612, 0.8275, 0.4019], '2019-03-31': [0.0, 0.0, -0.5267, 0.0, 0.0], '2019-04-02': [0.0, 0.0, 0.3818, -0.2732, 0.0, 0.3818, -0.8859999999999999, -0.1695, 0.0, 0.8402], '2019-04-03': [0.8463, 0.0, 0.0, 0.128, -0.1779, 0.0, 0.9836, 0.9865, 0.5574, 0.25], '2019-04-04': [0.0, 0.4588, 0.5859, 0.1779, 0.0, 0.9526, -0.7935, 0.4939], '2019-04-05': [0.4019, 0.0, 0.0, 0.0, 0.0, 0.0, -0.2558, 0.8627, 0.9574, -0.6808, 0.9782, 0.4754, 0.0, 0.0], '2019-04-08': [0.0, -0.3612, -0.3094, 0.0, 0.5859, 0.0, 0.1189, 0.0516, 0.29600000000000004], '2019-04-07': [0.0, 0.0, 0.0, 0.0, 0.4215, 0.8008, 0.0, 0.0, 0.0], '2019-04-09': [0.0, 0.0, 0.0, 0.6908, 0.0, 0.0, 0.5719, 0.3182, -0.6808, -0.2732, 0.3724, -0.9161], '2019-04-10': [0.2023, 0.0, 0.5859, -0.6597, 0.0, 0.0, 0.5106, -0.6124, 0.0, 0.8807], '2019-04-11': [0.0, 0.5093, 0.0, -0.6378, 0.6182, 0.4939, -0.8925, 0.0], '2019-04-12': [0.0, 0.4263, 0.0, 0.0, 0.0, -0.0572, -0.34, -0.8807, 0.0], '2019-04-13': [0.1779, 0.0, 0.8625, 0.8687, 0.8205, 0.3612, 0.0, 0.9102], '2019-04-14': [0.0, 0.0, 0.0, 0.2023, 0.2263, 0.4019, 0.6313, 0.75], '2019-04-15': [0.0, -0.6289, 0.0, 0.7744, 0.6533, -0.3804], '2019-04-16': [-0.4927, 0.0, 0.0, -0.4588, 0.0, 0.3182, 0.4537], '2019-04-17': [0.0, -0.0258, 0.0, 0.2732, 0.0, 0.0, 0.0, -0.5106, 0.9528, 0.5994, 0.8240000000000001, -0.7391, 0.6705], '2019-04-18': [0.0, 0.0, 0.0, -0.4927, 0.3182, 0.0, -0.1027, -0.5994, 0.6019], '2019-04-19': [-0.1027, 0.0, 0.0, 0.0, 0.0, -0.8422, 0.3034, -0.5719, 0.0, 0.9034], '2019-04-20': [-0.4767, 0.0, 0.5106, -0.4101, -0.5423, 0.3182, 0.0, -0.3612], '2019-04-21': [0.0, 0.0, 0.0], '2019-04-22': [0.0, 0.0, 0.0, 0.0, 0.3875, 0.0, -0.2263, 0.3612, 0.9374], '2019-04-23': [-0.3962, 0.0, 0.0, -0.4439, 0.0, 0.3818, 0.0, 0.0, -0.5222, -0.7615, -0.7845], '2019-04-24': [0.0, -0.8176, -0.3182, 0.0, -0.128, 0.0, 0.0, 0.3999, 0.3612, 0.0, 0.0], '2019-04-25': [0.0, 0.5859, 0.0, 0.0, -0.5624, 0.1842, 0.9947, 0.0], '2019-04-26': [0.0, 0.0, 0.0, 0.7763, -0.7088, 0.0, 0.5267, 0.8999, 0.0, 0.2023], '2019-04-27': [0.0, 0.0, 0.5351, 0.9918, 0.5719, 0.7845, 0.2684], '2019-04-28': [0.0, 0.0, 0.0, 0.0, 0.0, 0.0, 0.0, 0.4404, 0.9548], '2019-04-29': [0.0, 0.0, 0.0, 0.0, 0.0, 0.0, 0.9853, 0.0, -0.2263, 0.5423, -0.2732], '2019-04-30': [0.0, 0.0, 0.0, 0.0, 0.0, 0.7579, -0.5423, 0.7845, 0.0, 0.4019, -0.9052], '2019-05-01': [0.1027, 0.0, -0.8779, 0.0, 0.0, 0.0, 0.2944, 0.1531, 0.29600000000000004], '2019-05-02': [-0.4215, 0.0, 0.0, 0.5859, 0.2168, 0.0, -0.1027, 0.3755, -0.4019, 0.0, -0.6249], '2019-05-03': [0.0, 0.0, 0.0, -0.807, 0.6486, 0.5199, 0.0], '2019-05-04': [-0.4767, 0.0, -0.2263, 0.0, 0.0, 0.4404, 0.4067, 0.3182, 0.5106, -0.2382], '2019-05-06': [0.0, -0.2263, 0.0, 0.0, 0.8916, 0.0, 0.0, 0.0, -0.2259, -0.6369, -0.4767, 0.0, 0.0], '2019-05-05': [0.5267, 0.5267, 0.0, 0.5927, 0.2263, 0.2023, -0.5413, 0.8074], '2019-05-07': [0.0, 0.2023, 0.0, 0.0, 0.0772, 0.29600000000000004, 0.7677, 0.0, 0.0129], '2019-05-08': [0.7351, 0.0, 0.0, 0.2047, 0.4019, 0.0, 0.8658, -0.594, -0.0772, 0.0], '2019-05-09': [0.0, 0.0, 0.0, 0.0, 0.0, 0.9034, -0.9462, -0.3291, 0.0], '2019-05-10': [0.0, 0.0, 0.0, 0.0, 0.0, 0.4588, 0.9866, -0.5574, 0.6553, 0.0, 0.6369, 0.4118, 0.0], '2019-05-12': [0.0, 0.5106, 0.2023, 0.3089, 0.0, -0.8091, 0.6486, 0.5423, 0.0, 0.743], '2019-05-13': [0.0, 0.0, 0.0, 0.0, 0.7506, 0.9967, 0.0, 0.0, 0.0], '2019-05-14': [0.0, 0.0, 0.0, 0.0, 0.0, 0.34, -0.6369, 0.7033, 0.0, 0.0, -0.9391, -0.1635], '2019-05-15': [0.0, 0.5859, -0.3182, 0.0, 0.2023, 0.7691, 0.0, -0.4886, 0.7717, 0.6705], '2019-05-16': [0.0, 0.504, 0.0, 0.0, 0.0, 0.0, 0.7182, -0.8690000000000001, 0.0], '2019-05-17': [0.0, 0.0, 0.5859, 0.0, 0.4847, 0.29600000000000004, -0.0734, 0.29600000000000004, 0.0, -0.4215], '2019-05-19': [-0.5574, 0.0, 0.0, 0.0, 0.5719, 0.8273, 0.6927, -0.6879, 0.0], '2019-05-20': [-0.5267, 0.0, 0.5859, 0.0, 0.0, -0.3612, 0.0, -0.3527, -0.2168, 0.9477], '2019-05-21': [0.5859, 0.4019, 0.0, -0.128, 0.2942, -0.2732, 0.29600000000000004, 0.925], '2019-05-22': [0.0, -0.34, 0.6633, 0.2023, 0.0, 0.4926, -0.5661, 0.5574, 0.3182], '2019-05-23': [0.0, -0.5994, 0.0, -0.5994, 0.0, -0.4696, -0.4329, 0.5187, 0.9163, 0.743, 0.3736], '2019-05-24': [0.3182, 0.0, 0.0, 0.6597, 0.7964, -0.5994, 0.6486, -0.3182, 0.0, 0.6249], '2019-05-25': [0.34, 0.0, 0.8964, 0.7184, 0.7579, -0.6134], '2019-05-27': [0.0, 0.0, 0.0, 0.0, 0.6369, 0.0, -0.9331, -0.9782, 0.2023], '2019-05-28': [0.0, 0.128, 0.5106, 0.5106, 0.0, -0.128, 0.3612, 0.4926, -0.5204], '2019-05-30': [-0.2411, -0.3818, 0.0, 0.0, 0.5267, -0.75, 0.0, 0.6199, 0.9934, 0.7351], '2019-05-29': [-0.5423, 0.0, 0.0, 0.5622, 0.9694, 0.9406, -0.5751, 0.93, 0.0, -0.8501], '2019-05-31': [0.0, 0.0, 0.0, 0.0, 0.0, 0.9740000000000001, 0.1027, 0.431, 0.29600000000000004, 0.7269], '2019-06-01': [0.0, 0.34, 0.0, 0.0, 0.0, -0.872, 0.0, -0.1796, 0.9548, -0.4404], '2019-06-02': [0.0, 0.0, 0.4019, -0.9675, 0.9922, 0.0, 0.9528, -0.1263], '2019-06-03': [-0.3182, -0.3182, 0.0, 0.0, 0.0, 0.3182, -0.0688, 0.7066, 0.5859, 0.0, 0.5461], '2019-06-04': [0.0, 0.0, 0.0, 0.0, 0.0, -0.8529, 0.0, 0.8625, 0.6369, -0.75], '2019-06-05': [0.0, 0.0, 0.0, 0.8074, 0.6249, 0.0, -0.7915, 0.4215, -0.8053, -0.2617, 0.0], '2019-06-07': [-0.539, 0.0, -0.4215, 0.0, 0.0, 0.0, 0.2732, 0.29600000000000004, 0.0, -0.5994, 0.9696], '2019-06-06': [0.0, 0.0, 0.3818, 0.7184, -0.617, 0.9154, 0.5719], '2019-06-08': [0.0, 0.0, 0.6369, 0.0772, 0.0, 0.9601, 0.0, 0.4902], '2019-06-09': [0.0, 0.0, 0.8625, 0.0, 0.8394, 0.7125, 0.6322, 0.6124, -0.29600000000000004], '2019-06-10': [0.0, 0.0, 0.0, 0.0, 0.34, 0.0, 0.7181, 0.0, 0.9923, 0.8948, 0.0, 0.0516, 0.0], '2019-06-11': [-0.8689, 0.0, 0.0, 0.0, 0.7149, -0.0258, 0.4404, 0.1983], '2019-06-12': [0.0, 0.3818, 0.0, 0.0, 0.0, 0.25, -0.5585, -0.9282, -0.555, 0.2382, 0.0], '2019-06-13': [0.0, -0.5994, 0.6369, 0.0, 0.0, 0.0, 0.7174, 0.0, 0.3612, 0.4404, 0.2755], '2019-06-14': [0.6705, 0.0, 0.0, 0.743, 0.2942, 0.987, 0.0, 0.5574], '2019-06-15': [-0.3818, -0.4019, 0.0, 0.3818, 0.0], '2019-06-16': [0.0, 0.0, 0.0, -0.4019, 0.0, 0.9428, -0.8942, 0.9576], '2019-06-17': [0.0, 0.0, 0.0, 0.0, 0.0, 0.0, 0.0, 0.3094, -0.4574, -0.2794, -0.5423, 0.3612, -0.4019], '2019-06-18': [0.4588, 0.4753, -0.802, 0.6486, 0.0, 0.0772, -0.7646, 0.9092, -0.2103, 0.3612], '2019-06-19': [0.0, 0.0, -0.3071, -0.4939, -0.4588, 0.0, -0.644, -0.8934, 0.4404], '2019-06-20': [0.3612, 0.0, 0.0, 0.3612, 0.4019, 0.0, 0.0258, 0.0, 0.0, 0.9153], '2019-06-21': [0.0, 0.0, 0.0, 0.0, 0.0, -0.2624, -0.3802, 0.381, -0.1415, 0.4215, 0.0258], '2019-06-22': [0.0, 0.5719, 0.3693, 0.9639, 0.0, 0.5267], '2019-06-25': [0.0, 0.0, -0.9858, -0.8965, 0.3612, 0.743, 0.0], '2019-06-24': [0.5859, 0.0, -0.128, 0.0, 0.0, 0.0, -0.1531, 0.9583], '2019-06-26': [0.6662, 0.0, 0.0, 0.0, 0.0, 0.0, 0.0, 0.8934, 0.4234, 0.0, 0.0], '2019-06-27': [0.0, 0.0, 0.0, 0.91, 0.2263, 0.9804, 0.9022, 0.0], '2019-06-28': [0.0, 0.6369, 0.0, 0.0, 0.6808, -0.5423, 0.0, 0.34, -0.8442, 0.7184], '2019-06-29': [0.0, 0.52, 0.0, 0.0, 0.0, -0.1531, -0.5584, 0.0, 0.0, 0.4118, -0.5423], '2019-06-30': [0.3182, 0.0, 0.0, 0.0, 0.0, 0.0, 0.7351, -0.8509, -0.8509, 0.0, 0.504], '2019-07-02': [0.0, 0.0, 0.0, 0.0, 0.0, 0.0, 0.0, 0.0, 0.9927, -0.9439, -0.4767], '2019-07-01': [0.0, 0.0, 0.0, 0.0, 0.4939, 0.504, 0.0, -0.0772], '2019-07-03': [0.0, 0.4576, 0.0, -0.1779, 0.1027, -0.4153, 0.0, -0.5319, 0.0], '2019-07-04': [-0.29600000000000004, 0.9447, 0.3612, 0.0, 0.5574], '2019-07-05': [0.0, 0.0, 0.6369, 0.0, 0.0, -0.8382, -0.6325, 0.7221, -0.875], '2019-07-06': [0.0, 0.0, 0.0, 0.9979, 0.6597, -0.4005, 0.3182, 0.3182], '2019-07-07': [0.4215, 0.0, 0.4019, 0.0, -0.552, 0.0, -0.644, 0.431, 0.0, 0.1027], '2019-07-08': [0.3612, 0.7783, -0.4019, 0.0, -0.4019, 0.0, 0.6124, 0.6088, -0.5574, -0.6705], '2019-07-09': [0.6124, 0.0, -0.2315, 0.5859, 0.0, 0.0, 0.8898], '2019-07-10': [0.2732, 0.0, 0.0, 0.4588, 0.6459999999999999, 0.0, 0.0, 0.0, -0.2023, 0.0, 0.6486, 0.9051, 0.0], '2019-07-11': [0.4019, 0.0, 0.4466, 0.765, 0.0, 0.9332, 0.6808, -0.3028, -0.4391], '2019-07-12': [0.29600000000000004, 0.0, 0.0, 0.0, 0.5106, 0.8157, 0.4902, 0.0, -0.5968], '2019-07-13': [0.0, 0.0, 0.0, 0.4199, 0.0, 0.4215, 0.7906, 0.0, -0.19399999999999998, -0.128], '2019-07-14': [0.7906, 0.765, 0.0, 0.5719, 0.0, 0.3818, -0.9363, 0.0, -0.34, 0.0], '2019-07-15': [0.0, -0.34, 0.4019, 0.0772, 0.0, 0.8992, 0.0258, 0.0, 0.3818], '2019-07-17': [-0.3595, 0.0, 0.0, -0.34, 0.0, 0.0, 0.0, 0.5106, 0.0772, 0.0, 0.9995, -0.8343, -0.5994, 0.0], '2019-07-16': [-0.3612, 0.0, -0.3626, -0.7847, 0.8442], '2019-07-18': [0.0, 0.0, 0.0, 0.0, 0.1779, 0.4791, -0.2732, 0.9447, -0.2617], '2019-07-19': [0.0, 0.4404, 0.0, 0.0, -0.0772, 0.9631, 0.6249, 0.4215], '2019-07-20': [0.0, 0.34, 0.2023, 0.6486, 0.5413, 0.0, 0.8568, 0.8777, -0.6114, 0.0258], '2019-07-21': [0.0, 0.0, 0.128, -0.7699, -0.8205, -0.0162], '2019-07-22': [0.5106, 0.0, 0.0, 0.0, 0.0, -0.5719, 0.3818, 0.1154, 0.9346, 0.8779, 0.204, 0.5152, 0.0, -0.2846], '2019-07-24': [0.1779, -0.1531, 0.0, 0.0, 0.3412, 0.9475, 0.6486, 0.0, -0.5629, 0.3818, 0.4754], '2019-07-23': [0.0, 0.25, 0.0, 0.0, 0.816, -0.7579, 0.5267, 0.3612], '2019-07-25': [0.0, 0.0, 0.0, 0.0, 0.5267, 0.8733, 0.0, 0.785, 0.0], '2019-07-26': [0.0, 0.0, 0.0, 0.4019, 0.3612, 0.6123], '2019-07-27': [0.4404, 0.0, 0.0, 0.0, 0.4767, 0.3612, 0.5267, 0.8745, 0.29600000000000004, 0.4995, 0.0, -0.1331, -0.2869, 0.5574, 0.0], '2019-07-29': [-0.7845, 0.0, 0.0, 0.6486, 0.0, 0.0, 0.0, 0.836, 0.875, -0.4019, 0.0, 0.0, 0.0], '2019-07-28': [-0.29600000000000004, 0.0, 0.4588, 0.0, 0.0, 0.7517, -0.8126], '2019-07-30': [0.6908, 0.0, 0.0, 0.0, 0.6124, -0.1531, 0.3451], '2019-07-31': [-0.4404, -0.34, 0.29600000000000004, 0.0, -0.5423, 0.0, 0.0772, 0.3612, 0.8625, 0.87, 0.4927, -0.5574, -0.8957], '2019-08-01': [0.0, 0.4648, 0.0, 0.0, -0.5267, 0.0, 0.8758, 0.5106, 0.3892], '2019-08-02': [0.0, 0.0, -0.4939, -0.7541, 0.2732], '2019-08-03': [0.0, -0.5423, 0.0, 0.0, 0.8397, 0.597, 0.6908, -0.1181, 0.9953, 0.7096], '2019-08-04': [0.0, 0.0, 0.2023, 0.0, 0.0, 0.0, 0.9097, -0.6147], '2019-08-06': [-0.6486, 0.2023, 0.7506, -0.5106, 0.0, 0.3506, -0.631, 0.3182, 0.0, 0.0, 0.0], '2019-08-05': [0.0, 0.0, 0.0, -0.8663, 0.1719, 0.34, -0.5563, -0.4767, 0.0, 0.0], '2019-08-07': [-0.3818, 0.4005, -0.29600000000000004, 0.0, -0.6652, 0.0516, 0.4144, 0.0, -0.1531], '2019-08-08': [-0.4019, 0.0, 0.0, 0.0, 0.0, 0.6908, 0.8977, 0.0, 0.0], '2019-08-09': [0.0, 0.0, 0.3818, 0.0, 0.0, 0.9099, -0.9831, -0.3313, 0.0, 0.0762], '2019-08-10': [0.0, -0.2732, 0.6681, 0.4728], '2019-08-11': [0.0, 0.5719, 0.0, -0.1754, 0.7096, 0.6698, 0.9728, 0.25, 0.0, 0.9670000000000001], '2019-08-12': [0.2732, 0.0, 0.0, 0.0, 0.0, 0.9848, 0.0, 0.6874, -0.0258, 0.0772, 0.4404], '2019-08-13': [0.0, -0.3182, -0.5423, 0.0, 0.9931, 0.0, -0.5283, 0.0, -0.5423], '2019-08-14': [0.0, 0.0, 0.0, 0.0, 0.0, 0.0, 0.0, -0.8485, 0.4142, 0.0], '2019-08-15': [0.0, 0.0, 0.5574, 0.29600000000000004, 0.9366, 0.6249, 0.0, -0.1027, 0.1531, 0.6705], '2019-08-17': [0.0, 0.0, 0.25, 0.0, 0.6369, 0.6369, -0.0772, 0.0, -0.4696, 0.8074, 0.3285, 0.9076], '2019-08-16': [0.7906, 0.0, 0.0, 0.0, -0.4019, 0.0, -0.4019], '2019-08-18': [0.0, -0.4767, 0.0258, 0.0, 0.0516, 0.0], '2019-08-19': [0.3182, 0.0, 0.0, 0.0, 0.0, -0.2023, 0.25, 0.0, -0.2732], '2019-08-20': [0.0, 0.0, 0.0, 0.4404, 0.0, 0.29600000000000004, -0.34, -0.1531, 0.9789, 0.7964, 0.9318, -0.7579, -0.5267, 0.1511], '2019-08-21': [0.34, 0.0, 0.0, 0.4019, 0.0, 0.0, 0.0, 0.5859, 0.0], '2019-08-22': [0.0, 0.0, 0.0, 0.0, 0.4404, 0.3182, -0.4515, 0.6597, 0.8420000000000001], '2019-08-23': [0.7351, 0.4854, 0.1531, 0.0, 0.0, 0.0, -0.1926, 0.0], '2019-08-24': [-0.5994, 0.0, 0.0, 0.29600000000000004, -0.743, 0.6901, 0.6597, 0.3898, -0.8288, 0.5423, 0.0, 0.0, 0.9474, 0.6369, 0.0], '2019-08-25': [0.0, -0.0516, 0.0, 0.0, 0.0, -0.6199, 0.6486, -0.2144, 0.6369], '2019-08-26': [0.6486, 0.0, 0.0, 0.9768, -0.8238, 0.9768, 0.1531, 0.9667], '2019-08-28': [0.5423, 0.0, 0.5423, 0.4019, 0.5423, 0.29600000000000004, -0.4939, -0.9057, 0.6597, 0.0, 0.0, 0.0], '2019-08-27': [0.3566, 0.0, 0.0, -0.3384, 0.0], '2019-08-29': [0.0, 0.9371, 0.4019, 0.9772], '2019-08-30': [0.0, 0.3182, 0.0, 0.4588, 0.0, 0.0, 0.0, 0.0, 0.8017, 0.0772, -0.7469, 0.6369, 0.2263, 0.8126, 0.1901], '2019-08-31': [0.29600000000000004, 0.0, 0.0, 0.0, 0.0, 0.0, -0.4939, 0.5239, -0.8802, -0.1022, 0.0], '2019-09-02': [0.0, 0.7975, -0.6705, 0.6897, -0.5423, -0.1027, -0.6662, 0.6249], '2019-09-01': [0.0, 0.0, 0.8225, 0.5859, -0.5719, 0.0], '2019-09-03': [0.0, 0.0, 0.0, 0.0, 0.0, 0.9944, 0.4019, 0.0, 0.0493, 0.5106], '2019-09-04': [-0.0258, -0.0258, -0.1779, 0.0, 0.0, 0.0, 0.8225], '2019-09-05': [0.0, 0.128, -0.2732, 0.0, -0.5688, 0.0165, 0.0, 0.2516, 0.8844, -0.5943, 0.4404, 0.0, 0.6908], '2019-09-06': [-0.1531, 0.0, 0.2732, 0.0, 0.0, 0.0, 0.264, 0.4019, 0.0258, 0.0, 0.8225, 0.3612], '2019-09-07': [0.2023, 0.3182, 0.4215, 0.7096, 0.5267, 0.9162], '2019-09-08': [0.6249, 0.0, 0.0, 0.0, 0.0, 0.0, 0.9758, 0.3695, 0.8316, 0.8734], '2019-09-09': [0.0, 0.0, 0.0, 0.0, 0.0, 0.4926, 0.0, 0.4408, 0.4939], '2019-09-10': [0.0, 0.0, 0.0, 0.0, 0.0, 0.3612, 0.0387, -0.4198, 0.7213, 0.0, 0.0, 0.7425], '2019-09-11': [0.4767, 0.0, 0.4215, 0.0, 0.0, 0.85, 0.0, 0.8625], '2019-09-12': [0.7814, -0.29600000000000004, -0.0516, 0.0, 0.0, 0.0, 0.0, 0.4404, -0.7645, -0.25, -0.7603, 0.6118], '2019-09-13': [0.0, 0.0, 0.0, 0.5859, -0.4215, -0.7845, 0.8834, 0.9723, -0.0572, 0.0], '2019-09-14': [0.0, 0.0, 0.0, 0.1027, 0.6124, 0.0, 0.4404, 0.4939, 0.6369, 0.6786], '2019-09-15': [-0.128, 0.0, 0.0, 0.4939, -0.29600000000000004, -0.9329999999999999, 0.1695], '2019-09-17': [0.4278, 0.0, 0.0, 0.0772, 0.5423, 0.0], '2019-09-16': [0.0, 0.0, 0.5267, 0.0, -0.5574, 0.0, 0.0], '2019-09-18': [0.2023, 0.0, 0.34, 0.5859, 0.0, 0.2382, 0.0, 0.0, 0.8225, 0.4697, 0.0, 0.8073], '2019-09-20': [0.0, 0.0, 0.6369, 0.4019, 0.8225, 0.2302], '2019-09-21': [0.0, -0.0258, 0.5106, -0.7402, 0.0, 0.0, 0.5106, 0.4576, 0.0, 0.0, 0.8793], '2019-09-22': [0.0, -0.0258, 0.0, 0.1308, 0.4404, 0.2732, 0.5599, 0.0], '2019-09-23': [0.5859, 0.2023, 0.5023, 0.0, 0.0, 0.0, -0.4019, 0.0, 0.9104], '2019-09-24': [0.0, 0.4215, 0.5106, -0.34, 0.0, 0.0, 0.0, 0.5423], '2019-09-25': [-0.5423, 0.0, -0.6369, 0.2263, 0.0, 0.4588, 0.0, -0.5709, -0.2263], '2019-09-26': [0.3612, 0.2023, -0.3612, 0.0, 0.5065, 0.2732, -0.5859], '2019-09-27': [0.0, -0.4019, 0.0, 0.0, 0.0, 0.0, 0.8074, 0.6204, 0.5574, 0.0, 0.0], '2019-09-28': [0.0, 0.0, 0.0772], '2019-09-29': [0.0, 0.0, -0.34, 0.8176, 0.0, -0.4588, 0.5329999999999999, -0.7579, 0.5251, 0.0, 0.5106, -0.2732, 0.5106, 0.5106], '2019-09-30': [0.7672, 0.2732, 0.4215, 0.0, 0.0, 0.1531, -0.3051, -0.3182, 0.0, 0.0, 0.0], '2019-10-01': [0.0, 0.0, 0.0, 0.4215, -0.29600000000000004, 0.0, 0.2263, -0.5423, 0.4404], '2019-10-02': [-0.2732, 0.0, 0.0, 0.0, 0.0, -0.204, 0.5943, -0.0772, -0.4404, 0.6597], '2019-10-03': [0.0, 0.29600000000000004, 0.6369, 0.0, -0.6908], '2019-10-04': [0.0, 0.0, 0.0, 0.0, 0.0, 0.0, 0.3182, 0.6597, 0.0, 0.6705], '2019-10-05': [0.0, 0.0, 0.34, 0.0, -0.2263, 0.0, 0.6486, 0.0, 0.4939, -0.6908, 0.4215, 0.6369], '2019-10-06': [0.0, 0.0, 0.0, 0.0, -0.5106, 0.5859, 0.6597], '2019-10-07': [0.8176, 0.0, 0.5574, 0.765, 0.5994, 0.1531, 0.6369, 0.0, 0.5106, 0.0, 0.4019], '2019-10-08': [0.0, 0.0, 0.0, -0.3182, 0.1531, -0.2732, 0.9859, -0.1007, 0.0, 0.9813, -0.4404, 0.0], '2019-10-09': [0.0, 0.0, 0.0, 0.0, 0.1779, -0.7579, 0.25, -0.4215, 0.875, 0.7717], '2019-10-10': [-0.2263, 0.0, -0.2263, 0.0, 0.0, 0.0, 0.0, -0.5962, 0.4215, 0.0, 0.0], '2019-10-11': [0.0, 0.0, -0.5994, 0.7684, -0.29600000000000004, -0.7465, 0.0, 0.0, 0.0], '2019-10-12': [0.0, 0.0, 0.0, -0.6486, 0.0, 0.0, 0.7845, -0.48100000000000004, 0.9366, 0.0, 0.0], '2019-10-13': [0.4278, 0.0, 0.0, 0.0, 0.1779, -0.0516, 0.3767, 0.0], '2019-10-14': [0.29600000000000004, 0.0, 0.6166, 0.0, -0.8971, -0.3182, 0.0, 0.0, 0.0], '2019-10-15': [0.0, -0.539, 0.0, 0.0, 0.5106, -0.34, 0.7906, 0.4215, 0.0, 0.0, 0.3612], '2019-10-16': [-0.3182, 0.4278, 0.0, -0.5423, 0.0, 0.0, 0.0, 0.0, 0.29600000000000004, -0.6652, 0.5106, 0.4767], '2019-10-17': [0.4019, -0.128, 0.0, 0.8779, 0.4767], '2019-10-18': [0.0, 0.0, 0.0, -0.2732, -0.7389, 0.8176, 0.0, 0.0, 0.0, -0.4263], '2019-10-19': [0.0, 0.5522, -0.2263], '2019-10-20': [-0.3612, 0.6369, 0.6771, 0.0, 0.0, 0.0, 0.0, 0.34, 0.5859, 0.0, 0.7506], '2019-10-21': [0.0, 0.4404, 0.0, 0.5267, 0.0, 0.4939, 0.6652, -0.34, -0.3182, -0.9074, 0.3919], '2019-10-22': [0.0, 0.0, 0.0, 0.2023, 0.0, 0.1027, 0.9635], '2019-10-23': [0.4019, 0.0, 0.0, 0.743, 0.1453, 0.6239, -0.5719, -0.8159, -0.0387, -0.802], '2019-10-24': [0.0, 0.0, 0.0, 0.4019, 0.0, 0.0, 0.0, -0.5829, -0.4404, 0.0], '2019-10-25': [0.34, 0.0, 0.0, 0.0, 0.9783, -0.836, 0.0, 0.0, 0.0, -0.4003, -0.29600000000000004, 0.4404], '2019-10-26': [-0.6739, 0.0, 0.0, 0.0, 0.0, -0.5574, 0.836, 0.0258], '2019-10-27': [0.5859, 0.0, -0.4767, 0.0, 0.3182, 0.0, 0.0, -0.6705], '2019-10-28': [0.0, 0.0, 0.0, 0.0, -0.0258, 0.0, 0.0, 0.2263, 0.4404, 0.8290000000000001, 0.4404, 0.3818], '2019-10-29': [0.0, 0.0, 0.0, 0.0, 0.128, 0.0, 0.0, -0.2732, 0.6124, -0.128, -0.1779, 0.0, 0.0], '2019-10-30': [0.0, 0.0, 0.29600000000000004, 0.0, 0.0, 0.9358, 0.6369, -0.2869, -0.4767], '2019-10-31': [0.0, 0.0, 0.0, 0.5106, 0.4215, -0.4651, -0.6928, -0.4019, -0.4497], '2019-11-01': [0.3612, -0.29600000000000004, 0.0, 0.0, 0.0, -0.1027, 0.0, -0.6705, 0.617, 0.0, 0.29600000000000004], '2019-11-02': [0.0, 0.6249, 0.0, 0.0, -0.5696, 0.3182, 0.8807, -0.1593], '2019-11-04': [0.0, 0.0, -0.5423, 0.0, 0.0, 0.2359, 0.0, -0.7184, 0.6199, 0.0], '2019-11-03': [0.0, 0.0, 0.0, -0.4019, 0.3818, 0.0624, 0.0, 0.3331, -0.6115, -0.128, 0.0, -0.1779], '2019-11-05': [0.0516, 0.0, 0.0258, 0.0, 0.0, 0.0, 0.5719, 0.0, 0.0, 0.0], '2019-11-06': [0.0, 0.0, 0.0, 0.128, 0.3612, -0.8791, 0.6908, 0.0], '2019-11-07': [0.0, 0.0, 0.0, 0.0772, -0.5859, 0.4023, -0.2111, 0.0, 0.5707], '2019-11-08': [-0.128, 0.0, 0.0, 0.0, 0.0, 0.2023, 0.3612, -0.1531, 0.0, 0.0, -0.5994, 0.5994], '2019-11-09': [0.0, 0.34, 0.0, -0.2023, -0.2023, -0.5267, 0.0, 0.0], '2019-11-11': [0.0, 0.0, 0.4404, 0.6529, 0.0, -0.3818, 0.0, -0.5719, 0.7431, 0.0], '2019-11-10': [-0.6249, 0.0, 0.0, 0.5473, 0.8906, -0.5499, -0.0088, 0.7227, 0.4404], '2019-11-12': [-0.2732, -0.2263, 0.0, 0.0, -0.2732, -0.4753, 0.0, 0.0, 0.0, 0.0], '2019-11-13': [0.0, 0.0, 0.0, 0.0, -0.0516, 0.0, 0.0, 0.4753, 0.3612, 0.0, 0.0, 0.2263], '2019-11-14': [-0.29600000000000004, 0.0, 0.0, 0.2263, 0.0, 0.0, 0.0, -0.33899999999999997, 0.4019, 0.0], '2019-11-15': [0.4019, 0.4019, 0.0, 0.2023, 0.4019, -0.5574, 0.8999, -0.0176], '2019-11-17': [0.0, -0.29600000000000004, 0.0, 0.0, 0.0, 0.0, 0.0, 0.0, -0.0772, 0.0, 0.6249, 0.5106, 0.0], '2019-11-16': [0.2023, 0.0, 0.8442, 0.7845, 0.0], '2019-11-18': [0.2023, 0.8779, 0.9235, -0.34, 0.6369, 0.6987], '2019-11-19': [0.0, 0.0, 0.5106, 0.0, 0.0, 0.0, 0.0, -0.4336, -0.6908, -0.25, 0.0], '2019-11-20': [0.0, 0.0, -0.8934, 0.0, 0.0, 0.0, 0.5574, -0.7901, 0.0, 0.0, -0.5574], '2019-11-21': [0.0, 0.0, 0.5719, 0.0, 0.6486, -0.2755, -0.5423, -0.6186, 0.4019], '2019-11-22': [0.0, 0.0, 0.0, 0.0, 0.0, 0.0, 0.0, 0.0, -0.29600000000000004, -0.3217, 0.0, -0.6705], '2019-11-25': [0.0, 0.0, 0.0, 0.0, 0.29600000000000004, 0.0, 0.0, 0.0, -0.5106, -0.7184, -0.3612, 0.0, 0.2023, 0.3612], '2019-11-24': [0.0, 0.0, 0.0, 0.2846, 0.0, 0.4215], '2019-11-26': [-0.34, 0.0, 0.5859, 0.7213, 0.5106, 0.5709, 0.7351, 0.4867], '2019-11-27': [0.0, 0.25, 0.0, 0.0, 0.0, 0.0, -0.34, -0.29600000000000004, -0.8225, 0.7615], '2019-11-28': [0.0, 0.4588, 0.5319, 0.0, 0.7579, 0.0, -0.7822], '2019-11-29': [-0.4019, 0.0, 0.25, 0.0, 0.0, 0.6767, 0.0, 0.0, 0.0, 0.7003, 0.0, -0.4939, -0.0772], '2019-11-30': [0.4019, 0.0, 0.0, 0.0, 0.0, 0.29600000000000004, -0.5106, 0.9259, -0.5859, -0.2263, 0.4215], '2019-12-01': [0.0, -0.3182, 0.0, 0.7979, 0.2837, 0.6652, 0.0, 0.4638], '2019-12-03': [0.0, 0.0, -0.3818, 0.6588, 0.4404, 0.8356, -0.0772, -0.1027, 0.4125, 0.0516], '2019-12-02': [0.0, 0.4404, 0.0, -0.9346, 0.0, 0.3612, 0.0], '2019-12-04': [0.0, 0.0, 0.0, 0.1779, 0.0, 0.0, -0.8225], '2019-12-05': [0.0, 0.0, 0.5106, 0.0, -0.29600000000000004, 0.8611, 0.9779, 0.34, 0.0, 0.2732, 0.0, 0.9313, 0.0, 0.0], '2019-12-06': [0.0, 0.0, 0.0, 0.0, 0.5994, 0.0, -0.6672, 0.0, 0.5994, -0.9559, -0.6369], '2019-12-07': [0.4019, 0.0, 0.0, 0.6597, 0.9231, 0.0, 0.8357], '2019-12-08': [0.4927, 0.7271, 0.0, 0.6408, 0.4926, 0.0, 0.802], '2019-12-09': [0.5106, 0.0, -0.5423, 0.4404, 0.4404, -0.5423, 0.4404, 0.25, 0.0, 0.5574, -0.5106, 0.9081], '2019-12-11': [0.0, 0.0, 0.0, 0.6059, 0.0, 0.0, -0.3818, -0.2263], '2019-12-10': [0.0, 0.0, 0.5574, -0.4228, 0.4019, 0.0, -0.1501], '2019-12-12': [0.0, 0.0, 0.0, 0.0, 0.29600000000000004, 0.5267, -0.5859, -0.3182, 0.0, 0.4215], '2019-12-13': [0.0, 0.0, 0.2023, -0.5423, -0.3182, 0.0, 0.9763, 0.743, 0.0, -0.4648, -0.4753], '2019-12-14': [0.2023, 0.2023, 0.3612, 0.0, 0.4576, 0.3612, -0.5574, 0.7691, -0.1027, 0.0, 0.9854], '2019-12-15': [0.0, -0.5859, 0.0, 0.0, -0.0129], '2019-12-16': [0.0, -0.4767, 0.4926, 0.0, 0.0, 0.0, 0.7269, -0.5423, 0.899, 0.2732, 0.0, 0.4019, 0.0, 0.7096], '2019-12-17': [0.0, 0.0, 0.0, 0.0, -0.5719, 0.0, -0.2732, 0.0, 0.0], '2019-12-18': [0.0, 0.8519, 0.0, 0.0, 0.128, -0.7096, 0.0, 0.1779, 0.5358, 0.5106], '2019-12-19': [-0.6249, -0.3296, 0.2023, -0.1531, 0.0, -0.4767, 0.6369], '2019-12-20': [0.0, 0.0, 0.0, -0.25, 0.0, 0.0, 0.0, 0.0, 0.6705, -0.5423, 0.3612, 0.0, -0.6739], '2019-12-21': [0.0, 0.3818, -0.4019, 0.0, 0.0, -0.3612, 0.0425], '2019-12-22': [-0.3875, 0.0, 0.0, 0.9490000000000001, 0.8673, -0.4215, 0.3182, -0.6705, 0.8674, 0.0], '2019-12-23': [0.0, 0.2023, 0.0, 0.0, 0.4588, -0.4215, 0.0, 0.0, 0.0], '2019-12-24': [0.0, -0.128, 0.5848, 0.0, 0.3818, 0.34, 0.0, 0.0772, 0.4389], '2019-12-25': [0.34, -0.8439, 0.0, -0.6946, 0.9606, -0.5204, 0.1999, 0.0946, 0.0], '2019-12-26': [0.0, 0.2023, 0.0, 0.5859, -0.4215, 0.8992, 0.7177, 0.7556, -0.2815], '2019-12-27': [0.0, 0.4019, 0.0, 0.9614, 0.8957, 0.9917, -0.7184, -0.5106], '2019-12-28': [0.0, 0.0, 0.0, 0.0, 0.0, 0.0, 0.0, 0.0, 0.0, 0.7814, 0.7964, -0.2034, -0.29600000000000004, 0.0], '2019-12-30': [0.0, 0.0, -0.29600000000000004, -0.5423, 0.6804, 0.3818, -0.1027, 0.3612, -0.29600000000000004, 0.0772], '2019-12-29': [0.4404, 0.4404, 0.0, 0.4795, -0.1779], '2019-12-31': [0.2023, 0.0, 0.0, 0.4588, 0.0, -0.2732, -0.29600000000000004, 0.0, 0.7207, 0.001, 0.9812, 0.7579, 0.8786], '2020-01-01': [0.0, 0.0, 0.9577, 0.0, -0.8519, 0.0, 0.8553], '2020-01-02': [0.0, 0.3182, 0.0, 0.0, -0.2732, 0.0, 0.0, 0.34, -0.5423, -0.4215, 0.2235], '2020-01-03': [0.4215, 0.0, 0.0, 0.0, 0.0, -0.3818, 0.3869, -0.91, -0.6486, -0.2023, 0.9012, -0.3818], '2020-01-04': [0.1779, 0.0, -0.4939, 0.0, -0.4939, 0.0, 0.0, 0.4199, 0.1531, 0.9487], '2020-01-05': [0.25, 0.0, 0.4215, 0.9012, 0.5994, 0.9666, 0.9492, 0.9012, -0.3182], '2020-01-06': [0.3182, 0.0, 0.0, 0.2732, 0.0, -0.7059, 0.34, -0.6956, 0.5106, 0.6486, 0.4201, 0.0772], '2020-01-08': [0.0, 0.1779, 0.0, 0.0, 0.0, 0.0, 0.0, 0.5859, 0.0, 0.9224, 0.6940000000000001, 0.5106, 0.0, 0.0, -0.4559], '2020-01-09': [0.0, 0.0, 0.29600000000000004, 0.2023, 0.0, 0.7783, 0.0, 0.0], '2020-01-10': [0.0, 0.0, 0.0, 0.0, 0.0, 0.0, 0.0, 0.0, 0.0, -0.4019, 0.7096], '2020-01-11': [0.0, 0.0, 0.0, 0.34, 0.0, -0.1027, -0.9455, 0.2263, -0.4767, -0.7958, 0.0], '2020-01-12': [0.0258, 0.0, 0.0, 0.0], '2020-01-13': [0.0, 0.1779, 0.0, 0.0, 0.0, 0.0, 0.8271, 0.3612, 0.0, -0.4767, 0.0, 0.5106, 0.0], '2020-01-14': [-0.5267, 0.0, 0.1531, -0.6249, -0.7227, 0.1779, 0.0, 0.0, 0.0, 0.4588, 0.4404], '2020-01-15': [-0.8126, 0.7959, 0.0, 0.0, 0.4588, 0.4588, -0.1027, 0.0, 0.5502, 0.1027, -0.9091, -0.8637, 0.8834], '2020-01-16': [0.0, 0.0, -0.594, 0.0, 0.0, -0.6359, 0.39899999999999997, 0.0, 0.0], '2020-01-17': [-0.29600000000000004, -0.29600000000000004, 0.0, 0.0, -0.5574, 0.0, -0.2716, 0.0516, 0.9159999999999999, 0.4019], '2020-01-18': [0.0, 0.0, 0.0, 0.4019, 0.0, 0.0, -0.0839, -0.25, -0.0572, 0.0], '2020-01-19': [0.4019, 0.0, 0.0, 0.0, 0.0, 0.0, 0.0, -0.1531, 0.5423, 0.3597, 0.7181], '2020-01-21': [0.0, -0.4767, 0.0, 0.0, 0.0, 0.3089, 0.631, 0.4404], '2020-01-20': [0.0, 0.6369, 0.0, 0.0, -0.9498, 0.0, 0.7575, 0.0, 0.7125, 0.0], '2020-01-22': [0.0, 0.0, 0.0, 0.0, 0.0, -0.3182, 0.0, 0.0, -0.5859, -0.1531, 0.0], '2020-01-23': [0.2716, 0.0, -0.3182, 0.0, -0.4824, 0.4939, 0.8109, 0.6597, -0.3182, 0.6249], '2020-01-24': [0.0, 0.0, 0.6833, 0.0, 0.0, 0.0, -0.8825, 0.0, -0.128, 0.0], '2020-01-25': [0.0, 0.0, 0.0, 0.0, 0.1053, 0.0, 0.4019, -0.9287], '2020-01-26': [0.0, 0.0, 0.3818, 0.0, 0.0, 0.0, -0.3182, 0.7496], '2020-01-27': [-0.25, 0.0, 0.0, 0.0, 0.0, 0.0, -0.6124, 0.2924, -0.0387, 0.9531, 0.0, -0.6408, 0.0, -0.09, -0.4334], '2020-01-28': [0.0, 0.0, 0.0, 0.0, 0.0, 0.0, 0.3612, -0.6115, 0.0, -0.7673], '2020-01-29': [0.0, 0.1779, 0.7506, 0.0, 0.0, 0.9578, 0.6369, 0.4588, 0.0, 0.7717, -0.4482], '2020-01-30': [0.0, -0.2732, 0.2732, 0.0, 0.3612, -0.9186, 0.6705, 0.3182, -0.9864], '2020-01-31': [0.0, 0.3578, -0.3182, 0.0, 0.0, -0.7845, -0.9886, 0.29600000000000004, 0.0, 0.4404, 0.0], '2020-02-01': [0.0, 0.4404, 0.0, -0.0972, 0.755, 0.2093, -0.046, 0.5141], '2020-02-02': [0.0, 0.0, 0.4588, 0.0, 0.0, -0.5875, 0.0, 0.9498, 0.9498], '2020-02-03': [0.0, 0.0, 0.0, 0.3465, -0.2732, 0.0, 0.718, -0.6597, -0.5859, -0.9089, -0.29600000000000004], '2020-02-04': [0.0, 0.0, 0.0, -0.5267, 0.0, 0.0, -0.1759, -0.7089, 0.4404, -0.5118], '2020-02-05': [0.0, 0.4404, 0.0, 0.4404, -0.2263, 0.0, -0.34, 0.0, -0.1779, 0.5859], '2020-02-06': [0.0, 0.0, -0.1531, -0.4019, 0.0, 0.0, 0.3612, -0.873, -0.4576, 0.6597, 0.0], '2020-02-07': [-0.34, 0.4404, 0.0, 0.0, 0.29600000000000004, -0.4019, -0.5719, 0.4939, -0.7096, 0.7506], '2020-02-08': [0.0, -0.6739, 0.0772, 0.1695, 0.6757], '2020-02-09': [0.0, 0.0, 0.0, 0.0, 0.3182, 0.7964, 0.2023, 0.3612, 0.9937, 0.6369, 0.3612, -0.0258], '2020-02-10': [0.0, 0.6808, 0.0, 0.0, 0.0, 0.9583, -0.4588, 0.0, 0.0, 0.0, -0.8271, 0.8338], '2020-02-11': [0.0, 0.1779, 0.0, -0.7783, 0.0, 0.2263, 0.5927, 0.1779, 0.6652, 0.0], '2020-02-12': [0.0, -0.5423, 0.0, 0.7184, 0.0, -0.128, 0.7783, -0.017, 0.5256, -0.5106, -0.4399], '2020-02-13': [0.0, 0.6369, 0.0, 0.0, 0.0, 0.6808, -0.5267, 0.0], '2020-02-14': [0.0, 0.0, 0.0, 0.0, 0.0, 0.2732, 0.6115], '2020-02-15': [-0.4019, -0.4215, 0.0, 0.0, 0.4019, -0.5584, 0.4664, 0.5483, 0.6115, -0.0862, 0.32299999999999995, 0.0, 0.8208], '2020-02-16': [0.1027, 0.0, 0.0, 0.0, 0.0, -0.29600000000000004, 0.0, 0.0772, 0.0772], '2020-02-17': [0.0, 0.4588, 0.0, -0.4058, -0.8496, 0.0, 0.0, 0.0], '2020-02-18': [0.0, 0.0, 0.0, 0.0, 0.0, 0.4404, 0.0, 0.7743, 0.2023, 0.3182, -0.5983, 0.0, 0.0, 0.7003], '2020-02-19': [0.3818, 0.3182, -0.2263, 0.5719, 0.0, 0.7918, 0.0, 0.0, 0.0], '2020-02-20': [0.6705, -0.29600000000000004, 0.5106, 0.0, -0.1531, -0.6988, -0.7351, -0.5719, 0.2942], '2020-02-21': [0.0, 0.0, 0.0, 0.0, 0.0, 0.0, -0.5994, -0.2732, 0.0, -0.8591, 0.34, 0.0], '2020-02-22': [0.0, 0.0, 0.0, 0.0, 0.0, -0.7096, 0.6808], '2020-02-23': [0.0, 0.0, 0.0, 0.4744, -0.2755, -0.4939, 0.0, -0.9204, -0.3885, 0.0], '2020-02-24': [0.4404, -0.29600000000000004, 0.0, 0.7632, -0.3182, 0.0, -0.5319, 0.0, -0.3506], '2020-02-25': [0.0, 0.0, 0.0, 0.3182, 0.0, 0.0, -0.6597, -0.6369, 0.34], '2020-02-26': [0.0, 0.0, 0.0, 0.0, 0.4708, 0.9095], '2020-02-27': [0.0, 0.0, -0.29600000000000004, 0.0, -0.29600000000000004, 0.7351, 0.6369, -0.1467, -0.2263, 0.2185, -0.6705, -0.5302, 0.4172, -0.7019, 0.7184], '2020-02-28': [-0.3182, 0.0, 0.0, 0.0, 0.0, 0.0, -0.29600000000000004, 0.0, -0.7003, 0.7624, 0.128], '2020-02-29': [0.0, 0.6124, 0.0, 0.0, -0.1655, 0.0, 0.0, 0.9154, -0.8538], '2020-03-01': [0.0, -0.2057, 0.0, 0.0, 0.0, -0.9789, 0.3182], '2020-03-02': [0.0, -0.7603, -0.4588, -0.5267, 0.0, 0.0, 0.0, -0.3612, 0.0, 0.5105, 0.7987, 0.6705], '2020-03-03': [0.0, 0.0, -0.2023, 0.0, -0.6908, 0.6408, 0.3182, -0.9987, -0.7759], '2020-03-04': [0.0, 0.0, 0.0, 0.0, 0.0, 0.0, 0.0, -0.3885, -0.8625, 0.9809, 0.4215, -0.2714], '2020-03-05': [0.29600000000000004, 0.0, 0.0, 0.0, 0.0, 0.5760000000000001, -0.2263, -0.128, 0.0], '2020-03-06': [0.0, 0.0, 0.0, -0.5859, 0.0, 0.0, -0.1531, 0.8625, 0.3885, -0.7867, -0.1615], '2020-03-07': [0.0, -0.3182, 0.0, 0.0, 0.6908, 0.0, 0.25, 0.34], '2020-03-09': [0.5106, 0.0, 0.0, 0.0, -0.4767, 0.0, 0.0, 0.0, -0.111, 0.2382, 0.0, 0.636, 0.4019], '2020-03-08': [0.0, 0.0, 0.8555, 0.0, 0.4588, 0.0, -0.5267, 0.0, 0.0], '2020-03-10': [0.0258, 0.0, 0.2732, 0.0, 0.0, -0.6486, 0.0, -0.3818], '2020-03-11': [0.4019, 0.2244, 0.0, 0.6124, 0.0, 0.0, 0.2732, -0.6697, 0.3182, 0.8573], '2020-03-12': [0.34, -0.836, 0.1027, 0.0, 0.0, 0.34, 0.0, 0.7034, 0.9251, 0.3612], '2020-03-13': [0.0, 0.0, 0.0, 0.0, 0.0, 0.7311, 0.0, 0.0, -0.9579, 0.0, 0.0, 0.431], '2020-03-14': [0.0, 0.0, 0.0, 0.6808, 0.0, -0.1027, -0.2911, 0.8762, 0.0, 0.0, 0.0772, -0.3182], '2020-03-16': [0.0, 0.0, -0.5423, 0.4215, 0.0, 0.0, 0.5719, 0.0, 0.4939, 0.0, 0.0], '2020-03-15': [0.0, 0.0, 0.0, 0.2023, -0.0772, 0.8741, 0.6798], '2020-03-17': [-0.5106, -0.3182, 0.0, 0.4767, 0.0, 0.4215, 0.9386, 0.9386, 0.4168, 0.9386, 0.3612], '2020-03-18': [0.0, -0.4019, -0.1531, 0.0, 0.9584], '2020-03-19': [0.3182, 0.5622, -0.8519, 0.4005, -0.5563, 0.6705, 0.5267, 0.0], '2020-03-20': [0.0, 0.0, 0.0, 0.0, 0.0, -0.9652, 0.0, 0.0, 0.0, 0.34, 0.0, -0.5413], '2020-03-22': [0.0, 0.0, 0.0, 0.2732, 0.4215, 0.0, 0.4215, 0.0, 0.25, 0.0, 0.1548, -0.6597], '2020-03-21': [0.0, 0.8429, 0.0, 0.8668, 0.8162], '2020-03-23': [0.0, 0.0, 0.0, -0.1027, 0.6369, -0.5423, 0.4337, -0.3612, 0.0, -0.3182, 0.0, 0.7351], '2020-03-24': [0.0, 0.0, 0.0, -0.2732, 0.0, -0.7506, 0.5101, 0.8641, 0.0, -0.8909], '2020-03-25': [0.0, 0.0, 0.0, 0.0, 0.5719, 0.0, -0.5423, 0.0], '2020-03-26': [0.0, 0.0, 0.0, -0.29600000000000004, 0.0, 0.0, 0.1984, 0.9386, 0.3612, 0.4615, -0.6808], '2020-03-27': [0.0, 0.6249, 0.0, 0.0, 0.9386, 0.9834, 0.0, -0.6553], '2020-03-28': [0.0, 0.0, 0.7184, 0.4215, 0.0, 0.0, 0.0, 0.0, 0.9834, 0.6369, 0.2263, 0.2023, -0.5994, 0.0], '2020-03-29': [0.3164, 0.0, -0.6771, -0.3612, 0.2168, 0.0, 0.0, 0.3612, -0.5267, -0.4939, -0.0972], '2020-03-30': [0.0, -0.4019, 0.6369, 0.9136, 0.7184, 0.7269, 0.0], '2020-03-31': [0.4215, 0.0, 0.0, -0.1702, 0.4939, -0.3182, -0.5106], '2020-04-01': [-0.1531, 0.0, 0.0, 0.0, 0.0, 0.0, 0.0, 0.0, -0.6597, 0.0, 0.5423, 0.3612, 0.3612], '2020-04-02': [0.0, 0.0, 0.0, -0.6486, 0.0, 0.6896, -0.9946, 0.6872], '2020-04-03': [-0.1779, 0.5719, 0.0, 0.0, 0.5719, 0.5719, 0.5719, -0.7073, -0.8074, -0.5574, 0.5264, 0.0, -0.7835, -0.5214, 0.3818], '2020-04-04': [0.0, 0.0, 0.1531, 0.5106, -0.8949, 0.4404, 0.6059, 0.6956, -0.0772], '2020-04-05': [0.0, -0.4767, 0.0, 0.0, 0.0, 0.2354, 0.8151, 0.0, 0.9246, 0.1154], '2020-04-06': [0.7841, -0.0943, 0.3818, 0.0, -0.624, 0.0, 0.5092], '2020-04-07': [0.0, 0.0, 0.0, 0.5267, -0.5423, -0.0516, 0.8795, -0.4003, -0.2263], '2020-04-08': [0.0, 0.0, -0.5574, 0.3612, -0.4215, -0.5267, -0.1154, 0.3612, 0.0, 0.0, -0.6255, 0.9786], '2020-04-09': [0.0, 0.29600000000000004, 0.29600000000000004, 0.0, 0.0, 0.0, -0.0772, -0.0772, -0.8591, -0.7876, 0.0, 0.0], '2020-04-11': [-0.5531, 0.4767, 0.1531, -0.1027, 0.0, 0.2263, 0.7876, 0.8314, 0.8178], '2020-04-10': [0.0, 0.0, 0.0, -0.743, 0.6688, -0.7996], '2020-04-12': [0.4767, 0.4767, 0.4019, 0.0, 0.2732, 0.0, -0.3557, 0.0, 0.6381], '2020-04-13': [0.0, 0.0, 0.4404, -0.4404, 0.2023, 0.0], '2020-04-14': [0.0, 0.0, 0.4648, 0.0, -0.6486, 0.0, 0.0, 0.5905, -0.81, -0.9231, 0.1531, -0.4854], '2020-04-15': [0.0, 0.0, 0.0, 0.0, 0.4046, -0.3818, -0.5499, 0.4404, -0.2263, 0.0, -0.8859999999999999, 0.0], '2020-04-16': [0.0, 0.0, 0.2716, -0.4019, 0.0, 0.0, 0.0, 0.5574, 0.0], '2020-04-17': [0.0, 0.0, 0.0, 0.29600000000000004, 0.0, 0.4912, 0.7506, -0.9478, -0.3612, -0.0516, 0.0, 0.5106], '2020-04-18': [0.0, 0.7003, 0.0, 0.0, 0.0, 0.0, 0.0], '2020-04-19': [0.0, 0.0, 0.0, 0.0, -0.4091, -0.5195, 0.6486, 0.0, -0.3875, 0.0, 0.0, 0.3612], '2020-04-20': [0.29600000000000004, 0.1027, 0.0, -0.6486, 0.9313, -0.5673, 0.765, -0.5848, -0.47100000000000003], '2020-04-21': [0.0, 0.0, -0.5719, 0.0, 0.0, 0.0, 0.0, 0.0, 0.0, 0.0, -0.7783, 0.3182, -0.29600000000000004], '2020-04-22': [0.0, 0.0, 0.0, 0.0, -0.3626], '2020-04-23': [0.0, -0.2732, 0.0, -0.29600000000000004, -0.1666, 0.1779, 0.0, 0.0, 0.6908, 0.5719], '2020-04-24': [0.0, 0.0, 0.0, 0.0, 0.0, 0.25, 0.0, 0.0, -0.7003, -0.5423, 0.4939, 0.5423], '2020-04-25': [0.0, 0.0, 0.0, 0.7156, -0.3215, 0.0, -0.9231, -0.3182, 0.5719, 0.8074, -0.7935], '2020-04-26': [-0.5256, -0.25, 0.0, 0.0, 0.0, 0.0, 0.0, 0.5106, -0.4404, 0.6786], '2020-04-27': [0.0, -0.4019, 0.0, 0.0, -0.0516, 0.7876, 0.0], '2020-04-28': [0.0, 0.0, 0.0, 0.0, 0.0, -0.1461, -0.9784, -0.9782, -0.9809, 0.0, -0.3975, -0.5267, 0.0], '2020-04-29': [0.4574, 0.0, 0.0, 0.2732, -0.3182, 0.0, -0.4005, 0.0], '2020-04-30': [0.0, 0.0, 0.0, 0.0, 0.0, 0.3182, -0.0946, 0.6940000000000001, 0.9432, 0.0, -0.7184, 0.0516], '2020-05-01': [0.0, 0.0, 0.34, 0.0, 0.0, 0.6808, -0.2118, -0.2023], '2020-05-02': [0.0, 0.0, 0.0, 0.7717, -0.25, 0.3566, 0.0, 0.4939, 0.8283, -0.5255, 0.6808], '2020-05-03': [0.8481, 0.0, 0.2023, 0.5859, 0.0018, -0.1298, 0.0, -0.1027, 0.0, 0.6192, 0.0], '2020-05-04': [0.0, 0.0, 0.7717, 0.4754, 0.4336, 0.9922, -0.1795], '2020-05-05': [0.0, 0.0, -0.5267, 0.7579, 0.0, 0.0, 0.0, 0.9514, -0.723, 0.0772, 0.6486, 0.3182, 0.0, -0.3182], '2020-05-06': [0.0, 0.0, -0.4019, -0.9272, 0.3612, -0.1111, 0.0, 0.25], '2020-05-07': [0.3818, 0.0, 0.6597, 0.0, 0.0, 0.0, 0.0, 0.2247, 0.6249], '2020-05-08': [0.0, 0.0, 0.0, 0.8582, -0.7964, -0.5574, 0.4404, 0.3415, 0.0, 0.0], '2020-05-09': [0.0, 0.0, 0.7351, 0.29600000000000004, 0.7351, 0.0, -0.5859], '2020-05-10': [0.0, 0.0, 0.0, 0.0, 0.0, 0.0, 0.0, -0.6597, 0.9359999999999999, -0.3818, 0.2042, 0.0], '2020-05-12': [-0.2057, 0.0, 0.743, 0.1625, 0.6239, 0.4404, 0.0278, 0.3137, 0.8483, 0.0, 0.5975], '2020-05-11': [0.0, 0.0, 0.0, 0.0, 0.0, -0.4767, -0.2023, 0.5423, -0.128, 0.0, 0.4926], '2020-05-13': [0.9179, 0.7184, 0.0, 0.0, 0.0, -0.5423, 0.3933, 0.0], '2020-05-14': [0.0, 0.0, -0.25, 0.0, 0.0, -0.6046, 0.128, 0.3542], '2020-05-15': [0.0, -0.5859, 0.34700000000000003, -0.5423, 0.0, 0.0, -0.2411, -0.3818, 0.8807, 0.7783, 0.5574, 0.0, 0.128, 0.0, 0.3818], '2020-05-16': [0.0, 0.4696, 0.0, -0.6948, 0.0, 0.8315], '2020-05-17': [-0.2411, 0.0, 0.0, 0.0, -0.3818, 0.0, 0.9427, 0.0, 0.7959999999999999], '2020-05-18': [0.6369, 0.3612, 0.0, 0.0, 0.0772, 0.0, 0.0, 0.0, 0.2247, 0.8347, 0.4215, 0.0, -0.2263, -0.7351], '2020-05-19': [0.4576, 0.0, 0.2023, -0.4019, -0.3818, 0.9913, 0.4926], '2020-05-20': [0.0, 0.2023, 0.0, 0.0, 0.6124, 0.2753, 0.5434, -0.8658, 0.8424, 0.3612, 0.9698], '2020-05-21': [0.0, 0.0, -0.4767, 0.2023, -0.4767, 0.4939, 0.0, 0.2263, -0.4404, -0.1436], '2020-05-22': [0.0, 0.0, 0.6249, 0.4724, 0.504, 0.0, 0.7003, 0.3724, -0.54, 0.0094, -0.6688], '2020-05-23': [0.0, 0.0, 0.0, 0.0, 0.6597, 0.0, 0.6168, -0.4767, 0.6335], '2020-05-24': [0.0, 0.0, 0.0, 0.0, 0.0, 0.0, 0.8481, -0.327, -0.168], '2020-05-25': [0.6124, 0.0, 0.0, 0.5106, 0.0, 0.7269, 0.0, 0.7469, 0.9703, 0.7351, 0.8979], '2020-05-26': [-0.4019, 0.0, 0.0, -0.128, 0.0, 0.0, -0.5859, 0.0, 0.5423, 0.0], '2020-05-27': [0.0, 0.0, 0.0, 0.8398, 0.0, -0.2023, -0.4019, 0.4716, 0.0, -0.6808], '2020-05-28': [0.0, 0.0, 0.7501, 0.6369, 0.4019, 0.0, -0.4278, 0.34, 0.8271], '2020-05-29': [0.0, 0.0, 0.6369, 0.0, 0.0, 0.0, 0.5267, 0.0, 0.0, 0.0, 0.0, -0.8386, 0.0, -0.2023], '2020-05-30': [0.0, -0.126], '2020-05-31': [0.0, 0.0, 0.0, 0.4404, 0.0, 0.0, -0.3818, 0.0258, -0.0531, -0.9861, 0.7845, 0.4939, -0.34, 0.9153, 0.9416], '2020-06-01': [0.0, 0.0, 0.4019, 0.9386, -0.8743, -0.8442, 0.0, -0.835], '2020-06-02': [0.0, 0.0, 0.0, -0.1774, 0.5423, 0.0, -0.2023, 0.4854, -0.9253, -0.5653, -0.5267, 0.7156], '2020-06-03': [0.0, 0.0, 0.0, 0.0, 0.0, 0.4019, -0.5423, 0.0, 0.0, -0.743], '2020-06-04': [-0.7351, 0.0, 0.6199, -0.2732, 0.0, -0.2732, 0.3612, 0.5106, 0.0258], '2020-06-05': [0.0, 0.0, 0.0, 0.0, 0.0, 0.0, 0.0, 0.6124, -0.6809999999999999, 0.4215, -0.0772], '2020-06-06': [0.0, 0.0, 0.0, 0.0, -0.9082, 0.0, -0.0139, 0.3612, 0.905], '2020-06-07': [-0.5574, 0.0, 0.0, 0.0, 0.4939, 0.4404, 0.0, 0.8957, -0.836, 0.9417, 0.6318], '2020-06-08': [0.0, 0.0, -0.2732, 0.2023, -0.5574, 0.5789, -0.8151, 0.7184, 0.0], '2020-06-09': [0.784, 0.6696, 0.0, 0.0, 0.0, 0.0, 0.0, 0.4939], '2020-06-10': [0.0, 0.29600000000000004, 0.0, 0.0, 0.1779, 0.4404, 0.3612, -0.8418, -0.0516, 0.7648, 0.0, 0.1779, 0.4588, 0.2263], '2020-06-11': [0.0772, 0.34, 0.0, 0.0, 0.0, -0.4215, -0.5423], '2020-06-12': [0.0, 0.0, 0.4278, 0.0, 0.743, 0.0, 0.0, 0.2263, -0.34, -0.29600000000000004, -0.6428, -0.29600000000000004, -0.4137], '2020-06-13': [0.0, 0.0, 0.5994, -0.2732, 0.9607, -0.0772, 0.9469, 0.8674, 0.9193, 0.9608], '2020-06-14': [0.4019, -0.2732, 0.0, 0.6705], '2020-06-16': [0.0, 0.0, -0.5106, -0.8878, 0.9349, 0.5256, 0.0, -0.4497], '2020-06-17': [0.0, 0.0, 0.0, -0.4215, 0.0, 0.0, 0.4404, 0.8047, 0.0, 0.0, 0.0, -0.7845], '2020-06-18': [-0.8122, 0.0, 0.0, 0.0, -0.6588, 0.2023, 0.1027, -0.6124, 0.2129, 0.0], '2020-06-19': [0.0, 0.0, -0.1818, 0.0, -0.5423, -0.7351, -0.6597, -0.6486, 0.5473, 0.0, 0.431], '2020-06-20': [0.0, 0.0, 0.0, 0.0, 0.0, -0.802, 0.0, 0.9601, 0.0, 0.5565], '2020-06-21': [0.5994, 0.0, 0.0, 0.0, 0.0, -0.8689, 0.34, 0.4215, 0.4939, 0.9801], '2020-06-22': [0.0, 0.4926, 0.0, 0.0, 0.0, 0.0, 0.0, 0.2023, 0.3535, 0.0, 0.0], '2020-06-23': [0.0, 0.0, 0.0, -0.4019, 0.0, -0.7579, -0.5859, 0.0, -0.29600000000000004], '2020-06-24': [0.0, 0.0, 0.0, -0.1873, -0.7964, 0.2023, 0.3773, -0.4588, 0.1796, 0.5106], '2020-06-25': [0.0, 0.0, 0.0, 0.0, 0.4927, -0.1027, -0.9829, 0.5106], '2020-06-26': [0.0, 0.3612, 0.0, 0.0, 0.3818, 0.6369, 0.0, 0.4754, -0.3182, 0.5783, 0.8794], '2020-06-27': [0.0, 0.0, 0.0, 0.0, 0.5106, -0.1779, 0.3612, 0.0, 0.1027, 0.0, -0.5972, 0.0], '2020-06-28': [0.0, 0.0, 0.0, 0.0, 0.3182, 0.0, -0.631, 0.0, 0.0], '2020-06-29': [0.5267, 0.5267, 0.0, 0.0, 0.0, 0.0, -0.2887, 0.0], '2020-06-30': [0.0, 0.0, 0.4939, 0.0, 0.0, 0.0, 0.0, 0.0258, 0.7137, 0.0], '2020-07-01': [0.0, 0.4939, 0.0, 0.4939, -0.29600000000000004, 0.4939, 0.1531, -0.5423, 0.34, 0.0, -0.659, 0.0], '2020-07-03': [0.1779, 0.4404, 0.1779, 0.0, 0.0, 0.7717, 0.25, 0.5242, 0.0, 0.8925, 0.5719, -0.0276], '2020-07-02': [0.0, 0.0, 0.0, -0.3919, -0.7906, 0.0], '2020-07-04': [0.5859, 0.1779, 0.1779, 0.0, 0.1779, 0.0, 0.9006, 0.7245, 0.0, 0.9604], '2020-07-05': [-0.1779, -0.1779, -0.1779, 0.3612, 0.0, 0.0, 0.7402, 0.0, 0.7269], '2020-07-06': [0.0, 0.0, 0.4404, -0.2732, 0.2263, 0.2263, 0.5984, 0.3612, 0.0, -0.7622, -0.7197, 0.802, 0.29600000000000004], '2020-07-07': [0.2732, 0.3818, -0.0258, 0.29600000000000004, 0.0, -0.946, -0.8074, 0.0], '2020-07-08': [0.0, -0.34, 0.0, 0.4767, 0.0, -0.8783, 0.1877, 0.4939, -0.7964], '2020-07-09': [-0.29600000000000004, 0.0, 0.4023, 0.0, -0.5362, -0.2498, -0.0356, 0.7033, 0.0, 0.0361, 0.0], '2020-07-10': [0.7456, 0.0, 0.0, 0.0, 0.0, 0.0, 0.6124, 0.9273, 0.4215, 0.0, 0.2732], '2020-07-11': [0.0, 0.0, -0.8439, 0.3384, 0.9609, 0.0, -0.8032], '2020-07-12': [0.0, 0.4003, 0.0, 0.0, 0.0, 0.0, 0.5932, 0.0, 0.0, -0.5423], '2020-07-13': [0.6486, 0.0, 0.3182, 0.0, -0.1406, 0.0, 0.7717, 0.0, 0.5964, 0.894, -0.6808], '2020-07-14': [0.0, 0.0, 0.25, 0.25, 0.0, -0.5106, 0.0, 0.0, -0.6597, 0.4404, 0.0, 0.0], '2020-07-15': [0.0, 0.0, 0.5719, 0.0, 0.0, 0.0, 0.0, 0.0, 0.0, 0.0, 0.0], '2020-07-16': [0.4019, 0.4023, 0.0, 0.0, -0.1114, 0.4162, 0.0, -0.7297, 0.0, 0.0], '2020-07-17': [-0.1531, 0.0, -0.2023, -0.0258, 0.4404, 0.4404, 0.8442, 0.7757, 0.0, 0.5789], '2020-07-19': [-0.2755, 0.0, 0.2023, 0.2023, 0.0, 0.0, 0.6249, 0.0, 0.4866, 0.0, 0.6705, 0.4404, 0.8838, -0.1742, 0.9684], '2020-07-18': [0.0, 0.2732, 0.0, 0.3919, -0.2263, 0.0], '2020-07-20': [0.0, 0.0, 0.0, 0.0, 0.9801, -0.0258, 0.0, 0.3612, 0.0], '2020-07-21': [0.25, 0.25, 0.0, 0.0, -0.2755, 0.3612, 0.0, -0.3612, 0.9927, 0.25, 0.0], '2020-07-22': [0.0, -0.5267, 0.0, 0.7579, 0.0, -0.5267, 0.9012, 0.0, -0.4019], '2020-07-23': [0.0, 0.0, -0.6808, 0.0, 0.34, 0.7096, 0.1531, 0.7269, 0.0, 0.7829, 0.9796], '2020-07-24': [0.0, 0.0, 0.0, 0.0, 0.0, -0.0341, 0.0516, 0.9062], '2020-07-25': [0.0, -0.5307, 0.0, 0.0, 0.0516, 0.0, 0.8679, 0.8268, 0.4678, 0.4404, 0.2023], '2020-07-27': [0.0, 0.7351, 0.7096, 0.0, 0.0, 0.5106, 0.0, 0.0, 0.9153, -0.4019, -0.2263, 0.1779, -0.1255, -0.2732, 0.8], '2020-07-26': [0.0, 0.4588, 0.9561, 0.5994, 0.8205, 0.9591, 0.5106], '2020-07-28': [0.0, -0.2263, 0.8622, -0.9318, 0.0], '2020-07-29': [0.0, 0.1779, 0.1779, 0.1779, 0.0, -0.0516, 0.0, 0.0, -0.1027, -0.8304, -0.5267, 0.1779, 0.0], '2020-07-30': [-0.4588, 0.2023, -0.3182, 0.0, -0.9128, 0.8413, -0.4767, 0.466, 0.0, 0.2263, 0.4215], '2020-07-31': [0.4767, 0.4404, 0.0, 0.0, 0.0, 0.0, 0.8235, -0.4767, 0.0258, 0.0, 0.4404], '2020-08-01': [0.29600000000000004, 0.882, 0.0, 0.0, 0.0, 0.0, 0.4003, -0.264], '2020-08-02': [0.2023, 0.2023, 0.5267, 0.0, 0.34, 0.0, -0.5574, -0.6459999999999999, 0.4404], '2020-08-03': [0.3164, -0.29600000000000004, 0.34, 0.34, 0.34, 0.34, 0.0, 0.2023, -0.128], '2020-08-05': [0.0, 0.0, 0.0, 0.4466, 0.0, 0.0, 0.1779, 0.4466, 0.0], '2020-08-04': [0.0, 0.0, 0.0, 0.3818, 0.2617, -0.9102, -0.1531, 0.0, 0.29600000000000004, -0.469, 0.2263, 0.1531, -0.8119], '2020-08-06': [0.0, 0.0, -0.1531, 0.5106, 0.0, -0.3595, 0.1779, 0.5859, 0.7906], '2020-08-07': [0.0, 0.0, 0.0, 0.2023, -0.5106, 0.0, 0.3612, 0.0, 0.5707, 0.7034, 0.6908, 0.816, 0.9217], '2020-08-08': [0.0, 0.3612, 0.6597, 0.0, 0.9467], '2020-08-09': [0.0, 0.0, 0.1589, 0.0, 0.0, 0.3164, 0.0, 0.3612, 0.0, 0.0, 0.5994, 0.0], '2020-08-10': [0.0, 0.0, -0.29600000000000004, 0.0, 0.0, 0.0, 0.0, 0.0, 0.1779, -0.5423], '2020-08-11': [-0.4767, 0.0, 0.0, 0.0, 0.2023, 0.0, 0.0, 0.8399, 0.0, 0.9495], '2020-08-12': [0.0, -0.0516, -0.25, 0.5837, -0.2023, 0.1779, 0.4404, 0.0], '2020-08-13': [0.0, 0.0, 0.0, 0.2023, 0.0, -0.2732, 0.0, 0.9306, 0.0, 0.0, -0.9205, -0.6476], '2020-08-14': [-0.2263, 0.0, -0.29600000000000004, 0.2023, 0.0, -0.9357, -0.7845, 0.5574, 0.4215, 0.4939, -0.8352], '2020-08-15': [0.0, 0.0, 0.0, 0.0, 0.0, 0.128, -0.3182, 0.4215], '2020-08-16': [0.4404, 0.0, 0.0, 0.0, -0.5904, 0.0, 0.0, 0.0, 0.0], '2020-08-17': [0.5267, 0.0, 0.0, 0.0, 0.2023, 0.34, 0.0, -0.8548, 0.0, -0.9769, 0.5719, -0.0772, 0.0], '2020-08-19': [0.0, 0.0, 0.4404, 0.0, -0.3736, 0.0, 0.0, 0.2023, 0.5859, 0.0, 0.0, 0.0516, 0.0, 0.2732, 0.4767, -0.29600000000000004], '2020-08-18': [-0.2263, -0.2533, -0.3818, 0.0, -0.5766], '2020-08-20': [0.3182, 0.0, 0.0, 0.0, 0.0, 0.0, -0.2732, 0.2023, -0.128], '2020-08-21': [0.0, 0.0, 0.0, 0.4767, 0.3612, 0.0, 0.0], '2020-08-22': [0.0, 0.0, 0.0, 0.6369, 0.4019, 0.4019, 0.3612, 0.4588, 0.0, 0.0, 0.0, 0.8402, 0.0], '2020-08-23': [0.0, 0.4404, -0.5423, 0.34, -0.5423], '2020-08-24': [0.0, 0.0, 0.0, -0.4019, 0.0, 0.0, -0.7412, 0.4754, 0.0, -0.6428, 0.5719], '2020-08-25': [-0.0516, 0.3695, 0.0, -0.1531, -0.5574, 0.2023, 0.0, 0.0, 0.0, 0.0, 0.0, 0.0772], '2020-08-26': [0.29600000000000004, 0.34, 0.0, 0.0, -0.2883, -0.3818, -0.5859, 0.0, 0.1027, -0.5859], '2020-08-27': [0.0, 0.3818, 0.5574, -0.29600000000000004, 0.0, 0.0, 0.3182, 0.2263, -0.128, 0.0, -0.2732, 0.0], '2020-08-28': [0.0, -0.7236, -0.7236, 0.0, -0.8504, 0.0, 0.3182, -0.7564, 0.0], '2020-08-29': [0.5267, 0.0, 0.0, 0.1058, 0.6249, 0.0, -0.7184, 0.8622, -0.6652], '2020-08-30': [0.128, 0.0, 0.0, 0.0, 0.0, 0.0, 0.3612, 0.5106, 0.0, 0.3612], '2020-08-31': [0.2144, 0.25, 0.0, 0.0, 0.0, -0.6083, 0.8777, 0.0, 0.128, 0.29600000000000004, 0.7133, -0.5423], '2020-09-01': [0.0, 0.29600000000000004, 0.0, 0.0, 0.0, -0.4152, 0.9498, 0.7351, 0.0, 0.6249], '2020-09-02': [0.0, -0.6597, 0.0, -0.29600000000000004, 0.0, -0.5423, 0.0, 0.0], '2020-09-03': [0.0, -0.4019, 0.0, 0.4019, 0.0, 0.0, -0.6249, 0.0, 0.0, 0.0, -0.1697, -0.8806, -0.7121, 0.0], '2020-09-04': [0.0, 0.0, 0.0, 0.0, 0.0, 0.0, 0.7841, 0.784], '2020-09-05': [0.0, 0.0, 0.0, 0.3182, -0.34, 0.1531, 0.8271, 0.4939, 0.0, -0.7935, 0.4404, 0.4215], '2020-09-07': [0.6408, 0.5719, 0.0, 0.0, 0.3612, 0.0], '2020-09-06': [0.0, 0.0, 0.29600000000000004, 0.5267, 0.9463, 0.0, -0.7579, 0.3506, 0.0], '2020-09-08': [0.0, 0.4404, -0.25, 0.0, 0.0, -0.4588, 0.0, 0.0, 0.0772, 0.802, -0.204, 0.0, -0.5574], '2020-09-09': [0.3182, -0.6249, -0.3182, 0.0, -0.1027, 0.0, -0.5423, -0.6628, 0.0, 0.0772], '2020-09-10': [-0.3182, 0.34, 0.0, 0.0, 0.0, 0.0, 0.3788, -0.8396, -0.8705, 0.4404, -0.8803], '2020-09-11': [0.0, -0.4404, -0.4404, 0.7783, 0.0, 0.3182, 0.4019, 0.2263, 0.6369, -0.6486], '2020-09-12': [0.0, 0.0, -0.2732, -0.6486, -0.294, 0.9758, 0.4404], '2020-09-13': [-0.1531, 0.4265, 0.0, -0.0258, 0.6588, -0.1043, 0.4404, 0.0, 0.0, 0.1926, -0.9428, 0.0], '2020-09-14': [0.2023, 0.0, 0.0, 0.3818, 0.6124, 0.4588, -0.3182, -0.2263], '2020-09-15': [0.4588, 0.6166, 0.7096, 0.0, 0.2023, -0.3818, -0.0516, 0.2732, 0.4588, 0.0, -0.5423, 0.6767, -0.5574], '2020-09-16': [0.2732, 0.0, 0.2023, 0.0, 0.0, 0.0, 0.0, 0.0, 0.8797], '2020-09-17': [0.0, 0.7717, 0.0, 0.0, -0.1783, 0.4215, 0.4404, -0.0679, 0.9722, -0.9201, 0.0], '2020-09-18': [0.0, 0.0, 0.0, -0.1027, -0.3412, -0.5267, 0.3736, 0.0, 0.2944, 0.0, 0.128], '2020-09-20': [0.0, 0.0, 0.4019, -0.5423], '2020-09-19': [0.0, 0.0, 0.34, 0.34, 0.0, 0.987, 0.0, -0.8469, 0.6369], '2020-09-21': [0.0, 0.0, -0.4404, -0.29600000000000004, -0.4767, 0.2023, 0.0, 0.0, 0.0, 0.0, 0.1511, -0.5267, 0.4574, 0.4019, 0.29600000000000004], '2020-09-22': [0.0, 0.0, 0.7579, -0.34, 0.4003, 0.0, 0.0, -0.8481], '2020-09-23': [0.0, 0.5859, 0.0, 0.0, 0.0, -0.1531, 0.6423, -0.5267, 0.7351, 0.0], '2020-09-24': [0.6369, 0.0, 0.0, 0.6688, 0.2584, -0.4753, 0.0, -0.2698, 0.6369, 0.8402, 0.0, -0.34, -0.5229, -0.5423], '2020-09-25': [0.6996, 0.2023, 0.0, 0.0, 0.5411, -0.4939, -0.3182, -0.2732, 0.0], '2020-09-26': [0.0, 0.0, 0.34, -0.4767, -0.4404, 0.8225], '2020-09-27': [0.0, 0.4574, 0.0, 0.0, 0.0, 0.0, -0.9343, 0.7992, -0.4512, 0.4588, 0.0], '2020-09-28': [0.0, -0.6249, 0.7178, 0.0, 0.0, 0.0258, -0.7661, 0.3818], '2020-09-29': [0.0, 0.2732, 0.5859, -0.3804, 0.0, 0.0, 0.4019, -0.4337, 0.0, 0.0516, 0.8939], '2020-09-30': [0.0, 0.0, 0.2023, 0.0, 0.0772, -0.9118, -0.4767, 0.4588, 0.6369, 0.9802], '2020-10-01': [0.29600000000000004, 0.29600000000000004, 0.2023, 0.2023, -0.29600000000000004, -0.594, 0.7964, 0.5859, -0.2023, -0.5293, 0.9704, -0.2263, 0.3612], '2020-10-02': [0.0, 0.2732, 0.0, 0.4404, 0.0, -0.5574, 0.0, 0.0, -0.0258, 0.29600000000000004], '2020-10-03': [0.0, 0.0, 0.0, 0.0, 0.0, 0.0, 0.0772, 0.1027], '2020-10-04': [0.0, 0.0, 0.0, 0.0, 0.0, 0.0, 0.0, -0.3818, 0.6369, -0.6559999999999999, -0.5994], '2020-10-06': [0.0, 0.0, 0.0, 0.0, -0.5255, -0.4588, -0.9432, 0.0, 0.0, 0.0, -0.9584, -0.5423], '2020-10-05': [0.0, 0.0, 0.0, -0.7476, -0.5574, 0.0, 0.3182, 0.0], '2020-10-07': [0.0, 0.0, 0.0, 0.5473, 0.5949, -0.802, 0.7512, 0.0, 0.0], '2020-10-08': [0.4576, 0.0516, 0.0516, 0.0, 0.0, 0.3612, -0.6369], '2020-10-09': [0.0, -0.5267, 0.0, 0.0, 0.7319, 0.7351, 0.4588, -0.7837, -0.3612, 0.0, -0.8916, -0.1531, 0.0, 0.0, 0.0, -0.2263], '2020-10-10': [0.0, 0.0, 0.0, 0.0, 0.0, -0.8025, 0.29600000000000004], '2020-10-11': [0.0, 0.0, -0.5574, 0.4329, 0.0, 0.2023, 0.9386, 0.0, -0.7717, 0.7345], '2020-10-12': [0.765, 0.0, 0.4404, 0.4019, 0.0, 0.0, 0.0, 0.0, 0.0, -0.7906, 0.0, -0.5095], '2020-10-13': [0.0, -0.3182, 0.4404, 0.0, 0.0, 0.34, 0.5859, 0.0, 0.1516, 0.128, 0.0], '2020-10-14': [0.2023, 0.0, 0.0, 0.9452, 0.8625, 0.5473, -0.024], '2020-10-15': [0.0, 0.0, 0.0, 0.2023, 0.5859, 0.0, 0.0, 0.0, 0.4588, 0.3274, 0.0, 0.0, 0.5994], '2020-10-16': [0.0, 0.2023, 0.6588, -0.7096, -0.2263, 0.1779, 0.0, -0.9309, -0.8481, -0.3412], '2020-10-17': [0.0, 0.0, 0.0, 0.0, 0.0, -0.5423, -0.5719, 0.0, 0.3612], '2020-10-18': [0.0, 0.0, 0.0, 0.4703, 0.0, -0.29600000000000004, 0.1635, -0.6597, 0.6249], '2020-10-19': [0.34, 0.0, 0.5859, 0.0, 0.0, 0.0, 0.7581, 0.0, -0.5106, 0.0, -0.5423, -0.4215, 0.0], '2020-10-20': [0.0, 0.0, 0.6166, -0.3695, 0.34, 0.0, 0.2263, 0.0], '2020-10-21': [0.0, 0.0, 0.0, 0.25, -0.8442, -0.4939, -0.1363, -0.2263], '2020-10-22': [0.4588, -0.1531, 0.0, 0.0, -0.4767, 0.09, 0.8511, 0.0, 0.0, 0.0], '2020-10-23': [0.0, 0.0, 0.0, 0.29600000000000004, 0.0, 0.0, -0.1027, -0.5423, 0.0, 0.0, 0.4404, -0.2263], '2020-10-24': [0.8225, 0.0, 0.0, 0.0, 0.0, 0.0, 0.7469, 0.0, 0.0, -0.5574], '2020-10-25': [0.0, 0.0, 0.0, 0.0, 0.0, 0.8074, 0.2023], '2020-10-26': [0.0, 0.3818, 0.0, 0.2023, 0.0, -0.128, -0.3089, 0.0, 0.7713, -0.7351, 0.5574], '2020-10-27': [0.1779, 0.2023, 0.0, 0.2023, 0.0, 0.2023, 0.0, -0.5423, 0.5574, 0.6124], '2020-10-28': [0.0, 0.0, 0.0, 0.5043, 0.4019, 0.6509999999999999, -0.4767, -0.5994, 0.7269, 0.4404, -0.2338, 0.29600000000000004], '2020-10-29': [0.0, 0.4576, 0.0, 0.4278, 0.6996, -0.2743, -0.2023, 0.0, 0.0, -0.9418, -0.25], '2020-10-31': [0.0, 0.6369, 0.4404, -0.6775, 0.0928, 0.7003, 0.0, -0.4588, 0.0, 0.0258], '2020-10-30': [-0.6249, 0.0, 0.1027, 0.3182, 0.29600000000000004, 0.0, 0.1027, 0.1406], '2020-11-01': [0.5859, 0.0, 0.4019, 0.0, 0.0, 0.3818, 0.2023, 0.4404], '2020-11-02': [0.0, 0.0, 0.6996, 0.0, 0.0, 0.4576, 0.64, 0.0, -0.6369, 0.4019, 0.4215, 0.0, 0.0, -0.2263], '2020-11-03': [0.0, 0.0, 0.2023, 0.0, 0.0516, 0.2263, 0.0], '2020-11-04': [0.0, 0.0, 0.0, 0.34, 0.2023, 0.0, -0.8555, -0.4767, 0.0, -0.3818, -0.2263, 0.4404, 0.0, 0.4767], '2020-11-06': [0.0, 0.5661, 0.0, 0.0, 0.0, 0.9386, 0.0], '2020-11-07': [0.0, 0.0, 0.0, 0.0, -0.3182, 0.4404, 0.34], '2020-11-08': [-0.3384, 0.0, 0.0, 0.0, 0.0772, 0.0, 0.8073, 0.7003, 0.0, 0.0, 0.0], '2020-11-09': [0.0, 0.0, 0.0, -0.128, -0.5267, 0.5859, 0.0, 0.6597, -0.4981, -0.1779], '2020-11-10': [0.0, 0.0, 0.0, 0.0, 0.1027, 0.4404, 0.6249, 0.3182, -0.29600000000000004], '2020-11-11': [0.0, 0.4404, 0.0, 0.5859, 0.4576, 0.0, 0.0, 0.0, -0.6914, 0.9241, 0.0, 0.0, 0.0], '2020-11-12': [0.0, 0.0, 0.0, -0.1531, 0.0, 0.3612, 0.9428, -0.34, 0.0, -0.5553], '2020-11-13': [0.0, -0.3182, 0.8091, 0.0, -0.2732, 0.8091, -0.25, -0.2732, 0.0, 0.9297, 0.3612, 0.855], '2020-11-14': [-0.34, 0.0, 0.0, -0.5267, 0.34, 0.0, 0.0], '2020-11-15': [0.0, -0.1531, -0.3182, 0.6486, 0.5319, -0.6486, 0.0772, -0.6705, 0.7003, 0.0, -0.5423, 0.9378], '2020-11-16': [0.0, 0.0, 0.6996, 0.6996, 0.8588, 0.9482], '2020-11-17': [0.0, 0.0, 0.4404, 0.0, 0.2023, 0.0, 0.4576, -0.0516, 0.0, 0.9674, 0.0, 0.0, 0.0, 0.0], '2020-11-18': [0.0, 0.0, 0.4576, 0.2023, -0.5859, 0.1779, 0.0], '2020-11-19': [0.7269, 0.0, 0.0, 0.0, 0.0, 0.4404, 0.29600000000000004, 0.0, -0.8162, 0.0, -0.4019, 0.0, 0.8862, 0.0], '2020-11-20': [0.0, 0.0, 0.0, 0.0, 0.0, 0.8882, 0.0, -0.6408, 0.3612, 0.0], '2020-11-21': [0.4278, -0.5106, 0.4754, 0.0, -0.2023, 0.4754, 0.0], '2020-11-22': [0.3182, 0.0, -0.4215, 0.0, 0.0, 0.4019, 0.0, 0.1154, -0.6597, 0.0, 0.0516, 0.0, -0.6664, -0.2629], '2020-11-23': [0.4754, -0.6428, 0.0, 0.0, 0.0, 0.1531, 0.3612, -0.6187, 0.7184, 0.3612], '2020-11-25': [-0.3818, 0.0, 0.0, 0.0, 0.0, 0.0, 0.4754, -0.0516, 0.0, 0.0, -0.8214, -0.2263, 0.8476, 0.4754, 0.0], '2020-11-24': [0.0, -0.3182, -0.3182, 0.0], '2020-11-26': [0.0, 0.29600000000000004, 0.765, -0.3182, 0.8507, 0.0, -0.4836, 0.0, 0.6249, 0.4939], '2020-11-27': [0.29600000000000004, 0.0, 0.4574, 0.0, 0.3182, 0.4404, 0.0, 0.5859, 0.3612, 0.4588], '2020-11-28': [0.25, 0.29600000000000004, 0.0, 0.0, 0.0, 0.8588], '2020-11-29': [0.0, 0.0, 0.0, 0.0, 0.0516, -0.1531, 0.0, 0.0, 0.0, 0.1511], '2020-11-30': [0.368, 0.0, 0.0, 0.0, 0.0, 0.0, 0.0, 0.4576, -0.831, -0.5984, 0.0, 0.3763], '2020-12-01': [-0.5423, 0.5859, -0.0516, 0.6369, -0.7906, 0.0, 0.0, -0.1531, 0.4404, 0.0, 0.0], '2020-12-02': [0.5106, 0.0, 0.0, 0.3034, 0.765, -0.8590000000000001, 0.9584, 0.0, 0.0], '2020-12-03': [0.0, 0.0, 0.0, 0.0, -0.3094, 0.0, 0.1779, -0.5775, 0.2905, 0.0, -0.5399], '2020-12-04': [0.0, 0.0, 0.0, 0.4588, 0.0, 0.0, -0.2944, 0.4404, -0.4404], '2020-12-05': [0.0, 0.7213, 0.25, 0.6428, 0.0, 0.5423, 0.0, 0.0, 0.3071], '2020-12-06': [0.0, 0.0, 0.4019, 0.0, 0.0, 0.0], '2020-12-07': [0.2486, 0.0, 0.4588, 0.29600000000000004, 0.0, -0.4019, -0.2023, -0.3182, 0.0, -0.8126, 0.0772, -0.5106], '2020-12-08': [0.0, -0.0165, 0.0, 0.7916, 0.0, 0.9684, 0.5346, 0.0, 0.0, 0.9042, 0.5994], '2020-12-09': [0.4939, 0.0, 0.6996, 0.7916, 0.0, 0.0, 0.0, 0.0, 0.0, 0.0, 0.0, 0.0], '2020-12-10': [0.0, 0.0, 0.4588, 0.4019, 0.0, 0.0, -0.4019, 0.882, 0.6492, -0.743, -0.5106], '2020-12-11': [0.7249, 0.0, 0.4404, 0.0, 0.0, 0.5584, -0.1027, 0.3291, 0.1737], '2020-12-12': [-0.4019, -0.4019, 0.0, 0.0, 0.8061, 0.51, 0.0, 0.6369], '2020-12-13': [0.4019, 0.0, 0.0, 0.5932, 0.4754, 0.0, -0.4019, 0.3182, 0.6597, 0.4215], '2020-12-14': [0.0, 0.0, 0.0, 0.2023, -0.3612, 0.0, -0.5574, 0.6236, 0.0, 0.9386, -0.6948], '2020-12-15': [0.0, 0.0, 0.0, 0.0, 0.7096, 0.5374, 0.9386, 0.9886, 0.4717, -0.1531, 0.0, -0.2944], '2020-12-16': [-0.4871, 0.4588, 0.2023, 0.0, -0.5859, -0.29600000000000004], '2020-12-17': [-0.5423, -0.2732, -0.5319, 0.0, 0.0, 0.0, 0.4588, -0.7584, -0.3261, -0.5267, 0.0, 0.4215, 0.8628], '2020-12-18': [-0.3612, 0.0, 0.3818, 0.0, 0.29600000000000004, 0.4588, 0.0, -0.8591, 0.34, 0.0], '2020-12-19': [0.4754, 0.0, 0.6249, 0.7913, -0.2382, 0.1829, 0.0], '2020-12-20': [0.0, 0.6908, 0.0, 0.0, -0.8271, 0.0, -0.5719, -0.29600000000000004, 0.3612, 0.0, 0.9997], '2020-12-21': [-0.5096, 0.0, 0.4019, 0.0, 0.0, -0.2059, 0.0, -0.5106, 0.9013, 0.8834, 0.0, 0.0, -0.3962], '2020-12-22': [0.0, 0.0, 0.0, 0.0, 0.0, 0.0, 0.0, 0.9692, 0.4019, 0.0, 0.5023], '2020-12-23': [0.6369, 0.0, 0.4404, 0.0, 0.4576, 0.0, 0.0, 0.4137, -0.5106, 0.0, 0.0], '2020-12-24': [0.2023, 0.0, -0.4767, -0.4019, 0.0, 0.0, 0.0772, 0.9551, 0.0, 0.5173], '2020-12-25': [-0.8176, 0.0, -0.8176, 0.0, 0.9136, 0.7385, 0.8202, 0.34, 0.4019], '2020-12-26': [0.0, 0.4754, 0.9124, 0.5423, 0.8173, 0.0, 0.7140000000000001], '2020-12-27': [-0.2263, 0.6369, 0.5106, 0.0, 0.0, 0.0, 0.0, 0.2023], '2020-12-28': [0.0, 0.0, 0.0, 0.128, -0.2023, 0.0, 0.0, 0.3612, 0.0, 0.0, 0.0, 0.0], '2020-12-29': [0.0, 0.6369, 0.0, 0.0, 0.0, -0.9976, 0.0, 0.0, 0.0, 0.0772], '2020-12-30': [0.3922, 0.0, 0.4215, 0.0, 0.0, 0.0, 0.0, 0.9747, -0.3612, -0.0516], '2020-12-31': [0.4576, 0.5859, 0.4576, 0.0, 0.0, -0.3612, 0.0, 0.624, -0.1027, 0.0, 0.9094, 0.0, 0.0, -0.10099999999999999], '2021-01-01': [0.0, 0.4754, 0.34, 0.0, 0.5106, 0.0, 0.0], '2021-01-03': [0.4404, 0.8313, -0.2732, 0.4754, -0.4019, -0.5106, 0.0, 0.0, -0.7351], '2021-01-02': [0.0, 0.0, 0.0, -0.0534, -0.7096, 0.2382, -0.7964, 0.5213, 0.0, -0.6696], '2021-01-04': [0.0, 0.4754, 0.0, 0.0, 0.0, 0.3612, 0.0, 0.128, 0.6124, 0.3612, 0.0, 0.0, -0.3182], '2021-01-05': [0.0, -0.1027, 0.0, -0.3412, -0.4588, 0.6908, 0.9572, -0.3919], '2021-01-06': [0.0, 0.0, 0.4682, -0.9081, 0.8129, 0.6046, -0.4019, 0.0], '2021-01-07': [0.0, 0.0, 0.0, 0.0, 0.0, 0.4588, 0.4588, 0.0, -0.0946, 0.0, 0.6597, 0.0, -0.624], '2021-01-08': [0.0, 0.0, 0.0, 0.4588, 0.0, 0.0, -0.7003, 0.128], '2021-01-09': [0.0, 0.0, 0.1779, 0.29600000000000004, 0.29600000000000004, 0.0, 0.0, -0.3527, -0.9499, 0.8519, 0.6395, 0.4854], '2021-01-11': [0.0, 0.0, 0.0, 0.0, 0.0, 0.0, 0.0, 0.0, 0.5106, 0.5719, -0.8765, -0.6597, 0.0, 0.9313], '2021-01-10': [0.0, 0.3612, 0.0, 0.0, 0.0, -0.29600000000000004], '2021-01-12': [0.4588, 0.0, 0.3016, 0.3612, 0.4404, -0.6523, 0.0, 0.0, 0.7351, 0.9425, 0.0], '2021-01-13': [0.4278, 0.6908, 0.802, 0.0, 0.0, 0.4588, 0.0, 0.0, 0.0], '2021-01-14': [-0.29600000000000004, 0.0, 0.0, 0.34, 0.0, 0.0, 0.6369, -0.2263, -0.8122], '2021-01-16': [0.0, 0.0, 0.0, 0.5514, 0.0, 0.0, 0.1635, -0.25, -0.4215, 0.0], '2021-01-15': [0.2732, 0.0, 0.2023, 0.0, -0.3535, 0.0, -0.2732, 0.0, 0.3802, 0.0, 0.29600000000000004, 0.0], '2021-01-17': [0.4696, 0.0, 0.0, 0.6369, 0.8032, 0.9317, 0.7184, 0.34], '2021-01-18': [0.0, 0.0, 0.4754, 0.0, -0.6428, 0.431, 0.25, 0.0], '2021-01-19': [0.0, -0.25, 0.7845, 0.0, 0.0, 0.0, 0.9608, -0.8519, 0.765, 0.9016, 0.0, -0.6115], '2021-01-20': [0.29600000000000004, 0.0772, 0.4767, 0.5562, 0.6705, 0.0, 0.4749, 0.0, 0.7656, 0.5106, 0.4767], '2021-01-21': [0.3802, 0.4588, 0.6767, 0.0, 0.0, 0.9524, 0.5709, -0.0516, 0.0, 0.6486], '2021-01-22': [0.0, 0.4278, 0.0, 0.0, 0.0, 0.4215, 0.29600000000000004, 0.0, 0.0], '2021-01-23': [0.0, 0.0, -0.4708, -0.2732, 0.6369, 0.0, 0.7992, 0.552, 0.8602], '2021-01-24': [0.0, 0.34, 0.3818, 0.0, 0.0, 0.4927, 0.3973, 0.4939, 0.0, 0.0, 0.2263, 0.0, 0.0, 0.1139], '2021-01-25': [0.6351, 0.0, 0.0, 0.0, 0.0], '2021-01-26': [0.34, 0.34, 0.4404, 0.5859, 0.0], '2021-01-27': [0.0, 0.0, -0.2732, -0.4767, 0.0, 0.0, 0.0, 0.0, 0.0], '2021-01-28': [0.0, 0.4576, 0.6478, 0.4019, 0.2263, -0.4767, -0.1531, 0.6576, 0.5908, 0.0], '2021-01-29': [0.4926, -0.6808, 0.0, 0.2023, -0.5994, 0.34, -0.1007, 0.29600000000000004, 0.0772, 0.3612], '2021-01-30': [-0.6997, 0.6369, 0.5859, -0.6249, -0.29600000000000004, 0.29600000000000004, 0.5267], '2021-01-31': [0.0, -0.3968, 0.25, 0.0, 0.0, -0.7269, -0.128, -0.8894, 0.4588, 0.4767, 0.0, -0.5859], '2021-02-01': [0.0, 0.1779, 0.0, -0.2732, -0.5229, -0.2998], '2021-02-02': [-0.29600000000000004, 0.0, -0.9627, 0.6966, -0.3182, 0.0, 0.0, 0.0, -0.5423, 0.5434, 0.0, 0.0], '2021-02-03': [0.5574, 0.0, 0.0, 0.4019, 0.8299, -0.1045, 0.6351, 0.5624, -0.0516, 0.5859, 0.0, 0.7425], '2021-02-04': [0.0, 0.0, 0.6808, 0.0, 0.7906, 0.0, 0.0], '2021-02-08': [0.0, -0.4588, 0.0, 0.0, 0.0, 0.4576, 0.5622, 0.8172, 0.0, 0.0, 0.4939, 0.0, -0.6429, -0.7003, 0.0, 0.0], '2021-02-09': [0.0, 0.0, 0.0, 0.0, 0.0, -0.5574, 0.3182, -0.5106, 0.0, -0.5106, -0.4767], '2021-02-10': [0.0, 0.0, 0.2023, 0.4576, 0.7701, -0.6096, 0.3818, 0.34, 0.0], '2021-02-11': [0.0, 0.0, 0.0, 0.0, 0.0, -0.7351, 0.6428, -0.4019, 0.6428, -0.25, 0.0, 0.0, 0.4215, 0.784], '2021-02-12': [0.0, 0.0, 0.4576, 0.2023, 0.0, 0.7582, -0.8074, 0.2023, -0.765], '2021-02-13': [0.0], '2019-03-09': [0.2732, -0.0516, 0.0, 0.0], '2019-03-16': [0.9861, 0.9499], '2019-04-06': [0.3331, -0.29600000000000004, 0.8529, 0.0], '2019-05-11': [0.7346], '2019-05-18': [-0.29600000000000004, 0.9178, -0.284, -0.7184, -0.9570000000000001, 0.4215], '2019-05-26': [0.4767, 0.0, -0.3182], '2019-06-23': [0.4939, -0.8591, -0.8738, 0.7941, 0.5859], '2019-09-19': [-0.7416, 0.8957, 0.2771, 0.2732, 0.3612, 0.0], '2019-11-23': [0.0, 0.0, 0.0, 0.2263], '2020-01-07': [0.9253, 0.0772, 0.0, 0.4404], '2020-06-15': [0.6965, 0.0, 0.3818, 0.0, -0.29600000000000004, 0.7479]}\n"
     ]
    }
   ],
   "source": [
    "print(DateToSentiment_dict)"
   ]
  },
  {
   "cell_type": "code",
   "execution_count": 5,
   "metadata": {},
   "outputs": [
    {
     "name": "stdout",
     "output_type": "stream",
     "text": [
      "[('2019-02-13', [0.0, -0.29600000000000004, 0.0, 0.0, 0.0, 0.0, -0.29600000000000004, -0.29600000000000004]), ('2019-02-14', [0.29600000000000004, 0.4019, 0.0, 0.0, 0.0, 0.8105, 0.9422, 0.0, 0.0, 0.0, 0.9416]), ('2019-02-15', [-0.29600000000000004, 0.0, 0.0, 0.5719, 0.0, -0.2617, -0.8693]), ('2019-02-16', [-0.2003, 0.0, 0.8079999999999999, 0.0, 0.7184, 0.8481, 0.0, 0.8779]), ('2019-02-17', [0.0, 0.5994, 0.0, -0.2003, 0.0, 0.9927, 0.0, 0.9922]), ('2019-02-18', [-0.7003, 0.0, 0.0, 0.0, 0.2023, -0.1779, 0.0, 0.0, 0.0, 0.5574, -0.1027, 0.8625, 0.9882, -0.4019, 0.7789, 0.0]), ('2019-02-19', [0.4019, 0.0, 0.0, 0.0, 0.0, 0.0, 0.5574, 0.6597, -0.34, 0.9867]), ('2019-02-20', [-0.4404, 0.0, 0.0, 0.0, 0.29600000000000004, 0.0, 0.0]), ('2019-02-21', [0.5719, -0.765, 0.0, 0.0, 0.0, 0.0, 0.0, 0.4215, 0.0, 0.0094, 0.0, 0.0, 0.0]), ('2019-02-22', [0.0, 0.0, 0.0, 0.0, 0.0, 0.504, 0.0139, 0.2732, 0.3284, 0.1655]), ('2019-02-23', [0.2023, 0.0, 0.0, 0.0, 0.2924, 0.0, 0.5267]), ('2019-02-24', [0.0, 0.0, 0.8509, 0.0, -0.7322, 0.0772, 0.0]), ('2019-02-25', [-0.3089, 0.0, 0.0, 0.0, -0.7399, 0.8625, 0.0, 0.0, 0.6249, 0.6604, 0.0]), ('2019-02-26', [0.0, 0.0, 0.0, 0.3182, 0.1027, 0.8519, -0.6486, -0.5859]), ('2019-02-27', [-0.5106, 0.0, 0.4588, 0.0, 0.1779, 0.8257, 0.4215, 0.9725, 0.0, 0.0, 0.0]), ('2019-02-28', [0.4019, 0.0, 0.0, 0.0, 0.0, -0.1027, 0.5859, 0.8946, 0.0772, 0.0, 0.0772, -0.3818]), ('2019-03-01', [0.0, 0.0, 0.0, 0.0, 0.0, 0.0, 0.8016, 0.5106]), ('2019-03-02', [0.3818, 0.7013, 0.7227]), ('2019-03-03', [0.0, 0.34, 0.4215, 0.8795, 0.0258, 0.0516, 0.8915, 0.0, 0.0]), ('2019-03-04', [0.0, 0.0, 0.0, -0.5514, 0.0, 0.9291, 0.5221, 0.9284]), ('2019-03-05', [0.0, 0.0, 0.2263, 0.0, 0.4714, 0.0, 0.4588, 0.4199, 0.5423]), ('2019-03-06', [0.0, 0.0, 0.0, 0.34, 0.0, 0.0, 0.445, 0.0772, 0.0, 0.4404, 0.875, -0.7003]), ('2019-03-07', [0.0, -0.4767, 0.8074, -0.1531, 0.0]), ('2019-03-08', [0.0, 0.0, 0.0, 0.0, 0.6808, -0.5423, 0.5204, -0.5719, 0.9553, 0.4933, 0.0]), ('2019-03-09', [0.2732, -0.0516, 0.0, 0.0]), ('2019-03-10', [0.0, 0.0, 0.0, 0.0, 0.7003, 0.2023, 0.2247]), ('2019-03-11', [0.0, 0.34, 0.0, -0.4019, 0.0516, -0.128, 0.6565, 0.5859, 0.4019, 0.0, 0.9918, 0.9022, -0.1531, -0.1779]), ('2019-03-12', [0.0, 0.0, 0.0, 0.0, 0.0, 0.2023, 0.0, 0.1124, 0.5399, 0.0, 0.9333]), ('2019-03-13', [0.0, 0.0, 0.0, 0.0, -0.2732, 0.29600000000000004, 0.4019]), ('2019-03-14', [0.0, 0.0, 0.0, 0.5093, 0.5267, 0.0, 0.0, 0.3182, 0.0, 0.0, 0.0, 0.5962, 0.8340000000000001]), ('2019-03-15', [0.5093, 0.0, 0.4215, 0.0, 0.0, 0.3818, 0.8909999999999999, 0.0, -0.7178, 0.7402]), ('2019-03-16', [0.9861, 0.9499]), ('2019-03-17', [0.0, 0.0, 0.0, 0.4019, 0.4215, -0.2874]), ('2019-03-18', [0.0, 0.4767, 0.0, 0.0, 0.5093, 0.0, 0.9536, 0.4767, -0.8377, 0.0, -0.1531, 0.34, -0.2732, -0.2732, 0.0]), ('2019-03-19', [0.0, 0.0, 0.0, 0.0, 0.0, 0.0, 0.0, 0.0]), ('2019-03-20', [0.5093, 0.0, 0.2732, 0.0, 0.0, 0.8934, -0.0258, 0.6124]), ('2019-03-21', [-0.4939, 0.0, 0.0, 0.0, 0.0, 0.0, 0.5093, -0.5574, -0.5859, -0.4561]), ('2019-03-22', [0.0, 0.4019, 0.0, 0.34, 0.4808, 0.0772, 0.5423, 0.0, 0.0]), ('2019-03-23', [0.0, 0.0, 0.0, 0.9482, 0.0, -0.4084]), ('2019-03-24', [-0.743, 0.0, 0.5106, -0.0772, 0.4404, 0.0, 0.8979, -0.1531, 0.5574, 0.3818]), ('2019-03-25', [0.4019, 0.7269, 0.0, 0.1027, 0.8168, 0.4215, 0.0, 0.7178, 0.4753, 0.4019, 0.0]), ('2019-03-26', [0.0, 0.5093, 0.0, -0.5574, 0.0, 0.6786, 0.6786, 0.0, 0.0, 0.0]), ('2019-03-27', [0.0, 0.0, 0.0, 0.5859, 0.9259999999999999, 0.023, 0.5809, 0.0, -0.6705, 0.0]), ('2019-03-28', [0.7531, 0.2732, 0.0, 0.6369, 0.0, 0.9677, -0.8594, 0.4215, 0.0, -0.6887]), ('2019-03-29', [0.0, 0.0, 0.0, 0.3182, 0.4404, 0.3612, 0.8677, -0.4903, -0.4458, 0.5106]), ('2019-03-30', [0.0, 0.0, 0.0, 0.0, 0.0, 0.3384, -0.3182, 0.0772, -0.5733, 0.0]), ('2019-03-31', [0.0, 0.0, -0.5267, 0.0, 0.0]), ('2019-04-01', [0.0, 0.34, 0.0, 0.0, 0.0, 0.0, 0.0, -0.4215, 0.1779, 0.3612, 0.8275, 0.4019]), ('2019-04-02', [0.0, 0.0, 0.3818, -0.2732, 0.0, 0.3818, -0.8859999999999999, -0.1695, 0.0, 0.8402]), ('2019-04-03', [0.8463, 0.0, 0.0, 0.128, -0.1779, 0.0, 0.9836, 0.9865, 0.5574, 0.25]), ('2019-04-04', [0.0, 0.4588, 0.5859, 0.1779, 0.0, 0.9526, -0.7935, 0.4939]), ('2019-04-05', [0.4019, 0.0, 0.0, 0.0, 0.0, 0.0, -0.2558, 0.8627, 0.9574, -0.6808, 0.9782, 0.4754, 0.0, 0.0]), ('2019-04-06', [0.3331, -0.29600000000000004, 0.8529, 0.0]), ('2019-04-07', [0.0, 0.0, 0.0, 0.0, 0.4215, 0.8008, 0.0, 0.0, 0.0]), ('2019-04-08', [0.0, -0.3612, -0.3094, 0.0, 0.5859, 0.0, 0.1189, 0.0516, 0.29600000000000004]), ('2019-04-09', [0.0, 0.0, 0.0, 0.6908, 0.0, 0.0, 0.5719, 0.3182, -0.6808, -0.2732, 0.3724, -0.9161]), ('2019-04-10', [0.2023, 0.0, 0.5859, -0.6597, 0.0, 0.0, 0.5106, -0.6124, 0.0, 0.8807]), ('2019-04-11', [0.0, 0.5093, 0.0, -0.6378, 0.6182, 0.4939, -0.8925, 0.0]), ('2019-04-12', [0.0, 0.4263, 0.0, 0.0, 0.0, -0.0572, -0.34, -0.8807, 0.0]), ('2019-04-13', [0.1779, 0.0, 0.8625, 0.8687, 0.8205, 0.3612, 0.0, 0.9102]), ('2019-04-14', [0.0, 0.0, 0.0, 0.2023, 0.2263, 0.4019, 0.6313, 0.75]), ('2019-04-15', [0.0, -0.6289, 0.0, 0.7744, 0.6533, -0.3804]), ('2019-04-16', [-0.4927, 0.0, 0.0, -0.4588, 0.0, 0.3182, 0.4537]), ('2019-04-17', [0.0, -0.0258, 0.0, 0.2732, 0.0, 0.0, 0.0, -0.5106, 0.9528, 0.5994, 0.8240000000000001, -0.7391, 0.6705]), ('2019-04-18', [0.0, 0.0, 0.0, -0.4927, 0.3182, 0.0, -0.1027, -0.5994, 0.6019]), ('2019-04-19', [-0.1027, 0.0, 0.0, 0.0, 0.0, -0.8422, 0.3034, -0.5719, 0.0, 0.9034]), ('2019-04-20', [-0.4767, 0.0, 0.5106, -0.4101, -0.5423, 0.3182, 0.0, -0.3612]), ('2019-04-21', [0.0, 0.0, 0.0]), ('2019-04-22', [0.0, 0.0, 0.0, 0.0, 0.3875, 0.0, -0.2263, 0.3612, 0.9374]), ('2019-04-23', [-0.3962, 0.0, 0.0, -0.4439, 0.0, 0.3818, 0.0, 0.0, -0.5222, -0.7615, -0.7845]), ('2019-04-24', [0.0, -0.8176, -0.3182, 0.0, -0.128, 0.0, 0.0, 0.3999, 0.3612, 0.0, 0.0]), ('2019-04-25', [0.0, 0.5859, 0.0, 0.0, -0.5624, 0.1842, 0.9947, 0.0]), ('2019-04-26', [0.0, 0.0, 0.0, 0.7763, -0.7088, 0.0, 0.5267, 0.8999, 0.0, 0.2023]), ('2019-04-27', [0.0, 0.0, 0.5351, 0.9918, 0.5719, 0.7845, 0.2684]), ('2019-04-28', [0.0, 0.0, 0.0, 0.0, 0.0, 0.0, 0.0, 0.4404, 0.9548]), ('2019-04-29', [0.0, 0.0, 0.0, 0.0, 0.0, 0.0, 0.9853, 0.0, -0.2263, 0.5423, -0.2732]), ('2019-04-30', [0.0, 0.0, 0.0, 0.0, 0.0, 0.7579, -0.5423, 0.7845, 0.0, 0.4019, -0.9052]), ('2019-05-01', [0.1027, 0.0, -0.8779, 0.0, 0.0, 0.0, 0.2944, 0.1531, 0.29600000000000004]), ('2019-05-02', [-0.4215, 0.0, 0.0, 0.5859, 0.2168, 0.0, -0.1027, 0.3755, -0.4019, 0.0, -0.6249]), ('2019-05-03', [0.0, 0.0, 0.0, -0.807, 0.6486, 0.5199, 0.0]), ('2019-05-04', [-0.4767, 0.0, -0.2263, 0.0, 0.0, 0.4404, 0.4067, 0.3182, 0.5106, -0.2382]), ('2019-05-05', [0.5267, 0.5267, 0.0, 0.5927, 0.2263, 0.2023, -0.5413, 0.8074]), ('2019-05-06', [0.0, -0.2263, 0.0, 0.0, 0.8916, 0.0, 0.0, 0.0, -0.2259, -0.6369, -0.4767, 0.0, 0.0]), ('2019-05-07', [0.0, 0.2023, 0.0, 0.0, 0.0772, 0.29600000000000004, 0.7677, 0.0, 0.0129]), ('2019-05-08', [0.7351, 0.0, 0.0, 0.2047, 0.4019, 0.0, 0.8658, -0.594, -0.0772, 0.0]), ('2019-05-09', [0.0, 0.0, 0.0, 0.0, 0.0, 0.9034, -0.9462, -0.3291, 0.0]), ('2019-05-10', [0.0, 0.0, 0.0, 0.0, 0.0, 0.4588, 0.9866, -0.5574, 0.6553, 0.0, 0.6369, 0.4118, 0.0]), ('2019-05-11', [0.7346]), ('2019-05-12', [0.0, 0.5106, 0.2023, 0.3089, 0.0, -0.8091, 0.6486, 0.5423, 0.0, 0.743]), ('2019-05-13', [0.0, 0.0, 0.0, 0.0, 0.7506, 0.9967, 0.0, 0.0, 0.0]), ('2019-05-14', [0.0, 0.0, 0.0, 0.0, 0.0, 0.34, -0.6369, 0.7033, 0.0, 0.0, -0.9391, -0.1635]), ('2019-05-15', [0.0, 0.5859, -0.3182, 0.0, 0.2023, 0.7691, 0.0, -0.4886, 0.7717, 0.6705]), ('2019-05-16', [0.0, 0.504, 0.0, 0.0, 0.0, 0.0, 0.7182, -0.8690000000000001, 0.0]), ('2019-05-17', [0.0, 0.0, 0.5859, 0.0, 0.4847, 0.29600000000000004, -0.0734, 0.29600000000000004, 0.0, -0.4215]), ('2019-05-18', [-0.29600000000000004, 0.9178, -0.284, -0.7184, -0.9570000000000001, 0.4215]), ('2019-05-19', [-0.5574, 0.0, 0.0, 0.0, 0.5719, 0.8273, 0.6927, -0.6879, 0.0]), ('2019-05-20', [-0.5267, 0.0, 0.5859, 0.0, 0.0, -0.3612, 0.0, -0.3527, -0.2168, 0.9477]), ('2019-05-21', [0.5859, 0.4019, 0.0, -0.128, 0.2942, -0.2732, 0.29600000000000004, 0.925]), ('2019-05-22', [0.0, -0.34, 0.6633, 0.2023, 0.0, 0.4926, -0.5661, 0.5574, 0.3182]), ('2019-05-23', [0.0, -0.5994, 0.0, -0.5994, 0.0, -0.4696, -0.4329, 0.5187, 0.9163, 0.743, 0.3736]), ('2019-05-24', [0.3182, 0.0, 0.0, 0.6597, 0.7964, -0.5994, 0.6486, -0.3182, 0.0, 0.6249]), ('2019-05-25', [0.34, 0.0, 0.8964, 0.7184, 0.7579, -0.6134]), ('2019-05-26', [0.4767, 0.0, -0.3182]), ('2019-05-27', [0.0, 0.0, 0.0, 0.0, 0.6369, 0.0, -0.9331, -0.9782, 0.2023]), ('2019-05-28', [0.0, 0.128, 0.5106, 0.5106, 0.0, -0.128, 0.3612, 0.4926, -0.5204]), ('2019-05-29', [-0.5423, 0.0, 0.0, 0.5622, 0.9694, 0.9406, -0.5751, 0.93, 0.0, -0.8501]), ('2019-05-30', [-0.2411, -0.3818, 0.0, 0.0, 0.5267, -0.75, 0.0, 0.6199, 0.9934, 0.7351]), ('2019-05-31', [0.0, 0.0, 0.0, 0.0, 0.0, 0.9740000000000001, 0.1027, 0.431, 0.29600000000000004, 0.7269]), ('2019-06-01', [0.0, 0.34, 0.0, 0.0, 0.0, -0.872, 0.0, -0.1796, 0.9548, -0.4404]), ('2019-06-02', [0.0, 0.0, 0.4019, -0.9675, 0.9922, 0.0, 0.9528, -0.1263]), ('2019-06-03', [-0.3182, -0.3182, 0.0, 0.0, 0.0, 0.3182, -0.0688, 0.7066, 0.5859, 0.0, 0.5461]), ('2019-06-04', [0.0, 0.0, 0.0, 0.0, 0.0, -0.8529, 0.0, 0.8625, 0.6369, -0.75]), ('2019-06-05', [0.0, 0.0, 0.0, 0.8074, 0.6249, 0.0, -0.7915, 0.4215, -0.8053, -0.2617, 0.0]), ('2019-06-06', [0.0, 0.0, 0.3818, 0.7184, -0.617, 0.9154, 0.5719]), ('2019-06-07', [-0.539, 0.0, -0.4215, 0.0, 0.0, 0.0, 0.2732, 0.29600000000000004, 0.0, -0.5994, 0.9696]), ('2019-06-08', [0.0, 0.0, 0.6369, 0.0772, 0.0, 0.9601, 0.0, 0.4902]), ('2019-06-09', [0.0, 0.0, 0.8625, 0.0, 0.8394, 0.7125, 0.6322, 0.6124, -0.29600000000000004]), ('2019-06-10', [0.0, 0.0, 0.0, 0.0, 0.34, 0.0, 0.7181, 0.0, 0.9923, 0.8948, 0.0, 0.0516, 0.0]), ('2019-06-11', [-0.8689, 0.0, 0.0, 0.0, 0.7149, -0.0258, 0.4404, 0.1983]), ('2019-06-12', [0.0, 0.3818, 0.0, 0.0, 0.0, 0.25, -0.5585, -0.9282, -0.555, 0.2382, 0.0]), ('2019-06-13', [0.0, -0.5994, 0.6369, 0.0, 0.0, 0.0, 0.7174, 0.0, 0.3612, 0.4404, 0.2755]), ('2019-06-14', [0.6705, 0.0, 0.0, 0.743, 0.2942, 0.987, 0.0, 0.5574]), ('2019-06-15', [-0.3818, -0.4019, 0.0, 0.3818, 0.0]), ('2019-06-16', [0.0, 0.0, 0.0, -0.4019, 0.0, 0.9428, -0.8942, 0.9576]), ('2019-06-17', [0.0, 0.0, 0.0, 0.0, 0.0, 0.0, 0.0, 0.3094, -0.4574, -0.2794, -0.5423, 0.3612, -0.4019]), ('2019-06-18', [0.4588, 0.4753, -0.802, 0.6486, 0.0, 0.0772, -0.7646, 0.9092, -0.2103, 0.3612]), ('2019-06-19', [0.0, 0.0, -0.3071, -0.4939, -0.4588, 0.0, -0.644, -0.8934, 0.4404]), ('2019-06-20', [0.3612, 0.0, 0.0, 0.3612, 0.4019, 0.0, 0.0258, 0.0, 0.0, 0.9153]), ('2019-06-21', [0.0, 0.0, 0.0, 0.0, 0.0, -0.2624, -0.3802, 0.381, -0.1415, 0.4215, 0.0258]), ('2019-06-22', [0.0, 0.5719, 0.3693, 0.9639, 0.0, 0.5267]), ('2019-06-23', [0.4939, -0.8591, -0.8738, 0.7941, 0.5859]), ('2019-06-24', [0.5859, 0.0, -0.128, 0.0, 0.0, 0.0, -0.1531, 0.9583]), ('2019-06-25', [0.0, 0.0, -0.9858, -0.8965, 0.3612, 0.743, 0.0]), ('2019-06-26', [0.6662, 0.0, 0.0, 0.0, 0.0, 0.0, 0.0, 0.8934, 0.4234, 0.0, 0.0]), ('2019-06-27', [0.0, 0.0, 0.0, 0.91, 0.2263, 0.9804, 0.9022, 0.0]), ('2019-06-28', [0.0, 0.6369, 0.0, 0.0, 0.6808, -0.5423, 0.0, 0.34, -0.8442, 0.7184]), ('2019-06-29', [0.0, 0.52, 0.0, 0.0, 0.0, -0.1531, -0.5584, 0.0, 0.0, 0.4118, -0.5423]), ('2019-06-30', [0.3182, 0.0, 0.0, 0.0, 0.0, 0.0, 0.7351, -0.8509, -0.8509, 0.0, 0.504]), ('2019-07-01', [0.0, 0.0, 0.0, 0.0, 0.4939, 0.504, 0.0, -0.0772]), ('2019-07-02', [0.0, 0.0, 0.0, 0.0, 0.0, 0.0, 0.0, 0.0, 0.9927, -0.9439, -0.4767]), ('2019-07-03', [0.0, 0.4576, 0.0, -0.1779, 0.1027, -0.4153, 0.0, -0.5319, 0.0]), ('2019-07-04', [-0.29600000000000004, 0.9447, 0.3612, 0.0, 0.5574]), ('2019-07-05', [0.0, 0.0, 0.6369, 0.0, 0.0, -0.8382, -0.6325, 0.7221, -0.875]), ('2019-07-06', [0.0, 0.0, 0.0, 0.9979, 0.6597, -0.4005, 0.3182, 0.3182]), ('2019-07-07', [0.4215, 0.0, 0.4019, 0.0, -0.552, 0.0, -0.644, 0.431, 0.0, 0.1027]), ('2019-07-08', [0.3612, 0.7783, -0.4019, 0.0, -0.4019, 0.0, 0.6124, 0.6088, -0.5574, -0.6705]), ('2019-07-09', [0.6124, 0.0, -0.2315, 0.5859, 0.0, 0.0, 0.8898]), ('2019-07-10', [0.2732, 0.0, 0.0, 0.4588, 0.6459999999999999, 0.0, 0.0, 0.0, -0.2023, 0.0, 0.6486, 0.9051, 0.0]), ('2019-07-11', [0.4019, 0.0, 0.4466, 0.765, 0.0, 0.9332, 0.6808, -0.3028, -0.4391]), ('2019-07-12', [0.29600000000000004, 0.0, 0.0, 0.0, 0.5106, 0.8157, 0.4902, 0.0, -0.5968]), ('2019-07-13', [0.0, 0.0, 0.0, 0.4199, 0.0, 0.4215, 0.7906, 0.0, -0.19399999999999998, -0.128]), ('2019-07-14', [0.7906, 0.765, 0.0, 0.5719, 0.0, 0.3818, -0.9363, 0.0, -0.34, 0.0]), ('2019-07-15', [0.0, -0.34, 0.4019, 0.0772, 0.0, 0.8992, 0.0258, 0.0, 0.3818]), ('2019-07-16', [-0.3612, 0.0, -0.3626, -0.7847, 0.8442]), ('2019-07-17', [-0.3595, 0.0, 0.0, -0.34, 0.0, 0.0, 0.0, 0.5106, 0.0772, 0.0, 0.9995, -0.8343, -0.5994, 0.0]), ('2019-07-18', [0.0, 0.0, 0.0, 0.0, 0.1779, 0.4791, -0.2732, 0.9447, -0.2617]), ('2019-07-19', [0.0, 0.4404, 0.0, 0.0, -0.0772, 0.9631, 0.6249, 0.4215]), ('2019-07-20', [0.0, 0.34, 0.2023, 0.6486, 0.5413, 0.0, 0.8568, 0.8777, -0.6114, 0.0258]), ('2019-07-21', [0.0, 0.0, 0.128, -0.7699, -0.8205, -0.0162]), ('2019-07-22', [0.5106, 0.0, 0.0, 0.0, 0.0, -0.5719, 0.3818, 0.1154, 0.9346, 0.8779, 0.204, 0.5152, 0.0, -0.2846]), ('2019-07-23', [0.0, 0.25, 0.0, 0.0, 0.816, -0.7579, 0.5267, 0.3612]), ('2019-07-24', [0.1779, -0.1531, 0.0, 0.0, 0.3412, 0.9475, 0.6486, 0.0, -0.5629, 0.3818, 0.4754]), ('2019-07-25', [0.0, 0.0, 0.0, 0.0, 0.5267, 0.8733, 0.0, 0.785, 0.0]), ('2019-07-26', [0.0, 0.0, 0.0, 0.4019, 0.3612, 0.6123]), ('2019-07-27', [0.4404, 0.0, 0.0, 0.0, 0.4767, 0.3612, 0.5267, 0.8745, 0.29600000000000004, 0.4995, 0.0, -0.1331, -0.2869, 0.5574, 0.0]), ('2019-07-28', [-0.29600000000000004, 0.0, 0.4588, 0.0, 0.0, 0.7517, -0.8126]), ('2019-07-29', [-0.7845, 0.0, 0.0, 0.6486, 0.0, 0.0, 0.0, 0.836, 0.875, -0.4019, 0.0, 0.0, 0.0]), ('2019-07-30', [0.6908, 0.0, 0.0, 0.0, 0.6124, -0.1531, 0.3451]), ('2019-07-31', [-0.4404, -0.34, 0.29600000000000004, 0.0, -0.5423, 0.0, 0.0772, 0.3612, 0.8625, 0.87, 0.4927, -0.5574, -0.8957]), ('2019-08-01', [0.0, 0.4648, 0.0, 0.0, -0.5267, 0.0, 0.8758, 0.5106, 0.3892]), ('2019-08-02', [0.0, 0.0, -0.4939, -0.7541, 0.2732]), ('2019-08-03', [0.0, -0.5423, 0.0, 0.0, 0.8397, 0.597, 0.6908, -0.1181, 0.9953, 0.7096]), ('2019-08-04', [0.0, 0.0, 0.2023, 0.0, 0.0, 0.0, 0.9097, -0.6147]), ('2019-08-05', [0.0, 0.0, 0.0, -0.8663, 0.1719, 0.34, -0.5563, -0.4767, 0.0, 0.0]), ('2019-08-06', [-0.6486, 0.2023, 0.7506, -0.5106, 0.0, 0.3506, -0.631, 0.3182, 0.0, 0.0, 0.0]), ('2019-08-07', [-0.3818, 0.4005, -0.29600000000000004, 0.0, -0.6652, 0.0516, 0.4144, 0.0, -0.1531]), ('2019-08-08', [-0.4019, 0.0, 0.0, 0.0, 0.0, 0.6908, 0.8977, 0.0, 0.0]), ('2019-08-09', [0.0, 0.0, 0.3818, 0.0, 0.0, 0.9099, -0.9831, -0.3313, 0.0, 0.0762]), ('2019-08-10', [0.0, -0.2732, 0.6681, 0.4728]), ('2019-08-11', [0.0, 0.5719, 0.0, -0.1754, 0.7096, 0.6698, 0.9728, 0.25, 0.0, 0.9670000000000001]), ('2019-08-12', [0.2732, 0.0, 0.0, 0.0, 0.0, 0.9848, 0.0, 0.6874, -0.0258, 0.0772, 0.4404]), ('2019-08-13', [0.0, -0.3182, -0.5423, 0.0, 0.9931, 0.0, -0.5283, 0.0, -0.5423]), ('2019-08-14', [0.0, 0.0, 0.0, 0.0, 0.0, 0.0, 0.0, -0.8485, 0.4142, 0.0]), ('2019-08-15', [0.0, 0.0, 0.5574, 0.29600000000000004, 0.9366, 0.6249, 0.0, -0.1027, 0.1531, 0.6705]), ('2019-08-16', [0.7906, 0.0, 0.0, 0.0, -0.4019, 0.0, -0.4019]), ('2019-08-17', [0.0, 0.0, 0.25, 0.0, 0.6369, 0.6369, -0.0772, 0.0, -0.4696, 0.8074, 0.3285, 0.9076]), ('2019-08-18', [0.0, -0.4767, 0.0258, 0.0, 0.0516, 0.0]), ('2019-08-19', [0.3182, 0.0, 0.0, 0.0, 0.0, -0.2023, 0.25, 0.0, -0.2732]), ('2019-08-20', [0.0, 0.0, 0.0, 0.4404, 0.0, 0.29600000000000004, -0.34, -0.1531, 0.9789, 0.7964, 0.9318, -0.7579, -0.5267, 0.1511]), ('2019-08-21', [0.34, 0.0, 0.0, 0.4019, 0.0, 0.0, 0.0, 0.5859, 0.0]), ('2019-08-22', [0.0, 0.0, 0.0, 0.0, 0.4404, 0.3182, -0.4515, 0.6597, 0.8420000000000001]), ('2019-08-23', [0.7351, 0.4854, 0.1531, 0.0, 0.0, 0.0, -0.1926, 0.0]), ('2019-08-24', [-0.5994, 0.0, 0.0, 0.29600000000000004, -0.743, 0.6901, 0.6597, 0.3898, -0.8288, 0.5423, 0.0, 0.0, 0.9474, 0.6369, 0.0]), ('2019-08-25', [0.0, -0.0516, 0.0, 0.0, 0.0, -0.6199, 0.6486, -0.2144, 0.6369]), ('2019-08-26', [0.6486, 0.0, 0.0, 0.9768, -0.8238, 0.9768, 0.1531, 0.9667]), ('2019-08-27', [0.3566, 0.0, 0.0, -0.3384, 0.0]), ('2019-08-28', [0.5423, 0.0, 0.5423, 0.4019, 0.5423, 0.29600000000000004, -0.4939, -0.9057, 0.6597, 0.0, 0.0, 0.0]), ('2019-08-29', [0.0, 0.9371, 0.4019, 0.9772]), ('2019-08-30', [0.0, 0.3182, 0.0, 0.4588, 0.0, 0.0, 0.0, 0.0, 0.8017, 0.0772, -0.7469, 0.6369, 0.2263, 0.8126, 0.1901]), ('2019-08-31', [0.29600000000000004, 0.0, 0.0, 0.0, 0.0, 0.0, -0.4939, 0.5239, -0.8802, -0.1022, 0.0]), ('2019-09-01', [0.0, 0.0, 0.8225, 0.5859, -0.5719, 0.0]), ('2019-09-02', [0.0, 0.7975, -0.6705, 0.6897, -0.5423, -0.1027, -0.6662, 0.6249]), ('2019-09-03', [0.0, 0.0, 0.0, 0.0, 0.0, 0.9944, 0.4019, 0.0, 0.0493, 0.5106]), ('2019-09-04', [-0.0258, -0.0258, -0.1779, 0.0, 0.0, 0.0, 0.8225]), ('2019-09-05', [0.0, 0.128, -0.2732, 0.0, -0.5688, 0.0165, 0.0, 0.2516, 0.8844, -0.5943, 0.4404, 0.0, 0.6908]), ('2019-09-06', [-0.1531, 0.0, 0.2732, 0.0, 0.0, 0.0, 0.264, 0.4019, 0.0258, 0.0, 0.8225, 0.3612]), ('2019-09-07', [0.2023, 0.3182, 0.4215, 0.7096, 0.5267, 0.9162]), ('2019-09-08', [0.6249, 0.0, 0.0, 0.0, 0.0, 0.0, 0.9758, 0.3695, 0.8316, 0.8734]), ('2019-09-09', [0.0, 0.0, 0.0, 0.0, 0.0, 0.4926, 0.0, 0.4408, 0.4939]), ('2019-09-10', [0.0, 0.0, 0.0, 0.0, 0.0, 0.3612, 0.0387, -0.4198, 0.7213, 0.0, 0.0, 0.7425]), ('2019-09-11', [0.4767, 0.0, 0.4215, 0.0, 0.0, 0.85, 0.0, 0.8625]), ('2019-09-12', [0.7814, -0.29600000000000004, -0.0516, 0.0, 0.0, 0.0, 0.0, 0.4404, -0.7645, -0.25, -0.7603, 0.6118]), ('2019-09-13', [0.0, 0.0, 0.0, 0.5859, -0.4215, -0.7845, 0.8834, 0.9723, -0.0572, 0.0]), ('2019-09-14', [0.0, 0.0, 0.0, 0.1027, 0.6124, 0.0, 0.4404, 0.4939, 0.6369, 0.6786]), ('2019-09-15', [-0.128, 0.0, 0.0, 0.4939, -0.29600000000000004, -0.9329999999999999, 0.1695]), ('2019-09-16', [0.0, 0.0, 0.5267, 0.0, -0.5574, 0.0, 0.0]), ('2019-09-17', [0.4278, 0.0, 0.0, 0.0772, 0.5423, 0.0]), ('2019-09-18', [0.2023, 0.0, 0.34, 0.5859, 0.0, 0.2382, 0.0, 0.0, 0.8225, 0.4697, 0.0, 0.8073]), ('2019-09-19', [-0.7416, 0.8957, 0.2771, 0.2732, 0.3612, 0.0]), ('2019-09-20', [0.0, 0.0, 0.6369, 0.4019, 0.8225, 0.2302]), ('2019-09-21', [0.0, -0.0258, 0.5106, -0.7402, 0.0, 0.0, 0.5106, 0.4576, 0.0, 0.0, 0.8793]), ('2019-09-22', [0.0, -0.0258, 0.0, 0.1308, 0.4404, 0.2732, 0.5599, 0.0]), ('2019-09-23', [0.5859, 0.2023, 0.5023, 0.0, 0.0, 0.0, -0.4019, 0.0, 0.9104]), ('2019-09-24', [0.0, 0.4215, 0.5106, -0.34, 0.0, 0.0, 0.0, 0.5423]), ('2019-09-25', [-0.5423, 0.0, -0.6369, 0.2263, 0.0, 0.4588, 0.0, -0.5709, -0.2263]), ('2019-09-26', [0.3612, 0.2023, -0.3612, 0.0, 0.5065, 0.2732, -0.5859]), ('2019-09-27', [0.0, -0.4019, 0.0, 0.0, 0.0, 0.0, 0.8074, 0.6204, 0.5574, 0.0, 0.0]), ('2019-09-28', [0.0, 0.0, 0.0772]), ('2019-09-29', [0.0, 0.0, -0.34, 0.8176, 0.0, -0.4588, 0.5329999999999999, -0.7579, 0.5251, 0.0, 0.5106, -0.2732, 0.5106, 0.5106]), ('2019-09-30', [0.7672, 0.2732, 0.4215, 0.0, 0.0, 0.1531, -0.3051, -0.3182, 0.0, 0.0, 0.0]), ('2019-10-01', [0.0, 0.0, 0.0, 0.4215, -0.29600000000000004, 0.0, 0.2263, -0.5423, 0.4404]), ('2019-10-02', [-0.2732, 0.0, 0.0, 0.0, 0.0, -0.204, 0.5943, -0.0772, -0.4404, 0.6597]), ('2019-10-03', [0.0, 0.29600000000000004, 0.6369, 0.0, -0.6908]), ('2019-10-04', [0.0, 0.0, 0.0, 0.0, 0.0, 0.0, 0.3182, 0.6597, 0.0, 0.6705]), ('2019-10-05', [0.0, 0.0, 0.34, 0.0, -0.2263, 0.0, 0.6486, 0.0, 0.4939, -0.6908, 0.4215, 0.6369]), ('2019-10-06', [0.0, 0.0, 0.0, 0.0, -0.5106, 0.5859, 0.6597]), ('2019-10-07', [0.8176, 0.0, 0.5574, 0.765, 0.5994, 0.1531, 0.6369, 0.0, 0.5106, 0.0, 0.4019]), ('2019-10-08', [0.0, 0.0, 0.0, -0.3182, 0.1531, -0.2732, 0.9859, -0.1007, 0.0, 0.9813, -0.4404, 0.0]), ('2019-10-09', [0.0, 0.0, 0.0, 0.0, 0.1779, -0.7579, 0.25, -0.4215, 0.875, 0.7717]), ('2019-10-10', [-0.2263, 0.0, -0.2263, 0.0, 0.0, 0.0, 0.0, -0.5962, 0.4215, 0.0, 0.0]), ('2019-10-11', [0.0, 0.0, -0.5994, 0.7684, -0.29600000000000004, -0.7465, 0.0, 0.0, 0.0]), ('2019-10-12', [0.0, 0.0, 0.0, -0.6486, 0.0, 0.0, 0.7845, -0.48100000000000004, 0.9366, 0.0, 0.0]), ('2019-10-13', [0.4278, 0.0, 0.0, 0.0, 0.1779, -0.0516, 0.3767, 0.0]), ('2019-10-14', [0.29600000000000004, 0.0, 0.6166, 0.0, -0.8971, -0.3182, 0.0, 0.0, 0.0]), ('2019-10-15', [0.0, -0.539, 0.0, 0.0, 0.5106, -0.34, 0.7906, 0.4215, 0.0, 0.0, 0.3612]), ('2019-10-16', [-0.3182, 0.4278, 0.0, -0.5423, 0.0, 0.0, 0.0, 0.0, 0.29600000000000004, -0.6652, 0.5106, 0.4767]), ('2019-10-17', [0.4019, -0.128, 0.0, 0.8779, 0.4767]), ('2019-10-18', [0.0, 0.0, 0.0, -0.2732, -0.7389, 0.8176, 0.0, 0.0, 0.0, -0.4263]), ('2019-10-19', [0.0, 0.5522, -0.2263]), ('2019-10-20', [-0.3612, 0.6369, 0.6771, 0.0, 0.0, 0.0, 0.0, 0.34, 0.5859, 0.0, 0.7506]), ('2019-10-21', [0.0, 0.4404, 0.0, 0.5267, 0.0, 0.4939, 0.6652, -0.34, -0.3182, -0.9074, 0.3919]), ('2019-10-22', [0.0, 0.0, 0.0, 0.2023, 0.0, 0.1027, 0.9635]), ('2019-10-23', [0.4019, 0.0, 0.0, 0.743, 0.1453, 0.6239, -0.5719, -0.8159, -0.0387, -0.802]), ('2019-10-24', [0.0, 0.0, 0.0, 0.4019, 0.0, 0.0, 0.0, -0.5829, -0.4404, 0.0]), ('2019-10-25', [0.34, 0.0, 0.0, 0.0, 0.9783, -0.836, 0.0, 0.0, 0.0, -0.4003, -0.29600000000000004, 0.4404]), ('2019-10-26', [-0.6739, 0.0, 0.0, 0.0, 0.0, -0.5574, 0.836, 0.0258]), ('2019-10-27', [0.5859, 0.0, -0.4767, 0.0, 0.3182, 0.0, 0.0, -0.6705]), ('2019-10-28', [0.0, 0.0, 0.0, 0.0, -0.0258, 0.0, 0.0, 0.2263, 0.4404, 0.8290000000000001, 0.4404, 0.3818]), ('2019-10-29', [0.0, 0.0, 0.0, 0.0, 0.128, 0.0, 0.0, -0.2732, 0.6124, -0.128, -0.1779, 0.0, 0.0]), ('2019-10-30', [0.0, 0.0, 0.29600000000000004, 0.0, 0.0, 0.9358, 0.6369, -0.2869, -0.4767]), ('2019-10-31', [0.0, 0.0, 0.0, 0.5106, 0.4215, -0.4651, -0.6928, -0.4019, -0.4497]), ('2019-11-01', [0.3612, -0.29600000000000004, 0.0, 0.0, 0.0, -0.1027, 0.0, -0.6705, 0.617, 0.0, 0.29600000000000004]), ('2019-11-02', [0.0, 0.6249, 0.0, 0.0, -0.5696, 0.3182, 0.8807, -0.1593]), ('2019-11-03', [0.0, 0.0, 0.0, -0.4019, 0.3818, 0.0624, 0.0, 0.3331, -0.6115, -0.128, 0.0, -0.1779]), ('2019-11-04', [0.0, 0.0, -0.5423, 0.0, 0.0, 0.2359, 0.0, -0.7184, 0.6199, 0.0]), ('2019-11-05', [0.0516, 0.0, 0.0258, 0.0, 0.0, 0.0, 0.5719, 0.0, 0.0, 0.0]), ('2019-11-06', [0.0, 0.0, 0.0, 0.128, 0.3612, -0.8791, 0.6908, 0.0]), ('2019-11-07', [0.0, 0.0, 0.0, 0.0772, -0.5859, 0.4023, -0.2111, 0.0, 0.5707]), ('2019-11-08', [-0.128, 0.0, 0.0, 0.0, 0.0, 0.2023, 0.3612, -0.1531, 0.0, 0.0, -0.5994, 0.5994]), ('2019-11-09', [0.0, 0.34, 0.0, -0.2023, -0.2023, -0.5267, 0.0, 0.0]), ('2019-11-10', [-0.6249, 0.0, 0.0, 0.5473, 0.8906, -0.5499, -0.0088, 0.7227, 0.4404]), ('2019-11-11', [0.0, 0.0, 0.4404, 0.6529, 0.0, -0.3818, 0.0, -0.5719, 0.7431, 0.0]), ('2019-11-12', [-0.2732, -0.2263, 0.0, 0.0, -0.2732, -0.4753, 0.0, 0.0, 0.0, 0.0]), ('2019-11-13', [0.0, 0.0, 0.0, 0.0, -0.0516, 0.0, 0.0, 0.4753, 0.3612, 0.0, 0.0, 0.2263]), ('2019-11-14', [-0.29600000000000004, 0.0, 0.0, 0.2263, 0.0, 0.0, 0.0, -0.33899999999999997, 0.4019, 0.0]), ('2019-11-15', [0.4019, 0.4019, 0.0, 0.2023, 0.4019, -0.5574, 0.8999, -0.0176]), ('2019-11-16', [0.2023, 0.0, 0.8442, 0.7845, 0.0]), ('2019-11-17', [0.0, -0.29600000000000004, 0.0, 0.0, 0.0, 0.0, 0.0, 0.0, -0.0772, 0.0, 0.6249, 0.5106, 0.0]), ('2019-11-18', [0.2023, 0.8779, 0.9235, -0.34, 0.6369, 0.6987]), ('2019-11-19', [0.0, 0.0, 0.5106, 0.0, 0.0, 0.0, 0.0, -0.4336, -0.6908, -0.25, 0.0]), ('2019-11-20', [0.0, 0.0, -0.8934, 0.0, 0.0, 0.0, 0.5574, -0.7901, 0.0, 0.0, -0.5574]), ('2019-11-21', [0.0, 0.0, 0.5719, 0.0, 0.6486, -0.2755, -0.5423, -0.6186, 0.4019]), ('2019-11-22', [0.0, 0.0, 0.0, 0.0, 0.0, 0.0, 0.0, 0.0, -0.29600000000000004, -0.3217, 0.0, -0.6705]), ('2019-11-23', [0.0, 0.0, 0.0, 0.2263]), ('2019-11-24', [0.0, 0.0, 0.0, 0.2846, 0.0, 0.4215]), ('2019-11-25', [0.0, 0.0, 0.0, 0.0, 0.29600000000000004, 0.0, 0.0, 0.0, -0.5106, -0.7184, -0.3612, 0.0, 0.2023, 0.3612]), ('2019-11-26', [-0.34, 0.0, 0.5859, 0.7213, 0.5106, 0.5709, 0.7351, 0.4867]), ('2019-11-27', [0.0, 0.25, 0.0, 0.0, 0.0, 0.0, -0.34, -0.29600000000000004, -0.8225, 0.7615]), ('2019-11-28', [0.0, 0.4588, 0.5319, 0.0, 0.7579, 0.0, -0.7822]), ('2019-11-29', [-0.4019, 0.0, 0.25, 0.0, 0.0, 0.6767, 0.0, 0.0, 0.0, 0.7003, 0.0, -0.4939, -0.0772]), ('2019-11-30', [0.4019, 0.0, 0.0, 0.0, 0.0, 0.29600000000000004, -0.5106, 0.9259, -0.5859, -0.2263, 0.4215]), ('2019-12-01', [0.0, -0.3182, 0.0, 0.7979, 0.2837, 0.6652, 0.0, 0.4638]), ('2019-12-02', [0.0, 0.4404, 0.0, -0.9346, 0.0, 0.3612, 0.0]), ('2019-12-03', [0.0, 0.0, -0.3818, 0.6588, 0.4404, 0.8356, -0.0772, -0.1027, 0.4125, 0.0516]), ('2019-12-04', [0.0, 0.0, 0.0, 0.1779, 0.0, 0.0, -0.8225]), ('2019-12-05', [0.0, 0.0, 0.5106, 0.0, -0.29600000000000004, 0.8611, 0.9779, 0.34, 0.0, 0.2732, 0.0, 0.9313, 0.0, 0.0]), ('2019-12-06', [0.0, 0.0, 0.0, 0.0, 0.5994, 0.0, -0.6672, 0.0, 0.5994, -0.9559, -0.6369]), ('2019-12-07', [0.4019, 0.0, 0.0, 0.6597, 0.9231, 0.0, 0.8357]), ('2019-12-08', [0.4927, 0.7271, 0.0, 0.6408, 0.4926, 0.0, 0.802]), ('2019-12-09', [0.5106, 0.0, -0.5423, 0.4404, 0.4404, -0.5423, 0.4404, 0.25, 0.0, 0.5574, -0.5106, 0.9081]), ('2019-12-10', [0.0, 0.0, 0.5574, -0.4228, 0.4019, 0.0, -0.1501]), ('2019-12-11', [0.0, 0.0, 0.0, 0.6059, 0.0, 0.0, -0.3818, -0.2263]), ('2019-12-12', [0.0, 0.0, 0.0, 0.0, 0.29600000000000004, 0.5267, -0.5859, -0.3182, 0.0, 0.4215]), ('2019-12-13', [0.0, 0.0, 0.2023, -0.5423, -0.3182, 0.0, 0.9763, 0.743, 0.0, -0.4648, -0.4753]), ('2019-12-14', [0.2023, 0.2023, 0.3612, 0.0, 0.4576, 0.3612, -0.5574, 0.7691, -0.1027, 0.0, 0.9854]), ('2019-12-15', [0.0, -0.5859, 0.0, 0.0, -0.0129]), ('2019-12-16', [0.0, -0.4767, 0.4926, 0.0, 0.0, 0.0, 0.7269, -0.5423, 0.899, 0.2732, 0.0, 0.4019, 0.0, 0.7096]), ('2019-12-17', [0.0, 0.0, 0.0, 0.0, -0.5719, 0.0, -0.2732, 0.0, 0.0]), ('2019-12-18', [0.0, 0.8519, 0.0, 0.0, 0.128, -0.7096, 0.0, 0.1779, 0.5358, 0.5106]), ('2019-12-19', [-0.6249, -0.3296, 0.2023, -0.1531, 0.0, -0.4767, 0.6369]), ('2019-12-20', [0.0, 0.0, 0.0, -0.25, 0.0, 0.0, 0.0, 0.0, 0.6705, -0.5423, 0.3612, 0.0, -0.6739]), ('2019-12-21', [0.0, 0.3818, -0.4019, 0.0, 0.0, -0.3612, 0.0425]), ('2019-12-22', [-0.3875, 0.0, 0.0, 0.9490000000000001, 0.8673, -0.4215, 0.3182, -0.6705, 0.8674, 0.0]), ('2019-12-23', [0.0, 0.2023, 0.0, 0.0, 0.4588, -0.4215, 0.0, 0.0, 0.0]), ('2019-12-24', [0.0, -0.128, 0.5848, 0.0, 0.3818, 0.34, 0.0, 0.0772, 0.4389]), ('2019-12-25', [0.34, -0.8439, 0.0, -0.6946, 0.9606, -0.5204, 0.1999, 0.0946, 0.0]), ('2019-12-26', [0.0, 0.2023, 0.0, 0.5859, -0.4215, 0.8992, 0.7177, 0.7556, -0.2815]), ('2019-12-27', [0.0, 0.4019, 0.0, 0.9614, 0.8957, 0.9917, -0.7184, -0.5106]), ('2019-12-28', [0.0, 0.0, 0.0, 0.0, 0.0, 0.0, 0.0, 0.0, 0.0, 0.7814, 0.7964, -0.2034, -0.29600000000000004, 0.0]), ('2019-12-29', [0.4404, 0.4404, 0.0, 0.4795, -0.1779]), ('2019-12-30', [0.0, 0.0, -0.29600000000000004, -0.5423, 0.6804, 0.3818, -0.1027, 0.3612, -0.29600000000000004, 0.0772]), ('2019-12-31', [0.2023, 0.0, 0.0, 0.4588, 0.0, -0.2732, -0.29600000000000004, 0.0, 0.7207, 0.001, 0.9812, 0.7579, 0.8786]), ('2020-01-01', [0.0, 0.0, 0.9577, 0.0, -0.8519, 0.0, 0.8553]), ('2020-01-02', [0.0, 0.3182, 0.0, 0.0, -0.2732, 0.0, 0.0, 0.34, -0.5423, -0.4215, 0.2235]), ('2020-01-03', [0.4215, 0.0, 0.0, 0.0, 0.0, -0.3818, 0.3869, -0.91, -0.6486, -0.2023, 0.9012, -0.3818]), ('2020-01-04', [0.1779, 0.0, -0.4939, 0.0, -0.4939, 0.0, 0.0, 0.4199, 0.1531, 0.9487]), ('2020-01-05', [0.25, 0.0, 0.4215, 0.9012, 0.5994, 0.9666, 0.9492, 0.9012, -0.3182]), ('2020-01-06', [0.3182, 0.0, 0.0, 0.2732, 0.0, -0.7059, 0.34, -0.6956, 0.5106, 0.6486, 0.4201, 0.0772]), ('2020-01-07', [0.9253, 0.0772, 0.0, 0.4404]), ('2020-01-08', [0.0, 0.1779, 0.0, 0.0, 0.0, 0.0, 0.0, 0.5859, 0.0, 0.9224, 0.6940000000000001, 0.5106, 0.0, 0.0, -0.4559]), ('2020-01-09', [0.0, 0.0, 0.29600000000000004, 0.2023, 0.0, 0.7783, 0.0, 0.0]), ('2020-01-10', [0.0, 0.0, 0.0, 0.0, 0.0, 0.0, 0.0, 0.0, 0.0, -0.4019, 0.7096]), ('2020-01-11', [0.0, 0.0, 0.0, 0.34, 0.0, -0.1027, -0.9455, 0.2263, -0.4767, -0.7958, 0.0]), ('2020-01-12', [0.0258, 0.0, 0.0, 0.0]), ('2020-01-13', [0.0, 0.1779, 0.0, 0.0, 0.0, 0.0, 0.8271, 0.3612, 0.0, -0.4767, 0.0, 0.5106, 0.0]), ('2020-01-14', [-0.5267, 0.0, 0.1531, -0.6249, -0.7227, 0.1779, 0.0, 0.0, 0.0, 0.4588, 0.4404]), ('2020-01-15', [-0.8126, 0.7959, 0.0, 0.0, 0.4588, 0.4588, -0.1027, 0.0, 0.5502, 0.1027, -0.9091, -0.8637, 0.8834]), ('2020-01-16', [0.0, 0.0, -0.594, 0.0, 0.0, -0.6359, 0.39899999999999997, 0.0, 0.0]), ('2020-01-17', [-0.29600000000000004, -0.29600000000000004, 0.0, 0.0, -0.5574, 0.0, -0.2716, 0.0516, 0.9159999999999999, 0.4019]), ('2020-01-18', [0.0, 0.0, 0.0, 0.4019, 0.0, 0.0, -0.0839, -0.25, -0.0572, 0.0]), ('2020-01-19', [0.4019, 0.0, 0.0, 0.0, 0.0, 0.0, 0.0, -0.1531, 0.5423, 0.3597, 0.7181]), ('2020-01-20', [0.0, 0.6369, 0.0, 0.0, -0.9498, 0.0, 0.7575, 0.0, 0.7125, 0.0]), ('2020-01-21', [0.0, -0.4767, 0.0, 0.0, 0.0, 0.3089, 0.631, 0.4404]), ('2020-01-22', [0.0, 0.0, 0.0, 0.0, 0.0, -0.3182, 0.0, 0.0, -0.5859, -0.1531, 0.0]), ('2020-01-23', [0.2716, 0.0, -0.3182, 0.0, -0.4824, 0.4939, 0.8109, 0.6597, -0.3182, 0.6249]), ('2020-01-24', [0.0, 0.0, 0.6833, 0.0, 0.0, 0.0, -0.8825, 0.0, -0.128, 0.0]), ('2020-01-25', [0.0, 0.0, 0.0, 0.0, 0.1053, 0.0, 0.4019, -0.9287]), ('2020-01-26', [0.0, 0.0, 0.3818, 0.0, 0.0, 0.0, -0.3182, 0.7496]), ('2020-01-27', [-0.25, 0.0, 0.0, 0.0, 0.0, 0.0, -0.6124, 0.2924, -0.0387, 0.9531, 0.0, -0.6408, 0.0, -0.09, -0.4334]), ('2020-01-28', [0.0, 0.0, 0.0, 0.0, 0.0, 0.0, 0.3612, -0.6115, 0.0, -0.7673]), ('2020-01-29', [0.0, 0.1779, 0.7506, 0.0, 0.0, 0.9578, 0.6369, 0.4588, 0.0, 0.7717, -0.4482]), ('2020-01-30', [0.0, -0.2732, 0.2732, 0.0, 0.3612, -0.9186, 0.6705, 0.3182, -0.9864]), ('2020-01-31', [0.0, 0.3578, -0.3182, 0.0, 0.0, -0.7845, -0.9886, 0.29600000000000004, 0.0, 0.4404, 0.0]), ('2020-02-01', [0.0, 0.4404, 0.0, -0.0972, 0.755, 0.2093, -0.046, 0.5141]), ('2020-02-02', [0.0, 0.0, 0.4588, 0.0, 0.0, -0.5875, 0.0, 0.9498, 0.9498]), ('2020-02-03', [0.0, 0.0, 0.0, 0.3465, -0.2732, 0.0, 0.718, -0.6597, -0.5859, -0.9089, -0.29600000000000004]), ('2020-02-04', [0.0, 0.0, 0.0, -0.5267, 0.0, 0.0, -0.1759, -0.7089, 0.4404, -0.5118]), ('2020-02-05', [0.0, 0.4404, 0.0, 0.4404, -0.2263, 0.0, -0.34, 0.0, -0.1779, 0.5859]), ('2020-02-06', [0.0, 0.0, -0.1531, -0.4019, 0.0, 0.0, 0.3612, -0.873, -0.4576, 0.6597, 0.0]), ('2020-02-07', [-0.34, 0.4404, 0.0, 0.0, 0.29600000000000004, -0.4019, -0.5719, 0.4939, -0.7096, 0.7506]), ('2020-02-08', [0.0, -0.6739, 0.0772, 0.1695, 0.6757]), ('2020-02-09', [0.0, 0.0, 0.0, 0.0, 0.3182, 0.7964, 0.2023, 0.3612, 0.9937, 0.6369, 0.3612, -0.0258]), ('2020-02-10', [0.0, 0.6808, 0.0, 0.0, 0.0, 0.9583, -0.4588, 0.0, 0.0, 0.0, -0.8271, 0.8338]), ('2020-02-11', [0.0, 0.1779, 0.0, -0.7783, 0.0, 0.2263, 0.5927, 0.1779, 0.6652, 0.0]), ('2020-02-12', [0.0, -0.5423, 0.0, 0.7184, 0.0, -0.128, 0.7783, -0.017, 0.5256, -0.5106, -0.4399]), ('2020-02-13', [0.0, 0.6369, 0.0, 0.0, 0.0, 0.6808, -0.5267, 0.0]), ('2020-02-14', [0.0, 0.0, 0.0, 0.0, 0.0, 0.2732, 0.6115]), ('2020-02-15', [-0.4019, -0.4215, 0.0, 0.0, 0.4019, -0.5584, 0.4664, 0.5483, 0.6115, -0.0862, 0.32299999999999995, 0.0, 0.8208]), ('2020-02-16', [0.1027, 0.0, 0.0, 0.0, 0.0, -0.29600000000000004, 0.0, 0.0772, 0.0772]), ('2020-02-17', [0.0, 0.4588, 0.0, -0.4058, -0.8496, 0.0, 0.0, 0.0]), ('2020-02-18', [0.0, 0.0, 0.0, 0.0, 0.0, 0.4404, 0.0, 0.7743, 0.2023, 0.3182, -0.5983, 0.0, 0.0, 0.7003]), ('2020-02-19', [0.3818, 0.3182, -0.2263, 0.5719, 0.0, 0.7918, 0.0, 0.0, 0.0]), ('2020-02-20', [0.6705, -0.29600000000000004, 0.5106, 0.0, -0.1531, -0.6988, -0.7351, -0.5719, 0.2942]), ('2020-02-21', [0.0, 0.0, 0.0, 0.0, 0.0, 0.0, -0.5994, -0.2732, 0.0, -0.8591, 0.34, 0.0]), ('2020-02-22', [0.0, 0.0, 0.0, 0.0, 0.0, -0.7096, 0.6808]), ('2020-02-23', [0.0, 0.0, 0.0, 0.4744, -0.2755, -0.4939, 0.0, -0.9204, -0.3885, 0.0]), ('2020-02-24', [0.4404, -0.29600000000000004, 0.0, 0.7632, -0.3182, 0.0, -0.5319, 0.0, -0.3506]), ('2020-02-25', [0.0, 0.0, 0.0, 0.3182, 0.0, 0.0, -0.6597, -0.6369, 0.34]), ('2020-02-26', [0.0, 0.0, 0.0, 0.0, 0.4708, 0.9095]), ('2020-02-27', [0.0, 0.0, -0.29600000000000004, 0.0, -0.29600000000000004, 0.7351, 0.6369, -0.1467, -0.2263, 0.2185, -0.6705, -0.5302, 0.4172, -0.7019, 0.7184]), ('2020-02-28', [-0.3182, 0.0, 0.0, 0.0, 0.0, 0.0, -0.29600000000000004, 0.0, -0.7003, 0.7624, 0.128]), ('2020-02-29', [0.0, 0.6124, 0.0, 0.0, -0.1655, 0.0, 0.0, 0.9154, -0.8538]), ('2020-03-01', [0.0, -0.2057, 0.0, 0.0, 0.0, -0.9789, 0.3182]), ('2020-03-02', [0.0, -0.7603, -0.4588, -0.5267, 0.0, 0.0, 0.0, -0.3612, 0.0, 0.5105, 0.7987, 0.6705]), ('2020-03-03', [0.0, 0.0, -0.2023, 0.0, -0.6908, 0.6408, 0.3182, -0.9987, -0.7759]), ('2020-03-04', [0.0, 0.0, 0.0, 0.0, 0.0, 0.0, 0.0, -0.3885, -0.8625, 0.9809, 0.4215, -0.2714]), ('2020-03-05', [0.29600000000000004, 0.0, 0.0, 0.0, 0.0, 0.5760000000000001, -0.2263, -0.128, 0.0]), ('2020-03-06', [0.0, 0.0, 0.0, -0.5859, 0.0, 0.0, -0.1531, 0.8625, 0.3885, -0.7867, -0.1615]), ('2020-03-07', [0.0, -0.3182, 0.0, 0.0, 0.6908, 0.0, 0.25, 0.34]), ('2020-03-08', [0.0, 0.0, 0.8555, 0.0, 0.4588, 0.0, -0.5267, 0.0, 0.0]), ('2020-03-09', [0.5106, 0.0, 0.0, 0.0, -0.4767, 0.0, 0.0, 0.0, -0.111, 0.2382, 0.0, 0.636, 0.4019]), ('2020-03-10', [0.0258, 0.0, 0.2732, 0.0, 0.0, -0.6486, 0.0, -0.3818]), ('2020-03-11', [0.4019, 0.2244, 0.0, 0.6124, 0.0, 0.0, 0.2732, -0.6697, 0.3182, 0.8573]), ('2020-03-12', [0.34, -0.836, 0.1027, 0.0, 0.0, 0.34, 0.0, 0.7034, 0.9251, 0.3612]), ('2020-03-13', [0.0, 0.0, 0.0, 0.0, 0.0, 0.7311, 0.0, 0.0, -0.9579, 0.0, 0.0, 0.431]), ('2020-03-14', [0.0, 0.0, 0.0, 0.6808, 0.0, -0.1027, -0.2911, 0.8762, 0.0, 0.0, 0.0772, -0.3182]), ('2020-03-15', [0.0, 0.0, 0.0, 0.2023, -0.0772, 0.8741, 0.6798]), ('2020-03-16', [0.0, 0.0, -0.5423, 0.4215, 0.0, 0.0, 0.5719, 0.0, 0.4939, 0.0, 0.0]), ('2020-03-17', [-0.5106, -0.3182, 0.0, 0.4767, 0.0, 0.4215, 0.9386, 0.9386, 0.4168, 0.9386, 0.3612]), ('2020-03-18', [0.0, -0.4019, -0.1531, 0.0, 0.9584]), ('2020-03-19', [0.3182, 0.5622, -0.8519, 0.4005, -0.5563, 0.6705, 0.5267, 0.0]), ('2020-03-20', [0.0, 0.0, 0.0, 0.0, 0.0, -0.9652, 0.0, 0.0, 0.0, 0.34, 0.0, -0.5413]), ('2020-03-21', [0.0, 0.8429, 0.0, 0.8668, 0.8162]), ('2020-03-22', [0.0, 0.0, 0.0, 0.2732, 0.4215, 0.0, 0.4215, 0.0, 0.25, 0.0, 0.1548, -0.6597]), ('2020-03-23', [0.0, 0.0, 0.0, -0.1027, 0.6369, -0.5423, 0.4337, -0.3612, 0.0, -0.3182, 0.0, 0.7351]), ('2020-03-24', [0.0, 0.0, 0.0, -0.2732, 0.0, -0.7506, 0.5101, 0.8641, 0.0, -0.8909]), ('2020-03-25', [0.0, 0.0, 0.0, 0.0, 0.5719, 0.0, -0.5423, 0.0]), ('2020-03-26', [0.0, 0.0, 0.0, -0.29600000000000004, 0.0, 0.0, 0.1984, 0.9386, 0.3612, 0.4615, -0.6808]), ('2020-03-27', [0.0, 0.6249, 0.0, 0.0, 0.9386, 0.9834, 0.0, -0.6553]), ('2020-03-28', [0.0, 0.0, 0.7184, 0.4215, 0.0, 0.0, 0.0, 0.0, 0.9834, 0.6369, 0.2263, 0.2023, -0.5994, 0.0]), ('2020-03-29', [0.3164, 0.0, -0.6771, -0.3612, 0.2168, 0.0, 0.0, 0.3612, -0.5267, -0.4939, -0.0972]), ('2020-03-30', [0.0, -0.4019, 0.6369, 0.9136, 0.7184, 0.7269, 0.0]), ('2020-03-31', [0.4215, 0.0, 0.0, -0.1702, 0.4939, -0.3182, -0.5106]), ('2020-04-01', [-0.1531, 0.0, 0.0, 0.0, 0.0, 0.0, 0.0, 0.0, -0.6597, 0.0, 0.5423, 0.3612, 0.3612]), ('2020-04-02', [0.0, 0.0, 0.0, -0.6486, 0.0, 0.6896, -0.9946, 0.6872]), ('2020-04-03', [-0.1779, 0.5719, 0.0, 0.0, 0.5719, 0.5719, 0.5719, -0.7073, -0.8074, -0.5574, 0.5264, 0.0, -0.7835, -0.5214, 0.3818]), ('2020-04-04', [0.0, 0.0, 0.1531, 0.5106, -0.8949, 0.4404, 0.6059, 0.6956, -0.0772]), ('2020-04-05', [0.0, -0.4767, 0.0, 0.0, 0.0, 0.2354, 0.8151, 0.0, 0.9246, 0.1154]), ('2020-04-06', [0.7841, -0.0943, 0.3818, 0.0, -0.624, 0.0, 0.5092]), ('2020-04-07', [0.0, 0.0, 0.0, 0.5267, -0.5423, -0.0516, 0.8795, -0.4003, -0.2263]), ('2020-04-08', [0.0, 0.0, -0.5574, 0.3612, -0.4215, -0.5267, -0.1154, 0.3612, 0.0, 0.0, -0.6255, 0.9786]), ('2020-04-09', [0.0, 0.29600000000000004, 0.29600000000000004, 0.0, 0.0, 0.0, -0.0772, -0.0772, -0.8591, -0.7876, 0.0, 0.0]), ('2020-04-10', [0.0, 0.0, 0.0, -0.743, 0.6688, -0.7996]), ('2020-04-11', [-0.5531, 0.4767, 0.1531, -0.1027, 0.0, 0.2263, 0.7876, 0.8314, 0.8178]), ('2020-04-12', [0.4767, 0.4767, 0.4019, 0.0, 0.2732, 0.0, -0.3557, 0.0, 0.6381]), ('2020-04-13', [0.0, 0.0, 0.4404, -0.4404, 0.2023, 0.0]), ('2020-04-14', [0.0, 0.0, 0.4648, 0.0, -0.6486, 0.0, 0.0, 0.5905, -0.81, -0.9231, 0.1531, -0.4854]), ('2020-04-15', [0.0, 0.0, 0.0, 0.0, 0.4046, -0.3818, -0.5499, 0.4404, -0.2263, 0.0, -0.8859999999999999, 0.0]), ('2020-04-16', [0.0, 0.0, 0.2716, -0.4019, 0.0, 0.0, 0.0, 0.5574, 0.0]), ('2020-04-17', [0.0, 0.0, 0.0, 0.29600000000000004, 0.0, 0.4912, 0.7506, -0.9478, -0.3612, -0.0516, 0.0, 0.5106]), ('2020-04-18', [0.0, 0.7003, 0.0, 0.0, 0.0, 0.0, 0.0]), ('2020-04-19', [0.0, 0.0, 0.0, 0.0, -0.4091, -0.5195, 0.6486, 0.0, -0.3875, 0.0, 0.0, 0.3612]), ('2020-04-20', [0.29600000000000004, 0.1027, 0.0, -0.6486, 0.9313, -0.5673, 0.765, -0.5848, -0.47100000000000003]), ('2020-04-21', [0.0, 0.0, -0.5719, 0.0, 0.0, 0.0, 0.0, 0.0, 0.0, 0.0, -0.7783, 0.3182, -0.29600000000000004]), ('2020-04-22', [0.0, 0.0, 0.0, 0.0, -0.3626]), ('2020-04-23', [0.0, -0.2732, 0.0, -0.29600000000000004, -0.1666, 0.1779, 0.0, 0.0, 0.6908, 0.5719]), ('2020-04-24', [0.0, 0.0, 0.0, 0.0, 0.0, 0.25, 0.0, 0.0, -0.7003, -0.5423, 0.4939, 0.5423]), ('2020-04-25', [0.0, 0.0, 0.0, 0.7156, -0.3215, 0.0, -0.9231, -0.3182, 0.5719, 0.8074, -0.7935]), ('2020-04-26', [-0.5256, -0.25, 0.0, 0.0, 0.0, 0.0, 0.0, 0.5106, -0.4404, 0.6786]), ('2020-04-27', [0.0, -0.4019, 0.0, 0.0, -0.0516, 0.7876, 0.0]), ('2020-04-28', [0.0, 0.0, 0.0, 0.0, 0.0, -0.1461, -0.9784, -0.9782, -0.9809, 0.0, -0.3975, -0.5267, 0.0]), ('2020-04-29', [0.4574, 0.0, 0.0, 0.2732, -0.3182, 0.0, -0.4005, 0.0]), ('2020-04-30', [0.0, 0.0, 0.0, 0.0, 0.0, 0.3182, -0.0946, 0.6940000000000001, 0.9432, 0.0, -0.7184, 0.0516]), ('2020-05-01', [0.0, 0.0, 0.34, 0.0, 0.0, 0.6808, -0.2118, -0.2023]), ('2020-05-02', [0.0, 0.0, 0.0, 0.7717, -0.25, 0.3566, 0.0, 0.4939, 0.8283, -0.5255, 0.6808]), ('2020-05-03', [0.8481, 0.0, 0.2023, 0.5859, 0.0018, -0.1298, 0.0, -0.1027, 0.0, 0.6192, 0.0]), ('2020-05-04', [0.0, 0.0, 0.7717, 0.4754, 0.4336, 0.9922, -0.1795]), ('2020-05-05', [0.0, 0.0, -0.5267, 0.7579, 0.0, 0.0, 0.0, 0.9514, -0.723, 0.0772, 0.6486, 0.3182, 0.0, -0.3182]), ('2020-05-06', [0.0, 0.0, -0.4019, -0.9272, 0.3612, -0.1111, 0.0, 0.25]), ('2020-05-07', [0.3818, 0.0, 0.6597, 0.0, 0.0, 0.0, 0.0, 0.2247, 0.6249]), ('2020-05-08', [0.0, 0.0, 0.0, 0.8582, -0.7964, -0.5574, 0.4404, 0.3415, 0.0, 0.0]), ('2020-05-09', [0.0, 0.0, 0.7351, 0.29600000000000004, 0.7351, 0.0, -0.5859]), ('2020-05-10', [0.0, 0.0, 0.0, 0.0, 0.0, 0.0, 0.0, -0.6597, 0.9359999999999999, -0.3818, 0.2042, 0.0]), ('2020-05-11', [0.0, 0.0, 0.0, 0.0, 0.0, -0.4767, -0.2023, 0.5423, -0.128, 0.0, 0.4926]), ('2020-05-12', [-0.2057, 0.0, 0.743, 0.1625, 0.6239, 0.4404, 0.0278, 0.3137, 0.8483, 0.0, 0.5975]), ('2020-05-13', [0.9179, 0.7184, 0.0, 0.0, 0.0, -0.5423, 0.3933, 0.0]), ('2020-05-14', [0.0, 0.0, -0.25, 0.0, 0.0, -0.6046, 0.128, 0.3542]), ('2020-05-15', [0.0, -0.5859, 0.34700000000000003, -0.5423, 0.0, 0.0, -0.2411, -0.3818, 0.8807, 0.7783, 0.5574, 0.0, 0.128, 0.0, 0.3818]), ('2020-05-16', [0.0, 0.4696, 0.0, -0.6948, 0.0, 0.8315]), ('2020-05-17', [-0.2411, 0.0, 0.0, 0.0, -0.3818, 0.0, 0.9427, 0.0, 0.7959999999999999]), ('2020-05-18', [0.6369, 0.3612, 0.0, 0.0, 0.0772, 0.0, 0.0, 0.0, 0.2247, 0.8347, 0.4215, 0.0, -0.2263, -0.7351]), ('2020-05-19', [0.4576, 0.0, 0.2023, -0.4019, -0.3818, 0.9913, 0.4926]), ('2020-05-20', [0.0, 0.2023, 0.0, 0.0, 0.6124, 0.2753, 0.5434, -0.8658, 0.8424, 0.3612, 0.9698]), ('2020-05-21', [0.0, 0.0, -0.4767, 0.2023, -0.4767, 0.4939, 0.0, 0.2263, -0.4404, -0.1436]), ('2020-05-22', [0.0, 0.0, 0.6249, 0.4724, 0.504, 0.0, 0.7003, 0.3724, -0.54, 0.0094, -0.6688]), ('2020-05-23', [0.0, 0.0, 0.0, 0.0, 0.6597, 0.0, 0.6168, -0.4767, 0.6335]), ('2020-05-24', [0.0, 0.0, 0.0, 0.0, 0.0, 0.0, 0.8481, -0.327, -0.168]), ('2020-05-25', [0.6124, 0.0, 0.0, 0.5106, 0.0, 0.7269, 0.0, 0.7469, 0.9703, 0.7351, 0.8979]), ('2020-05-26', [-0.4019, 0.0, 0.0, -0.128, 0.0, 0.0, -0.5859, 0.0, 0.5423, 0.0]), ('2020-05-27', [0.0, 0.0, 0.0, 0.8398, 0.0, -0.2023, -0.4019, 0.4716, 0.0, -0.6808]), ('2020-05-28', [0.0, 0.0, 0.7501, 0.6369, 0.4019, 0.0, -0.4278, 0.34, 0.8271]), ('2020-05-29', [0.0, 0.0, 0.6369, 0.0, 0.0, 0.0, 0.5267, 0.0, 0.0, 0.0, 0.0, -0.8386, 0.0, -0.2023]), ('2020-05-30', [0.0, -0.126]), ('2020-05-31', [0.0, 0.0, 0.0, 0.4404, 0.0, 0.0, -0.3818, 0.0258, -0.0531, -0.9861, 0.7845, 0.4939, -0.34, 0.9153, 0.9416]), ('2020-06-01', [0.0, 0.0, 0.4019, 0.9386, -0.8743, -0.8442, 0.0, -0.835]), ('2020-06-02', [0.0, 0.0, 0.0, -0.1774, 0.5423, 0.0, -0.2023, 0.4854, -0.9253, -0.5653, -0.5267, 0.7156]), ('2020-06-03', [0.0, 0.0, 0.0, 0.0, 0.0, 0.4019, -0.5423, 0.0, 0.0, -0.743]), ('2020-06-04', [-0.7351, 0.0, 0.6199, -0.2732, 0.0, -0.2732, 0.3612, 0.5106, 0.0258]), ('2020-06-05', [0.0, 0.0, 0.0, 0.0, 0.0, 0.0, 0.0, 0.6124, -0.6809999999999999, 0.4215, -0.0772]), ('2020-06-06', [0.0, 0.0, 0.0, 0.0, -0.9082, 0.0, -0.0139, 0.3612, 0.905]), ('2020-06-07', [-0.5574, 0.0, 0.0, 0.0, 0.4939, 0.4404, 0.0, 0.8957, -0.836, 0.9417, 0.6318]), ('2020-06-08', [0.0, 0.0, -0.2732, 0.2023, -0.5574, 0.5789, -0.8151, 0.7184, 0.0]), ('2020-06-09', [0.784, 0.6696, 0.0, 0.0, 0.0, 0.0, 0.0, 0.4939]), ('2020-06-10', [0.0, 0.29600000000000004, 0.0, 0.0, 0.1779, 0.4404, 0.3612, -0.8418, -0.0516, 0.7648, 0.0, 0.1779, 0.4588, 0.2263]), ('2020-06-11', [0.0772, 0.34, 0.0, 0.0, 0.0, -0.4215, -0.5423]), ('2020-06-12', [0.0, 0.0, 0.4278, 0.0, 0.743, 0.0, 0.0, 0.2263, -0.34, -0.29600000000000004, -0.6428, -0.29600000000000004, -0.4137]), ('2020-06-13', [0.0, 0.0, 0.5994, -0.2732, 0.9607, -0.0772, 0.9469, 0.8674, 0.9193, 0.9608]), ('2020-06-14', [0.4019, -0.2732, 0.0, 0.6705]), ('2020-06-15', [0.6965, 0.0, 0.3818, 0.0, -0.29600000000000004, 0.7479]), ('2020-06-16', [0.0, 0.0, -0.5106, -0.8878, 0.9349, 0.5256, 0.0, -0.4497]), ('2020-06-17', [0.0, 0.0, 0.0, -0.4215, 0.0, 0.0, 0.4404, 0.8047, 0.0, 0.0, 0.0, -0.7845]), ('2020-06-18', [-0.8122, 0.0, 0.0, 0.0, -0.6588, 0.2023, 0.1027, -0.6124, 0.2129, 0.0]), ('2020-06-19', [0.0, 0.0, -0.1818, 0.0, -0.5423, -0.7351, -0.6597, -0.6486, 0.5473, 0.0, 0.431]), ('2020-06-20', [0.0, 0.0, 0.0, 0.0, 0.0, -0.802, 0.0, 0.9601, 0.0, 0.5565]), ('2020-06-21', [0.5994, 0.0, 0.0, 0.0, 0.0, -0.8689, 0.34, 0.4215, 0.4939, 0.9801]), ('2020-06-22', [0.0, 0.4926, 0.0, 0.0, 0.0, 0.0, 0.0, 0.2023, 0.3535, 0.0, 0.0]), ('2020-06-23', [0.0, 0.0, 0.0, -0.4019, 0.0, -0.7579, -0.5859, 0.0, -0.29600000000000004]), ('2020-06-24', [0.0, 0.0, 0.0, -0.1873, -0.7964, 0.2023, 0.3773, -0.4588, 0.1796, 0.5106]), ('2020-06-25', [0.0, 0.0, 0.0, 0.0, 0.4927, -0.1027, -0.9829, 0.5106]), ('2020-06-26', [0.0, 0.3612, 0.0, 0.0, 0.3818, 0.6369, 0.0, 0.4754, -0.3182, 0.5783, 0.8794]), ('2020-06-27', [0.0, 0.0, 0.0, 0.0, 0.5106, -0.1779, 0.3612, 0.0, 0.1027, 0.0, -0.5972, 0.0]), ('2020-06-28', [0.0, 0.0, 0.0, 0.0, 0.3182, 0.0, -0.631, 0.0, 0.0]), ('2020-06-29', [0.5267, 0.5267, 0.0, 0.0, 0.0, 0.0, -0.2887, 0.0]), ('2020-06-30', [0.0, 0.0, 0.4939, 0.0, 0.0, 0.0, 0.0, 0.0258, 0.7137, 0.0]), ('2020-07-01', [0.0, 0.4939, 0.0, 0.4939, -0.29600000000000004, 0.4939, 0.1531, -0.5423, 0.34, 0.0, -0.659, 0.0]), ('2020-07-02', [0.0, 0.0, 0.0, -0.3919, -0.7906, 0.0]), ('2020-07-03', [0.1779, 0.4404, 0.1779, 0.0, 0.0, 0.7717, 0.25, 0.5242, 0.0, 0.8925, 0.5719, -0.0276]), ('2020-07-04', [0.5859, 0.1779, 0.1779, 0.0, 0.1779, 0.0, 0.9006, 0.7245, 0.0, 0.9604]), ('2020-07-05', [-0.1779, -0.1779, -0.1779, 0.3612, 0.0, 0.0, 0.7402, 0.0, 0.7269]), ('2020-07-06', [0.0, 0.0, 0.4404, -0.2732, 0.2263, 0.2263, 0.5984, 0.3612, 0.0, -0.7622, -0.7197, 0.802, 0.29600000000000004]), ('2020-07-07', [0.2732, 0.3818, -0.0258, 0.29600000000000004, 0.0, -0.946, -0.8074, 0.0]), ('2020-07-08', [0.0, -0.34, 0.0, 0.4767, 0.0, -0.8783, 0.1877, 0.4939, -0.7964]), ('2020-07-09', [-0.29600000000000004, 0.0, 0.4023, 0.0, -0.5362, -0.2498, -0.0356, 0.7033, 0.0, 0.0361, 0.0]), ('2020-07-10', [0.7456, 0.0, 0.0, 0.0, 0.0, 0.0, 0.6124, 0.9273, 0.4215, 0.0, 0.2732]), ('2020-07-11', [0.0, 0.0, -0.8439, 0.3384, 0.9609, 0.0, -0.8032]), ('2020-07-12', [0.0, 0.4003, 0.0, 0.0, 0.0, 0.0, 0.5932, 0.0, 0.0, -0.5423]), ('2020-07-13', [0.6486, 0.0, 0.3182, 0.0, -0.1406, 0.0, 0.7717, 0.0, 0.5964, 0.894, -0.6808]), ('2020-07-14', [0.0, 0.0, 0.25, 0.25, 0.0, -0.5106, 0.0, 0.0, -0.6597, 0.4404, 0.0, 0.0]), ('2020-07-15', [0.0, 0.0, 0.5719, 0.0, 0.0, 0.0, 0.0, 0.0, 0.0, 0.0, 0.0]), ('2020-07-16', [0.4019, 0.4023, 0.0, 0.0, -0.1114, 0.4162, 0.0, -0.7297, 0.0, 0.0]), ('2020-07-17', [-0.1531, 0.0, -0.2023, -0.0258, 0.4404, 0.4404, 0.8442, 0.7757, 0.0, 0.5789]), ('2020-07-18', [0.0, 0.2732, 0.0, 0.3919, -0.2263, 0.0]), ('2020-07-19', [-0.2755, 0.0, 0.2023, 0.2023, 0.0, 0.0, 0.6249, 0.0, 0.4866, 0.0, 0.6705, 0.4404, 0.8838, -0.1742, 0.9684]), ('2020-07-20', [0.0, 0.0, 0.0, 0.0, 0.9801, -0.0258, 0.0, 0.3612, 0.0]), ('2020-07-21', [0.25, 0.25, 0.0, 0.0, -0.2755, 0.3612, 0.0, -0.3612, 0.9927, 0.25, 0.0]), ('2020-07-22', [0.0, -0.5267, 0.0, 0.7579, 0.0, -0.5267, 0.9012, 0.0, -0.4019]), ('2020-07-23', [0.0, 0.0, -0.6808, 0.0, 0.34, 0.7096, 0.1531, 0.7269, 0.0, 0.7829, 0.9796]), ('2020-07-24', [0.0, 0.0, 0.0, 0.0, 0.0, -0.0341, 0.0516, 0.9062]), ('2020-07-25', [0.0, -0.5307, 0.0, 0.0, 0.0516, 0.0, 0.8679, 0.8268, 0.4678, 0.4404, 0.2023]), ('2020-07-26', [0.0, 0.4588, 0.9561, 0.5994, 0.8205, 0.9591, 0.5106]), ('2020-07-27', [0.0, 0.7351, 0.7096, 0.0, 0.0, 0.5106, 0.0, 0.0, 0.9153, -0.4019, -0.2263, 0.1779, -0.1255, -0.2732, 0.8]), ('2020-07-28', [0.0, -0.2263, 0.8622, -0.9318, 0.0]), ('2020-07-29', [0.0, 0.1779, 0.1779, 0.1779, 0.0, -0.0516, 0.0, 0.0, -0.1027, -0.8304, -0.5267, 0.1779, 0.0]), ('2020-07-30', [-0.4588, 0.2023, -0.3182, 0.0, -0.9128, 0.8413, -0.4767, 0.466, 0.0, 0.2263, 0.4215]), ('2020-07-31', [0.4767, 0.4404, 0.0, 0.0, 0.0, 0.0, 0.8235, -0.4767, 0.0258, 0.0, 0.4404]), ('2020-08-01', [0.29600000000000004, 0.882, 0.0, 0.0, 0.0, 0.0, 0.4003, -0.264]), ('2020-08-02', [0.2023, 0.2023, 0.5267, 0.0, 0.34, 0.0, -0.5574, -0.6459999999999999, 0.4404]), ('2020-08-03', [0.3164, -0.29600000000000004, 0.34, 0.34, 0.34, 0.34, 0.0, 0.2023, -0.128]), ('2020-08-04', [0.0, 0.0, 0.0, 0.3818, 0.2617, -0.9102, -0.1531, 0.0, 0.29600000000000004, -0.469, 0.2263, 0.1531, -0.8119]), ('2020-08-05', [0.0, 0.0, 0.0, 0.4466, 0.0, 0.0, 0.1779, 0.4466, 0.0]), ('2020-08-06', [0.0, 0.0, -0.1531, 0.5106, 0.0, -0.3595, 0.1779, 0.5859, 0.7906]), ('2020-08-07', [0.0, 0.0, 0.0, 0.2023, -0.5106, 0.0, 0.3612, 0.0, 0.5707, 0.7034, 0.6908, 0.816, 0.9217]), ('2020-08-08', [0.0, 0.3612, 0.6597, 0.0, 0.9467]), ('2020-08-09', [0.0, 0.0, 0.1589, 0.0, 0.0, 0.3164, 0.0, 0.3612, 0.0, 0.0, 0.5994, 0.0]), ('2020-08-10', [0.0, 0.0, -0.29600000000000004, 0.0, 0.0, 0.0, 0.0, 0.0, 0.1779, -0.5423]), ('2020-08-11', [-0.4767, 0.0, 0.0, 0.0, 0.2023, 0.0, 0.0, 0.8399, 0.0, 0.9495]), ('2020-08-12', [0.0, -0.0516, -0.25, 0.5837, -0.2023, 0.1779, 0.4404, 0.0]), ('2020-08-13', [0.0, 0.0, 0.0, 0.2023, 0.0, -0.2732, 0.0, 0.9306, 0.0, 0.0, -0.9205, -0.6476]), ('2020-08-14', [-0.2263, 0.0, -0.29600000000000004, 0.2023, 0.0, -0.9357, -0.7845, 0.5574, 0.4215, 0.4939, -0.8352]), ('2020-08-15', [0.0, 0.0, 0.0, 0.0, 0.0, 0.128, -0.3182, 0.4215]), ('2020-08-16', [0.4404, 0.0, 0.0, 0.0, -0.5904, 0.0, 0.0, 0.0, 0.0]), ('2020-08-17', [0.5267, 0.0, 0.0, 0.0, 0.2023, 0.34, 0.0, -0.8548, 0.0, -0.9769, 0.5719, -0.0772, 0.0]), ('2020-08-18', [-0.2263, -0.2533, -0.3818, 0.0, -0.5766]), ('2020-08-19', [0.0, 0.0, 0.4404, 0.0, -0.3736, 0.0, 0.0, 0.2023, 0.5859, 0.0, 0.0, 0.0516, 0.0, 0.2732, 0.4767, -0.29600000000000004]), ('2020-08-20', [0.3182, 0.0, 0.0, 0.0, 0.0, 0.0, -0.2732, 0.2023, -0.128]), ('2020-08-21', [0.0, 0.0, 0.0, 0.4767, 0.3612, 0.0, 0.0]), ('2020-08-22', [0.0, 0.0, 0.0, 0.6369, 0.4019, 0.4019, 0.3612, 0.4588, 0.0, 0.0, 0.0, 0.8402, 0.0]), ('2020-08-23', [0.0, 0.4404, -0.5423, 0.34, -0.5423]), ('2020-08-24', [0.0, 0.0, 0.0, -0.4019, 0.0, 0.0, -0.7412, 0.4754, 0.0, -0.6428, 0.5719]), ('2020-08-25', [-0.0516, 0.3695, 0.0, -0.1531, -0.5574, 0.2023, 0.0, 0.0, 0.0, 0.0, 0.0, 0.0772]), ('2020-08-26', [0.29600000000000004, 0.34, 0.0, 0.0, -0.2883, -0.3818, -0.5859, 0.0, 0.1027, -0.5859]), ('2020-08-27', [0.0, 0.3818, 0.5574, -0.29600000000000004, 0.0, 0.0, 0.3182, 0.2263, -0.128, 0.0, -0.2732, 0.0]), ('2020-08-28', [0.0, -0.7236, -0.7236, 0.0, -0.8504, 0.0, 0.3182, -0.7564, 0.0]), ('2020-08-29', [0.5267, 0.0, 0.0, 0.1058, 0.6249, 0.0, -0.7184, 0.8622, -0.6652]), ('2020-08-30', [0.128, 0.0, 0.0, 0.0, 0.0, 0.0, 0.3612, 0.5106, 0.0, 0.3612]), ('2020-08-31', [0.2144, 0.25, 0.0, 0.0, 0.0, -0.6083, 0.8777, 0.0, 0.128, 0.29600000000000004, 0.7133, -0.5423]), ('2020-09-01', [0.0, 0.29600000000000004, 0.0, 0.0, 0.0, -0.4152, 0.9498, 0.7351, 0.0, 0.6249]), ('2020-09-02', [0.0, -0.6597, 0.0, -0.29600000000000004, 0.0, -0.5423, 0.0, 0.0]), ('2020-09-03', [0.0, -0.4019, 0.0, 0.4019, 0.0, 0.0, -0.6249, 0.0, 0.0, 0.0, -0.1697, -0.8806, -0.7121, 0.0]), ('2020-09-04', [0.0, 0.0, 0.0, 0.0, 0.0, 0.0, 0.7841, 0.784]), ('2020-09-05', [0.0, 0.0, 0.0, 0.3182, -0.34, 0.1531, 0.8271, 0.4939, 0.0, -0.7935, 0.4404, 0.4215]), ('2020-09-06', [0.0, 0.0, 0.29600000000000004, 0.5267, 0.9463, 0.0, -0.7579, 0.3506, 0.0]), ('2020-09-07', [0.6408, 0.5719, 0.0, 0.0, 0.3612, 0.0]), ('2020-09-08', [0.0, 0.4404, -0.25, 0.0, 0.0, -0.4588, 0.0, 0.0, 0.0772, 0.802, -0.204, 0.0, -0.5574]), ('2020-09-09', [0.3182, -0.6249, -0.3182, 0.0, -0.1027, 0.0, -0.5423, -0.6628, 0.0, 0.0772]), ('2020-09-10', [-0.3182, 0.34, 0.0, 0.0, 0.0, 0.0, 0.3788, -0.8396, -0.8705, 0.4404, -0.8803]), ('2020-09-11', [0.0, -0.4404, -0.4404, 0.7783, 0.0, 0.3182, 0.4019, 0.2263, 0.6369, -0.6486]), ('2020-09-12', [0.0, 0.0, -0.2732, -0.6486, -0.294, 0.9758, 0.4404]), ('2020-09-13', [-0.1531, 0.4265, 0.0, -0.0258, 0.6588, -0.1043, 0.4404, 0.0, 0.0, 0.1926, -0.9428, 0.0]), ('2020-09-14', [0.2023, 0.0, 0.0, 0.3818, 0.6124, 0.4588, -0.3182, -0.2263]), ('2020-09-15', [0.4588, 0.6166, 0.7096, 0.0, 0.2023, -0.3818, -0.0516, 0.2732, 0.4588, 0.0, -0.5423, 0.6767, -0.5574]), ('2020-09-16', [0.2732, 0.0, 0.2023, 0.0, 0.0, 0.0, 0.0, 0.0, 0.8797]), ('2020-09-17', [0.0, 0.7717, 0.0, 0.0, -0.1783, 0.4215, 0.4404, -0.0679, 0.9722, -0.9201, 0.0]), ('2020-09-18', [0.0, 0.0, 0.0, -0.1027, -0.3412, -0.5267, 0.3736, 0.0, 0.2944, 0.0, 0.128]), ('2020-09-19', [0.0, 0.0, 0.34, 0.34, 0.0, 0.987, 0.0, -0.8469, 0.6369]), ('2020-09-20', [0.0, 0.0, 0.4019, -0.5423]), ('2020-09-21', [0.0, 0.0, -0.4404, -0.29600000000000004, -0.4767, 0.2023, 0.0, 0.0, 0.0, 0.0, 0.1511, -0.5267, 0.4574, 0.4019, 0.29600000000000004]), ('2020-09-22', [0.0, 0.0, 0.7579, -0.34, 0.4003, 0.0, 0.0, -0.8481]), ('2020-09-23', [0.0, 0.5859, 0.0, 0.0, 0.0, -0.1531, 0.6423, -0.5267, 0.7351, 0.0]), ('2020-09-24', [0.6369, 0.0, 0.0, 0.6688, 0.2584, -0.4753, 0.0, -0.2698, 0.6369, 0.8402, 0.0, -0.34, -0.5229, -0.5423]), ('2020-09-25', [0.6996, 0.2023, 0.0, 0.0, 0.5411, -0.4939, -0.3182, -0.2732, 0.0]), ('2020-09-26', [0.0, 0.0, 0.34, -0.4767, -0.4404, 0.8225]), ('2020-09-27', [0.0, 0.4574, 0.0, 0.0, 0.0, 0.0, -0.9343, 0.7992, -0.4512, 0.4588, 0.0]), ('2020-09-28', [0.0, -0.6249, 0.7178, 0.0, 0.0, 0.0258, -0.7661, 0.3818]), ('2020-09-29', [0.0, 0.2732, 0.5859, -0.3804, 0.0, 0.0, 0.4019, -0.4337, 0.0, 0.0516, 0.8939]), ('2020-09-30', [0.0, 0.0, 0.2023, 0.0, 0.0772, -0.9118, -0.4767, 0.4588, 0.6369, 0.9802]), ('2020-10-01', [0.29600000000000004, 0.29600000000000004, 0.2023, 0.2023, -0.29600000000000004, -0.594, 0.7964, 0.5859, -0.2023, -0.5293, 0.9704, -0.2263, 0.3612]), ('2020-10-02', [0.0, 0.2732, 0.0, 0.4404, 0.0, -0.5574, 0.0, 0.0, -0.0258, 0.29600000000000004]), ('2020-10-03', [0.0, 0.0, 0.0, 0.0, 0.0, 0.0, 0.0772, 0.1027]), ('2020-10-04', [0.0, 0.0, 0.0, 0.0, 0.0, 0.0, 0.0, -0.3818, 0.6369, -0.6559999999999999, -0.5994]), ('2020-10-05', [0.0, 0.0, 0.0, -0.7476, -0.5574, 0.0, 0.3182, 0.0]), ('2020-10-06', [0.0, 0.0, 0.0, 0.0, -0.5255, -0.4588, -0.9432, 0.0, 0.0, 0.0, -0.9584, -0.5423]), ('2020-10-07', [0.0, 0.0, 0.0, 0.5473, 0.5949, -0.802, 0.7512, 0.0, 0.0]), ('2020-10-08', [0.4576, 0.0516, 0.0516, 0.0, 0.0, 0.3612, -0.6369]), ('2020-10-09', [0.0, -0.5267, 0.0, 0.0, 0.7319, 0.7351, 0.4588, -0.7837, -0.3612, 0.0, -0.8916, -0.1531, 0.0, 0.0, 0.0, -0.2263]), ('2020-10-10', [0.0, 0.0, 0.0, 0.0, 0.0, -0.8025, 0.29600000000000004]), ('2020-10-11', [0.0, 0.0, -0.5574, 0.4329, 0.0, 0.2023, 0.9386, 0.0, -0.7717, 0.7345]), ('2020-10-12', [0.765, 0.0, 0.4404, 0.4019, 0.0, 0.0, 0.0, 0.0, 0.0, -0.7906, 0.0, -0.5095]), ('2020-10-13', [0.0, -0.3182, 0.4404, 0.0, 0.0, 0.34, 0.5859, 0.0, 0.1516, 0.128, 0.0]), ('2020-10-14', [0.2023, 0.0, 0.0, 0.9452, 0.8625, 0.5473, -0.024]), ('2020-10-15', [0.0, 0.0, 0.0, 0.2023, 0.5859, 0.0, 0.0, 0.0, 0.4588, 0.3274, 0.0, 0.0, 0.5994]), ('2020-10-16', [0.0, 0.2023, 0.6588, -0.7096, -0.2263, 0.1779, 0.0, -0.9309, -0.8481, -0.3412]), ('2020-10-17', [0.0, 0.0, 0.0, 0.0, 0.0, -0.5423, -0.5719, 0.0, 0.3612]), ('2020-10-18', [0.0, 0.0, 0.0, 0.4703, 0.0, -0.29600000000000004, 0.1635, -0.6597, 0.6249]), ('2020-10-19', [0.34, 0.0, 0.5859, 0.0, 0.0, 0.0, 0.7581, 0.0, -0.5106, 0.0, -0.5423, -0.4215, 0.0]), ('2020-10-20', [0.0, 0.0, 0.6166, -0.3695, 0.34, 0.0, 0.2263, 0.0]), ('2020-10-21', [0.0, 0.0, 0.0, 0.25, -0.8442, -0.4939, -0.1363, -0.2263]), ('2020-10-22', [0.4588, -0.1531, 0.0, 0.0, -0.4767, 0.09, 0.8511, 0.0, 0.0, 0.0]), ('2020-10-23', [0.0, 0.0, 0.0, 0.29600000000000004, 0.0, 0.0, -0.1027, -0.5423, 0.0, 0.0, 0.4404, -0.2263]), ('2020-10-24', [0.8225, 0.0, 0.0, 0.0, 0.0, 0.0, 0.7469, 0.0, 0.0, -0.5574]), ('2020-10-25', [0.0, 0.0, 0.0, 0.0, 0.0, 0.8074, 0.2023]), ('2020-10-26', [0.0, 0.3818, 0.0, 0.2023, 0.0, -0.128, -0.3089, 0.0, 0.7713, -0.7351, 0.5574]), ('2020-10-27', [0.1779, 0.2023, 0.0, 0.2023, 0.0, 0.2023, 0.0, -0.5423, 0.5574, 0.6124]), ('2020-10-28', [0.0, 0.0, 0.0, 0.5043, 0.4019, 0.6509999999999999, -0.4767, -0.5994, 0.7269, 0.4404, -0.2338, 0.29600000000000004]), ('2020-10-29', [0.0, 0.4576, 0.0, 0.4278, 0.6996, -0.2743, -0.2023, 0.0, 0.0, -0.9418, -0.25]), ('2020-10-30', [-0.6249, 0.0, 0.1027, 0.3182, 0.29600000000000004, 0.0, 0.1027, 0.1406]), ('2020-10-31', [0.0, 0.6369, 0.4404, -0.6775, 0.0928, 0.7003, 0.0, -0.4588, 0.0, 0.0258]), ('2020-11-01', [0.5859, 0.0, 0.4019, 0.0, 0.0, 0.3818, 0.2023, 0.4404]), ('2020-11-02', [0.0, 0.0, 0.6996, 0.0, 0.0, 0.4576, 0.64, 0.0, -0.6369, 0.4019, 0.4215, 0.0, 0.0, -0.2263]), ('2020-11-03', [0.0, 0.0, 0.2023, 0.0, 0.0516, 0.2263, 0.0]), ('2020-11-04', [0.0, 0.0, 0.0, 0.34, 0.2023, 0.0, -0.8555, -0.4767, 0.0, -0.3818, -0.2263, 0.4404, 0.0, 0.4767]), ('2020-11-06', [0.0, 0.5661, 0.0, 0.0, 0.0, 0.9386, 0.0]), ('2020-11-07', [0.0, 0.0, 0.0, 0.0, -0.3182, 0.4404, 0.34]), ('2020-11-08', [-0.3384, 0.0, 0.0, 0.0, 0.0772, 0.0, 0.8073, 0.7003, 0.0, 0.0, 0.0]), ('2020-11-09', [0.0, 0.0, 0.0, -0.128, -0.5267, 0.5859, 0.0, 0.6597, -0.4981, -0.1779]), ('2020-11-10', [0.0, 0.0, 0.0, 0.0, 0.1027, 0.4404, 0.6249, 0.3182, -0.29600000000000004]), ('2020-11-11', [0.0, 0.4404, 0.0, 0.5859, 0.4576, 0.0, 0.0, 0.0, -0.6914, 0.9241, 0.0, 0.0, 0.0]), ('2020-11-12', [0.0, 0.0, 0.0, -0.1531, 0.0, 0.3612, 0.9428, -0.34, 0.0, -0.5553]), ('2020-11-13', [0.0, -0.3182, 0.8091, 0.0, -0.2732, 0.8091, -0.25, -0.2732, 0.0, 0.9297, 0.3612, 0.855]), ('2020-11-14', [-0.34, 0.0, 0.0, -0.5267, 0.34, 0.0, 0.0]), ('2020-11-15', [0.0, -0.1531, -0.3182, 0.6486, 0.5319, -0.6486, 0.0772, -0.6705, 0.7003, 0.0, -0.5423, 0.9378]), ('2020-11-16', [0.0, 0.0, 0.6996, 0.6996, 0.8588, 0.9482]), ('2020-11-17', [0.0, 0.0, 0.4404, 0.0, 0.2023, 0.0, 0.4576, -0.0516, 0.0, 0.9674, 0.0, 0.0, 0.0, 0.0]), ('2020-11-18', [0.0, 0.0, 0.4576, 0.2023, -0.5859, 0.1779, 0.0]), ('2020-11-19', [0.7269, 0.0, 0.0, 0.0, 0.0, 0.4404, 0.29600000000000004, 0.0, -0.8162, 0.0, -0.4019, 0.0, 0.8862, 0.0]), ('2020-11-20', [0.0, 0.0, 0.0, 0.0, 0.0, 0.8882, 0.0, -0.6408, 0.3612, 0.0]), ('2020-11-21', [0.4278, -0.5106, 0.4754, 0.0, -0.2023, 0.4754, 0.0]), ('2020-11-22', [0.3182, 0.0, -0.4215, 0.0, 0.0, 0.4019, 0.0, 0.1154, -0.6597, 0.0, 0.0516, 0.0, -0.6664, -0.2629]), ('2020-11-23', [0.4754, -0.6428, 0.0, 0.0, 0.0, 0.1531, 0.3612, -0.6187, 0.7184, 0.3612]), ('2020-11-24', [0.0, -0.3182, -0.3182, 0.0]), ('2020-11-25', [-0.3818, 0.0, 0.0, 0.0, 0.0, 0.0, 0.4754, -0.0516, 0.0, 0.0, -0.8214, -0.2263, 0.8476, 0.4754, 0.0]), ('2020-11-26', [0.0, 0.29600000000000004, 0.765, -0.3182, 0.8507, 0.0, -0.4836, 0.0, 0.6249, 0.4939]), ('2020-11-27', [0.29600000000000004, 0.0, 0.4574, 0.0, 0.3182, 0.4404, 0.0, 0.5859, 0.3612, 0.4588]), ('2020-11-28', [0.25, 0.29600000000000004, 0.0, 0.0, 0.0, 0.8588]), ('2020-11-29', [0.0, 0.0, 0.0, 0.0, 0.0516, -0.1531, 0.0, 0.0, 0.0, 0.1511]), ('2020-11-30', [0.368, 0.0, 0.0, 0.0, 0.0, 0.0, 0.0, 0.4576, -0.831, -0.5984, 0.0, 0.3763]), ('2020-12-01', [-0.5423, 0.5859, -0.0516, 0.6369, -0.7906, 0.0, 0.0, -0.1531, 0.4404, 0.0, 0.0]), ('2020-12-02', [0.5106, 0.0, 0.0, 0.3034, 0.765, -0.8590000000000001, 0.9584, 0.0, 0.0]), ('2020-12-03', [0.0, 0.0, 0.0, 0.0, -0.3094, 0.0, 0.1779, -0.5775, 0.2905, 0.0, -0.5399]), ('2020-12-04', [0.0, 0.0, 0.0, 0.4588, 0.0, 0.0, -0.2944, 0.4404, -0.4404]), ('2020-12-05', [0.0, 0.7213, 0.25, 0.6428, 0.0, 0.5423, 0.0, 0.0, 0.3071]), ('2020-12-06', [0.0, 0.0, 0.4019, 0.0, 0.0, 0.0]), ('2020-12-07', [0.2486, 0.0, 0.4588, 0.29600000000000004, 0.0, -0.4019, -0.2023, -0.3182, 0.0, -0.8126, 0.0772, -0.5106]), ('2020-12-08', [0.0, -0.0165, 0.0, 0.7916, 0.0, 0.9684, 0.5346, 0.0, 0.0, 0.9042, 0.5994]), ('2020-12-09', [0.4939, 0.0, 0.6996, 0.7916, 0.0, 0.0, 0.0, 0.0, 0.0, 0.0, 0.0, 0.0]), ('2020-12-10', [0.0, 0.0, 0.4588, 0.4019, 0.0, 0.0, -0.4019, 0.882, 0.6492, -0.743, -0.5106]), ('2020-12-11', [0.7249, 0.0, 0.4404, 0.0, 0.0, 0.5584, -0.1027, 0.3291, 0.1737]), ('2020-12-12', [-0.4019, -0.4019, 0.0, 0.0, 0.8061, 0.51, 0.0, 0.6369]), ('2020-12-13', [0.4019, 0.0, 0.0, 0.5932, 0.4754, 0.0, -0.4019, 0.3182, 0.6597, 0.4215]), ('2020-12-14', [0.0, 0.0, 0.0, 0.2023, -0.3612, 0.0, -0.5574, 0.6236, 0.0, 0.9386, -0.6948]), ('2020-12-15', [0.0, 0.0, 0.0, 0.0, 0.7096, 0.5374, 0.9386, 0.9886, 0.4717, -0.1531, 0.0, -0.2944]), ('2020-12-16', [-0.4871, 0.4588, 0.2023, 0.0, -0.5859, -0.29600000000000004]), ('2020-12-17', [-0.5423, -0.2732, -0.5319, 0.0, 0.0, 0.0, 0.4588, -0.7584, -0.3261, -0.5267, 0.0, 0.4215, 0.8628]), ('2020-12-18', [-0.3612, 0.0, 0.3818, 0.0, 0.29600000000000004, 0.4588, 0.0, -0.8591, 0.34, 0.0]), ('2020-12-19', [0.4754, 0.0, 0.6249, 0.7913, -0.2382, 0.1829, 0.0]), ('2020-12-20', [0.0, 0.6908, 0.0, 0.0, -0.8271, 0.0, -0.5719, -0.29600000000000004, 0.3612, 0.0, 0.9997]), ('2020-12-21', [-0.5096, 0.0, 0.4019, 0.0, 0.0, -0.2059, 0.0, -0.5106, 0.9013, 0.8834, 0.0, 0.0, -0.3962]), ('2020-12-22', [0.0, 0.0, 0.0, 0.0, 0.0, 0.0, 0.0, 0.9692, 0.4019, 0.0, 0.5023]), ('2020-12-23', [0.6369, 0.0, 0.4404, 0.0, 0.4576, 0.0, 0.0, 0.4137, -0.5106, 0.0, 0.0]), ('2020-12-24', [0.2023, 0.0, -0.4767, -0.4019, 0.0, 0.0, 0.0772, 0.9551, 0.0, 0.5173]), ('2020-12-25', [-0.8176, 0.0, -0.8176, 0.0, 0.9136, 0.7385, 0.8202, 0.34, 0.4019]), ('2020-12-26', [0.0, 0.4754, 0.9124, 0.5423, 0.8173, 0.0, 0.7140000000000001]), ('2020-12-27', [-0.2263, 0.6369, 0.5106, 0.0, 0.0, 0.0, 0.0, 0.2023]), ('2020-12-28', [0.0, 0.0, 0.0, 0.128, -0.2023, 0.0, 0.0, 0.3612, 0.0, 0.0, 0.0, 0.0]), ('2020-12-29', [0.0, 0.6369, 0.0, 0.0, 0.0, -0.9976, 0.0, 0.0, 0.0, 0.0772]), ('2020-12-30', [0.3922, 0.0, 0.4215, 0.0, 0.0, 0.0, 0.0, 0.9747, -0.3612, -0.0516]), ('2020-12-31', [0.4576, 0.5859, 0.4576, 0.0, 0.0, -0.3612, 0.0, 0.624, -0.1027, 0.0, 0.9094, 0.0, 0.0, -0.10099999999999999]), ('2021-01-01', [0.0, 0.4754, 0.34, 0.0, 0.5106, 0.0, 0.0]), ('2021-01-02', [0.0, 0.0, 0.0, -0.0534, -0.7096, 0.2382, -0.7964, 0.5213, 0.0, -0.6696]), ('2021-01-03', [0.4404, 0.8313, -0.2732, 0.4754, -0.4019, -0.5106, 0.0, 0.0, -0.7351]), ('2021-01-04', [0.0, 0.4754, 0.0, 0.0, 0.0, 0.3612, 0.0, 0.128, 0.6124, 0.3612, 0.0, 0.0, -0.3182]), ('2021-01-05', [0.0, -0.1027, 0.0, -0.3412, -0.4588, 0.6908, 0.9572, -0.3919]), ('2021-01-06', [0.0, 0.0, 0.4682, -0.9081, 0.8129, 0.6046, -0.4019, 0.0]), ('2021-01-07', [0.0, 0.0, 0.0, 0.0, 0.0, 0.4588, 0.4588, 0.0, -0.0946, 0.0, 0.6597, 0.0, -0.624]), ('2021-01-08', [0.0, 0.0, 0.0, 0.4588, 0.0, 0.0, -0.7003, 0.128]), ('2021-01-09', [0.0, 0.0, 0.1779, 0.29600000000000004, 0.29600000000000004, 0.0, 0.0, -0.3527, -0.9499, 0.8519, 0.6395, 0.4854]), ('2021-01-10', [0.0, 0.3612, 0.0, 0.0, 0.0, -0.29600000000000004]), ('2021-01-11', [0.0, 0.0, 0.0, 0.0, 0.0, 0.0, 0.0, 0.0, 0.5106, 0.5719, -0.8765, -0.6597, 0.0, 0.9313]), ('2021-01-12', [0.4588, 0.0, 0.3016, 0.3612, 0.4404, -0.6523, 0.0, 0.0, 0.7351, 0.9425, 0.0]), ('2021-01-13', [0.4278, 0.6908, 0.802, 0.0, 0.0, 0.4588, 0.0, 0.0, 0.0]), ('2021-01-14', [-0.29600000000000004, 0.0, 0.0, 0.34, 0.0, 0.0, 0.6369, -0.2263, -0.8122]), ('2021-01-15', [0.2732, 0.0, 0.2023, 0.0, -0.3535, 0.0, -0.2732, 0.0, 0.3802, 0.0, 0.29600000000000004, 0.0]), ('2021-01-16', [0.0, 0.0, 0.0, 0.5514, 0.0, 0.0, 0.1635, -0.25, -0.4215, 0.0]), ('2021-01-17', [0.4696, 0.0, 0.0, 0.6369, 0.8032, 0.9317, 0.7184, 0.34]), ('2021-01-18', [0.0, 0.0, 0.4754, 0.0, -0.6428, 0.431, 0.25, 0.0]), ('2021-01-19', [0.0, -0.25, 0.7845, 0.0, 0.0, 0.0, 0.9608, -0.8519, 0.765, 0.9016, 0.0, -0.6115]), ('2021-01-20', [0.29600000000000004, 0.0772, 0.4767, 0.5562, 0.6705, 0.0, 0.4749, 0.0, 0.7656, 0.5106, 0.4767]), ('2021-01-21', [0.3802, 0.4588, 0.6767, 0.0, 0.0, 0.9524, 0.5709, -0.0516, 0.0, 0.6486]), ('2021-01-22', [0.0, 0.4278, 0.0, 0.0, 0.0, 0.4215, 0.29600000000000004, 0.0, 0.0]), ('2021-01-23', [0.0, 0.0, -0.4708, -0.2732, 0.6369, 0.0, 0.7992, 0.552, 0.8602]), ('2021-01-24', [0.0, 0.34, 0.3818, 0.0, 0.0, 0.4927, 0.3973, 0.4939, 0.0, 0.0, 0.2263, 0.0, 0.0, 0.1139]), ('2021-01-25', [0.6351, 0.0, 0.0, 0.0, 0.0]), ('2021-01-26', [0.34, 0.34, 0.4404, 0.5859, 0.0]), ('2021-01-27', [0.0, 0.0, -0.2732, -0.4767, 0.0, 0.0, 0.0, 0.0, 0.0]), ('2021-01-28', [0.0, 0.4576, 0.6478, 0.4019, 0.2263, -0.4767, -0.1531, 0.6576, 0.5908, 0.0]), ('2021-01-29', [0.4926, -0.6808, 0.0, 0.2023, -0.5994, 0.34, -0.1007, 0.29600000000000004, 0.0772, 0.3612]), ('2021-01-30', [-0.6997, 0.6369, 0.5859, -0.6249, -0.29600000000000004, 0.29600000000000004, 0.5267]), ('2021-01-31', [0.0, -0.3968, 0.25, 0.0, 0.0, -0.7269, -0.128, -0.8894, 0.4588, 0.4767, 0.0, -0.5859]), ('2021-02-01', [0.0, 0.1779, 0.0, -0.2732, -0.5229, -0.2998]), ('2021-02-02', [-0.29600000000000004, 0.0, -0.9627, 0.6966, -0.3182, 0.0, 0.0, 0.0, -0.5423, 0.5434, 0.0, 0.0]), ('2021-02-03', [0.5574, 0.0, 0.0, 0.4019, 0.8299, -0.1045, 0.6351, 0.5624, -0.0516, 0.5859, 0.0, 0.7425]), ('2021-02-04', [0.0, 0.0, 0.6808, 0.0, 0.7906, 0.0, 0.0]), ('2021-02-08', [0.0, -0.4588, 0.0, 0.0, 0.0, 0.4576, 0.5622, 0.8172, 0.0, 0.0, 0.4939, 0.0, -0.6429, -0.7003, 0.0, 0.0]), ('2021-02-09', [0.0, 0.0, 0.0, 0.0, 0.0, -0.5574, 0.3182, -0.5106, 0.0, -0.5106, -0.4767]), ('2021-02-10', [0.0, 0.0, 0.2023, 0.4576, 0.7701, -0.6096, 0.3818, 0.34, 0.0]), ('2021-02-11', [0.0, 0.0, 0.0, 0.0, 0.0, -0.7351, 0.6428, -0.4019, 0.6428, -0.25, 0.0, 0.0, 0.4215, 0.784]), ('2021-02-12', [0.0, 0.0, 0.4576, 0.2023, 0.0, 0.7582, -0.8074, 0.2023, -0.765]), ('2021-02-13', [0.0])]\n"
     ]
    }
   ],
   "source": [
    "# # sort dictionary based on date\n",
    "orderedTup = sorted(DateToSentiment_dict.items(),key=lambda x:datetime.strptime(x[0],'%Y-%m-%d'))\n",
    "print(orderedTup)"
   ]
  },
  {
   "cell_type": "code",
   "execution_count": 96,
   "metadata": {},
   "outputs": [],
   "source": [
    "# list of tuples\n",
    "# orderedTup => [('2019-02-13', [0.0, -0.296, 0.0, 0.0, 0.0, 0.0, -0.296, -0.296])]\n",
    "\n",
    "# dictionary now has all data from both dataframes\n",
    "# now create dataframe for averages\n",
    "avg_df = pd.DataFrame(columns = ['Date','Daily average','weekly average','monthly average'])\n",
    "\n",
    "for tup in orderedTup:\n",
    "    temp_data = {'Date' : [datetime.strptime(tup[0], \"%Y-%m-%d\")],'Daily average' : [mean(tup[1])]}\n",
    "    temp_df = pd.DataFrame(temp_data)\n",
    "    avg_df = avg_df.append(temp_df,ignore_index=True)\n",
    "\n",
    "#avg_df.to_csv('clean_AAPL_sub.csv',index=False)\n"
   ]
  },
  {
   "cell_type": "code",
   "execution_count": 97,
   "metadata": {},
   "outputs": [
    {
     "name": "stdout",
     "output_type": "stream",
     "text": [
      "DatetimeIndex(['1970-01-01'], dtype='datetime64[ns]', freq='D')\n"
     ]
    }
   ],
   "source": [
    "#avg_df = avg_df.set_index('Date')\n",
    "dates = pd.date_range(avg_df.index[0], avg_df.index[-1], freq='D')\n",
    "print(dates)"
   ]
  },
  {
   "cell_type": "code",
   "execution_count": 98,
   "metadata": {},
   "outputs": [],
   "source": [
    "avg_df = avg_df.set_index('Date')"
   ]
  },
  {
   "cell_type": "code",
   "execution_count": 99,
   "metadata": {
    "scrolled": true
   },
   "outputs": [],
   "source": [
    "avg_df = avg_df.reindex(pd.date_range(avg_df.index[0], avg_df.index[-1], freq='D'))"
   ]
  },
  {
   "cell_type": "code",
   "execution_count": 100,
   "metadata": {},
   "outputs": [],
   "source": [
    "avg_df['Daily average'] = avg_df['Daily average'].interpolate(method='pad')"
   ]
  },
  {
   "cell_type": "code",
   "execution_count": 101,
   "metadata": {},
   "outputs": [
    {
     "data": {
      "text/html": [
       "<div>\n",
       "<style scoped>\n",
       "    .dataframe tbody tr th:only-of-type {\n",
       "        vertical-align: middle;\n",
       "    }\n",
       "\n",
       "    .dataframe tbody tr th {\n",
       "        vertical-align: top;\n",
       "    }\n",
       "\n",
       "    .dataframe thead th {\n",
       "        text-align: right;\n",
       "    }\n",
       "</style>\n",
       "<table border=\"1\" class=\"dataframe\">\n",
       "  <thead>\n",
       "    <tr style=\"text-align: right;\">\n",
       "      <th></th>\n",
       "      <th>Daily average</th>\n",
       "      <th>weekly average</th>\n",
       "      <th>monthly average</th>\n",
       "    </tr>\n",
       "  </thead>\n",
       "  <tbody>\n",
       "    <tr>\n",
       "      <th>2019-02-13</th>\n",
       "      <td>-0.111000</td>\n",
       "      <td>NaN</td>\n",
       "      <td>NaN</td>\n",
       "    </tr>\n",
       "    <tr>\n",
       "      <th>2019-02-14</th>\n",
       "      <td>0.308382</td>\n",
       "      <td>NaN</td>\n",
       "      <td>NaN</td>\n",
       "    </tr>\n",
       "    <tr>\n",
       "      <th>2019-02-15</th>\n",
       "      <td>-0.122157</td>\n",
       "      <td>NaN</td>\n",
       "      <td>NaN</td>\n",
       "    </tr>\n",
       "    <tr>\n",
       "      <th>2019-02-16</th>\n",
       "      <td>0.381512</td>\n",
       "      <td>NaN</td>\n",
       "      <td>NaN</td>\n",
       "    </tr>\n",
       "    <tr>\n",
       "      <th>2019-02-17</th>\n",
       "      <td>0.298000</td>\n",
       "      <td>NaN</td>\n",
       "      <td>NaN</td>\n",
       "    </tr>\n",
       "    <tr>\n",
       "      <th>...</th>\n",
       "      <td>...</td>\n",
       "      <td>...</td>\n",
       "      <td>...</td>\n",
       "    </tr>\n",
       "    <tr>\n",
       "      <th>2021-02-09</th>\n",
       "      <td>-0.157918</td>\n",
       "      <td>NaN</td>\n",
       "      <td>NaN</td>\n",
       "    </tr>\n",
       "    <tr>\n",
       "      <th>2021-02-10</th>\n",
       "      <td>0.171356</td>\n",
       "      <td>NaN</td>\n",
       "      <td>NaN</td>\n",
       "    </tr>\n",
       "    <tr>\n",
       "      <th>2021-02-11</th>\n",
       "      <td>0.078864</td>\n",
       "      <td>NaN</td>\n",
       "      <td>NaN</td>\n",
       "    </tr>\n",
       "    <tr>\n",
       "      <th>2021-02-12</th>\n",
       "      <td>0.005333</td>\n",
       "      <td>NaN</td>\n",
       "      <td>NaN</td>\n",
       "    </tr>\n",
       "    <tr>\n",
       "      <th>2021-02-13</th>\n",
       "      <td>0.000000</td>\n",
       "      <td>NaN</td>\n",
       "      <td>NaN</td>\n",
       "    </tr>\n",
       "  </tbody>\n",
       "</table>\n",
       "<p>732 rows × 3 columns</p>\n",
       "</div>"
      ],
      "text/plain": [
       "            Daily average weekly average monthly average\n",
       "2019-02-13      -0.111000            NaN             NaN\n",
       "2019-02-14       0.308382            NaN             NaN\n",
       "2019-02-15      -0.122157            NaN             NaN\n",
       "2019-02-16       0.381512            NaN             NaN\n",
       "2019-02-17       0.298000            NaN             NaN\n",
       "...                   ...            ...             ...\n",
       "2021-02-09      -0.157918            NaN             NaN\n",
       "2021-02-10       0.171356            NaN             NaN\n",
       "2021-02-11       0.078864            NaN             NaN\n",
       "2021-02-12       0.005333            NaN             NaN\n",
       "2021-02-13       0.000000            NaN             NaN\n",
       "\n",
       "[732 rows x 3 columns]"
=======
      "cell_type": "code",
      "metadata": {
        "colab": {
          "base_uri": "https://localhost:8080/",
          "height": 455
        },
        "id": "ekzazy0C0fr2",
        "outputId": "364c7efd-08cc-495d-bb5a-b110c4e933da"
      },
      "source": [
        ""
      ],
      "execution_count": 26,
      "outputs": [
        {
          "output_type": "execute_result",
          "data": {
            "text/html": [
              "<div>\n",
              "<style scoped>\n",
              "    .dataframe tbody tr th:only-of-type {\n",
              "        vertical-align: middle;\n",
              "    }\n",
              "\n",
              "    .dataframe tbody tr th {\n",
              "        vertical-align: top;\n",
              "    }\n",
              "\n",
              "    .dataframe thead th {\n",
              "        text-align: right;\n",
              "    }\n",
              "</style>\n",
              "<table border=\"1\" class=\"dataframe\">\n",
              "  <thead>\n",
              "    <tr style=\"text-align: right;\">\n",
              "      <th></th>\n",
              "      <th>Adj Close</th>\n",
              "      <th>Volume</th>\n",
              "      <th>Date</th>\n",
              "      <th>Period Ending</th>\n",
              "      <th>Estimated_EPS</th>\n",
              "      <th>Reported_EPS</th>\n",
              "      <th>Surprise_EPS</th>\n",
              "      <th>Estimated_Revenue</th>\n",
              "      <th>Reported_Revenue</th>\n",
              "      <th>Total Sentiment</th>\n",
              "      <th>Avg Sentiment</th>\n",
              "    </tr>\n",
              "    <tr>\n",
              "      <th>Date</th>\n",
              "      <th></th>\n",
              "      <th></th>\n",
              "      <th></th>\n",
              "      <th></th>\n",
              "      <th></th>\n",
              "      <th></th>\n",
              "      <th></th>\n",
              "      <th></th>\n",
              "      <th></th>\n",
              "      <th></th>\n",
              "      <th></th>\n",
              "    </tr>\n",
              "  </thead>\n",
              "  <tbody>\n",
              "    <tr>\n",
              "      <th>2020-06-01</th>\n",
              "      <td>2471.040039</td>\n",
              "      <td>2928900</td>\n",
              "      <td>2020-04-30</td>\n",
              "      <td>2020-03-01</td>\n",
              "      <td>6.36</td>\n",
              "      <td>5.01</td>\n",
              "      <td>-1.35</td>\n",
              "      <td>74363.20</td>\n",
              "      <td>75452.0</td>\n",
              "      <td>-2.1513</td>\n",
              "      <td>-0.358550</td>\n",
              "    </tr>\n",
              "    <tr>\n",
              "      <th>2020-06-02</th>\n",
              "      <td>2472.409912</td>\n",
              "      <td>2529900</td>\n",
              "      <td>2020-04-30</td>\n",
              "      <td>2020-03-01</td>\n",
              "      <td>6.36</td>\n",
              "      <td>5.01</td>\n",
              "      <td>-1.35</td>\n",
              "      <td>74363.20</td>\n",
              "      <td>75452.0</td>\n",
              "      <td>-1.6542</td>\n",
              "      <td>-0.827100</td>\n",
              "    </tr>\n",
              "    <tr>\n",
              "      <th>2020-06-03</th>\n",
              "      <td>2478.399902</td>\n",
              "      <td>2671000</td>\n",
              "      <td>2020-04-30</td>\n",
              "      <td>2020-03-01</td>\n",
              "      <td>6.36</td>\n",
              "      <td>5.01</td>\n",
              "      <td>-1.35</td>\n",
              "      <td>74363.20</td>\n",
              "      <td>75452.0</td>\n",
              "      <td>0.5464</td>\n",
              "      <td>0.136600</td>\n",
              "    </tr>\n",
              "    <tr>\n",
              "      <th>2020-06-04</th>\n",
              "      <td>2460.600098</td>\n",
              "      <td>2948700</td>\n",
              "      <td>2020-04-30</td>\n",
              "      <td>2020-03-01</td>\n",
              "      <td>6.36</td>\n",
              "      <td>5.01</td>\n",
              "      <td>-1.35</td>\n",
              "      <td>74363.20</td>\n",
              "      <td>75452.0</td>\n",
              "      <td>2.2792</td>\n",
              "      <td>0.569800</td>\n",
              "    </tr>\n",
              "    <tr>\n",
              "      <th>2020-06-05</th>\n",
              "      <td>2483.000000</td>\n",
              "      <td>3306400</td>\n",
              "      <td>2020-04-30</td>\n",
              "      <td>2020-03-01</td>\n",
              "      <td>6.36</td>\n",
              "      <td>5.01</td>\n",
              "      <td>-1.35</td>\n",
              "      <td>74363.20</td>\n",
              "      <td>75452.0</td>\n",
              "      <td>0.3558</td>\n",
              "      <td>0.088950</td>\n",
              "    </tr>\n",
              "    <tr>\n",
              "      <th>...</th>\n",
              "      <td>...</td>\n",
              "      <td>...</td>\n",
              "      <td>...</td>\n",
              "      <td>...</td>\n",
              "      <td>...</td>\n",
              "      <td>...</td>\n",
              "      <td>...</td>\n",
              "      <td>...</td>\n",
              "      <td>...</td>\n",
              "      <td>...</td>\n",
              "      <td>...</td>\n",
              "    </tr>\n",
              "    <tr>\n",
              "      <th>2021-01-25</th>\n",
              "      <td>3294.000000</td>\n",
              "      <td>3749800</td>\n",
              "      <td>2020-10-29</td>\n",
              "      <td>2020-09-01</td>\n",
              "      <td>7.30</td>\n",
              "      <td>12.37</td>\n",
              "      <td>5.07</td>\n",
              "      <td>92918.16</td>\n",
              "      <td>96145.0</td>\n",
              "      <td>5.4421</td>\n",
              "      <td>0.259148</td>\n",
              "    </tr>\n",
              "    <tr>\n",
              "      <th>2021-01-26</th>\n",
              "      <td>3326.129883</td>\n",
              "      <td>2955200</td>\n",
              "      <td>2020-10-29</td>\n",
              "      <td>2020-09-01</td>\n",
              "      <td>7.30</td>\n",
              "      <td>12.37</td>\n",
              "      <td>5.07</td>\n",
              "      <td>92918.16</td>\n",
              "      <td>96145.0</td>\n",
              "      <td>5.9345</td>\n",
              "      <td>0.247271</td>\n",
              "    </tr>\n",
              "    <tr>\n",
              "      <th>2021-01-27</th>\n",
              "      <td>3232.580078</td>\n",
              "      <td>4660200</td>\n",
              "      <td>2020-10-29</td>\n",
              "      <td>2020-09-01</td>\n",
              "      <td>7.30</td>\n",
              "      <td>12.37</td>\n",
              "      <td>5.07</td>\n",
              "      <td>92918.16</td>\n",
              "      <td>96145.0</td>\n",
              "      <td>6.5554</td>\n",
              "      <td>0.273142</td>\n",
              "    </tr>\n",
              "    <tr>\n",
              "      <th>2021-01-28</th>\n",
              "      <td>3237.620117</td>\n",
              "      <td>3149200</td>\n",
              "      <td>2020-10-29</td>\n",
              "      <td>2020-09-01</td>\n",
              "      <td>7.30</td>\n",
              "      <td>12.37</td>\n",
              "      <td>5.07</td>\n",
              "      <td>92918.16</td>\n",
              "      <td>96145.0</td>\n",
              "      <td>6.5554</td>\n",
              "      <td>0.273142</td>\n",
              "    </tr>\n",
              "    <tr>\n",
              "      <th>2021-01-29</th>\n",
              "      <td>3206.199951</td>\n",
              "      <td>4285600</td>\n",
              "      <td>2020-10-29</td>\n",
              "      <td>2020-09-01</td>\n",
              "      <td>7.30</td>\n",
              "      <td>12.37</td>\n",
              "      <td>5.07</td>\n",
              "      <td>92918.16</td>\n",
              "      <td>96145.0</td>\n",
              "      <td>6.5554</td>\n",
              "      <td>0.273142</td>\n",
              "    </tr>\n",
              "  </tbody>\n",
              "</table>\n",
              "<p>169 rows × 11 columns</p>\n",
              "</div>"
            ],
            "text/plain": [
              "              Adj Close   Volume  ... Total Sentiment Avg Sentiment\n",
              "Date                              ...                              \n",
              "2020-06-01  2471.040039  2928900  ...         -2.1513     -0.358550\n",
              "2020-06-02  2472.409912  2529900  ...         -1.6542     -0.827100\n",
              "2020-06-03  2478.399902  2671000  ...          0.5464      0.136600\n",
              "2020-06-04  2460.600098  2948700  ...          2.2792      0.569800\n",
              "2020-06-05  2483.000000  3306400  ...          0.3558      0.088950\n",
              "...                 ...      ...  ...             ...           ...\n",
              "2021-01-25  3294.000000  3749800  ...          5.4421      0.259148\n",
              "2021-01-26  3326.129883  2955200  ...          5.9345      0.247271\n",
              "2021-01-27  3232.580078  4660200  ...          6.5554      0.273142\n",
              "2021-01-28  3237.620117  3149200  ...          6.5554      0.273142\n",
              "2021-01-29  3206.199951  4285600  ...          6.5554      0.273142\n",
              "\n",
              "[169 rows x 11 columns]"
            ]
          },
          "metadata": {
            "tags": []
          },
          "execution_count": 26
        }
>>>>>>> 49afec9ae723dfd18be441605fde0b2e123651f0
      ]
     },
     "execution_count": 101,
     "metadata": {},
     "output_type": "execute_result"
    }
   ],
   "source": [
    "avg_df "
   ]
  },
  {
   "cell_type": "code",
   "execution_count": 246,
   "metadata": {},
   "outputs": [],
   "source": [
    "avg_df['weekly average'] = avg_df['Daily average'].rolling(7, win_type='triang').sum()"
   ]
  },
  {
   "cell_type": "code",
   "execution_count": 247,
   "metadata": {},
   "outputs": [],
   "source": [
    "avg_df['monthly average'] = avg_df['Daily average'].rolling(30, win_type='triang').sum()"
   ]
  },
  {
   "cell_type": "code",
   "execution_count": 248,
   "metadata": {},
   "outputs": [],
   "source": [
    "avg_df['long term average'] = avg_df['Daily average'].rolling(120, win_type='triang').sum()"
   ]
  },
  {
   "cell_type": "code",
   "execution_count": 249,
   "metadata": {},
   "outputs": [],
   "source": [
    "avg_df['mid term average'] = avg_df['Daily average'].rolling(60, win_type='triang').sum()"
   ]
  },
  {
   "cell_type": "code",
   "execution_count": 250,
   "metadata": {},
   "outputs": [],
   "source": [
    "avg_df['short term average'] = avg_df['weekly average']"
   ]
  },
  {
   "cell_type": "code",
   "execution_count": 119,
   "metadata": {},
   "outputs": [
    {
<<<<<<< HEAD
     "data": {
      "text/html": [
       "<div>\n",
       "<style scoped>\n",
       "    .dataframe tbody tr th:only-of-type {\n",
       "        vertical-align: middle;\n",
       "    }\n",
       "\n",
       "    .dataframe tbody tr th {\n",
       "        vertical-align: top;\n",
       "    }\n",
       "\n",
       "    .dataframe thead th {\n",
       "        text-align: right;\n",
       "    }\n",
       "</style>\n",
       "<table border=\"1\" class=\"dataframe\">\n",
       "  <thead>\n",
       "    <tr style=\"text-align: right;\">\n",
       "      <th></th>\n",
       "      <th>mid term average</th>\n",
       "      <th>short term average</th>\n",
       "      <th>long term average</th>\n",
       "    </tr>\n",
       "  </thead>\n",
       "  <tbody>\n",
       "    <tr>\n",
       "      <th>2019-02-13</th>\n",
       "      <td>NaN</td>\n",
       "      <td>NaN</td>\n",
       "      <td>NaN</td>\n",
       "    </tr>\n",
       "    <tr>\n",
       "      <th>2019-02-14</th>\n",
       "      <td>NaN</td>\n",
       "      <td>NaN</td>\n",
       "      <td>NaN</td>\n",
       "    </tr>\n",
       "    <tr>\n",
       "      <th>2019-02-15</th>\n",
       "      <td>NaN</td>\n",
       "      <td>NaN</td>\n",
       "      <td>NaN</td>\n",
       "    </tr>\n",
       "    <tr>\n",
       "      <th>2019-02-16</th>\n",
       "      <td>NaN</td>\n",
       "      <td>NaN</td>\n",
       "      <td>NaN</td>\n",
       "    </tr>\n",
       "    <tr>\n",
       "      <th>2019-02-17</th>\n",
       "      <td>NaN</td>\n",
       "      <td>NaN</td>\n",
       "      <td>NaN</td>\n",
       "    </tr>\n",
       "    <tr>\n",
       "      <th>...</th>\n",
       "      <td>...</td>\n",
       "      <td>...</td>\n",
       "      <td>...</td>\n",
       "    </tr>\n",
       "    <tr>\n",
       "      <th>2021-02-09</th>\n",
       "      <td>3.475987</td>\n",
       "      <td>0.694294</td>\n",
       "      <td>6.131374</td>\n",
       "    </tr>\n",
       "    <tr>\n",
       "      <th>2021-02-10</th>\n",
       "      <td>3.519273</td>\n",
       "      <td>0.514172</td>\n",
       "      <td>6.158849</td>\n",
       "    </tr>\n",
       "    <tr>\n",
       "      <th>2021-02-11</th>\n",
       "      <td>3.564259</td>\n",
       "      <td>0.335311</td>\n",
       "      <td>6.185924</td>\n",
       "    </tr>\n",
       "    <tr>\n",
       "      <th>2021-02-12</th>\n",
       "      <td>3.598338</td>\n",
       "      <td>0.193806</td>\n",
       "      <td>6.213767</td>\n",
       "    </tr>\n",
       "    <tr>\n",
       "      <th>2021-02-13</th>\n",
       "      <td>3.629688</td>\n",
       "      <td>0.183810</td>\n",
       "      <td>6.236696</td>\n",
       "    </tr>\n",
       "  </tbody>\n",
       "</table>\n",
       "<p>732 rows × 3 columns</p>\n",
       "</div>"
      ],
      "text/plain": [
       "            mid term average  short term average  long term average\n",
       "2019-02-13               NaN                 NaN                NaN\n",
       "2019-02-14               NaN                 NaN                NaN\n",
       "2019-02-15               NaN                 NaN                NaN\n",
       "2019-02-16               NaN                 NaN                NaN\n",
       "2019-02-17               NaN                 NaN                NaN\n",
       "...                      ...                 ...                ...\n",
       "2021-02-09          3.475987            0.694294           6.131374\n",
       "2021-02-10          3.519273            0.514172           6.158849\n",
       "2021-02-11          3.564259            0.335311           6.185924\n",
       "2021-02-12          3.598338            0.193806           6.213767\n",
       "2021-02-13          3.629688            0.183810           6.236696\n",
       "\n",
       "[732 rows x 3 columns]"
      ]
     },
     "execution_count": 119,
     "metadata": {},
     "output_type": "execute_result"
    }
   ],
   "source": [
    "avg_df[[avg_df.columns[-3],avg_df.columns[-2],avg_df.columns[-1] ]]"
   ]
  },
  {
   "cell_type": "code",
   "execution_count": 156,
   "metadata": {},
   "outputs": [],
   "source": [
    "X = avg_df[[avg_df.columns[-3],avg_df.columns[-2],avg_df.columns[-1] ]]\n"
   ]
  },
  {
   "cell_type": "code",
   "execution_count": 220,
   "metadata": {},
   "outputs": [
    {
     "data": {
      "text/html": [
       "<div>\n",
       "<style scoped>\n",
       "    .dataframe tbody tr th:only-of-type {\n",
       "        vertical-align: middle;\n",
       "    }\n",
       "\n",
       "    .dataframe tbody tr th {\n",
       "        vertical-align: top;\n",
       "    }\n",
       "\n",
       "    .dataframe thead th {\n",
       "        text-align: right;\n",
       "    }\n",
       "</style>\n",
       "<table border=\"1\" class=\"dataframe\">\n",
       "  <thead>\n",
       "    <tr style=\"text-align: right;\">\n",
       "      <th></th>\n",
       "      <th>Adj Close</th>\n",
       "      <th>Volume</th>\n",
       "    </tr>\n",
       "    <tr>\n",
       "      <th>Date</th>\n",
       "      <th></th>\n",
       "      <th></th>\n",
       "    </tr>\n",
       "  </thead>\n",
       "  <tbody>\n",
       "    <tr>\n",
       "      <th>2019-02-13</th>\n",
       "      <td>41.672295</td>\n",
       "      <td>89960800.0</td>\n",
       "    </tr>\n",
       "    <tr>\n",
       "      <th>2019-02-14</th>\n",
       "      <td>41.824120</td>\n",
       "      <td>87342800.0</td>\n",
       "    </tr>\n",
       "    <tr>\n",
       "      <th>2019-02-15</th>\n",
       "      <td>41.731060</td>\n",
       "      <td>98507200.0</td>\n",
       "    </tr>\n",
       "    <tr>\n",
       "      <th>2019-02-19</th>\n",
       "      <td>41.855953</td>\n",
       "      <td>75891200.0</td>\n",
       "    </tr>\n",
       "    <tr>\n",
       "      <th>2019-02-20</th>\n",
       "      <td>42.125313</td>\n",
       "      <td>104457600.0</td>\n",
       "    </tr>\n",
       "    <tr>\n",
       "      <th>...</th>\n",
       "      <td>...</td>\n",
       "      <td>...</td>\n",
       "    </tr>\n",
       "    <tr>\n",
       "      <th>2021-02-08</th>\n",
       "      <td>136.910004</td>\n",
       "      <td>71297200.0</td>\n",
       "    </tr>\n",
       "    <tr>\n",
       "      <th>2021-02-09</th>\n",
       "      <td>136.009995</td>\n",
       "      <td>76774200.0</td>\n",
       "    </tr>\n",
       "    <tr>\n",
       "      <th>2021-02-10</th>\n",
       "      <td>135.389999</td>\n",
       "      <td>73046600.0</td>\n",
       "    </tr>\n",
       "    <tr>\n",
       "      <th>2021-02-11</th>\n",
       "      <td>135.130005</td>\n",
       "      <td>64154400.0</td>\n",
       "    </tr>\n",
       "    <tr>\n",
       "      <th>2021-02-12</th>\n",
       "      <td>135.369995</td>\n",
       "      <td>60029300.0</td>\n",
       "    </tr>\n",
       "  </tbody>\n",
       "</table>\n",
       "<p>505 rows × 2 columns</p>\n",
       "</div>"
      ],
      "text/plain": [
       "             Adj Close       Volume\n",
       "Date                               \n",
       "2019-02-13   41.672295   89960800.0\n",
       "2019-02-14   41.824120   87342800.0\n",
       "2019-02-15   41.731060   98507200.0\n",
       "2019-02-19   41.855953   75891200.0\n",
       "2019-02-20   42.125313  104457600.0\n",
       "...                ...          ...\n",
       "2021-02-08  136.910004   71297200.0\n",
       "2021-02-09  136.009995   76774200.0\n",
       "2021-02-10  135.389999   73046600.0\n",
       "2021-02-11  135.130005   64154400.0\n",
       "2021-02-12  135.369995   60029300.0\n",
       "\n",
       "[505 rows x 2 columns]"
=======
      "cell_type": "code",
      "metadata": {
        "colab": {
          "base_uri": "https://localhost:8080/"
        },
        "id": "nSo320VezljL",
        "outputId": "d3ff41aa-1fe3-4d50-ff51-bdb7dfbbedd4"
      },
      "source": [
        "\n",
        "\n",
        "\n",
        "Y=prepare_data_Y_for_ML(df)\n",
        "#print(Y)\n",
        "X=prepare_data_X_for_ML(df)\n",
        "#print(X)\n",
        "X_train,X_test,y_train,y_test = train_test_split(X,Y,test_size=0.25,random_state=0)\n",
        "out=apply_MLP(X_train,X_test,y_train,y_test)\n",
        "#print(out)"
      ],
      "execution_count": 29,
      "outputs": [
        {
          "output_type": "stream",
          "text": [
            "/usr/local/lib/python3.7/dist-packages/ipykernel_launcher.py:7: SettingWithCopyWarning: \n",
            "A value is trying to be set on a copy of a slice from a DataFrame.\n",
            "Try using .loc[row_indexer,col_indexer] = value instead\n",
            "\n",
            "See the caveats in the documentation: https://pandas.pydata.org/pandas-docs/stable/user_guide/indexing.html#returning-a-view-versus-a-copy\n",
            "  import sys\n",
            "/usr/local/lib/python3.7/dist-packages/ipykernel_launcher.py:8: SettingWithCopyWarning: \n",
            "A value is trying to be set on a copy of a slice from a DataFrame.\n",
            "Try using .loc[row_indexer,col_indexer] = value instead\n",
            "\n",
            "See the caveats in the documentation: https://pandas.pydata.org/pandas-docs/stable/user_guide/indexing.html#returning-a-view-versus-a-copy\n",
            "  \n"
          ],
          "name": "stderr"
        },
        {
          "output_type": "stream",
          "text": [
            "The Score with  -0.22951486382301223\n"
          ],
          "name": "stdout"
        },
        {
          "output_type": "stream",
          "text": [
            "/usr/local/lib/python3.7/dist-packages/sklearn/neural_network/_multilayer_perceptron.py:571: ConvergenceWarning: Stochastic Optimizer: Maximum iterations (2000) reached and the optimization hasn't converged yet.\n",
            "  % self.max_iter, ConvergenceWarning)\n"
          ],
          "name": "stderr"
        }
>>>>>>> 49afec9ae723dfd18be441605fde0b2e123651f0
      ]
     },
     "execution_count": 220,
     "metadata": {},
     "output_type": "execute_result"
    },
    {
<<<<<<< HEAD
     "data": {
      "image/png": "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\n",
      "text/plain": [
       "<Figure size 432x288 with 1 Axes>"
      ]
     },
     "metadata": {
      "needs_background": "light"
     },
     "output_type": "display_data"
    }
   ],
   "source": [
    "symbol = 'AAPL'\n",
    "df = get_yahoo_dataframe(symbol)\n",
    "df"
   ]
  },
  {
   "cell_type": "code",
   "execution_count": 221,
   "metadata": {},
   "outputs": [],
   "source": [
    "os.chdir('/home/muditj/Desktop/ECE143/ece143_stock_sentiment_analysis/')"
   ]
  },
  {
   "cell_type": "code",
   "execution_count": 222,
   "metadata": {
    "scrolled": true
   },
   "outputs": [],
   "source": [
    "stock_file = process_stock_data('./earnings_data/AAPL.csv', df)"
   ]
  },
  {
   "cell_type": "code",
   "execution_count": 223,
   "metadata": {},
   "outputs": [],
   "source": [
    "df = df.join(stock_file)"
   ]
  },
  {
   "cell_type": "code",
   "execution_count": 224,
   "metadata": {},
   "outputs": [
    {
     "data": {
      "text/html": [
       "<div>\n",
       "<style scoped>\n",
       "    .dataframe tbody tr th:only-of-type {\n",
       "        vertical-align: middle;\n",
       "    }\n",
       "\n",
       "    .dataframe tbody tr th {\n",
       "        vertical-align: top;\n",
       "    }\n",
       "\n",
       "    .dataframe thead th {\n",
       "        text-align: right;\n",
       "    }\n",
       "</style>\n",
       "<table border=\"1\" class=\"dataframe\">\n",
       "  <thead>\n",
       "    <tr style=\"text-align: right;\">\n",
       "      <th></th>\n",
       "      <th>Adj Close</th>\n",
       "      <th>Volume</th>\n",
       "      <th>Date</th>\n",
       "      <th>Period Ending</th>\n",
       "      <th>Estimated_EPS</th>\n",
       "      <th>Reported_EPS</th>\n",
       "      <th>Surprise_EPS</th>\n",
       "      <th>Estimated_Revenue</th>\n",
       "      <th>Reported_Revenue</th>\n",
       "    </tr>\n",
       "    <tr>\n",
       "      <th>Date</th>\n",
       "      <th></th>\n",
       "      <th></th>\n",
       "      <th></th>\n",
       "      <th></th>\n",
       "      <th></th>\n",
       "      <th></th>\n",
       "      <th></th>\n",
       "      <th></th>\n",
       "      <th></th>\n",
       "    </tr>\n",
       "  </thead>\n",
       "  <tbody>\n",
       "    <tr>\n",
       "      <th>2019-02-13</th>\n",
       "      <td>41.672295</td>\n",
       "      <td>89960800.0</td>\n",
       "      <td>2019-01-29</td>\n",
       "      <td>2018-12-01</td>\n",
       "      <td>1.04</td>\n",
       "      <td>1.05</td>\n",
       "      <td>0.01</td>\n",
       "      <td>84071.09</td>\n",
       "      <td>84310.0</td>\n",
       "    </tr>\n",
       "    <tr>\n",
       "      <th>2019-02-14</th>\n",
       "      <td>41.824120</td>\n",
       "      <td>87342800.0</td>\n",
       "      <td>2019-01-29</td>\n",
       "      <td>2018-12-01</td>\n",
       "      <td>1.04</td>\n",
       "      <td>1.05</td>\n",
       "      <td>0.01</td>\n",
       "      <td>84071.09</td>\n",
       "      <td>84310.0</td>\n",
       "    </tr>\n",
       "    <tr>\n",
       "      <th>2019-02-15</th>\n",
       "      <td>41.731060</td>\n",
       "      <td>98507200.0</td>\n",
       "      <td>2019-01-29</td>\n",
       "      <td>2018-12-01</td>\n",
       "      <td>1.04</td>\n",
       "      <td>1.05</td>\n",
       "      <td>0.01</td>\n",
       "      <td>84071.09</td>\n",
       "      <td>84310.0</td>\n",
       "    </tr>\n",
       "    <tr>\n",
       "      <th>2019-02-19</th>\n",
       "      <td>41.855953</td>\n",
       "      <td>75891200.0</td>\n",
       "      <td>2019-01-29</td>\n",
       "      <td>2018-12-01</td>\n",
       "      <td>1.04</td>\n",
       "      <td>1.05</td>\n",
       "      <td>0.01</td>\n",
       "      <td>84071.09</td>\n",
       "      <td>84310.0</td>\n",
       "    </tr>\n",
       "    <tr>\n",
       "      <th>2019-02-20</th>\n",
       "      <td>42.125313</td>\n",
       "      <td>104457600.0</td>\n",
       "      <td>2019-01-29</td>\n",
       "      <td>2018-12-01</td>\n",
       "      <td>1.04</td>\n",
       "      <td>1.05</td>\n",
       "      <td>0.01</td>\n",
       "      <td>84071.09</td>\n",
       "      <td>84310.0</td>\n",
       "    </tr>\n",
       "    <tr>\n",
       "      <th>...</th>\n",
       "      <td>...</td>\n",
       "      <td>...</td>\n",
       "      <td>...</td>\n",
       "      <td>...</td>\n",
       "      <td>...</td>\n",
       "      <td>...</td>\n",
       "      <td>...</td>\n",
       "      <td>...</td>\n",
       "      <td>...</td>\n",
       "    </tr>\n",
       "    <tr>\n",
       "      <th>2021-02-08</th>\n",
       "      <td>136.910004</td>\n",
       "      <td>71297200.0</td>\n",
       "      <td>2021-01-27</td>\n",
       "      <td>2020-12-01</td>\n",
       "      <td>1.41</td>\n",
       "      <td>1.68</td>\n",
       "      <td>0.27</td>\n",
       "      <td>102512.80</td>\n",
       "      <td>111439.0</td>\n",
       "    </tr>\n",
       "    <tr>\n",
       "      <th>2021-02-09</th>\n",
       "      <td>136.009995</td>\n",
       "      <td>76774200.0</td>\n",
       "      <td>2021-01-27</td>\n",
       "      <td>2020-12-01</td>\n",
       "      <td>1.41</td>\n",
       "      <td>1.68</td>\n",
       "      <td>0.27</td>\n",
       "      <td>102512.80</td>\n",
       "      <td>111439.0</td>\n",
       "    </tr>\n",
       "    <tr>\n",
       "      <th>2021-02-10</th>\n",
       "      <td>135.389999</td>\n",
       "      <td>73046600.0</td>\n",
       "      <td>2021-01-27</td>\n",
       "      <td>2020-12-01</td>\n",
       "      <td>1.41</td>\n",
       "      <td>1.68</td>\n",
       "      <td>0.27</td>\n",
       "      <td>102512.80</td>\n",
       "      <td>111439.0</td>\n",
       "    </tr>\n",
       "    <tr>\n",
       "      <th>2021-02-11</th>\n",
       "      <td>135.130005</td>\n",
       "      <td>64154400.0</td>\n",
       "      <td>2021-01-27</td>\n",
       "      <td>2020-12-01</td>\n",
       "      <td>1.41</td>\n",
       "      <td>1.68</td>\n",
       "      <td>0.27</td>\n",
       "      <td>102512.80</td>\n",
       "      <td>111439.0</td>\n",
       "    </tr>\n",
       "    <tr>\n",
       "      <th>2021-02-12</th>\n",
       "      <td>135.369995</td>\n",
       "      <td>60029300.0</td>\n",
       "      <td>2021-01-27</td>\n",
       "      <td>2020-12-01</td>\n",
       "      <td>1.41</td>\n",
       "      <td>1.68</td>\n",
       "      <td>0.27</td>\n",
       "      <td>102512.80</td>\n",
       "      <td>111439.0</td>\n",
       "    </tr>\n",
       "  </tbody>\n",
       "</table>\n",
       "<p>505 rows × 9 columns</p>\n",
       "</div>"
      ],
      "text/plain": [
       "             Adj Close       Volume        Date Period Ending  Estimated_EPS  \\\n",
       "Date                                                                           \n",
       "2019-02-13   41.672295   89960800.0  2019-01-29    2018-12-01           1.04   \n",
       "2019-02-14   41.824120   87342800.0  2019-01-29    2018-12-01           1.04   \n",
       "2019-02-15   41.731060   98507200.0  2019-01-29    2018-12-01           1.04   \n",
       "2019-02-19   41.855953   75891200.0  2019-01-29    2018-12-01           1.04   \n",
       "2019-02-20   42.125313  104457600.0  2019-01-29    2018-12-01           1.04   \n",
       "...                ...          ...         ...           ...            ...   \n",
       "2021-02-08  136.910004   71297200.0  2021-01-27    2020-12-01           1.41   \n",
       "2021-02-09  136.009995   76774200.0  2021-01-27    2020-12-01           1.41   \n",
       "2021-02-10  135.389999   73046600.0  2021-01-27    2020-12-01           1.41   \n",
       "2021-02-11  135.130005   64154400.0  2021-01-27    2020-12-01           1.41   \n",
       "2021-02-12  135.369995   60029300.0  2021-01-27    2020-12-01           1.41   \n",
       "\n",
       "            Reported_EPS  Surprise_EPS  Estimated_Revenue  Reported_Revenue  \n",
       "Date                                                                         \n",
       "2019-02-13          1.05          0.01           84071.09           84310.0  \n",
       "2019-02-14          1.05          0.01           84071.09           84310.0  \n",
       "2019-02-15          1.05          0.01           84071.09           84310.0  \n",
       "2019-02-19          1.05          0.01           84071.09           84310.0  \n",
       "2019-02-20          1.05          0.01           84071.09           84310.0  \n",
       "...                  ...           ...                ...               ...  \n",
       "2021-02-08          1.68          0.27          102512.80          111439.0  \n",
       "2021-02-09          1.68          0.27          102512.80          111439.0  \n",
       "2021-02-10          1.68          0.27          102512.80          111439.0  \n",
       "2021-02-11          1.68          0.27          102512.80          111439.0  \n",
       "2021-02-12          1.68          0.27          102512.80          111439.0  \n",
       "\n",
       "[505 rows x 9 columns]"
      ]
     },
     "execution_count": 224,
     "metadata": {},
     "output_type": "execute_result"
    }
   ],
   "source": [
    "df"
   ]
  },
  {
   "cell_type": "code",
   "execution_count": 225,
   "metadata": {},
   "outputs": [],
   "source": [
    "df = df.reindex(pd.date_range(avg_df.index[0], avg_df.index[-1], freq='D'))"
   ]
  },
  {
   "cell_type": "code",
   "execution_count": 226,
   "metadata": {},
   "outputs": [
    {
     "data": {
      "text/html": [
       "<div>\n",
       "<style scoped>\n",
       "    .dataframe tbody tr th:only-of-type {\n",
       "        vertical-align: middle;\n",
       "    }\n",
       "\n",
       "    .dataframe tbody tr th {\n",
       "        vertical-align: top;\n",
       "    }\n",
       "\n",
       "    .dataframe thead th {\n",
       "        text-align: right;\n",
       "    }\n",
       "</style>\n",
       "<table border=\"1\" class=\"dataframe\">\n",
       "  <thead>\n",
       "    <tr style=\"text-align: right;\">\n",
       "      <th></th>\n",
       "      <th>Adj Close</th>\n",
       "      <th>Volume</th>\n",
       "      <th>Date</th>\n",
       "      <th>Period Ending</th>\n",
       "      <th>Estimated_EPS</th>\n",
       "      <th>Reported_EPS</th>\n",
       "      <th>Surprise_EPS</th>\n",
       "      <th>Estimated_Revenue</th>\n",
       "      <th>Reported_Revenue</th>\n",
       "    </tr>\n",
       "  </thead>\n",
       "  <tbody>\n",
       "    <tr>\n",
       "      <th>2019-02-13</th>\n",
       "      <td>41.672295</td>\n",
       "      <td>89960800.0</td>\n",
       "      <td>2019-01-29</td>\n",
       "      <td>2018-12-01</td>\n",
       "      <td>1.04</td>\n",
       "      <td>1.05</td>\n",
       "      <td>0.01</td>\n",
       "      <td>84071.09</td>\n",
       "      <td>84310.0</td>\n",
       "    </tr>\n",
       "    <tr>\n",
       "      <th>2019-02-14</th>\n",
       "      <td>41.824120</td>\n",
       "      <td>87342800.0</td>\n",
       "      <td>2019-01-29</td>\n",
       "      <td>2018-12-01</td>\n",
       "      <td>1.04</td>\n",
       "      <td>1.05</td>\n",
       "      <td>0.01</td>\n",
       "      <td>84071.09</td>\n",
       "      <td>84310.0</td>\n",
       "    </tr>\n",
       "    <tr>\n",
       "      <th>2019-02-15</th>\n",
       "      <td>41.731060</td>\n",
       "      <td>98507200.0</td>\n",
       "      <td>2019-01-29</td>\n",
       "      <td>2018-12-01</td>\n",
       "      <td>1.04</td>\n",
       "      <td>1.05</td>\n",
       "      <td>0.01</td>\n",
       "      <td>84071.09</td>\n",
       "      <td>84310.0</td>\n",
       "    </tr>\n",
       "    <tr>\n",
       "      <th>2019-02-16</th>\n",
       "      <td>NaN</td>\n",
       "      <td>NaN</td>\n",
       "      <td>NaN</td>\n",
       "      <td>NaN</td>\n",
       "      <td>NaN</td>\n",
       "      <td>NaN</td>\n",
       "      <td>NaN</td>\n",
       "      <td>NaN</td>\n",
       "      <td>NaN</td>\n",
       "    </tr>\n",
       "    <tr>\n",
       "      <th>2019-02-17</th>\n",
       "      <td>NaN</td>\n",
       "      <td>NaN</td>\n",
       "      <td>NaN</td>\n",
       "      <td>NaN</td>\n",
       "      <td>NaN</td>\n",
       "      <td>NaN</td>\n",
       "      <td>NaN</td>\n",
       "      <td>NaN</td>\n",
       "      <td>NaN</td>\n",
       "    </tr>\n",
       "    <tr>\n",
       "      <th>...</th>\n",
       "      <td>...</td>\n",
       "      <td>...</td>\n",
       "      <td>...</td>\n",
       "      <td>...</td>\n",
       "      <td>...</td>\n",
       "      <td>...</td>\n",
       "      <td>...</td>\n",
       "      <td>...</td>\n",
       "      <td>...</td>\n",
       "    </tr>\n",
       "    <tr>\n",
       "      <th>2021-02-09</th>\n",
       "      <td>136.009995</td>\n",
       "      <td>76774200.0</td>\n",
       "      <td>2021-01-27</td>\n",
       "      <td>2020-12-01</td>\n",
       "      <td>1.41</td>\n",
       "      <td>1.68</td>\n",
       "      <td>0.27</td>\n",
       "      <td>102512.80</td>\n",
       "      <td>111439.0</td>\n",
       "    </tr>\n",
       "    <tr>\n",
       "      <th>2021-02-10</th>\n",
       "      <td>135.389999</td>\n",
       "      <td>73046600.0</td>\n",
       "      <td>2021-01-27</td>\n",
       "      <td>2020-12-01</td>\n",
       "      <td>1.41</td>\n",
       "      <td>1.68</td>\n",
       "      <td>0.27</td>\n",
       "      <td>102512.80</td>\n",
       "      <td>111439.0</td>\n",
       "    </tr>\n",
       "    <tr>\n",
       "      <th>2021-02-11</th>\n",
       "      <td>135.130005</td>\n",
       "      <td>64154400.0</td>\n",
       "      <td>2021-01-27</td>\n",
       "      <td>2020-12-01</td>\n",
       "      <td>1.41</td>\n",
       "      <td>1.68</td>\n",
       "      <td>0.27</td>\n",
       "      <td>102512.80</td>\n",
       "      <td>111439.0</td>\n",
       "    </tr>\n",
       "    <tr>\n",
       "      <th>2021-02-12</th>\n",
       "      <td>135.369995</td>\n",
       "      <td>60029300.0</td>\n",
       "      <td>2021-01-27</td>\n",
       "      <td>2020-12-01</td>\n",
       "      <td>1.41</td>\n",
       "      <td>1.68</td>\n",
       "      <td>0.27</td>\n",
       "      <td>102512.80</td>\n",
       "      <td>111439.0</td>\n",
       "    </tr>\n",
       "    <tr>\n",
       "      <th>2021-02-13</th>\n",
       "      <td>NaN</td>\n",
       "      <td>NaN</td>\n",
       "      <td>NaN</td>\n",
       "      <td>NaN</td>\n",
       "      <td>NaN</td>\n",
       "      <td>NaN</td>\n",
       "      <td>NaN</td>\n",
       "      <td>NaN</td>\n",
       "      <td>NaN</td>\n",
       "    </tr>\n",
       "  </tbody>\n",
       "</table>\n",
       "<p>732 rows × 9 columns</p>\n",
       "</div>"
      ],
      "text/plain": [
       "             Adj Close      Volume        Date Period Ending  Estimated_EPS  \\\n",
       "2019-02-13   41.672295  89960800.0  2019-01-29    2018-12-01           1.04   \n",
       "2019-02-14   41.824120  87342800.0  2019-01-29    2018-12-01           1.04   \n",
       "2019-02-15   41.731060  98507200.0  2019-01-29    2018-12-01           1.04   \n",
       "2019-02-16         NaN         NaN         NaN           NaN            NaN   \n",
       "2019-02-17         NaN         NaN         NaN           NaN            NaN   \n",
       "...                ...         ...         ...           ...            ...   \n",
       "2021-02-09  136.009995  76774200.0  2021-01-27    2020-12-01           1.41   \n",
       "2021-02-10  135.389999  73046600.0  2021-01-27    2020-12-01           1.41   \n",
       "2021-02-11  135.130005  64154400.0  2021-01-27    2020-12-01           1.41   \n",
       "2021-02-12  135.369995  60029300.0  2021-01-27    2020-12-01           1.41   \n",
       "2021-02-13         NaN         NaN         NaN           NaN            NaN   \n",
       "\n",
       "            Reported_EPS  Surprise_EPS  Estimated_Revenue  Reported_Revenue  \n",
       "2019-02-13          1.05          0.01           84071.09           84310.0  \n",
       "2019-02-14          1.05          0.01           84071.09           84310.0  \n",
       "2019-02-15          1.05          0.01           84071.09           84310.0  \n",
       "2019-02-16           NaN           NaN                NaN               NaN  \n",
       "2019-02-17           NaN           NaN                NaN               NaN  \n",
       "...                  ...           ...                ...               ...  \n",
       "2021-02-09          1.68          0.27          102512.80          111439.0  \n",
       "2021-02-10          1.68          0.27          102512.80          111439.0  \n",
       "2021-02-11          1.68          0.27          102512.80          111439.0  \n",
       "2021-02-12          1.68          0.27          102512.80          111439.0  \n",
       "2021-02-13           NaN           NaN                NaN               NaN  \n",
       "\n",
       "[732 rows x 9 columns]"
=======
      "cell_type": "code",
      "metadata": {
        "colab": {
          "base_uri": "https://localhost:8080/",
          "height": 1000
        },
        "id": "XraOCfQi0tZn",
        "outputId": "c7497b7c-8eb7-4356-c785-5184dd8e8418"
      },
      "source": [
        "out"
      ],
      "execution_count": 31,
      "outputs": [
        {
          "output_type": "execute_result",
          "data": {
            "text/html": [
              "<div>\n",
              "<style scoped>\n",
              "    .dataframe tbody tr th:only-of-type {\n",
              "        vertical-align: middle;\n",
              "    }\n",
              "\n",
              "    .dataframe tbody tr th {\n",
              "        vertical-align: top;\n",
              "    }\n",
              "\n",
              "    .dataframe thead th {\n",
              "        text-align: right;\n",
              "    }\n",
              "</style>\n",
              "<table border=\"1\" class=\"dataframe\">\n",
              "  <thead>\n",
              "    <tr style=\"text-align: right;\">\n",
              "      <th></th>\n",
              "      <th>Ground Truth</th>\n",
              "      <th>Prediction</th>\n",
              "    </tr>\n",
              "  </thead>\n",
              "  <tbody>\n",
              "    <tr>\n",
              "      <th>0</th>\n",
              "      <td>-3.179855</td>\n",
              "      <td>1.344718</td>\n",
              "    </tr>\n",
              "    <tr>\n",
              "      <th>1</th>\n",
              "      <td>-2.607869</td>\n",
              "      <td>0.961288</td>\n",
              "    </tr>\n",
              "    <tr>\n",
              "      <th>2</th>\n",
              "      <td>6.352953</td>\n",
              "      <td>-1.678954</td>\n",
              "    </tr>\n",
              "    <tr>\n",
              "      <th>3</th>\n",
              "      <td>-5.242579</td>\n",
              "      <td>-5.288768</td>\n",
              "    </tr>\n",
              "    <tr>\n",
              "      <th>4</th>\n",
              "      <td>4.369721</td>\n",
              "      <td>0.411636</td>\n",
              "    </tr>\n",
              "    <tr>\n",
              "      <th>5</th>\n",
              "      <td>-2.550264</td>\n",
              "      <td>1.454294</td>\n",
              "    </tr>\n",
              "    <tr>\n",
              "      <th>6</th>\n",
              "      <td>5.004060</td>\n",
              "      <td>1.411856</td>\n",
              "    </tr>\n",
              "    <tr>\n",
              "      <th>7</th>\n",
              "      <td>-1.220303</td>\n",
              "      <td>-4.977093</td>\n",
              "    </tr>\n",
              "    <tr>\n",
              "      <th>8</th>\n",
              "      <td>-6.405386</td>\n",
              "      <td>-3.198584</td>\n",
              "    </tr>\n",
              "    <tr>\n",
              "      <th>9</th>\n",
              "      <td>-7.809624</td>\n",
              "      <td>-9.768319</td>\n",
              "    </tr>\n",
              "    <tr>\n",
              "      <th>10</th>\n",
              "      <td>1.736426</td>\n",
              "      <td>-4.719778</td>\n",
              "    </tr>\n",
              "    <tr>\n",
              "      <th>11</th>\n",
              "      <td>-2.545155</td>\n",
              "      <td>-1.839482</td>\n",
              "    </tr>\n",
              "    <tr>\n",
              "      <th>12</th>\n",
              "      <td>2.382661</td>\n",
              "      <td>-3.028954</td>\n",
              "    </tr>\n",
              "    <tr>\n",
              "      <th>13</th>\n",
              "      <td>2.532398</td>\n",
              "      <td>-0.268290</td>\n",
              "    </tr>\n",
              "    <tr>\n",
              "      <th>14</th>\n",
              "      <td>9.106547</td>\n",
              "      <td>1.634104</td>\n",
              "    </tr>\n",
              "    <tr>\n",
              "      <th>15</th>\n",
              "      <td>-7.393797</td>\n",
              "      <td>-5.108651</td>\n",
              "    </tr>\n",
              "    <tr>\n",
              "      <th>16</th>\n",
              "      <td>-2.215931</td>\n",
              "      <td>-1.595328</td>\n",
              "    </tr>\n",
              "    <tr>\n",
              "      <th>17</th>\n",
              "      <td>2.160352</td>\n",
              "      <td>1.953770</td>\n",
              "    </tr>\n",
              "    <tr>\n",
              "      <th>18</th>\n",
              "      <td>-6.391157</td>\n",
              "      <td>0.359724</td>\n",
              "    </tr>\n",
              "    <tr>\n",
              "      <th>19</th>\n",
              "      <td>-0.606463</td>\n",
              "      <td>-2.276791</td>\n",
              "    </tr>\n",
              "    <tr>\n",
              "      <th>20</th>\n",
              "      <td>8.400968</td>\n",
              "      <td>0.724776</td>\n",
              "    </tr>\n",
              "    <tr>\n",
              "      <th>21</th>\n",
              "      <td>-7.781894</td>\n",
              "      <td>-7.094338</td>\n",
              "    </tr>\n",
              "    <tr>\n",
              "      <th>22</th>\n",
              "      <td>-3.516089</td>\n",
              "      <td>-2.290724</td>\n",
              "    </tr>\n",
              "    <tr>\n",
              "      <th>23</th>\n",
              "      <td>0.080751</td>\n",
              "      <td>-1.095860</td>\n",
              "    </tr>\n",
              "    <tr>\n",
              "      <th>24</th>\n",
              "      <td>9.630453</td>\n",
              "      <td>1.735679</td>\n",
              "    </tr>\n",
              "    <tr>\n",
              "      <th>25</th>\n",
              "      <td>-7.137934</td>\n",
              "      <td>1.904847</td>\n",
              "    </tr>\n",
              "    <tr>\n",
              "      <th>26</th>\n",
              "      <td>-4.373070</td>\n",
              "      <td>-7.841184</td>\n",
              "    </tr>\n",
              "    <tr>\n",
              "      <th>27</th>\n",
              "      <td>-7.673051</td>\n",
              "      <td>-7.263292</td>\n",
              "    </tr>\n",
              "    <tr>\n",
              "      <th>28</th>\n",
              "      <td>-2.118604</td>\n",
              "      <td>2.016041</td>\n",
              "    </tr>\n",
              "    <tr>\n",
              "      <th>29</th>\n",
              "      <td>5.064161</td>\n",
              "      <td>2.016041</td>\n",
              "    </tr>\n",
              "    <tr>\n",
              "      <th>30</th>\n",
              "      <td>-13.245164</td>\n",
              "      <td>-10.191816</td>\n",
              "    </tr>\n",
              "    <tr>\n",
              "      <th>31</th>\n",
              "      <td>0.337526</td>\n",
              "      <td>-7.746276</td>\n",
              "    </tr>\n",
              "    <tr>\n",
              "      <th>32</th>\n",
              "      <td>1.402842</td>\n",
              "      <td>2.016041</td>\n",
              "    </tr>\n",
              "    <tr>\n",
              "      <th>33</th>\n",
              "      <td>-1.524996</td>\n",
              "      <td>-2.879773</td>\n",
              "    </tr>\n",
              "    <tr>\n",
              "      <th>34</th>\n",
              "      <td>-10.278769</td>\n",
              "      <td>-9.945739</td>\n",
              "    </tr>\n",
              "    <tr>\n",
              "      <th>35</th>\n",
              "      <td>3.975070</td>\n",
              "      <td>-2.131803</td>\n",
              "    </tr>\n",
              "    <tr>\n",
              "      <th>36</th>\n",
              "      <td>-2.961514</td>\n",
              "      <td>1.304878</td>\n",
              "    </tr>\n",
              "    <tr>\n",
              "      <th>37</th>\n",
              "      <td>-4.040133</td>\n",
              "      <td>-10.491233</td>\n",
              "    </tr>\n",
              "    <tr>\n",
              "      <th>38</th>\n",
              "      <td>1.463667</td>\n",
              "      <td>1.849430</td>\n",
              "    </tr>\n",
              "    <tr>\n",
              "      <th>39</th>\n",
              "      <td>-3.638473</td>\n",
              "      <td>-7.618557</td>\n",
              "    </tr>\n",
              "  </tbody>\n",
              "</table>\n",
              "</div>"
            ],
            "text/plain": [
              "    Ground Truth  Prediction\n",
              "0      -3.179855    1.344718\n",
              "1      -2.607869    0.961288\n",
              "2       6.352953   -1.678954\n",
              "3      -5.242579   -5.288768\n",
              "4       4.369721    0.411636\n",
              "5      -2.550264    1.454294\n",
              "6       5.004060    1.411856\n",
              "7      -1.220303   -4.977093\n",
              "8      -6.405386   -3.198584\n",
              "9      -7.809624   -9.768319\n",
              "10      1.736426   -4.719778\n",
              "11     -2.545155   -1.839482\n",
              "12      2.382661   -3.028954\n",
              "13      2.532398   -0.268290\n",
              "14      9.106547    1.634104\n",
              "15     -7.393797   -5.108651\n",
              "16     -2.215931   -1.595328\n",
              "17      2.160352    1.953770\n",
              "18     -6.391157    0.359724\n",
              "19     -0.606463   -2.276791\n",
              "20      8.400968    0.724776\n",
              "21     -7.781894   -7.094338\n",
              "22     -3.516089   -2.290724\n",
              "23      0.080751   -1.095860\n",
              "24      9.630453    1.735679\n",
              "25     -7.137934    1.904847\n",
              "26     -4.373070   -7.841184\n",
              "27     -7.673051   -7.263292\n",
              "28     -2.118604    2.016041\n",
              "29      5.064161    2.016041\n",
              "30    -13.245164  -10.191816\n",
              "31      0.337526   -7.746276\n",
              "32      1.402842    2.016041\n",
              "33     -1.524996   -2.879773\n",
              "34    -10.278769   -9.945739\n",
              "35      3.975070   -2.131803\n",
              "36     -2.961514    1.304878\n",
              "37     -4.040133  -10.491233\n",
              "38      1.463667    1.849430\n",
              "39     -3.638473   -7.618557"
            ]
          },
          "metadata": {
            "tags": []
          },
          "execution_count": 31
        }
>>>>>>> 49afec9ae723dfd18be441605fde0b2e123651f0
      ]
     },
     "execution_count": 226,
     "metadata": {},
     "output_type": "execute_result"
    }
   ],
   "source": [
    "df"
   ]
  },
  {
   "cell_type": "code",
   "execution_count": 227,
   "metadata": {},
   "outputs": [],
   "source": [
    "for i in df.columns:\n",
    "    df[i] = df[i].interpolate(method='pad')"
   ]
  },
  {
   "cell_type": "code",
   "execution_count": 228,
   "metadata": {},
   "outputs": [
    {
<<<<<<< HEAD
     "data": {
      "text/html": [
       "<div>\n",
       "<style scoped>\n",
       "    .dataframe tbody tr th:only-of-type {\n",
       "        vertical-align: middle;\n",
       "    }\n",
       "\n",
       "    .dataframe tbody tr th {\n",
       "        vertical-align: top;\n",
       "    }\n",
       "\n",
       "    .dataframe thead th {\n",
       "        text-align: right;\n",
       "    }\n",
       "</style>\n",
       "<table border=\"1\" class=\"dataframe\">\n",
       "  <thead>\n",
       "    <tr style=\"text-align: right;\">\n",
       "      <th></th>\n",
       "      <th>Adj Close</th>\n",
       "      <th>Volume</th>\n",
       "      <th>Date</th>\n",
       "      <th>Period Ending</th>\n",
       "      <th>Estimated_EPS</th>\n",
       "      <th>Reported_EPS</th>\n",
       "      <th>Surprise_EPS</th>\n",
       "      <th>Estimated_Revenue</th>\n",
       "      <th>Reported_Revenue</th>\n",
       "    </tr>\n",
       "  </thead>\n",
       "  <tbody>\n",
       "    <tr>\n",
       "      <th>2019-02-13</th>\n",
       "      <td>41.672295</td>\n",
       "      <td>89960800.0</td>\n",
       "      <td>2019-01-29</td>\n",
       "      <td>2018-12-01</td>\n",
       "      <td>1.04</td>\n",
       "      <td>1.05</td>\n",
       "      <td>0.01</td>\n",
       "      <td>84071.09</td>\n",
       "      <td>84310.0</td>\n",
       "    </tr>\n",
       "    <tr>\n",
       "      <th>2019-02-14</th>\n",
       "      <td>41.824120</td>\n",
       "      <td>87342800.0</td>\n",
       "      <td>2019-01-29</td>\n",
       "      <td>2018-12-01</td>\n",
       "      <td>1.04</td>\n",
       "      <td>1.05</td>\n",
       "      <td>0.01</td>\n",
       "      <td>84071.09</td>\n",
       "      <td>84310.0</td>\n",
       "    </tr>\n",
       "    <tr>\n",
       "      <th>2019-02-15</th>\n",
       "      <td>41.731060</td>\n",
       "      <td>98507200.0</td>\n",
       "      <td>2019-01-29</td>\n",
       "      <td>2018-12-01</td>\n",
       "      <td>1.04</td>\n",
       "      <td>1.05</td>\n",
       "      <td>0.01</td>\n",
       "      <td>84071.09</td>\n",
       "      <td>84310.0</td>\n",
       "    </tr>\n",
       "    <tr>\n",
       "      <th>2019-02-16</th>\n",
       "      <td>41.731060</td>\n",
       "      <td>98507200.0</td>\n",
       "      <td>2019-01-29</td>\n",
       "      <td>2018-12-01</td>\n",
       "      <td>1.04</td>\n",
       "      <td>1.05</td>\n",
       "      <td>0.01</td>\n",
       "      <td>84071.09</td>\n",
       "      <td>84310.0</td>\n",
       "    </tr>\n",
       "    <tr>\n",
       "      <th>2019-02-17</th>\n",
       "      <td>41.731060</td>\n",
       "      <td>98507200.0</td>\n",
       "      <td>2019-01-29</td>\n",
       "      <td>2018-12-01</td>\n",
       "      <td>1.04</td>\n",
       "      <td>1.05</td>\n",
       "      <td>0.01</td>\n",
       "      <td>84071.09</td>\n",
       "      <td>84310.0</td>\n",
       "    </tr>\n",
       "    <tr>\n",
       "      <th>...</th>\n",
       "      <td>...</td>\n",
       "      <td>...</td>\n",
       "      <td>...</td>\n",
       "      <td>...</td>\n",
       "      <td>...</td>\n",
       "      <td>...</td>\n",
       "      <td>...</td>\n",
       "      <td>...</td>\n",
       "      <td>...</td>\n",
       "    </tr>\n",
       "    <tr>\n",
       "      <th>2021-02-09</th>\n",
       "      <td>136.009995</td>\n",
       "      <td>76774200.0</td>\n",
       "      <td>2021-01-27</td>\n",
       "      <td>2020-12-01</td>\n",
       "      <td>1.41</td>\n",
       "      <td>1.68</td>\n",
       "      <td>0.27</td>\n",
       "      <td>102512.80</td>\n",
       "      <td>111439.0</td>\n",
       "    </tr>\n",
       "    <tr>\n",
       "      <th>2021-02-10</th>\n",
       "      <td>135.389999</td>\n",
       "      <td>73046600.0</td>\n",
       "      <td>2021-01-27</td>\n",
       "      <td>2020-12-01</td>\n",
       "      <td>1.41</td>\n",
       "      <td>1.68</td>\n",
       "      <td>0.27</td>\n",
       "      <td>102512.80</td>\n",
       "      <td>111439.0</td>\n",
       "    </tr>\n",
       "    <tr>\n",
       "      <th>2021-02-11</th>\n",
       "      <td>135.130005</td>\n",
       "      <td>64154400.0</td>\n",
       "      <td>2021-01-27</td>\n",
       "      <td>2020-12-01</td>\n",
       "      <td>1.41</td>\n",
       "      <td>1.68</td>\n",
       "      <td>0.27</td>\n",
       "      <td>102512.80</td>\n",
       "      <td>111439.0</td>\n",
       "    </tr>\n",
       "    <tr>\n",
       "      <th>2021-02-12</th>\n",
       "      <td>135.369995</td>\n",
       "      <td>60029300.0</td>\n",
       "      <td>2021-01-27</td>\n",
       "      <td>2020-12-01</td>\n",
       "      <td>1.41</td>\n",
       "      <td>1.68</td>\n",
       "      <td>0.27</td>\n",
       "      <td>102512.80</td>\n",
       "      <td>111439.0</td>\n",
       "    </tr>\n",
       "    <tr>\n",
       "      <th>2021-02-13</th>\n",
       "      <td>135.369995</td>\n",
       "      <td>60029300.0</td>\n",
       "      <td>2021-01-27</td>\n",
       "      <td>2020-12-01</td>\n",
       "      <td>1.41</td>\n",
       "      <td>1.68</td>\n",
       "      <td>0.27</td>\n",
       "      <td>102512.80</td>\n",
       "      <td>111439.0</td>\n",
       "    </tr>\n",
       "  </tbody>\n",
       "</table>\n",
       "<p>732 rows × 9 columns</p>\n",
       "</div>"
      ],
      "text/plain": [
       "             Adj Close      Volume        Date Period Ending  Estimated_EPS  \\\n",
       "2019-02-13   41.672295  89960800.0  2019-01-29    2018-12-01           1.04   \n",
       "2019-02-14   41.824120  87342800.0  2019-01-29    2018-12-01           1.04   \n",
       "2019-02-15   41.731060  98507200.0  2019-01-29    2018-12-01           1.04   \n",
       "2019-02-16   41.731060  98507200.0  2019-01-29    2018-12-01           1.04   \n",
       "2019-02-17   41.731060  98507200.0  2019-01-29    2018-12-01           1.04   \n",
       "...                ...         ...         ...           ...            ...   \n",
       "2021-02-09  136.009995  76774200.0  2021-01-27    2020-12-01           1.41   \n",
       "2021-02-10  135.389999  73046600.0  2021-01-27    2020-12-01           1.41   \n",
       "2021-02-11  135.130005  64154400.0  2021-01-27    2020-12-01           1.41   \n",
       "2021-02-12  135.369995  60029300.0  2021-01-27    2020-12-01           1.41   \n",
       "2021-02-13  135.369995  60029300.0  2021-01-27    2020-12-01           1.41   \n",
       "\n",
       "            Reported_EPS  Surprise_EPS  Estimated_Revenue  Reported_Revenue  \n",
       "2019-02-13          1.05          0.01           84071.09           84310.0  \n",
       "2019-02-14          1.05          0.01           84071.09           84310.0  \n",
       "2019-02-15          1.05          0.01           84071.09           84310.0  \n",
       "2019-02-16          1.05          0.01           84071.09           84310.0  \n",
       "2019-02-17          1.05          0.01           84071.09           84310.0  \n",
       "...                  ...           ...                ...               ...  \n",
       "2021-02-09          1.68          0.27          102512.80          111439.0  \n",
       "2021-02-10          1.68          0.27          102512.80          111439.0  \n",
       "2021-02-11          1.68          0.27          102512.80          111439.0  \n",
       "2021-02-12          1.68          0.27          102512.80          111439.0  \n",
       "2021-02-13          1.68          0.27          102512.80          111439.0  \n",
       "\n",
       "[732 rows x 9 columns]"
=======
      "cell_type": "code",
      "metadata": {
        "id": "hSfPIDH9gUdE",
        "colab": {
          "base_uri": "https://localhost:8080/",
          "height": 334
        },
        "outputId": "9e412b7b-0bf9-4bad-f3a2-fc7ee5d8940c"
      },
      "source": [
        "plt.figure(figsize=(12,5))\n",
        "plt.xlabel('Dates')\n",
        "\n",
        "ax1 = out[\"Prediction\"].plot(color='blue', grid=True)\n",
        "ax2 = out[\"Ground Truth\"].plot(color='red', grid=True)\n",
        "\n",
        "h1, l1 = ax1.get_legend_handles_labels()\n",
        "h2, l2 = ax2.get_legend_handles_labels()\n",
        "\n",
        "plt.legend(h1, l1, loc=2)\n",
        "plt.show()\n"
      ],
      "execution_count": 30,
      "outputs": [
        {
          "output_type": "display_data",
          "data": {
            "image/png": "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\n",
            "text/plain": [
              "<Figure size 864x360 with 1 Axes>"
            ]
          },
          "metadata": {
            "tags": [],
            "needs_background": "light"
          }
        }
>>>>>>> 49afec9ae723dfd18be441605fde0b2e123651f0
      ]
     },
     "execution_count": 228,
     "metadata": {},
     "output_type": "execute_result"
    }
   ],
   "source": [
    "df"
   ]
  },
  {
   "cell_type": "code",
   "execution_count": 229,
   "metadata": {},
   "outputs": [],
   "source": [
    "df = df.drop('Estimated_Revenue', axis=1)\n",
    "df = df.drop('Reported_Revenue', axis=1)\n",
    "df = df.drop('Date', axis=1)\n",
    "df = df.drop('Estimated_EPS', axis=1)\n",
    "df = df.drop('Reported_EPS', axis=1)\n",
    "df = df.drop('Period Ending', axis=1)"
   ]
  },
  {
   "cell_type": "code",
   "execution_count": 450,
   "metadata": {},
   "outputs": [
    {
     "data": {
      "text/html": [
       "<div>\n",
       "<style scoped>\n",
       "    .dataframe tbody tr th:only-of-type {\n",
       "        vertical-align: middle;\n",
       "    }\n",
       "\n",
       "    .dataframe tbody tr th {\n",
       "        vertical-align: top;\n",
       "    }\n",
       "\n",
       "    .dataframe thead th {\n",
       "        text-align: right;\n",
       "    }\n",
       "</style>\n",
       "<table border=\"1\" class=\"dataframe\">\n",
       "  <thead>\n",
       "    <tr style=\"text-align: right;\">\n",
       "      <th></th>\n",
       "      <th>Adj Close</th>\n",
       "      <th>Volume</th>\n",
       "      <th>Surprise_EPS</th>\n",
       "      <th>mid term average</th>\n",
       "      <th>short term average</th>\n",
       "    </tr>\n",
       "  </thead>\n",
       "  <tbody>\n",
       "    <tr>\n",
       "      <th>2019-02-13</th>\n",
       "      <td>41.672295</td>\n",
       "      <td>89960800.0</td>\n",
       "      <td>0.01</td>\n",
       "      <td>NaN</td>\n",
       "      <td>NaN</td>\n",
       "    </tr>\n",
       "    <tr>\n",
       "      <th>2019-02-14</th>\n",
       "      <td>41.824120</td>\n",
       "      <td>87342800.0</td>\n",
       "      <td>0.01</td>\n",
       "      <td>NaN</td>\n",
       "      <td>NaN</td>\n",
       "    </tr>\n",
       "    <tr>\n",
       "      <th>2019-02-15</th>\n",
       "      <td>41.731060</td>\n",
       "      <td>98507200.0</td>\n",
       "      <td>0.01</td>\n",
       "      <td>NaN</td>\n",
       "      <td>NaN</td>\n",
       "    </tr>\n",
       "    <tr>\n",
       "      <th>2019-02-16</th>\n",
       "      <td>41.731060</td>\n",
       "      <td>98507200.0</td>\n",
       "      <td>0.01</td>\n",
       "      <td>NaN</td>\n",
       "      <td>NaN</td>\n",
       "    </tr>\n",
       "    <tr>\n",
       "      <th>2019-02-17</th>\n",
       "      <td>41.731060</td>\n",
       "      <td>98507200.0</td>\n",
       "      <td>0.01</td>\n",
       "      <td>NaN</td>\n",
       "      <td>NaN</td>\n",
       "    </tr>\n",
       "    <tr>\n",
       "      <th>...</th>\n",
       "      <td>...</td>\n",
       "      <td>...</td>\n",
       "      <td>...</td>\n",
       "      <td>...</td>\n",
       "      <td>...</td>\n",
       "    </tr>\n",
       "    <tr>\n",
       "      <th>2021-02-09</th>\n",
       "      <td>136.009995</td>\n",
       "      <td>76774200.0</td>\n",
       "      <td>0.27</td>\n",
       "      <td>3.475987</td>\n",
       "      <td>0.694294</td>\n",
       "    </tr>\n",
       "    <tr>\n",
       "      <th>2021-02-10</th>\n",
       "      <td>135.389999</td>\n",
       "      <td>73046600.0</td>\n",
       "      <td>0.27</td>\n",
       "      <td>3.519273</td>\n",
       "      <td>0.514172</td>\n",
       "    </tr>\n",
       "    <tr>\n",
       "      <th>2021-02-11</th>\n",
       "      <td>135.130005</td>\n",
       "      <td>64154400.0</td>\n",
       "      <td>0.27</td>\n",
       "      <td>3.564259</td>\n",
       "      <td>0.335311</td>\n",
       "    </tr>\n",
       "    <tr>\n",
       "      <th>2021-02-12</th>\n",
       "      <td>135.369995</td>\n",
       "      <td>60029300.0</td>\n",
       "      <td>0.27</td>\n",
       "      <td>3.598338</td>\n",
       "      <td>0.193806</td>\n",
       "    </tr>\n",
       "    <tr>\n",
       "      <th>2021-02-13</th>\n",
       "      <td>135.369995</td>\n",
       "      <td>60029300.0</td>\n",
       "      <td>0.27</td>\n",
       "      <td>3.629688</td>\n",
       "      <td>0.183810</td>\n",
       "    </tr>\n",
       "  </tbody>\n",
       "</table>\n",
       "<p>732 rows × 5 columns</p>\n",
       "</div>"
      ],
<<<<<<< HEAD
      "text/plain": [
       "             Adj Close      Volume  Surprise_EPS  mid term average  \\\n",
       "2019-02-13   41.672295  89960800.0          0.01               NaN   \n",
       "2019-02-14   41.824120  87342800.0          0.01               NaN   \n",
       "2019-02-15   41.731060  98507200.0          0.01               NaN   \n",
       "2019-02-16   41.731060  98507200.0          0.01               NaN   \n",
       "2019-02-17   41.731060  98507200.0          0.01               NaN   \n",
       "...                ...         ...           ...               ...   \n",
       "2021-02-09  136.009995  76774200.0          0.27          3.475987   \n",
       "2021-02-10  135.389999  73046600.0          0.27          3.519273   \n",
       "2021-02-11  135.130005  64154400.0          0.27          3.564259   \n",
       "2021-02-12  135.369995  60029300.0          0.27          3.598338   \n",
       "2021-02-13  135.369995  60029300.0          0.27          3.629688   \n",
       "\n",
       "            short term average  \n",
       "2019-02-13                 NaN  \n",
       "2019-02-14                 NaN  \n",
       "2019-02-15                 NaN  \n",
       "2019-02-16                 NaN  \n",
       "2019-02-17                 NaN  \n",
       "...                        ...  \n",
       "2021-02-09            0.694294  \n",
       "2021-02-10            0.514172  \n",
       "2021-02-11            0.335311  \n",
       "2021-02-12            0.193806  \n",
       "2021-02-13            0.183810  \n",
       "\n",
       "[732 rows x 5 columns]"
=======
      "execution_count": null,
      "outputs": []
    },
    {
      "cell_type": "markdown",
      "metadata": {
        "id": "zE-_OIls6GPc"
      },
      "source": [
        "# Test SVM (ToDo: One hot coding and SVM)"
>>>>>>> 49afec9ae723dfd18be441605fde0b2e123651f0
      ]
     },
     "execution_count": 450,
     "metadata": {},
     "output_type": "execute_result"
    }
   ],
   "source": [
    "df"
   ]
  },
  {
   "cell_type": "code",
   "execution_count": 454,
   "metadata": {},
   "outputs": [],
   "source": [
    "# avg_df= avg_df.drop('weekly average', axis=1)\n",
    "# avg_df = avg_df.drop('monthly average', axis=1)\n",
    "# avg_df = avg_df.drop('long term average', axis=1)\n",
    "#df = df.drop('short term average', axis=1)\n",
    "#df= df.drop('mid term average', axis=1)\n",
    "\n",
    "#df=df.drop('Daily average', axis=1)\n",
    "df = df.join(avg_df)\n",
    "\n",
    "#df\n",
    "#avg_df"
   ]
  },
  {
   "cell_type": "code",
   "execution_count": 522,
   "metadata": {},
   "outputs": [],
   "source": [
    "def prepare_data_Y_for_ML2(df):\n",
    "  output = df['Adj Close']\n",
    "  output.rename('Stock Price')\n",
    "  advance = df['Adj Close'].shift(7)\n",
    "  advance = advance.rename('Short Term Advance')\n",
    "  advance2 = df['Adj Close'].shift(40)\n",
    "  advance2 = advance2.rename('Mid Term Advance')\n",
    "  gt = pd.concat([output, advance, advance2], axis=1)\n",
    "  gt['Short Term Change'] = ((gt['Short Term Advance'] - gt['Adj Close'])/gt['Adj Close'])*100\n",
    "  gt['Mid Term Change'] = ((gt['Mid Term Advance'] - gt['Adj Close'])/gt['Adj Close'])*100\n",
    "  #print(gt[9:110])\n",
    "  gt['Short Term Change'].plot()\n",
    "\n",
    "  Y = gt['Mid Term Change'][400:]\n",
    "  return Y"
   ]
  },
  {
   "cell_type": "code",
   "execution_count": 523,
   "metadata": {},
   "outputs": [
    {
     "data": {
      "image/png": "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\n",
      "text/plain": [
       "<Figure size 432x288 with 1 Axes>"
      ]
     },
     "metadata": {
      "needs_background": "light"
     },
     "output_type": "display_data"
    }
   ],
   "source": [
    "Y = prepare_data_Y_for_ML2(df)"
   ]
  },
  {
   "cell_type": "code",
   "execution_count": 524,
   "metadata": {},
   "outputs": [
    {
     "data": {
      "text/plain": [
       "45.830543982376234"
      ]
     },
     "execution_count": 524,
     "metadata": {},
     "output_type": "execute_result"
    }
   ],
   "source": [
    "max(Y)"
   ]
  },
  {
   "cell_type": "code",
   "execution_count": 525,
   "metadata": {},
   "outputs": [
    {
     "data": {
      "text/plain": [
       "-30.930169917392032"
      ]
     },
     "execution_count": 525,
     "metadata": {},
     "output_type": "execute_result"
    }
   ],
   "source": [
    "min(Y)"
   ]
  },
  {
   "cell_type": "code",
   "execution_count": 526,
   "metadata": {},
   "outputs": [
    {
     "data": {
      "text/plain": [
       "2020-03-19    30.741893\n",
       "2020-03-20    39.604776\n",
       "2020-03-21    40.267834\n",
       "2020-03-22    39.421545\n",
       "2020-03-23    45.830544\n",
       "                ...    \n",
       "2021-02-09    -2.586556\n",
       "2021-02-10    -2.140468\n",
       "2021-02-11    -1.952183\n",
       "2021-02-12    -2.126007\n",
       "2021-02-13    -4.545377\n",
       "Freq: D, Name: Mid Term Change, Length: 332, dtype: float64"
      ]
     },
     "execution_count": 526,
     "metadata": {},
     "output_type": "execute_result"
    }
   ],
   "source": [
    "Y"
   ]
  },
  {
   "cell_type": "code",
   "execution_count": 527,
   "metadata": {},
   "outputs": [],
   "source": [
    "X = df[400:]"
   ]
  },
  {
   "cell_type": "code",
   "execution_count": 528,
   "metadata": {},
   "outputs": [],
   "source": [
    "#X = X.drop('mid term average',axis=1)\n",
    "#X = X.drop('short term average', axis=1)"
   ]
  },
  {
   "cell_type": "code",
   "execution_count": 529,
   "metadata": {},
   "outputs": [
    {
     "data": {
      "text/html": [
       "<div>\n",
       "<style scoped>\n",
       "    .dataframe tbody tr th:only-of-type {\n",
       "        vertical-align: middle;\n",
       "    }\n",
       "\n",
       "    .dataframe tbody tr th {\n",
       "        vertical-align: top;\n",
       "    }\n",
       "\n",
       "    .dataframe thead th {\n",
       "        text-align: right;\n",
       "    }\n",
       "</style>\n",
       "<table border=\"1\" class=\"dataframe\">\n",
       "  <thead>\n",
       "    <tr style=\"text-align: right;\">\n",
       "      <th></th>\n",
       "      <th>Adj Close</th>\n",
       "      <th>Volume</th>\n",
       "      <th>Surprise_EPS</th>\n",
       "      <th>Daily average</th>\n",
       "      <th>mid term average</th>\n",
       "      <th>short term average</th>\n",
       "    </tr>\n",
       "  </thead>\n",
       "  <tbody>\n",
       "    <tr>\n",
       "      <th>2020-03-19</th>\n",
       "      <td>60.724293</td>\n",
       "      <td>271857200.0</td>\n",
       "      <td>0.11</td>\n",
       "      <td>0.133738</td>\n",
       "      <td>0.851902</td>\n",
       "      <td>0.632019</td>\n",
       "    </tr>\n",
       "    <tr>\n",
       "      <th>2020-03-20</th>\n",
       "      <td>56.869179</td>\n",
       "      <td>401693200.0</td>\n",
       "      <td>0.11</td>\n",
       "      <td>-0.097208</td>\n",
       "      <td>0.838866</td>\n",
       "      <td>0.639668</td>\n",
       "    </tr>\n",
       "    <tr>\n",
       "      <th>2020-03-21</th>\n",
       "      <td>56.869179</td>\n",
       "      <td>401693200.0</td>\n",
       "      <td>0.11</td>\n",
       "      <td>0.505180</td>\n",
       "      <td>0.833263</td>\n",
       "      <td>0.611356</td>\n",
       "    </tr>\n",
       "    <tr>\n",
       "      <th>2020-03-22</th>\n",
       "      <td>56.869179</td>\n",
       "      <td>401693200.0</td>\n",
       "      <td>0.11</td>\n",
       "      <td>0.071775</td>\n",
       "      <td>0.845051</td>\n",
       "      <td>0.579861</td>\n",
       "    </tr>\n",
       "    <tr>\n",
       "      <th>2020-03-23</th>\n",
       "      <td>55.661041</td>\n",
       "      <td>336752800.0</td>\n",
       "      <td>0.11</td>\n",
       "      <td>0.040108</td>\n",
       "      <td>0.864008</td>\n",
       "      <td>0.551489</td>\n",
       "    </tr>\n",
       "    <tr>\n",
       "      <th>...</th>\n",
       "      <td>...</td>\n",
       "      <td>...</td>\n",
       "      <td>...</td>\n",
       "      <td>...</td>\n",
       "      <td>...</td>\n",
       "      <td>...</td>\n",
       "    </tr>\n",
       "    <tr>\n",
       "      <th>2021-02-09</th>\n",
       "      <td>136.009995</td>\n",
       "      <td>76774200.0</td>\n",
       "      <td>0.27</td>\n",
       "      <td>-0.157918</td>\n",
       "      <td>3.475987</td>\n",
       "      <td>0.694294</td>\n",
       "    </tr>\n",
       "    <tr>\n",
       "      <th>2021-02-10</th>\n",
       "      <td>135.389999</td>\n",
       "      <td>73046600.0</td>\n",
       "      <td>0.27</td>\n",
       "      <td>0.171356</td>\n",
       "      <td>3.519273</td>\n",
       "      <td>0.514172</td>\n",
       "    </tr>\n",
       "    <tr>\n",
       "      <th>2021-02-11</th>\n",
       "      <td>135.130005</td>\n",
       "      <td>64154400.0</td>\n",
       "      <td>0.27</td>\n",
       "      <td>0.078864</td>\n",
       "      <td>3.564259</td>\n",
       "      <td>0.335311</td>\n",
       "    </tr>\n",
       "    <tr>\n",
       "      <th>2021-02-12</th>\n",
       "      <td>135.369995</td>\n",
       "      <td>60029300.0</td>\n",
       "      <td>0.27</td>\n",
       "      <td>0.005333</td>\n",
       "      <td>3.598338</td>\n",
       "      <td>0.193806</td>\n",
       "    </tr>\n",
       "    <tr>\n",
       "      <th>2021-02-13</th>\n",
       "      <td>135.369995</td>\n",
       "      <td>60029300.0</td>\n",
       "      <td>0.27</td>\n",
       "      <td>0.000000</td>\n",
       "      <td>3.629688</td>\n",
       "      <td>0.183810</td>\n",
       "    </tr>\n",
       "  </tbody>\n",
       "</table>\n",
       "<p>332 rows × 6 columns</p>\n",
       "</div>"
      ],
      "text/plain": [
       "             Adj Close       Volume  Surprise_EPS  Daily average  \\\n",
       "2020-03-19   60.724293  271857200.0          0.11       0.133738   \n",
       "2020-03-20   56.869179  401693200.0          0.11      -0.097208   \n",
       "2020-03-21   56.869179  401693200.0          0.11       0.505180   \n",
       "2020-03-22   56.869179  401693200.0          0.11       0.071775   \n",
       "2020-03-23   55.661041  336752800.0          0.11       0.040108   \n",
       "...                ...          ...           ...            ...   \n",
       "2021-02-09  136.009995   76774200.0          0.27      -0.157918   \n",
       "2021-02-10  135.389999   73046600.0          0.27       0.171356   \n",
       "2021-02-11  135.130005   64154400.0          0.27       0.078864   \n",
       "2021-02-12  135.369995   60029300.0          0.27       0.005333   \n",
       "2021-02-13  135.369995   60029300.0          0.27       0.000000   \n",
       "\n",
       "            mid term average  short term average  \n",
       "2020-03-19          0.851902            0.632019  \n",
       "2020-03-20          0.838866            0.639668  \n",
       "2020-03-21          0.833263            0.611356  \n",
       "2020-03-22          0.845051            0.579861  \n",
       "2020-03-23          0.864008            0.551489  \n",
       "...                      ...                 ...  \n",
       "2021-02-09          3.475987            0.694294  \n",
       "2021-02-10          3.519273            0.514172  \n",
       "2021-02-11          3.564259            0.335311  \n",
       "2021-02-12          3.598338            0.193806  \n",
       "2021-02-13          3.629688            0.183810  \n",
       "\n",
       "[332 rows x 6 columns]"
      ]
     },
     "execution_count": 529,
     "metadata": {},
     "output_type": "execute_result"
    }
   ],
   "source": [
    "X"
   ]
  },
  {
   "cell_type": "code",
   "execution_count": 530,
   "metadata": {},
   "outputs": [],
   "source": [
    "X_train,X_test,y_train,y_test = train_test_split(X,Y,test_size=0.15,random_state=0)"
   ]
  },
  {
   "cell_type": "code",
   "execution_count": 531,
   "metadata": {},
   "outputs": [],
   "source": [
    "sc_X = StandardScaler()\n",
    "X_trainscaled=sc_X.fit_transform(X_train)\n",
    "X_testscaled=sc_X.transform(X_test)"
   ]
  },
  {
   "cell_type": "code",
   "execution_count": 539,
   "metadata": {},
   "outputs": [],
   "source": [
    "reg = MLPRegressor(hidden_layer_sizes=(5,6,5),activation=\"relu\" ,random_state=1, max_iter=3000).fit(X_trainscaled, y_train)"
   ]
  },
  {
   "cell_type": "code",
   "execution_count": 540,
   "metadata": {},
   "outputs": [
    {
     "name": "stdout",
     "output_type": "stream",
     "text": [
      "The Score with  0.8914099248284271\n"
     ]
    }
   ],
   "source": [
    "y_pred=reg.predict(X_testscaled)\n",
    "print(\"The Score with \", (r2_score(y_pred, y_test)))\n",
    "y_pred = pd.DataFrame(y_pred)\n",
    "out = pd.concat([y_test.reset_index(drop=True),y_pred.reset_index(drop=True)], axis=1)\n",
    "out = out.rename(columns={0:\"Prediction\", \"Mid Term Change\":\"Ground Truth\"})\n",
    "#out"
   ]
  },
  {
   "cell_type": "code",
   "execution_count": 534,
   "metadata": {},
   "outputs": [],
   "source": [
    "# out=apply_MLP(X_train,X_test,y_train,y_test)\n",
    "# print(out)"
   ]
  },
  {
   "cell_type": "code",
   "execution_count": 535,
   "metadata": {},
   "outputs": [
    {
     "data": {
      "image/png": "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\n",
      "text/plain": [
       "<Figure size 864x360 with 1 Axes>"
      ]
     },
     "metadata": {
      "needs_background": "light"
     },
     "output_type": "display_data"
    }
   ],
   "source": [
    "plt.figure(figsize=(12,5))\n",
    "plt.xlabel('Dates')\n",
    "\n",
    "ax1 = out[\"Prediction\"].plot(color='blue', grid=True)\n",
    "ax2 = out[\"Ground Truth\"].plot(color='red', grid=True)\n",
    "#ax3 = Y.reset_index(drop=True).plot(color='green', grid=True)\n",
    "\n",
    "h1, l1 = ax1.get_legend_handles_labels()\n",
    "h2, l2 = ax2.get_legend_handles_labels()\n",
    "h2, l2 = ax3.get_legend_handles_labels()\n",
    "\n",
    "plt.legend(h1, l1, loc=2)\n",
    "plt.show()"
   ]
  },
  {
   "cell_type": "code",
   "execution_count": null,
   "metadata": {},
   "outputs": [],
   "source": []
  },
  {
   "cell_type": "code",
   "execution_count": null,
   "metadata": {},
   "outputs": [],
   "source": []
  }
 ],
 "metadata": {
  "colab": {
   "name": "Project.ipynb",
   "provenance": []
  },
  "kernelspec": {
   "display_name": "Python 3",
   "language": "python",
   "name": "python3"
  },
  "language_info": {
   "codemirror_mode": {
    "name": "ipython",
    "version": 3
   },
   "file_extension": ".py",
   "mimetype": "text/x-python",
   "name": "python",
   "nbconvert_exporter": "python",
   "pygments_lexer": "ipython3",
   "version": "3.8.3"
  }
 },
 "nbformat": 4,
 "nbformat_minor": 1
}
