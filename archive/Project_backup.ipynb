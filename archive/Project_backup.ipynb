{
 "cells": [
  {
   "cell_type": "code",
   "execution_count": 251,
   "metadata": {},
   "outputs": [
    {
     "name": "stdout",
     "output_type": "stream",
     "text": [
      "Requirement already satisfied: nltk==3.3 in /home/muditj/anaconda3/lib/python3.8/site-packages (3.3)\n",
      "Requirement already satisfied: six in /home/muditj/anaconda3/lib/python3.8/site-packages (from nltk==3.3) (1.15.0)\n"
     ]
    }
   ],
   "source": [
    "import numpy as np\n",
    "import pandas as pd\n",
    "import os\n",
    "import yahooquery\n",
    "from pandas_datareader import data\n",
    "!pip install nltk==3.3\n",
    "from datetime import timedelta, date, datetime"
   ]
  },
  {
   "cell_type": "markdown",
   "metadata": {},
   "source": [
    "# Get historical stock data"
   ]
  },
  {
   "cell_type": "code",
   "execution_count": 252,
   "metadata": {},
   "outputs": [],
   "source": [
    "# Get historical data\n",
    "symbol = 'AAPL'\n",
    "ticker = yahooquery.Ticker(symbol)\n",
    "df = pd.DataFrame(ticker.history(start='2020-06-01', end='2021-01-29'))"
   ]
  },
  {
   "cell_type": "code",
   "execution_count": 253,
   "metadata": {
    "scrolled": true
   },
   "outputs": [
    {
     "data": {
      "text/html": [
       "<style  type=\"text/css\" >\n",
       "    #T_53fc8d9c_7479_11eb_b79a_6b2303ae2dd0row0_col1 {\n",
       "            background-color:  #f7fbff;\n",
       "            color:  #000000;\n",
       "        }    #T_53fc8d9c_7479_11eb_b79a_6b2303ae2dd0row0_col2 {\n",
       "            background-color:  #f7fbff;\n",
       "            color:  #000000;\n",
       "        }    #T_53fc8d9c_7479_11eb_b79a_6b2303ae2dd0row1_col1 {\n",
       "            background-color:  #eef5fc;\n",
       "            color:  #000000;\n",
       "        }    #T_53fc8d9c_7479_11eb_b79a_6b2303ae2dd0row1_col2 {\n",
       "            background-color:  #ecf4fb;\n",
       "            color:  #000000;\n",
       "        }    #T_53fc8d9c_7479_11eb_b79a_6b2303ae2dd0row2_col1 {\n",
       "            background-color:  #e2edf8;\n",
       "            color:  #000000;\n",
       "        }    #T_53fc8d9c_7479_11eb_b79a_6b2303ae2dd0row2_col2 {\n",
       "            background-color:  #d0e2f2;\n",
       "            color:  #000000;\n",
       "        }    #T_53fc8d9c_7479_11eb_b79a_6b2303ae2dd0row3_col1 {\n",
       "            background-color:  #f5f9fe;\n",
       "            color:  #000000;\n",
       "        }    #T_53fc8d9c_7479_11eb_b79a_6b2303ae2dd0row3_col2 {\n",
       "            background-color:  #ecf4fb;\n",
       "            color:  #000000;\n",
       "        }    #T_53fc8d9c_7479_11eb_b79a_6b2303ae2dd0row4_col1 {\n",
       "            background-color:  #b3d3e8;\n",
       "            color:  #000000;\n",
       "        }    #T_53fc8d9c_7479_11eb_b79a_6b2303ae2dd0row4_col2 {\n",
       "            background-color:  #79b5d9;\n",
       "            color:  #000000;\n",
       "        }    #T_53fc8d9c_7479_11eb_b79a_6b2303ae2dd0row5_col1 {\n",
       "            background-color:  #9fcae1;\n",
       "            color:  #000000;\n",
       "        }    #T_53fc8d9c_7479_11eb_b79a_6b2303ae2dd0row5_col2 {\n",
       "            background-color:  #dfebf7;\n",
       "            color:  #000000;\n",
       "        }    #T_53fc8d9c_7479_11eb_b79a_6b2303ae2dd0row6_col1 {\n",
       "            background-color:  #2b7bba;\n",
       "            color:  #000000;\n",
       "        }    #T_53fc8d9c_7479_11eb_b79a_6b2303ae2dd0row6_col2 {\n",
       "            background-color:  #5aa2cf;\n",
       "            color:  #000000;\n",
       "        }    #T_53fc8d9c_7479_11eb_b79a_6b2303ae2dd0row7_col1 {\n",
       "            background-color:  #08306b;\n",
       "            color:  #f1f1f1;\n",
       "        }    #T_53fc8d9c_7479_11eb_b79a_6b2303ae2dd0row7_col2 {\n",
       "            background-color:  #2c7cba;\n",
       "            color:  #000000;\n",
       "        }    #T_53fc8d9c_7479_11eb_b79a_6b2303ae2dd0row8_col1 {\n",
       "            background-color:  #7db8da;\n",
       "            color:  #000000;\n",
       "        }    #T_53fc8d9c_7479_11eb_b79a_6b2303ae2dd0row8_col2 {\n",
       "            background-color:  #08306b;\n",
       "            color:  #f1f1f1;\n",
       "        }    #T_53fc8d9c_7479_11eb_b79a_6b2303ae2dd0row9_col1 {\n",
       "            background-color:  #5ba3d0;\n",
       "            color:  #000000;\n",
       "        }    #T_53fc8d9c_7479_11eb_b79a_6b2303ae2dd0row9_col2 {\n",
       "            background-color:  #083370;\n",
       "            color:  #f1f1f1;\n",
       "        }</style><table id=\"T_53fc8d9c_7479_11eb_b79a_6b2303ae2dd0\" ><thead>    <tr>        <th class=\"blank level0\" ></th>        <th class=\"col_heading level0 col0\" >Date</th>        <th class=\"col_heading level0 col1\" >Adj Close</th>        <th class=\"col_heading level0 col2\" >Volume</th>    </tr></thead><tbody>\n",
       "                <tr>\n",
       "                        <th id=\"T_53fc8d9c_7479_11eb_b79a_6b2303ae2dd0level0_row0\" class=\"row_heading level0 row0\" >0</th>\n",
       "                        <td id=\"T_53fc8d9c_7479_11eb_b79a_6b2303ae2dd0row0_col0\" class=\"data row0 col0\" >01/06/2020</td>\n",
       "                        <td id=\"T_53fc8d9c_7479_11eb_b79a_6b2303ae2dd0row0_col1\" class=\"data row0 col1\" >80.059723</td>\n",
       "                        <td id=\"T_53fc8d9c_7479_11eb_b79a_6b2303ae2dd0row0_col2\" class=\"data row0 col2\" >80791200.000000</td>\n",
       "            </tr>\n",
       "            <tr>\n",
       "                        <th id=\"T_53fc8d9c_7479_11eb_b79a_6b2303ae2dd0level0_row1\" class=\"row_heading level0 row1\" >1</th>\n",
       "                        <td id=\"T_53fc8d9c_7479_11eb_b79a_6b2303ae2dd0row1_col0\" class=\"data row1 col0\" >02/06/2020</td>\n",
       "                        <td id=\"T_53fc8d9c_7479_11eb_b79a_6b2303ae2dd0row1_col1\" class=\"data row1 col1\" >80.430351</td>\n",
       "                        <td id=\"T_53fc8d9c_7479_11eb_b79a_6b2303ae2dd0row1_col2\" class=\"data row1 col2\" >87642800.000000</td>\n",
       "            </tr>\n",
       "            <tr>\n",
       "                        <th id=\"T_53fc8d9c_7479_11eb_b79a_6b2303ae2dd0level0_row2\" class=\"row_heading level0 row2\" >2</th>\n",
       "                        <td id=\"T_53fc8d9c_7479_11eb_b79a_6b2303ae2dd0row2_col0\" class=\"data row2 col0\" >03/06/2020</td>\n",
       "                        <td id=\"T_53fc8d9c_7479_11eb_b79a_6b2303ae2dd0row2_col1\" class=\"data row2 col1\" >80.873131</td>\n",
       "                        <td id=\"T_53fc8d9c_7479_11eb_b79a_6b2303ae2dd0row2_col2\" class=\"data row2 col2\" >104491200.000000</td>\n",
       "            </tr>\n",
       "            <tr>\n",
       "                        <th id=\"T_53fc8d9c_7479_11eb_b79a_6b2303ae2dd0level0_row3\" class=\"row_heading level0 row3\" >3</th>\n",
       "                        <td id=\"T_53fc8d9c_7479_11eb_b79a_6b2303ae2dd0row3_col0\" class=\"data row3 col0\" >04/06/2020</td>\n",
       "                        <td id=\"T_53fc8d9c_7479_11eb_b79a_6b2303ae2dd0row3_col1\" class=\"data row3 col1\" >80.176636</td>\n",
       "                        <td id=\"T_53fc8d9c_7479_11eb_b79a_6b2303ae2dd0row3_col2\" class=\"data row3 col2\" >87560400.000000</td>\n",
       "            </tr>\n",
       "            <tr>\n",
       "                        <th id=\"T_53fc8d9c_7479_11eb_b79a_6b2303ae2dd0level0_row4\" class=\"row_heading level0 row4\" >4</th>\n",
       "                        <td id=\"T_53fc8d9c_7479_11eb_b79a_6b2303ae2dd0row4_col0\" class=\"data row4 col0\" >05/06/2020</td>\n",
       "                        <td id=\"T_53fc8d9c_7479_11eb_b79a_6b2303ae2dd0row4_col1\" class=\"data row4 col1\" >82.460152</td>\n",
       "                        <td id=\"T_53fc8d9c_7479_11eb_b79a_6b2303ae2dd0row4_col2\" class=\"data row4 col2\" >137250400.000000</td>\n",
       "            </tr>\n",
       "            <tr>\n",
       "                        <th id=\"T_53fc8d9c_7479_11eb_b79a_6b2303ae2dd0level0_row5\" class=\"row_heading level0 row5\" >5</th>\n",
       "                        <td id=\"T_53fc8d9c_7479_11eb_b79a_6b2303ae2dd0row5_col0\" class=\"data row5 col0\" >08/06/2020</td>\n",
       "                        <td id=\"T_53fc8d9c_7479_11eb_b79a_6b2303ae2dd0row5_col1\" class=\"data row5 col1\" >82.947685</td>\n",
       "                        <td id=\"T_53fc8d9c_7479_11eb_b79a_6b2303ae2dd0row5_col2\" class=\"data row5 col2\" >95654400.000000</td>\n",
       "            </tr>\n",
       "            <tr>\n",
       "                        <th id=\"T_53fc8d9c_7479_11eb_b79a_6b2303ae2dd0level0_row6\" class=\"row_heading level0 row6\" >6</th>\n",
       "                        <td id=\"T_53fc8d9c_7479_11eb_b79a_6b2303ae2dd0row6_col0\" class=\"data row6 col0\" >09/06/2020</td>\n",
       "                        <td id=\"T_53fc8d9c_7479_11eb_b79a_6b2303ae2dd0row6_col1\" class=\"data row6 col1\" >85.567009</td>\n",
       "                        <td id=\"T_53fc8d9c_7479_11eb_b79a_6b2303ae2dd0row6_col2\" class=\"data row6 col2\" >147712400.000000</td>\n",
       "            </tr>\n",
       "            <tr>\n",
       "                        <th id=\"T_53fc8d9c_7479_11eb_b79a_6b2303ae2dd0level0_row7\" class=\"row_heading level0 row7\" >7</th>\n",
       "                        <td id=\"T_53fc8d9c_7479_11eb_b79a_6b2303ae2dd0row7_col0\" class=\"data row7 col0\" >10/06/2020</td>\n",
       "                        <td id=\"T_53fc8d9c_7479_11eb_b79a_6b2303ae2dd0row7_col1\" class=\"data row7 col1\" >87.768440</td>\n",
       "                        <td id=\"T_53fc8d9c_7479_11eb_b79a_6b2303ae2dd0row7_col2\" class=\"data row7 col2\" >166651600.000000</td>\n",
       "            </tr>\n",
       "            <tr>\n",
       "                        <th id=\"T_53fc8d9c_7479_11eb_b79a_6b2303ae2dd0level0_row8\" class=\"row_heading level0 row8\" >8</th>\n",
       "                        <td id=\"T_53fc8d9c_7479_11eb_b79a_6b2303ae2dd0row8_col0\" class=\"data row8 col0\" >11/06/2020</td>\n",
       "                        <td id=\"T_53fc8d9c_7479_11eb_b79a_6b2303ae2dd0row8_col1\" class=\"data row8 col1\" >83.554642</td>\n",
       "                        <td id=\"T_53fc8d9c_7479_11eb_b79a_6b2303ae2dd0row8_col2\" class=\"data row8 col2\" >201662400.000000</td>\n",
       "            </tr>\n",
       "            <tr>\n",
       "                        <th id=\"T_53fc8d9c_7479_11eb_b79a_6b2303ae2dd0level0_row9\" class=\"row_heading level0 row9\" >9</th>\n",
       "                        <td id=\"T_53fc8d9c_7479_11eb_b79a_6b2303ae2dd0row9_col0\" class=\"data row9 col0\" >12/06/2020</td>\n",
       "                        <td id=\"T_53fc8d9c_7479_11eb_b79a_6b2303ae2dd0row9_col1\" class=\"data row9 col1\" >84.276009</td>\n",
       "                        <td id=\"T_53fc8d9c_7479_11eb_b79a_6b2303ae2dd0row9_col2\" class=\"data row9 col2\" >200146000.000000</td>\n",
       "            </tr>\n",
       "    </tbody></table>"
      ],
      "text/plain": [
       "<pandas.io.formats.style.Styler at 0x7fec41b1b8b0>"
      ]
     },
     "execution_count": 253,
     "metadata": {},
     "output_type": "execute_result"
    }
   ],
   "source": [
    "df=data.DataReader(\"AAPL\", 'yahoo', '20200601', '20210129').reset_index()\n",
    "df = df[['Date','Adj Close', 'Volume']]\n",
    "(df[:10].style.format(dict(Date='{:%d/%m/%Y}'))\n",
    " .background_gradient(subset='Volume',cmap='Blues')\n",
    " .background_gradient(subset='Adj Close',cmap='Blues')\n",
    ")"
   ]
  },
  {
   "cell_type": "code",
   "execution_count": 254,
   "metadata": {},
   "outputs": [
    {
     "data": {
      "text/plain": [
       "<matplotlib.axes._subplots.AxesSubplot at 0x7fec43633fa0>"
      ]
     },
     "execution_count": 254,
     "metadata": {},
     "output_type": "execute_result"
    },
    {
     "data": {
      "image/png": "[encoded data removed]",
      "text/plain": [
       "<Figure size 432x288 with 1 Axes>"
      ]
     },
     "metadata": {
      "needs_background": "light"
     },
     "output_type": "display_data"
    }
   ],
   "source": [
    "df.Volume.plot()"
   ]
  },
  {
   "cell_type": "code",
   "execution_count": 255,
   "metadata": {
    "scrolled": true
   },
   "outputs": [
    {
     "data": {
      "text/plain": [
       "<matplotlib.axes._subplots.AxesSubplot at 0x7fec3853daf0>"
      ]
     },
     "execution_count": 255,
     "metadata": {},
     "output_type": "execute_result"
    },
    {
     "data": {
      "image/png": "[encoded data removed]",
      "text/plain": [
       "<Figure size 432x288 with 1 Axes>"
      ]
     },
     "metadata": {
      "needs_background": "light"
     },
     "output_type": "display_data"
    }
   ],
   "source": [
    "df[\"Adj Close\"].plot()"
   ]
  },
  {
   "cell_type": "code",
   "execution_count": 256,
   "metadata": {},
   "outputs": [],
   "source": [
    "dates = pd.DataFrame(pd.date_range('20200601',periods=8*31))"
   ]
  },
  {
   "cell_type": "code",
   "execution_count": 257,
   "metadata": {},
   "outputs": [],
   "source": [
    "df.set_index(pd.to_datetime(df['Date']), inplace=True)\n",
    "df = df.drop(['Date'], axis=1)"
   ]
  },
  {
   "cell_type": "code",
   "execution_count": 258,
   "metadata": {
    "scrolled": true
   },
   "outputs": [],
   "source": [
    "stock_file = pd.read_csv(\"./earnings_data/AAPL.csv\")"
   ]
  },
  {
   "cell_type": "code",
   "execution_count": 259,
   "metadata": {},
   "outputs": [],
   "source": [
    "stock_file.set_index(pd.to_datetime(stock_file['Date']), inplace=True)"
   ]
  },
  {
   "cell_type": "code",
   "execution_count": 260,
   "metadata": {},
   "outputs": [
    {
     "data": {
      "text/html": [
       "<div>\n",
       "<style scoped>\n",
       "    .dataframe tbody tr th:only-of-type {\n",
       "        vertical-align: middle;\n",
       "    }\n",
       "\n",
       "    .dataframe tbody tr th {\n",
       "        vertical-align: top;\n",
       "    }\n",
       "\n",
       "    .dataframe thead th {\n",
       "        text-align: right;\n",
       "    }\n",
       "</style>\n",
       "<table border=\"1\" class=\"dataframe\">\n",
       "  <thead>\n",
       "    <tr style=\"text-align: right;\">\n",
       "      <th></th>\n",
       "      <th>Period Ending</th>\n",
       "      <th>Estimated_EPS</th>\n",
       "      <th>Reported_EPS</th>\n",
       "      <th>Surprise_EPS</th>\n",
       "      <th>Estimated_Revenue</th>\n",
       "      <th>Reported_Revenue</th>\n",
       "    </tr>\n",
       "    <tr>\n",
       "      <th>Date</th>\n",
       "      <th></th>\n",
       "      <th></th>\n",
       "      <th></th>\n",
       "      <th></th>\n",
       "      <th></th>\n",
       "      <th></th>\n",
       "    </tr>\n",
       "  </thead>\n",
       "  <tbody>\n",
       "    <tr>\n",
       "      <th>2021-01-27</th>\n",
       "      <td>2020-12-01</td>\n",
       "      <td>1.41</td>\n",
       "      <td>1.68</td>\n",
       "      <td>0.27</td>\n",
       "      <td>102512.80</td>\n",
       "      <td>111439.0</td>\n",
       "    </tr>\n",
       "    <tr>\n",
       "      <th>2020-10-29</th>\n",
       "      <td>2020-09-01</td>\n",
       "      <td>0.69</td>\n",
       "      <td>0.73</td>\n",
       "      <td>0.04</td>\n",
       "      <td>63388.91</td>\n",
       "      <td>64698.0</td>\n",
       "    </tr>\n",
       "    <tr>\n",
       "      <th>2020-07-30</th>\n",
       "      <td>2020-06-01</td>\n",
       "      <td>0.51</td>\n",
       "      <td>0.65</td>\n",
       "      <td>0.14</td>\n",
       "      <td>51935.15</td>\n",
       "      <td>59685.0</td>\n",
       "    </tr>\n",
       "    <tr>\n",
       "      <th>2020-04-30</th>\n",
       "      <td>2020-03-01</td>\n",
       "      <td>0.52</td>\n",
       "      <td>0.64</td>\n",
       "      <td>0.12</td>\n",
       "      <td>53668.84</td>\n",
       "      <td>58313.0</td>\n",
       "    </tr>\n",
       "    <tr>\n",
       "      <th>2020-01-28</th>\n",
       "      <td>2019-12-01</td>\n",
       "      <td>1.14</td>\n",
       "      <td>1.25</td>\n",
       "      <td>0.11</td>\n",
       "      <td>88017.80</td>\n",
       "      <td>91819.0</td>\n",
       "    </tr>\n",
       "    <tr>\n",
       "      <th>2019-10-30</th>\n",
       "      <td>2019-09-01</td>\n",
       "      <td>0.71</td>\n",
       "      <td>0.76</td>\n",
       "      <td>0.05</td>\n",
       "      <td>62724.50</td>\n",
       "      <td>64040.0</td>\n",
       "    </tr>\n",
       "    <tr>\n",
       "      <th>2019-07-30</th>\n",
       "      <td>2019-06-01</td>\n",
       "      <td>0.53</td>\n",
       "      <td>0.55</td>\n",
       "      <td>0.02</td>\n",
       "      <td>53313.88</td>\n",
       "      <td>53809.0</td>\n",
       "    </tr>\n",
       "    <tr>\n",
       "      <th>2019-04-30</th>\n",
       "      <td>2019-03-01</td>\n",
       "      <td>0.59</td>\n",
       "      <td>0.62</td>\n",
       "      <td>0.03</td>\n",
       "      <td>57553.77</td>\n",
       "      <td>58015.0</td>\n",
       "    </tr>\n",
       "    <tr>\n",
       "      <th>2019-01-29</th>\n",
       "      <td>2018-12-01</td>\n",
       "      <td>1.04</td>\n",
       "      <td>1.05</td>\n",
       "      <td>0.01</td>\n",
       "      <td>84071.09</td>\n",
       "      <td>84310.0</td>\n",
       "    </tr>\n",
       "    <tr>\n",
       "      <th>2018-11-01</th>\n",
       "      <td>2018-09-01</td>\n",
       "      <td>0.70</td>\n",
       "      <td>0.73</td>\n",
       "      <td>0.03</td>\n",
       "      <td>61492.30</td>\n",
       "      <td>62900.0</td>\n",
       "    </tr>\n",
       "    <tr>\n",
       "      <th>2018-07-31</th>\n",
       "      <td>2018-06-01</td>\n",
       "      <td>0.54</td>\n",
       "      <td>0.59</td>\n",
       "      <td>0.05</td>\n",
       "      <td>52367.89</td>\n",
       "      <td>53265.0</td>\n",
       "    </tr>\n",
       "    <tr>\n",
       "      <th>2018-05-01</th>\n",
       "      <td>2018-03-01</td>\n",
       "      <td>0.67</td>\n",
       "      <td>0.68</td>\n",
       "      <td>0.01</td>\n",
       "      <td>61104.77</td>\n",
       "      <td>61137.0</td>\n",
       "    </tr>\n",
       "    <tr>\n",
       "      <th>2018-02-01</th>\n",
       "      <td>2017-12-01</td>\n",
       "      <td>0.96</td>\n",
       "      <td>0.97</td>\n",
       "      <td>0.01</td>\n",
       "      <td>86293.21</td>\n",
       "      <td>88293.0</td>\n",
       "    </tr>\n",
       "  </tbody>\n",
       "</table>\n",
       "</div>"
      ],
      "text/plain": [
       "           Period Ending  Estimated_EPS  Reported_EPS  Surprise_EPS  \\\n",
       "Date                                                                  \n",
       "2021-01-27    2020-12-01           1.41          1.68          0.27   \n",
       "2020-10-29    2020-09-01           0.69          0.73          0.04   \n",
       "2020-07-30    2020-06-01           0.51          0.65          0.14   \n",
       "2020-04-30    2020-03-01           0.52          0.64          0.12   \n",
       "2020-01-28    2019-12-01           1.14          1.25          0.11   \n",
       "2019-10-30    2019-09-01           0.71          0.76          0.05   \n",
       "2019-07-30    2019-06-01           0.53          0.55          0.02   \n",
       "2019-04-30    2019-03-01           0.59          0.62          0.03   \n",
       "2019-01-29    2018-12-01           1.04          1.05          0.01   \n",
       "2018-11-01    2018-09-01           0.70          0.73          0.03   \n",
       "2018-07-31    2018-06-01           0.54          0.59          0.05   \n",
       "2018-05-01    2018-03-01           0.67          0.68          0.01   \n",
       "2018-02-01    2017-12-01           0.96          0.97          0.01   \n",
       "\n",
       "            Estimated_Revenue  Reported_Revenue  \n",
       "Date                                             \n",
       "2021-01-27          102512.80          111439.0  \n",
       "2020-10-29           63388.91           64698.0  \n",
       "2020-07-30           51935.15           59685.0  \n",
       "2020-04-30           53668.84           58313.0  \n",
       "2020-01-28           88017.80           91819.0  \n",
       "2019-10-30           62724.50           64040.0  \n",
       "2019-07-30           53313.88           53809.0  \n",
       "2019-04-30           57553.77           58015.0  \n",
       "2019-01-29           84071.09           84310.0  \n",
       "2018-11-01           61492.30           62900.0  \n",
       "2018-07-31           52367.89           53265.0  \n",
       "2018-05-01           61104.77           61137.0  \n",
       "2018-02-01           86293.21           88293.0  "
      ]
     },
     "execution_count": 260,
     "metadata": {},
     "output_type": "execute_result"
    }
   ],
   "source": [
    "stock_file.drop('Date', axis=1)"
   ]
  },
  {
   "cell_type": "code",
   "execution_count": 261,
   "metadata": {},
   "outputs": [],
   "source": [
    "stock_file = stock_file.reindex(df.index, method='bfill')\n",
    "#stock_file = stock_file.drop('Date', axis=1)\n",
    "#stock_file = stock_file.drop('Period Ending', axis=1)"
   ]
  },
  {
   "cell_type": "code",
   "execution_count": 262,
   "metadata": {},
   "outputs": [
    {
     "name": "stdout",
     "output_type": "stream",
     "text": [
      "                  Date Period Ending  Estimated_EPS  Reported_EPS  \\\n",
      "Date                                                                \n",
      "2020-06-01  2020-04-30    2020-03-01           0.52          0.64   \n",
      "2020-06-02  2020-04-30    2020-03-01           0.52          0.64   \n",
      "2020-06-03  2020-04-30    2020-03-01           0.52          0.64   \n",
      "2020-06-04  2020-04-30    2020-03-01           0.52          0.64   \n",
      "2020-06-05  2020-04-30    2020-03-01           0.52          0.64   \n",
      "...                ...           ...            ...           ...   \n",
      "2021-01-25  2020-10-29    2020-09-01           0.69          0.73   \n",
      "2021-01-26  2020-10-29    2020-09-01           0.69          0.73   \n",
      "2021-01-27  2021-01-27    2020-12-01           1.41          1.68   \n",
      "2021-01-28  2021-01-27    2020-12-01           1.41          1.68   \n",
      "2021-01-29  2021-01-27    2020-12-01           1.41          1.68   \n",
      "\n",
      "            Surprise_EPS  Estimated_Revenue  Reported_Revenue  \n",
      "Date                                                           \n",
      "2020-06-01          0.12           53668.84           58313.0  \n",
      "2020-06-02          0.12           53668.84           58313.0  \n",
      "2020-06-03          0.12           53668.84           58313.0  \n",
      "2020-06-04          0.12           53668.84           58313.0  \n",
      "2020-06-05          0.12           53668.84           58313.0  \n",
      "...                  ...                ...               ...  \n",
      "2021-01-25          0.04           63388.91           64698.0  \n",
      "2021-01-26          0.04           63388.91           64698.0  \n",
      "2021-01-27          0.27          102512.80          111439.0  \n",
      "2021-01-28          0.27          102512.80          111439.0  \n",
      "2021-01-29          0.27          102512.80          111439.0  \n",
      "\n",
      "[169 rows x 7 columns]\n"
     ]
    }
   ],
   "source": [
    "print(stock_file)"
   ]
  },
  {
   "cell_type": "code",
   "execution_count": 263,
   "metadata": {},
   "outputs": [],
   "source": [
    "df = df.join(stock_file)"
   ]
  },
  {
   "cell_type": "code",
   "execution_count": 264,
   "metadata": {},
   "outputs": [
    {
     "data": {
      "text/html": [
       "<div>\n",
       "<style scoped>\n",
       "    .dataframe tbody tr th:only-of-type {\n",
       "        vertical-align: middle;\n",
       "    }\n",
       "\n",
       "    .dataframe tbody tr th {\n",
       "        vertical-align: top;\n",
       "    }\n",
       "\n",
       "    .dataframe thead th {\n",
       "        text-align: right;\n",
       "    }\n",
       "</style>\n",
       "<table border=\"1\" class=\"dataframe\">\n",
       "  <thead>\n",
       "    <tr style=\"text-align: right;\">\n",
       "      <th></th>\n",
       "      <th>Adj Close</th>\n",
       "      <th>Volume</th>\n",
       "      <th>Date</th>\n",
       "      <th>Period Ending</th>\n",
       "      <th>Estimated_EPS</th>\n",
       "      <th>Reported_EPS</th>\n",
       "      <th>Surprise_EPS</th>\n",
       "      <th>Estimated_Revenue</th>\n",
       "      <th>Reported_Revenue</th>\n",
       "    </tr>\n",
       "    <tr>\n",
       "      <th>Date</th>\n",
       "      <th></th>\n",
       "      <th></th>\n",
       "      <th></th>\n",
       "      <th></th>\n",
       "      <th></th>\n",
       "      <th></th>\n",
       "      <th></th>\n",
       "      <th></th>\n",
       "      <th></th>\n",
       "    </tr>\n",
       "  </thead>\n",
       "  <tbody>\n",
       "    <tr>\n",
       "      <th>2020-06-01</th>\n",
       "      <td>80.059723</td>\n",
       "      <td>80791200.0</td>\n",
       "      <td>2020-04-30</td>\n",
       "      <td>2020-03-01</td>\n",
       "      <td>0.52</td>\n",
       "      <td>0.64</td>\n",
       "      <td>0.12</td>\n",
       "      <td>53668.84</td>\n",
       "      <td>58313.0</td>\n",
       "    </tr>\n",
       "    <tr>\n",
       "      <th>2020-06-02</th>\n",
       "      <td>80.430351</td>\n",
       "      <td>87642800.0</td>\n",
       "      <td>2020-04-30</td>\n",
       "      <td>2020-03-01</td>\n",
       "      <td>0.52</td>\n",
       "      <td>0.64</td>\n",
       "      <td>0.12</td>\n",
       "      <td>53668.84</td>\n",
       "      <td>58313.0</td>\n",
       "    </tr>\n",
       "    <tr>\n",
       "      <th>2020-06-03</th>\n",
       "      <td>80.873131</td>\n",
       "      <td>104491200.0</td>\n",
       "      <td>2020-04-30</td>\n",
       "      <td>2020-03-01</td>\n",
       "      <td>0.52</td>\n",
       "      <td>0.64</td>\n",
       "      <td>0.12</td>\n",
       "      <td>53668.84</td>\n",
       "      <td>58313.0</td>\n",
       "    </tr>\n",
       "    <tr>\n",
       "      <th>2020-06-04</th>\n",
       "      <td>80.176636</td>\n",
       "      <td>87560400.0</td>\n",
       "      <td>2020-04-30</td>\n",
       "      <td>2020-03-01</td>\n",
       "      <td>0.52</td>\n",
       "      <td>0.64</td>\n",
       "      <td>0.12</td>\n",
       "      <td>53668.84</td>\n",
       "      <td>58313.0</td>\n",
       "    </tr>\n",
       "    <tr>\n",
       "      <th>2020-06-05</th>\n",
       "      <td>82.460152</td>\n",
       "      <td>137250400.0</td>\n",
       "      <td>2020-04-30</td>\n",
       "      <td>2020-03-01</td>\n",
       "      <td>0.52</td>\n",
       "      <td>0.64</td>\n",
       "      <td>0.12</td>\n",
       "      <td>53668.84</td>\n",
       "      <td>58313.0</td>\n",
       "    </tr>\n",
       "    <tr>\n",
       "      <th>...</th>\n",
       "      <td>...</td>\n",
       "      <td>...</td>\n",
       "      <td>...</td>\n",
       "      <td>...</td>\n",
       "      <td>...</td>\n",
       "      <td>...</td>\n",
       "      <td>...</td>\n",
       "      <td>...</td>\n",
       "      <td>...</td>\n",
       "    </tr>\n",
       "    <tr>\n",
       "      <th>2021-01-25</th>\n",
       "      <td>142.706757</td>\n",
       "      <td>157611700.0</td>\n",
       "      <td>2020-10-29</td>\n",
       "      <td>2020-09-01</td>\n",
       "      <td>0.69</td>\n",
       "      <td>0.73</td>\n",
       "      <td>0.04</td>\n",
       "      <td>63388.91</td>\n",
       "      <td>64698.0</td>\n",
       "    </tr>\n",
       "    <tr>\n",
       "      <th>2021-01-26</th>\n",
       "      <td>142.946396</td>\n",
       "      <td>98390600.0</td>\n",
       "      <td>2020-10-29</td>\n",
       "      <td>2020-09-01</td>\n",
       "      <td>0.69</td>\n",
       "      <td>0.73</td>\n",
       "      <td>0.04</td>\n",
       "      <td>63388.91</td>\n",
       "      <td>64698.0</td>\n",
       "    </tr>\n",
       "    <tr>\n",
       "      <th>2021-01-27</th>\n",
       "      <td>141.848038</td>\n",
       "      <td>140843800.0</td>\n",
       "      <td>2021-01-27</td>\n",
       "      <td>2020-12-01</td>\n",
       "      <td>1.41</td>\n",
       "      <td>1.68</td>\n",
       "      <td>0.27</td>\n",
       "      <td>102512.80</td>\n",
       "      <td>111439.0</td>\n",
       "    </tr>\n",
       "    <tr>\n",
       "      <th>2021-01-28</th>\n",
       "      <td>136.885452</td>\n",
       "      <td>142621100.0</td>\n",
       "      <td>2021-01-27</td>\n",
       "      <td>2020-12-01</td>\n",
       "      <td>1.41</td>\n",
       "      <td>1.68</td>\n",
       "      <td>0.27</td>\n",
       "      <td>102512.80</td>\n",
       "      <td>111439.0</td>\n",
       "    </tr>\n",
       "    <tr>\n",
       "      <th>2021-01-29</th>\n",
       "      <td>131.763107</td>\n",
       "      <td>177180600.0</td>\n",
       "      <td>2021-01-27</td>\n",
       "      <td>2020-12-01</td>\n",
       "      <td>1.41</td>\n",
       "      <td>1.68</td>\n",
       "      <td>0.27</td>\n",
       "      <td>102512.80</td>\n",
       "      <td>111439.0</td>\n",
       "    </tr>\n",
       "  </tbody>\n",
       "</table>\n",
       "<p>169 rows × 9 columns</p>\n",
       "</div>"
      ],
      "text/plain": [
       "             Adj Close       Volume        Date Period Ending  Estimated_EPS  \\\n",
       "Date                                                                           \n",
       "2020-06-01   80.059723   80791200.0  2020-04-30    2020-03-01           0.52   \n",
       "2020-06-02   80.430351   87642800.0  2020-04-30    2020-03-01           0.52   \n",
       "2020-06-03   80.873131  104491200.0  2020-04-30    2020-03-01           0.52   \n",
       "2020-06-04   80.176636   87560400.0  2020-04-30    2020-03-01           0.52   \n",
       "2020-06-05   82.460152  137250400.0  2020-04-30    2020-03-01           0.52   \n",
       "...                ...          ...         ...           ...            ...   \n",
       "2021-01-25  142.706757  157611700.0  2020-10-29    2020-09-01           0.69   \n",
       "2021-01-26  142.946396   98390600.0  2020-10-29    2020-09-01           0.69   \n",
       "2021-01-27  141.848038  140843800.0  2021-01-27    2020-12-01           1.41   \n",
       "2021-01-28  136.885452  142621100.0  2021-01-27    2020-12-01           1.41   \n",
       "2021-01-29  131.763107  177180600.0  2021-01-27    2020-12-01           1.41   \n",
       "\n",
       "            Reported_EPS  Surprise_EPS  Estimated_Revenue  Reported_Revenue  \n",
       "Date                                                                         \n",
       "2020-06-01          0.64          0.12           53668.84           58313.0  \n",
       "2020-06-02          0.64          0.12           53668.84           58313.0  \n",
       "2020-06-03          0.64          0.12           53668.84           58313.0  \n",
       "2020-06-04          0.64          0.12           53668.84           58313.0  \n",
       "2020-06-05          0.64          0.12           53668.84           58313.0  \n",
       "...                  ...           ...                ...               ...  \n",
       "2021-01-25          0.73          0.04           63388.91           64698.0  \n",
       "2021-01-26          0.73          0.04           63388.91           64698.0  \n",
       "2021-01-27          1.68          0.27          102512.80          111439.0  \n",
       "2021-01-28          1.68          0.27          102512.80          111439.0  \n",
       "2021-01-29          1.68          0.27          102512.80          111439.0  \n",
       "\n",
       "[169 rows x 9 columns]"
      ]
     },
     "execution_count": 264,
     "metadata": {},
     "output_type": "execute_result"
    }
   ],
   "source": [
    "df"
   ]
  },
  {
   "cell_type": "markdown",
   "metadata": {},
   "source": [
    "# Get news sentiment"
   ]
  },
  {
   "cell_type": "code",
   "execution_count": 265,
   "metadata": {},
   "outputs": [
    {
     "name": "stdout",
     "output_type": "stream",
     "text": [
      "999\n"
     ]
    }
   ],
   "source": [
    "def daterange(start_date, end_date):\n",
    "    for n in range(int((end_date - start_date).days)):\n",
    "        yield start_date + timedelta(n)\n",
    "\n",
    "start_date = date(2020, 6, 1)\n",
    "end_date = date(2021, 1, 29)\n",
    "data = []\n",
    "run_Dict = []\n",
    "for single_date in daterange(start_date, end_date):\n",
    "    daily_news = ticker.news(start=single_date.strftime(\"%Y-%m-%d\"))\n",
    "    for article in daily_news:\n",
    "        #print(article)\n",
    "        title = article['title']\n",
    "        if title in run_Dict:\n",
    "            continue\n",
    "        else:\n",
    "            try:\n",
    "                run_Dict.append(title)\n",
    "                publisher_time = article['provider_publish_time']\n",
    "                publisher_time = datetime.utcfromtimestamp(int(publisher_time)).strftime('%Y-%m-%d')\n",
    "                data.append([publisher_time, title, article['summary']])\n",
    "            except KeyError:\n",
    "                print(\"KeyError generated.\")\n",
    "                continue\n",
    "        if len(run_Dict) > 30:\n",
    "            run_Dict = run_Dict[-30:]\n",
    "print(len(data))"
   ]
  },
  {
   "cell_type": "code",
   "execution_count": 266,
   "metadata": {},
   "outputs": [],
   "source": [
    "news = pd.DataFrame(data, columns=[\"date\", \"Title\", \"Summary\"])"
   ]
  },
  {
   "cell_type": "code",
   "execution_count": 267,
   "metadata": {},
   "outputs": [
    {
     "name": "stdout",
     "output_type": "stream",
     "text": [
      "[nltk_data] Downloading package vader_lexicon to\n",
      "[nltk_data]     /home/muditj/nltk_data...\n",
      "[nltk_data]   Package vader_lexicon is already up-to-date!\n"
     ]
    }
   ],
   "source": [
    "from nltk.sentiment.vader import SentimentIntensityAnalyzer\n",
    "import nltk\n",
    "nltk.download(\"vader_lexicon\")\n",
    "sentimentAnalyser = SentimentIntensityAnalyzer()\n",
    "news[\"compound\"] = [sentimentAnalyser.polarity_scores(v)['compound'] for v in news[\"Summary\"]]\n",
    "news[\"negative\"] = [sentimentAnalyser.polarity_scores(v)['neg'] for v in news[\"Summary\"]]\n",
    "news[\"positive\"] = [sentimentAnalyser.polarity_scores(v)['pos'] for v in news[\"Summary\"]]\n",
    "news[\"neutral\"] = [sentimentAnalyser.polarity_scores(v)['neu'] for v in news[\"Summary\"]]"
   ]
  },
  {
   "cell_type": "code",
   "execution_count": 268,
   "metadata": {},
   "outputs": [],
   "source": [
    "news = news.sort_values(by=\"date\")"
   ]
  },
  {
   "cell_type": "code",
   "execution_count": 269,
   "metadata": {},
   "outputs": [
    {
     "name": "stdout",
     "output_type": "stream",
     "text": [
      "           date                                              Title  \\\n",
      "24   2020-05-08  I think a ‘square-root’ recovery is more likel...   \n",
      "23   2020-05-08   94% of self-isolating families own at least o...   \n",
      "22   2020-05-08  Stocks jump despite a record 20.5M jobs lost i...   \n",
      "21   2020-05-11  Yahoo Finance Presents: Dropbox Founder & CEO ...   \n",
      "20   2020-05-11  Contract tracing and preserving privacy: Mozil...   \n",
      "..          ...                                                ...   \n",
      "981  2021-01-28  War on Wall Street, GDP & Jobless Claims, Earn...   \n",
      "979  2021-01-28      Apple (AAPL) Q1 2021 Earnings Call Transcript   \n",
      "978  2021-01-28  Dow Futures Edge Higher, Market Volatility Spi...   \n",
      "988  2021-01-28  Apple logs record quarterly smartphone shipmen...   \n",
      "832  2021-01-29  Samsung Galaxy S21 vs Apple iPhone 12: Which n...   \n",
      "\n",
      "                                               Summary  compound  negative  \\\n",
      "24   Director of Fiscal Policy at the American Acti...   -0.4902     0.075   \n",
      "23   Streaming platforms are benefiting from corona...    0.0000     0.000   \n",
      "22   Managing Director & Chief U.S. Economist at Na...    0.0000     0.000   \n",
      "21   In this episode of Yahoo Finance Presents, cor...    0.4939     0.033   \n",
      "20   Tech companies are working to build digital co...    0.8176     0.000   \n",
      "..                                                 ...       ...       ...   \n",
      "981                                  By Geoffrey Smith    0.0000     0.000   \n",
      "979  AAPL earnings call for the period ending Decem...    0.0000     0.000   \n",
      "978  Retail&#39;s recent grip on Wall Street has cl...   -0.1531     0.091   \n",
      "988  Apple Inc's smartphone shipments jumped 22% to...    0.5267     0.019   \n",
      "832  Reviewing everything from face ID technology t...    0.0000     0.000   \n",
      "\n",
      "     positive  neutral  \n",
      "24      0.000    0.925  \n",
      "23      0.000    1.000  \n",
      "22      0.000    1.000  \n",
      "21      0.099    0.868  \n",
      "20      0.229    0.771  \n",
      "..        ...      ...  \n",
      "981     0.000    1.000  \n",
      "979     0.000    1.000  \n",
      "978     0.000    0.909  \n",
      "988     0.073    0.908  \n",
      "832     0.000    1.000  \n",
      "\n",
      "[999 rows x 7 columns]\n"
     ]
    }
   ],
   "source": [
    "print(news)"
   ]
  },
  {
   "cell_type": "code",
   "execution_count": 270,
   "metadata": {},
   "outputs": [],
   "source": [
    "news_sentiment = news[['date', 'compound']]"
   ]
  },
  {
   "cell_type": "code",
   "execution_count": 271,
   "metadata": {},
   "outputs": [
    {
     "name": "stdout",
     "output_type": "stream",
     "text": [
      "           date  compound\n",
      "24   2020-05-08   -0.4902\n",
      "23   2020-05-08    0.0000\n",
      "22   2020-05-08    0.0000\n",
      "21   2020-05-11    0.4939\n",
      "20   2020-05-11    0.8176\n",
      "..          ...       ...\n",
      "981  2021-01-28    0.0000\n",
      "979  2021-01-28    0.0000\n",
      "978  2021-01-28   -0.1531\n",
      "988  2021-01-28    0.5267\n",
      "832  2021-01-29    0.0000\n",
      "\n",
      "[999 rows x 2 columns]\n"
     ]
    }
   ],
   "source": [
    "print(news_sentiment)"
   ]
  },
  {
   "cell_type": "code",
   "execution_count": 272,
   "metadata": {},
   "outputs": [],
   "source": [
    "news_sentiment.set_index(pd.to_datetime(news_sentiment['date']), inplace=True)"
   ]
  },
  {
   "cell_type": "code",
   "execution_count": 273,
   "metadata": {},
   "outputs": [
    {
     "name": "stdout",
     "output_type": "stream",
     "text": [
      "                  date  compound\n",
      "date                            \n",
      "2020-05-08  2020-05-08   -0.4902\n",
      "2020-05-08  2020-05-08    0.0000\n",
      "2020-05-08  2020-05-08    0.0000\n",
      "2020-05-11  2020-05-11    0.4939\n",
      "2020-05-11  2020-05-11    0.8176\n",
      "2020-05-11  2020-05-11    0.0000\n",
      "2020-05-12  2020-05-12    0.0000\n",
      "2020-05-12  2020-05-12    0.1531\n",
      "2020-05-12  2020-05-12    0.0000\n",
      "2020-05-12  2020-05-12   -0.4588\n"
     ]
    }
   ],
   "source": [
    "print(news_sentiment[:10])"
   ]
  },
  {
   "cell_type": "code",
   "execution_count": 274,
   "metadata": {},
   "outputs": [],
   "source": [
    "news_sentiment = news_sentiment['compound']"
   ]
  },
  {
   "cell_type": "code",
   "execution_count": 275,
   "metadata": {
    "scrolled": true
   },
   "outputs": [],
   "source": [
    "total_sentiment = news_sentiment.groupby('date').agg(lambda x: sum(x))\n",
    "total_sentiment = total_sentiment.rename('Total Sentiment')"
   ]
  },
  {
   "cell_type": "code",
   "execution_count": 276,
   "metadata": {},
   "outputs": [],
   "source": [
    "nArticles = news_sentiment.groupby('date').count()"
   ]
  },
  {
   "cell_type": "code",
   "execution_count": 277,
   "metadata": {},
   "outputs": [],
   "source": [
    "avg_sentiment = total_sentiment/nArticles\n",
    "avg_sentiment = avg_sentiment.rename('Avg Sentiment')"
   ]
  },
  {
   "cell_type": "code",
   "execution_count": 278,
   "metadata": {
    "scrolled": true
   },
   "outputs": [],
   "source": [
    "sentiment_data = pd.concat([total_sentiment, avg_sentiment], axis=1)"
   ]
  },
  {
   "cell_type": "code",
   "execution_count": 279,
   "metadata": {},
   "outputs": [],
   "source": [
    "sentiment_data = sentiment_data.reindex(df.index, method='ffill')"
   ]
  },
  {
   "cell_type": "code",
   "execution_count": 280,
   "metadata": {},
   "outputs": [
    {
     "name": "stdout",
     "output_type": "stream",
     "text": [
      "            Total Sentiment  Avg Sentiment\n",
      "Date                                      \n",
      "2020-06-01          -1.2498      -0.312450\n",
      "2020-06-02          -1.6542      -0.827100\n",
      "2020-06-03          -1.6542      -0.827100\n",
      "2020-06-04          -1.7959      -0.256557\n",
      "2020-06-05          -1.7959      -0.256557\n",
      "...                     ...            ...\n",
      "2021-01-25           7.5164       0.313183\n",
      "2021-01-26           8.6724       0.346896\n",
      "2021-01-27           2.6192       0.436533\n",
      "2021-01-28           5.3015       0.279026\n",
      "2021-01-29           0.0000       0.000000\n",
      "\n",
      "[169 rows x 2 columns]\n"
     ]
    }
   ],
   "source": [
    "print(sentiment_data)"
   ]
  },
  {
   "cell_type": "code",
   "execution_count": 281,
   "metadata": {},
   "outputs": [],
   "source": [
    "df = df.join(sentiment_data)"
   ]
  },
  {
   "cell_type": "code",
   "execution_count": 282,
   "metadata": {},
   "outputs": [
    {
     "data": {
      "text/html": [
       "<div>\n",
       "<style scoped>\n",
       "    .dataframe tbody tr th:only-of-type {\n",
       "        vertical-align: middle;\n",
       "    }\n",
       "\n",
       "    .dataframe tbody tr th {\n",
       "        vertical-align: top;\n",
       "    }\n",
       "\n",
       "    .dataframe thead th {\n",
       "        text-align: right;\n",
       "    }\n",
       "</style>\n",
       "<table border=\"1\" class=\"dataframe\">\n",
       "  <thead>\n",
       "    <tr style=\"text-align: right;\">\n",
       "      <th></th>\n",
       "      <th>Adj Close</th>\n",
       "      <th>Volume</th>\n",
       "      <th>Date</th>\n",
       "      <th>Period Ending</th>\n",
       "      <th>Estimated_EPS</th>\n",
       "      <th>Reported_EPS</th>\n",
       "      <th>Surprise_EPS</th>\n",
       "      <th>Estimated_Revenue</th>\n",
       "      <th>Reported_Revenue</th>\n",
       "      <th>Total Sentiment</th>\n",
       "      <th>Avg Sentiment</th>\n",
       "    </tr>\n",
       "    <tr>\n",
       "      <th>Date</th>\n",
       "      <th></th>\n",
       "      <th></th>\n",
       "      <th></th>\n",
       "      <th></th>\n",
       "      <th></th>\n",
       "      <th></th>\n",
       "      <th></th>\n",
       "      <th></th>\n",
       "      <th></th>\n",
       "      <th></th>\n",
       "      <th></th>\n",
       "    </tr>\n",
       "  </thead>\n",
       "  <tbody>\n",
       "    <tr>\n",
       "      <th>2020-06-01</th>\n",
       "      <td>80.059723</td>\n",
       "      <td>80791200.0</td>\n",
       "      <td>2020-04-30</td>\n",
       "      <td>2020-03-01</td>\n",
       "      <td>0.52</td>\n",
       "      <td>0.64</td>\n",
       "      <td>0.12</td>\n",
       "      <td>53668.84</td>\n",
       "      <td>58313.0</td>\n",
       "      <td>-1.2498</td>\n",
       "      <td>-0.312450</td>\n",
       "    </tr>\n",
       "    <tr>\n",
       "      <th>2020-06-02</th>\n",
       "      <td>80.430351</td>\n",
       "      <td>87642800.0</td>\n",
       "      <td>2020-04-30</td>\n",
       "      <td>2020-03-01</td>\n",
       "      <td>0.52</td>\n",
       "      <td>0.64</td>\n",
       "      <td>0.12</td>\n",
       "      <td>53668.84</td>\n",
       "      <td>58313.0</td>\n",
       "      <td>-1.6542</td>\n",
       "      <td>-0.827100</td>\n",
       "    </tr>\n",
       "    <tr>\n",
       "      <th>2020-06-03</th>\n",
       "      <td>80.873131</td>\n",
       "      <td>104491200.0</td>\n",
       "      <td>2020-04-30</td>\n",
       "      <td>2020-03-01</td>\n",
       "      <td>0.52</td>\n",
       "      <td>0.64</td>\n",
       "      <td>0.12</td>\n",
       "      <td>53668.84</td>\n",
       "      <td>58313.0</td>\n",
       "      <td>-1.6542</td>\n",
       "      <td>-0.827100</td>\n",
       "    </tr>\n",
       "    <tr>\n",
       "      <th>2020-06-04</th>\n",
       "      <td>80.176636</td>\n",
       "      <td>87560400.0</td>\n",
       "      <td>2020-04-30</td>\n",
       "      <td>2020-03-01</td>\n",
       "      <td>0.52</td>\n",
       "      <td>0.64</td>\n",
       "      <td>0.12</td>\n",
       "      <td>53668.84</td>\n",
       "      <td>58313.0</td>\n",
       "      <td>-1.7959</td>\n",
       "      <td>-0.256557</td>\n",
       "    </tr>\n",
       "    <tr>\n",
       "      <th>2020-06-05</th>\n",
       "      <td>82.460152</td>\n",
       "      <td>137250400.0</td>\n",
       "      <td>2020-04-30</td>\n",
       "      <td>2020-03-01</td>\n",
       "      <td>0.52</td>\n",
       "      <td>0.64</td>\n",
       "      <td>0.12</td>\n",
       "      <td>53668.84</td>\n",
       "      <td>58313.0</td>\n",
       "      <td>-1.7959</td>\n",
       "      <td>-0.256557</td>\n",
       "    </tr>\n",
       "    <tr>\n",
       "      <th>...</th>\n",
       "      <td>...</td>\n",
       "      <td>...</td>\n",
       "      <td>...</td>\n",
       "      <td>...</td>\n",
       "      <td>...</td>\n",
       "      <td>...</td>\n",
       "      <td>...</td>\n",
       "      <td>...</td>\n",
       "      <td>...</td>\n",
       "      <td>...</td>\n",
       "      <td>...</td>\n",
       "    </tr>\n",
       "    <tr>\n",
       "      <th>2021-01-25</th>\n",
       "      <td>142.706757</td>\n",
       "      <td>157611700.0</td>\n",
       "      <td>2020-10-29</td>\n",
       "      <td>2020-09-01</td>\n",
       "      <td>0.69</td>\n",
       "      <td>0.73</td>\n",
       "      <td>0.04</td>\n",
       "      <td>63388.91</td>\n",
       "      <td>64698.0</td>\n",
       "      <td>7.5164</td>\n",
       "      <td>0.313183</td>\n",
       "    </tr>\n",
       "    <tr>\n",
       "      <th>2021-01-26</th>\n",
       "      <td>142.946396</td>\n",
       "      <td>98390600.0</td>\n",
       "      <td>2020-10-29</td>\n",
       "      <td>2020-09-01</td>\n",
       "      <td>0.69</td>\n",
       "      <td>0.73</td>\n",
       "      <td>0.04</td>\n",
       "      <td>63388.91</td>\n",
       "      <td>64698.0</td>\n",
       "      <td>8.6724</td>\n",
       "      <td>0.346896</td>\n",
       "    </tr>\n",
       "    <tr>\n",
       "      <th>2021-01-27</th>\n",
       "      <td>141.848038</td>\n",
       "      <td>140843800.0</td>\n",
       "      <td>2021-01-27</td>\n",
       "      <td>2020-12-01</td>\n",
       "      <td>1.41</td>\n",
       "      <td>1.68</td>\n",
       "      <td>0.27</td>\n",
       "      <td>102512.80</td>\n",
       "      <td>111439.0</td>\n",
       "      <td>2.6192</td>\n",
       "      <td>0.436533</td>\n",
       "    </tr>\n",
       "    <tr>\n",
       "      <th>2021-01-28</th>\n",
       "      <td>136.885452</td>\n",
       "      <td>142621100.0</td>\n",
       "      <td>2021-01-27</td>\n",
       "      <td>2020-12-01</td>\n",
       "      <td>1.41</td>\n",
       "      <td>1.68</td>\n",
       "      <td>0.27</td>\n",
       "      <td>102512.80</td>\n",
       "      <td>111439.0</td>\n",
       "      <td>5.3015</td>\n",
       "      <td>0.279026</td>\n",
       "    </tr>\n",
       "    <tr>\n",
       "      <th>2021-01-29</th>\n",
       "      <td>131.763107</td>\n",
       "      <td>177180600.0</td>\n",
       "      <td>2021-01-27</td>\n",
       "      <td>2020-12-01</td>\n",
       "      <td>1.41</td>\n",
       "      <td>1.68</td>\n",
       "      <td>0.27</td>\n",
       "      <td>102512.80</td>\n",
       "      <td>111439.0</td>\n",
       "      <td>0.0000</td>\n",
       "      <td>0.000000</td>\n",
       "    </tr>\n",
       "  </tbody>\n",
       "</table>\n",
       "<p>169 rows × 11 columns</p>\n",
       "</div>"
      ],
      "text/plain": [
       "             Adj Close       Volume        Date Period Ending  Estimated_EPS  \\\n",
       "Date                                                                           \n",
       "2020-06-01   80.059723   80791200.0  2020-04-30    2020-03-01           0.52   \n",
       "2020-06-02   80.430351   87642800.0  2020-04-30    2020-03-01           0.52   \n",
       "2020-06-03   80.873131  104491200.0  2020-04-30    2020-03-01           0.52   \n",
       "2020-06-04   80.176636   87560400.0  2020-04-30    2020-03-01           0.52   \n",
       "2020-06-05   82.460152  137250400.0  2020-04-30    2020-03-01           0.52   \n",
       "...                ...          ...         ...           ...            ...   \n",
       "2021-01-25  142.706757  157611700.0  2020-10-29    2020-09-01           0.69   \n",
       "2021-01-26  142.946396   98390600.0  2020-10-29    2020-09-01           0.69   \n",
       "2021-01-27  141.848038  140843800.0  2021-01-27    2020-12-01           1.41   \n",
       "2021-01-28  136.885452  142621100.0  2021-01-27    2020-12-01           1.41   \n",
       "2021-01-29  131.763107  177180600.0  2021-01-27    2020-12-01           1.41   \n",
       "\n",
       "            Reported_EPS  Surprise_EPS  Estimated_Revenue  Reported_Revenue  \\\n",
       "Date                                                                          \n",
       "2020-06-01          0.64          0.12           53668.84           58313.0   \n",
       "2020-06-02          0.64          0.12           53668.84           58313.0   \n",
       "2020-06-03          0.64          0.12           53668.84           58313.0   \n",
       "2020-06-04          0.64          0.12           53668.84           58313.0   \n",
       "2020-06-05          0.64          0.12           53668.84           58313.0   \n",
       "...                  ...           ...                ...               ...   \n",
       "2021-01-25          0.73          0.04           63388.91           64698.0   \n",
       "2021-01-26          0.73          0.04           63388.91           64698.0   \n",
       "2021-01-27          1.68          0.27          102512.80          111439.0   \n",
       "2021-01-28          1.68          0.27          102512.80          111439.0   \n",
       "2021-01-29          1.68          0.27          102512.80          111439.0   \n",
       "\n",
       "            Total Sentiment  Avg Sentiment  \n",
       "Date                                        \n",
       "2020-06-01          -1.2498      -0.312450  \n",
       "2020-06-02          -1.6542      -0.827100  \n",
       "2020-06-03          -1.6542      -0.827100  \n",
       "2020-06-04          -1.7959      -0.256557  \n",
       "2020-06-05          -1.7959      -0.256557  \n",
       "...                     ...            ...  \n",
       "2021-01-25           7.5164       0.313183  \n",
       "2021-01-26           8.6724       0.346896  \n",
       "2021-01-27           2.6192       0.436533  \n",
       "2021-01-28           5.3015       0.279026  \n",
       "2021-01-29           0.0000       0.000000  \n",
       "\n",
       "[169 rows x 11 columns]"
      ]
     },
     "execution_count": 282,
     "metadata": {},
     "output_type": "execute_result"
    }
   ],
   "source": [
    "df"
   ]
  },
  {
   "cell_type": "code",
   "execution_count": 296,
   "metadata": {},
   "outputs": [],
   "source": [
    "# df = df.drop('Estimated_Revenue', axis=1)\n",
    "# df = df.drop('Reported_Revenue', axis=1)\n",
    "# df = df.drop('Date', axis=1)\n",
    "# df = df.drop('Estimated_EPS', axis=1)\n",
    "# # df = df.drop('Reported_EPS', axis=1)\n",
    "# df = df.drop('Period Ending', axis=1)"
   ]
  },
  {
   "cell_type": "code",
   "execution_count": 297,
   "metadata": {},
   "outputs": [
    {
     "data": {
      "text/html": [
       "<div>\n",
       "<style scoped>\n",
       "    .dataframe tbody tr th:only-of-type {\n",
       "        vertical-align: middle;\n",
       "    }\n",
       "\n",
       "    .dataframe tbody tr th {\n",
       "        vertical-align: top;\n",
       "    }\n",
       "\n",
       "    .dataframe thead th {\n",
       "        text-align: right;\n",
       "    }\n",
       "</style>\n",
       "<table border=\"1\" class=\"dataframe\">\n",
       "  <thead>\n",
       "    <tr style=\"text-align: right;\">\n",
       "      <th></th>\n",
       "      <th>Adj Close</th>\n",
       "      <th>Volume</th>\n",
       "      <th>Surprise_EPS</th>\n",
       "      <th>Total Sentiment</th>\n",
       "      <th>Avg Sentiment</th>\n",
       "    </tr>\n",
       "    <tr>\n",
       "      <th>Date</th>\n",
       "      <th></th>\n",
       "      <th></th>\n",
       "      <th></th>\n",
       "      <th></th>\n",
       "      <th></th>\n",
       "    </tr>\n",
       "  </thead>\n",
       "  <tbody>\n",
       "    <tr>\n",
       "      <th>2020-06-01</th>\n",
       "      <td>80.059723</td>\n",
       "      <td>80791200.0</td>\n",
       "      <td>0.12</td>\n",
       "      <td>-1.2498</td>\n",
       "      <td>-0.312450</td>\n",
       "    </tr>\n",
       "    <tr>\n",
       "      <th>2020-06-02</th>\n",
       "      <td>80.430351</td>\n",
       "      <td>87642800.0</td>\n",
       "      <td>0.12</td>\n",
       "      <td>-1.6542</td>\n",
       "      <td>-0.827100</td>\n",
       "    </tr>\n",
       "    <tr>\n",
       "      <th>2020-06-03</th>\n",
       "      <td>80.873131</td>\n",
       "      <td>104491200.0</td>\n",
       "      <td>0.12</td>\n",
       "      <td>-1.6542</td>\n",
       "      <td>-0.827100</td>\n",
       "    </tr>\n",
       "    <tr>\n",
       "      <th>2020-06-04</th>\n",
       "      <td>80.176636</td>\n",
       "      <td>87560400.0</td>\n",
       "      <td>0.12</td>\n",
       "      <td>-1.7959</td>\n",
       "      <td>-0.256557</td>\n",
       "    </tr>\n",
       "    <tr>\n",
       "      <th>2020-06-05</th>\n",
       "      <td>82.460152</td>\n",
       "      <td>137250400.0</td>\n",
       "      <td>0.12</td>\n",
       "      <td>-1.7959</td>\n",
       "      <td>-0.256557</td>\n",
       "    </tr>\n",
       "    <tr>\n",
       "      <th>2020-06-08</th>\n",
       "      <td>82.947685</td>\n",
       "      <td>95654400.0</td>\n",
       "      <td>0.12</td>\n",
       "      <td>0.6364</td>\n",
       "      <td>0.318200</td>\n",
       "    </tr>\n",
       "    <tr>\n",
       "      <th>2020-06-09</th>\n",
       "      <td>85.567009</td>\n",
       "      <td>147712400.0</td>\n",
       "      <td>0.12</td>\n",
       "      <td>0.6364</td>\n",
       "      <td>0.318200</td>\n",
       "    </tr>\n",
       "    <tr>\n",
       "      <th>2020-06-10</th>\n",
       "      <td>87.768440</td>\n",
       "      <td>166651600.0</td>\n",
       "      <td>0.12</td>\n",
       "      <td>0.0000</td>\n",
       "      <td>0.000000</td>\n",
       "    </tr>\n",
       "    <tr>\n",
       "      <th>2020-06-11</th>\n",
       "      <td>83.554642</td>\n",
       "      <td>201662400.0</td>\n",
       "      <td>0.12</td>\n",
       "      <td>1.5012</td>\n",
       "      <td>0.750600</td>\n",
       "    </tr>\n",
       "    <tr>\n",
       "      <th>2020-06-12</th>\n",
       "      <td>84.276009</td>\n",
       "      <td>200146000.0</td>\n",
       "      <td>0.12</td>\n",
       "      <td>0.0516</td>\n",
       "      <td>0.012900</td>\n",
       "    </tr>\n",
       "  </tbody>\n",
       "</table>\n",
       "</div>"
      ],
      "text/plain": [
       "            Adj Close       Volume  Surprise_EPS  Total Sentiment  \\\n",
       "Date                                                                \n",
       "2020-06-01  80.059723   80791200.0          0.12          -1.2498   \n",
       "2020-06-02  80.430351   87642800.0          0.12          -1.6542   \n",
       "2020-06-03  80.873131  104491200.0          0.12          -1.6542   \n",
       "2020-06-04  80.176636   87560400.0          0.12          -1.7959   \n",
       "2020-06-05  82.460152  137250400.0          0.12          -1.7959   \n",
       "2020-06-08  82.947685   95654400.0          0.12           0.6364   \n",
       "2020-06-09  85.567009  147712400.0          0.12           0.6364   \n",
       "2020-06-10  87.768440  166651600.0          0.12           0.0000   \n",
       "2020-06-11  83.554642  201662400.0          0.12           1.5012   \n",
       "2020-06-12  84.276009  200146000.0          0.12           0.0516   \n",
       "\n",
       "            Avg Sentiment  \n",
       "Date                       \n",
       "2020-06-01      -0.312450  \n",
       "2020-06-02      -0.827100  \n",
       "2020-06-03      -0.827100  \n",
       "2020-06-04      -0.256557  \n",
       "2020-06-05      -0.256557  \n",
       "2020-06-08       0.318200  \n",
       "2020-06-09       0.318200  \n",
       "2020-06-10       0.000000  \n",
       "2020-06-11       0.750600  \n",
       "2020-06-12       0.012900  "
      ]
     },
     "execution_count": 297,
     "metadata": {},
     "output_type": "execute_result"
    }
   ],
   "source": [
    "df[:10]"
   ]
  },
  {
   "cell_type": "code",
   "execution_count": 298,
   "metadata": {},
   "outputs": [
    {
     "data": {
      "text/plain": [
       "<matplotlib.axes._subplots.AxesSubplot at 0x7fec384fe1f0>"
      ]
     },
     "execution_count": 298,
     "metadata": {},
     "output_type": "execute_result"
    },
    {
     "data": {
      "image/png": "[encoded data removed]",
      "text/plain": [
       "<Figure size 432x288 with 1 Axes>"
      ]
     },
     "metadata": {
      "needs_background": "light"
     },
     "output_type": "display_data"
    }
   ],
   "source": [
    "df['Avg Sentiment'].plot()"
   ]
  },
  {
   "cell_type": "code",
   "execution_count": 299,
   "metadata": {},
   "outputs": [
    {
     "data": {
      "text/plain": [
       "<matplotlib.axes._subplots.AxesSubplot at 0x7fec38643d30>"
      ]
     },
     "execution_count": 299,
     "metadata": {},
     "output_type": "execute_result"
    },
    {
     "data": {
      "image/png": "[encoded data removed]",
      "text/plain": [
       "<Figure size 432x288 with 1 Axes>"
      ]
     },
     "metadata": {
      "needs_background": "light"
     },
     "output_type": "display_data"
    }
   ],
   "source": [
    "df['Total Sentiment'].plot()"
   ]
  },
  {
   "cell_type": "code",
   "execution_count": 306,
   "metadata": {},
   "outputs": [],
   "source": [
    "df['Weekly Sentiment'] = df['Avg Sentiment'].rolling(5, win_type='triang').sum()"
   ]
  },
  {
   "cell_type": "code",
   "execution_count": 307,
   "metadata": {},
   "outputs": [],
   "source": [
    "df['Monthly Sentiment'] = df['Avg Sentiment'].rolling(20, win_type='triang').sum()"
   ]
  },
  {
   "cell_type": "code",
   "execution_count": 308,
   "metadata": {
    "scrolled": true
   },
   "outputs": [
    {
     "data": {
      "text/html": [
       "<div>\n",
       "<style scoped>\n",
       "    .dataframe tbody tr th:only-of-type {\n",
       "        vertical-align: middle;\n",
       "    }\n",
       "\n",
       "    .dataframe tbody tr th {\n",
       "        vertical-align: top;\n",
       "    }\n",
       "\n",
       "    .dataframe thead th {\n",
       "        text-align: right;\n",
       "    }\n",
       "</style>\n",
       "<table border=\"1\" class=\"dataframe\">\n",
       "  <thead>\n",
       "    <tr style=\"text-align: right;\">\n",
       "      <th></th>\n",
       "      <th>Adj Close</th>\n",
       "      <th>Volume</th>\n",
       "      <th>Surprise_EPS</th>\n",
       "      <th>Total Sentiment</th>\n",
       "      <th>Avg Sentiment</th>\n",
       "      <th>Weekly Sentiment</th>\n",
       "      <th>Monthly Sentiment</th>\n",
       "    </tr>\n",
       "    <tr>\n",
       "      <th>Date</th>\n",
       "      <th></th>\n",
       "      <th></th>\n",
       "      <th></th>\n",
       "      <th></th>\n",
       "      <th></th>\n",
       "      <th></th>\n",
       "      <th></th>\n",
       "    </tr>\n",
       "  </thead>\n",
       "  <tbody>\n",
       "    <tr>\n",
       "      <th>2020-06-01</th>\n",
       "      <td>80.059723</td>\n",
       "      <td>80791200.0</td>\n",
       "      <td>0.12</td>\n",
       "      <td>-1.2498</td>\n",
       "      <td>-0.312450</td>\n",
       "      <td>NaN</td>\n",
       "      <td>NaN</td>\n",
       "    </tr>\n",
       "    <tr>\n",
       "      <th>2020-06-02</th>\n",
       "      <td>80.430351</td>\n",
       "      <td>87642800.0</td>\n",
       "      <td>0.12</td>\n",
       "      <td>-1.6542</td>\n",
       "      <td>-0.827100</td>\n",
       "      <td>NaN</td>\n",
       "      <td>NaN</td>\n",
       "    </tr>\n",
       "    <tr>\n",
       "      <th>2020-06-03</th>\n",
       "      <td>80.873131</td>\n",
       "      <td>104491200.0</td>\n",
       "      <td>0.12</td>\n",
       "      <td>-1.6542</td>\n",
       "      <td>-0.827100</td>\n",
       "      <td>NaN</td>\n",
       "      <td>NaN</td>\n",
       "    </tr>\n",
       "    <tr>\n",
       "      <th>2020-06-04</th>\n",
       "      <td>80.176636</td>\n",
       "      <td>87560400.0</td>\n",
       "      <td>0.12</td>\n",
       "      <td>-1.7959</td>\n",
       "      <td>-0.256557</td>\n",
       "      <td>NaN</td>\n",
       "      <td>NaN</td>\n",
       "    </tr>\n",
       "    <tr>\n",
       "      <th>2020-06-05</th>\n",
       "      <td>82.460152</td>\n",
       "      <td>137250400.0</td>\n",
       "      <td>0.12</td>\n",
       "      <td>-1.7959</td>\n",
       "      <td>-0.256557</td>\n",
       "      <td>-1.739207</td>\n",
       "      <td>NaN</td>\n",
       "    </tr>\n",
       "    <tr>\n",
       "      <th>...</th>\n",
       "      <td>...</td>\n",
       "      <td>...</td>\n",
       "      <td>...</td>\n",
       "      <td>...</td>\n",
       "      <td>...</td>\n",
       "      <td>...</td>\n",
       "      <td>...</td>\n",
       "    </tr>\n",
       "    <tr>\n",
       "      <th>2021-01-25</th>\n",
       "      <td>142.706757</td>\n",
       "      <td>157611700.0</td>\n",
       "      <td>0.04</td>\n",
       "      <td>7.5164</td>\n",
       "      <td>0.313183</td>\n",
       "      <td>0.835643</td>\n",
       "      <td>3.201724</td>\n",
       "    </tr>\n",
       "    <tr>\n",
       "      <th>2021-01-26</th>\n",
       "      <td>142.946396</td>\n",
       "      <td>98390600.0</td>\n",
       "      <td>0.04</td>\n",
       "      <td>8.6724</td>\n",
       "      <td>0.346896</td>\n",
       "      <td>0.951122</td>\n",
       "      <td>3.174629</td>\n",
       "    </tr>\n",
       "    <tr>\n",
       "      <th>2021-01-27</th>\n",
       "      <td>141.848038</td>\n",
       "      <td>140843800.0</td>\n",
       "      <td>0.27</td>\n",
       "      <td>2.6192</td>\n",
       "      <td>0.436533</td>\n",
       "      <td>1.013862</td>\n",
       "      <td>3.159941</td>\n",
       "    </tr>\n",
       "    <tr>\n",
       "      <th>2021-01-28</th>\n",
       "      <td>136.885452</td>\n",
       "      <td>142621100.0</td>\n",
       "      <td>0.27</td>\n",
       "      <td>5.3015</td>\n",
       "      <td>0.279026</td>\n",
       "      <td>1.067236</td>\n",
       "      <td>3.138506</td>\n",
       "    </tr>\n",
       "    <tr>\n",
       "      <th>2021-01-29</th>\n",
       "      <td>131.763107</td>\n",
       "      <td>177180600.0</td>\n",
       "      <td>0.27</td>\n",
       "      <td>0.0000</td>\n",
       "      <td>0.000000</td>\n",
       "      <td>0.958209</td>\n",
       "      <td>3.107015</td>\n",
       "    </tr>\n",
       "  </tbody>\n",
       "</table>\n",
       "<p>169 rows × 7 columns</p>\n",
       "</div>"
      ],
      "text/plain": [
       "             Adj Close       Volume  Surprise_EPS  Total Sentiment  \\\n",
       "Date                                                                 \n",
       "2020-06-01   80.059723   80791200.0          0.12          -1.2498   \n",
       "2020-06-02   80.430351   87642800.0          0.12          -1.6542   \n",
       "2020-06-03   80.873131  104491200.0          0.12          -1.6542   \n",
       "2020-06-04   80.176636   87560400.0          0.12          -1.7959   \n",
       "2020-06-05   82.460152  137250400.0          0.12          -1.7959   \n",
       "...                ...          ...           ...              ...   \n",
       "2021-01-25  142.706757  157611700.0          0.04           7.5164   \n",
       "2021-01-26  142.946396   98390600.0          0.04           8.6724   \n",
       "2021-01-27  141.848038  140843800.0          0.27           2.6192   \n",
       "2021-01-28  136.885452  142621100.0          0.27           5.3015   \n",
       "2021-01-29  131.763107  177180600.0          0.27           0.0000   \n",
       "\n",
       "            Avg Sentiment  Weekly Sentiment  Monthly Sentiment  \n",
       "Date                                                            \n",
       "2020-06-01      -0.312450               NaN                NaN  \n",
       "2020-06-02      -0.827100               NaN                NaN  \n",
       "2020-06-03      -0.827100               NaN                NaN  \n",
       "2020-06-04      -0.256557               NaN                NaN  \n",
       "2020-06-05      -0.256557         -1.739207                NaN  \n",
       "...                   ...               ...                ...  \n",
       "2021-01-25       0.313183          0.835643           3.201724  \n",
       "2021-01-26       0.346896          0.951122           3.174629  \n",
       "2021-01-27       0.436533          1.013862           3.159941  \n",
       "2021-01-28       0.279026          1.067236           3.138506  \n",
       "2021-01-29       0.000000          0.958209           3.107015  \n",
       "\n",
       "[169 rows x 7 columns]"
      ]
     },
     "execution_count": 308,
     "metadata": {},
     "output_type": "execute_result"
    }
   ],
   "source": [
    "df"
   ]
  },
  {
   "cell_type": "markdown",
   "metadata": {},
   "source": [
    "# Output prep"
   ]
  },
  {
   "cell_type": "code",
   "execution_count": 314,
   "metadata": {},
   "outputs": [],
   "source": [
    "output = df['Adj Close']"
   ]
  },
  {
   "cell_type": "code",
   "execution_count": 330,
   "metadata": {},
   "outputs": [
    {
     "data": {
      "text/plain": [
       "Date\n",
       "2020-06-01     80.059723\n",
       "2020-06-02     80.430351\n",
       "2020-06-03     80.873131\n",
       "2020-06-04     80.176636\n",
       "2020-06-05     82.460152\n",
       "                 ...    \n",
       "2021-01-25    142.706757\n",
       "2021-01-26    142.946396\n",
       "2021-01-27    141.848038\n",
       "2021-01-28    136.885452\n",
       "2021-01-29    131.763107\n",
       "Name: Stock Price, Length: 169, dtype: float64"
      ]
     },
     "execution_count": 330,
     "metadata": {},
     "output_type": "execute_result"
    }
   ],
   "source": [
    "output.rename('Stock Price')"
   ]
  },
  {
   "cell_type": "code",
   "execution_count": 331,
   "metadata": {},
   "outputs": [],
   "source": [
    "advance = df['Adj Close'].shift(10)\n",
    "advance = advance.rename('Short Term Advance')\n",
    "advance2 = df['Adj Close'].shift(40)\n",
    "advance2 = advance2.rename('Mid Term Advance')"
   ]
  },
  {
   "cell_type": "code",
   "execution_count": 333,
   "metadata": {},
   "outputs": [],
   "source": [
    "gt = pd.concat([output, advance, advance2], axis=1)"
   ]
  },
  {
   "cell_type": "code",
   "execution_count": 347,
   "metadata": {
    "scrolled": true
   },
   "outputs": [],
   "source": [
    "gt['Short Term Change'] = ((gt['Short Term Advance'] - gt['Adj Close'])/gt['Adj Close'])*100\n",
    "gt['Mid Term Change'] = ((gt['Mid Term Advance'] - gt['Adj Close'])/gt['Adj Close'])*100"
   ]
  },
  {
   "cell_type": "code",
   "execution_count": 356,
   "metadata": {},
   "outputs": [
    {
     "data": {
      "text/html": [
       "<div>\n",
       "<style scoped>\n",
       "    .dataframe tbody tr th:only-of-type {\n",
       "        vertical-align: middle;\n",
       "    }\n",
       "\n",
       "    .dataframe tbody tr th {\n",
       "        vertical-align: top;\n",
       "    }\n",
       "\n",
       "    .dataframe thead th {\n",
       "        text-align: right;\n",
       "    }\n",
       "</style>\n",
       "<table border=\"1\" class=\"dataframe\">\n",
       "  <thead>\n",
       "    <tr style=\"text-align: right;\">\n",
       "      <th></th>\n",
       "      <th>Adj Close</th>\n",
       "      <th>Short Term Advance</th>\n",
       "      <th>Mid Term Advance</th>\n",
       "      <th>Short Term Change</th>\n",
       "      <th>Mid Term Change</th>\n",
       "    </tr>\n",
       "    <tr>\n",
       "      <th>Date</th>\n",
       "      <th></th>\n",
       "      <th></th>\n",
       "      <th></th>\n",
       "      <th></th>\n",
       "      <th></th>\n",
       "    </tr>\n",
       "  </thead>\n",
       "  <tbody>\n",
       "    <tr>\n",
       "      <th>2020-06-12</th>\n",
       "      <td>84.276009</td>\n",
       "      <td>NaN</td>\n",
       "      <td>NaN</td>\n",
       "      <td>NaN</td>\n",
       "      <td>NaN</td>\n",
       "    </tr>\n",
       "    <tr>\n",
       "      <th>2020-06-15</th>\n",
       "      <td>85.318260</td>\n",
       "      <td>80.059723</td>\n",
       "      <td>NaN</td>\n",
       "      <td>-6.163437</td>\n",
       "      <td>NaN</td>\n",
       "    </tr>\n",
       "    <tr>\n",
       "      <th>2020-06-16</th>\n",
       "      <td>87.579391</td>\n",
       "      <td>80.430351</td>\n",
       "      <td>NaN</td>\n",
       "      <td>-8.162925</td>\n",
       "      <td>NaN</td>\n",
       "    </tr>\n",
       "    <tr>\n",
       "      <th>2020-06-17</th>\n",
       "      <td>87.457504</td>\n",
       "      <td>80.873131</td>\n",
       "      <td>NaN</td>\n",
       "      <td>-7.528655</td>\n",
       "      <td>NaN</td>\n",
       "    </tr>\n",
       "    <tr>\n",
       "      <th>2020-06-18</th>\n",
       "      <td>87.492332</td>\n",
       "      <td>80.176636</td>\n",
       "      <td>NaN</td>\n",
       "      <td>-8.361529</td>\n",
       "      <td>NaN</td>\n",
       "    </tr>\n",
       "    <tr>\n",
       "      <th>...</th>\n",
       "      <td>...</td>\n",
       "      <td>...</td>\n",
       "      <td>...</td>\n",
       "      <td>...</td>\n",
       "      <td>...</td>\n",
       "    </tr>\n",
       "    <tr>\n",
       "      <th>2020-10-28</th>\n",
       "      <td>110.842850</td>\n",
       "      <td>120.800766</td>\n",
       "      <td>133.749039</td>\n",
       "      <td>8.983815</td>\n",
       "      <td>20.665464</td>\n",
       "    </tr>\n",
       "    <tr>\n",
       "      <th>2020-10-29</th>\n",
       "      <td>114.949615</td>\n",
       "      <td>120.322304</td>\n",
       "      <td>130.977966</td>\n",
       "      <td>4.673951</td>\n",
       "      <td>13.943806</td>\n",
       "    </tr>\n",
       "    <tr>\n",
       "      <th>2020-10-30</th>\n",
       "      <td>108.510361</td>\n",
       "      <td>118.637726</td>\n",
       "      <td>120.491753</td>\n",
       "      <td>9.333086</td>\n",
       "      <td>11.041703</td>\n",
       "    </tr>\n",
       "    <tr>\n",
       "      <th>2020-11-02</th>\n",
       "      <td>108.420654</td>\n",
       "      <td>115.607498</td>\n",
       "      <td>120.571503</td>\n",
       "      <td>6.628667</td>\n",
       "      <td>11.207134</td>\n",
       "    </tr>\n",
       "    <tr>\n",
       "      <th>2020-11-03</th>\n",
       "      <td>110.085289</td>\n",
       "      <td>117.132591</td>\n",
       "      <td>112.457649</td>\n",
       "      <td>6.401675</td>\n",
       "      <td>2.155020</td>\n",
       "    </tr>\n",
       "  </tbody>\n",
       "</table>\n",
       "<p>101 rows × 5 columns</p>\n",
       "</div>"
      ],
      "text/plain": [
       "             Adj Close  Short Term Advance  Mid Term Advance  \\\n",
       "Date                                                           \n",
       "2020-06-12   84.276009                 NaN               NaN   \n",
       "2020-06-15   85.318260           80.059723               NaN   \n",
       "2020-06-16   87.579391           80.430351               NaN   \n",
       "2020-06-17   87.457504           80.873131               NaN   \n",
       "2020-06-18   87.492332           80.176636               NaN   \n",
       "...                ...                 ...               ...   \n",
       "2020-10-28  110.842850          120.800766        133.749039   \n",
       "2020-10-29  114.949615          120.322304        130.977966   \n",
       "2020-10-30  108.510361          118.637726        120.491753   \n",
       "2020-11-02  108.420654          115.607498        120.571503   \n",
       "2020-11-03  110.085289          117.132591        112.457649   \n",
       "\n",
       "            Short Term Change  Mid Term Change  \n",
       "Date                                            \n",
       "2020-06-12                NaN              NaN  \n",
       "2020-06-15          -6.163437              NaN  \n",
       "2020-06-16          -8.162925              NaN  \n",
       "2020-06-17          -7.528655              NaN  \n",
       "2020-06-18          -8.361529              NaN  \n",
       "...                       ...              ...  \n",
       "2020-10-28           8.983815        20.665464  \n",
       "2020-10-29           4.673951        13.943806  \n",
       "2020-10-30           9.333086        11.041703  \n",
       "2020-11-02           6.628667        11.207134  \n",
       "2020-11-03           6.401675         2.155020  \n",
       "\n",
       "[101 rows x 5 columns]"
      ]
     },
     "execution_count": 356,
     "metadata": {},
     "output_type": "execute_result"
    }
   ],
   "source": [
    "gt[9:110]"
   ]
  },
  {
   "cell_type": "code",
   "execution_count": 349,
   "metadata": {},
   "outputs": [
    {
     "data": {
      "text/plain": [
       "<matplotlib.axes._subplots.AxesSubplot at 0x7fec437d7e50>"
      ]
     },
     "execution_count": 349,
     "metadata": {},
     "output_type": "execute_result"
    },
    {
     "data": {
      "image/png": "[encoded data removed]",
      "text/plain": [
       "<Figure size 432x288 with 1 Axes>"
      ]
     },
     "metadata": {
      "needs_background": "light"
     },
     "output_type": "display_data"
    }
   ],
   "source": [
    "gt['Short Term Change'].plot()"
   ]
  },
  {
   "cell_type": "code",
   "execution_count": 399,
   "metadata": {},
   "outputs": [],
   "source": [
    "import pandas as pd\n",
    "from sklearn.model_selection import train_test_split\n",
    "from sklearn.linear_model import LogisticRegression\n",
    "from sklearn import metrics\n",
    "import seaborn as sn\n",
    "import matplotlib.pyplot as plt\n",
    "from sklearn.preprocessing import StandardScaler\n",
    "from sklearn.neural_network import MLPRegressor\n",
    "from sklearn.metrics import r2_score"
   ]
  },
  {
   "cell_type": "code",
   "execution_count": 379,
   "metadata": {},
   "outputs": [],
   "source": [
    "avg_monthly_sentiment = df['Monthly Sentiment'].sum()/len(df['Monthly Sentiment'])\n",
    "avg_week = df['Weekly Sentiment'].sum()/len(df['Monthly Sentiment'])"
   ]
  },
  {
   "cell_type": "code",
   "execution_count": 380,
   "metadata": {},
   "outputs": [
    {
     "name": "stderr",
     "output_type": "stream",
     "text": [
      "<ipython-input-380-166a1d57fa16>:2: SettingWithCopyWarning: \n",
      "A value is trying to be set on a copy of a slice from a DataFrame.\n",
      "Try using .loc[row_indexer,col_indexer] = value instead\n",
      "\n",
      "See the caveats in the documentation: https://pandas.pydata.org/pandas-docs/stable/user_guide/indexing.html#returning-a-view-versus-a-copy\n",
      "  X['Monthly Sentiment'] =  X['Monthly Sentiment'].fillna(avg_monthly_sentiment)\n",
      "<ipython-input-380-166a1d57fa16>:3: SettingWithCopyWarning: \n",
      "A value is trying to be set on a copy of a slice from a DataFrame.\n",
      "Try using .loc[row_indexer,col_indexer] = value instead\n",
      "\n",
      "See the caveats in the documentation: https://pandas.pydata.org/pandas-docs/stable/user_guide/indexing.html#returning-a-view-versus-a-copy\n",
      "  X['Weekly Sentiment'] = X['Weekly Sentiment'].fillna(avg_week)\n"
     ]
    }
   ],
   "source": [
    "X = df[10:]\n",
    "X['Monthly Sentiment'] =  X['Monthly Sentiment'].fillna(avg_monthly_sentiment)\n",
    "X['Weekly Sentiment'] = X['Weekly Sentiment'].fillna(avg_week)"
   ]
  },
  {
   "cell_type": "code",
   "execution_count": 418,
   "metadata": {
    "scrolled": true
   },
   "outputs": [],
   "source": [
    "Y = gt['Short Term Change'][10:]"
   ]
  },
  {
   "cell_type": "code",
   "execution_count": null,
   "metadata": {},
   "outputs": [],
   "source": []
  },
  {
   "cell_type": "code",
   "execution_count": 419,
   "metadata": {},
   "outputs": [],
   "source": [
    "X_train,X_test,y_train,y_test = train_test_split(X,Y,test_size=0.25,random_state=0)"
   ]
  },
  {
   "cell_type": "code",
   "execution_count": 420,
   "metadata": {},
   "outputs": [],
   "source": [
    "sc_X = StandardScaler()\n",
    "X_trainscaled=sc_X.fit_transform(X_train)\n",
    "X_testscaled=sc_X.transform(X_test)"
   ]
  },
  {
   "cell_type": "code",
   "execution_count": 421,
   "metadata": {},
   "outputs": [
    {
     "name": "stderr",
     "output_type": "stream",
     "text": [
      "/home/muditj/anaconda3/lib/python3.8/site-packages/sklearn/neural_network/_multilayer_perceptron.py:582: ConvergenceWarning: Stochastic Optimizer: Maximum iterations (2000) reached and the optimization hasn't converged yet.\n",
      "  warnings.warn(\n"
     ]
    }
   ],
   "source": [
    "reg = MLPRegressor(hidden_layer_sizes=(5,15,5),activation=\"relu\" ,random_state=1, max_iter=2000).fit(X_trainscaled, y_train)"
   ]
  },
  {
   "cell_type": "code",
   "execution_count": 423,
   "metadata": {},
   "outputs": [
    {
     "name": "stdout",
     "output_type": "stream",
     "text": [
      "The Score with  0.7653496582709012\n"
     ]
    }
   ],
   "source": [
    "y_pred=reg.predict(X_testscaled)\n",
    "print(\"The Score with \", (r2_score(y_pred, y_test)))"
   ]
  },
  {
   "cell_type": "code",
   "execution_count": 424,
   "metadata": {},
   "outputs": [],
   "source": [
    "import matplotlib.pyplot as plt"
   ]
  },
  {
   "cell_type": "code",
   "execution_count": 440,
   "metadata": {},
   "outputs": [],
   "source": [
    "y_pred = pd.DataFrame(y_pred)"
   ]
  },
  {
   "cell_type": "code",
   "execution_count": 441,
   "metadata": {},
   "outputs": [],
   "source": [
    "out = pd.concat([y_test.reset_index(drop=True),y_pred.reset_index(drop=True)], axis=1)"
   ]
  },
  {
   "cell_type": "code",
   "execution_count": 445,
   "metadata": {},
   "outputs": [],
   "source": [
    "out = out.rename(columns={0:\"Prediction\", \"Short Term Change\":\"Ground Truth\"})"
   ]
  },
  {
   "cell_type": "code",
   "execution_count": 449,
   "metadata": {},
   "outputs": [
    {
     "data": {
      "image/png": "[encoded data removed]",
      "text/plain": [
       "<Figure size 864x360 with 1 Axes>"
      ]
     },
     "metadata": {
      "needs_background": "light"
     },
     "output_type": "display_data"
    }
   ],
   "source": [
    "plt.figure(figsize=(12,5))\n",
    "plt.xlabel('Dates')\n",
    "\n",
    "ax1 = out[\"Prediction\"].plot(color='blue', grid=True)\n",
    "ax2 = out[\"Ground Truth\"].plot(color='red', grid=True)\n",
    "\n",
    "h1, l1 = ax1.get_legend_handles_labels()\n",
    "h2, l2 = ax2.get_legend_handles_labels()\n",
    "\n",
    "plt.legend(h1, l1, loc=2)\n",
    "plt.show()\n"
   ]
  },
  {
   "cell_type": "code",
   "execution_count": 467,
   "metadata": {},
   "outputs": [
    {
     "name": "stderr",
     "output_type": "stream",
     "text": [
      "<ipython-input-467-d24fc33370a5>:2: SettingWithCopyWarning: \n",
      "A value is trying to be set on a copy of a slice from a DataFrame.\n",
      "Try using .loc[row_indexer,col_indexer] = value instead\n",
      "\n",
      "See the caveats in the documentation: https://pandas.pydata.org/pandas-docs/stable/user_guide/indexing.html#returning-a-view-versus-a-copy\n",
      "  X['Monthly Sentiment'] =  X['Monthly Sentiment'].fillna(avg_monthly_sentiment)\n",
      "<ipython-input-467-d24fc33370a5>:3: SettingWithCopyWarning: \n",
      "A value is trying to be set on a copy of a slice from a DataFrame.\n",
      "Try using .loc[row_indexer,col_indexer] = value instead\n",
      "\n",
      "See the caveats in the documentation: https://pandas.pydata.org/pandas-docs/stable/user_guide/indexing.html#returning-a-view-versus-a-copy\n",
      "  X['Weekly Sentiment'] = X['Weekly Sentiment'].fillna(avg_week)\n"
     ]
    }
   ],
   "source": [
    "X = df[40:]\n",
    "X['Monthly Sentiment'] =  X['Monthly Sentiment'].fillna(avg_monthly_sentiment)\n",
    "X['Weekly Sentiment'] = X['Weekly Sentiment'].fillna(avg_week)"
   ]
  },
  {
   "cell_type": "code",
   "execution_count": 468,
   "metadata": {},
   "outputs": [],
   "source": [
    "Y = gt['Mid Term Change'][40:]"
   ]
  },
  {
   "cell_type": "code",
   "execution_count": 470,
   "metadata": {},
   "outputs": [],
   "source": [
    "X_train,X_test,y_train,y_test = train_test_split(X,Y,test_size=0.25,random_state=0)"
   ]
  },
  {
   "cell_type": "code",
   "execution_count": 471,
   "metadata": {},
   "outputs": [],
   "source": [
    "sc_X = StandardScaler()\n",
    "X_trainscaled=sc_X.fit_transform(X_train)\n",
    "X_testscaled=sc_X.transform(X_test)"
   ]
  },
  {
   "cell_type": "code",
   "execution_count": 472,
   "metadata": {},
   "outputs": [
    {
     "name": "stderr",
     "output_type": "stream",
     "text": [
      "/home/muditj/anaconda3/lib/python3.8/site-packages/sklearn/neural_network/_multilayer_perceptron.py:582: ConvergenceWarning: Stochastic Optimizer: Maximum iterations (2000) reached and the optimization hasn't converged yet.\n",
      "  warnings.warn(\n"
     ]
    }
   ],
   "source": [
    "reg = MLPRegressor(hidden_layer_sizes=(5,15,5),activation=\"relu\" ,random_state=1, max_iter=2000).fit(X_trainscaled, y_train)"
   ]
  },
  {
   "cell_type": "code",
   "execution_count": 473,
   "metadata": {},
   "outputs": [
    {
     "name": "stdout",
     "output_type": "stream",
     "text": [
      "The Score with  0.9110321707038223\n"
     ]
    }
   ],
   "source": [
    "y_pred=reg.predict(X_testscaled)\n",
    "print(\"The Score with \", (r2_score(y_pred, y_test)))"
   ]
  },
  {
   "cell_type": "code",
   "execution_count": 474,
   "metadata": {},
   "outputs": [],
   "source": [
    "import matplotlib.pyplot as plt"
   ]
  },
  {
   "cell_type": "code",
   "execution_count": 476,
   "metadata": {},
   "outputs": [],
   "source": [
    "y_pred = pd.DataFrame(y_pred)\n",
    "out = pd.concat([y_test.reset_index(drop=True),y_pred.reset_index(drop=True)], axis=1)"
   ]
  },
  {
   "cell_type": "code",
   "execution_count": 480,
   "metadata": {},
   "outputs": [],
   "source": [
    "out = out.rename(columns={0:\"Prediction\", \"Mid Term Change\":\"Ground Truth\"})"
   ]
  },
  {
   "cell_type": "code",
   "execution_count": 481,
   "metadata": {},
   "outputs": [
    {
     "data": {
      "text/html": [
       "<div>\n",
       "<style scoped>\n",
       "    .dataframe tbody tr th:only-of-type {\n",
       "        vertical-align: middle;\n",
       "    }\n",
       "\n",
       "    .dataframe tbody tr th {\n",
       "        vertical-align: top;\n",
       "    }\n",
       "\n",
       "    .dataframe thead th {\n",
       "        text-align: right;\n",
       "    }\n",
       "</style>\n",
       "<table border=\"1\" class=\"dataframe\">\n",
       "  <thead>\n",
       "    <tr style=\"text-align: right;\">\n",
       "      <th></th>\n",
       "      <th>Ground Truth</th>\n",
       "      <th>Prediction</th>\n",
       "    </tr>\n",
       "  </thead>\n",
       "  <tbody>\n",
       "    <tr>\n",
       "      <th>0</th>\n",
       "      <td>-13.102441</td>\n",
       "      <td>-13.122181</td>\n",
       "    </tr>\n",
       "    <tr>\n",
       "      <th>1</th>\n",
       "      <td>-27.701260</td>\n",
       "      <td>-30.240141</td>\n",
       "    </tr>\n",
       "    <tr>\n",
       "      <th>2</th>\n",
       "      <td>-19.424253</td>\n",
       "      <td>-15.312422</td>\n",
       "    </tr>\n",
       "    <tr>\n",
       "      <th>3</th>\n",
       "      <td>-1.704786</td>\n",
       "      <td>-0.368340</td>\n",
       "    </tr>\n",
       "    <tr>\n",
       "      <th>4</th>\n",
       "      <td>-24.559469</td>\n",
       "      <td>-21.038396</td>\n",
       "    </tr>\n",
       "    <tr>\n",
       "      <th>5</th>\n",
       "      <td>-14.269011</td>\n",
       "      <td>-14.511404</td>\n",
       "    </tr>\n",
       "    <tr>\n",
       "      <th>6</th>\n",
       "      <td>-4.688019</td>\n",
       "      <td>-5.048102</td>\n",
       "    </tr>\n",
       "    <tr>\n",
       "      <th>7</th>\n",
       "      <td>-11.118523</td>\n",
       "      <td>-13.008618</td>\n",
       "    </tr>\n",
       "    <tr>\n",
       "      <th>8</th>\n",
       "      <td>-0.996115</td>\n",
       "      <td>-2.916172</td>\n",
       "    </tr>\n",
       "    <tr>\n",
       "      <th>9</th>\n",
       "      <td>-22.556572</td>\n",
       "      <td>-22.148238</td>\n",
       "    </tr>\n",
       "    <tr>\n",
       "      <th>10</th>\n",
       "      <td>6.806702</td>\n",
       "      <td>10.524187</td>\n",
       "    </tr>\n",
       "    <tr>\n",
       "      <th>11</th>\n",
       "      <td>-21.743385</td>\n",
       "      <td>-22.819464</td>\n",
       "    </tr>\n",
       "    <tr>\n",
       "      <th>12</th>\n",
       "      <td>-6.554583</td>\n",
       "      <td>-4.252499</td>\n",
       "    </tr>\n",
       "    <tr>\n",
       "      <th>13</th>\n",
       "      <td>-2.434708</td>\n",
       "      <td>0.536876</td>\n",
       "    </tr>\n",
       "    <tr>\n",
       "      <th>14</th>\n",
       "      <td>-17.420028</td>\n",
       "      <td>-18.103418</td>\n",
       "    </tr>\n",
       "    <tr>\n",
       "      <th>15</th>\n",
       "      <td>-16.648642</td>\n",
       "      <td>-16.891197</td>\n",
       "    </tr>\n",
       "    <tr>\n",
       "      <th>16</th>\n",
       "      <td>-15.500573</td>\n",
       "      <td>-24.933172</td>\n",
       "    </tr>\n",
       "    <tr>\n",
       "      <th>17</th>\n",
       "      <td>7.103641</td>\n",
       "      <td>11.987987</td>\n",
       "    </tr>\n",
       "    <tr>\n",
       "      <th>18</th>\n",
       "      <td>-4.957427</td>\n",
       "      <td>-2.882995</td>\n",
       "    </tr>\n",
       "    <tr>\n",
       "      <th>19</th>\n",
       "      <td>-27.571608</td>\n",
       "      <td>-30.722166</td>\n",
       "    </tr>\n",
       "    <tr>\n",
       "      <th>20</th>\n",
       "      <td>-27.314878</td>\n",
       "      <td>-27.192905</td>\n",
       "    </tr>\n",
       "    <tr>\n",
       "      <th>21</th>\n",
       "      <td>-16.911759</td>\n",
       "      <td>-14.742561</td>\n",
       "    </tr>\n",
       "    <tr>\n",
       "      <th>22</th>\n",
       "      <td>-4.624454</td>\n",
       "      <td>-4.712766</td>\n",
       "    </tr>\n",
       "    <tr>\n",
       "      <th>23</th>\n",
       "      <td>11.207134</td>\n",
       "      <td>8.287083</td>\n",
       "    </tr>\n",
       "    <tr>\n",
       "      <th>24</th>\n",
       "      <td>-5.641580</td>\n",
       "      <td>-5.744436</td>\n",
       "    </tr>\n",
       "    <tr>\n",
       "      <th>25</th>\n",
       "      <td>-19.416462</td>\n",
       "      <td>-17.029177</td>\n",
       "    </tr>\n",
       "    <tr>\n",
       "      <th>26</th>\n",
       "      <td>-7.666432</td>\n",
       "      <td>-6.854852</td>\n",
       "    </tr>\n",
       "    <tr>\n",
       "      <th>27</th>\n",
       "      <td>-20.949306</td>\n",
       "      <td>-26.390625</td>\n",
       "    </tr>\n",
       "    <tr>\n",
       "      <th>28</th>\n",
       "      <td>-8.218145</td>\n",
       "      <td>-3.322188</td>\n",
       "    </tr>\n",
       "    <tr>\n",
       "      <th>29</th>\n",
       "      <td>-6.095641</td>\n",
       "      <td>3.441310</td>\n",
       "    </tr>\n",
       "    <tr>\n",
       "      <th>30</th>\n",
       "      <td>-23.613130</td>\n",
       "      <td>-22.729957</td>\n",
       "    </tr>\n",
       "    <tr>\n",
       "      <th>31</th>\n",
       "      <td>-9.348308</td>\n",
       "      <td>-9.586238</td>\n",
       "    </tr>\n",
       "    <tr>\n",
       "      <th>32</th>\n",
       "      <td>-8.771007</td>\n",
       "      <td>-4.274467</td>\n",
       "    </tr>\n",
       "  </tbody>\n",
       "</table>\n",
       "</div>"
      ],
      "text/plain": [
       "    Ground Truth  Prediction\n",
       "0     -13.102441  -13.122181\n",
       "1     -27.701260  -30.240141\n",
       "2     -19.424253  -15.312422\n",
       "3      -1.704786   -0.368340\n",
       "4     -24.559469  -21.038396\n",
       "5     -14.269011  -14.511404\n",
       "6      -4.688019   -5.048102\n",
       "7     -11.118523  -13.008618\n",
       "8      -0.996115   -2.916172\n",
       "9     -22.556572  -22.148238\n",
       "10      6.806702   10.524187\n",
       "11    -21.743385  -22.819464\n",
       "12     -6.554583   -4.252499\n",
       "13     -2.434708    0.536876\n",
       "14    -17.420028  -18.103418\n",
       "15    -16.648642  -16.891197\n",
       "16    -15.500573  -24.933172\n",
       "17      7.103641   11.987987\n",
       "18     -4.957427   -2.882995\n",
       "19    -27.571608  -30.722166\n",
       "20    -27.314878  -27.192905\n",
       "21    -16.911759  -14.742561\n",
       "22     -4.624454   -4.712766\n",
       "23     11.207134    8.287083\n",
       "24     -5.641580   -5.744436\n",
       "25    -19.416462  -17.029177\n",
       "26     -7.666432   -6.854852\n",
       "27    -20.949306  -26.390625\n",
       "28     -8.218145   -3.322188\n",
       "29     -6.095641    3.441310\n",
       "30    -23.613130  -22.729957\n",
       "31     -9.348308   -9.586238\n",
       "32     -8.771007   -4.274467"
      ]
     },
     "execution_count": 481,
     "metadata": {},
     "output_type": "execute_result"
    }
   ],
   "source": [
    "out"
   ]
  },
  {
   "cell_type": "code",
   "execution_count": 482,
   "metadata": {},
   "outputs": [
    {
     "data": {
      "image/png": "[encoded data removed]",
      "text/plain": [
       "<Figure size 864x360 with 1 Axes>"
      ]
     },
     "metadata": {
      "needs_background": "light"
     },
     "output_type": "display_data"
    }
   ],
   "source": [
    "plt.figure(figsize=(12,5))\n",
    "plt.xlabel('Dates')\n",
    "\n",
    "ax1 = out[\"Prediction\"].plot(color='blue', grid=True)\n",
    "ax2 = out[\"Ground Truth\"].plot(color='red', grid=True)\n",
    "\n",
    "h1, l1 = ax1.get_legend_handles_labels()\n",
    "h2, l2 = ax2.get_legend_handles_labels()\n",
    "\n",
    "plt.legend(h1, l1, loc=2)\n",
    "plt.show()\n"
   ]
  },
  {
   "cell_type": "code",
   "execution_count": null,
   "metadata": {},
   "outputs": [],
   "source": []
  }
 ],
 "metadata": {
  "kernelspec": {
   "display_name": "Python 3",
   "language": "python",
   "name": "python3"
  },
  "language_info": {
   "codemirror_mode": {
    "name": "ipython",
    "version": 3
   },
   "file_extension": ".py",
   "mimetype": "text/x-python",
   "name": "python",
   "nbconvert_exporter": "python",
   "pygments_lexer": "ipython3",
   "version": "3.8.3"
  }
 },
 "nbformat": 4,
 "nbformat_minor": 4
}
