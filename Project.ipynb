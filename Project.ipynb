{
  "nbformat": 4,
  "nbformat_minor": 0,
  "metadata": {
    "kernelspec": {
      "display_name": "Python 3",
      "language": "python",
      "name": "python3"
    },
    "language_info": {
      "codemirror_mode": {
        "name": "ipython",
        "version": 3
      },
      "file_extension": ".py",
      "mimetype": "text/x-python",
      "name": "python",
      "nbconvert_exporter": "python",
      "pygments_lexer": "ipython3",
      "version": "3.8.3"
    },
    "colab": {
      "name": "Project.ipynb",
      "provenance": []
    }
  },
  "cells": [
    {
      "cell_type": "code",
      "metadata": {
        "colab": {
          "base_uri": "https://localhost:8080/"
        },
        "id": "hwh7uvdAgUcc",
        "outputId": "f162d7ec-5ca6-4491-c01b-38f002c0d56b"
      },
      "source": [
        "import numpy as np\n",
        "import pandas as pd\n",
        "import os\n",
        "!pip install yahooquery\n",
        "import yahooquery\n",
        "from pandas_datareader import data\n",
        "!pip install nltk==3.3\n",
        "from datetime import timedelta, date, datetime\n",
        "\n",
        "from nltk.sentiment.vader import SentimentIntensityAnalyzer\n",
        "import nltk\n"
      ],
      "execution_count": 2,
      "outputs": [
        {
          "output_type": "stream",
          "text": [
            "Collecting yahooquery\n",
            "\u001b[?25l  Downloading https://files.pythonhosted.org/packages/0e/73/e1ae346b40d5fd48747a4153339e36e4b95bc0338688a269fd9ca7862320/yahooquery-2.2.15-py2.py3-none-any.whl (46kB)\n",
            "\u001b[K     |████████████████████████████████| 51kB 2.7MB/s \n",
            "\u001b[?25hCollecting lxml>=4.6.2\n",
            "\u001b[?25l  Downloading https://files.pythonhosted.org/packages/d2/88/b25778f17e5320c1c58f8c5060fb5b037288e162bd7554c30799e9ea90db/lxml-4.6.2-cp37-cp37m-manylinux1_x86_64.whl (5.5MB)\n",
            "\u001b[K     |████████████████████████████████| 5.5MB 6.1MB/s \n",
            "\u001b[?25hCollecting requests-futures>=1.0.0\n",
            "  Downloading https://files.pythonhosted.org/packages/47/c4/fd48d1ac5110a5457c71ac7cc4caa93da10a80b8de71112430e439bdee22/requests-futures-1.0.0.tar.gz\n",
            "Collecting tqdm>=4.54.1\n",
            "\u001b[?25l  Downloading https://files.pythonhosted.org/packages/4e/8c/f1035bd24b0e352ddba7be320abc1603fc4c9976fcda6971ed287be59164/tqdm-4.58.0-py2.py3-none-any.whl (73kB)\n",
            "\u001b[K     |████████████████████████████████| 81kB 7.7MB/s \n",
            "\u001b[?25hRequirement already satisfied: pandas>=0.24.0 in /usr/local/lib/python3.7/dist-packages (from yahooquery) (1.1.5)\n",
            "Requirement already satisfied: requests>=1.2.0 in /usr/local/lib/python3.7/dist-packages (from requests-futures>=1.0.0->yahooquery) (2.23.0)\n",
            "Requirement already satisfied: python-dateutil>=2.7.3 in /usr/local/lib/python3.7/dist-packages (from pandas>=0.24.0->yahooquery) (2.8.1)\n",
            "Requirement already satisfied: pytz>=2017.2 in /usr/local/lib/python3.7/dist-packages (from pandas>=0.24.0->yahooquery) (2018.9)\n",
            "Requirement already satisfied: numpy>=1.15.4 in /usr/local/lib/python3.7/dist-packages (from pandas>=0.24.0->yahooquery) (1.19.5)\n",
            "Requirement already satisfied: chardet<4,>=3.0.2 in /usr/local/lib/python3.7/dist-packages (from requests>=1.2.0->requests-futures>=1.0.0->yahooquery) (3.0.4)\n",
            "Requirement already satisfied: idna<3,>=2.5 in /usr/local/lib/python3.7/dist-packages (from requests>=1.2.0->requests-futures>=1.0.0->yahooquery) (2.10)\n",
            "Requirement already satisfied: certifi>=2017.4.17 in /usr/local/lib/python3.7/dist-packages (from requests>=1.2.0->requests-futures>=1.0.0->yahooquery) (2020.12.5)\n",
            "Requirement already satisfied: urllib3!=1.25.0,!=1.25.1,<1.26,>=1.21.1 in /usr/local/lib/python3.7/dist-packages (from requests>=1.2.0->requests-futures>=1.0.0->yahooquery) (1.24.3)\n",
            "Requirement already satisfied: six>=1.5 in /usr/local/lib/python3.7/dist-packages (from python-dateutil>=2.7.3->pandas>=0.24.0->yahooquery) (1.15.0)\n",
            "Building wheels for collected packages: requests-futures\n",
            "  Building wheel for requests-futures (setup.py) ... \u001b[?25l\u001b[?25hdone\n",
            "  Created wheel for requests-futures: filename=requests_futures-1.0.0-cp37-none-any.whl size=7012 sha256=5c80256f4eda42e32487276e72e40764b308520947790b5fcc08d18d9f98f785\n",
            "  Stored in directory: /root/.cache/pip/wheels/26/d0/f5/dc4e4a37bbe55c9acf967d2bd899152412c1e49c227f5395ff\n",
            "Successfully built requests-futures\n",
            "Installing collected packages: lxml, requests-futures, tqdm, yahooquery\n",
            "  Found existing installation: lxml 4.2.6\n",
            "    Uninstalling lxml-4.2.6:\n",
            "      Successfully uninstalled lxml-4.2.6\n",
            "  Found existing installation: tqdm 4.41.1\n",
            "    Uninstalling tqdm-4.41.1:\n",
            "      Successfully uninstalled tqdm-4.41.1\n",
            "Successfully installed lxml-4.6.2 requests-futures-1.0.0 tqdm-4.58.0 yahooquery-2.2.15\n",
            "Collecting nltk==3.3\n",
            "\u001b[?25l  Downloading https://files.pythonhosted.org/packages/50/09/3b1755d528ad9156ee7243d52aa5cd2b809ef053a0f31b53d92853dd653a/nltk-3.3.0.zip (1.4MB)\n",
            "\u001b[K     |████████████████████████████████| 1.4MB 4.3MB/s \n",
            "\u001b[?25hRequirement already satisfied: six in /usr/local/lib/python3.7/dist-packages (from nltk==3.3) (1.15.0)\n",
            "Building wheels for collected packages: nltk\n",
            "  Building wheel for nltk (setup.py) ... \u001b[?25l\u001b[?25hdone\n",
            "  Created wheel for nltk: filename=nltk-3.3-cp37-none-any.whl size=1394471 sha256=4839a1b86d6f68800e7d9fc5a330524f8adbb7d8630fa40cd7624eea649acfb7\n",
            "  Stored in directory: /root/.cache/pip/wheels/d1/ab/40/3bceea46922767e42986aef7606a600538ca80de6062dc266c\n",
            "Successfully built nltk\n",
            "Installing collected packages: nltk\n",
            "  Found existing installation: nltk 3.2.5\n",
            "    Uninstalling nltk-3.2.5:\n",
            "      Successfully uninstalled nltk-3.2.5\n",
            "Successfully installed nltk-3.3\n"
          ],
          "name": "stdout"
        },
        {
          "output_type": "stream",
          "text": [
            "/usr/local/lib/python3.7/dist-packages/nltk/twitter/__init__.py:20: UserWarning: The twython library has not been installed. Some functionality from the twitter package will not be available.\n",
            "  warnings.warn(\"The twython library has not been installed. \"\n"
          ],
          "name": "stderr"
        }
      ]
    },
    {
      "cell_type": "code",
      "metadata": {
        "id": "ZXPT1IO8heV0"
      },
      "source": [
        "import pandas as pd\n",
        "from sklearn.model_selection import train_test_split\n",
        "from sklearn.linear_model import LogisticRegression\n",
        "from sklearn import metrics\n",
        "import seaborn as sn\n",
        "import matplotlib.pyplot as plt\n",
        "from sklearn.preprocessing import StandardScaler\n",
        "from sklearn.preprocessing import OneHotEncoder\n",
        "from sklearn.preprocessing import LabelEncoder\n",
        "from sklearn.neural_network import MLPRegressor\n",
        "from sklearn.metrics import r2_score\n",
        "\n",
        "import matplotlib.pyplot as plt"
      ],
      "execution_count": 3,
      "outputs": []
    },
    {
      "cell_type": "markdown",
      "metadata": {
        "id": "Je5WPKuCgUcl"
      },
      "source": [
        "# Get historical stock data"
      ]
    },
    {
      "cell_type": "code",
      "metadata": {
        "id": "PvmR5q38h0CW"
      },
      "source": [
        "def get_yahoo_dataframe(symbol):\n",
        "  # Get historical data\n",
        "  #symbol = 'AAPL'\n",
        "  ticker = yahooquery.Ticker(symbol)\n",
        "  df = pd.DataFrame(ticker.history(start='2020-06-01', end='2021-01-29'))\n",
        "  df=data.DataReader(symbol, 'yahoo', '20200601', '20210129').reset_index()\n",
        "  df = df[['Date','Adj Close', 'Volume']]\n",
        "  (df[:10].style.format(dict(Date='{:%d/%m/%Y}'))\n",
        "  .background_gradient(subset='Volume',cmap='Blues')\n",
        "  .background_gradient(subset='Adj Close',cmap='Blues')\n",
        "  )\n",
        "  df.Volume.plot()\n",
        "  df[\"Adj Close\"].plot()\n",
        "  dates = pd.DataFrame(pd.date_range('20200601',periods=8*31))\n",
        "  df.set_index(pd.to_datetime(df['Date']), inplace=True)\n",
        "  df = df.drop(['Date'], axis=1)\n",
        "  return df"
      ],
      "execution_count": 4,
      "outputs": []
    },
    {
      "cell_type": "code",
      "metadata": {
        "colab": {
          "base_uri": "https://localhost:8080/",
          "height": 714
        },
        "id": "YrKQFWeNgUcl",
        "outputId": "2ebc520b-7754-4fa5-8c76-dd2f8391f73a"
      },
      "source": [
        "symbol='AAPL'\n",
        "df = get_yahoo_dataframe(symbol)\n",
        "df"
      ],
      "execution_count": 5,
      "outputs": [
        {
          "output_type": "execute_result",
          "data": {
            "text/html": [
              "<div>\n",
              "<style scoped>\n",
              "    .dataframe tbody tr th:only-of-type {\n",
              "        vertical-align: middle;\n",
              "    }\n",
              "\n",
              "    .dataframe tbody tr th {\n",
              "        vertical-align: top;\n",
              "    }\n",
              "\n",
              "    .dataframe thead th {\n",
              "        text-align: right;\n",
              "    }\n",
              "</style>\n",
              "<table border=\"1\" class=\"dataframe\">\n",
              "  <thead>\n",
              "    <tr style=\"text-align: right;\">\n",
              "      <th></th>\n",
              "      <th>Adj Close</th>\n",
              "      <th>Volume</th>\n",
              "    </tr>\n",
              "    <tr>\n",
              "      <th>Date</th>\n",
              "      <th></th>\n",
              "      <th></th>\n",
              "    </tr>\n",
              "  </thead>\n",
              "  <tbody>\n",
              "    <tr>\n",
              "      <th>2020-06-01</th>\n",
              "      <td>80.059723</td>\n",
              "      <td>80791200.0</td>\n",
              "    </tr>\n",
              "    <tr>\n",
              "      <th>2020-06-02</th>\n",
              "      <td>80.430351</td>\n",
              "      <td>87642800.0</td>\n",
              "    </tr>\n",
              "    <tr>\n",
              "      <th>2020-06-03</th>\n",
              "      <td>80.873131</td>\n",
              "      <td>104491200.0</td>\n",
              "    </tr>\n",
              "    <tr>\n",
              "      <th>2020-06-04</th>\n",
              "      <td>80.176636</td>\n",
              "      <td>87560400.0</td>\n",
              "    </tr>\n",
              "    <tr>\n",
              "      <th>2020-06-05</th>\n",
              "      <td>82.460152</td>\n",
              "      <td>137250400.0</td>\n",
              "    </tr>\n",
              "    <tr>\n",
              "      <th>...</th>\n",
              "      <td>...</td>\n",
              "      <td>...</td>\n",
              "    </tr>\n",
              "    <tr>\n",
              "      <th>2021-01-25</th>\n",
              "      <td>142.706757</td>\n",
              "      <td>157611700.0</td>\n",
              "    </tr>\n",
              "    <tr>\n",
              "      <th>2021-01-26</th>\n",
              "      <td>142.946396</td>\n",
              "      <td>98390600.0</td>\n",
              "    </tr>\n",
              "    <tr>\n",
              "      <th>2021-01-27</th>\n",
              "      <td>141.848038</td>\n",
              "      <td>140843800.0</td>\n",
              "    </tr>\n",
              "    <tr>\n",
              "      <th>2021-01-28</th>\n",
              "      <td>136.885452</td>\n",
              "      <td>142621100.0</td>\n",
              "    </tr>\n",
              "    <tr>\n",
              "      <th>2021-01-29</th>\n",
              "      <td>131.763107</td>\n",
              "      <td>177180600.0</td>\n",
              "    </tr>\n",
              "  </tbody>\n",
              "</table>\n",
              "<p>169 rows × 2 columns</p>\n",
              "</div>"
            ],
            "text/plain": [
              "             Adj Close       Volume\n",
              "Date                               \n",
              "2020-06-01   80.059723   80791200.0\n",
              "2020-06-02   80.430351   87642800.0\n",
              "2020-06-03   80.873131  104491200.0\n",
              "2020-06-04   80.176636   87560400.0\n",
              "2020-06-05   82.460152  137250400.0\n",
              "...                ...          ...\n",
              "2021-01-25  142.706757  157611700.0\n",
              "2021-01-26  142.946396   98390600.0\n",
              "2021-01-27  141.848038  140843800.0\n",
              "2021-01-28  136.885452  142621100.0\n",
              "2021-01-29  131.763107  177180600.0\n",
              "\n",
              "[169 rows x 2 columns]"
            ]
          },
          "metadata": {
            "tags": []
          },
          "execution_count": 5
        },
        {
          "output_type": "display_data",
          "data": {
            "image/png": "[encoded data removed]",
            "text/plain": [
              "<Figure size 432x288 with 1 Axes>"
            ]
          },
          "metadata": {
            "tags": [],
            "needs_background": "light"
          }
        }
      ]
    },
    {
      "cell_type": "code",
      "metadata": {
        "scrolled": true,
        "id": "D344w0BVgUcm"
      },
      "source": [
        ""
      ],
      "execution_count": 5,
      "outputs": []
    },
    {
      "cell_type": "code",
      "metadata": {
        "id": "gJYvvd6JgUcp"
      },
      "source": [
        "def process_stock_data(filename, df):\n",
        "  stock_file = pd.read_csv(filename)\n",
        "  stock_file.set_index(pd.to_datetime(stock_file['Date']), inplace=True)\n",
        "  stock_file.drop('Date', axis=1)\n",
        "  stock_file = stock_file.reindex(df.index, method='bfill')\n",
        "  #stock_file = stock_file.drop('Date', axis=1)\n",
        "  #stock_file = stock_file.drop('Period Ending', axis=1)\n",
        "  return stock_file"
      ],
      "execution_count": 6,
      "outputs": []
    },
    {
      "cell_type": "code",
      "metadata": {
        "id": "9-yDVfXOgUcp",
        "colab": {
          "base_uri": "https://localhost:8080/"
        },
        "outputId": "d13e92c1-1f1d-4c29-c647-ed67ac4e8399"
      },
      "source": [
        "# Optional, just because Ish is using Colab\n",
        "from google.colab import drive\n",
        "drive.mount('/content/gdrive')\n"
      ],
      "execution_count": 7,
      "outputs": [
        {
          "output_type": "stream",
          "text": [
            "Mounted at /content/gdrive\n"
          ],
          "name": "stdout"
        }
      ]
    },
    {
      "cell_type": "code",
      "metadata": {
        "colab": {
          "base_uri": "https://localhost:8080/"
        },
        "id": "_i_wUlKFmoj1",
        "outputId": "32bc6226-0cc5-42b9-8b11-1833a9897c45"
      },
      "source": [
        "stock_file=process_stock_data('/content/gdrive/My Drive/Colab Notebooks/earnings_data/AAPL.csv', df)\n",
        "print(stock_file)"
      ],
      "execution_count": 8,
      "outputs": [
        {
          "output_type": "stream",
          "text": [
            "                  Date Period Ending  ...  Estimated_Revenue  Reported_Revenue\n",
            "Date                                  ...                                     \n",
            "2020-06-01  2020-04-30    2020-03-01  ...           53668.84           58313.0\n",
            "2020-06-02  2020-04-30    2020-03-01  ...           53668.84           58313.0\n",
            "2020-06-03  2020-04-30    2020-03-01  ...           53668.84           58313.0\n",
            "2020-06-04  2020-04-30    2020-03-01  ...           53668.84           58313.0\n",
            "2020-06-05  2020-04-30    2020-03-01  ...           53668.84           58313.0\n",
            "...                ...           ...  ...                ...               ...\n",
            "2021-01-25  2020-10-29    2020-09-01  ...           63388.91           64698.0\n",
            "2021-01-26  2020-10-29    2020-09-01  ...           63388.91           64698.0\n",
            "2021-01-27  2021-01-27    2020-12-01  ...          102512.80          111439.0\n",
            "2021-01-28  2021-01-27    2020-12-01  ...          102512.80          111439.0\n",
            "2021-01-29  2021-01-27    2020-12-01  ...          102512.80          111439.0\n",
            "\n",
            "[169 rows x 7 columns]\n"
          ],
          "name": "stdout"
        }
      ]
    },
    {
      "cell_type": "code",
      "metadata": {
        "id": "URbJp42lgUct"
      },
      "source": [
        "df = df.join(stock_file)"
      ],
      "execution_count": 9,
      "outputs": []
    },
    {
      "cell_type": "code",
      "metadata": {
        "colab": {
          "base_uri": "https://localhost:8080/",
          "height": 455
        },
        "id": "uFNC0zcQgUct",
        "outputId": "ae563e07-3c5d-45bc-b6f8-6ad18d8d9dcc"
      },
      "source": [
        "df"
      ],
      "execution_count": 10,
      "outputs": [
        {
          "output_type": "execute_result",
          "data": {
            "text/html": [
              "<div>\n",
              "<style scoped>\n",
              "    .dataframe tbody tr th:only-of-type {\n",
              "        vertical-align: middle;\n",
              "    }\n",
              "\n",
              "    .dataframe tbody tr th {\n",
              "        vertical-align: top;\n",
              "    }\n",
              "\n",
              "    .dataframe thead th {\n",
              "        text-align: right;\n",
              "    }\n",
              "</style>\n",
              "<table border=\"1\" class=\"dataframe\">\n",
              "  <thead>\n",
              "    <tr style=\"text-align: right;\">\n",
              "      <th></th>\n",
              "      <th>Adj Close</th>\n",
              "      <th>Volume</th>\n",
              "      <th>Date</th>\n",
              "      <th>Period Ending</th>\n",
              "      <th>Estimated_EPS</th>\n",
              "      <th>Reported_EPS</th>\n",
              "      <th>Surprise_EPS</th>\n",
              "      <th>Estimated_Revenue</th>\n",
              "      <th>Reported_Revenue</th>\n",
              "    </tr>\n",
              "    <tr>\n",
              "      <th>Date</th>\n",
              "      <th></th>\n",
              "      <th></th>\n",
              "      <th></th>\n",
              "      <th></th>\n",
              "      <th></th>\n",
              "      <th></th>\n",
              "      <th></th>\n",
              "      <th></th>\n",
              "      <th></th>\n",
              "    </tr>\n",
              "  </thead>\n",
              "  <tbody>\n",
              "    <tr>\n",
              "      <th>2020-06-01</th>\n",
              "      <td>80.059723</td>\n",
              "      <td>80791200.0</td>\n",
              "      <td>2020-04-30</td>\n",
              "      <td>2020-03-01</td>\n",
              "      <td>0.52</td>\n",
              "      <td>0.64</td>\n",
              "      <td>0.12</td>\n",
              "      <td>53668.84</td>\n",
              "      <td>58313.0</td>\n",
              "    </tr>\n",
              "    <tr>\n",
              "      <th>2020-06-02</th>\n",
              "      <td>80.430351</td>\n",
              "      <td>87642800.0</td>\n",
              "      <td>2020-04-30</td>\n",
              "      <td>2020-03-01</td>\n",
              "      <td>0.52</td>\n",
              "      <td>0.64</td>\n",
              "      <td>0.12</td>\n",
              "      <td>53668.84</td>\n",
              "      <td>58313.0</td>\n",
              "    </tr>\n",
              "    <tr>\n",
              "      <th>2020-06-03</th>\n",
              "      <td>80.873131</td>\n",
              "      <td>104491200.0</td>\n",
              "      <td>2020-04-30</td>\n",
              "      <td>2020-03-01</td>\n",
              "      <td>0.52</td>\n",
              "      <td>0.64</td>\n",
              "      <td>0.12</td>\n",
              "      <td>53668.84</td>\n",
              "      <td>58313.0</td>\n",
              "    </tr>\n",
              "    <tr>\n",
              "      <th>2020-06-04</th>\n",
              "      <td>80.176636</td>\n",
              "      <td>87560400.0</td>\n",
              "      <td>2020-04-30</td>\n",
              "      <td>2020-03-01</td>\n",
              "      <td>0.52</td>\n",
              "      <td>0.64</td>\n",
              "      <td>0.12</td>\n",
              "      <td>53668.84</td>\n",
              "      <td>58313.0</td>\n",
              "    </tr>\n",
              "    <tr>\n",
              "      <th>2020-06-05</th>\n",
              "      <td>82.460152</td>\n",
              "      <td>137250400.0</td>\n",
              "      <td>2020-04-30</td>\n",
              "      <td>2020-03-01</td>\n",
              "      <td>0.52</td>\n",
              "      <td>0.64</td>\n",
              "      <td>0.12</td>\n",
              "      <td>53668.84</td>\n",
              "      <td>58313.0</td>\n",
              "    </tr>\n",
              "    <tr>\n",
              "      <th>...</th>\n",
              "      <td>...</td>\n",
              "      <td>...</td>\n",
              "      <td>...</td>\n",
              "      <td>...</td>\n",
              "      <td>...</td>\n",
              "      <td>...</td>\n",
              "      <td>...</td>\n",
              "      <td>...</td>\n",
              "      <td>...</td>\n",
              "    </tr>\n",
              "    <tr>\n",
              "      <th>2021-01-25</th>\n",
              "      <td>142.706757</td>\n",
              "      <td>157611700.0</td>\n",
              "      <td>2020-10-29</td>\n",
              "      <td>2020-09-01</td>\n",
              "      <td>0.69</td>\n",
              "      <td>0.73</td>\n",
              "      <td>0.04</td>\n",
              "      <td>63388.91</td>\n",
              "      <td>64698.0</td>\n",
              "    </tr>\n",
              "    <tr>\n",
              "      <th>2021-01-26</th>\n",
              "      <td>142.946396</td>\n",
              "      <td>98390600.0</td>\n",
              "      <td>2020-10-29</td>\n",
              "      <td>2020-09-01</td>\n",
              "      <td>0.69</td>\n",
              "      <td>0.73</td>\n",
              "      <td>0.04</td>\n",
              "      <td>63388.91</td>\n",
              "      <td>64698.0</td>\n",
              "    </tr>\n",
              "    <tr>\n",
              "      <th>2021-01-27</th>\n",
              "      <td>141.848038</td>\n",
              "      <td>140843800.0</td>\n",
              "      <td>2021-01-27</td>\n",
              "      <td>2020-12-01</td>\n",
              "      <td>1.41</td>\n",
              "      <td>1.68</td>\n",
              "      <td>0.27</td>\n",
              "      <td>102512.80</td>\n",
              "      <td>111439.0</td>\n",
              "    </tr>\n",
              "    <tr>\n",
              "      <th>2021-01-28</th>\n",
              "      <td>136.885452</td>\n",
              "      <td>142621100.0</td>\n",
              "      <td>2021-01-27</td>\n",
              "      <td>2020-12-01</td>\n",
              "      <td>1.41</td>\n",
              "      <td>1.68</td>\n",
              "      <td>0.27</td>\n",
              "      <td>102512.80</td>\n",
              "      <td>111439.0</td>\n",
              "    </tr>\n",
              "    <tr>\n",
              "      <th>2021-01-29</th>\n",
              "      <td>131.763107</td>\n",
              "      <td>177180600.0</td>\n",
              "      <td>2021-01-27</td>\n",
              "      <td>2020-12-01</td>\n",
              "      <td>1.41</td>\n",
              "      <td>1.68</td>\n",
              "      <td>0.27</td>\n",
              "      <td>102512.80</td>\n",
              "      <td>111439.0</td>\n",
              "    </tr>\n",
              "  </tbody>\n",
              "</table>\n",
              "<p>169 rows × 9 columns</p>\n",
              "</div>"
            ],
            "text/plain": [
              "             Adj Close       Volume  ... Estimated_Revenue Reported_Revenue\n",
              "Date                                 ...                                   \n",
              "2020-06-01   80.059723   80791200.0  ...          53668.84          58313.0\n",
              "2020-06-02   80.430351   87642800.0  ...          53668.84          58313.0\n",
              "2020-06-03   80.873131  104491200.0  ...          53668.84          58313.0\n",
              "2020-06-04   80.176636   87560400.0  ...          53668.84          58313.0\n",
              "2020-06-05   82.460152  137250400.0  ...          53668.84          58313.0\n",
              "...                ...          ...  ...               ...              ...\n",
              "2021-01-25  142.706757  157611700.0  ...          63388.91          64698.0\n",
              "2021-01-26  142.946396   98390600.0  ...          63388.91          64698.0\n",
              "2021-01-27  141.848038  140843800.0  ...         102512.80         111439.0\n",
              "2021-01-28  136.885452  142621100.0  ...         102512.80         111439.0\n",
              "2021-01-29  131.763107  177180600.0  ...         102512.80         111439.0\n",
              "\n",
              "[169 rows x 9 columns]"
            ]
          },
          "metadata": {
            "tags": []
          },
          "execution_count": 10
        }
      ]
    },
    {
      "cell_type": "markdown",
      "metadata": {
        "id": "pRvuel4ogUcu"
      },
      "source": [
        "# Get news sentiment"
      ]
    },
    {
      "cell_type": "code",
      "metadata": {
        "id": "U-U_xyZQgUcu"
      },
      "source": [
        "def daterange(start_date, end_date):\n",
        "    for n in range(int((end_date - start_date).days)):\n",
        "        yield start_date + timedelta(n)\n",
        "\n",
        "def get_yahoo_news(symbol):\n",
        "  start_date = date(2020, 6, 1)\n",
        "  end_date = date(2021, 1, 29)\n",
        "  data = []\n",
        "  run_Dict = []\n",
        "  ticker = yahooquery.Ticker(symbol)\n",
        "  for single_date in daterange(start_date, end_date):\n",
        "      daily_news = ticker.news(start=single_date.strftime(\"%Y-%m-%d\"))\n",
        "      for article in daily_news:\n",
        "          #print(article)\n",
        "          title = article['title']\n",
        "          if title in run_Dict:\n",
        "              continue\n",
        "          else:\n",
        "              try:\n",
        "                  run_Dict.append(title)\n",
        "                  publisher_time = article['provider_publish_time']\n",
        "                  publisher_time = datetime.utcfromtimestamp(int(publisher_time)).strftime('%Y-%m-%d')\n",
        "                  data.append([publisher_time, title, article['summary']])\n",
        "              except KeyError:\n",
        "                  print(\"KeyError generated.\")\n",
        "                  continue\n",
        "          if len(run_Dict) > 30:\n",
        "              run_Dict = run_Dict[-30:]\n",
        "  print(len(data))\n",
        "  news = pd.DataFrame(data, columns=[\"date\", \"Title\", \"Summary\"])\n",
        "  nltk.download(\"vader_lexicon\")\n",
        "  sentimentAnalyser = SentimentIntensityAnalyzer()\n",
        "  news[\"compound\"] = [sentimentAnalyser.polarity_scores(v)['compound'] for v in news[\"Summary\"]]\n",
        "  news[\"negative\"] = [sentimentAnalyser.polarity_scores(v)['neg'] for v in news[\"Summary\"]]\n",
        "  news[\"positive\"] = [sentimentAnalyser.polarity_scores(v)['pos'] for v in news[\"Summary\"]]\n",
        "  news[\"neutral\"] = [sentimentAnalyser.polarity_scores(v)['neu'] for v in news[\"Summary\"]]\n",
        "  news = news.sort_values(by=\"date\")\n",
        "  return news"
      ],
      "execution_count": 11,
      "outputs": []
    },
    {
      "cell_type": "code",
      "metadata": {
        "id": "0xYhU2EagUcv",
        "colab": {
          "base_uri": "https://localhost:8080/"
        },
        "outputId": "426589c9-993f-43e6-ca62-73466aaf5f1b"
      },
      "source": [
        "news=get_yahoo_news(symbol)\n",
        "print(news)"
      ],
      "execution_count": 12,
      "outputs": [
        {
          "output_type": "stream",
          "text": [
            "973\n",
            "[nltk_data] Downloading package vader_lexicon to /root/nltk_data...\n",
            "           date  ... neutral\n",
            "24   2020-05-08  ...   0.925\n",
            "23   2020-05-08  ...   1.000\n",
            "22   2020-05-08  ...   1.000\n",
            "21   2020-05-11  ...   0.868\n",
            "20   2020-05-11  ...   0.771\n",
            "..          ...  ...     ...\n",
            "950  2021-01-28  ...   1.000\n",
            "949  2021-01-28  ...   0.840\n",
            "899  2021-01-28  ...   0.755\n",
            "830  2021-01-29  ...   1.000\n",
            "829  2021-02-12  ...   0.700\n",
            "\n",
            "[973 rows x 7 columns]\n"
          ],
          "name": "stdout"
        }
      ]
    },
    {
      "cell_type": "code",
      "metadata": {
        "id": "zAjp4WHqgUcw"
      },
      "source": [
        "def get_sentiment_from_news(news):\n",
        "  news_sentiment = news[['date', 'compound']]\n",
        "  print(news_sentiment)\n",
        "  news_sentiment.set_index(pd.to_datetime(news_sentiment['date']), inplace=True)\n",
        "  print(news_sentiment[:10])\n",
        "  news_sentiment = news_sentiment['compound']\n",
        "  total_sentiment = news_sentiment.groupby('date').agg(lambda x: sum(x))\n",
        "  total_sentiment = total_sentiment.rename('Total Sentiment')\n",
        "  nArticles = news_sentiment.groupby('date').count()\n",
        "  avg_sentiment = total_sentiment/nArticles\n",
        "  avg_sentiment = avg_sentiment.rename('Avg Sentiment')\n",
        "  sentiment_data = pd.concat([total_sentiment, avg_sentiment], axis=1)\n",
        "  sentiment_data = sentiment_data.reindex(df.index, method='ffill')\n",
        "  return sentiment_data"
      ],
      "execution_count": 13,
      "outputs": []
    },
    {
      "cell_type": "code",
      "metadata": {
        "id": "2YHKJPvwgUcy",
        "colab": {
          "base_uri": "https://localhost:8080/"
        },
        "outputId": "b3d872c7-0d8d-4863-a2bd-11861d52423c"
      },
      "source": [
        "sentiment_data=get_sentiment_from_news(news)\n",
        "print(sentiment_data)"
      ],
      "execution_count": 14,
      "outputs": [
        {
          "output_type": "stream",
          "text": [
            "           date  compound\n",
            "24   2020-05-08   -0.4902\n",
            "23   2020-05-08    0.0000\n",
            "22   2020-05-08    0.0000\n",
            "21   2020-05-11    0.4939\n",
            "20   2020-05-11    0.8176\n",
            "..          ...       ...\n",
            "950  2021-01-28    0.0000\n",
            "949  2021-01-28    0.2732\n",
            "899  2021-01-28    0.6369\n",
            "830  2021-01-29    0.0000\n",
            "829  2021-02-12    0.8934\n",
            "\n",
            "[973 rows x 2 columns]\n",
            "                  date  compound\n",
            "date                            \n",
            "2020-05-08  2020-05-08   -0.4902\n",
            "2020-05-08  2020-05-08    0.0000\n",
            "2020-05-08  2020-05-08    0.0000\n",
            "2020-05-11  2020-05-11    0.4939\n",
            "2020-05-11  2020-05-11    0.8176\n",
            "2020-05-11  2020-05-11    0.0000\n",
            "2020-05-12  2020-05-12    0.0000\n",
            "2020-05-12  2020-05-12    0.1531\n",
            "2020-05-12  2020-05-12    0.0000\n",
            "2020-05-12  2020-05-12   -0.4588\n",
            "            Total Sentiment  Avg Sentiment\n",
            "Date                                      \n",
            "2020-06-01          -1.2498      -0.312450\n",
            "2020-06-02          -1.6542      -0.827100\n",
            "2020-06-03          -1.6542      -0.827100\n",
            "2020-06-04          -1.7959      -0.256557\n",
            "2020-06-05          -1.7959      -0.256557\n",
            "...                     ...            ...\n",
            "2021-01-25           6.3311       0.263796\n",
            "2021-01-26           9.4487       0.363412\n",
            "2021-01-27           3.4509       0.156859\n",
            "2021-01-28           0.9101       0.303367\n",
            "2021-01-29           0.0000       0.000000\n",
            "\n",
            "[169 rows x 2 columns]\n"
          ],
          "name": "stdout"
        }
      ]
    },
    {
      "cell_type": "code",
      "metadata": {
        "id": "329bBB8wgUc0"
      },
      "source": [
        "df = df.join(sentiment_data)"
      ],
      "execution_count": 15,
      "outputs": []
    },
    {
      "cell_type": "code",
      "metadata": {
        "id": "1yvTTmolgUc1",
        "colab": {
          "base_uri": "https://localhost:8080/",
          "height": 455
        },
        "outputId": "d34c2fbd-81bb-4adb-9981-c737314b937b"
      },
      "source": [
        "df"
      ],
      "execution_count": 16,
      "outputs": [
        {
          "output_type": "execute_result",
          "data": {
            "text/html": [
              "<div>\n",
              "<style scoped>\n",
              "    .dataframe tbody tr th:only-of-type {\n",
              "        vertical-align: middle;\n",
              "    }\n",
              "\n",
              "    .dataframe tbody tr th {\n",
              "        vertical-align: top;\n",
              "    }\n",
              "\n",
              "    .dataframe thead th {\n",
              "        text-align: right;\n",
              "    }\n",
              "</style>\n",
              "<table border=\"1\" class=\"dataframe\">\n",
              "  <thead>\n",
              "    <tr style=\"text-align: right;\">\n",
              "      <th></th>\n",
              "      <th>Adj Close</th>\n",
              "      <th>Volume</th>\n",
              "      <th>Date</th>\n",
              "      <th>Period Ending</th>\n",
              "      <th>Estimated_EPS</th>\n",
              "      <th>Reported_EPS</th>\n",
              "      <th>Surprise_EPS</th>\n",
              "      <th>Estimated_Revenue</th>\n",
              "      <th>Reported_Revenue</th>\n",
              "      <th>Total Sentiment</th>\n",
              "      <th>Avg Sentiment</th>\n",
              "    </tr>\n",
              "    <tr>\n",
              "      <th>Date</th>\n",
              "      <th></th>\n",
              "      <th></th>\n",
              "      <th></th>\n",
              "      <th></th>\n",
              "      <th></th>\n",
              "      <th></th>\n",
              "      <th></th>\n",
              "      <th></th>\n",
              "      <th></th>\n",
              "      <th></th>\n",
              "      <th></th>\n",
              "    </tr>\n",
              "  </thead>\n",
              "  <tbody>\n",
              "    <tr>\n",
              "      <th>2020-06-01</th>\n",
              "      <td>80.059723</td>\n",
              "      <td>80791200.0</td>\n",
              "      <td>2020-04-30</td>\n",
              "      <td>2020-03-01</td>\n",
              "      <td>0.52</td>\n",
              "      <td>0.64</td>\n",
              "      <td>0.12</td>\n",
              "      <td>53668.84</td>\n",
              "      <td>58313.0</td>\n",
              "      <td>-1.2498</td>\n",
              "      <td>-0.312450</td>\n",
              "    </tr>\n",
              "    <tr>\n",
              "      <th>2020-06-02</th>\n",
              "      <td>80.430351</td>\n",
              "      <td>87642800.0</td>\n",
              "      <td>2020-04-30</td>\n",
              "      <td>2020-03-01</td>\n",
              "      <td>0.52</td>\n",
              "      <td>0.64</td>\n",
              "      <td>0.12</td>\n",
              "      <td>53668.84</td>\n",
              "      <td>58313.0</td>\n",
              "      <td>-1.6542</td>\n",
              "      <td>-0.827100</td>\n",
              "    </tr>\n",
              "    <tr>\n",
              "      <th>2020-06-03</th>\n",
              "      <td>80.873131</td>\n",
              "      <td>104491200.0</td>\n",
              "      <td>2020-04-30</td>\n",
              "      <td>2020-03-01</td>\n",
              "      <td>0.52</td>\n",
              "      <td>0.64</td>\n",
              "      <td>0.12</td>\n",
              "      <td>53668.84</td>\n",
              "      <td>58313.0</td>\n",
              "      <td>-1.6542</td>\n",
              "      <td>-0.827100</td>\n",
              "    </tr>\n",
              "    <tr>\n",
              "      <th>2020-06-04</th>\n",
              "      <td>80.176636</td>\n",
              "      <td>87560400.0</td>\n",
              "      <td>2020-04-30</td>\n",
              "      <td>2020-03-01</td>\n",
              "      <td>0.52</td>\n",
              "      <td>0.64</td>\n",
              "      <td>0.12</td>\n",
              "      <td>53668.84</td>\n",
              "      <td>58313.0</td>\n",
              "      <td>-1.7959</td>\n",
              "      <td>-0.256557</td>\n",
              "    </tr>\n",
              "    <tr>\n",
              "      <th>2020-06-05</th>\n",
              "      <td>82.460152</td>\n",
              "      <td>137250400.0</td>\n",
              "      <td>2020-04-30</td>\n",
              "      <td>2020-03-01</td>\n",
              "      <td>0.52</td>\n",
              "      <td>0.64</td>\n",
              "      <td>0.12</td>\n",
              "      <td>53668.84</td>\n",
              "      <td>58313.0</td>\n",
              "      <td>-1.7959</td>\n",
              "      <td>-0.256557</td>\n",
              "    </tr>\n",
              "    <tr>\n",
              "      <th>...</th>\n",
              "      <td>...</td>\n",
              "      <td>...</td>\n",
              "      <td>...</td>\n",
              "      <td>...</td>\n",
              "      <td>...</td>\n",
              "      <td>...</td>\n",
              "      <td>...</td>\n",
              "      <td>...</td>\n",
              "      <td>...</td>\n",
              "      <td>...</td>\n",
              "      <td>...</td>\n",
              "    </tr>\n",
              "    <tr>\n",
              "      <th>2021-01-25</th>\n",
              "      <td>142.706757</td>\n",
              "      <td>157611700.0</td>\n",
              "      <td>2020-10-29</td>\n",
              "      <td>2020-09-01</td>\n",
              "      <td>0.69</td>\n",
              "      <td>0.73</td>\n",
              "      <td>0.04</td>\n",
              "      <td>63388.91</td>\n",
              "      <td>64698.0</td>\n",
              "      <td>6.3311</td>\n",
              "      <td>0.263796</td>\n",
              "    </tr>\n",
              "    <tr>\n",
              "      <th>2021-01-26</th>\n",
              "      <td>142.946396</td>\n",
              "      <td>98390600.0</td>\n",
              "      <td>2020-10-29</td>\n",
              "      <td>2020-09-01</td>\n",
              "      <td>0.69</td>\n",
              "      <td>0.73</td>\n",
              "      <td>0.04</td>\n",
              "      <td>63388.91</td>\n",
              "      <td>64698.0</td>\n",
              "      <td>9.4487</td>\n",
              "      <td>0.363412</td>\n",
              "    </tr>\n",
              "    <tr>\n",
              "      <th>2021-01-27</th>\n",
              "      <td>141.848038</td>\n",
              "      <td>140843800.0</td>\n",
              "      <td>2021-01-27</td>\n",
              "      <td>2020-12-01</td>\n",
              "      <td>1.41</td>\n",
              "      <td>1.68</td>\n",
              "      <td>0.27</td>\n",
              "      <td>102512.80</td>\n",
              "      <td>111439.0</td>\n",
              "      <td>3.4509</td>\n",
              "      <td>0.156859</td>\n",
              "    </tr>\n",
              "    <tr>\n",
              "      <th>2021-01-28</th>\n",
              "      <td>136.885452</td>\n",
              "      <td>142621100.0</td>\n",
              "      <td>2021-01-27</td>\n",
              "      <td>2020-12-01</td>\n",
              "      <td>1.41</td>\n",
              "      <td>1.68</td>\n",
              "      <td>0.27</td>\n",
              "      <td>102512.80</td>\n",
              "      <td>111439.0</td>\n",
              "      <td>0.9101</td>\n",
              "      <td>0.303367</td>\n",
              "    </tr>\n",
              "    <tr>\n",
              "      <th>2021-01-29</th>\n",
              "      <td>131.763107</td>\n",
              "      <td>177180600.0</td>\n",
              "      <td>2021-01-27</td>\n",
              "      <td>2020-12-01</td>\n",
              "      <td>1.41</td>\n",
              "      <td>1.68</td>\n",
              "      <td>0.27</td>\n",
              "      <td>102512.80</td>\n",
              "      <td>111439.0</td>\n",
              "      <td>0.0000</td>\n",
              "      <td>0.000000</td>\n",
              "    </tr>\n",
              "  </tbody>\n",
              "</table>\n",
              "<p>169 rows × 11 columns</p>\n",
              "</div>"
            ],
            "text/plain": [
              "             Adj Close       Volume  ... Total Sentiment Avg Sentiment\n",
              "Date                                 ...                              \n",
              "2020-06-01   80.059723   80791200.0  ...         -1.2498     -0.312450\n",
              "2020-06-02   80.430351   87642800.0  ...         -1.6542     -0.827100\n",
              "2020-06-03   80.873131  104491200.0  ...         -1.6542     -0.827100\n",
              "2020-06-04   80.176636   87560400.0  ...         -1.7959     -0.256557\n",
              "2020-06-05   82.460152  137250400.0  ...         -1.7959     -0.256557\n",
              "...                ...          ...  ...             ...           ...\n",
              "2021-01-25  142.706757  157611700.0  ...          6.3311      0.263796\n",
              "2021-01-26  142.946396   98390600.0  ...          9.4487      0.363412\n",
              "2021-01-27  141.848038  140843800.0  ...          3.4509      0.156859\n",
              "2021-01-28  136.885452  142621100.0  ...          0.9101      0.303367\n",
              "2021-01-29  131.763107  177180600.0  ...          0.0000      0.000000\n",
              "\n",
              "[169 rows x 11 columns]"
            ]
          },
          "metadata": {
            "tags": []
          },
          "execution_count": 16
        }
      ]
    },
    {
      "cell_type": "code",
      "metadata": {
        "id": "uNSvi6VDgUc1"
      },
      "source": [
        "# df = df.drop('Estimated_Revenue', axis=1)\n",
        "# df = df.drop('Reported_Revenue', axis=1)\n",
        "# df = df.drop('Date', axis=1)\n",
        "# df = df.drop('Estimated_EPS', axis=1)\n",
        "# # df = df.drop('Reported_EPS', axis=1)\n",
        "# df = df.drop('Period Ending', axis=1)"
      ],
      "execution_count": 17,
      "outputs": []
    },
    {
      "cell_type": "code",
      "metadata": {
        "id": "__pozmLcgUc1",
        "colab": {
          "base_uri": "https://localhost:8080/",
          "height": 394
        },
        "outputId": "4324220d-7b30-4c48-91b1-52b904bec60e"
      },
      "source": [
        "df[:10]"
      ],
      "execution_count": 18,
      "outputs": [
        {
          "output_type": "execute_result",
          "data": {
            "text/html": [
              "<div>\n",
              "<style scoped>\n",
              "    .dataframe tbody tr th:only-of-type {\n",
              "        vertical-align: middle;\n",
              "    }\n",
              "\n",
              "    .dataframe tbody tr th {\n",
              "        vertical-align: top;\n",
              "    }\n",
              "\n",
              "    .dataframe thead th {\n",
              "        text-align: right;\n",
              "    }\n",
              "</style>\n",
              "<table border=\"1\" class=\"dataframe\">\n",
              "  <thead>\n",
              "    <tr style=\"text-align: right;\">\n",
              "      <th></th>\n",
              "      <th>Adj Close</th>\n",
              "      <th>Volume</th>\n",
              "      <th>Date</th>\n",
              "      <th>Period Ending</th>\n",
              "      <th>Estimated_EPS</th>\n",
              "      <th>Reported_EPS</th>\n",
              "      <th>Surprise_EPS</th>\n",
              "      <th>Estimated_Revenue</th>\n",
              "      <th>Reported_Revenue</th>\n",
              "      <th>Total Sentiment</th>\n",
              "      <th>Avg Sentiment</th>\n",
              "    </tr>\n",
              "    <tr>\n",
              "      <th>Date</th>\n",
              "      <th></th>\n",
              "      <th></th>\n",
              "      <th></th>\n",
              "      <th></th>\n",
              "      <th></th>\n",
              "      <th></th>\n",
              "      <th></th>\n",
              "      <th></th>\n",
              "      <th></th>\n",
              "      <th></th>\n",
              "      <th></th>\n",
              "    </tr>\n",
              "  </thead>\n",
              "  <tbody>\n",
              "    <tr>\n",
              "      <th>2020-06-01</th>\n",
              "      <td>80.059723</td>\n",
              "      <td>80791200.0</td>\n",
              "      <td>2020-04-30</td>\n",
              "      <td>2020-03-01</td>\n",
              "      <td>0.52</td>\n",
              "      <td>0.64</td>\n",
              "      <td>0.12</td>\n",
              "      <td>53668.84</td>\n",
              "      <td>58313.0</td>\n",
              "      <td>-1.2498</td>\n",
              "      <td>-0.312450</td>\n",
              "    </tr>\n",
              "    <tr>\n",
              "      <th>2020-06-02</th>\n",
              "      <td>80.430351</td>\n",
              "      <td>87642800.0</td>\n",
              "      <td>2020-04-30</td>\n",
              "      <td>2020-03-01</td>\n",
              "      <td>0.52</td>\n",
              "      <td>0.64</td>\n",
              "      <td>0.12</td>\n",
              "      <td>53668.84</td>\n",
              "      <td>58313.0</td>\n",
              "      <td>-1.6542</td>\n",
              "      <td>-0.827100</td>\n",
              "    </tr>\n",
              "    <tr>\n",
              "      <th>2020-06-03</th>\n",
              "      <td>80.873131</td>\n",
              "      <td>104491200.0</td>\n",
              "      <td>2020-04-30</td>\n",
              "      <td>2020-03-01</td>\n",
              "      <td>0.52</td>\n",
              "      <td>0.64</td>\n",
              "      <td>0.12</td>\n",
              "      <td>53668.84</td>\n",
              "      <td>58313.0</td>\n",
              "      <td>-1.6542</td>\n",
              "      <td>-0.827100</td>\n",
              "    </tr>\n",
              "    <tr>\n",
              "      <th>2020-06-04</th>\n",
              "      <td>80.176636</td>\n",
              "      <td>87560400.0</td>\n",
              "      <td>2020-04-30</td>\n",
              "      <td>2020-03-01</td>\n",
              "      <td>0.52</td>\n",
              "      <td>0.64</td>\n",
              "      <td>0.12</td>\n",
              "      <td>53668.84</td>\n",
              "      <td>58313.0</td>\n",
              "      <td>-1.7959</td>\n",
              "      <td>-0.256557</td>\n",
              "    </tr>\n",
              "    <tr>\n",
              "      <th>2020-06-05</th>\n",
              "      <td>82.460152</td>\n",
              "      <td>137250400.0</td>\n",
              "      <td>2020-04-30</td>\n",
              "      <td>2020-03-01</td>\n",
              "      <td>0.52</td>\n",
              "      <td>0.64</td>\n",
              "      <td>0.12</td>\n",
              "      <td>53668.84</td>\n",
              "      <td>58313.0</td>\n",
              "      <td>-1.7959</td>\n",
              "      <td>-0.256557</td>\n",
              "    </tr>\n",
              "    <tr>\n",
              "      <th>2020-06-08</th>\n",
              "      <td>82.947685</td>\n",
              "      <td>95654400.0</td>\n",
              "      <td>2020-04-30</td>\n",
              "      <td>2020-03-01</td>\n",
              "      <td>0.52</td>\n",
              "      <td>0.64</td>\n",
              "      <td>0.12</td>\n",
              "      <td>53668.84</td>\n",
              "      <td>58313.0</td>\n",
              "      <td>0.6364</td>\n",
              "      <td>0.318200</td>\n",
              "    </tr>\n",
              "    <tr>\n",
              "      <th>2020-06-09</th>\n",
              "      <td>85.567009</td>\n",
              "      <td>147712400.0</td>\n",
              "      <td>2020-04-30</td>\n",
              "      <td>2020-03-01</td>\n",
              "      <td>0.52</td>\n",
              "      <td>0.64</td>\n",
              "      <td>0.12</td>\n",
              "      <td>53668.84</td>\n",
              "      <td>58313.0</td>\n",
              "      <td>0.6364</td>\n",
              "      <td>0.318200</td>\n",
              "    </tr>\n",
              "    <tr>\n",
              "      <th>2020-06-10</th>\n",
              "      <td>87.768440</td>\n",
              "      <td>166651600.0</td>\n",
              "      <td>2020-04-30</td>\n",
              "      <td>2020-03-01</td>\n",
              "      <td>0.52</td>\n",
              "      <td>0.64</td>\n",
              "      <td>0.12</td>\n",
              "      <td>53668.84</td>\n",
              "      <td>58313.0</td>\n",
              "      <td>0.0000</td>\n",
              "      <td>0.000000</td>\n",
              "    </tr>\n",
              "    <tr>\n",
              "      <th>2020-06-11</th>\n",
              "      <td>83.554642</td>\n",
              "      <td>201662400.0</td>\n",
              "      <td>2020-04-30</td>\n",
              "      <td>2020-03-01</td>\n",
              "      <td>0.52</td>\n",
              "      <td>0.64</td>\n",
              "      <td>0.12</td>\n",
              "      <td>53668.84</td>\n",
              "      <td>58313.0</td>\n",
              "      <td>1.5012</td>\n",
              "      <td>0.750600</td>\n",
              "    </tr>\n",
              "    <tr>\n",
              "      <th>2020-06-12</th>\n",
              "      <td>84.276009</td>\n",
              "      <td>200146000.0</td>\n",
              "      <td>2020-04-30</td>\n",
              "      <td>2020-03-01</td>\n",
              "      <td>0.52</td>\n",
              "      <td>0.64</td>\n",
              "      <td>0.12</td>\n",
              "      <td>53668.84</td>\n",
              "      <td>58313.0</td>\n",
              "      <td>0.0516</td>\n",
              "      <td>0.012900</td>\n",
              "    </tr>\n",
              "  </tbody>\n",
              "</table>\n",
              "</div>"
            ],
            "text/plain": [
              "            Adj Close       Volume  ... Total Sentiment Avg Sentiment\n",
              "Date                                ...                              \n",
              "2020-06-01  80.059723   80791200.0  ...         -1.2498     -0.312450\n",
              "2020-06-02  80.430351   87642800.0  ...         -1.6542     -0.827100\n",
              "2020-06-03  80.873131  104491200.0  ...         -1.6542     -0.827100\n",
              "2020-06-04  80.176636   87560400.0  ...         -1.7959     -0.256557\n",
              "2020-06-05  82.460152  137250400.0  ...         -1.7959     -0.256557\n",
              "2020-06-08  82.947685   95654400.0  ...          0.6364      0.318200\n",
              "2020-06-09  85.567009  147712400.0  ...          0.6364      0.318200\n",
              "2020-06-10  87.768440  166651600.0  ...          0.0000      0.000000\n",
              "2020-06-11  83.554642  201662400.0  ...          1.5012      0.750600\n",
              "2020-06-12  84.276009  200146000.0  ...          0.0516      0.012900\n",
              "\n",
              "[10 rows x 11 columns]"
            ]
          },
          "metadata": {
            "tags": []
          },
          "execution_count": 18
        }
      ]
    },
    {
      "cell_type": "code",
      "metadata": {
        "id": "hQPd_XgIgUc1",
        "colab": {
          "base_uri": "https://localhost:8080/",
          "height": 295
        },
        "outputId": "6903887e-c7fd-4fff-d856-a034830040da"
      },
      "source": [
        "df['Avg Sentiment'].plot()"
      ],
      "execution_count": 19,
      "outputs": [
        {
          "output_type": "execute_result",
          "data": {
            "text/plain": [
              "<matplotlib.axes._subplots.AxesSubplot at 0x7fa0b2420d50>"
            ]
          },
          "metadata": {
            "tags": []
          },
          "execution_count": 19
        },
        {
          "output_type": "display_data",
          "data": {
            "image/png": "[encoded data removed]",
            "text/plain": [
              "<Figure size 432x288 with 1 Axes>"
            ]
          },
          "metadata": {
            "tags": [],
            "needs_background": "light"
          }
        }
      ]
    },
    {
      "cell_type": "code",
      "metadata": {
        "id": "ynVnKyqpgUc2",
        "colab": {
          "base_uri": "https://localhost:8080/",
          "height": 299
        },
        "outputId": "e58381ac-771b-421b-8800-461ff2bd704b"
      },
      "source": [
        "df['Total Sentiment'].plot()"
      ],
      "execution_count": 20,
      "outputs": [
        {
          "output_type": "execute_result",
          "data": {
            "text/plain": [
              "<matplotlib.axes._subplots.AxesSubplot at 0x7fa0b22f16d0>"
            ]
          },
          "metadata": {
            "tags": []
          },
          "execution_count": 20
        },
        {
          "output_type": "display_data",
          "data": {
            "image/png": "[encoded data removed]",
            "text/plain": [
              "<Figure size 432x288 with 1 Axes>"
            ]
          },
          "metadata": {
            "tags": [],
            "needs_background": "light"
          }
        }
      ]
    },
    {
      "cell_type": "code",
      "metadata": {
        "id": "CI0Dyw3_gUc2"
      },
      "source": [
        "df['Weekly Sentiment'] = df['Avg Sentiment'].rolling(5, win_type='triang').sum()"
      ],
      "execution_count": 21,
      "outputs": []
    },
    {
      "cell_type": "code",
      "metadata": {
        "id": "7EpDerY7gUc2"
      },
      "source": [
        "df['Monthly Sentiment'] = df['Avg Sentiment'].rolling(20, win_type='triang').sum()"
      ],
      "execution_count": 22,
      "outputs": []
    },
    {
      "cell_type": "code",
      "metadata": {
        "scrolled": true,
        "id": "8AFnjGU3gUc2",
        "colab": {
          "base_uri": "https://localhost:8080/",
          "height": 455
        },
        "outputId": "f92a9d6e-62c7-4221-bdc3-d888eeacd2ac"
      },
      "source": [
        "df"
      ],
      "execution_count": 23,
      "outputs": [
        {
          "output_type": "execute_result",
          "data": {
            "text/html": [
              "<div>\n",
              "<style scoped>\n",
              "    .dataframe tbody tr th:only-of-type {\n",
              "        vertical-align: middle;\n",
              "    }\n",
              "\n",
              "    .dataframe tbody tr th {\n",
              "        vertical-align: top;\n",
              "    }\n",
              "\n",
              "    .dataframe thead th {\n",
              "        text-align: right;\n",
              "    }\n",
              "</style>\n",
              "<table border=\"1\" class=\"dataframe\">\n",
              "  <thead>\n",
              "    <tr style=\"text-align: right;\">\n",
              "      <th></th>\n",
              "      <th>Adj Close</th>\n",
              "      <th>Volume</th>\n",
              "      <th>Date</th>\n",
              "      <th>Period Ending</th>\n",
              "      <th>Estimated_EPS</th>\n",
              "      <th>Reported_EPS</th>\n",
              "      <th>Surprise_EPS</th>\n",
              "      <th>Estimated_Revenue</th>\n",
              "      <th>Reported_Revenue</th>\n",
              "      <th>Total Sentiment</th>\n",
              "      <th>Avg Sentiment</th>\n",
              "      <th>Weekly Sentiment</th>\n",
              "      <th>Monthly Sentiment</th>\n",
              "    </tr>\n",
              "    <tr>\n",
              "      <th>Date</th>\n",
              "      <th></th>\n",
              "      <th></th>\n",
              "      <th></th>\n",
              "      <th></th>\n",
              "      <th></th>\n",
              "      <th></th>\n",
              "      <th></th>\n",
              "      <th></th>\n",
              "      <th></th>\n",
              "      <th></th>\n",
              "      <th></th>\n",
              "      <th></th>\n",
              "      <th></th>\n",
              "    </tr>\n",
              "  </thead>\n",
              "  <tbody>\n",
              "    <tr>\n",
              "      <th>2020-06-01</th>\n",
              "      <td>80.059723</td>\n",
              "      <td>80791200.0</td>\n",
              "      <td>2020-04-30</td>\n",
              "      <td>2020-03-01</td>\n",
              "      <td>0.52</td>\n",
              "      <td>0.64</td>\n",
              "      <td>0.12</td>\n",
              "      <td>53668.84</td>\n",
              "      <td>58313.0</td>\n",
              "      <td>-1.2498</td>\n",
              "      <td>-0.312450</td>\n",
              "      <td>NaN</td>\n",
              "      <td>NaN</td>\n",
              "    </tr>\n",
              "    <tr>\n",
              "      <th>2020-06-02</th>\n",
              "      <td>80.430351</td>\n",
              "      <td>87642800.0</td>\n",
              "      <td>2020-04-30</td>\n",
              "      <td>2020-03-01</td>\n",
              "      <td>0.52</td>\n",
              "      <td>0.64</td>\n",
              "      <td>0.12</td>\n",
              "      <td>53668.84</td>\n",
              "      <td>58313.0</td>\n",
              "      <td>-1.6542</td>\n",
              "      <td>-0.827100</td>\n",
              "      <td>NaN</td>\n",
              "      <td>NaN</td>\n",
              "    </tr>\n",
              "    <tr>\n",
              "      <th>2020-06-03</th>\n",
              "      <td>80.873131</td>\n",
              "      <td>104491200.0</td>\n",
              "      <td>2020-04-30</td>\n",
              "      <td>2020-03-01</td>\n",
              "      <td>0.52</td>\n",
              "      <td>0.64</td>\n",
              "      <td>0.12</td>\n",
              "      <td>53668.84</td>\n",
              "      <td>58313.0</td>\n",
              "      <td>-1.6542</td>\n",
              "      <td>-0.827100</td>\n",
              "      <td>NaN</td>\n",
              "      <td>NaN</td>\n",
              "    </tr>\n",
              "    <tr>\n",
              "      <th>2020-06-04</th>\n",
              "      <td>80.176636</td>\n",
              "      <td>87560400.0</td>\n",
              "      <td>2020-04-30</td>\n",
              "      <td>2020-03-01</td>\n",
              "      <td>0.52</td>\n",
              "      <td>0.64</td>\n",
              "      <td>0.12</td>\n",
              "      <td>53668.84</td>\n",
              "      <td>58313.0</td>\n",
              "      <td>-1.7959</td>\n",
              "      <td>-0.256557</td>\n",
              "      <td>NaN</td>\n",
              "      <td>NaN</td>\n",
              "    </tr>\n",
              "    <tr>\n",
              "      <th>2020-06-05</th>\n",
              "      <td>82.460152</td>\n",
              "      <td>137250400.0</td>\n",
              "      <td>2020-04-30</td>\n",
              "      <td>2020-03-01</td>\n",
              "      <td>0.52</td>\n",
              "      <td>0.64</td>\n",
              "      <td>0.12</td>\n",
              "      <td>53668.84</td>\n",
              "      <td>58313.0</td>\n",
              "      <td>-1.7959</td>\n",
              "      <td>-0.256557</td>\n",
              "      <td>-1.739207</td>\n",
              "      <td>NaN</td>\n",
              "    </tr>\n",
              "    <tr>\n",
              "      <th>...</th>\n",
              "      <td>...</td>\n",
              "      <td>...</td>\n",
              "      <td>...</td>\n",
              "      <td>...</td>\n",
              "      <td>...</td>\n",
              "      <td>...</td>\n",
              "      <td>...</td>\n",
              "      <td>...</td>\n",
              "      <td>...</td>\n",
              "      <td>...</td>\n",
              "      <td>...</td>\n",
              "      <td>...</td>\n",
              "      <td>...</td>\n",
              "    </tr>\n",
              "    <tr>\n",
              "      <th>2021-01-25</th>\n",
              "      <td>142.706757</td>\n",
              "      <td>157611700.0</td>\n",
              "      <td>2020-10-29</td>\n",
              "      <td>2020-09-01</td>\n",
              "      <td>0.69</td>\n",
              "      <td>0.73</td>\n",
              "      <td>0.04</td>\n",
              "      <td>63388.91</td>\n",
              "      <td>64698.0</td>\n",
              "      <td>6.3311</td>\n",
              "      <td>0.263796</td>\n",
              "      <td>0.779491</td>\n",
              "      <td>3.038905</td>\n",
              "    </tr>\n",
              "    <tr>\n",
              "      <th>2021-01-26</th>\n",
              "      <td>142.946396</td>\n",
              "      <td>98390600.0</td>\n",
              "      <td>2020-10-29</td>\n",
              "      <td>2020-09-01</td>\n",
              "      <td>0.69</td>\n",
              "      <td>0.73</td>\n",
              "      <td>0.04</td>\n",
              "      <td>63388.91</td>\n",
              "      <td>64698.0</td>\n",
              "      <td>9.4487</td>\n",
              "      <td>0.363412</td>\n",
              "      <td>0.906920</td>\n",
              "      <td>2.990882</td>\n",
              "    </tr>\n",
              "    <tr>\n",
              "      <th>2021-01-27</th>\n",
              "      <td>141.848038</td>\n",
              "      <td>140843800.0</td>\n",
              "      <td>2021-01-27</td>\n",
              "      <td>2020-12-01</td>\n",
              "      <td>1.41</td>\n",
              "      <td>1.68</td>\n",
              "      <td>0.27</td>\n",
              "      <td>102512.80</td>\n",
              "      <td>111439.0</td>\n",
              "      <td>3.4509</td>\n",
              "      <td>0.156859</td>\n",
              "      <td>0.877631</td>\n",
              "      <td>2.949861</td>\n",
              "    </tr>\n",
              "    <tr>\n",
              "      <th>2021-01-28</th>\n",
              "      <td>136.885452</td>\n",
              "      <td>142621100.0</td>\n",
              "      <td>2021-01-27</td>\n",
              "      <td>2020-12-01</td>\n",
              "      <td>1.41</td>\n",
              "      <td>1.68</td>\n",
              "      <td>0.27</td>\n",
              "      <td>102512.80</td>\n",
              "      <td>111439.0</td>\n",
              "      <td>0.9101</td>\n",
              "      <td>0.303367</td>\n",
              "      <td>0.875078</td>\n",
              "      <td>2.895739</td>\n",
              "    </tr>\n",
              "    <tr>\n",
              "      <th>2021-01-29</th>\n",
              "      <td>131.763107</td>\n",
              "      <td>177180600.0</td>\n",
              "      <td>2021-01-27</td>\n",
              "      <td>2020-12-01</td>\n",
              "      <td>1.41</td>\n",
              "      <td>1.68</td>\n",
              "      <td>0.27</td>\n",
              "      <td>102512.80</td>\n",
              "      <td>111439.0</td>\n",
              "      <td>0.0000</td>\n",
              "      <td>0.000000</td>\n",
              "      <td>0.689310</td>\n",
              "      <td>2.838411</td>\n",
              "    </tr>\n",
              "  </tbody>\n",
              "</table>\n",
              "<p>169 rows × 13 columns</p>\n",
              "</div>"
            ],
            "text/plain": [
              "             Adj Close       Volume  ... Weekly Sentiment Monthly Sentiment\n",
              "Date                                 ...                                   \n",
              "2020-06-01   80.059723   80791200.0  ...              NaN               NaN\n",
              "2020-06-02   80.430351   87642800.0  ...              NaN               NaN\n",
              "2020-06-03   80.873131  104491200.0  ...              NaN               NaN\n",
              "2020-06-04   80.176636   87560400.0  ...              NaN               NaN\n",
              "2020-06-05   82.460152  137250400.0  ...        -1.739207               NaN\n",
              "...                ...          ...  ...              ...               ...\n",
              "2021-01-25  142.706757  157611700.0  ...         0.779491          3.038905\n",
              "2021-01-26  142.946396   98390600.0  ...         0.906920          2.990882\n",
              "2021-01-27  141.848038  140843800.0  ...         0.877631          2.949861\n",
              "2021-01-28  136.885452  142621100.0  ...         0.875078          2.895739\n",
              "2021-01-29  131.763107  177180600.0  ...         0.689310          2.838411\n",
              "\n",
              "[169 rows x 13 columns]"
            ]
          },
          "metadata": {
            "tags": []
          },
          "execution_count": 23
        }
      ]
    },
    {
      "cell_type": "markdown",
      "metadata": {
        "id": "Wcq2V-iqgUc3"
      },
      "source": [
        "# Output prep"
      ]
    },
    {
      "cell_type": "code",
      "metadata": {
        "id": "WwSKrz0awCvn"
      },
      "source": [
        "def prepare_data_Y_for_ML(df):\n",
        "  output = df['Adj Close']\n",
        "  output.rename('Stock Price')\n",
        "  advance = df['Adj Close'].shift(10)\n",
        "  advance = advance.rename('Short Term Advance')\n",
        "  advance2 = df['Adj Close'].shift(40)\n",
        "  advance2 = advance2.rename('Mid Term Advance')\n",
        "  gt = pd.concat([output, advance, advance2], axis=1)\n",
        "  gt['Short Term Change'] = ((gt['Short Term Advance'] - gt['Adj Close'])/gt['Adj Close'])*100\n",
        "  gt['Mid Term Change'] = ((gt['Mid Term Advance'] - gt['Adj Close'])/gt['Adj Close'])*100\n",
        "  #print(gt[9:110])\n",
        "  gt['Short Term Change'].plot()\n",
        "\n",
        "  Y = gt['Short Term Change'][10:]\n",
        "  return Y"
      ],
      "execution_count": 24,
      "outputs": []
    },
    {
      "cell_type": "code",
      "metadata": {
        "id": "BArTYfB_gUc_"
      },
      "source": [
        "def prepare_data_X_for_ML(df):\n",
        "  avg_monthly_sentiment = df['Monthly Sentiment'].sum()/len(df['Monthly Sentiment'])\n",
        "  avg_week = df['Weekly Sentiment'].sum()/len(df['Monthly Sentiment'])\n",
        "  X = df[10:]\n",
        "  X['Monthly Sentiment'] =  X['Monthly Sentiment'].fillna(avg_monthly_sentiment)\n",
        "  X['Weekly Sentiment'] = X['Weekly Sentiment'].fillna(avg_week)\n",
        "  X=X.drop(['Date','Estimated_Revenue','Reported_Revenue','Estimated_EPS','Reported_EPS','Period Ending'],axis=1)\n",
        "  return X"
      ],
      "execution_count": 43,
      "outputs": []
    },
    {
      "cell_type": "code",
      "metadata": {
        "scrolled": true,
        "id": "Kzlh7lpvgUc_",
        "colab": {
          "base_uri": "https://localhost:8080/",
          "height": 508
        },
        "outputId": "77241058-270d-47e4-c0b6-f8ffdc53f320"
      },
      "source": [
        "Y=prepare_data_Y_for_ML(df)\n",
        "print(Y)"
      ],
      "execution_count": 26,
      "outputs": [
        {
          "output_type": "stream",
          "text": [
            "Date\n",
            "2020-06-15   -6.163437\n",
            "2020-06-16   -8.162925\n",
            "2020-06-17   -7.528655\n",
            "2020-06-18   -8.361529\n",
            "2020-06-19   -5.209879\n",
            "                ...   \n",
            "2021-01-25   -7.605660\n",
            "2021-01-26   -9.905002\n",
            "2021-01-27   -9.334087\n",
            "2021-01-28   -4.522577\n",
            "2021-01-29   -2.311300\n",
            "Name: Short Term Change, Length: 159, dtype: float64\n"
          ],
          "name": "stdout"
        },
        {
          "output_type": "display_data",
          "data": {
            "image/png": "[encoded data removed]",
            "text/plain": [
              "<Figure size 432x288 with 1 Axes>"
            ]
          },
          "metadata": {
            "tags": [],
            "needs_background": "light"
          }
        }
      ]
    },
    {
      "cell_type": "code",
      "metadata": {
        "colab": {
          "base_uri": "https://localhost:8080/"
        },
        "id": "G_Lu_vNAxanz",
        "outputId": "2fdfc797-7f04-4150-f823-25631579d287"
      },
      "source": [
        "X=prepare_data_X_for_ML(df)\n",
        "print(X)"
      ],
      "execution_count": 45,
      "outputs": [
        {
          "output_type": "stream",
          "text": [
            "             Adj Close       Volume  ...  Weekly Sentiment  Monthly Sentiment\n",
            "Date                                 ...                                     \n",
            "2020-06-15   85.318260  138808800.0  ...          0.932000           2.326875\n",
            "2020-06-16   87.579391  165428800.0  ...          0.658083           2.326875\n",
            "2020-06-17   87.457504  114406400.0  ...          0.658225           2.326875\n",
            "2020-06-18   87.492332   96820400.0  ...          0.438883           2.326875\n",
            "2020-06-19   86.992348  264476000.0  ...          0.537492           2.326875\n",
            "...                ...          ...  ...               ...                ...\n",
            "2021-01-25  142.706757  157611700.0  ...          0.779491           3.038905\n",
            "2021-01-26  142.946396   98390600.0  ...          0.906920           2.990882\n",
            "2021-01-27  141.848038  140843800.0  ...          0.877631           2.949861\n",
            "2021-01-28  136.885452  142621100.0  ...          0.875078           2.895739\n",
            "2021-01-29  131.763107  177180600.0  ...          0.689310           2.838411\n",
            "\n",
            "[159 rows x 7 columns]\n"
          ],
          "name": "stdout"
        },
        {
          "output_type": "stream",
          "text": [
            "/usr/local/lib/python3.7/dist-packages/ipykernel_launcher.py:5: SettingWithCopyWarning: \n",
            "A value is trying to be set on a copy of a slice from a DataFrame.\n",
            "Try using .loc[row_indexer,col_indexer] = value instead\n",
            "\n",
            "See the caveats in the documentation: https://pandas.pydata.org/pandas-docs/stable/user_guide/indexing.html#returning-a-view-versus-a-copy\n",
            "  \"\"\"\n",
            "/usr/local/lib/python3.7/dist-packages/ipykernel_launcher.py:6: SettingWithCopyWarning: \n",
            "A value is trying to be set on a copy of a slice from a DataFrame.\n",
            "Try using .loc[row_indexer,col_indexer] = value instead\n",
            "\n",
            "See the caveats in the documentation: https://pandas.pydata.org/pandas-docs/stable/user_guide/indexing.html#returning-a-view-versus-a-copy\n",
            "  \n"
          ],
          "name": "stderr"
        }
      ]
    },
    {
      "cell_type": "code",
      "metadata": {
        "id": "oEuz4RyZgUdC"
      },
      "source": [
        "X_train,X_test,y_train,y_test = train_test_split(X,Y,test_size=0.25,random_state=0)"
      ],
      "execution_count": 46,
      "outputs": []
    },
    {
      "cell_type": "code",
      "metadata": {
        "colab": {
          "base_uri": "https://localhost:8080/"
        },
        "id": "ZB4FYlyPqcZ9",
        "outputId": "5942cb3f-9136-4a2c-b8d8-6845bd7a440b"
      },
      "source": [
        "Y"
      ],
      "execution_count": 29,
      "outputs": [
        {
          "output_type": "execute_result",
          "data": {
            "text/plain": [
              "Date\n",
              "2020-06-15   -6.163437\n",
              "2020-06-16   -8.162925\n",
              "2020-06-17   -7.528655\n",
              "2020-06-18   -8.361529\n",
              "2020-06-19   -5.209879\n",
              "                ...   \n",
              "2021-01-25   -7.605660\n",
              "2021-01-26   -9.905002\n",
              "2021-01-27   -9.334087\n",
              "2021-01-28   -4.522577\n",
              "2021-01-29   -2.311300\n",
              "Name: Short Term Change, Length: 159, dtype: float64"
            ]
          },
          "metadata": {
            "tags": []
          },
          "execution_count": 29
        }
      ]
    },
    {
      "cell_type": "markdown",
      "metadata": {
        "id": "8AEWWS1i6LZP"
      },
      "source": [
        "# Test MLP regression"
      ]
    },
    {
      "cell_type": "code",
      "metadata": {
        "id": "xLdnbjRi0drq"
      },
      "source": [
        "def apply_MLP(X_train,X_test,y_train,y_test):\n",
        "  sc_X = StandardScaler()\n",
        "  X_trainscaled=sc_X.fit_transform(X_train)\n",
        "  X_testscaled=sc_X.transform(X_test)\n",
        "  reg = MLPRegressor(hidden_layer_sizes=(5,15,5),activation=\"relu\" ,random_state=1, max_iter=2000).fit(X_trainscaled, y_train)\n",
        "  y_pred=reg.predict(X_testscaled)\n",
        "  print(\"The Score with \", (r2_score(y_pred, y_test)))\n",
        "  y_pred = pd.DataFrame(y_pred)\n",
        "  out = pd.concat([y_test.reset_index(drop=True),y_pred.reset_index(drop=True)], axis=1)\n",
        "  out = out.rename(columns={0:\"Prediction\", \"Short Term Change\":\"Ground Truth\"})\n",
        "  return out"
      ],
      "execution_count": 47,
      "outputs": []
    },
    {
      "cell_type": "code",
      "metadata": {
        "colab": {
          "base_uri": "https://localhost:8080/",
          "height": 455
        },
        "id": "B88KeIEC5peE",
        "outputId": "0ac494e2-acf6-4f6e-ec56-6c00251cce7e"
      },
      "source": [
        "X_train"
      ],
      "execution_count": 49,
      "outputs": [
        {
          "output_type": "execute_result",
          "data": {
            "text/html": [
              "<div>\n",
              "<style scoped>\n",
              "    .dataframe tbody tr th:only-of-type {\n",
              "        vertical-align: middle;\n",
              "    }\n",
              "\n",
              "    .dataframe tbody tr th {\n",
              "        vertical-align: top;\n",
              "    }\n",
              "\n",
              "    .dataframe thead th {\n",
              "        text-align: right;\n",
              "    }\n",
              "</style>\n",
              "<table border=\"1\" class=\"dataframe\">\n",
              "  <thead>\n",
              "    <tr style=\"text-align: right;\">\n",
              "      <th></th>\n",
              "      <th>Adj Close</th>\n",
              "      <th>Volume</th>\n",
              "      <th>Surprise_EPS</th>\n",
              "      <th>Total Sentiment</th>\n",
              "      <th>Avg Sentiment</th>\n",
              "      <th>Weekly Sentiment</th>\n",
              "      <th>Monthly Sentiment</th>\n",
              "    </tr>\n",
              "    <tr>\n",
              "      <th>Date</th>\n",
              "      <th></th>\n",
              "      <th></th>\n",
              "      <th></th>\n",
              "      <th></th>\n",
              "      <th></th>\n",
              "      <th></th>\n",
              "      <th></th>\n",
              "    </tr>\n",
              "  </thead>\n",
              "  <tbody>\n",
              "    <tr>\n",
              "      <th>2020-11-17</th>\n",
              "      <td>119.211861</td>\n",
              "      <td>74271000.0</td>\n",
              "      <td>0.04</td>\n",
              "      <td>1.0534</td>\n",
              "      <td>0.526700</td>\n",
              "      <td>0.780350</td>\n",
              "      <td>1.146012</td>\n",
              "    </tr>\n",
              "    <tr>\n",
              "      <th>2020-09-29</th>\n",
              "      <td>113.723564</td>\n",
              "      <td>99382200.0</td>\n",
              "      <td>0.14</td>\n",
              "      <td>0.5920</td>\n",
              "      <td>0.296000</td>\n",
              "      <td>0.953967</td>\n",
              "      <td>4.780680</td>\n",
              "    </tr>\n",
              "    <tr>\n",
              "      <th>2020-10-30</th>\n",
              "      <td>108.510361</td>\n",
              "      <td>190272600.0</td>\n",
              "      <td>0.04</td>\n",
              "      <td>3.0003</td>\n",
              "      <td>0.107154</td>\n",
              "      <td>0.012638</td>\n",
              "      <td>1.392944</td>\n",
              "    </tr>\n",
              "    <tr>\n",
              "      <th>2020-07-23</th>\n",
              "      <td>92.380234</td>\n",
              "      <td>197004400.0</td>\n",
              "      <td>0.12</td>\n",
              "      <td>-0.2934</td>\n",
              "      <td>-0.048900</td>\n",
              "      <td>-0.250983</td>\n",
              "      <td>1.318872</td>\n",
              "    </tr>\n",
              "    <tr>\n",
              "      <th>2021-01-28</th>\n",
              "      <td>136.885452</td>\n",
              "      <td>142621100.0</td>\n",
              "      <td>0.27</td>\n",
              "      <td>0.9101</td>\n",
              "      <td>0.303367</td>\n",
              "      <td>0.875078</td>\n",
              "      <td>2.895739</td>\n",
              "    </tr>\n",
              "    <tr>\n",
              "      <th>...</th>\n",
              "      <td>...</td>\n",
              "      <td>...</td>\n",
              "      <td>...</td>\n",
              "      <td>...</td>\n",
              "      <td>...</td>\n",
              "      <td>...</td>\n",
              "      <td>...</td>\n",
              "    </tr>\n",
              "    <tr>\n",
              "      <th>2020-06-26</th>\n",
              "      <td>87.964951</td>\n",
              "      <td>205256800.0</td>\n",
              "      <td>0.12</td>\n",
              "      <td>0.0000</td>\n",
              "      <td>0.000000</td>\n",
              "      <td>0.438216</td>\n",
              "      <td>1.387698</td>\n",
              "    </tr>\n",
              "    <tr>\n",
              "      <th>2020-11-09</th>\n",
              "      <td>116.146439</td>\n",
              "      <td>154515300.0</td>\n",
              "      <td>0.04</td>\n",
              "      <td>1.1988</td>\n",
              "      <td>0.299700</td>\n",
              "      <td>0.755667</td>\n",
              "      <td>0.992791</td>\n",
              "    </tr>\n",
              "    <tr>\n",
              "      <th>2020-09-18</th>\n",
              "      <td>106.496849</td>\n",
              "      <td>287104900.0</td>\n",
              "      <td>0.14</td>\n",
              "      <td>1.4817</td>\n",
              "      <td>0.493900</td>\n",
              "      <td>1.481700</td>\n",
              "      <td>4.939000</td>\n",
              "    </tr>\n",
              "    <tr>\n",
              "      <th>2020-11-30</th>\n",
              "      <td>118.872368</td>\n",
              "      <td>169410200.0</td>\n",
              "      <td>0.04</td>\n",
              "      <td>-1.4552</td>\n",
              "      <td>-0.363800</td>\n",
              "      <td>1.106067</td>\n",
              "      <td>3.619738</td>\n",
              "    </tr>\n",
              "    <tr>\n",
              "      <th>2020-08-20</th>\n",
              "      <td>117.895126</td>\n",
              "      <td>126907200.0</td>\n",
              "      <td>0.14</td>\n",
              "      <td>1.4817</td>\n",
              "      <td>0.493900</td>\n",
              "      <td>1.481700</td>\n",
              "      <td>3.146237</td>\n",
              "    </tr>\n",
              "  </tbody>\n",
              "</table>\n",
              "<p>119 rows × 7 columns</p>\n",
              "</div>"
            ],
            "text/plain": [
              "             Adj Close       Volume  ...  Weekly Sentiment  Monthly Sentiment\n",
              "Date                                 ...                                     \n",
              "2020-11-17  119.211861   74271000.0  ...          0.780350           1.146012\n",
              "2020-09-29  113.723564   99382200.0  ...          0.953967           4.780680\n",
              "2020-10-30  108.510361  190272600.0  ...          0.012638           1.392944\n",
              "2020-07-23   92.380234  197004400.0  ...         -0.250983           1.318872\n",
              "2021-01-28  136.885452  142621100.0  ...          0.875078           2.895739\n",
              "...                ...          ...  ...               ...                ...\n",
              "2020-06-26   87.964951  205256800.0  ...          0.438216           1.387698\n",
              "2020-11-09  116.146439  154515300.0  ...          0.755667           0.992791\n",
              "2020-09-18  106.496849  287104900.0  ...          1.481700           4.939000\n",
              "2020-11-30  118.872368  169410200.0  ...          1.106067           3.619738\n",
              "2020-08-20  117.895126  126907200.0  ...          1.481700           3.146237\n",
              "\n",
              "[119 rows x 7 columns]"
            ]
          },
          "metadata": {
            "tags": []
          },
          "execution_count": 49
        }
      ]
    },
    {
      "cell_type": "code",
      "metadata": {
        "id": "qAX5XiVLgUdE",
        "colab": {
          "base_uri": "https://localhost:8080/"
        },
        "outputId": "d30191a5-b988-4288-c371-07835a594ac5"
      },
      "source": [
        "out=apply_MLP(X_train,X_test,y_train,y_test)\n",
        "print(out)"
      ],
      "execution_count": 50,
      "outputs": [
        {
          "output_type": "stream",
          "text": [
            "The Score with  0.6136906399276785\n",
            "    Ground Truth  Prediction\n",
            "0      -2.005224   -8.095993\n",
            "1     -14.894008  -15.729660\n",
            "2       8.983815   -5.832609\n",
            "3      -5.274090   -1.805821\n",
            "4      -2.777241   -6.889426\n",
            "5      -3.993822   -2.226851\n",
            "6      11.556013    9.244243\n",
            "7      -3.481762   -1.574448\n",
            "8      -9.347364   -8.976574\n",
            "9      -7.588432   -9.213965\n",
            "10     -4.035025    0.840507\n",
            "11     -7.009782   -3.162925\n",
            "12      6.397034    7.450999\n",
            "13     -4.754521    0.840507\n",
            "14     11.616072   11.381368\n",
            "15    -18.487307  -14.327634\n",
            "16     -5.118393   -4.868260\n",
            "17      1.287516    7.756423\n",
            "18     -4.439313   -7.296600\n",
            "19     -1.984112   -6.004031\n",
            "20     11.483387    9.862108\n",
            "21    -11.184517  -11.519304\n",
            "22     -3.247453   -1.666473\n",
            "23     -0.825437    3.482950\n",
            "24      8.189584   15.158538\n",
            "25     -7.932245   -6.076899\n",
            "26     -4.976737   -6.632079\n",
            "27    -11.942541  -12.276138\n",
            "28     -2.998050    0.840507\n",
            "29      3.731275    0.840507\n",
            "30     -7.404884   -1.882059\n",
            "31     -1.531621    2.154081\n",
            "32      0.733276    0.840507\n",
            "33     -4.475517   -3.113426\n",
            "34     -3.891235   -4.102481\n",
            "35      4.673951    0.840507\n",
            "36     -8.877655   -0.067002\n",
            "37     -5.692971   -5.580591\n",
            "38      2.169523    0.840507\n",
            "39     -3.701819  -10.611113\n"
          ],
          "name": "stdout"
        },
        {
          "output_type": "stream",
          "text": [
            "/usr/local/lib/python3.7/dist-packages/sklearn/neural_network/_multilayer_perceptron.py:571: ConvergenceWarning: Stochastic Optimizer: Maximum iterations (2000) reached and the optimization hasn't converged yet.\n",
            "  % self.max_iter, ConvergenceWarning)\n"
          ],
          "name": "stderr"
        }
      ]
    },
    {
      "cell_type": "code",
      "metadata": {
        "id": "hSfPIDH9gUdE",
        "colab": {
          "base_uri": "https://localhost:8080/",
          "height": 334
        },
        "outputId": "7a0441ec-3657-4981-ecd4-bd78ab4af9e4"
      },
      "source": [
        "plt.figure(figsize=(12,5))\n",
        "plt.xlabel('Dates')\n",
        "\n",
        "ax1 = out[\"Prediction\"].plot(color='blue', grid=True)\n",
        "ax2 = out[\"Ground Truth\"].plot(color='red', grid=True)\n",
        "\n",
        "h1, l1 = ax1.get_legend_handles_labels()\n",
        "h2, l2 = ax2.get_legend_handles_labels()\n",
        "\n",
        "plt.legend(h1, l1, loc=2)\n",
        "plt.show()\n"
      ],
      "execution_count": 51,
      "outputs": [
        {
          "output_type": "display_data",
          "data": {
            "image/png": "[encoded data removed]",
            "text/plain": [
              "<Figure size 864x360 with 1 Axes>"
            ]
          },
          "metadata": {
            "tags": [],
            "needs_background": "light"
          }
        }
      ]
    },
    {
      "cell_type": "code",
      "metadata": {
        "id": "ZqXhQ7_36FrB"
      },
      "source": [
        ""
      ],
      "execution_count": null,
      "outputs": []
    },
    {
      "cell_type": "markdown",
      "metadata": {
        "id": "zE-_OIls6GPc"
      },
      "source": [
        "# Test SVM"
      ]
    },
    {
      "cell_type": "code",
      "metadata": {
        "id": "LDAAwb6X9O3i"
      },
      "source": [
        "# One hot encoding\n",
        "Y.plot()\n",
        "for i,yi in enumerate(Y):\n",
        "  if yi<-2:\n",
        "    Y[i] =0\n",
        "  elif yi<2:\n",
        "    Y[i]=1\n",
        "  else:\n",
        "    Y[i]=2\n",
        "\n",
        "\n",
        "#Y[0]=1\n",
        "print(Y)\n",
        "\n",
        "#print(Y)"
      ],
      "execution_count": null,
      "outputs": []
    },
    {
      "cell_type": "code",
      "metadata": {
        "id": "zXgyOzgE6Ilw"
      },
      "source": [
        "from sklearn import svm\n",
        "\n",
        "clf = svm.SVC()\n",
        "clf.fit(X_train, Y_train)\n",
        "clf.predict(X_test)"
      ],
      "execution_count": null,
      "outputs": []
    },
    {
      "cell_type": "code",
      "metadata": {
        "id": "FyVgfRV96Ix_"
      },
      "source": [
        ""
      ],
      "execution_count": null,
      "outputs": []
    },
    {
      "cell_type": "code",
      "metadata": {
        "id": "z5PrJ9cYgUdE"
      },
      "source": [
        "X = df[40:]\n",
        "X['Monthly Sentiment'] =  X['Monthly Sentiment'].fillna(avg_monthly_sentiment)\n",
        "X['Weekly Sentiment'] = X['Weekly Sentiment'].fillna(avg_week)"
      ],
      "execution_count": null,
      "outputs": []
    },
    {
      "cell_type": "code",
      "metadata": {
        "id": "8Grf3sM1gUdE"
      },
      "source": [
        "Y = gt['Mid Term Change'][40:]"
      ],
      "execution_count": null,
      "outputs": []
    },
    {
      "cell_type": "code",
      "metadata": {
        "id": "ttrd9PWNgUdF"
      },
      "source": [
        "X_train,X_test,y_train,y_test = train_test_split(X,Y,test_size=0.25,random_state=0)"
      ],
      "execution_count": null,
      "outputs": []
    },
    {
      "cell_type": "code",
      "metadata": {
        "id": "hUET12eAgUdF"
      },
      "source": [
        "sc_X = StandardScaler()\n",
        "X_trainscaled=sc_X.fit_transform(X_train)\n",
        "X_testscaled=sc_X.transform(X_test)"
      ],
      "execution_count": null,
      "outputs": []
    },
    {
      "cell_type": "code",
      "metadata": {
        "id": "NmHd_EBkgUdF"
      },
      "source": [
        "reg = MLPRegressor(hidden_layer_sizes=(5,15,5),activation=\"relu\" ,random_state=1, max_iter=2000).fit(X_trainscaled, y_train)"
      ],
      "execution_count": null,
      "outputs": []
    },
    {
      "cell_type": "code",
      "metadata": {
        "id": "qVrJufd5gUdG"
      },
      "source": [
        "y_pred=reg.predict(X_testscaled)\n",
        "print(\"The Score with \", (r2_score(y_pred, y_test)))"
      ],
      "execution_count": null,
      "outputs": []
    },
    {
      "cell_type": "code",
      "metadata": {
        "id": "gc278LYJgUdG"
      },
      "source": [
        ""
      ],
      "execution_count": null,
      "outputs": []
    },
    {
      "cell_type": "code",
      "metadata": {
        "id": "9elDK77rgUdG"
      },
      "source": [
        "y_pred = pd.DataFrame(y_pred)\n",
        "out = pd.concat([y_test.reset_index(drop=True),y_pred.reset_index(drop=True)], axis=1)"
      ],
      "execution_count": null,
      "outputs": []
    },
    {
      "cell_type": "code",
      "metadata": {
        "id": "dLKy-yoQgUdG"
      },
      "source": [
        "out = out.rename(columns={0:\"Prediction\", \"Mid Term Change\":\"Ground Truth\"})"
      ],
      "execution_count": null,
      "outputs": []
    },
    {
      "cell_type": "code",
      "metadata": {
        "id": "DI_-R9g5gUdG"
      },
      "source": [
        "out"
      ],
      "execution_count": null,
      "outputs": []
    },
    {
      "cell_type": "code",
      "metadata": {
        "id": "mE61rA2YgUdG"
      },
      "source": [
        "plt.figure(figsize=(12,5))\n",
        "plt.xlabel('Dates')\n",
        "\n",
        "ax1 = out[\"Prediction\"].plot(color='blue', grid=True)\n",
        "ax2 = out[\"Ground Truth\"].plot(color='red', grid=True)\n",
        "\n",
        "h1, l1 = ax1.get_legend_handles_labels()\n",
        "h2, l2 = ax2.get_legend_handles_labels()\n",
        "\n",
        "plt.legend(h1, l1, loc=2)\n",
        "plt.show()\n"
      ],
      "execution_count": null,
      "outputs": []
    },
    {
      "cell_type": "code",
      "metadata": {
        "id": "6uWYf28qgUdG"
      },
      "source": [
        ""
      ],
      "execution_count": null,
      "outputs": []
    }
  ]
}