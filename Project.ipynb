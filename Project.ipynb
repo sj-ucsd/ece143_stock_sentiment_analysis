{
  "nbformat": 4,
  "nbformat_minor": 0,
  "metadata": {
    "kernelspec": {
      "display_name": "Python 3",
      "language": "python",
      "name": "python3"
    },
    "language_info": {
      "codemirror_mode": {
        "name": "ipython",
        "version": 3
      },
      "file_extension": ".py",
      "mimetype": "text/x-python",
      "name": "python",
      "nbconvert_exporter": "python",
      "pygments_lexer": "ipython3",
      "version": "3.8.3"
    },
    "colab": {
      "name": "Project.ipynb",
      "provenance": []
    }
  },
  "cells": [
    {
      "cell_type": "code",
      "metadata": {
        "colab": {
          "base_uri": "https://localhost:8080/"
        },
        "id": "hwh7uvdAgUcc",
        "outputId": "b07d687e-e464-4a4c-83bc-31bbd4bbe5bb"
      },
      "source": [
        "import numpy as np\n",
        "import pandas as pd\n",
        "import os\n",
        "!pip install yahooquery\n",
        "import yahooquery\n",
        "from pandas_datareader import data\n",
        "!pip install nltk==3.3\n",
        "from datetime import timedelta, date, datetime\n",
        "\n",
        "from nltk.sentiment.vader import SentimentIntensityAnalyzer\n",
        "import nltk\n"
      ],
      "execution_count": 1,
      "outputs": [
        {
          "output_type": "stream",
          "text": [
            "Collecting yahooquery\n",
            "\u001b[?25l  Downloading https://files.pythonhosted.org/packages/0e/73/e1ae346b40d5fd48747a4153339e36e4b95bc0338688a269fd9ca7862320/yahooquery-2.2.15-py2.py3-none-any.whl (46kB)\n",
            "\u001b[K     |████████████████████████████████| 51kB 2.8MB/s \n",
            "\u001b[?25hCollecting tqdm>=4.54.1\n",
            "\u001b[?25l  Downloading https://files.pythonhosted.org/packages/4e/8c/f1035bd24b0e352ddba7be320abc1603fc4c9976fcda6971ed287be59164/tqdm-4.58.0-py2.py3-none-any.whl (73kB)\n",
            "\u001b[K     |████████████████████████████████| 81kB 4.4MB/s \n",
            "\u001b[?25hCollecting lxml>=4.6.2\n",
            "\u001b[?25l  Downloading https://files.pythonhosted.org/packages/d2/88/b25778f17e5320c1c58f8c5060fb5b037288e162bd7554c30799e9ea90db/lxml-4.6.2-cp37-cp37m-manylinux1_x86_64.whl (5.5MB)\n",
            "\u001b[K     |████████████████████████████████| 5.5MB 25.6MB/s \n",
            "\u001b[?25hCollecting requests-futures>=1.0.0\n",
            "  Downloading https://files.pythonhosted.org/packages/47/c4/fd48d1ac5110a5457c71ac7cc4caa93da10a80b8de71112430e439bdee22/requests-futures-1.0.0.tar.gz\n",
            "Requirement already satisfied: pandas>=0.24.0 in /usr/local/lib/python3.7/dist-packages (from yahooquery) (1.1.5)\n",
            "Requirement already satisfied: requests>=1.2.0 in /usr/local/lib/python3.7/dist-packages (from requests-futures>=1.0.0->yahooquery) (2.23.0)\n",
            "Requirement already satisfied: python-dateutil>=2.7.3 in /usr/local/lib/python3.7/dist-packages (from pandas>=0.24.0->yahooquery) (2.8.1)\n",
            "Requirement already satisfied: numpy>=1.15.4 in /usr/local/lib/python3.7/dist-packages (from pandas>=0.24.0->yahooquery) (1.19.5)\n",
            "Requirement already satisfied: pytz>=2017.2 in /usr/local/lib/python3.7/dist-packages (from pandas>=0.24.0->yahooquery) (2018.9)\n",
            "Requirement already satisfied: idna<3,>=2.5 in /usr/local/lib/python3.7/dist-packages (from requests>=1.2.0->requests-futures>=1.0.0->yahooquery) (2.10)\n",
            "Requirement already satisfied: certifi>=2017.4.17 in /usr/local/lib/python3.7/dist-packages (from requests>=1.2.0->requests-futures>=1.0.0->yahooquery) (2020.12.5)\n",
            "Requirement already satisfied: urllib3!=1.25.0,!=1.25.1,<1.26,>=1.21.1 in /usr/local/lib/python3.7/dist-packages (from requests>=1.2.0->requests-futures>=1.0.0->yahooquery) (1.24.3)\n",
            "Requirement already satisfied: chardet<4,>=3.0.2 in /usr/local/lib/python3.7/dist-packages (from requests>=1.2.0->requests-futures>=1.0.0->yahooquery) (3.0.4)\n",
            "Requirement already satisfied: six>=1.5 in /usr/local/lib/python3.7/dist-packages (from python-dateutil>=2.7.3->pandas>=0.24.0->yahooquery) (1.15.0)\n",
            "Building wheels for collected packages: requests-futures\n",
            "  Building wheel for requests-futures (setup.py) ... \u001b[?25l\u001b[?25hdone\n",
            "  Created wheel for requests-futures: filename=requests_futures-1.0.0-cp37-none-any.whl size=7012 sha256=4c59a463c43d3cd472544bfa45c72e149b15ef0f069e64fc9a76f223ce5e4427\n",
            "  Stored in directory: /root/.cache/pip/wheels/26/d0/f5/dc4e4a37bbe55c9acf967d2bd899152412c1e49c227f5395ff\n",
            "Successfully built requests-futures\n",
            "Installing collected packages: tqdm, lxml, requests-futures, yahooquery\n",
            "  Found existing installation: tqdm 4.41.1\n",
            "    Uninstalling tqdm-4.41.1:\n",
            "      Successfully uninstalled tqdm-4.41.1\n",
            "  Found existing installation: lxml 4.2.6\n",
            "    Uninstalling lxml-4.2.6:\n",
            "      Successfully uninstalled lxml-4.2.6\n",
            "Successfully installed lxml-4.6.2 requests-futures-1.0.0 tqdm-4.58.0 yahooquery-2.2.15\n",
            "Collecting nltk==3.3\n",
            "\u001b[?25l  Downloading https://files.pythonhosted.org/packages/50/09/3b1755d528ad9156ee7243d52aa5cd2b809ef053a0f31b53d92853dd653a/nltk-3.3.0.zip (1.4MB)\n",
            "\u001b[K     |████████████████████████████████| 1.4MB 4.1MB/s \n",
            "\u001b[?25hRequirement already satisfied: six in /usr/local/lib/python3.7/dist-packages (from nltk==3.3) (1.15.0)\n",
            "Building wheels for collected packages: nltk\n",
            "  Building wheel for nltk (setup.py) ... \u001b[?25l\u001b[?25hdone\n",
            "  Created wheel for nltk: filename=nltk-3.3-cp37-none-any.whl size=1394470 sha256=9932909fb3c192829c68885b0abee451a2dddedcb5b1c973e7668b70bcd90fbd\n",
            "  Stored in directory: /root/.cache/pip/wheels/d1/ab/40/3bceea46922767e42986aef7606a600538ca80de6062dc266c\n",
            "Successfully built nltk\n",
            "Installing collected packages: nltk\n",
            "  Found existing installation: nltk 3.2.5\n",
            "    Uninstalling nltk-3.2.5:\n",
            "      Successfully uninstalled nltk-3.2.5\n",
            "Successfully installed nltk-3.3\n"
          ],
          "name": "stdout"
        },
        {
          "output_type": "stream",
          "text": [
            "/usr/local/lib/python3.7/dist-packages/nltk/twitter/__init__.py:20: UserWarning: The twython library has not been installed. Some functionality from the twitter package will not be available.\n",
            "  warnings.warn(\"The twython library has not been installed. \"\n"
          ],
          "name": "stderr"
        }
      ]
    },
    {
      "cell_type": "code",
      "metadata": {
        "id": "ZXPT1IO8heV0"
      },
      "source": [
        "import pandas as pd\n",
        "from sklearn.model_selection import train_test_split\n",
        "from sklearn.linear_model import LogisticRegression\n",
        "from sklearn import metrics\n",
        "import seaborn as sn\n",
        "import matplotlib.pyplot as plt\n",
        "from sklearn.preprocessing import StandardScaler\n",
        "from sklearn.preprocessing import OneHotEncoder\n",
        "from sklearn.preprocessing import LabelEncoder\n",
        "from sklearn.neural_network import MLPRegressor\n",
        "from sklearn.metrics import r2_score\n",
        "\n",
        "import matplotlib.pyplot as plt"
      ],
      "execution_count": 2,
      "outputs": []
    },
    {
      "cell_type": "markdown",
      "metadata": {
        "id": "Je5WPKuCgUcl"
      },
      "source": [
        "# Get historical stock data"
      ]
    },
    {
      "cell_type": "code",
      "metadata": {
        "id": "PvmR5q38h0CW"
      },
      "source": [
        "def get_yahoo_dataframe(symbol):\n",
        "  # Get historical data\n",
        "  #symbol = 'AAPL'\n",
        "  ticker = yahooquery.Ticker(symbol)\n",
        "  df = pd.DataFrame(ticker.history(start='2020-06-01', end='2021-01-29'))\n",
        "  df=data.DataReader(symbol, 'yahoo', '20200601', '20210129').reset_index()\n",
        "  df = df[['Date','Adj Close', 'Volume']]\n",
        "  (df[:10].style.format(dict(Date='{:%d/%m/%Y}'))\n",
        "  .background_gradient(subset='Volume',cmap='Blues')\n",
        "  .background_gradient(subset='Adj Close',cmap='Blues')\n",
        "  )\n",
        "  df.Volume.plot()\n",
        "  df[\"Adj Close\"].plot()\n",
        "  dates = pd.DataFrame(pd.date_range('20200601',periods=8*31))\n",
        "  df.set_index(pd.to_datetime(df['Date']), inplace=True)\n",
        "  df = df.drop(['Date'], axis=1)\n",
        "  return df"
      ],
      "execution_count": 3,
      "outputs": []
    },
    {
      "cell_type": "code",
      "metadata": {
        "id": "YrKQFWeNgUcl"
      },
      "source": [
        ""
      ],
      "execution_count": 3,
      "outputs": []
    },
    {
      "cell_type": "code",
      "metadata": {
        "scrolled": true,
        "id": "D344w0BVgUcm"
      },
      "source": [
        ""
      ],
      "execution_count": 3,
      "outputs": []
    },
    {
      "cell_type": "code",
      "metadata": {
        "id": "gJYvvd6JgUcp"
      },
      "source": [
        "def process_stock_data(filename, df):\n",
        "  stock_file = pd.read_csv(filename)\n",
        "  stock_file.set_index(pd.to_datetime(stock_file['Date']), inplace=True)\n",
        "  stock_file.drop('Date', axis=1)\n",
        "  stock_file = stock_file.reindex(df.index, method='bfill')\n",
        "  #stock_file = stock_file.drop('Date', axis=1)\n",
        "  #stock_file = stock_file.drop('Period Ending', axis=1)\n",
        "  return stock_file"
      ],
      "execution_count": 4,
      "outputs": []
    },
    {
      "cell_type": "code",
      "metadata": {
        "id": "9-yDVfXOgUcp",
        "colab": {
          "base_uri": "https://localhost:8080/"
        },
        "outputId": "b88227d1-0386-4514-a410-199d7c35fdc6"
      },
      "source": [
        "# Optional, just because Ish is using Colab\n",
        "from google.colab import drive\n",
        "drive.mount('/content/gdrive')\n"
      ],
      "execution_count": 5,
      "outputs": [
        {
          "output_type": "stream",
          "text": [
            "Mounted at /content/gdrive\n"
          ],
          "name": "stdout"
        }
      ]
    },
    {
      "cell_type": "markdown",
      "metadata": {
        "id": "pRvuel4ogUcu"
      },
      "source": [
        "# Get news sentiment"
      ]
    },
    {
      "cell_type": "code",
      "metadata": {
        "id": "U-U_xyZQgUcu"
      },
      "source": [
        "def daterange(start_date, end_date):\n",
        "    for n in range(int((end_date - start_date).days)):\n",
        "        yield start_date + timedelta(n)\n",
        "\n",
        "def get_yahoo_news(symbol):\n",
        "  start_date = date(2020, 6, 1)\n",
        "  end_date = date(2021, 1, 29)\n",
        "  data = []\n",
        "  run_Dict = []\n",
        "  ticker = yahooquery.Ticker(symbol)\n",
        "  for single_date in daterange(start_date, end_date):\n",
        "      daily_news = ticker.news(start=single_date.strftime(\"%Y-%m-%d\"))\n",
        "      for article in daily_news:\n",
        "          #print(article)\n",
        "          title = article['title']\n",
        "          if title in run_Dict:\n",
        "              continue\n",
        "          else:\n",
        "              try:\n",
        "                  run_Dict.append(title)\n",
        "                  publisher_time = article['provider_publish_time']\n",
        "                  publisher_time = datetime.utcfromtimestamp(int(publisher_time)).strftime('%Y-%m-%d')\n",
        "                  data.append([publisher_time, title, article['summary']])\n",
        "              except KeyError:\n",
        "                  print(\"KeyError generated.\")\n",
        "                  continue\n",
        "          if len(run_Dict) > 30:\n",
        "              run_Dict = run_Dict[-30:]\n",
        "  print(len(data))\n",
        "  news = pd.DataFrame(data, columns=[\"date\", \"Title\", \"Summary\"])\n",
        "  nltk.download(\"vader_lexicon\")\n",
        "  sentimentAnalyser = SentimentIntensityAnalyzer()\n",
        "  news[\"compound\"] = [sentimentAnalyser.polarity_scores(v)['compound'] for v in news[\"Summary\"]]\n",
        "  news[\"negative\"] = [sentimentAnalyser.polarity_scores(v)['neg'] for v in news[\"Summary\"]]\n",
        "  news[\"positive\"] = [sentimentAnalyser.polarity_scores(v)['pos'] for v in news[\"Summary\"]]\n",
        "  news[\"neutral\"] = [sentimentAnalyser.polarity_scores(v)['neu'] for v in news[\"Summary\"]]\n",
        "  news = news.sort_values(by=\"date\")\n",
        "  return news"
      ],
      "execution_count": 7,
      "outputs": []
    },
    {
      "cell_type": "code",
      "metadata": {
        "id": "zAjp4WHqgUcw"
      },
      "source": [
        "def get_sentiment_from_news(news):\n",
        "  news_sentiment = news[['date', 'compound']]\n",
        "  print(news_sentiment)\n",
        "  news_sentiment.set_index(pd.to_datetime(news_sentiment['date']), inplace=True)\n",
        "  print(news_sentiment[:10])\n",
        "  news_sentiment = news_sentiment['compound']\n",
        "  total_sentiment = news_sentiment.groupby('date').agg(lambda x: sum(x))\n",
        "  total_sentiment = total_sentiment.rename('Total Sentiment')\n",
        "  nArticles = news_sentiment.groupby('date').count()\n",
        "  avg_sentiment = total_sentiment/nArticles\n",
        "  avg_sentiment = avg_sentiment.rename('Avg Sentiment')\n",
        "  sentiment_data = pd.concat([total_sentiment, avg_sentiment], axis=1)\n",
        "  sentiment_data = sentiment_data.reindex(df.index, method='ffill')\n",
        "  return sentiment_data"
      ],
      "execution_count": 8,
      "outputs": []
    },
    {
      "cell_type": "code",
      "metadata": {
        "id": "uNSvi6VDgUc1"
      },
      "source": [
        "# df = df.drop('Estimated_Revenue', axis=1)\n",
        "# df = df.drop('Reported_Revenue', axis=1)\n",
        "# df = df.drop('Date', axis=1)\n",
        "# df = df.drop('Estimated_EPS', axis=1)\n",
        "# # df = df.drop('Reported_EPS', axis=1)\n",
        "# df = df.drop('Period Ending', axis=1)"
      ],
      "execution_count": null,
      "outputs": []
    },
    {
      "cell_type": "markdown",
      "metadata": {
        "id": "Wcq2V-iqgUc3"
      },
      "source": [
        "# Output prep"
      ]
    },
    {
      "cell_type": "code",
      "metadata": {
        "id": "WwSKrz0awCvn"
      },
      "source": [
        "def prepare_data_Y_for_ML(df):\n",
        "  output = df['Adj Close']\n",
        "  output.rename('Stock Price')\n",
        "  advance = df['Adj Close'].shift(10)\n",
        "  advance = advance.rename('Short Term Advance')\n",
        "  advance2 = df['Adj Close'].shift(40)\n",
        "  advance2 = advance2.rename('Mid Term Advance')\n",
        "  gt = pd.concat([output, advance, advance2], axis=1)\n",
        "  gt['Short Term Change'] = ((gt['Short Term Advance'] - gt['Adj Close'])/gt['Adj Close'])*100\n",
        "  gt['Mid Term Change'] = ((gt['Mid Term Advance'] - gt['Adj Close'])/gt['Adj Close'])*100\n",
        "  #print(gt[9:110])\n",
        "  #gt['Short Term Change'].plot()\n",
        "\n",
        "  Y = gt['Short Term Change'][10:]\n",
        "  return Y"
      ],
      "execution_count": 27,
      "outputs": []
    },
    {
      "cell_type": "code",
      "metadata": {
        "id": "BArTYfB_gUc_"
      },
      "source": [
        "def prepare_data_X_for_ML(df):\n",
        "  df['Weekly Sentiment'] = df['Avg Sentiment'].rolling(5, win_type='triang').sum()\n",
        "  df['Monthly Sentiment'] = df['Avg Sentiment'].rolling(20, win_type='triang').sum()\n",
        "  avg_monthly_sentiment = df['Monthly Sentiment'].sum()/len(df['Monthly Sentiment'])\n",
        "  avg_week = df['Weekly Sentiment'].sum()/len(df['Monthly Sentiment'])\n",
        "  X = df[10:]\n",
        "  X['Monthly Sentiment'] =  X['Monthly Sentiment'].fillna(avg_monthly_sentiment)\n",
        "  X['Weekly Sentiment'] = X['Weekly Sentiment'].fillna(avg_week)\n",
        "  X=X.drop(['Date','Estimated_Revenue','Reported_Revenue','Estimated_EPS','Reported_EPS','Period Ending'],axis=1)\n",
        "  return X"
      ],
      "execution_count": 28,
      "outputs": []
    },
    {
      "cell_type": "markdown",
      "metadata": {
        "id": "8AEWWS1i6LZP"
      },
      "source": [
        "# Test MLP regression"
      ]
    },
    {
      "cell_type": "code",
      "metadata": {
        "id": "xLdnbjRi0drq"
      },
      "source": [
        "def apply_MLP(X_train,X_test,y_train,y_test):\n",
        "  sc_X = StandardScaler()\n",
        "  X_trainscaled=sc_X.fit_transform(X_train)\n",
        "  X_testscaled=sc_X.transform(X_test)\n",
        "  reg = MLPRegressor(hidden_layer_sizes=(5,15,5),activation=\"relu\" ,random_state=1, max_iter=2000).fit(X_trainscaled, y_train)\n",
        "  y_pred=reg.predict(X_testscaled)\n",
        "  print(\"The Score with \", (r2_score(y_pred, y_test)))\n",
        "  y_pred = pd.DataFrame(y_pred)\n",
        "  out = pd.concat([y_test.reset_index(drop=True),y_pred.reset_index(drop=True)], axis=1)\n",
        "  out = out.rename(columns={0:\"Prediction\", \"Short Term Change\":\"Ground Truth\"})\n",
        "  return out"
      ],
      "execution_count": 11,
      "outputs": []
    },
    {
      "cell_type": "markdown",
      "metadata": {
        "id": "t0WrG9TcyA0R"
      },
      "source": [
        "# Main code"
      ]
    },
    {
      "cell_type": "code",
      "metadata": {
        "id": "qAX5XiVLgUdE",
        "colab": {
          "base_uri": "https://localhost:8080/",
          "height": 1000
        },
        "outputId": "7ab635b6-48b8-4fe3-a7b3-0fa392e488b3"
      },
      "source": [
        "symbol='AAPL'\n",
        "df = get_yahoo_dataframe(symbol)\n",
        "df\n",
        "stock_file=process_stock_data('/content/gdrive/My Drive/Colab Notebooks/earnings_data/AAPL.csv', df)\n",
        "#print(stock_file)\n",
        "df = df.join(stock_file)\n",
        "news=get_yahoo_news(symbol)\n",
        "#print(news)\n",
        "sentiment_data=get_sentiment_from_news(news)\n",
        "#print(sentiment_data)\n",
        "df = df.join(sentiment_data)\n",
        "df\n"
      ],
      "execution_count": 13,
      "outputs": [
        {
          "output_type": "stream",
          "text": [
            "                  Date Period Ending  ...  Estimated_Revenue  Reported_Revenue\n",
            "Date                                  ...                                     \n",
            "2020-06-01  2020-04-30    2020-03-01  ...           53668.84           58313.0\n",
            "2020-06-02  2020-04-30    2020-03-01  ...           53668.84           58313.0\n",
            "2020-06-03  2020-04-30    2020-03-01  ...           53668.84           58313.0\n",
            "2020-06-04  2020-04-30    2020-03-01  ...           53668.84           58313.0\n",
            "2020-06-05  2020-04-30    2020-03-01  ...           53668.84           58313.0\n",
            "...                ...           ...  ...                ...               ...\n",
            "2021-01-25  2020-10-29    2020-09-01  ...           63388.91           64698.0\n",
            "2021-01-26  2020-10-29    2020-09-01  ...           63388.91           64698.0\n",
            "2021-01-27  2021-01-27    2020-12-01  ...          102512.80          111439.0\n",
            "2021-01-28  2021-01-27    2020-12-01  ...          102512.80          111439.0\n",
            "2021-01-29  2021-01-27    2020-12-01  ...          102512.80          111439.0\n",
            "\n",
            "[169 rows x 7 columns]\n",
            "972\n",
            "[nltk_data] Downloading package vader_lexicon to /root/nltk_data...\n",
            "[nltk_data]   Package vader_lexicon is already up-to-date!\n",
            "           date  ... neutral\n",
            "24   2020-05-08  ...   0.925\n",
            "23   2020-05-08  ...   1.000\n",
            "22   2020-05-08  ...   1.000\n",
            "21   2020-05-11  ...   0.868\n",
            "20   2020-05-11  ...   0.771\n",
            "..          ...  ...     ...\n",
            "971  2021-01-27  ...   0.937\n",
            "949  2021-01-28  ...   1.000\n",
            "899  2021-01-28  ...   0.755\n",
            "830  2021-01-29  ...   1.000\n",
            "829  2021-02-12  ...   0.700\n",
            "\n",
            "[972 rows x 7 columns]\n",
            "           date  compound\n",
            "24   2020-05-08   -0.4902\n",
            "23   2020-05-08    0.0000\n",
            "22   2020-05-08    0.0000\n",
            "21   2020-05-11    0.4939\n",
            "20   2020-05-11    0.8176\n",
            "..          ...       ...\n",
            "971  2021-01-27   -0.4019\n",
            "949  2021-01-28    0.0000\n",
            "899  2021-01-28    0.6369\n",
            "830  2021-01-29    0.0000\n",
            "829  2021-02-12    0.8934\n",
            "\n",
            "[972 rows x 2 columns]\n",
            "                  date  compound\n",
            "date                            \n",
            "2020-05-08  2020-05-08   -0.4902\n",
            "2020-05-08  2020-05-08    0.0000\n",
            "2020-05-08  2020-05-08    0.0000\n",
            "2020-05-11  2020-05-11    0.4939\n",
            "2020-05-11  2020-05-11    0.8176\n",
            "2020-05-11  2020-05-11    0.0000\n",
            "2020-05-12  2020-05-12    0.0000\n",
            "2020-05-12  2020-05-12    0.1531\n",
            "2020-05-12  2020-05-12    0.0000\n",
            "2020-05-12  2020-05-12   -0.4588\n",
            "            Total Sentiment  Avg Sentiment\n",
            "Date                                      \n",
            "2020-06-01          -1.2498      -0.312450\n",
            "2020-06-02          -1.6542      -0.827100\n",
            "2020-06-03          -1.6542      -0.827100\n",
            "2020-06-04          -1.7959      -0.256557\n",
            "2020-06-05          -1.7959      -0.256557\n",
            "...                     ...            ...\n",
            "2021-01-25           6.3311       0.263796\n",
            "2021-01-26           9.4487       0.363412\n",
            "2021-01-27           3.4509       0.156859\n",
            "2021-01-28           0.6369       0.318450\n",
            "2021-01-29           0.0000       0.000000\n",
            "\n",
            "[169 rows x 2 columns]\n"
          ],
          "name": "stdout"
        },
        {
          "output_type": "execute_result",
          "data": {
            "text/html": [
              "<div>\n",
              "<style scoped>\n",
              "    .dataframe tbody tr th:only-of-type {\n",
              "        vertical-align: middle;\n",
              "    }\n",
              "\n",
              "    .dataframe tbody tr th {\n",
              "        vertical-align: top;\n",
              "    }\n",
              "\n",
              "    .dataframe thead th {\n",
              "        text-align: right;\n",
              "    }\n",
              "</style>\n",
              "<table border=\"1\" class=\"dataframe\">\n",
              "  <thead>\n",
              "    <tr style=\"text-align: right;\">\n",
              "      <th></th>\n",
              "      <th>Adj Close</th>\n",
              "      <th>Volume</th>\n",
              "      <th>Date</th>\n",
              "      <th>Period Ending</th>\n",
              "      <th>Estimated_EPS</th>\n",
              "      <th>Reported_EPS</th>\n",
              "      <th>Surprise_EPS</th>\n",
              "      <th>Estimated_Revenue</th>\n",
              "      <th>Reported_Revenue</th>\n",
              "      <th>Total Sentiment</th>\n",
              "      <th>Avg Sentiment</th>\n",
              "    </tr>\n",
              "    <tr>\n",
              "      <th>Date</th>\n",
              "      <th></th>\n",
              "      <th></th>\n",
              "      <th></th>\n",
              "      <th></th>\n",
              "      <th></th>\n",
              "      <th></th>\n",
              "      <th></th>\n",
              "      <th></th>\n",
              "      <th></th>\n",
              "      <th></th>\n",
              "      <th></th>\n",
              "    </tr>\n",
              "  </thead>\n",
              "  <tbody>\n",
              "    <tr>\n",
              "      <th>2020-06-01</th>\n",
              "      <td>80.059723</td>\n",
              "      <td>80791200.0</td>\n",
              "      <td>2020-04-30</td>\n",
              "      <td>2020-03-01</td>\n",
              "      <td>0.52</td>\n",
              "      <td>0.64</td>\n",
              "      <td>0.12</td>\n",
              "      <td>53668.84</td>\n",
              "      <td>58313.0</td>\n",
              "      <td>-1.2498</td>\n",
              "      <td>-0.312450</td>\n",
              "    </tr>\n",
              "    <tr>\n",
              "      <th>2020-06-02</th>\n",
              "      <td>80.430351</td>\n",
              "      <td>87642800.0</td>\n",
              "      <td>2020-04-30</td>\n",
              "      <td>2020-03-01</td>\n",
              "      <td>0.52</td>\n",
              "      <td>0.64</td>\n",
              "      <td>0.12</td>\n",
              "      <td>53668.84</td>\n",
              "      <td>58313.0</td>\n",
              "      <td>-1.6542</td>\n",
              "      <td>-0.827100</td>\n",
              "    </tr>\n",
              "    <tr>\n",
              "      <th>2020-06-03</th>\n",
              "      <td>80.873131</td>\n",
              "      <td>104491200.0</td>\n",
              "      <td>2020-04-30</td>\n",
              "      <td>2020-03-01</td>\n",
              "      <td>0.52</td>\n",
              "      <td>0.64</td>\n",
              "      <td>0.12</td>\n",
              "      <td>53668.84</td>\n",
              "      <td>58313.0</td>\n",
              "      <td>-1.6542</td>\n",
              "      <td>-0.827100</td>\n",
              "    </tr>\n",
              "    <tr>\n",
              "      <th>2020-06-04</th>\n",
              "      <td>80.176636</td>\n",
              "      <td>87560400.0</td>\n",
              "      <td>2020-04-30</td>\n",
              "      <td>2020-03-01</td>\n",
              "      <td>0.52</td>\n",
              "      <td>0.64</td>\n",
              "      <td>0.12</td>\n",
              "      <td>53668.84</td>\n",
              "      <td>58313.0</td>\n",
              "      <td>-1.7959</td>\n",
              "      <td>-0.256557</td>\n",
              "    </tr>\n",
              "    <tr>\n",
              "      <th>2020-06-05</th>\n",
              "      <td>82.460152</td>\n",
              "      <td>137250400.0</td>\n",
              "      <td>2020-04-30</td>\n",
              "      <td>2020-03-01</td>\n",
              "      <td>0.52</td>\n",
              "      <td>0.64</td>\n",
              "      <td>0.12</td>\n",
              "      <td>53668.84</td>\n",
              "      <td>58313.0</td>\n",
              "      <td>-1.7959</td>\n",
              "      <td>-0.256557</td>\n",
              "    </tr>\n",
              "    <tr>\n",
              "      <th>...</th>\n",
              "      <td>...</td>\n",
              "      <td>...</td>\n",
              "      <td>...</td>\n",
              "      <td>...</td>\n",
              "      <td>...</td>\n",
              "      <td>...</td>\n",
              "      <td>...</td>\n",
              "      <td>...</td>\n",
              "      <td>...</td>\n",
              "      <td>...</td>\n",
              "      <td>...</td>\n",
              "    </tr>\n",
              "    <tr>\n",
              "      <th>2021-01-25</th>\n",
              "      <td>142.706757</td>\n",
              "      <td>157611700.0</td>\n",
              "      <td>2020-10-29</td>\n",
              "      <td>2020-09-01</td>\n",
              "      <td>0.69</td>\n",
              "      <td>0.73</td>\n",
              "      <td>0.04</td>\n",
              "      <td>63388.91</td>\n",
              "      <td>64698.0</td>\n",
              "      <td>6.3311</td>\n",
              "      <td>0.263796</td>\n",
              "    </tr>\n",
              "    <tr>\n",
              "      <th>2021-01-26</th>\n",
              "      <td>142.946396</td>\n",
              "      <td>98390600.0</td>\n",
              "      <td>2020-10-29</td>\n",
              "      <td>2020-09-01</td>\n",
              "      <td>0.69</td>\n",
              "      <td>0.73</td>\n",
              "      <td>0.04</td>\n",
              "      <td>63388.91</td>\n",
              "      <td>64698.0</td>\n",
              "      <td>9.4487</td>\n",
              "      <td>0.363412</td>\n",
              "    </tr>\n",
              "    <tr>\n",
              "      <th>2021-01-27</th>\n",
              "      <td>141.848038</td>\n",
              "      <td>140843800.0</td>\n",
              "      <td>2021-01-27</td>\n",
              "      <td>2020-12-01</td>\n",
              "      <td>1.41</td>\n",
              "      <td>1.68</td>\n",
              "      <td>0.27</td>\n",
              "      <td>102512.80</td>\n",
              "      <td>111439.0</td>\n",
              "      <td>3.4509</td>\n",
              "      <td>0.156859</td>\n",
              "    </tr>\n",
              "    <tr>\n",
              "      <th>2021-01-28</th>\n",
              "      <td>136.885452</td>\n",
              "      <td>142621100.0</td>\n",
              "      <td>2021-01-27</td>\n",
              "      <td>2020-12-01</td>\n",
              "      <td>1.41</td>\n",
              "      <td>1.68</td>\n",
              "      <td>0.27</td>\n",
              "      <td>102512.80</td>\n",
              "      <td>111439.0</td>\n",
              "      <td>0.6369</td>\n",
              "      <td>0.318450</td>\n",
              "    </tr>\n",
              "    <tr>\n",
              "      <th>2021-01-29</th>\n",
              "      <td>131.763107</td>\n",
              "      <td>177180600.0</td>\n",
              "      <td>2021-01-27</td>\n",
              "      <td>2020-12-01</td>\n",
              "      <td>1.41</td>\n",
              "      <td>1.68</td>\n",
              "      <td>0.27</td>\n",
              "      <td>102512.80</td>\n",
              "      <td>111439.0</td>\n",
              "      <td>0.0000</td>\n",
              "      <td>0.000000</td>\n",
              "    </tr>\n",
              "  </tbody>\n",
              "</table>\n",
              "<p>169 rows × 11 columns</p>\n",
              "</div>"
            ],
            "text/plain": [
              "             Adj Close       Volume  ... Total Sentiment Avg Sentiment\n",
              "Date                                 ...                              \n",
              "2020-06-01   80.059723   80791200.0  ...         -1.2498     -0.312450\n",
              "2020-06-02   80.430351   87642800.0  ...         -1.6542     -0.827100\n",
              "2020-06-03   80.873131  104491200.0  ...         -1.6542     -0.827100\n",
              "2020-06-04   80.176636   87560400.0  ...         -1.7959     -0.256557\n",
              "2020-06-05   82.460152  137250400.0  ...         -1.7959     -0.256557\n",
              "...                ...          ...  ...             ...           ...\n",
              "2021-01-25  142.706757  157611700.0  ...          6.3311      0.263796\n",
              "2021-01-26  142.946396   98390600.0  ...          9.4487      0.363412\n",
              "2021-01-27  141.848038  140843800.0  ...          3.4509      0.156859\n",
              "2021-01-28  136.885452  142621100.0  ...          0.6369      0.318450\n",
              "2021-01-29  131.763107  177180600.0  ...          0.0000      0.000000\n",
              "\n",
              "[169 rows x 11 columns]"
            ]
          },
          "metadata": {
            "tags": []
          },
          "execution_count": 13
        },
        {
          "output_type": "display_data",
          "data": {
            "image/png": "[encoded data removed]",
            "text/plain": [
              "<Figure size 432x288 with 1 Axes>"
            ]
          },
          "metadata": {
            "tags": [],
            "needs_background": "light"
          }
        }
      ]
    },
    {
      "cell_type": "code",
      "metadata": {
        "colab": {
          "base_uri": "https://localhost:8080/",
          "height": 299
        },
        "id": "VWNRicuXwI5Q",
        "outputId": "6787d986-d2c2-4c4a-a866-394a1ed756b5"
      },
      "source": [
        "df['Avg Sentiment'].plot()\n",
        "df['Total Sentiment'].plot()\n"
      ],
      "execution_count": 15,
      "outputs": [
        {
          "output_type": "execute_result",
          "data": {
            "text/plain": [
              "<matplotlib.axes._subplots.AxesSubplot at 0x7fb7a06498d0>"
            ]
          },
          "metadata": {
            "tags": []
          },
          "execution_count": 15
        },
        {
          "output_type": "display_data",
          "data": {
            "image/png": "[encoded data removed]",
            "text/plain": [
              "<Figure size 432x288 with 1 Axes>"
            ]
          },
          "metadata": {
            "tags": [],
            "needs_background": "light"
          }
        }
      ]
    },
    {
      "cell_type": "code",
      "metadata": {
        "colab": {
          "base_uri": "https://localhost:8080/",
          "height": 792
        },
        "id": "RN8kMw7cwdXu",
        "outputId": "7d3ad922-6f73-4f4b-cad3-a2c6d930700c"
      },
      "source": [
        "symlist = ['AAPL', 'ADI', 'AMT', 'AMZN', 'BABA', 'COUP', 'CRM', 'ERIC', 'GOOGL', 'MELI', 'MSFT', 'NVDA', 'OKTA', 'PANW', 'PYPL', 'QCOM', 'SHOP', 'SQ', 'TMUS']\n",
        "symbol=symlist[3]\n",
        "df = get_yahoo_dataframe(symbol)\n",
        "stock_file=process_stock_data('/content/gdrive/My Drive/Colab Notebooks/earnings_data/{}.csv'.format(symbol), df)\n",
        "#print(stock_file)\n",
        "df = df.join(stock_file)\n",
        "news=get_yahoo_news(symbol)\n",
        "#print(news)\n",
        "sentiment_data=get_sentiment_from_news(news)\n",
        "#print(sentiment_data)\n",
        "df = df.join(sentiment_data)\n"
      ],
      "execution_count": 24,
      "outputs": [
        {
          "output_type": "stream",
          "text": [
            "1226\n",
            "[nltk_data] Downloading package vader_lexicon to /root/nltk_data...\n",
            "[nltk_data]   Package vader_lexicon is already up-to-date!\n",
            "            date  compound\n",
            "23    2020-05-13    0.6124\n",
            "22    2020-05-14    0.4404\n",
            "21    2020-05-14   -0.4854\n",
            "20    2020-05-15    0.4019\n",
            "18    2020-05-15   -0.7089\n",
            "...          ...       ...\n",
            "1225  2021-01-27    0.1779\n",
            "841   2021-02-05    0.3818\n",
            "1081  2021-02-16   -0.3832\n",
            "609   2021-02-18    0.4576\n",
            "1177  2021-02-25    0.0000\n",
            "\n",
            "[1226 rows x 2 columns]\n",
            "                  date  compound\n",
            "date                            \n",
            "2020-05-13  2020-05-13    0.6124\n",
            "2020-05-14  2020-05-14    0.4404\n",
            "2020-05-14  2020-05-14   -0.4854\n",
            "2020-05-15  2020-05-15    0.4019\n",
            "2020-05-15  2020-05-15   -0.7089\n",
            "2020-05-15  2020-05-15    0.0000\n",
            "2020-05-15  2020-05-15    0.7184\n",
            "2020-05-19  2020-05-19    0.4939\n",
            "2020-05-19  2020-05-19    0.4939\n",
            "2020-05-19  2020-05-19    0.3612\n"
          ],
          "name": "stdout"
        },
        {
          "output_type": "display_data",
          "data": {
            "image/png": "[encoded data removed]",
            "text/plain": [
              "<Figure size 432x288 with 1 Axes>"
            ]
          },
          "metadata": {
            "tags": [],
            "needs_background": "light"
          }
        }
      ]
    },
    {
      "cell_type": "code",
      "metadata": {
        "colab": {
          "base_uri": "https://localhost:8080/",
          "height": 455
        },
        "id": "ekzazy0C0fr2",
        "outputId": "364c7efd-08cc-495d-bb5a-b110c4e933da"
      },
      "source": [
        ""
      ],
      "execution_count": 26,
      "outputs": [
        {
          "output_type": "execute_result",
          "data": {
            "text/html": [
              "<div>\n",
              "<style scoped>\n",
              "    .dataframe tbody tr th:only-of-type {\n",
              "        vertical-align: middle;\n",
              "    }\n",
              "\n",
              "    .dataframe tbody tr th {\n",
              "        vertical-align: top;\n",
              "    }\n",
              "\n",
              "    .dataframe thead th {\n",
              "        text-align: right;\n",
              "    }\n",
              "</style>\n",
              "<table border=\"1\" class=\"dataframe\">\n",
              "  <thead>\n",
              "    <tr style=\"text-align: right;\">\n",
              "      <th></th>\n",
              "      <th>Adj Close</th>\n",
              "      <th>Volume</th>\n",
              "      <th>Date</th>\n",
              "      <th>Period Ending</th>\n",
              "      <th>Estimated_EPS</th>\n",
              "      <th>Reported_EPS</th>\n",
              "      <th>Surprise_EPS</th>\n",
              "      <th>Estimated_Revenue</th>\n",
              "      <th>Reported_Revenue</th>\n",
              "      <th>Total Sentiment</th>\n",
              "      <th>Avg Sentiment</th>\n",
              "    </tr>\n",
              "    <tr>\n",
              "      <th>Date</th>\n",
              "      <th></th>\n",
              "      <th></th>\n",
              "      <th></th>\n",
              "      <th></th>\n",
              "      <th></th>\n",
              "      <th></th>\n",
              "      <th></th>\n",
              "      <th></th>\n",
              "      <th></th>\n",
              "      <th></th>\n",
              "      <th></th>\n",
              "    </tr>\n",
              "  </thead>\n",
              "  <tbody>\n",
              "    <tr>\n",
              "      <th>2020-06-01</th>\n",
              "      <td>2471.040039</td>\n",
              "      <td>2928900</td>\n",
              "      <td>2020-04-30</td>\n",
              "      <td>2020-03-01</td>\n",
              "      <td>6.36</td>\n",
              "      <td>5.01</td>\n",
              "      <td>-1.35</td>\n",
              "      <td>74363.20</td>\n",
              "      <td>75452.0</td>\n",
              "      <td>-2.1513</td>\n",
              "      <td>-0.358550</td>\n",
              "    </tr>\n",
              "    <tr>\n",
              "      <th>2020-06-02</th>\n",
              "      <td>2472.409912</td>\n",
              "      <td>2529900</td>\n",
              "      <td>2020-04-30</td>\n",
              "      <td>2020-03-01</td>\n",
              "      <td>6.36</td>\n",
              "      <td>5.01</td>\n",
              "      <td>-1.35</td>\n",
              "      <td>74363.20</td>\n",
              "      <td>75452.0</td>\n",
              "      <td>-1.6542</td>\n",
              "      <td>-0.827100</td>\n",
              "    </tr>\n",
              "    <tr>\n",
              "      <th>2020-06-03</th>\n",
              "      <td>2478.399902</td>\n",
              "      <td>2671000</td>\n",
              "      <td>2020-04-30</td>\n",
              "      <td>2020-03-01</td>\n",
              "      <td>6.36</td>\n",
              "      <td>5.01</td>\n",
              "      <td>-1.35</td>\n",
              "      <td>74363.20</td>\n",
              "      <td>75452.0</td>\n",
              "      <td>0.5464</td>\n",
              "      <td>0.136600</td>\n",
              "    </tr>\n",
              "    <tr>\n",
              "      <th>2020-06-04</th>\n",
              "      <td>2460.600098</td>\n",
              "      <td>2948700</td>\n",
              "      <td>2020-04-30</td>\n",
              "      <td>2020-03-01</td>\n",
              "      <td>6.36</td>\n",
              "      <td>5.01</td>\n",
              "      <td>-1.35</td>\n",
              "      <td>74363.20</td>\n",
              "      <td>75452.0</td>\n",
              "      <td>2.2792</td>\n",
              "      <td>0.569800</td>\n",
              "    </tr>\n",
              "    <tr>\n",
              "      <th>2020-06-05</th>\n",
              "      <td>2483.000000</td>\n",
              "      <td>3306400</td>\n",
              "      <td>2020-04-30</td>\n",
              "      <td>2020-03-01</td>\n",
              "      <td>6.36</td>\n",
              "      <td>5.01</td>\n",
              "      <td>-1.35</td>\n",
              "      <td>74363.20</td>\n",
              "      <td>75452.0</td>\n",
              "      <td>0.3558</td>\n",
              "      <td>0.088950</td>\n",
              "    </tr>\n",
              "    <tr>\n",
              "      <th>...</th>\n",
              "      <td>...</td>\n",
              "      <td>...</td>\n",
              "      <td>...</td>\n",
              "      <td>...</td>\n",
              "      <td>...</td>\n",
              "      <td>...</td>\n",
              "      <td>...</td>\n",
              "      <td>...</td>\n",
              "      <td>...</td>\n",
              "      <td>...</td>\n",
              "      <td>...</td>\n",
              "    </tr>\n",
              "    <tr>\n",
              "      <th>2021-01-25</th>\n",
              "      <td>3294.000000</td>\n",
              "      <td>3749800</td>\n",
              "      <td>2020-10-29</td>\n",
              "      <td>2020-09-01</td>\n",
              "      <td>7.30</td>\n",
              "      <td>12.37</td>\n",
              "      <td>5.07</td>\n",
              "      <td>92918.16</td>\n",
              "      <td>96145.0</td>\n",
              "      <td>5.4421</td>\n",
              "      <td>0.259148</td>\n",
              "    </tr>\n",
              "    <tr>\n",
              "      <th>2021-01-26</th>\n",
              "      <td>3326.129883</td>\n",
              "      <td>2955200</td>\n",
              "      <td>2020-10-29</td>\n",
              "      <td>2020-09-01</td>\n",
              "      <td>7.30</td>\n",
              "      <td>12.37</td>\n",
              "      <td>5.07</td>\n",
              "      <td>92918.16</td>\n",
              "      <td>96145.0</td>\n",
              "      <td>5.9345</td>\n",
              "      <td>0.247271</td>\n",
              "    </tr>\n",
              "    <tr>\n",
              "      <th>2021-01-27</th>\n",
              "      <td>3232.580078</td>\n",
              "      <td>4660200</td>\n",
              "      <td>2020-10-29</td>\n",
              "      <td>2020-09-01</td>\n",
              "      <td>7.30</td>\n",
              "      <td>12.37</td>\n",
              "      <td>5.07</td>\n",
              "      <td>92918.16</td>\n",
              "      <td>96145.0</td>\n",
              "      <td>6.5554</td>\n",
              "      <td>0.273142</td>\n",
              "    </tr>\n",
              "    <tr>\n",
              "      <th>2021-01-28</th>\n",
              "      <td>3237.620117</td>\n",
              "      <td>3149200</td>\n",
              "      <td>2020-10-29</td>\n",
              "      <td>2020-09-01</td>\n",
              "      <td>7.30</td>\n",
              "      <td>12.37</td>\n",
              "      <td>5.07</td>\n",
              "      <td>92918.16</td>\n",
              "      <td>96145.0</td>\n",
              "      <td>6.5554</td>\n",
              "      <td>0.273142</td>\n",
              "    </tr>\n",
              "    <tr>\n",
              "      <th>2021-01-29</th>\n",
              "      <td>3206.199951</td>\n",
              "      <td>4285600</td>\n",
              "      <td>2020-10-29</td>\n",
              "      <td>2020-09-01</td>\n",
              "      <td>7.30</td>\n",
              "      <td>12.37</td>\n",
              "      <td>5.07</td>\n",
              "      <td>92918.16</td>\n",
              "      <td>96145.0</td>\n",
              "      <td>6.5554</td>\n",
              "      <td>0.273142</td>\n",
              "    </tr>\n",
              "  </tbody>\n",
              "</table>\n",
              "<p>169 rows × 11 columns</p>\n",
              "</div>"
            ],
            "text/plain": [
              "              Adj Close   Volume  ... Total Sentiment Avg Sentiment\n",
              "Date                              ...                              \n",
              "2020-06-01  2471.040039  2928900  ...         -2.1513     -0.358550\n",
              "2020-06-02  2472.409912  2529900  ...         -1.6542     -0.827100\n",
              "2020-06-03  2478.399902  2671000  ...          0.5464      0.136600\n",
              "2020-06-04  2460.600098  2948700  ...          2.2792      0.569800\n",
              "2020-06-05  2483.000000  3306400  ...          0.3558      0.088950\n",
              "...                 ...      ...  ...             ...           ...\n",
              "2021-01-25  3294.000000  3749800  ...          5.4421      0.259148\n",
              "2021-01-26  3326.129883  2955200  ...          5.9345      0.247271\n",
              "2021-01-27  3232.580078  4660200  ...          6.5554      0.273142\n",
              "2021-01-28  3237.620117  3149200  ...          6.5554      0.273142\n",
              "2021-01-29  3206.199951  4285600  ...          6.5554      0.273142\n",
              "\n",
              "[169 rows x 11 columns]"
            ]
          },
          "metadata": {
            "tags": []
          },
          "execution_count": 26
        }
      ]
    },
    {
      "cell_type": "code",
      "metadata": {
        "colab": {
          "base_uri": "https://localhost:8080/"
        },
        "id": "nSo320VezljL",
        "outputId": "d3ff41aa-1fe3-4d50-ff51-bdb7dfbbedd4"
      },
      "source": [
        "\n",
        "\n",
        "\n",
        "Y=prepare_data_Y_for_ML(df)\n",
        "#print(Y)\n",
        "X=prepare_data_X_for_ML(df)\n",
        "#print(X)\n",
        "X_train,X_test,y_train,y_test = train_test_split(X,Y,test_size=0.25,random_state=0)\n",
        "out=apply_MLP(X_train,X_test,y_train,y_test)\n",
        "#print(out)"
      ],
      "execution_count": 29,
      "outputs": [
        {
          "output_type": "stream",
          "text": [
            "/usr/local/lib/python3.7/dist-packages/ipykernel_launcher.py:7: SettingWithCopyWarning: \n",
            "A value is trying to be set on a copy of a slice from a DataFrame.\n",
            "Try using .loc[row_indexer,col_indexer] = value instead\n",
            "\n",
            "See the caveats in the documentation: https://pandas.pydata.org/pandas-docs/stable/user_guide/indexing.html#returning-a-view-versus-a-copy\n",
            "  import sys\n",
            "/usr/local/lib/python3.7/dist-packages/ipykernel_launcher.py:8: SettingWithCopyWarning: \n",
            "A value is trying to be set on a copy of a slice from a DataFrame.\n",
            "Try using .loc[row_indexer,col_indexer] = value instead\n",
            "\n",
            "See the caveats in the documentation: https://pandas.pydata.org/pandas-docs/stable/user_guide/indexing.html#returning-a-view-versus-a-copy\n",
            "  \n"
          ],
          "name": "stderr"
        },
        {
          "output_type": "stream",
          "text": [
            "The Score with  -0.22951486382301223\n"
          ],
          "name": "stdout"
        },
        {
          "output_type": "stream",
          "text": [
            "/usr/local/lib/python3.7/dist-packages/sklearn/neural_network/_multilayer_perceptron.py:571: ConvergenceWarning: Stochastic Optimizer: Maximum iterations (2000) reached and the optimization hasn't converged yet.\n",
            "  % self.max_iter, ConvergenceWarning)\n"
          ],
          "name": "stderr"
        }
      ]
    },
    {
      "cell_type": "code",
      "metadata": {
        "colab": {
          "base_uri": "https://localhost:8080/",
          "height": 1000
        },
        "id": "XraOCfQi0tZn",
        "outputId": "c7497b7c-8eb7-4356-c785-5184dd8e8418"
      },
      "source": [
        "out"
      ],
      "execution_count": 31,
      "outputs": [
        {
          "output_type": "execute_result",
          "data": {
            "text/html": [
              "<div>\n",
              "<style scoped>\n",
              "    .dataframe tbody tr th:only-of-type {\n",
              "        vertical-align: middle;\n",
              "    }\n",
              "\n",
              "    .dataframe tbody tr th {\n",
              "        vertical-align: top;\n",
              "    }\n",
              "\n",
              "    .dataframe thead th {\n",
              "        text-align: right;\n",
              "    }\n",
              "</style>\n",
              "<table border=\"1\" class=\"dataframe\">\n",
              "  <thead>\n",
              "    <tr style=\"text-align: right;\">\n",
              "      <th></th>\n",
              "      <th>Ground Truth</th>\n",
              "      <th>Prediction</th>\n",
              "    </tr>\n",
              "  </thead>\n",
              "  <tbody>\n",
              "    <tr>\n",
              "      <th>0</th>\n",
              "      <td>-3.179855</td>\n",
              "      <td>1.344718</td>\n",
              "    </tr>\n",
              "    <tr>\n",
              "      <th>1</th>\n",
              "      <td>-2.607869</td>\n",
              "      <td>0.961288</td>\n",
              "    </tr>\n",
              "    <tr>\n",
              "      <th>2</th>\n",
              "      <td>6.352953</td>\n",
              "      <td>-1.678954</td>\n",
              "    </tr>\n",
              "    <tr>\n",
              "      <th>3</th>\n",
              "      <td>-5.242579</td>\n",
              "      <td>-5.288768</td>\n",
              "    </tr>\n",
              "    <tr>\n",
              "      <th>4</th>\n",
              "      <td>4.369721</td>\n",
              "      <td>0.411636</td>\n",
              "    </tr>\n",
              "    <tr>\n",
              "      <th>5</th>\n",
              "      <td>-2.550264</td>\n",
              "      <td>1.454294</td>\n",
              "    </tr>\n",
              "    <tr>\n",
              "      <th>6</th>\n",
              "      <td>5.004060</td>\n",
              "      <td>1.411856</td>\n",
              "    </tr>\n",
              "    <tr>\n",
              "      <th>7</th>\n",
              "      <td>-1.220303</td>\n",
              "      <td>-4.977093</td>\n",
              "    </tr>\n",
              "    <tr>\n",
              "      <th>8</th>\n",
              "      <td>-6.405386</td>\n",
              "      <td>-3.198584</td>\n",
              "    </tr>\n",
              "    <tr>\n",
              "      <th>9</th>\n",
              "      <td>-7.809624</td>\n",
              "      <td>-9.768319</td>\n",
              "    </tr>\n",
              "    <tr>\n",
              "      <th>10</th>\n",
              "      <td>1.736426</td>\n",
              "      <td>-4.719778</td>\n",
              "    </tr>\n",
              "    <tr>\n",
              "      <th>11</th>\n",
              "      <td>-2.545155</td>\n",
              "      <td>-1.839482</td>\n",
              "    </tr>\n",
              "    <tr>\n",
              "      <th>12</th>\n",
              "      <td>2.382661</td>\n",
              "      <td>-3.028954</td>\n",
              "    </tr>\n",
              "    <tr>\n",
              "      <th>13</th>\n",
              "      <td>2.532398</td>\n",
              "      <td>-0.268290</td>\n",
              "    </tr>\n",
              "    <tr>\n",
              "      <th>14</th>\n",
              "      <td>9.106547</td>\n",
              "      <td>1.634104</td>\n",
              "    </tr>\n",
              "    <tr>\n",
              "      <th>15</th>\n",
              "      <td>-7.393797</td>\n",
              "      <td>-5.108651</td>\n",
              "    </tr>\n",
              "    <tr>\n",
              "      <th>16</th>\n",
              "      <td>-2.215931</td>\n",
              "      <td>-1.595328</td>\n",
              "    </tr>\n",
              "    <tr>\n",
              "      <th>17</th>\n",
              "      <td>2.160352</td>\n",
              "      <td>1.953770</td>\n",
              "    </tr>\n",
              "    <tr>\n",
              "      <th>18</th>\n",
              "      <td>-6.391157</td>\n",
              "      <td>0.359724</td>\n",
              "    </tr>\n",
              "    <tr>\n",
              "      <th>19</th>\n",
              "      <td>-0.606463</td>\n",
              "      <td>-2.276791</td>\n",
              "    </tr>\n",
              "    <tr>\n",
              "      <th>20</th>\n",
              "      <td>8.400968</td>\n",
              "      <td>0.724776</td>\n",
              "    </tr>\n",
              "    <tr>\n",
              "      <th>21</th>\n",
              "      <td>-7.781894</td>\n",
              "      <td>-7.094338</td>\n",
              "    </tr>\n",
              "    <tr>\n",
              "      <th>22</th>\n",
              "      <td>-3.516089</td>\n",
              "      <td>-2.290724</td>\n",
              "    </tr>\n",
              "    <tr>\n",
              "      <th>23</th>\n",
              "      <td>0.080751</td>\n",
              "      <td>-1.095860</td>\n",
              "    </tr>\n",
              "    <tr>\n",
              "      <th>24</th>\n",
              "      <td>9.630453</td>\n",
              "      <td>1.735679</td>\n",
              "    </tr>\n",
              "    <tr>\n",
              "      <th>25</th>\n",
              "      <td>-7.137934</td>\n",
              "      <td>1.904847</td>\n",
              "    </tr>\n",
              "    <tr>\n",
              "      <th>26</th>\n",
              "      <td>-4.373070</td>\n",
              "      <td>-7.841184</td>\n",
              "    </tr>\n",
              "    <tr>\n",
              "      <th>27</th>\n",
              "      <td>-7.673051</td>\n",
              "      <td>-7.263292</td>\n",
              "    </tr>\n",
              "    <tr>\n",
              "      <th>28</th>\n",
              "      <td>-2.118604</td>\n",
              "      <td>2.016041</td>\n",
              "    </tr>\n",
              "    <tr>\n",
              "      <th>29</th>\n",
              "      <td>5.064161</td>\n",
              "      <td>2.016041</td>\n",
              "    </tr>\n",
              "    <tr>\n",
              "      <th>30</th>\n",
              "      <td>-13.245164</td>\n",
              "      <td>-10.191816</td>\n",
              "    </tr>\n",
              "    <tr>\n",
              "      <th>31</th>\n",
              "      <td>0.337526</td>\n",
              "      <td>-7.746276</td>\n",
              "    </tr>\n",
              "    <tr>\n",
              "      <th>32</th>\n",
              "      <td>1.402842</td>\n",
              "      <td>2.016041</td>\n",
              "    </tr>\n",
              "    <tr>\n",
              "      <th>33</th>\n",
              "      <td>-1.524996</td>\n",
              "      <td>-2.879773</td>\n",
              "    </tr>\n",
              "    <tr>\n",
              "      <th>34</th>\n",
              "      <td>-10.278769</td>\n",
              "      <td>-9.945739</td>\n",
              "    </tr>\n",
              "    <tr>\n",
              "      <th>35</th>\n",
              "      <td>3.975070</td>\n",
              "      <td>-2.131803</td>\n",
              "    </tr>\n",
              "    <tr>\n",
              "      <th>36</th>\n",
              "      <td>-2.961514</td>\n",
              "      <td>1.304878</td>\n",
              "    </tr>\n",
              "    <tr>\n",
              "      <th>37</th>\n",
              "      <td>-4.040133</td>\n",
              "      <td>-10.491233</td>\n",
              "    </tr>\n",
              "    <tr>\n",
              "      <th>38</th>\n",
              "      <td>1.463667</td>\n",
              "      <td>1.849430</td>\n",
              "    </tr>\n",
              "    <tr>\n",
              "      <th>39</th>\n",
              "      <td>-3.638473</td>\n",
              "      <td>-7.618557</td>\n",
              "    </tr>\n",
              "  </tbody>\n",
              "</table>\n",
              "</div>"
            ],
            "text/plain": [
              "    Ground Truth  Prediction\n",
              "0      -3.179855    1.344718\n",
              "1      -2.607869    0.961288\n",
              "2       6.352953   -1.678954\n",
              "3      -5.242579   -5.288768\n",
              "4       4.369721    0.411636\n",
              "5      -2.550264    1.454294\n",
              "6       5.004060    1.411856\n",
              "7      -1.220303   -4.977093\n",
              "8      -6.405386   -3.198584\n",
              "9      -7.809624   -9.768319\n",
              "10      1.736426   -4.719778\n",
              "11     -2.545155   -1.839482\n",
              "12      2.382661   -3.028954\n",
              "13      2.532398   -0.268290\n",
              "14      9.106547    1.634104\n",
              "15     -7.393797   -5.108651\n",
              "16     -2.215931   -1.595328\n",
              "17      2.160352    1.953770\n",
              "18     -6.391157    0.359724\n",
              "19     -0.606463   -2.276791\n",
              "20      8.400968    0.724776\n",
              "21     -7.781894   -7.094338\n",
              "22     -3.516089   -2.290724\n",
              "23      0.080751   -1.095860\n",
              "24      9.630453    1.735679\n",
              "25     -7.137934    1.904847\n",
              "26     -4.373070   -7.841184\n",
              "27     -7.673051   -7.263292\n",
              "28     -2.118604    2.016041\n",
              "29      5.064161    2.016041\n",
              "30    -13.245164  -10.191816\n",
              "31      0.337526   -7.746276\n",
              "32      1.402842    2.016041\n",
              "33     -1.524996   -2.879773\n",
              "34    -10.278769   -9.945739\n",
              "35      3.975070   -2.131803\n",
              "36     -2.961514    1.304878\n",
              "37     -4.040133  -10.491233\n",
              "38      1.463667    1.849430\n",
              "39     -3.638473   -7.618557"
            ]
          },
          "metadata": {
            "tags": []
          },
          "execution_count": 31
        }
      ]
    },
    {
      "cell_type": "code",
      "metadata": {
        "id": "hSfPIDH9gUdE",
        "colab": {
          "base_uri": "https://localhost:8080/",
          "height": 334
        },
        "outputId": "9e412b7b-0bf9-4bad-f3a2-fc7ee5d8940c"
      },
      "source": [
        "plt.figure(figsize=(12,5))\n",
        "plt.xlabel('Dates')\n",
        "\n",
        "ax1 = out[\"Prediction\"].plot(color='blue', grid=True)\n",
        "ax2 = out[\"Ground Truth\"].plot(color='red', grid=True)\n",
        "\n",
        "h1, l1 = ax1.get_legend_handles_labels()\n",
        "h2, l2 = ax2.get_legend_handles_labels()\n",
        "\n",
        "plt.legend(h1, l1, loc=2)\n",
        "plt.show()\n"
      ],
      "execution_count": 30,
      "outputs": [
        {
          "output_type": "display_data",
          "data": {
            "image/png": "[encoded data removed]",
            "text/plain": [
              "<Figure size 864x360 with 1 Axes>"
            ]
          },
          "metadata": {
            "tags": [],
            "needs_background": "light"
          }
        }
      ]
    },
    {
      "cell_type": "code",
      "metadata": {
        "id": "ZqXhQ7_36FrB"
      },
      "source": [
        ""
      ],
      "execution_count": null,
      "outputs": []
    },
    {
      "cell_type": "markdown",
      "metadata": {
        "id": "zE-_OIls6GPc"
      },
      "source": [
        "# Test SVM (ToDo: One hot coding and SVM)"
      ]
    },
    {
      "cell_type": "code",
      "metadata": {
        "id": "LDAAwb6X9O3i"
      },
      "source": [
        "# One hot encoding\n",
        "Y.plot()\n",
        "for i,yi in enumerate(Y):\n",
        "  if yi<-2:\n",
        "    Y[i] =0\n",
        "  elif yi<2:\n",
        "    Y[i]=1\n",
        "  else:\n",
        "    Y[i]=2\n",
        "\n",
        "\n",
        "#Y[0]=1\n",
        "print(Y)\n",
        "\n",
        "#print(Y)"
      ],
      "execution_count": null,
      "outputs": []
    },
    {
      "cell_type": "code",
      "metadata": {
        "id": "zXgyOzgE6Ilw"
      },
      "source": [
        "from sklearn import svm\n",
        "\n",
        "clf = svm.SVC()\n",
        "clf.fit(X_train, Y_train)\n",
        "clf.predict(X_test)"
      ],
      "execution_count": null,
      "outputs": []
    },
    {
      "cell_type": "code",
      "metadata": {
        "id": "FyVgfRV96Ix_"
      },
      "source": [
        ""
      ],
      "execution_count": null,
      "outputs": []
    },
    {
      "cell_type": "code",
      "metadata": {
        "id": "z5PrJ9cYgUdE"
      },
      "source": [
        "X = df[40:]\n",
        "X['Monthly Sentiment'] =  X['Monthly Sentiment'].fillna(avg_monthly_sentiment)\n",
        "X['Weekly Sentiment'] = X['Weekly Sentiment'].fillna(avg_week)"
      ],
      "execution_count": null,
      "outputs": []
    },
    {
      "cell_type": "code",
      "metadata": {
        "id": "8Grf3sM1gUdE"
      },
      "source": [
        "Y = gt['Mid Term Change'][40:]"
      ],
      "execution_count": null,
      "outputs": []
    },
    {
      "cell_type": "code",
      "metadata": {
        "id": "ttrd9PWNgUdF"
      },
      "source": [
        "X_train,X_test,y_train,y_test = train_test_split(X,Y,test_size=0.25,random_state=0)"
      ],
      "execution_count": null,
      "outputs": []
    },
    {
      "cell_type": "code",
      "metadata": {
        "id": "hUET12eAgUdF"
      },
      "source": [
        "sc_X = StandardScaler()\n",
        "X_trainscaled=sc_X.fit_transform(X_train)\n",
        "X_testscaled=sc_X.transform(X_test)"
      ],
      "execution_count": null,
      "outputs": []
    },
    {
      "cell_type": "code",
      "metadata": {
        "id": "NmHd_EBkgUdF"
      },
      "source": [
        "reg = MLPRegressor(hidden_layer_sizes=(5,15,5),activation=\"relu\" ,random_state=1, max_iter=2000).fit(X_trainscaled, y_train)"
      ],
      "execution_count": null,
      "outputs": []
    },
    {
      "cell_type": "code",
      "metadata": {
        "id": "qVrJufd5gUdG"
      },
      "source": [
        "y_pred=reg.predict(X_testscaled)\n",
        "print(\"The Score with \", (r2_score(y_pred, y_test)))"
      ],
      "execution_count": null,
      "outputs": []
    },
    {
      "cell_type": "code",
      "metadata": {
        "id": "gc278LYJgUdG"
      },
      "source": [
        ""
      ],
      "execution_count": null,
      "outputs": []
    },
    {
      "cell_type": "code",
      "metadata": {
        "id": "9elDK77rgUdG"
      },
      "source": [
        "y_pred = pd.DataFrame(y_pred)\n",
        "out = pd.concat([y_test.reset_index(drop=True),y_pred.reset_index(drop=True)], axis=1)"
      ],
      "execution_count": null,
      "outputs": []
    },
    {
      "cell_type": "code",
      "metadata": {
        "id": "dLKy-yoQgUdG"
      },
      "source": [
        "out = out.rename(columns={0:\"Prediction\", \"Mid Term Change\":\"Ground Truth\"})"
      ],
      "execution_count": null,
      "outputs": []
    },
    {
      "cell_type": "code",
      "metadata": {
        "id": "DI_-R9g5gUdG"
      },
      "source": [
        "out"
      ],
      "execution_count": null,
      "outputs": []
    },
    {
      "cell_type": "code",
      "metadata": {
        "id": "mE61rA2YgUdG"
      },
      "source": [
        "plt.figure(figsize=(12,5))\n",
        "plt.xlabel('Dates')\n",
        "\n",
        "ax1 = out[\"Prediction\"].plot(color='blue', grid=True)\n",
        "ax2 = out[\"Ground Truth\"].plot(color='red', grid=True)\n",
        "\n",
        "h1, l1 = ax1.get_legend_handles_labels()\n",
        "h2, l2 = ax2.get_legend_handles_labels()\n",
        "\n",
        "plt.legend(h1, l1, loc=2)\n",
        "plt.show()\n"
      ],
      "execution_count": null,
      "outputs": []
    },
    {
      "cell_type": "code",
      "metadata": {
        "id": "6uWYf28qgUdG"
      },
      "source": [
        ""
      ],
      "execution_count": null,
      "outputs": []
    }
  ]
}